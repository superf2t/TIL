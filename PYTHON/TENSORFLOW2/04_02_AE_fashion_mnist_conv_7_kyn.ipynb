{
  "nbformat": 4,
  "nbformat_minor": 0,
  "metadata": {
    "colab": {
      "name": "04_02_AE_fashion_mnist_conv_7_kyn.ipynb",
      "provenance": [],
      "collapsed_sections": [],
      "include_colab_link": true
    },
    "kernelspec": {
      "name": "python3",
      "display_name": "Python 3"
    },
    "accelerator": "GPU"
  },
  "cells": [
    {
      "cell_type": "markdown",
      "metadata": {
        "id": "view-in-github",
        "colab_type": "text"
      },
      "source": [
        "<a href=\"https://colab.research.google.com/github/KwonYN/TIL/blob/master/PYTHON/TENSORFLOW2/04_02_AE_fashion_mnist_conv_7_kyn.ipynb\" target=\"_parent\"><img src=\"https://colab.research.google.com/assets/colab-badge.svg\" alt=\"Open In Colab\"/></a>"
      ]
    },
    {
      "cell_type": "markdown",
      "metadata": {
        "id": "YUbrsmxWf04y",
        "colab_type": "text"
      },
      "source": [
        "# **실습 4-2 :  Convolutional Auto Encoder** \n"
      ]
    },
    {
      "cell_type": "markdown",
      "metadata": {
        "colab_type": "text",
        "id": "JFWfJW4VYPeT"
      },
      "source": [
        "## **Import Module**"
      ]
    },
    {
      "cell_type": "code",
      "metadata": {
        "colab_type": "code",
        "id": "0trJmd6DjqBZ",
        "outputId": "f5337f3c-e585-4e90-883c-cd9ca83c99d2",
        "colab": {
          "base_uri": "https://localhost:8080/",
          "height": 54
        }
      },
      "source": [
        "%tensorflow_version 2.x\n",
        "\n",
        "import numpy as np\n",
        "import matplotlib.pyplot as plt\n",
        "\n",
        "import tensorflow as tf\n",
        "from tensorflow import keras\n",
        "from tensorflow.keras import layers, datasets, models, utils\n",
        "\n",
        "tf.__version__"
      ],
      "execution_count": 0,
      "outputs": [
        {
          "output_type": "stream",
          "text": [
            "TensorFlow 2.x selected.\n"
          ],
          "name": "stdout"
        },
        {
          "output_type": "execute_result",
          "data": {
            "text/plain": [
              "'2.0.0'"
            ]
          },
          "metadata": {
            "tags": []
          },
          "execution_count": 1
        }
      ]
    },
    {
      "cell_type": "markdown",
      "metadata": {
        "id": "wOiaPQ3xgJQC",
        "colab_type": "text"
      },
      "source": [
        "## **DataSet**"
      ]
    },
    {
      "cell_type": "markdown",
      "metadata": {
        "id": "LdqiGjFmRy0Q",
        "colab_type": "text"
      },
      "source": [
        "### Options"
      ]
    },
    {
      "cell_type": "code",
      "metadata": {
        "id": "5A1r7lieRtpp",
        "colab_type": "code",
        "colab": {}
      },
      "source": [
        "#options\n",
        "#select dataset : fashion_mnist or mnist\n",
        "fashion_mnist_on = True     #Fashion MNIST \n",
        "#fashion_mnist_on = False   # MNIST\n",
        "\n",
        "#select noise on/off : on 시 denoising  \n",
        "#noise_on = True            # DAE\n",
        "noise_on = False            # AE\n"
      ],
      "execution_count": 0,
      "outputs": []
    },
    {
      "cell_type": "markdown",
      "metadata": {
        "id": "aD28IHuegUxp",
        "colab_type": "text"
      },
      "source": [
        "### Load"
      ]
    },
    {
      "cell_type": "code",
      "metadata": {
        "id": "cC8AS287Hz-9",
        "colab_type": "code",
        "outputId": "5f1f64a3-a6e8-417f-b279-4caa8c21b58b",
        "colab": {
          "base_uri": "https://localhost:8080/",
          "height": 163
        }
      },
      "source": [
        "if fashion_mnist_on :\n",
        "  (x_train, y_train), (x_test, y_test) = datasets.fashion_mnist.load_data()\n",
        "else :\n",
        "  (x_train, y_train), (x_test, y_test) = datasets.mnist.load_data()"
      ],
      "execution_count": 0,
      "outputs": [
        {
          "output_type": "stream",
          "text": [
            "Downloading data from https://storage.googleapis.com/tensorflow/tf-keras-datasets/train-labels-idx1-ubyte.gz\n",
            "32768/29515 [=================================] - 0s 0us/step\n",
            "Downloading data from https://storage.googleapis.com/tensorflow/tf-keras-datasets/train-images-idx3-ubyte.gz\n",
            "26427392/26421880 [==============================] - 0s 0us/step\n",
            "Downloading data from https://storage.googleapis.com/tensorflow/tf-keras-datasets/t10k-labels-idx1-ubyte.gz\n",
            "8192/5148 [===============================================] - 0s 0us/step\n",
            "Downloading data from https://storage.googleapis.com/tensorflow/tf-keras-datasets/t10k-images-idx3-ubyte.gz\n",
            "4423680/4422102 [==============================] - 0s 0us/step\n"
          ],
          "name": "stdout"
        }
      ]
    },
    {
      "cell_type": "markdown",
      "metadata": {
        "id": "O0oDy0CggOEm",
        "colab_type": "text"
      },
      "source": [
        "### Preprocessing"
      ]
    },
    {
      "cell_type": "code",
      "metadata": {
        "id": "R7d2RtBMDI6a",
        "colab_type": "code",
        "outputId": "f0605cd2-8b23-49b8-f182-693f5f5e8633",
        "colab": {
          "base_uri": "https://localhost:8080/",
          "height": 54
        }
      },
      "source": [
        "# Normalize pixel values\n",
        "x_train, x_test = x_train/255., x_test/255.\n",
        "\n",
        "# (60000,784) <- (60000,28,28) : for noise adding\n",
        "x_train = x_train.reshape((len(x_train), 784))\n",
        "x_test = x_test.reshape((len(x_test), 784))\n",
        "\n",
        "if noise_on : \n",
        "  # add noise\n",
        "  x_train = x_train + 0.1*np.random.randn(x_train.shape[0], 784)\n",
        "  x_test = x_test + 0.1*np.random.randn(x_test.shape[0], 784)\n",
        "  print(\"Noisy Data Selected\")\n",
        "\n",
        "# (60000,28,28,1) <- (60000,784)\n",
        "x_train = np.reshape(x_train, (len(x_train), 28, 28, 1))  # [bs H W C]\n",
        "x_test = np.reshape(x_test, (len(x_test), 28, 28, 1))     # [bs H W C]\n",
        "\n",
        "# Print out the shape\n",
        "print(x_train.shape)\n",
        "print(x_test.shape)"
      ],
      "execution_count": 0,
      "outputs": [
        {
          "output_type": "stream",
          "text": [
            "(60000, 28, 28, 1)\n",
            "(10000, 28, 28, 1)\n"
          ],
          "name": "stdout"
        }
      ]
    },
    {
      "cell_type": "markdown",
      "metadata": {
        "id": "EY3zfzjlgbYj",
        "colab_type": "text"
      },
      "source": [
        "## **Model**"
      ]
    },
    {
      "cell_type": "markdown",
      "metadata": {
        "id": "PUqUyRtngdUC",
        "colab_type": "text"
      },
      "source": [
        "### Define"
      ]
    },
    {
      "cell_type": "code",
      "metadata": {
        "id": "DGnO0NygDI6M",
        "colab_type": "code",
        "colab": {}
      },
      "source": [
        "### Functional API ###\n",
        "# Input placeholder\n",
        "i_input = keras.layers.Input(shape=(28, 28, 1)) \n",
        "\n",
        "# encoder\n",
        "x = layers.Conv2D(32, (3, 3), activation='relu', padding='same')(i_input) #<-(28,28,1)\n",
        "x = layers.MaxPooling2D((2, 2), padding='same')(x)       #(14,14,32)<-(28,28,32)\n",
        "x = layers.Conv2D(16, (3, 3), activation='relu', padding='same')(x)\n",
        "x = layers.MaxPooling2D((2, 2), padding='same')(x)       #(7,7,16)<-(14,14,16)\n",
        "x = layers.BatchNormalization()(x)\n",
        "x = layers.Conv2D(8, (3, 3), activation='relu', padding='same')(x)\n",
        "encoded = layers.MaxPooling2D((2, 2), padding='same')(x) #(4,4,8)<-(7,7,8) \n",
        "\n",
        "# decoder\n",
        "x = layers.Conv2D(8, (3, 3), activation='relu', padding='same')(encoded)\n",
        "x = layers.UpSampling2D((2, 2))(x)                       #(7,7,8)<-(4,4,8)\n",
        "x = layers.Conv2D(16, (3, 3), activation='relu', padding='same')(x)\n",
        "x = layers.UpSampling2D((2, 2))(x)                       #(14,14,16)<-(7,7,16)\n",
        "x = layers.BatchNormalization()(x)\n",
        "x = layers.Conv2D(32, (3, 3), activation='relu')(x)\n",
        "x = layers.UpSampling2D((2, 2))(x)                       #(28,28,32)<-(14,14,32)\n",
        "decoded = layers.Conv2D(1, (3, 3), activation='sigmoid', padding='same')(x)\n",
        "                                                         #(28,28,1)<-(28,28,32)"
      ],
      "execution_count": 0,
      "outputs": []
    },
    {
      "cell_type": "code",
      "metadata": {
        "id": "AA7IGA2nZwhf",
        "colab_type": "code",
        "outputId": "b07cfa04-78e8-4a6b-d824-3de7090d8d43",
        "colab": {
          "base_uri": "https://localhost:8080/",
          "height": 745
        }
      },
      "source": [
        "# This autoencoder will map input to reconstructed output\n",
        "autoencoder = models.Model(inputs=i_input, outputs=decoded)\n",
        "\n",
        "autoencoder.summary()"
      ],
      "execution_count": 0,
      "outputs": [
        {
          "output_type": "stream",
          "text": [
            "Model: \"model\"\n",
            "_________________________________________________________________\n",
            "Layer (type)                 Output Shape              Param #   \n",
            "=================================================================\n",
            "input_1 (InputLayer)         [(None, 28, 28, 1)]       0         \n",
            "_________________________________________________________________\n",
            "conv2d (Conv2D)              (None, 28, 28, 32)        320       \n",
            "_________________________________________________________________\n",
            "max_pooling2d (MaxPooling2D) (None, 14, 14, 32)        0         \n",
            "_________________________________________________________________\n",
            "conv2d_1 (Conv2D)            (None, 14, 14, 16)        4624      \n",
            "_________________________________________________________________\n",
            "max_pooling2d_1 (MaxPooling2 (None, 7, 7, 16)          0         \n",
            "_________________________________________________________________\n",
            "batch_normalization (BatchNo (None, 7, 7, 16)          64        \n",
            "_________________________________________________________________\n",
            "conv2d_2 (Conv2D)            (None, 7, 7, 8)           1160      \n",
            "_________________________________________________________________\n",
            "max_pooling2d_2 (MaxPooling2 (None, 4, 4, 8)           0         \n",
            "_________________________________________________________________\n",
            "conv2d_3 (Conv2D)            (None, 4, 4, 8)           584       \n",
            "_________________________________________________________________\n",
            "up_sampling2d (UpSampling2D) (None, 8, 8, 8)           0         \n",
            "_________________________________________________________________\n",
            "conv2d_4 (Conv2D)            (None, 8, 8, 16)          1168      \n",
            "_________________________________________________________________\n",
            "up_sampling2d_1 (UpSampling2 (None, 16, 16, 16)        0         \n",
            "_________________________________________________________________\n",
            "batch_normalization_1 (Batch (None, 16, 16, 16)        64        \n",
            "_________________________________________________________________\n",
            "conv2d_5 (Conv2D)            (None, 14, 14, 32)        4640      \n",
            "_________________________________________________________________\n",
            "up_sampling2d_2 (UpSampling2 (None, 28, 28, 32)        0         \n",
            "_________________________________________________________________\n",
            "conv2d_6 (Conv2D)            (None, 28, 28, 1)         289       \n",
            "=================================================================\n",
            "Total params: 12,913\n",
            "Trainable params: 12,849\n",
            "Non-trainable params: 64\n",
            "_________________________________________________________________\n"
          ],
          "name": "stdout"
        }
      ]
    },
    {
      "cell_type": "markdown",
      "metadata": {
        "id": "fDzK6pGTV1c2",
        "colab_type": "text"
      },
      "source": [
        "### Compile"
      ]
    },
    {
      "cell_type": "code",
      "metadata": {
        "id": "vCAvqXiiDI6X",
        "colab_type": "code",
        "colab": {}
      },
      "source": [
        "# Select optimizer and loss function\n",
        "autoencoder.compile(optimizer='rmsprop', loss='mse')\n",
        "\n",
        "epoch_list = [30, 64, 100, 128, 200, 256]"
      ],
      "execution_count": 0,
      "outputs": []
    },
    {
      "cell_type": "markdown",
      "metadata": {
        "id": "n9BG8hNUgo0n",
        "colab_type": "text"
      },
      "source": [
        "### Fit"
      ]
    },
    {
      "cell_type": "markdown",
      "metadata": {
        "id": "7KbIreYLd6gj",
        "colab_type": "text"
      },
      "source": [
        "Epoch 10/10\n",
        "60000/60000 [==============================] - 6s 106us/sample - loss: 0.0275 - val_loss: 0.0274\n",
        "CPU times: user 52.4 s, sys: 9.23 s, total: 1min 1s\n",
        "\n",
        "Wall time: 1min (@Notebook Setting/GPU)"
      ]
    },
    {
      "cell_type": "code",
      "metadata": {
        "id": "-_idMKYwKVqX",
        "colab_type": "code",
        "outputId": "26d99b4b-4e6a-429e-f4bb-476bd82cf6a9",
        "colab": {
          "base_uri": "https://localhost:8080/",
          "height": 1000
        }
      },
      "source": [
        "%%time\n",
        "history=autoencoder.fit(x_train, x_train,\n",
        "                epochs=256,\n",
        "                batch_size=128,\n",
        "                validation_data=(x_test, x_test))"
      ],
      "execution_count": 0,
      "outputs": [
        {
          "output_type": "stream",
          "text": [
            "Train on 60000 samples, validate on 10000 samples\n",
            "Epoch 1/30\n",
            "60000/60000 [==============================] - 10s 160us/sample - loss: 0.0255 - val_loss: 0.0225\n",
            "Epoch 2/30\n",
            "60000/60000 [==============================] - 4s 72us/sample - loss: 0.0176 - val_loss: 0.0158\n",
            "Epoch 3/30\n",
            "60000/60000 [==============================] - 4s 70us/sample - loss: 0.0157 - val_loss: 0.0167\n",
            "Epoch 4/30\n",
            "60000/60000 [==============================] - 4s 67us/sample - loss: 0.0146 - val_loss: 0.0168\n",
            "Epoch 5/30\n",
            "60000/60000 [==============================] - 4s 70us/sample - loss: 0.0138 - val_loss: 0.0134\n",
            "Epoch 6/30\n",
            "60000/60000 [==============================] - 4s 72us/sample - loss: 0.0133 - val_loss: 0.0130\n",
            "Epoch 7/30\n",
            "60000/60000 [==============================] - 4s 71us/sample - loss: 0.0128 - val_loss: 0.0141\n",
            "Epoch 8/30\n",
            "60000/60000 [==============================] - 4s 71us/sample - loss: 0.0125 - val_loss: 0.0131\n",
            "Epoch 9/30\n",
            "60000/60000 [==============================] - 4s 70us/sample - loss: 0.0122 - val_loss: 0.0126\n",
            "Epoch 10/30\n",
            "60000/60000 [==============================] - 4s 72us/sample - loss: 0.0120 - val_loss: 0.0120\n",
            "Epoch 11/30\n",
            "60000/60000 [==============================] - 4s 72us/sample - loss: 0.0117 - val_loss: 0.0130\n",
            "Epoch 12/30\n",
            "60000/60000 [==============================] - 4s 70us/sample - loss: 0.0115 - val_loss: 0.0129\n",
            "Epoch 13/30\n",
            "60000/60000 [==============================] - 4s 69us/sample - loss: 0.0114 - val_loss: 0.0137\n",
            "Epoch 14/30\n",
            "60000/60000 [==============================] - 4s 70us/sample - loss: 0.0112 - val_loss: 0.0139\n",
            "Epoch 15/30\n",
            "60000/60000 [==============================] - 4s 70us/sample - loss: 0.0111 - val_loss: 0.0113\n",
            "Epoch 16/30\n",
            "60000/60000 [==============================] - 4s 71us/sample - loss: 0.0110 - val_loss: 0.0115\n",
            "Epoch 17/30\n",
            "60000/60000 [==============================] - 4s 69us/sample - loss: 0.0108 - val_loss: 0.0107\n",
            "Epoch 18/30\n",
            "60000/60000 [==============================] - 4s 70us/sample - loss: 0.0107 - val_loss: 0.0113\n",
            "Epoch 19/30\n",
            "60000/60000 [==============================] - 4s 72us/sample - loss: 0.0106 - val_loss: 0.0111\n",
            "Epoch 20/30\n",
            "60000/60000 [==============================] - 4s 70us/sample - loss: 0.0105 - val_loss: 0.0109\n",
            "Epoch 21/30\n",
            "60000/60000 [==============================] - 4s 67us/sample - loss: 0.0104 - val_loss: 0.0106\n",
            "Epoch 22/30\n",
            "60000/60000 [==============================] - 4s 72us/sample - loss: 0.0104 - val_loss: 0.0110\n",
            "Epoch 23/30\n",
            "60000/60000 [==============================] - 4s 72us/sample - loss: 0.0103 - val_loss: 0.0110\n",
            "Epoch 24/30\n",
            "60000/60000 [==============================] - 4s 72us/sample - loss: 0.0102 - val_loss: 0.0100\n",
            "Epoch 25/30\n",
            "60000/60000 [==============================] - 4s 72us/sample - loss: 0.0101 - val_loss: 0.0103\n",
            "Epoch 26/30\n",
            "60000/60000 [==============================] - 4s 69us/sample - loss: 0.0101 - val_loss: 0.0106\n",
            "Epoch 27/30\n",
            "60000/60000 [==============================] - 4s 74us/sample - loss: 0.0100 - val_loss: 0.0105\n",
            "Epoch 28/30\n",
            "60000/60000 [==============================] - 4s 69us/sample - loss: 0.0099 - val_loss: 0.0101\n",
            "Epoch 29/30\n",
            "60000/60000 [==============================] - 4s 70us/sample - loss: 0.0099 - val_loss: 0.0097\n",
            "Epoch 30/30\n",
            "60000/60000 [==============================] - 4s 72us/sample - loss: 0.0098 - val_loss: 0.0114\n",
            "CPU times: user 2min 25s, sys: 10.3 s, total: 2min 35s\n",
            "Wall time: 2min 12s\n"
          ],
          "name": "stdout"
        }
      ]
    },
    {
      "cell_type": "markdown",
      "metadata": {
        "id": "m4kAr8XNg2nc",
        "colab_type": "text"
      },
      "source": [
        "### Predict"
      ]
    },
    {
      "cell_type": "code",
      "metadata": {
        "id": "OFq9I4aCDI6k",
        "colab_type": "code",
        "outputId": "521e3866-ce04-43cc-8639-56f151661953",
        "colab": {
          "base_uri": "https://localhost:8080/",
          "height": 364
        }
      },
      "source": [
        "decoded_imgs = autoencoder.predict(x_test)\n",
        "\n",
        "# Plot\n",
        "plt.figure(figsize=(22, 6))\n",
        "\n",
        "num_imgs = 9\n",
        "\n",
        "for i in range(num_imgs):                        \n",
        "    # display original\n",
        "    ax = plt.subplot(2, num_imgs, i + 1)\n",
        "    true_img = x_test[i].reshape(28, 28)\n",
        "    plt.imshow(true_img, cmap='gray')\n",
        "\n",
        "    # display reconstruction \n",
        "    ax = plt.subplot(2, num_imgs, i + 1 + num_imgs)\n",
        "    reconstructed_img = decoded_imgs[i].reshape(28,28)\n",
        "    plt.imshow(reconstructed_img)#, cmap='gray')\n",
        "\n",
        "plt.show()"
      ],
      "execution_count": 0,
      "outputs": [
        {
          "output_type": "display_data",
          "data": {
            "image/png": "[encoded data removed]",
            "text/plain": [
              "<Figure size 1584x432 with 18 Axes>"
            ]
          },
          "metadata": {
            "tags": []
          }
        }
      ]
    },
    {
      "cell_type": "markdown",
      "metadata": {
        "id": "v7Bf90ATg98K",
        "colab_type": "text"
      },
      "source": [
        "## **Analysis**"
      ]
    },
    {
      "cell_type": "markdown",
      "metadata": {
        "id": "VcGTERphhBNs",
        "colab_type": "text"
      },
      "source": [
        "### Plot"
      ]
    },
    {
      "cell_type": "code",
      "metadata": {
        "id": "f-dC_b4IbGMr",
        "colab_type": "code",
        "outputId": "73e2c87f-36f6-4142-950b-415e30306c10",
        "colab": {
          "base_uri": "https://localhost:8080/",
          "height": 295
        }
      },
      "source": [
        "loss = history.history['loss']\n",
        "epochs = range(1, len(loss)+1)\n",
        "\n",
        "plt.title('Loss')\n",
        "plt.plot(epochs, history.history['loss'], 'b', label='train_loss')\n",
        "plt.plot(epochs, history.history['val_loss'], 'g', label='val_loss')\n",
        "#plt.ylim([0,0.5])\n",
        "plt.grid(True)\n",
        "plt.xlabel('Epoch')\n",
        "plt.ylabel('Loss')\n",
        "plt.legend(loc='best')\n",
        "plt.show()"
      ],
      "execution_count": 0,
      "outputs": [
        {
          "output_type": "display_data",
          "data": {
            "image/png": "[encoded data removed]",
            "text/plain": [
              "<Figure size 432x288 with 1 Axes>"
            ]
          },
          "metadata": {
            "tags": []
          }
        }
      ]
    },
    {
      "cell_type": "markdown",
      "metadata": {
        "id": "GnaUZbi_hIHw",
        "colab_type": "text"
      },
      "source": [
        "## **실습 과제**"
      ]
    },
    {
      "cell_type": "markdown",
      "metadata": {
        "colab_type": "text",
        "id": "GkmsI80kdCeE"
      },
      "source": [
        "### 과제 1. Data set에 noise 가 추가 되는 경우 어떻게 동작하는지 확인해 보자\n",
        "#### -- dataset을 읽어 오는 cell 에서 \"noise_on = False\" 를 \"True\"로 변경\n",
        "#### -- Noisy data로 다시 학습하여 결과를 확인하자\n",
        "#### -- dataset을 변경하고 결과를 확인하자\n"
      ]
    },
    {
      "cell_type": "markdown",
      "metadata": {
        "id": "07YM3eLIWxSY",
        "colab_type": "text"
      },
      "source": [
        "### 과제 2. just fitting을 위해 Batch_size와 Epoch를 최적화 해보자\n",
        "#### -- 최적화 이전의 Decoded영상과 최적화 이후 영상을 비교해 보자\n",
        "#### -- 최적 값은 얼마인가, 최저의 val_loss 값을 적자 :\n",
        "#### -- 두개의 영상을 첨부하라 :  \n",
        "\n"
      ]
    }
  ]
}