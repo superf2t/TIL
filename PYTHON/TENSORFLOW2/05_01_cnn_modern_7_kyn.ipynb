{
  "nbformat": 4,
  "nbformat_minor": 0,
  "metadata": {
    "colab": {
      "name": "05_01_cnn_modern_7_kyn.ipynb",
      "provenance": [],
      "collapsed_sections": [],
      "include_colab_link": true
    },
    "kernelspec": {
      "name": "python3",
      "display_name": "Python 3"
    },
    "accelerator": "GPU"
  },
  "cells": [
    {
      "cell_type": "markdown",
      "metadata": {
        "id": "view-in-github",
        "colab_type": "text"
      },
      "source": [
        "<a href=\"https://colab.research.google.com/github/KwonYN/TIL/blob/master/PYTHON/TENSORFLOW2/05_01_cnn_modern_7_kyn.ipynb\" target=\"_parent\"><img src=\"https://colab.research.google.com/assets/colab-badge.svg\" alt=\"Open In Colab\"/></a>"
      ]
    },
    {
      "cell_type": "markdown",
      "metadata": {
        "id": "YUbrsmxWf04y",
        "colab_type": "text"
      },
      "source": [
        "# ***실습 5-1 : Modern CNN***"
      ]
    },
    {
      "cell_type": "markdown",
      "metadata": {
        "id": "CfwO3tnWf_nY",
        "colab_type": "text"
      },
      "source": [
        "## ***Import Module***"
      ]
    },
    {
      "cell_type": "code",
      "metadata": {
        "colab_type": "code",
        "id": "0trJmd6DjqBZ",
        "outputId": "0d5429ea-7cc4-4ce8-b06b-652b13fc09e5",
        "colab": {
          "base_uri": "https://localhost:8080/",
          "height": 71
        }
      },
      "source": [
        "%tensorflow_version 2.x\n",
        "\n",
        "import tensorflow as tf\n",
        "import matplotlib.pyplot as plt\n",
        "\n",
        "from tensorflow.keras.layers import Dense, Flatten, Conv2D\n",
        "from tensorflow.keras.layers import MaxPool2D, MaxPool1D\n",
        "from tensorflow.keras.layers import Dropout, BatchNormalization\n",
        "from tensorflow.keras import Model\n",
        "\n",
        "print(\"Module Loaded.\")\n",
        "print(\"TensorFlow Version :{}\".format(tf.__version__))"
      ],
      "execution_count": 0,
      "outputs": [
        {
          "output_type": "stream",
          "text": [
            "TensorFlow 2.x selected.\n",
            "Module Loaded.\n",
            "TensorFlow Version :2.0.0\n"
          ],
          "name": "stdout"
        }
      ]
    },
    {
      "cell_type": "code",
      "metadata": {
        "id": "72aoE7QIW8Dc",
        "colab_type": "code",
        "colab": {}
      },
      "source": [
        "# reset of notebook state\n",
        "tf.keras.backend.clear_session() "
      ],
      "execution_count": 0,
      "outputs": []
    },
    {
      "cell_type": "markdown",
      "metadata": {
        "id": "wOiaPQ3xgJQC",
        "colab_type": "text"
      },
      "source": [
        "## ***DataSet***"
      ]
    },
    {
      "cell_type": "markdown",
      "metadata": {
        "id": "U8yh3kv1gR8r",
        "colab_type": "text"
      },
      "source": [
        "### *Load*"
      ]
    },
    {
      "cell_type": "code",
      "metadata": {
        "colab_type": "code",
        "id": "7FP5258xjs-v",
        "outputId": "9192bde9-95bc-40c0-ded3-e3fb6599c39b",
        "colab": {
          "base_uri": "https://localhost:8080/",
          "height": 35
        }
      },
      "source": [
        "#data_set = tf.keras.datasets.mnist\n",
        "#data_set = tf.keras.datasets.fashion_mnist\n",
        "data_set = tf.keras.datasets.cifar10\n",
        "\n",
        "(x_train, y_train), (x_test, y_test) = data_set.load_data()\n",
        "x_train, x_test = x_train / 255.0, x_test / 255.0\n",
        "\n",
        "x_train.shape, x_test.shape, y_train.shape, y_test.shape"
      ],
      "execution_count": 0,
      "outputs": [
        {
          "output_type": "execute_result",
          "data": {
            "text/plain": [
              "((50000, 32, 32, 3), (10000, 32, 32, 3), (50000, 1), (10000, 1))"
            ]
          },
          "metadata": {
            "tags": []
          },
          "execution_count": 3
        }
      ]
    },
    {
      "cell_type": "markdown",
      "metadata": {
        "id": "O0oDy0CggOEm",
        "colab_type": "text"
      },
      "source": [
        "### *Preprocessing*"
      ]
    },
    {
      "cell_type": "code",
      "metadata": {
        "id": "p0gD96iQbpFp",
        "colab_type": "code",
        "outputId": "5e83e77b-cf47-47fe-b4bc-1b7f18a4ff27",
        "colab": {
          "base_uri": "https://localhost:8080/",
          "height": 35
        }
      },
      "source": [
        "# Add a channels dimension for MNIST dataset: (28,28)\n",
        "#x_train = x_train[..., tf.newaxis]\n",
        "#x_test = x_test[..., tf.newaxis]\n",
        "\n",
        "# Converts class vectors to binary class matrices.\n",
        "y_train = tf.keras.utils.to_categorical(y_train, 10)\n",
        "y_test = tf.keras.utils.to_categorical(y_test, 10)\n",
        "\n",
        "x_train.shape, x_test.shape, y_train.shape, y_test.shape"
      ],
      "execution_count": 0,
      "outputs": [
        {
          "output_type": "execute_result",
          "data": {
            "text/plain": [
              "((50000, 32, 32, 3), (10000, 32, 32, 3), (50000, 10), (10000, 10))"
            ]
          },
          "metadata": {
            "tags": []
          },
          "execution_count": 4
        }
      ]
    },
    {
      "cell_type": "markdown",
      "metadata": {
        "id": "EY3zfzjlgbYj",
        "colab_type": "text"
      },
      "source": [
        "## ***Model***"
      ]
    },
    {
      "cell_type": "markdown",
      "metadata": {
        "id": "PUqUyRtngdUC",
        "colab_type": "text"
      },
      "source": [
        "### *Define*"
      ]
    },
    {
      "cell_type": "markdown",
      "metadata": {
        "id": "0Mvz8Gu6lrkf",
        "colab_type": "text"
      },
      "source": [
        "### Model_A define: Dropout 사용 model"
      ]
    },
    {
      "cell_type": "code",
      "metadata": {
        "colab_type": "code",
        "id": "txF_6kHF71Tr",
        "outputId": "209b35dc-67d5-4e22-8151-56bead31421c",
        "colab": {
          "base_uri": "https://localhost:8080/",
          "height": 485
        }
      },
      "source": [
        "def model_cnn_basic():\n",
        "  model = tf.keras.models.Sequential()\n",
        "  # conv 1\n",
        "  model.add(Conv2D(64,3,padding='same',activation='relu',input_shape=(32,32,3)))\n",
        "  model.add(MaxPool2D(pool_size=(2,2), strides=(2,2)))\n",
        "\n",
        "  # conv 2\n",
        "  model.add(Conv2D(128, 3, padding='same', activation='relu'))\n",
        "  model.add(MaxPool2D(pool_size=(2,2), strides=(2,2)))\n",
        "\n",
        "  # conv 3\n",
        "  model.add(Conv2D(256, 3, padding='same', activation='relu'))\n",
        "  model.add(MaxPool2D(pool_size=(2,2), strides=(2,2)))\n",
        "  \n",
        "  # Dense layers\n",
        "  model.add(Flatten(name='flatten'))\n",
        "  model.add(Dense(1000, activation='relu',name='dense_256'))\n",
        "  model.add(Dense(10, activation='softmax', name='dense_10'))\n",
        "\n",
        "  return model\n",
        "\n",
        "model_basic = model_cnn_basic()\n",
        "\n",
        "model_basic.summary()"
      ],
      "execution_count": 0,
      "outputs": [
        {
          "output_type": "stream",
          "text": [
            "Model: \"sequential\"\n",
            "_________________________________________________________________\n",
            "Layer (type)                 Output Shape              Param #   \n",
            "=================================================================\n",
            "conv2d (Conv2D)              (None, 32, 32, 64)        1792      \n",
            "_________________________________________________________________\n",
            "max_pooling2d (MaxPooling2D) (None, 16, 16, 64)        0         \n",
            "_________________________________________________________________\n",
            "conv2d_1 (Conv2D)            (None, 16, 16, 128)       73856     \n",
            "_________________________________________________________________\n",
            "max_pooling2d_1 (MaxPooling2 (None, 8, 8, 128)         0         \n",
            "_________________________________________________________________\n",
            "conv2d_2 (Conv2D)            (None, 8, 8, 256)         295168    \n",
            "_________________________________________________________________\n",
            "max_pooling2d_2 (MaxPooling2 (None, 4, 4, 256)         0         \n",
            "_________________________________________________________________\n",
            "flatten (Flatten)            (None, 4096)              0         \n",
            "_________________________________________________________________\n",
            "dense_256 (Dense)            (None, 1000)              4097000   \n",
            "_________________________________________________________________\n",
            "dense_10 (Dense)             (None, 10)                10010     \n",
            "=================================================================\n",
            "Total params: 4,477,826\n",
            "Trainable params: 4,477,826\n",
            "Non-trainable params: 0\n",
            "_________________________________________________________________\n"
          ],
          "name": "stdout"
        }
      ]
    },
    {
      "cell_type": "code",
      "metadata": {
        "colab_type": "code",
        "id": "wwrqskp8ZRA2",
        "outputId": "5c1a4f17-3b4f-4058-92a3-d90f516aee73",
        "colab": {
          "base_uri": "https://localhost:8080/",
          "height": 629
        }
      },
      "source": [
        "def model_cnn_dropout():\n",
        "  model = tf.keras.models.Sequential()\n",
        "  # conv 1\n",
        "  model.add(Conv2D(64,3,padding='same',activation='relu',input_shape=(32,32,3)))\n",
        "  model.add(Dropout(rate=0.2))                          #  DO1\n",
        "  model.add(MaxPool2D(pool_size=(2,2), strides=(2,2)))\n",
        "\n",
        "  # conv 2\n",
        "  model.add(Conv2D(128, 3, padding='same', activation='relu'))\n",
        "  model.add(Conv2D(128, 3, padding='same', activation='relu'))\n",
        "  model.add(Dropout(rate=0.2))                          # DO2\n",
        "  model.add(MaxPool2D(pool_size=(2,2), strides=(2,2)))\n",
        "\n",
        "  # conv 3\n",
        "  model.add(Conv2D(256, 3, padding='same', activation='relu'))\n",
        "  model.add(Dropout(rate=0.2))                           # DO3\n",
        "  model.add(MaxPool2D(pool_size=(2,2), strides=(2,2)))\n",
        "  \n",
        "  # dense layers\n",
        "  model.add(Flatten(name='flatten'))\n",
        "  model.add(Dense(1000, activation='relu',name='dense_256'))\n",
        "  model.add(Dense(10, activation='softmax', name='dense_10'))\n",
        "\n",
        "  return model\n",
        "\n",
        "model_DO = model_cnn_dropout()\n",
        "\n",
        "model_DO.summary()"
      ],
      "execution_count": 0,
      "outputs": [
        {
          "output_type": "stream",
          "text": [
            "Model: \"sequential_1\"\n",
            "_________________________________________________________________\n",
            "Layer (type)                 Output Shape              Param #   \n",
            "=================================================================\n",
            "conv2d_3 (Conv2D)            (None, 32, 32, 64)        1792      \n",
            "_________________________________________________________________\n",
            "dropout (Dropout)            (None, 32, 32, 64)        0         \n",
            "_________________________________________________________________\n",
            "max_pooling2d_3 (MaxPooling2 (None, 16, 16, 64)        0         \n",
            "_________________________________________________________________\n",
            "conv2d_4 (Conv2D)            (None, 16, 16, 128)       73856     \n",
            "_________________________________________________________________\n",
            "conv2d_5 (Conv2D)            (None, 16, 16, 128)       147584    \n",
            "_________________________________________________________________\n",
            "dropout_1 (Dropout)          (None, 16, 16, 128)       0         \n",
            "_________________________________________________________________\n",
            "max_pooling2d_4 (MaxPooling2 (None, 8, 8, 128)         0         \n",
            "_________________________________________________________________\n",
            "conv2d_6 (Conv2D)            (None, 8, 8, 256)         295168    \n",
            "_________________________________________________________________\n",
            "dropout_2 (Dropout)          (None, 8, 8, 256)         0         \n",
            "_________________________________________________________________\n",
            "max_pooling2d_5 (MaxPooling2 (None, 4, 4, 256)         0         \n",
            "_________________________________________________________________\n",
            "flatten (Flatten)            (None, 4096)              0         \n",
            "_________________________________________________________________\n",
            "dense_256 (Dense)            (None, 1000)              4097000   \n",
            "_________________________________________________________________\n",
            "dense_10 (Dense)             (None, 10)                10010     \n",
            "=================================================================\n",
            "Total params: 4,625,410\n",
            "Trainable params: 4,625,410\n",
            "Non-trainable params: 0\n",
            "_________________________________________________________________\n"
          ],
          "name": "stdout"
        }
      ]
    },
    {
      "cell_type": "markdown",
      "metadata": {
        "id": "zaF3AiENl7aS",
        "colab_type": "text"
      },
      "source": [
        "### Model_B define: Batch Normalization 사용 model"
      ]
    },
    {
      "cell_type": "code",
      "metadata": {
        "id": "FNUgJxiHeL9x",
        "colab_type": "code",
        "outputId": "a0ac7ea5-0043-4400-e34f-eeebd09c8db3",
        "colab": {
          "base_uri": "https://localhost:8080/",
          "height": 629
        }
      },
      "source": [
        "def model_cnn_batchnormal():\n",
        "  model = tf.keras.models.Sequential()\n",
        "  # conv 1\n",
        "  model.add(Conv2D(64,3,padding='same',activation='relu',input_shape=(32,32,3))) \n",
        "  model.add(BatchNormalization())             # BN1\n",
        "  model.add(MaxPool2D(pool_size=(2,2), strides=(2,2)))\n",
        "\n",
        "  # conv 2\n",
        "  model.add(Conv2D(128, 3, padding='same', activation='relu'))\n",
        "  model.add(Conv2D(128, 3, padding='same', activation='relu'))\n",
        "  model.add(BatchNormalization())             # BN2\n",
        "  model.add(MaxPool2D(pool_size=(2,2), strides=(2,2)))\n",
        "\n",
        "  # conv 3\n",
        "  model.add(Conv2D(256, 3, padding='same', activation='relu')) \n",
        "  model.add(BatchNormalization())             # BN3\n",
        "  model.add(MaxPool2D(pool_size=(2,2), strides=(2,2)))\n",
        "  \n",
        "  # dense layers\n",
        "  model.add(Flatten(name='flatten'))\n",
        "  model.add(Dense(1000, activation='relu',name='dense_256'))\n",
        "  model.add(Dense(10, activation='softmax', name='dense_10'))\n",
        "\n",
        "  return model\n",
        "\n",
        "model_BN=model_cnn_batchnormal()\n",
        "\n",
        "model_BN.summary()"
      ],
      "execution_count": 0,
      "outputs": [
        {
          "output_type": "stream",
          "text": [
            "Model: \"sequential_2\"\n",
            "_________________________________________________________________\n",
            "Layer (type)                 Output Shape              Param #   \n",
            "=================================================================\n",
            "conv2d_7 (Conv2D)            (None, 32, 32, 64)        1792      \n",
            "_________________________________________________________________\n",
            "batch_normalization (BatchNo (None, 32, 32, 64)        256       \n",
            "_________________________________________________________________\n",
            "max_pooling2d_6 (MaxPooling2 (None, 16, 16, 64)        0         \n",
            "_________________________________________________________________\n",
            "conv2d_8 (Conv2D)            (None, 16, 16, 128)       73856     \n",
            "_________________________________________________________________\n",
            "conv2d_9 (Conv2D)            (None, 16, 16, 128)       147584    \n",
            "_________________________________________________________________\n",
            "batch_normalization_1 (Batch (None, 16, 16, 128)       512       \n",
            "_________________________________________________________________\n",
            "max_pooling2d_7 (MaxPooling2 (None, 8, 8, 128)         0         \n",
            "_________________________________________________________________\n",
            "conv2d_10 (Conv2D)           (None, 8, 8, 256)         295168    \n",
            "_________________________________________________________________\n",
            "batch_normalization_2 (Batch (None, 8, 8, 256)         1024      \n",
            "_________________________________________________________________\n",
            "max_pooling2d_8 (MaxPooling2 (None, 4, 4, 256)         0         \n",
            "_________________________________________________________________\n",
            "flatten (Flatten)            (None, 4096)              0         \n",
            "_________________________________________________________________\n",
            "dense_256 (Dense)            (None, 1000)              4097000   \n",
            "_________________________________________________________________\n",
            "dense_10 (Dense)             (None, 10)                10010     \n",
            "=================================================================\n",
            "Total params: 4,627,202\n",
            "Trainable params: 4,626,306\n",
            "Non-trainable params: 896\n",
            "_________________________________________________________________\n"
          ],
          "name": "stdout"
        }
      ]
    },
    {
      "cell_type": "code",
      "metadata": {
        "id": "TDApAQQWXXwE",
        "colab_type": "code",
        "outputId": "dd1dc471-ce2b-41bb-f8b0-e9777a32c5e9",
        "colab": {
          "base_uri": "https://localhost:8080/",
          "height": 737
        }
      },
      "source": [
        "def model_cnn_batchnormal_do():\n",
        "  model = tf.keras.models.Sequential()\n",
        "  # conv 1\n",
        "  model.add(Conv2D(64,3,padding='same',activation='relu',input_shape=(32,32,3))) \n",
        "  model.add(BatchNormalization())             # BN1\n",
        "  model.add(Dropout(rate=0.2))                # DO1\n",
        "  model.add(MaxPool2D(pool_size=(2,2), strides=(2,2)))\n",
        "\n",
        "  # conv 2\n",
        "  model.add(Conv2D(128, 3, padding='same', activation='relu'))\n",
        "  model.add(Conv2D(128, 3, padding='same', activation='relu'))\n",
        "  model.add(BatchNormalization())             # BN2\n",
        "  model.add(Dropout(rate=0.2))                # DO2\n",
        "  model.add(MaxPool2D(pool_size=(2,2), strides=(2,2)))\n",
        "\n",
        "  # conv 3\n",
        "  model.add(Conv2D(256, 3, padding='same', activation='relu')) \n",
        "  model.add(BatchNormalization())             # BN3\n",
        "  model.add(Dropout(rate=0.2))                # DO2\n",
        "  model.add(MaxPool2D(pool_size=(2,2), strides=(2,2)))\n",
        "  \n",
        "  # dense layers\n",
        "  model.add(Flatten(name='flatten'))\n",
        "  model.add(Dense(1000, activation='relu',name='dense_256'))\n",
        "  model.add(Dense(10, activation='softmax', name='dense_10'))\n",
        "\n",
        "  return model\n",
        "\n",
        "model_BN_DO=model_cnn_batchnormal_do()\n",
        "\n",
        "model_BN_DO.summary()"
      ],
      "execution_count": 0,
      "outputs": [
        {
          "output_type": "stream",
          "text": [
            "Model: \"sequential_3\"\n",
            "_________________________________________________________________\n",
            "Layer (type)                 Output Shape              Param #   \n",
            "=================================================================\n",
            "conv2d_11 (Conv2D)           (None, 32, 32, 64)        1792      \n",
            "_________________________________________________________________\n",
            "batch_normalization_3 (Batch (None, 32, 32, 64)        256       \n",
            "_________________________________________________________________\n",
            "dropout_3 (Dropout)          (None, 32, 32, 64)        0         \n",
            "_________________________________________________________________\n",
            "max_pooling2d_9 (MaxPooling2 (None, 16, 16, 64)        0         \n",
            "_________________________________________________________________\n",
            "conv2d_12 (Conv2D)           (None, 16, 16, 128)       73856     \n",
            "_________________________________________________________________\n",
            "conv2d_13 (Conv2D)           (None, 16, 16, 128)       147584    \n",
            "_________________________________________________________________\n",
            "batch_normalization_4 (Batch (None, 16, 16, 128)       512       \n",
            "_________________________________________________________________\n",
            "dropout_4 (Dropout)          (None, 16, 16, 128)       0         \n",
            "_________________________________________________________________\n",
            "max_pooling2d_10 (MaxPooling (None, 8, 8, 128)         0         \n",
            "_________________________________________________________________\n",
            "conv2d_14 (Conv2D)           (None, 8, 8, 256)         295168    \n",
            "_________________________________________________________________\n",
            "batch_normalization_5 (Batch (None, 8, 8, 256)         1024      \n",
            "_________________________________________________________________\n",
            "dropout_5 (Dropout)          (None, 8, 8, 256)         0         \n",
            "_________________________________________________________________\n",
            "max_pooling2d_11 (MaxPooling (None, 4, 4, 256)         0         \n",
            "_________________________________________________________________\n",
            "flatten (Flatten)            (None, 4096)              0         \n",
            "_________________________________________________________________\n",
            "dense_256 (Dense)            (None, 1000)              4097000   \n",
            "_________________________________________________________________\n",
            "dense_10 (Dense)             (None, 10)                10010     \n",
            "=================================================================\n",
            "Total params: 4,627,202\n",
            "Trainable params: 4,626,306\n",
            "Non-trainable params: 896\n",
            "_________________________________________________________________\n"
          ],
          "name": "stdout"
        }
      ]
    },
    {
      "cell_type": "markdown",
      "metadata": {
        "id": "aACwVs7QgmLq",
        "colab_type": "text"
      },
      "source": [
        "### *Compile*"
      ]
    },
    {
      "cell_type": "code",
      "metadata": {
        "colab_type": "code",
        "id": "woHSnFcU8qhb",
        "colab": {}
      },
      "source": [
        "model_basic.compile(optimizer='adam',\n",
        "              #loss='sparse_categorical_crossentropy',\n",
        "              loss='categorical_crossentropy',\n",
        "              metrics=['acc'])"
      ],
      "execution_count": 0,
      "outputs": []
    },
    {
      "cell_type": "code",
      "metadata": {
        "id": "hP7ohoahKZ-K",
        "colab_type": "code",
        "colab": {}
      },
      "source": [
        "model_DO.compile(optimizer='adam',\n",
        "              #loss='sparse_categorical_crossentropy',\n",
        "              loss='categorical_crossentropy',\n",
        "              metrics=['acc'])"
      ],
      "execution_count": 0,
      "outputs": []
    },
    {
      "cell_type": "code",
      "metadata": {
        "colab_type": "code",
        "id": "EjVZ-mBFiWAd",
        "colab": {}
      },
      "source": [
        "model_BN.compile(optimizer='adam',\n",
        "              #loss='sparse_categorical_crossentropy',\n",
        "              loss='categorical_crossentropy',\n",
        "              metrics=['acc'])"
      ],
      "execution_count": 0,
      "outputs": []
    },
    {
      "cell_type": "code",
      "metadata": {
        "id": "YPakecyAXlv4",
        "colab_type": "code",
        "colab": {}
      },
      "source": [
        "model_BN_DO.compile(optimizer='adam',\n",
        "              #loss='sparse_categorical_crossentropy',\n",
        "              loss='categorical_crossentropy',\n",
        "              metrics=['acc'])"
      ],
      "execution_count": 0,
      "outputs": []
    },
    {
      "cell_type": "markdown",
      "metadata": {
        "id": "n9BG8hNUgo0n",
        "colab_type": "text"
      },
      "source": [
        "### *Fit*"
      ]
    },
    {
      "cell_type": "markdown",
      "metadata": {
        "id": "7KbIreYLd6gj",
        "colab_type": "text"
      },
      "source": [
        "Epoch 20/20\n",
        "60000/60000 [==============================] - 5s 80us/sample - loss: 0.0276 - accuracy: 0.9911\n",
        "CPU times: user 1min 7s, sys: 30.2 s, total: 1min 38s   \n",
        "Wall time: 1min 40\n",
        "(@Notebook Setting/GPU)"
      ]
    },
    {
      "cell_type": "code",
      "metadata": {
        "id": "TaUq13N0_0uW",
        "colab_type": "code",
        "colab": {}
      },
      "source": [
        "batch_n = 512\n",
        "epoch_n = 30"
      ],
      "execution_count": 0,
      "outputs": []
    },
    {
      "cell_type": "code",
      "metadata": {
        "colab_type": "code",
        "id": "N0rhj42r8y5q",
        "outputId": "5511477c-0c51-4adf-aa24-1ebd52492834",
        "colab": {
          "base_uri": "https://localhost:8080/",
          "height": 1000
        }
      },
      "source": [
        "%%time\n",
        "history_basic = model_basic.fit(x_train, y_train, \n",
        "                        batch_size=batch_n, \n",
        "                        epochs=epoch_n,\n",
        "                        validation_data=(x_test, y_test))"
      ],
      "execution_count": 0,
      "outputs": [
        {
          "output_type": "stream",
          "text": [
            "Train on 50000 samples, validate on 10000 samples\n",
            "Epoch 1/30\n",
            "50000/50000 [==============================] - 12s 241us/sample - loss: 1.6221 - acc: 0.4128 - val_loss: 1.3615 - val_acc: 0.5033\n",
            "Epoch 2/30\n",
            "50000/50000 [==============================] - 9s 174us/sample - loss: 1.1830 - acc: 0.5817 - val_loss: 1.0762 - val_acc: 0.6182\n",
            "Epoch 3/30\n",
            "50000/50000 [==============================] - 9s 172us/sample - loss: 0.9588 - acc: 0.6659 - val_loss: 0.9649 - val_acc: 0.6587\n",
            "Epoch 4/30\n",
            "50000/50000 [==============================] - 9s 171us/sample - loss: 0.8297 - acc: 0.7131 - val_loss: 0.8137 - val_acc: 0.7173\n",
            "Epoch 5/30\n",
            "50000/50000 [==============================] - 9s 172us/sample - loss: 0.7207 - acc: 0.7501 - val_loss: 0.8211 - val_acc: 0.7098\n",
            "Epoch 6/30\n",
            "50000/50000 [==============================] - 9s 172us/sample - loss: 0.6401 - acc: 0.7788 - val_loss: 0.7426 - val_acc: 0.7438\n",
            "Epoch 7/30\n",
            "50000/50000 [==============================] - 9s 173us/sample - loss: 0.5590 - acc: 0.8066 - val_loss: 0.7567 - val_acc: 0.7479\n",
            "Epoch 8/30\n",
            "50000/50000 [==============================] - 9s 172us/sample - loss: 0.4919 - acc: 0.8300 - val_loss: 0.7193 - val_acc: 0.7568\n",
            "Epoch 9/30\n",
            "50000/50000 [==============================] - 9s 171us/sample - loss: 0.4175 - acc: 0.8562 - val_loss: 0.6971 - val_acc: 0.7695\n",
            "Epoch 10/30\n",
            "50000/50000 [==============================] - 9s 173us/sample - loss: 0.3547 - acc: 0.8772 - val_loss: 0.7844 - val_acc: 0.7555\n",
            "Epoch 11/30\n",
            "50000/50000 [==============================] - 9s 173us/sample - loss: 0.3058 - acc: 0.8956 - val_loss: 0.7326 - val_acc: 0.7707\n",
            "Epoch 12/30\n",
            "50000/50000 [==============================] - 9s 172us/sample - loss: 0.2346 - acc: 0.9223 - val_loss: 0.7836 - val_acc: 0.7674\n",
            "Epoch 13/30\n",
            "50000/50000 [==============================] - 9s 172us/sample - loss: 0.1772 - acc: 0.9429 - val_loss: 0.7982 - val_acc: 0.7730\n",
            "Epoch 14/30\n",
            "50000/50000 [==============================] - 9s 172us/sample - loss: 0.1408 - acc: 0.9530 - val_loss: 0.8881 - val_acc: 0.7596\n",
            "Epoch 15/30\n",
            "50000/50000 [==============================] - 9s 172us/sample - loss: 0.0946 - acc: 0.9723 - val_loss: 0.9149 - val_acc: 0.7714\n",
            "Epoch 16/30\n",
            "50000/50000 [==============================] - 9s 173us/sample - loss: 0.0828 - acc: 0.9742 - val_loss: 1.0360 - val_acc: 0.7615\n",
            "Epoch 17/30\n",
            "50000/50000 [==============================] - 9s 173us/sample - loss: 0.0513 - acc: 0.9865 - val_loss: 1.0911 - val_acc: 0.7707\n",
            "Epoch 18/30\n",
            "50000/50000 [==============================] - 9s 172us/sample - loss: 0.0370 - acc: 0.9905 - val_loss: 1.1469 - val_acc: 0.7714\n",
            "Epoch 19/30\n",
            "50000/50000 [==============================] - 9s 173us/sample - loss: 0.0272 - acc: 0.9936 - val_loss: 1.2301 - val_acc: 0.7691\n",
            "Epoch 20/30\n",
            "50000/50000 [==============================] - 9s 173us/sample - loss: 0.0313 - acc: 0.9915 - val_loss: 1.2893 - val_acc: 0.7627\n",
            "Epoch 21/30\n",
            "50000/50000 [==============================] - 9s 173us/sample - loss: 0.0370 - acc: 0.9893 - val_loss: 1.2832 - val_acc: 0.7584\n",
            "Epoch 22/30\n",
            "50000/50000 [==============================] - 9s 174us/sample - loss: 0.0376 - acc: 0.9886 - val_loss: 1.3181 - val_acc: 0.7691\n",
            "Epoch 23/30\n",
            "50000/50000 [==============================] - 9s 173us/sample - loss: 0.0308 - acc: 0.9908 - val_loss: 1.2809 - val_acc: 0.7628\n",
            "Epoch 24/30\n",
            "50000/50000 [==============================] - 9s 172us/sample - loss: 0.0300 - acc: 0.9913 - val_loss: 1.3642 - val_acc: 0.7684\n",
            "Epoch 25/30\n",
            "50000/50000 [==============================] - 9s 173us/sample - loss: 0.0275 - acc: 0.9918 - val_loss: 1.3668 - val_acc: 0.7639\n",
            "Epoch 26/30\n",
            "50000/50000 [==============================] - 9s 172us/sample - loss: 0.0350 - acc: 0.9888 - val_loss: 1.3332 - val_acc: 0.7669\n",
            "Epoch 27/30\n",
            "50000/50000 [==============================] - 9s 172us/sample - loss: 0.0220 - acc: 0.9933 - val_loss: 1.4618 - val_acc: 0.7770\n",
            "Epoch 28/30\n",
            "50000/50000 [==============================] - 9s 173us/sample - loss: 0.0316 - acc: 0.9897 - val_loss: 1.4481 - val_acc: 0.7562\n",
            "Epoch 29/30\n",
            "50000/50000 [==============================] - 9s 174us/sample - loss: 0.0440 - acc: 0.9854 - val_loss: 1.5519 - val_acc: 0.7496\n",
            "Epoch 30/30\n",
            "50000/50000 [==============================] - 9s 172us/sample - loss: 0.0386 - acc: 0.9870 - val_loss: 1.4111 - val_acc: 0.7626\n",
            "CPU times: user 2min 31s, sys: 52 s, total: 3min 23s\n",
            "Wall time: 4min 23s\n"
          ],
          "name": "stdout"
        }
      ]
    },
    {
      "cell_type": "code",
      "metadata": {
        "id": "-_idMKYwKVqX",
        "colab_type": "code",
        "outputId": "ce76ea59-b11a-4fbc-9ebe-911bc777aa5c",
        "colab": {
          "base_uri": "https://localhost:8080/",
          "height": 1000
        }
      },
      "source": [
        "%%time\n",
        "history_DO = model_DO.fit(x_train, y_train, \n",
        "                        shuffle=True,\n",
        "                        batch_size=batch_n, \n",
        "                        epochs=epoch_n,\n",
        "                        #validation_split=0.2\n",
        "                        validation_data=(x_test, y_test)\n",
        "                        )"
      ],
      "execution_count": 0,
      "outputs": [
        {
          "output_type": "stream",
          "text": [
            "Train on 50000 samples, validate on 10000 samples\n",
            "Epoch 1/30\n",
            "50000/50000 [==============================] - 16s 324us/sample - loss: 1.8101 - acc: 0.3420 - val_loss: 1.4915 - val_acc: 0.4911\n",
            "Epoch 2/30\n",
            "50000/50000 [==============================] - 15s 291us/sample - loss: 1.2820 - acc: 0.5391 - val_loss: 1.3100 - val_acc: 0.5716\n",
            "Epoch 3/30\n",
            "50000/50000 [==============================] - 15s 291us/sample - loss: 1.0428 - acc: 0.6318 - val_loss: 1.1459 - val_acc: 0.6159\n",
            "Epoch 4/30\n",
            "50000/50000 [==============================] - 15s 292us/sample - loss: 0.8820 - acc: 0.6920 - val_loss: 0.9601 - val_acc: 0.6885\n",
            "Epoch 5/30\n",
            "50000/50000 [==============================] - 15s 291us/sample - loss: 0.7823 - acc: 0.7249 - val_loss: 0.8968 - val_acc: 0.7031\n",
            "Epoch 6/30\n",
            "50000/50000 [==============================] - 15s 293us/sample - loss: 0.6723 - acc: 0.7641 - val_loss: 0.8453 - val_acc: 0.7262\n",
            "Epoch 7/30\n",
            "50000/50000 [==============================] - 15s 291us/sample - loss: 0.6004 - acc: 0.7898 - val_loss: 0.7866 - val_acc: 0.7334\n",
            "Epoch 8/30\n",
            "50000/50000 [==============================] - 15s 293us/sample - loss: 0.5291 - acc: 0.8146 - val_loss: 0.7384 - val_acc: 0.7518\n",
            "Epoch 9/30\n",
            "50000/50000 [==============================] - 15s 293us/sample - loss: 0.4504 - acc: 0.8421 - val_loss: 0.6982 - val_acc: 0.7607\n",
            "Epoch 10/30\n",
            "50000/50000 [==============================] - 15s 292us/sample - loss: 0.3904 - acc: 0.8635 - val_loss: 0.6804 - val_acc: 0.7672\n",
            "Epoch 11/30\n",
            "50000/50000 [==============================] - 15s 293us/sample - loss: 0.3294 - acc: 0.8836 - val_loss: 0.6658 - val_acc: 0.7714\n",
            "Epoch 12/30\n",
            "50000/50000 [==============================] - 15s 293us/sample - loss: 0.2667 - acc: 0.9085 - val_loss: 0.7179 - val_acc: 0.7555\n",
            "Epoch 13/30\n",
            "50000/50000 [==============================] - 15s 291us/sample - loss: 0.2234 - acc: 0.9224 - val_loss: 0.6977 - val_acc: 0.7617\n",
            "Epoch 14/30\n",
            "50000/50000 [==============================] - 15s 292us/sample - loss: 0.1825 - acc: 0.9364 - val_loss: 0.6878 - val_acc: 0.7731\n",
            "Epoch 15/30\n",
            "50000/50000 [==============================] - 15s 292us/sample - loss: 0.1414 - acc: 0.9515 - val_loss: 0.7050 - val_acc: 0.7764\n",
            "Epoch 16/30\n",
            "50000/50000 [==============================] - 15s 294us/sample - loss: 0.1328 - acc: 0.9528 - val_loss: 0.6955 - val_acc: 0.7739\n",
            "Epoch 17/30\n",
            "50000/50000 [==============================] - 15s 293us/sample - loss: 0.1000 - acc: 0.9657 - val_loss: 0.7570 - val_acc: 0.7744\n",
            "Epoch 18/30\n",
            "50000/50000 [==============================] - 15s 292us/sample - loss: 0.0864 - acc: 0.9705 - val_loss: 0.7818 - val_acc: 0.7738\n",
            "Epoch 19/30\n",
            "50000/50000 [==============================] - 15s 292us/sample - loss: 0.0718 - acc: 0.9757 - val_loss: 0.8166 - val_acc: 0.7683\n",
            "Epoch 20/30\n",
            "50000/50000 [==============================] - 15s 292us/sample - loss: 0.0676 - acc: 0.9771 - val_loss: 0.7925 - val_acc: 0.7714\n",
            "Epoch 21/30\n",
            "50000/50000 [==============================] - 15s 293us/sample - loss: 0.0667 - acc: 0.9766 - val_loss: 0.8107 - val_acc: 0.7730\n",
            "Epoch 22/30\n",
            "50000/50000 [==============================] - 15s 292us/sample - loss: 0.0498 - acc: 0.9838 - val_loss: 0.8660 - val_acc: 0.7684\n",
            "Epoch 23/30\n",
            "50000/50000 [==============================] - 15s 292us/sample - loss: 0.0575 - acc: 0.9799 - val_loss: 0.8173 - val_acc: 0.7718\n",
            "Epoch 24/30\n",
            "50000/50000 [==============================] - 15s 292us/sample - loss: 0.0556 - acc: 0.9817 - val_loss: 0.9608 - val_acc: 0.7568\n",
            "Epoch 25/30\n",
            "50000/50000 [==============================] - 15s 292us/sample - loss: 0.0472 - acc: 0.9847 - val_loss: 0.9173 - val_acc: 0.7656\n",
            "Epoch 26/30\n",
            "50000/50000 [==============================] - 15s 294us/sample - loss: 0.0486 - acc: 0.9830 - val_loss: 0.9268 - val_acc: 0.7685\n",
            "Epoch 27/30\n",
            "50000/50000 [==============================] - 15s 291us/sample - loss: 0.0379 - acc: 0.9876 - val_loss: 0.9414 - val_acc: 0.7699\n",
            "Epoch 28/30\n",
            "50000/50000 [==============================] - 15s 292us/sample - loss: 0.0473 - acc: 0.9840 - val_loss: 0.9031 - val_acc: 0.7734\n",
            "Epoch 29/30\n",
            "50000/50000 [==============================] - 15s 293us/sample - loss: 0.0460 - acc: 0.9843 - val_loss: 0.9063 - val_acc: 0.7715\n",
            "Epoch 30/30\n",
            "50000/50000 [==============================] - 15s 293us/sample - loss: 0.0520 - acc: 0.9818 - val_loss: 0.9707 - val_acc: 0.7598\n",
            "CPU times: user 3min 34s, sys: 1min 22s, total: 4min 56s\n",
            "Wall time: 7min 20s\n"
          ],
          "name": "stdout"
        }
      ]
    },
    {
      "cell_type": "code",
      "metadata": {
        "colab_type": "code",
        "id": "m4bkv71JiiFz",
        "outputId": "551ba62b-6b93-4c63-a9a1-dadd864c99cd",
        "colab": {
          "base_uri": "https://localhost:8080/",
          "height": 1000
        }
      },
      "source": [
        "%%time\n",
        "history_BN = model_BN.fit(x_train, y_train, \n",
        "                        shuffle=True,\n",
        "                        batch_size=batch_n, \n",
        "                        epochs=epoch_n,\n",
        "                        #validation_split=0.2\n",
        "                        validation_data=(x_test, y_test)\n",
        "                        )"
      ],
      "execution_count": 0,
      "outputs": [
        {
          "output_type": "stream",
          "text": [
            "Train on 50000 samples, validate on 10000 samples\n",
            "Epoch 1/30\n",
            "50000/50000 [==============================] - 16s 312us/sample - loss: 2.3958 - acc: 0.4125 - val_loss: 2.8290 - val_acc: 0.1253\n",
            "Epoch 2/30\n",
            "50000/50000 [==============================] - 14s 274us/sample - loss: 1.1380 - acc: 0.5942 - val_loss: 3.5299 - val_acc: 0.1204\n",
            "Epoch 3/30\n",
            "50000/50000 [==============================] - 14s 274us/sample - loss: 0.8665 - acc: 0.6931 - val_loss: 3.6130 - val_acc: 0.1619\n",
            "Epoch 4/30\n",
            "50000/50000 [==============================] - 14s 275us/sample - loss: 0.6570 - acc: 0.7709 - val_loss: 2.7891 - val_acc: 0.2842\n",
            "Epoch 5/30\n",
            "50000/50000 [==============================] - 14s 275us/sample - loss: 0.4874 - acc: 0.8305 - val_loss: 1.4126 - val_acc: 0.5390\n",
            "Epoch 6/30\n",
            "50000/50000 [==============================] - 14s 275us/sample - loss: 0.3303 - acc: 0.8900 - val_loss: 1.0384 - val_acc: 0.6660\n",
            "Epoch 7/30\n",
            "50000/50000 [==============================] - 14s 275us/sample - loss: 0.2024 - acc: 0.9351 - val_loss: 0.9093 - val_acc: 0.7278\n",
            "Epoch 8/30\n",
            "50000/50000 [==============================] - 14s 275us/sample - loss: 0.1073 - acc: 0.9687 - val_loss: 0.8525 - val_acc: 0.7516\n",
            "Epoch 9/30\n",
            "50000/50000 [==============================] - 14s 275us/sample - loss: 0.0484 - acc: 0.9892 - val_loss: 0.9894 - val_acc: 0.7553\n",
            "Epoch 10/30\n",
            "50000/50000 [==============================] - 14s 274us/sample - loss: 0.0226 - acc: 0.9966 - val_loss: 0.9489 - val_acc: 0.7692\n",
            "Epoch 11/30\n",
            "50000/50000 [==============================] - 14s 276us/sample - loss: 0.0072 - acc: 0.9996 - val_loss: 0.9133 - val_acc: 0.7916\n",
            "Epoch 12/30\n",
            "50000/50000 [==============================] - 14s 275us/sample - loss: 0.0024 - acc: 0.9999 - val_loss: 0.8959 - val_acc: 0.7971\n",
            "Epoch 13/30\n",
            "50000/50000 [==============================] - 14s 274us/sample - loss: 0.0016 - acc: 1.0000 - val_loss: 0.9323 - val_acc: 0.7991\n",
            "Epoch 14/30\n",
            "50000/50000 [==============================] - 14s 275us/sample - loss: 0.0023 - acc: 0.9998 - val_loss: 0.9707 - val_acc: 0.7926\n",
            "Epoch 15/30\n",
            "50000/50000 [==============================] - 14s 275us/sample - loss: 0.0010 - acc: 1.0000 - val_loss: 0.9666 - val_acc: 0.7997\n",
            "Epoch 16/30\n",
            "50000/50000 [==============================] - 14s 275us/sample - loss: 6.7386e-04 - acc: 1.0000 - val_loss: 0.9779 - val_acc: 0.8003\n",
            "Epoch 17/30\n",
            "50000/50000 [==============================] - 14s 275us/sample - loss: 5.5693e-04 - acc: 1.0000 - val_loss: 0.9904 - val_acc: 0.7998\n",
            "Epoch 18/30\n",
            "50000/50000 [==============================] - 14s 273us/sample - loss: 4.7538e-04 - acc: 1.0000 - val_loss: 1.0009 - val_acc: 0.7991\n",
            "Epoch 19/30\n",
            "50000/50000 [==============================] - 14s 275us/sample - loss: 4.1547e-04 - acc: 1.0000 - val_loss: 1.0103 - val_acc: 0.7999\n",
            "Epoch 20/30\n",
            "50000/50000 [==============================] - 14s 273us/sample - loss: 3.6886e-04 - acc: 1.0000 - val_loss: 1.0190 - val_acc: 0.8002\n",
            "Epoch 21/30\n",
            "50000/50000 [==============================] - 14s 274us/sample - loss: 3.3042e-04 - acc: 1.0000 - val_loss: 1.0317 - val_acc: 0.7995\n",
            "Epoch 22/30\n",
            "50000/50000 [==============================] - 14s 274us/sample - loss: 2.9878e-04 - acc: 1.0000 - val_loss: 1.0401 - val_acc: 0.7997\n",
            "Epoch 23/30\n",
            "50000/50000 [==============================] - 14s 273us/sample - loss: 2.6714e-04 - acc: 1.0000 - val_loss: 1.0476 - val_acc: 0.8006\n",
            "Epoch 24/30\n",
            "50000/50000 [==============================] - 14s 274us/sample - loss: 2.4333e-04 - acc: 1.0000 - val_loss: 1.0560 - val_acc: 0.7994\n",
            "Epoch 25/30\n",
            "50000/50000 [==============================] - 14s 275us/sample - loss: 2.2190e-04 - acc: 1.0000 - val_loss: 1.0615 - val_acc: 0.8004\n",
            "Epoch 26/30\n",
            "50000/50000 [==============================] - 14s 273us/sample - loss: 2.0323e-04 - acc: 1.0000 - val_loss: 1.0684 - val_acc: 0.7994\n",
            "Epoch 27/30\n",
            "50000/50000 [==============================] - 14s 274us/sample - loss: 1.8430e-04 - acc: 1.0000 - val_loss: 1.0783 - val_acc: 0.8000\n",
            "Epoch 28/30\n",
            "50000/50000 [==============================] - 14s 275us/sample - loss: 1.6968e-04 - acc: 1.0000 - val_loss: 1.0850 - val_acc: 0.8001\n",
            "Epoch 29/30\n",
            "50000/50000 [==============================] - 14s 273us/sample - loss: 1.5917e-04 - acc: 1.0000 - val_loss: 1.0922 - val_acc: 0.8002\n",
            "Epoch 30/30\n",
            "50000/50000 [==============================] - 14s 272us/sample - loss: 1.4611e-04 - acc: 1.0000 - val_loss: 1.0986 - val_acc: 0.8005\n",
            "CPU times: user 3min 41s, sys: 1min 25s, total: 5min 6s\n",
            "Wall time: 6min 54s\n"
          ],
          "name": "stdout"
        }
      ]
    },
    {
      "cell_type": "markdown",
      "metadata": {
        "id": "koce91rPKo6U",
        "colab_type": "text"
      },
      "source": [
        "Epoch 20/20\n",
        "60000/60000 [==============================] - 4s 73us/sample - loss: 2.1958e-04 - accuracy: 1.0000\n",
        "CPU times: user 1min 1s, sys: 25.2 s, total: 1min 26s   \n",
        "Wall time: 1min 27s (@Notebook Setting/GPU)"
      ]
    },
    {
      "cell_type": "code",
      "metadata": {
        "id": "EmVWVsr2Xoo2",
        "colab_type": "code",
        "outputId": "692fdb41-9703-43d0-c8a0-12b1854e24fc",
        "colab": {
          "base_uri": "https://localhost:8080/",
          "height": 1000
        }
      },
      "source": [
        "%%time\n",
        "history_BN_DO = model_BN_DO.fit(x_train, y_train, \n",
        "                        shuffle=True,\n",
        "                        batch_size=batch_n, \n",
        "                        epochs=epoch_n,\n",
        "                        #validation_split=0.2\n",
        "                        validation_data=(x_test, y_test)\n",
        "                        )"
      ],
      "execution_count": 0,
      "outputs": [
        {
          "output_type": "stream",
          "text": [
            "Train on 50000 samples, validate on 10000 samples\n",
            "Epoch 1/30\n",
            "50000/50000 [==============================] - 18s 351us/sample - loss: 2.7399 - acc: 0.3752 - val_loss: 4.2712 - val_acc: 0.1002\n",
            "Epoch 2/30\n",
            "50000/50000 [==============================] - 16s 322us/sample - loss: 1.2392 - acc: 0.5587 - val_loss: 6.0778 - val_acc: 0.1001\n",
            "Epoch 3/30\n",
            "50000/50000 [==============================] - 16s 322us/sample - loss: 0.9886 - acc: 0.6499 - val_loss: 8.5046 - val_acc: 0.1006\n",
            "Epoch 4/30\n",
            "50000/50000 [==============================] - 16s 323us/sample - loss: 0.7976 - acc: 0.7213 - val_loss: 8.7629 - val_acc: 0.1138\n",
            "Epoch 5/30\n",
            "50000/50000 [==============================] - 16s 324us/sample - loss: 0.6544 - acc: 0.7714 - val_loss: 4.9014 - val_acc: 0.2485\n",
            "Epoch 6/30\n",
            "50000/50000 [==============================] - 16s 324us/sample - loss: 0.5355 - acc: 0.8127 - val_loss: 2.2185 - val_acc: 0.4883\n",
            "Epoch 7/30\n",
            "50000/50000 [==============================] - 16s 325us/sample - loss: 0.4392 - acc: 0.8481 - val_loss: 1.5576 - val_acc: 0.6193\n",
            "Epoch 8/30\n",
            "50000/50000 [==============================] - 16s 325us/sample - loss: 0.3525 - acc: 0.8773 - val_loss: 1.4293 - val_acc: 0.6427\n",
            "Epoch 9/30\n",
            "50000/50000 [==============================] - 16s 324us/sample - loss: 0.2803 - acc: 0.9021 - val_loss: 1.4738 - val_acc: 0.6638\n",
            "Epoch 10/30\n",
            "50000/50000 [==============================] - 16s 326us/sample - loss: 0.2123 - acc: 0.9270 - val_loss: 1.0638 - val_acc: 0.7434\n",
            "Epoch 11/30\n",
            "50000/50000 [==============================] - 16s 325us/sample - loss: 0.1534 - acc: 0.9491 - val_loss: 1.0407 - val_acc: 0.7586\n",
            "Epoch 12/30\n",
            "50000/50000 [==============================] - 16s 327us/sample - loss: 0.1211 - acc: 0.9598 - val_loss: 1.2065 - val_acc: 0.7405\n",
            "Epoch 13/30\n",
            "50000/50000 [==============================] - 16s 325us/sample - loss: 0.0958 - acc: 0.9678 - val_loss: 1.2269 - val_acc: 0.7535\n",
            "Epoch 14/30\n",
            "50000/50000 [==============================] - 16s 325us/sample - loss: 0.0838 - acc: 0.9726 - val_loss: 1.3561 - val_acc: 0.7296\n",
            "Epoch 15/30\n",
            "50000/50000 [==============================] - 16s 324us/sample - loss: 0.0741 - acc: 0.9757 - val_loss: 1.2737 - val_acc: 0.7443\n",
            "Epoch 16/30\n",
            "50000/50000 [==============================] - 16s 327us/sample - loss: 0.0592 - acc: 0.9801 - val_loss: 1.4393 - val_acc: 0.7311\n",
            "Epoch 17/30\n",
            "50000/50000 [==============================] - 16s 325us/sample - loss: 0.0580 - acc: 0.9808 - val_loss: 1.5445 - val_acc: 0.7300\n",
            "Epoch 18/30\n",
            "50000/50000 [==============================] - 16s 325us/sample - loss: 0.0546 - acc: 0.9813 - val_loss: 1.8684 - val_acc: 0.6781\n",
            "Epoch 19/30\n",
            "50000/50000 [==============================] - 16s 325us/sample - loss: 0.0489 - acc: 0.9838 - val_loss: 1.9371 - val_acc: 0.7053\n",
            "Epoch 20/30\n",
            "50000/50000 [==============================] - 16s 324us/sample - loss: 0.0522 - acc: 0.9821 - val_loss: 1.5010 - val_acc: 0.7384\n",
            "Epoch 21/30\n",
            "50000/50000 [==============================] - 16s 325us/sample - loss: 0.0502 - acc: 0.9831 - val_loss: 1.5239 - val_acc: 0.7508\n",
            "Epoch 22/30\n",
            "50000/50000 [==============================] - 16s 325us/sample - loss: 0.0465 - acc: 0.9846 - val_loss: 1.4729 - val_acc: 0.7590\n",
            "Epoch 23/30\n",
            "50000/50000 [==============================] - 16s 325us/sample - loss: 0.0442 - acc: 0.9848 - val_loss: 1.4042 - val_acc: 0.7573\n",
            "Epoch 24/30\n",
            "50000/50000 [==============================] - 16s 326us/sample - loss: 0.0424 - acc: 0.9852 - val_loss: 1.5051 - val_acc: 0.7509\n",
            "Epoch 25/30\n",
            "50000/50000 [==============================] - 16s 326us/sample - loss: 0.0455 - acc: 0.9849 - val_loss: 1.6138 - val_acc: 0.7421\n",
            "Epoch 26/30\n",
            "50000/50000 [==============================] - 16s 328us/sample - loss: 0.0438 - acc: 0.9842 - val_loss: 1.7623 - val_acc: 0.7389\n",
            "Epoch 27/30\n",
            "50000/50000 [==============================] - 16s 326us/sample - loss: 0.0449 - acc: 0.9843 - val_loss: 1.4811 - val_acc: 0.7663\n",
            "Epoch 28/30\n",
            "50000/50000 [==============================] - 16s 327us/sample - loss: 0.0374 - acc: 0.9875 - val_loss: 1.5434 - val_acc: 0.7764\n",
            "Epoch 29/30\n",
            "50000/50000 [==============================] - 16s 326us/sample - loss: 0.0353 - acc: 0.9875 - val_loss: 1.6059 - val_acc: 0.7589\n",
            "Epoch 30/30\n",
            "50000/50000 [==============================] - 16s 326us/sample - loss: 0.0327 - acc: 0.9889 - val_loss: 1.6068 - val_acc: 0.7659\n",
            "CPU times: user 3min 52s, sys: 1min 33s, total: 5min 25s\n",
            "Wall time: 8min 9s\n"
          ],
          "name": "stdout"
        }
      ]
    },
    {
      "cell_type": "markdown",
      "metadata": {
        "id": "v7Bf90ATg98K",
        "colab_type": "text"
      },
      "source": [
        "## ***Analysis***"
      ]
    },
    {
      "cell_type": "code",
      "metadata": {
        "colab_type": "code",
        "id": "EkAYMpMu4xhk",
        "outputId": "4ab267d7-386a-40a6-b3b3-c120b5946e45",
        "colab": {
          "base_uri": "https://localhost:8080/",
          "height": 89
        }
      },
      "source": [
        "import numpy as np\n",
        "\n",
        "print(np.max(history_basic.history['val_acc']))\n",
        "print(np.max(history_DO.history['val_acc']))\n",
        "print(np.max(history_BN.history['val_acc']))\n",
        "print(np.max(history_BN_DO.history['val_acc']))"
      ],
      "execution_count": 0,
      "outputs": [
        {
          "output_type": "stream",
          "text": [
            "0.777\n",
            "0.7764\n",
            "0.8006\n",
            "0.7764\n"
          ],
          "name": "stdout"
        }
      ]
    },
    {
      "cell_type": "markdown",
      "metadata": {
        "id": "VcGTERphhBNs",
        "colab_type": "text"
      },
      "source": [
        "### *Plot*"
      ]
    },
    {
      "cell_type": "code",
      "metadata": {
        "id": "6Go-daMcgJi9",
        "colab_type": "code",
        "outputId": "16599ce3-16d5-4e2e-ede2-046f0f904c28",
        "colab": {
          "base_uri": "https://localhost:8080/",
          "height": 35
        }
      },
      "source": [
        "history_basic.history.keys()"
      ],
      "execution_count": 0,
      "outputs": [
        {
          "output_type": "execute_result",
          "data": {
            "text/plain": [
              "dict_keys(['loss', 'acc', 'val_loss', 'val_acc'])"
            ]
          },
          "metadata": {
            "tags": []
          },
          "execution_count": 22
        }
      ]
    },
    {
      "cell_type": "code",
      "metadata": {
        "id": "CjMu2fQKLD_N",
        "colab_type": "code",
        "outputId": "aa0b5146-9470-4def-be32-afe5ffb75b9b",
        "colab": {
          "base_uri": "https://localhost:8080/",
          "height": 621
        }
      },
      "source": [
        "loss = history_basic.history['loss']\n",
        "epochs = range(1, len(loss)+1)\n",
        "\n",
        "plt.figure(figsize=(10, 10))\n",
        "plt.subplot(2, 1, 1)\n",
        "plt.title('Accuray')\n",
        "plt.semilogy(epochs, history_basic.history['acc'], 'b', label='CNN')\n",
        "plt.semilogy(epochs, history_DO.history['acc'], 'r', label='CNN_DO')\n",
        "plt.semilogy(epochs, history_BN.history['acc'], 'g', label='CNN_BN')\n",
        "plt.semilogy(epochs, history_BN_DO.history['acc'], 'black', label='CNN_BN_DO')\n",
        "plt.grid(True)\n",
        "plt.ylabel('Accuracy')\n",
        "plt.ylim([0.6, 1])\n",
        "plt.legend(loc='best')\n",
        "\n",
        "plt.subplot(2, 1, 2)\n",
        "plt.title('Loss')\n",
        "plt.semilogy(epochs, history_basic.history['loss'], 'b', label='CNN')\n",
        "plt.semilogy(epochs, history_DO.history['loss'], 'r', label='CNN_DO')\n",
        "plt.semilogy(epochs, history_BN.history['loss'], 'g', label='CNN_BN')\n",
        "plt.semilogy(epochs, history_BN_DO.history['loss'], 'black', label='CNN_BN_DO')\n",
        "plt.grid(True)\n",
        "plt.xlabel('Epoch')\n",
        "plt.ylabel('Loss')\n",
        "#plt.ylim([0.0, 0.6])\n",
        "plt.legend(loc='best')\n",
        "plt.show()\n",
        "\n"
      ],
      "execution_count": 0,
      "outputs": [
        {
          "output_type": "display_data",
          "data": {
            "image/png": "[encoded data removed]",
            "text/plain": [
              "<Figure size 720x720 with 2 Axes>"
            ]
          },
          "metadata": {
            "tags": []
          }
        }
      ]
    },
    {
      "cell_type": "markdown",
      "metadata": {
        "id": "GnaUZbi_hIHw",
        "colab_type": "text"
      },
      "source": [
        "## ***실습과제***"
      ]
    },
    {
      "cell_type": "markdown",
      "metadata": {
        "id": "o5QEUAIbhVUQ",
        "colab_type": "text"
      },
      "source": [
        "### *과제1*"
      ]
    },
    {
      "cell_type": "markdown",
      "metadata": {
        "id": "07YM3eLIWxSY",
        "colab_type": "text"
      },
      "source": [
        "- *dropout과 batch normalization 관련 실험 필요*"
      ]
    }
  ]
}