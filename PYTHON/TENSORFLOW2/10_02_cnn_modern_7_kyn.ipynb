{
  "nbformat": 4,
  "nbformat_minor": 0,
  "metadata": {
    "colab": {
      "name": "10_02_cnn_modern_7_kyn.ipynb",
      "provenance": [],
      "collapsed_sections": [],
      "include_colab_link": true
    },
    "kernelspec": {
      "name": "python3",
      "display_name": "Python 3"
    },
    "accelerator": "GPU"
  },
  "cells": [
    {
      "cell_type": "markdown",
      "metadata": {
        "id": "view-in-github",
        "colab_type": "text"
      },
      "source": [
        "<a href=\"https://colab.research.google.com/github/KwonYN/TIL/blob/master/PYTHON/TENSORFLOW2/10_02_cnn_modern_7_kyn.ipynb\" target=\"_parent\"><img src=\"https://colab.research.google.com/assets/colab-badge.svg\" alt=\"Open In Colab\"/></a>"
      ]
    },
    {
      "cell_type": "markdown",
      "metadata": {
        "id": "YUbrsmxWf04y",
        "colab_type": "text"
      },
      "source": [
        "# **실습 5-1 : Modern CNN**"
      ]
    },
    {
      "cell_type": "markdown",
      "metadata": {
        "id": "CfwO3tnWf_nY",
        "colab_type": "text"
      },
      "source": [
        "## **Import Module**"
      ]
    },
    {
      "cell_type": "code",
      "metadata": {
        "colab_type": "code",
        "id": "0trJmd6DjqBZ",
        "outputId": "cad7d074-3e69-4a9c-f78e-aca8cd4ffd92",
        "colab": {
          "base_uri": "https://localhost:8080/",
          "height": 53
        }
      },
      "source": [
        "%tensorflow_version 2.x\n",
        "\n",
        "import tensorflow as tf\n",
        "#import tensorflow.keras as keras\n",
        "from tensorflow.keras import models, datasets\n",
        "from tensorflow.keras.layers import Dense, Flatten, Conv2D\n",
        "from tensorflow.keras.layers import MaxPool2D, MaxPool1D\n",
        "from tensorflow.keras.layers import Dropout, BatchNormalization\n",
        "\n",
        "import numpy as np\n",
        "import matplotlib.pyplot as plt\n",
        "\n",
        "tf.__version__"
      ],
      "execution_count": 0,
      "outputs": [
        {
          "output_type": "stream",
          "text": [
            "TensorFlow 2.x selected.\n"
          ],
          "name": "stdout"
        },
        {
          "output_type": "execute_result",
          "data": {
            "text/plain": [
              "'2.0.0'"
            ]
          },
          "metadata": {
            "tags": []
          },
          "execution_count": 1
        }
      ]
    },
    {
      "cell_type": "markdown",
      "metadata": {
        "id": "wOiaPQ3xgJQC",
        "colab_type": "text"
      },
      "source": [
        "## **DataSet**"
      ]
    },
    {
      "cell_type": "markdown",
      "metadata": {
        "id": "wMjfCbJFk1Ue",
        "colab_type": "text"
      },
      "source": [
        "## 2 `TensorFlow datasets` 사용하기"
      ]
    },
    {
      "cell_type": "markdown",
      "metadata": {
        "id": "YpSGNZu-sGBu",
        "colab_type": "text"
      },
      "source": [
        "### 2.1 tf.keras.utils.get_file()   \n",
        "# -- TF에서 제공되는 DataSet을 지정된 위치에서 읽어, colab에 압축 풀어 저장하기  \n",
        " -- DataSet Document https://www.tensorflow.org/datasets/catalog/overview 에서 URL 참조"
      ]
    },
    {
      "cell_type": "code",
      "metadata": {
        "id": "vtEVRmdf9YfJ",
        "colab_type": "code",
        "outputId": "9178d5ca-d3c7-46d9-b20f-62a6f9dc07dc",
        "colab": {
          "base_uri": "https://localhost:8080/",
          "height": 71
        }
      },
      "source": [
        "import pathlib\n",
        "data_dir = tf.keras.utils.get_file(\n",
        "    origin='https://storage.googleapis.com/download.tensorflow.org/example_images/flower_photos.tgz',\n",
        "    fname='flower_photos', untar=True)\n",
        "data_dir = pathlib.Path(data_dir)\n",
        "print (data_dir)"
      ],
      "execution_count": 0,
      "outputs": [
        {
          "output_type": "stream",
          "text": [
            "Downloading data from https://storage.googleapis.com/download.tensorflow.org/example_images/flower_photos.tgz\n",
            "228818944/228813984 [==============================] - 5s 0us/step\n",
            "/root/.keras/datasets/flower_photos\n"
          ],
          "name": "stdout"
        }
      ]
    },
    {
      "cell_type": "markdown",
      "metadata": {
        "id": "9JCz0dEqqgmA",
        "colab_type": "text"
      },
      "source": [
        "### 2.2 저장된 이미지를 `ImageDataGenerator()`로 준비하기 "
      ]
    },
    {
      "cell_type": "markdown",
      "metadata": {
        "id": "eKmlIZlZIsfF",
        "colab_type": "text"
      },
      "source": [
        "### 1.2 check images"
      ]
    },
    {
      "cell_type": "code",
      "metadata": {
        "id": "uuT7u7uTGJM4",
        "colab_type": "code",
        "colab": {}
      },
      "source": [
        "# 지정 폴더 아래에 있는 모든 *.jpg 파일의 수\n",
        "#  및 폴더명 목록을 리턴  \n",
        "def check_dir(d_path):\n",
        "  img_count = len(list(d_path.glob('*/*.jpg')))\n",
        "  c_name = np.array([item.name for item in d_path.glob('*') if item.name != \"LICENSE.txt\"])\n",
        "  return img_count, c_name, len(c_name)"
      ],
      "execution_count": 0,
      "outputs": []
    },
    {
      "cell_type": "code",
      "metadata": {
        "id": "cSR3yvFyhBzv",
        "colab_type": "code",
        "outputId": "8eea9466-2416-456e-c3a9-c7d367fc0a3b",
        "colab": {
          "base_uri": "https://localhost:8080/",
          "height": 53
        }
      },
      "source": [
        "# check_dir()로 폴더명과 이미지 숫자 확인\n",
        "image_count, CLASS_NAMES, class_num = check_dir(data_dir)\n",
        "\n",
        "print('image_count: {}\\nclasses: {}'.format(image_count, CLASS_NAMES))"
      ],
      "execution_count": 0,
      "outputs": [
        {
          "output_type": "stream",
          "text": [
            "image_count: 3670\n",
            "classes: ['roses' 'tulips' 'dandelion' 'sunflowers' 'daisy']\n"
          ],
          "name": "stdout"
        }
      ]
    },
    {
      "cell_type": "code",
      "metadata": {
        "id": "jHoGnJlyZrnK",
        "colab_type": "code",
        "colab": {}
      },
      "source": [
        "# input image size 지정 ***\n",
        "im_size = 112"
      ],
      "execution_count": 0,
      "outputs": []
    },
    {
      "cell_type": "code",
      "metadata": {
        "id": "eMXscRYCJe6J",
        "colab_type": "code",
        "outputId": "edc86ff7-19d8-4509-cc63-ff693e658bd8",
        "colab": {
          "base_uri": "https://localhost:8080/",
          "height": 53
        }
      },
      "source": [
        "# image generator for unziped directory \n",
        "# The 1./255 is to convert from uint8 to float32 in range [0,1].\n",
        "image_generator = (\n",
        "    tf.keras.preprocessing.image.ImageDataGenerator(\n",
        "        #width_shift_range=0.1,\n",
        "        #height_shift_range=0.1,\n",
        "        horizontal_flip=True, \n",
        "        vertical_flip=True,\n",
        "        #rotation_range=20,\n",
        "        #zoom_range=0.15,\n",
        "        brightness_range=[0.8,1.2],\n",
        "        validation_split=0.2,\n",
        "        rescale=1./255))\n",
        "\n",
        "# Batch size 지정 ***\n",
        "batch_n = 128\n",
        "\n",
        "# generate train dataset\n",
        "train_data_gen = image_generator.flow_from_directory(\n",
        "                      directory=str(data_dir),\n",
        "                      batch_size=batch_n,\n",
        "                      target_size=(im_size, im_size),\n",
        "                      classes = list(CLASS_NAMES),\n",
        "                      subset='training'\n",
        "                      )\n",
        "\n",
        "test_data_gen = image_generator.flow_from_directory(\n",
        "                      directory=str(data_dir),\n",
        "                      batch_size=batch_n,\n",
        "                      target_size=(im_size, im_size),\n",
        "                      classes = list(CLASS_NAMES),\n",
        "                      subset='validation'\n",
        "                      )\n"
      ],
      "execution_count": 0,
      "outputs": [
        {
          "output_type": "stream",
          "text": [
            "Found 2939 images belonging to 5 classes.\n",
            "Found 731 images belonging to 5 classes.\n"
          ],
          "name": "stdout"
        }
      ]
    },
    {
      "cell_type": "markdown",
      "metadata": {
        "id": "EY3zfzjlgbYj",
        "colab_type": "text"
      },
      "source": [
        "## **Model**"
      ]
    },
    {
      "cell_type": "markdown",
      "metadata": {
        "id": "PUqUyRtngdUC",
        "colab_type": "text"
      },
      "source": [
        "### Define"
      ]
    },
    {
      "cell_type": "markdown",
      "metadata": {
        "id": "0Mvz8Gu6lrkf",
        "colab_type": "text"
      },
      "source": [
        "### Model_A define: Dropout 사용 model"
      ]
    },
    {
      "cell_type": "code",
      "metadata": {
        "colab_type": "code",
        "id": "txF_6kHF71Tr",
        "colab": {}
      },
      "source": [
        "def model_cnn_basic():\n",
        "  model = models.Sequential()\n",
        "  # conv 1\n",
        "  model.add(Conv2D(64,3,padding='same',activation='relu',input_shape=(im_size,im_size,3)))\n",
        "  model.add(MaxPool2D(pool_size=(2,2), strides=(2,2)))\n",
        "  # conv 2\n",
        "  model.add(Conv2D(128, 3, padding='same', activation='relu'))\n",
        "  model.add(MaxPool2D(pool_size=(2,2), strides=(2,2)))\n",
        "  # conv 3\n",
        "  model.add(Conv2D(256, 3, padding='same', activation='relu'))\n",
        "  model.add(MaxPool2D(pool_size=(2,2), strides=(2,2)))\n",
        "  # Dense layers\n",
        "  model.add(Flatten(name='flatten'))\n",
        "  model.add(Dense(1024, activation='relu', name='dense_1024'))\n",
        "  model.add(Dense(len(CLASS_NAMES), activation='softmax', name='dense_10'))\n",
        "\n",
        "  return model\n",
        "\n",
        "model_basic = model_cnn_basic()\n",
        "\n",
        "#model_basic.summary()"
      ],
      "execution_count": 0,
      "outputs": []
    },
    {
      "cell_type": "code",
      "metadata": {
        "colab_type": "code",
        "id": "wwrqskp8ZRA2",
        "colab": {}
      },
      "source": [
        "def model_cnn_dropout():\n",
        "  model = models.Sequential()\n",
        "  # conv 1\n",
        "  model.add(Conv2D(64,3,padding='same',activation='relu',input_shape=(im_size,im_size,3)))\n",
        "  model.add(Dropout(rate=0.25))                          # DO\n",
        "  model.add(MaxPool2D(pool_size=(2,2), strides=(2,2)))\n",
        "  # conv 2\n",
        "  model.add(Conv2D(128, 3, padding='same', activation='relu'))\n",
        "  model.add(Dropout(rate=0.25))                          # DO\n",
        "  model.add(MaxPool2D(pool_size=(2,2), strides=(2,2)))\n",
        "  # conv 3\n",
        "  model.add(Conv2D(256, 3, padding='same', activation='relu'))\n",
        "  model.add(Dropout(rate=0.25))                          # DO\n",
        "  model.add(MaxPool2D(pool_size=(2,2), strides=(2,2)))\n",
        "  # dense layers\n",
        "  model.add(Flatten(name='flatten'))\n",
        "  model.add(Dense(1024, activation='relu', name='dense_1024'))\n",
        "  model.add(Dense(len(CLASS_NAMES), activation='softmax', name='dense_10'))\n",
        "\n",
        "  return model\n",
        "\n",
        "model_DO = model_cnn_dropout()\n",
        "\n",
        "#model_DO.summary()"
      ],
      "execution_count": 0,
      "outputs": []
    },
    {
      "cell_type": "markdown",
      "metadata": {
        "id": "zaF3AiENl7aS",
        "colab_type": "text"
      },
      "source": [
        "### Model_B define: Batch Normalization 사용 model"
      ]
    },
    {
      "cell_type": "code",
      "metadata": {
        "id": "FNUgJxiHeL9x",
        "colab_type": "code",
        "colab": {}
      },
      "source": [
        "def model_cnn_batchnormal():\n",
        "  model = tf.keras.models.Sequential()\n",
        "  # conv 1\n",
        "  model.add(Conv2D(32,3,padding='same',activation='relu',input_shape=(im_size,im_size,3))) \n",
        "  model.add(BatchNormalization(momentum=0.85))             # BN\n",
        "  model.add(MaxPool2D(pool_size=(2,2), strides=(2,2)))\n",
        "  # conv 2\n",
        "  model.add(Conv2D(64, 3, padding='same', activation='relu'))\n",
        "  model.add(BatchNormalization(momentum=0.85))             # BN\n",
        "  model.add(MaxPool2D(pool_size=(2,2), strides=(2,2)))\n",
        "  # conv 3\n",
        "  model.add(Conv2D(128, 3, padding='same', activation='relu')) \n",
        "  model.add(BatchNormalization(momentum=0.85))             # BN\n",
        "  model.add(MaxPool2D(pool_size=(2,2), strides=(2,2)))\n",
        "  # conv 4\n",
        "  model.add(Conv2D(128, 3, padding='same', activation='relu')) \n",
        "  model.add(BatchNormalization(momentum=0.85))             # BN\n",
        "  model.add(MaxPool2D(pool_size=(2,2), strides=(2,2)))\n",
        "  # dense layers\n",
        "  model.add(Flatten(name='flatten'))\n",
        "  model.add(Dense(1024, activation='relu', name='dense_1024'))\n",
        "  model.add(Dense(len(CLASS_NAMES), activation='softmax', name='dense_10'))\n",
        "\n",
        "  return model\n",
        "\n",
        "model_BN=model_cnn_batchnormal()\n",
        "\n",
        "#model_BN.summary()"
      ],
      "execution_count": 0,
      "outputs": []
    },
    {
      "cell_type": "code",
      "metadata": {
        "id": "0NVVwtv--GOo",
        "colab_type": "code",
        "colab": {}
      },
      "source": [
        "def model_cnn_chal3():\n",
        "  model = models.Sequential()\n",
        "\n",
        "  # conv 1\n",
        "  model.add(Conv2D(64,3,padding='same',activation='relu',input_shape=(im_size,im_size,3)))\n",
        "  model.add(Conv2D(64, 3, padding='same', activation='relu'))\n",
        "  model.add(BatchNormalization(momentum=0.85))\n",
        "  model.add(MaxPool2D(pool_size=(2,2), strides=(2,2)))\n",
        "\n",
        "  # conv 2\n",
        "  model.add(Conv2D(128, 3, padding='same', activation='relu'))\n",
        "  model.add(Conv2D(128, 3, padding='same', activation='relu'))\n",
        "  model.add(BatchNormalization(momentum=0.85))\n",
        "  model.add(MaxPool2D(pool_size=(2,2), strides=(2,2)))\n",
        "\n",
        "  # conv 3\n",
        "  model.add(Conv2D(256, 3, padding='same', activation='relu'))\n",
        "  model.add(Conv2D(256, 3, padding='same', activation='relu'))\n",
        "  model.add(BatchNormalization(momentum=0.85))\n",
        "  model.add(MaxPool2D(pool_size=(3,3), strides=(2,2)))\n",
        "\n",
        "  # conv 4\n",
        "  model.add(Conv2D(256, 3, padding='same', activation='relu'))\n",
        "  model.add(Conv2D(256, 3, padding='same', activation='relu'))\n",
        "  model.add(BatchNormalization(momentum=0.85))\n",
        "  model.add(MaxPool2D(pool_size=(3,3), strides=(2,2)))\n",
        "\n",
        "  # conv 4\n",
        "  model.add(Conv2D(64, 3, padding='same', activation='relu'))\n",
        "  model.add(BatchNormalization(momentum=0.85))\n",
        "  model.add(MaxPool2D(pool_size=(3,3), strides=(2,2)))\n",
        "\n",
        "  # Dense layers\n",
        "  model.add(Flatten(name='flatten'))\n",
        "  model.add(Dense(len(CLASS_NAMES), activation='softmax', name='dense_10'))\n",
        "\n",
        "  return model\n",
        "\n",
        "model_chal3 = model_cnn_chal3()\n",
        "\n",
        "#model_basic.summary()"
      ],
      "execution_count": 0,
      "outputs": []
    },
    {
      "cell_type": "markdown",
      "metadata": {
        "id": "aACwVs7QgmLq",
        "colab_type": "text"
      },
      "source": [
        "### Compile"
      ]
    },
    {
      "cell_type": "code",
      "metadata": {
        "colab_type": "code",
        "id": "woHSnFcU8qhb",
        "colab": {}
      },
      "source": [
        "model_basic.compile(optimizer='adam',\n",
        "              #loss='sparse_categorical_crossentropy',\n",
        "              loss='categorical_crossentropy',\n",
        "              metrics=['acc'])"
      ],
      "execution_count": 0,
      "outputs": []
    },
    {
      "cell_type": "code",
      "metadata": {
        "id": "hP7ohoahKZ-K",
        "colab_type": "code",
        "colab": {}
      },
      "source": [
        "model_DO.compile(optimizer='adam',\n",
        "              #loss='sparse_categorical_crossentropy',\n",
        "              loss='categorical_crossentropy',\n",
        "              metrics=['acc'])"
      ],
      "execution_count": 0,
      "outputs": []
    },
    {
      "cell_type": "code",
      "metadata": {
        "colab_type": "code",
        "id": "EjVZ-mBFiWAd",
        "colab": {}
      },
      "source": [
        "model_BN.compile(optimizer='adam',\n",
        "              #loss='sparse_categorical_crossentropy',\n",
        "              loss='categorical_crossentropy',\n",
        "              metrics=['acc'])"
      ],
      "execution_count": 0,
      "outputs": []
    },
    {
      "cell_type": "code",
      "metadata": {
        "id": "KHB5O20h_Jph",
        "colab_type": "code",
        "colab": {}
      },
      "source": [
        "model_chal3.compile(optimizer='adam',\n",
        "              #loss='sparse_categorical_crossentropy',\n",
        "              loss='categorical_crossentropy',\n",
        "              metrics=['acc'])"
      ],
      "execution_count": 0,
      "outputs": []
    },
    {
      "cell_type": "markdown",
      "metadata": {
        "id": "n9BG8hNUgo0n",
        "colab_type": "text"
      },
      "source": [
        "### Fit"
      ]
    },
    {
      "cell_type": "code",
      "metadata": {
        "id": "TaUq13N0_0uW",
        "colab_type": "code",
        "colab": {}
      },
      "source": [
        "# batch_n = 512 move to generator\n",
        "epoch_n = 60"
      ],
      "execution_count": 0,
      "outputs": []
    },
    {
      "cell_type": "markdown",
      "metadata": {
        "id": "7KbIreYLd6gj",
        "colab_type": "text"
      },
      "source": [
        "Epoch 20/20\n",
        "60000/60000 [==============================] - 5s 80us/sample - loss: 0.0276 - accuracy: 0.9911\n",
        "CPU times: user 1min 7s, sys: 30.2 s, total: 1min 38s   \n",
        "Wall time: 1min 40\n",
        "(@Notebook Setting/GPU)"
      ]
    },
    {
      "cell_type": "code",
      "metadata": {
        "id": "EdqD-8ke8xYN",
        "colab_type": "code",
        "colab": {}
      },
      "source": [
        ""
      ],
      "execution_count": 0,
      "outputs": []
    },
    {
      "cell_type": "code",
      "metadata": {
        "colab_type": "code",
        "outputId": "fded011f-240b-4136-a3e7-14165dbba96a",
        "id": "3TSmq7N1EpVJ",
        "colab": {
          "base_uri": "https://localhost:8080/",
          "height": 1000
        }
      },
      "source": [
        "# Challenge 3!!\n",
        "\n",
        "%%time\n",
        "# reset data generator\n",
        "train_data_gen.reset()\n",
        "test_data_gen.reset()\n",
        "\n",
        "# fit_gen\n",
        "history_chal3 = model_chal3.fit_generator(train_data_gen, \n",
        "                        epochs=epoch_n,\n",
        "                        validation_data=test_data_gen\n",
        "                        )"
      ],
      "execution_count": 0,
      "outputs": [
        {
          "output_type": "stream",
          "text": [
            "Epoch 1/60\n",
            "23/23 [==============================] - 44s 2s/step - loss: 1.4630 - acc: 0.4811 - val_loss: 2.1332 - val_acc: 0.3037\n",
            "Epoch 2/60\n",
            "23/23 [==============================] - 27s 1s/step - loss: 1.0220 - acc: 0.5842 - val_loss: 1.0673 - val_acc: 0.5882\n",
            "Epoch 3/60\n",
            "23/23 [==============================] - 27s 1s/step - loss: 0.8717 - acc: 0.6560 - val_loss: 1.0455 - val_acc: 0.5896\n",
            "Epoch 4/60\n",
            "23/23 [==============================] - 27s 1s/step - loss: 0.7827 - acc: 0.6876 - val_loss: 1.1527 - val_acc: 0.6156\n",
            "Epoch 5/60\n",
            "23/23 [==============================] - 27s 1s/step - loss: 0.7281 - acc: 0.7179 - val_loss: 0.9139 - val_acc: 0.6539\n",
            "Epoch 6/60\n",
            "23/23 [==============================] - 27s 1s/step - loss: 0.7050 - acc: 0.7193 - val_loss: 0.9491 - val_acc: 0.6334\n",
            "Epoch 7/60\n",
            "23/23 [==============================] - 27s 1s/step - loss: 0.6789 - acc: 0.7339 - val_loss: 1.0671 - val_acc: 0.6101\n",
            "Epoch 8/60\n",
            "23/23 [==============================] - 27s 1s/step - loss: 0.6314 - acc: 0.7571 - val_loss: 0.8552 - val_acc: 0.6867\n",
            "Epoch 9/60\n",
            "23/23 [==============================] - 27s 1s/step - loss: 0.5856 - acc: 0.7734 - val_loss: 1.0612 - val_acc: 0.6156\n",
            "Epoch 10/60\n",
            "23/23 [==============================] - 27s 1s/step - loss: 0.5631 - acc: 0.7846 - val_loss: 0.9282 - val_acc: 0.6607\n",
            "Epoch 11/60\n",
            "23/23 [==============================] - 27s 1s/step - loss: 0.5181 - acc: 0.8142 - val_loss: 0.9809 - val_acc: 0.6539\n",
            "Epoch 12/60\n",
            "23/23 [==============================] - 27s 1s/step - loss: 0.5039 - acc: 0.8057 - val_loss: 0.8701 - val_acc: 0.7155\n",
            "Epoch 13/60\n",
            "23/23 [==============================] - 27s 1s/step - loss: 0.4794 - acc: 0.8265 - val_loss: 0.7120 - val_acc: 0.7415\n",
            "Epoch 14/60\n",
            "23/23 [==============================] - 27s 1s/step - loss: 0.4413 - acc: 0.8350 - val_loss: 1.1856 - val_acc: 0.6211\n",
            "Epoch 15/60\n",
            "23/23 [==============================] - 27s 1s/step - loss: 0.4498 - acc: 0.8299 - val_loss: 0.9355 - val_acc: 0.6580\n",
            "Epoch 16/60\n",
            "23/23 [==============================] - 27s 1s/step - loss: 0.4227 - acc: 0.8397 - val_loss: 0.7332 - val_acc: 0.7483\n",
            "Epoch 17/60\n",
            "23/23 [==============================] - 27s 1s/step - loss: 0.3853 - acc: 0.8612 - val_loss: 0.8467 - val_acc: 0.6990\n",
            "Epoch 18/60\n",
            "23/23 [==============================] - 27s 1s/step - loss: 0.3688 - acc: 0.8612 - val_loss: 0.7717 - val_acc: 0.7182\n",
            "Epoch 19/60\n",
            "23/23 [==============================] - 27s 1s/step - loss: 0.3493 - acc: 0.8649 - val_loss: 0.7727 - val_acc: 0.7428\n",
            "Epoch 20/60\n",
            "23/23 [==============================] - 27s 1s/step - loss: 0.3455 - acc: 0.8639 - val_loss: 0.9156 - val_acc: 0.7086\n",
            "Epoch 21/60\n",
            "23/23 [==============================] - 27s 1s/step - loss: 0.3465 - acc: 0.8738 - val_loss: 0.8256 - val_acc: 0.7196\n",
            "Epoch 22/60\n",
            "23/23 [==============================] - 27s 1s/step - loss: 0.3165 - acc: 0.8819 - val_loss: 0.7025 - val_acc: 0.7483\n",
            "Epoch 23/60\n",
            "23/23 [==============================] - 27s 1s/step - loss: 0.2811 - acc: 0.8945 - val_loss: 0.8761 - val_acc: 0.7250\n",
            "Epoch 24/60\n",
            "23/23 [==============================] - 27s 1s/step - loss: 0.2784 - acc: 0.8989 - val_loss: 0.7356 - val_acc: 0.7456\n",
            "Epoch 25/60\n",
            "23/23 [==============================] - 27s 1s/step - loss: 0.2509 - acc: 0.9054 - val_loss: 0.7127 - val_acc: 0.7811\n",
            "Epoch 26/60\n",
            "23/23 [==============================] - 27s 1s/step - loss: 0.2424 - acc: 0.9194 - val_loss: 0.9211 - val_acc: 0.7264\n",
            "Epoch 27/60\n",
            "23/23 [==============================] - 27s 1s/step - loss: 0.2225 - acc: 0.9177 - val_loss: 0.7835 - val_acc: 0.7620\n",
            "Epoch 28/60\n",
            "23/23 [==============================] - 27s 1s/step - loss: 0.2187 - acc: 0.9224 - val_loss: 0.7591 - val_acc: 0.7565\n",
            "Epoch 29/60\n",
            "23/23 [==============================] - 27s 1s/step - loss: 0.2177 - acc: 0.9180 - val_loss: 0.7113 - val_acc: 0.7674\n",
            "Epoch 30/60\n",
            "23/23 [==============================] - 27s 1s/step - loss: 0.1770 - acc: 0.9367 - val_loss: 0.8485 - val_acc: 0.7415\n",
            "Epoch 31/60\n",
            "23/23 [==============================] - 27s 1s/step - loss: 0.1617 - acc: 0.9432 - val_loss: 0.7176 - val_acc: 0.7798\n",
            "Epoch 32/60\n",
            "23/23 [==============================] - 27s 1s/step - loss: 0.1534 - acc: 0.9462 - val_loss: 0.9618 - val_acc: 0.7291\n",
            "Epoch 33/60\n",
            "23/23 [==============================] - 27s 1s/step - loss: 0.1778 - acc: 0.9330 - val_loss: 0.8165 - val_acc: 0.7510\n",
            "Epoch 34/60\n",
            "23/23 [==============================] - 27s 1s/step - loss: 0.1772 - acc: 0.9337 - val_loss: 0.8420 - val_acc: 0.7497\n",
            "Epoch 35/60\n",
            "23/23 [==============================] - 27s 1s/step - loss: 0.1856 - acc: 0.9309 - val_loss: 0.9446 - val_acc: 0.7620\n",
            "Epoch 36/60\n",
            "23/23 [==============================] - 27s 1s/step - loss: 0.1803 - acc: 0.9371 - val_loss: 0.8292 - val_acc: 0.7756\n",
            "Epoch 37/60\n",
            "23/23 [==============================] - 27s 1s/step - loss: 0.1690 - acc: 0.9357 - val_loss: 1.1444 - val_acc: 0.7579\n",
            "Epoch 38/60\n",
            "23/23 [==============================] - 27s 1s/step - loss: 0.1764 - acc: 0.9326 - val_loss: 0.7630 - val_acc: 0.7620\n",
            "Epoch 39/60\n",
            "23/23 [==============================] - 27s 1s/step - loss: 0.1418 - acc: 0.9513 - val_loss: 0.6381 - val_acc: 0.8153\n",
            "Epoch 40/60\n",
            "23/23 [==============================] - 27s 1s/step - loss: 0.1229 - acc: 0.9568 - val_loss: 0.8342 - val_acc: 0.7852\n",
            "Epoch 41/60\n",
            "23/23 [==============================] - 27s 1s/step - loss: 0.0942 - acc: 0.9673 - val_loss: 0.8139 - val_acc: 0.7756\n",
            "Epoch 42/60\n",
            "23/23 [==============================] - 27s 1s/step - loss: 0.0950 - acc: 0.9670 - val_loss: 0.9278 - val_acc: 0.7866\n",
            "Epoch 43/60\n",
            "23/23 [==============================] - 27s 1s/step - loss: 0.1030 - acc: 0.9578 - val_loss: 0.8118 - val_acc: 0.7839\n",
            "Epoch 44/60\n",
            "23/23 [==============================] - 27s 1s/step - loss: 0.0907 - acc: 0.9673 - val_loss: 0.8624 - val_acc: 0.7839\n",
            "Epoch 45/60\n",
            "23/23 [==============================] - 27s 1s/step - loss: 0.0817 - acc: 0.9735 - val_loss: 0.7689 - val_acc: 0.8030\n",
            "Epoch 46/60\n",
            "23/23 [==============================] - 27s 1s/step - loss: 0.0684 - acc: 0.9745 - val_loss: 0.7866 - val_acc: 0.7989\n",
            "Epoch 47/60\n",
            "23/23 [==============================] - 27s 1s/step - loss: 0.0568 - acc: 0.9803 - val_loss: 0.9023 - val_acc: 0.7811\n",
            "Epoch 48/60\n",
            "23/23 [==============================] - 27s 1s/step - loss: 0.0811 - acc: 0.9684 - val_loss: 1.4911 - val_acc: 0.7182\n",
            "Epoch 49/60\n",
            "23/23 [==============================] - 27s 1s/step - loss: 0.0972 - acc: 0.9694 - val_loss: 1.0540 - val_acc: 0.7483\n",
            "Epoch 50/60\n",
            "23/23 [==============================] - 27s 1s/step - loss: 0.1026 - acc: 0.9667 - val_loss: 0.8756 - val_acc: 0.7633\n",
            "Epoch 51/60\n",
            "23/23 [==============================] - 27s 1s/step - loss: 0.0825 - acc: 0.9738 - val_loss: 0.9471 - val_acc: 0.7647\n",
            "Epoch 52/60\n",
            "23/23 [==============================] - 27s 1s/step - loss: 0.0804 - acc: 0.9738 - val_loss: 0.9081 - val_acc: 0.7715\n",
            "Epoch 53/60\n",
            "23/23 [==============================] - 27s 1s/step - loss: 0.0775 - acc: 0.9748 - val_loss: 0.9495 - val_acc: 0.7770\n",
            "Epoch 54/60\n",
            "23/23 [==============================] - 27s 1s/step - loss: 0.0693 - acc: 0.9758 - val_loss: 0.8629 - val_acc: 0.7798\n",
            "Epoch 55/60\n",
            "23/23 [==============================] - 27s 1s/step - loss: 0.0635 - acc: 0.9782 - val_loss: 0.9078 - val_acc: 0.7702\n",
            "Epoch 56/60\n",
            "23/23 [==============================] - 27s 1s/step - loss: 0.0523 - acc: 0.9823 - val_loss: 1.0193 - val_acc: 0.7620\n",
            "Epoch 57/60\n",
            "23/23 [==============================] - 27s 1s/step - loss: 0.0665 - acc: 0.9769 - val_loss: 0.9207 - val_acc: 0.7893\n",
            "Epoch 58/60\n",
            "23/23 [==============================] - 27s 1s/step - loss: 0.0510 - acc: 0.9820 - val_loss: 1.0238 - val_acc: 0.7798\n",
            "Epoch 59/60\n",
            "23/23 [==============================] - 27s 1s/step - loss: 0.0563 - acc: 0.9809 - val_loss: 0.8734 - val_acc: 0.7934\n",
            "Epoch 60/60\n",
            "23/23 [==============================] - 27s 1s/step - loss: 0.0443 - acc: 0.9878 - val_loss: 1.0278 - val_acc: 0.8003\n",
            "CPU times: user 29min 29s, sys: 7min 5s, total: 36min 34s\n",
            "Wall time: 27min 10s\n"
          ],
          "name": "stdout"
        }
      ]
    },
    {
      "cell_type": "code",
      "metadata": {
        "id": "Ztgn20Qxv9Sr",
        "colab_type": "code",
        "outputId": "e97113c2-e1aa-48b3-bfff-de6211f695f3",
        "colab": {
          "base_uri": "https://localhost:8080/",
          "height": 394
        }
      },
      "source": [
        "epoch_list = [15, 30, 45, epoch_n]\n",
        "\n",
        "acc_list = history_chal3.history['val_acc']\n",
        "\n",
        "for i in range(4):\n",
        "  print(np.max(acc_list[0:i]))"
      ],
      "execution_count": 0,
      "outputs": [
        {
          "output_type": "error",
          "ename": "ValueError",
          "evalue": "ignored",
          "traceback": [
            "\u001b[0;31m---------------------------------------------------------------------------\u001b[0m",
            "\u001b[0;31mValueError\u001b[0m                                Traceback (most recent call last)",
            "\u001b[0;32m<ipython-input-17-f2d56a25df47>\u001b[0m in \u001b[0;36m<module>\u001b[0;34m()\u001b[0m\n\u001b[1;32m      4\u001b[0m \u001b[0;34m\u001b[0m\u001b[0m\n\u001b[1;32m      5\u001b[0m \u001b[0;32mfor\u001b[0m \u001b[0mi\u001b[0m \u001b[0;32min\u001b[0m \u001b[0mrange\u001b[0m\u001b[0;34m(\u001b[0m\u001b[0;36m4\u001b[0m\u001b[0;34m)\u001b[0m\u001b[0;34m:\u001b[0m\u001b[0;34m\u001b[0m\u001b[0;34m\u001b[0m\u001b[0m\n\u001b[0;32m----> 6\u001b[0;31m   \u001b[0mprint\u001b[0m\u001b[0;34m(\u001b[0m\u001b[0mnp\u001b[0m\u001b[0;34m.\u001b[0m\u001b[0mmax\u001b[0m\u001b[0;34m(\u001b[0m\u001b[0macc_list\u001b[0m\u001b[0;34m[\u001b[0m\u001b[0;36m0\u001b[0m\u001b[0;34m:\u001b[0m\u001b[0mi\u001b[0m\u001b[0;34m]\u001b[0m\u001b[0;34m)\u001b[0m\u001b[0;34m)\u001b[0m\u001b[0;34m\u001b[0m\u001b[0;34m\u001b[0m\u001b[0m\n\u001b[0m",
            "\u001b[0;32m<__array_function__ internals>\u001b[0m in \u001b[0;36mamax\u001b[0;34m(*args, **kwargs)\u001b[0m\n",
            "\u001b[0;32m/usr/local/lib/python3.6/dist-packages/numpy/core/fromnumeric.py\u001b[0m in \u001b[0;36mamax\u001b[0;34m(a, axis, out, keepdims, initial, where)\u001b[0m\n\u001b[1;32m   2619\u001b[0m     \"\"\"\n\u001b[1;32m   2620\u001b[0m     return _wrapreduction(a, np.maximum, 'max', axis, None, out,\n\u001b[0;32m-> 2621\u001b[0;31m                           keepdims=keepdims, initial=initial, where=where)\n\u001b[0m\u001b[1;32m   2622\u001b[0m \u001b[0;34m\u001b[0m\u001b[0m\n\u001b[1;32m   2623\u001b[0m \u001b[0;34m\u001b[0m\u001b[0m\n",
            "\u001b[0;32m/usr/local/lib/python3.6/dist-packages/numpy/core/fromnumeric.py\u001b[0m in \u001b[0;36m_wrapreduction\u001b[0;34m(obj, ufunc, method, axis, dtype, out, **kwargs)\u001b[0m\n\u001b[1;32m     88\u001b[0m                 \u001b[0;32mreturn\u001b[0m \u001b[0mreduction\u001b[0m\u001b[0;34m(\u001b[0m\u001b[0maxis\u001b[0m\u001b[0;34m=\u001b[0m\u001b[0maxis\u001b[0m\u001b[0;34m,\u001b[0m \u001b[0mout\u001b[0m\u001b[0;34m=\u001b[0m\u001b[0mout\u001b[0m\u001b[0;34m,\u001b[0m \u001b[0;34m**\u001b[0m\u001b[0mpasskwargs\u001b[0m\u001b[0;34m)\u001b[0m\u001b[0;34m\u001b[0m\u001b[0;34m\u001b[0m\u001b[0m\n\u001b[1;32m     89\u001b[0m \u001b[0;34m\u001b[0m\u001b[0m\n\u001b[0;32m---> 90\u001b[0;31m     \u001b[0;32mreturn\u001b[0m \u001b[0mufunc\u001b[0m\u001b[0;34m.\u001b[0m\u001b[0mreduce\u001b[0m\u001b[0;34m(\u001b[0m\u001b[0mobj\u001b[0m\u001b[0;34m,\u001b[0m \u001b[0maxis\u001b[0m\u001b[0;34m,\u001b[0m \u001b[0mdtype\u001b[0m\u001b[0;34m,\u001b[0m \u001b[0mout\u001b[0m\u001b[0;34m,\u001b[0m \u001b[0;34m**\u001b[0m\u001b[0mpasskwargs\u001b[0m\u001b[0;34m)\u001b[0m\u001b[0;34m\u001b[0m\u001b[0;34m\u001b[0m\u001b[0m\n\u001b[0m\u001b[1;32m     91\u001b[0m \u001b[0;34m\u001b[0m\u001b[0m\n\u001b[1;32m     92\u001b[0m \u001b[0;34m\u001b[0m\u001b[0m\n",
            "\u001b[0;31mValueError\u001b[0m: zero-size array to reduction operation maximum which has no identity"
          ]
        }
      ]
    },
    {
      "cell_type": "code",
      "metadata": {
        "id": "fJ7wi9J47S0U",
        "colab_type": "code",
        "colab": {}
      },
      "source": [
        ""
      ],
      "execution_count": 0,
      "outputs": []
    },
    {
      "cell_type": "code",
      "metadata": {
        "id": "sAvvElAKAin5",
        "colab_type": "code",
        "colab": {}
      },
      "source": [
        "%%time\n",
        "# reset data generator\n",
        "train_data_gen.reset()\n",
        "test_data_gen.reset()\n",
        "\n",
        "# fit_gen\n",
        "history_BN = model_BN.fit_generator(train_data_gen, \n",
        "                        epochs=epoch_n,\n",
        "                        validation_data=test_data_gen\n",
        "                        )"
      ],
      "execution_count": 0,
      "outputs": []
    },
    {
      "cell_type": "code",
      "metadata": {
        "colab_type": "code",
        "id": "N0rhj42r8y5q",
        "colab": {}
      },
      "source": [
        "%%time\n",
        "# reset data generator\n",
        "train_data_gen.reset()\n",
        "test_data_gen.reset()\n",
        "\n",
        "history_basic = model_basic.fit_generator(train_data_gen, \n",
        "                        epochs=epoch_n,\n",
        "                        validation_data=test_data_gen)"
      ],
      "execution_count": 0,
      "outputs": []
    },
    {
      "cell_type": "code",
      "metadata": {
        "id": "-_idMKYwKVqX",
        "colab_type": "code",
        "colab": {}
      },
      "source": [
        "%%time\n",
        "# reset data generator\n",
        "train_data_gen.reset()\n",
        "test_data_gen.reset()\n",
        "\n",
        "history_DO = model_DO.fit_generator(train_data_gen, \n",
        "                        epochs=epoch_n,\n",
        "                        validation_data=test_data_gen\n",
        "                        )"
      ],
      "execution_count": 0,
      "outputs": []
    },
    {
      "cell_type": "markdown",
      "metadata": {
        "id": "koce91rPKo6U",
        "colab_type": "text"
      },
      "source": [
        "Epoch 20/20\n",
        "60000/60000 [==============================] - 4s 73us/sample - loss: 2.1958e-04 - accuracy: 1.0000\n",
        "CPU times: user 1min 1s, sys: 25.2 s, total: 1min 26s   \n",
        "Wall time: 1min 27s (@Notebook Setting/GPU)"
      ]
    },
    {
      "cell_type": "markdown",
      "metadata": {
        "id": "v7Bf90ATg98K",
        "colab_type": "text"
      },
      "source": [
        "## **Analysis**"
      ]
    },
    {
      "cell_type": "code",
      "metadata": {
        "colab_type": "code",
        "id": "EkAYMpMu4xhk",
        "colab": {}
      },
      "source": [
        "print(np.max(history_basic.history['val_acc']))\n",
        "print(np.max(history_DO.history['val_acc']))\n",
        "print(np.max(history_BN.history['val_acc']))"
      ],
      "execution_count": 0,
      "outputs": []
    },
    {
      "cell_type": "markdown",
      "metadata": {
        "id": "RfIQ7DoNJgg9",
        "colab_type": "text"
      },
      "source": [
        "0.7116  \n",
        "0.7257  \n",
        "0.7268"
      ]
    },
    {
      "cell_type": "markdown",
      "metadata": {
        "colab_type": "text",
        "id": "99gDq4ujEqMY"
      },
      "source": [
        "### Plot"
      ]
    },
    {
      "cell_type": "code",
      "metadata": {
        "colab_type": "code",
        "id": "esddMQeDEqMT",
        "colab": {}
      },
      "source": [
        "history_basic.history.keys()"
      ],
      "execution_count": 0,
      "outputs": []
    },
    {
      "cell_type": "code",
      "metadata": {
        "colab_type": "code",
        "id": "7nz6QmPFEqMD",
        "colab": {}
      },
      "source": [
        "loss = history_basic.history['loss']\n",
        "epochs = range(1, len(loss)+1)\n",
        "\n",
        "plt.figure(figsize=(10, 10))\n",
        "plt.subplot(2, 1, 1)\n",
        "plt.title('Validation Loss')\n",
        "plt.semilogy(epochs, history_basic.history['val_loss'], 'b', label='CNN')\n",
        "plt.semilogy(epochs, history_DO.history['val_loss'], 'r', label='CNN_DO')\n",
        "plt.semilogy(epochs, history_BN.history['val_loss'], 'g', label='CNN_BN')\n",
        "plt.grid(True)\n",
        "plt.xlabel('Epoch')\n",
        "plt.ylabel('Loss')\n",
        "#plt.ylim([0.0, 0.6])\n",
        "plt.legend(loc='best')\n",
        "\n",
        "plt.subplot(2, 1, 2)\n",
        "plt.title('Validation Accuray')\n",
        "plt.semilogy(epochs, history_basic.history['val_acc'], 'b', label='CNN')\n",
        "plt.semilogy(epochs, history_DO.history['val_acc'], 'r', label='CNN_DO')\n",
        "plt.semilogy(epochs, history_BN.history['val_acc'], 'g', label='CNN_BN')\n",
        "plt.grid(True)\n",
        "plt.ylabel('Accuracy')\n",
        "plt.ylim([0.5, 0.9])\n",
        "plt.legend(loc='best')\n",
        "plt.show()"
      ],
      "execution_count": 0,
      "outputs": []
    },
    {
      "cell_type": "markdown",
      "metadata": {
        "id": "GnaUZbi_hIHw",
        "colab_type": "text"
      },
      "source": [
        "## **실습 과제**"
      ]
    },
    {
      "cell_type": "markdown",
      "metadata": {
        "id": "o5QEUAIbhVUQ",
        "colab_type": "text"
      },
      "source": [
        "### 과제1 성능 개선을 위해서 다양한 실험이 필요해 보인다.\n",
        "#### -- Layer / Feature map 숫자 변경, \n",
        "#### -- dropout / batch normalization 위치 및 숫자 변경,\n",
        "#### -- batch size, epoch 변경을 통해 모델을 최적화 해 보자 \n",
        "#### -- 조별로 최고의 성능을 달성한 모델의 구조와 주요 hyper-parameter 및 최고 val_acc를 기록하자 : \n"
      ]
    }
  ]
}