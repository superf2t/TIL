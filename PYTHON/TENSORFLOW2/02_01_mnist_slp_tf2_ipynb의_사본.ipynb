{
  "nbformat": 4,
  "nbformat_minor": 0,
  "metadata": {
    "colab": {
      "name": "02_01_mnist_slp_tf2.ipynb의 사본",
      "provenance": [],
      "collapsed_sections": [],
      "include_colab_link": true
    },
    "kernelspec": {
      "name": "python3",
      "display_name": "Python 3"
    },
    "accelerator": "GPU"
  },
  "cells": [
    {
      "cell_type": "markdown",
      "metadata": {
        "id": "view-in-github",
        "colab_type": "text"
      },
      "source": [
        "<a href=\"https://colab.research.google.com/github/KwonYN/TIL/blob/master/PYTHON/TENSORFLOW2/02_01_mnist_slp_tf2_ipynb%EC%9D%98_%EC%82%AC%EB%B3%B8.ipynb\" target=\"_parent\"><img src=\"https://colab.research.google.com/assets/colab-badge.svg\" alt=\"Open In Colab\"/></a>"
      ]
    },
    {
      "cell_type": "markdown",
      "metadata": {
        "id": "YUbrsmxWf04y",
        "colab_type": "text"
      },
      "source": [
        "# **실습 2-1 :  tf.keras 모듈을 이용한 Single Layer Perceptron 설계하기** \n"
      ]
    },
    {
      "cell_type": "markdown",
      "metadata": {
        "id": "NiRRh004Veeq",
        "colab_type": "text"
      },
      "source": [
        "- 이미지 분류(Image Classification)를 위한 뉴럴 네트워크를 SLP로 설계한다\n"
      ]
    },
    {
      "cell_type": "markdown",
      "metadata": {
        "id": "CfwO3tnWf_nY",
        "colab_type": "text"
      },
      "source": [
        "## **Import Module**"
      ]
    },
    {
      "cell_type": "code",
      "metadata": {
        "id": "bC2OU4zcDdVC",
        "colab_type": "code",
        "outputId": "cb082bd8-6d88-4bb6-e70d-65410e286fa3",
        "colab": {
          "base_uri": "https://localhost:8080/",
          "height": 35
        }
      },
      "source": [
        "try:\n",
        "  # %tensorflow_version only exists in Colab.\n",
        "  %tensorflow_version 2.x\n",
        "except Exception:\n",
        "  pass"
      ],
      "execution_count": 0,
      "outputs": [
        {
          "output_type": "stream",
          "text": [
            "TensorFlow 2.x selected.\n"
          ],
          "name": "stdout"
        }
      ]
    },
    {
      "cell_type": "code",
      "metadata": {
        "id": "DZ4hSO9Cy0l7",
        "colab_type": "code",
        "outputId": "4e3b7536-b0c2-4a57-d6c5-8352da562ccd",
        "colab": {
          "base_uri": "https://localhost:8080/",
          "height": 54
        }
      },
      "source": [
        "import tensorflow as tf\n",
        "\n",
        "import numpy as np\n",
        "import matplotlib.pyplot as plt\n",
        "\n",
        "print (tf.__version__)\n",
        "print (tf.keras.__version__)"
      ],
      "execution_count": 0,
      "outputs": [
        {
          "output_type": "stream",
          "text": [
            "2.0.0\n",
            "2.2.4-tf\n"
          ],
          "name": "stdout"
        }
      ]
    },
    {
      "cell_type": "markdown",
      "metadata": {
        "id": "wOiaPQ3xgJQC",
        "colab_type": "text"
      },
      "source": [
        "## **DataSet**"
      ]
    },
    {
      "cell_type": "markdown",
      "metadata": {
        "id": "U8yh3kv1gR8r",
        "colab_type": "text"
      },
      "source": [
        "### Load"
      ]
    },
    {
      "cell_type": "code",
      "metadata": {
        "colab_type": "code",
        "id": "7FP5258xjs-v",
        "outputId": "a7932738-e071-43f9-fe61-19134904954b",
        "colab": {
          "base_uri": "https://localhost:8080/",
          "height": 54
        }
      },
      "source": [
        "# MNIST dataset loading and normalizing\n",
        "(x_train, y_train), (x_test, y_test) = tf.keras.datasets.mnist.load_data()\n",
        "x_train, x_test = x_train / 255.0, x_test / 255.0\n",
        "\n",
        "print(type(x_train), x_train.shape)\n",
        "print(type(y_train), y_train.shape)"
      ],
      "execution_count": 0,
      "outputs": [
        {
          "output_type": "stream",
          "text": [
            "<class 'numpy.ndarray'> (60000, 28, 28)\n",
            "<class 'numpy.ndarray'> (60000,)\n"
          ],
          "name": "stdout"
        }
      ]
    },
    {
      "cell_type": "markdown",
      "metadata": {
        "id": "O0oDy0CggOEm",
        "colab_type": "text"
      },
      "source": [
        "### Preview"
      ]
    },
    {
      "cell_type": "code",
      "metadata": {
        "id": "p0gD96iQbpFp",
        "colab_type": "code",
        "outputId": "b624cdbc-710d-4a11-f837-cea70051219e",
        "colab": {
          "base_uri": "https://localhost:8080/",
          "height": 140
        }
      },
      "source": [
        "plt.figure(figsize=(12, 2))\n",
        "for i in range(36):\n",
        "    plt.subplot(3, 12, i+1)\n",
        "    plt.imshow(x_train[i], cmap=\"gray\")\n",
        "    plt.axis(\"off\")\n",
        "plt.show()"
      ],
      "execution_count": 0,
      "outputs": [
        {
          "output_type": "display_data",
          "data": {
            "image/png": "[encoded data removed]",
            "text/plain": [
              "<Figure size 864x144 with 36 Axes>"
            ]
          },
          "metadata": {
            "tags": []
          }
        }
      ]
    },
    {
      "cell_type": "markdown",
      "metadata": {
        "id": "EY3zfzjlgbYj",
        "colab_type": "text"
      },
      "source": [
        "## **Model**"
      ]
    },
    {
      "cell_type": "markdown",
      "metadata": {
        "id": "PUqUyRtngdUC",
        "colab_type": "text"
      },
      "source": [
        "### Define"
      ]
    },
    {
      "cell_type": "code",
      "metadata": {
        "colab_type": "code",
        "id": "wwrqskp8ZRA2",
        "outputId": "631a3ebf-8b93-4409-ad24-73eaf7409cd8",
        "colab": {
          "base_uri": "https://localhost:8080/",
          "height": 235
        }
      },
      "source": [
        "# Sequential - design layers _ parameter : methode를 사용하지 않고 하는 방법! 게다가 이름도 안 주고 간단하게 불러옴 (p.73)\n",
        "model = tf.keras.models.Sequential([\n",
        "  tf.keras.layers.Flatten(input_shape=(28, 28)),\n",
        "  tf.keras.layers.Dense(10, activation='softmax')\n",
        "])\n",
        "\n",
        "model.summary()"
      ],
      "execution_count": 0,
      "outputs": [
        {
          "output_type": "stream",
          "text": [
            "Model: \"sequential\"\n",
            "_________________________________________________________________\n",
            "Layer (type)                 Output Shape              Param #   \n",
            "=================================================================\n",
            "flatten (Flatten)            (None, 784)               0         \n",
            "_________________________________________________________________\n",
            "dense (Dense)                (None, 10)                7850      \n",
            "=================================================================\n",
            "Total params: 7,850\n",
            "Trainable params: 7,850\n",
            "Non-trainable params: 0\n",
            "_________________________________________________________________\n"
          ],
          "name": "stdout"
        }
      ]
    },
    {
      "cell_type": "markdown",
      "metadata": {
        "id": "aACwVs7QgmLq",
        "colab_type": "text"
      },
      "source": [
        "### Compile"
      ]
    },
    {
      "cell_type": "code",
      "metadata": {
        "id": "hP7ohoahKZ-K",
        "colab_type": "code",
        "colab": {}
      },
      "source": [
        "model.compile(optimizer='adam',                         # AdamOptimizer\n",
        "              loss='sparse_categorical_crossentropy',   # CEE(Cross Entropy Error)\n",
        "              metrics=['accuracy'])                     # Accuracy를 return으로 받아옴!"
      ],
      "execution_count": 0,
      "outputs": []
    },
    {
      "cell_type": "code",
      "metadata": {
        "id": "sf3xDhGoBITb",
        "colab_type": "code",
        "outputId": "5719b5e7-bb45-4795-cdb0-6edf9350e781",
        "colab": {
          "base_uri": "https://localhost:8080/",
          "height": 312
        }
      },
      "source": [
        "tf.keras.utils.plot_model(model, 'my_model.png', show_shapes=True)"
      ],
      "execution_count": 0,
      "outputs": [
        {
          "output_type": "execute_result",
          "data": {
            "image/png": "[encoded data removed]",
            "text/plain": [
              "<IPython.core.display.Image object>"
            ]
          },
          "metadata": {
            "tags": []
          },
          "execution_count": 7
        }
      ]
    },
    {
      "cell_type": "markdown",
      "metadata": {
        "id": "n9BG8hNUgo0n",
        "colab_type": "text"
      },
      "source": [
        "### Fit"
      ]
    },
    {
      "cell_type": "markdown",
      "metadata": {
        "id": "7KbIreYLd6gj",
        "colab_type": "text"
      },
      "source": [
        "Epoch 20/20\n",
        "60000/60000 [==============================] - 0s 5us/sample - loss: 0.2912 - accuracy: 0.9200\n",
        "CPU times: user 7.56 s, sys: 419 ms, total: 7.98 s   \n",
        "Wall time: 6.06 s  (@Notebook Setting/GPU)"
      ]
    },
    {
      "cell_type": "code",
      "metadata": {
        "id": "-_idMKYwKVqX",
        "colab_type": "code",
        "outputId": "b83c851c-0ed2-4e36-ad9f-7d186f689e15",
        "colab": {
          "base_uri": "https://localhost:8080/",
          "height": 1000
        }
      },
      "source": [
        "%%time\n",
        "history = model.fit(x_train, y_train, \n",
        "                    batch_size=512, epochs=30, \n",
        "                    validation_data=(x_test, y_test)\n",
        "                    )"
      ],
      "execution_count": 0,
      "outputs": [
        {
          "output_type": "stream",
          "text": [
            "Train on 60000 samples, validate on 10000 samples\n",
            "Epoch 1/30\n",
            "60000/60000 [==============================] - 1s 23us/sample - loss: 1.1376 - accuracy: 0.7225 - val_loss: 0.6281 - val_accuracy: 0.8633\n",
            "Epoch 2/30\n",
            "60000/60000 [==============================] - 0s 8us/sample - loss: 0.5466 - accuracy: 0.8687 - val_loss: 0.4543 - val_accuracy: 0.8915\n",
            "Epoch 3/30\n",
            "60000/60000 [==============================] - 0s 8us/sample - loss: 0.4374 - accuracy: 0.8892 - val_loss: 0.3894 - val_accuracy: 0.8996\n",
            "Epoch 4/30\n",
            "60000/60000 [==============================] - 0s 8us/sample - loss: 0.3880 - accuracy: 0.8976 - val_loss: 0.3555 - val_accuracy: 0.9071\n",
            "Epoch 5/30\n",
            "60000/60000 [==============================] - 0s 8us/sample - loss: 0.3593 - accuracy: 0.9043 - val_loss: 0.3352 - val_accuracy: 0.9104\n",
            "Epoch 6/30\n",
            "60000/60000 [==============================] - 0s 8us/sample - loss: 0.3398 - accuracy: 0.9083 - val_loss: 0.3203 - val_accuracy: 0.9128\n",
            "Epoch 7/30\n",
            "60000/60000 [==============================] - 0s 8us/sample - loss: 0.3260 - accuracy: 0.9119 - val_loss: 0.3103 - val_accuracy: 0.9147\n",
            "Epoch 8/30\n",
            "60000/60000 [==============================] - 0s 8us/sample - loss: 0.3154 - accuracy: 0.9147 - val_loss: 0.3026 - val_accuracy: 0.9165\n",
            "Epoch 9/30\n",
            "60000/60000 [==============================] - 0s 8us/sample - loss: 0.3067 - accuracy: 0.9159 - val_loss: 0.2958 - val_accuracy: 0.9178\n",
            "Epoch 10/30\n",
            "60000/60000 [==============================] - 0s 8us/sample - loss: 0.2999 - accuracy: 0.9173 - val_loss: 0.2911 - val_accuracy: 0.9181\n",
            "Epoch 11/30\n",
            "60000/60000 [==============================] - 0s 8us/sample - loss: 0.2942 - accuracy: 0.9190 - val_loss: 0.2876 - val_accuracy: 0.9209\n",
            "Epoch 12/30\n",
            "60000/60000 [==============================] - 0s 8us/sample - loss: 0.2894 - accuracy: 0.9204 - val_loss: 0.2844 - val_accuracy: 0.9215\n",
            "Epoch 13/30\n",
            "60000/60000 [==============================] - 0s 8us/sample - loss: 0.2852 - accuracy: 0.9218 - val_loss: 0.2806 - val_accuracy: 0.9217\n",
            "Epoch 14/30\n",
            "60000/60000 [==============================] - 1s 8us/sample - loss: 0.2815 - accuracy: 0.9223 - val_loss: 0.2787 - val_accuracy: 0.9219\n",
            "Epoch 15/30\n",
            "60000/60000 [==============================] - 0s 8us/sample - loss: 0.2782 - accuracy: 0.9231 - val_loss: 0.2769 - val_accuracy: 0.9221\n",
            "Epoch 16/30\n",
            "60000/60000 [==============================] - 0s 8us/sample - loss: 0.2754 - accuracy: 0.9239 - val_loss: 0.2756 - val_accuracy: 0.9246\n",
            "Epoch 17/30\n",
            "60000/60000 [==============================] - 0s 8us/sample - loss: 0.2728 - accuracy: 0.9247 - val_loss: 0.2731 - val_accuracy: 0.9235\n",
            "Epoch 18/30\n",
            "60000/60000 [==============================] - 0s 8us/sample - loss: 0.2706 - accuracy: 0.9255 - val_loss: 0.2716 - val_accuracy: 0.9240\n",
            "Epoch 19/30\n",
            "60000/60000 [==============================] - 0s 8us/sample - loss: 0.2685 - accuracy: 0.9254 - val_loss: 0.2712 - val_accuracy: 0.9239\n",
            "Epoch 20/30\n",
            "60000/60000 [==============================] - 0s 8us/sample - loss: 0.2665 - accuracy: 0.9261 - val_loss: 0.2696 - val_accuracy: 0.9253\n",
            "Epoch 21/30\n",
            "60000/60000 [==============================] - 0s 8us/sample - loss: 0.2649 - accuracy: 0.9270 - val_loss: 0.2686 - val_accuracy: 0.9245\n",
            "Epoch 22/30\n",
            "60000/60000 [==============================] - 0s 8us/sample - loss: 0.2629 - accuracy: 0.9274 - val_loss: 0.2671 - val_accuracy: 0.9257\n",
            "Epoch 23/30\n",
            "60000/60000 [==============================] - 0s 8us/sample - loss: 0.2617 - accuracy: 0.9277 - val_loss: 0.2685 - val_accuracy: 0.9252\n",
            "Epoch 24/30\n",
            "60000/60000 [==============================] - 0s 8us/sample - loss: 0.2605 - accuracy: 0.9280 - val_loss: 0.2661 - val_accuracy: 0.9261\n",
            "Epoch 25/30\n",
            "60000/60000 [==============================] - 0s 8us/sample - loss: 0.2589 - accuracy: 0.9283 - val_loss: 0.2663 - val_accuracy: 0.9270\n",
            "Epoch 26/30\n",
            "60000/60000 [==============================] - 0s 8us/sample - loss: 0.2578 - accuracy: 0.9286 - val_loss: 0.2654 - val_accuracy: 0.9261\n",
            "Epoch 27/30\n",
            "60000/60000 [==============================] - 0s 8us/sample - loss: 0.2566 - accuracy: 0.9290 - val_loss: 0.2655 - val_accuracy: 0.9269\n",
            "Epoch 28/30\n",
            "60000/60000 [==============================] - 0s 8us/sample - loss: 0.2556 - accuracy: 0.9292 - val_loss: 0.2654 - val_accuracy: 0.9264\n",
            "Epoch 29/30\n",
            "60000/60000 [==============================] - 0s 8us/sample - loss: 0.2544 - accuracy: 0.9297 - val_loss: 0.2647 - val_accuracy: 0.9273\n",
            "Epoch 30/30\n",
            "60000/60000 [==============================] - 0s 8us/sample - loss: 0.2534 - accuracy: 0.9301 - val_loss: 0.2645 - val_accuracy: 0.9269\n",
            "CPU times: user 19.5 s, sys: 1.43 s, total: 21 s\n",
            "Wall time: 15.2 s\n"
          ],
          "name": "stdout"
        }
      ]
    },
    {
      "cell_type": "markdown",
      "metadata": {
        "id": "m4kAr8XNg2nc",
        "colab_type": "text"
      },
      "source": [
        "### Evaluate"
      ]
    },
    {
      "cell_type": "code",
      "metadata": {
        "id": "33QHvlOLeSik",
        "colab_type": "code",
        "outputId": "6c60b80f-e335-4753-9457-f923f9af0d43",
        "colab": {
          "base_uri": "https://localhost:8080/",
          "height": 35
        }
      },
      "source": [
        "model.evaluate(x_test,  y_test, verbose=0)  # 손실값, 정확도 (scalar값으로 리이이이턴)"
      ],
      "execution_count": 0,
      "outputs": [
        {
          "output_type": "execute_result",
          "data": {
            "text/plain": [
              "[0.26448198847770693, 0.9269]"
            ]
          },
          "metadata": {
            "tags": []
          },
          "execution_count": 9
        }
      ]
    },
    {
      "cell_type": "markdown",
      "metadata": {
        "id": "v7Bf90ATg98K",
        "colab_type": "text"
      },
      "source": [
        "## **Analysis**"
      ]
    },
    {
      "cell_type": "markdown",
      "metadata": {
        "id": "VcGTERphhBNs",
        "colab_type": "text"
      },
      "source": [
        "### Plot"
      ]
    },
    {
      "cell_type": "code",
      "metadata": {
        "id": "CjMu2fQKLD_N",
        "colab_type": "code",
        "outputId": "3f8f2bac-f701-42fe-f916-f6230b43853e",
        "colab": {
          "base_uri": "https://localhost:8080/",
          "height": 621
        }
      },
      "source": [
        "loss = history.history['loss']\n",
        "epochs = range(1, len(loss)+1)\n",
        "\n",
        "plt.figure(figsize=(6, 10))\n",
        "plt.subplot(2, 1, 1)\n",
        "plt.title('Accuray')\n",
        "plt.plot(epochs, history.history['accuracy'], 'b', label='train_accuracy')\n",
        "plt.plot(epochs, history.history['val_accuracy'], 'g', label='val_accuracy')\n",
        "plt.ylim([0.7,1])\n",
        "plt.grid(True)\n",
        "plt.ylabel('Accuracy')\n",
        "plt.legend(loc='best')\n",
        "\n",
        "plt.subplot(2, 1, 2)\n",
        "plt.title('Loss')\n",
        "plt.plot(epochs, history.history['loss'], 'b', label='train_loss')\n",
        "plt.plot(epochs, history.history['val_loss'], 'g', label='val_loss')\n",
        "plt.ylim([0,0.5])\n",
        "plt.grid(True)\n",
        "plt.xlabel('Epoch')\n",
        "plt.ylabel('Loss')\n",
        "plt.legend(loc='best')\n",
        "plt.show()"
      ],
      "execution_count": 0,
      "outputs": [
        {
          "output_type": "display_data",
          "data": {
            "image/png": "[encoded data removed]",
            "text/plain": [
              "<Figure size 432x720 with 2 Axes>"
            ]
          },
          "metadata": {
            "tags": []
          }
        }
      ]
    },
    {
      "cell_type": "markdown",
      "metadata": {
        "colab_type": "text",
        "id": "JyGjpP3qCEsN"
      },
      "source": [
        "### Prediction"
      ]
    },
    {
      "cell_type": "code",
      "metadata": {
        "id": "8NildFhh_bXu",
        "colab_type": "code",
        "outputId": "3a979d7a-1b40-4356-bd71-939427904047",
        "colab": {
          "base_uri": "https://localhost:8080/",
          "height": 54
        }
      },
      "source": [
        "# 테스트셋 첫 이미지 예측정보\n",
        "print (model.predict(x_test[:1, :]))"
      ],
      "execution_count": 0,
      "outputs": [
        {
          "output_type": "stream",
          "text": [
            "[[1.5313512e-05 2.1562878e-10 3.0039981e-05 5.9075649e-03 5.3687864e-07\n",
            "  3.6843016e-05 2.7500877e-09 9.9358022e-01 2.3832325e-05 4.0558717e-04]]\n"
          ],
          "name": "stdout"
        }
      ]
    },
    {
      "cell_type": "code",
      "metadata": {
        "id": "IMPbCcht_hSW",
        "colab_type": "code",
        "outputId": "32b17a40-df55-4f86-e53f-d0306c7d3352",
        "colab": {
          "base_uri": "https://localhost:8080/",
          "height": 35
        }
      },
      "source": [
        "# 데스트셋 첫 이미지 분류\n",
        "print (model.predict_classes(x_test[:1, :], verbose=0))"
      ],
      "execution_count": 0,
      "outputs": [
        {
          "output_type": "stream",
          "text": [
            "[7]\n"
          ],
          "name": "stdout"
        }
      ]
    },
    {
      "cell_type": "code",
      "metadata": {
        "id": "46Xpzps2IOTx",
        "colab_type": "code",
        "outputId": "d591ab23-4004-4891-bb3b-56f01841f4ce",
        "colab": {
          "base_uri": "https://localhost:8080/",
          "height": 160
        }
      },
      "source": [
        "n = 160\n",
        "plt.figure(figsize=(10, 2))\n",
        "for i in range(5):\n",
        "  img_idx = n+i\n",
        "  predict = model.predict(x_test[img_idx:img_idx+1, :])\n",
        "  img = x_test[img_idx]\n",
        "  plt.subplot(1,5,i+1)\n",
        "  plt.imshow(img, cmap='gray')\n",
        "  plt.title('pre: {}'.format(np.argmax(predict)))\n",
        "\n",
        "plt.show()"
      ],
      "execution_count": 0,
      "outputs": [
        {
          "output_type": "display_data",
          "data": {
            "image/png": "[encoded data removed]",
            "text/plain": [
              "<Figure size 720x144 with 5 Axes>"
            ]
          },
          "metadata": {
            "tags": []
          }
        }
      ]
    },
    {
      "cell_type": "markdown",
      "metadata": {
        "colab_type": "text",
        "id": "tI4ULJYDNkbQ"
      },
      "source": [
        "## **Model save**"
      ]
    },
    {
      "cell_type": "markdown",
      "metadata": {
        "colab_type": "text",
        "id": "0DoMx92wJtVQ"
      },
      "source": [
        "### Save model"
      ]
    },
    {
      "cell_type": "code",
      "metadata": {
        "id": "pLY-0R9W_16O",
        "colab_type": "code",
        "outputId": "d95c32b0-0987-4109-915e-8b80db3b4e63",
        "colab": {
          "base_uri": "https://localhost:8080/",
          "height": 209
        }
      },
      "source": [
        "model.save('my_model.hdf5')\n",
        "# delete\n",
        "del model"
      ],
      "execution_count": 0,
      "outputs": [
        {
          "output_type": "error",
          "ename": "NameError",
          "evalue": "ignored",
          "traceback": [
            "\u001b[0;31m---------------------------------------------------------------------------\u001b[0m",
            "\u001b[0;31mNameError\u001b[0m                                 Traceback (most recent call last)",
            "\u001b[0;32m<ipython-input-18-6298719ae7df>\u001b[0m in \u001b[0;36m<module>\u001b[0;34m()\u001b[0m\n\u001b[0;32m----> 1\u001b[0;31m \u001b[0mmodel\u001b[0m\u001b[0;34m.\u001b[0m\u001b[0msave\u001b[0m\u001b[0;34m(\u001b[0m\u001b[0;34m'my_model.hdf5'\u001b[0m\u001b[0;34m)\u001b[0m\u001b[0;34m\u001b[0m\u001b[0;34m\u001b[0m\u001b[0m\n\u001b[0m\u001b[1;32m      2\u001b[0m \u001b[0;31m# delete\u001b[0m\u001b[0;34m\u001b[0m\u001b[0;34m\u001b[0m\u001b[0;34m\u001b[0m\u001b[0m\n\u001b[1;32m      3\u001b[0m \u001b[0;32mdel\u001b[0m \u001b[0mmodel\u001b[0m\u001b[0;34m\u001b[0m\u001b[0;34m\u001b[0m\u001b[0m\n",
            "\u001b[0;31mNameError\u001b[0m: name 'model' is not defined"
          ]
        }
      ]
    },
    {
      "cell_type": "markdown",
      "metadata": {
        "colab_type": "text",
        "id": "vP_XCIXCJ6RC"
      },
      "source": [
        "### Load model"
      ]
    },
    {
      "cell_type": "code",
      "metadata": {
        "id": "RmfPqRMR3fNM",
        "colab_type": "code",
        "outputId": "fbf7403b-e89c-47af-9955-8e1818139475",
        "colab": {
          "base_uri": "https://localhost:8080/",
          "height": 35
        }
      },
      "source": [
        "from tensorflow.keras.models import load_model\n",
        "\n",
        "model2 = load_model('my_model.hdf5')\n",
        "print(model2.predict_classes(x_test[:1, :], verbose=0))"
      ],
      "execution_count": 0,
      "outputs": [
        {
          "output_type": "stream",
          "text": [
            "[7]\n"
          ],
          "name": "stdout"
        }
      ]
    },
    {
      "cell_type": "code",
      "metadata": {
        "id": "VMzq-EBwA9PB",
        "colab_type": "code",
        "outputId": "291731c2-60ec-43fd-a421-08bb9cd1c8cd",
        "colab": {
          "base_uri": "https://localhost:8080/",
          "height": 235
        }
      },
      "source": [
        "# chkeck a loaded mode\n",
        "model2.summary()"
      ],
      "execution_count": 0,
      "outputs": [
        {
          "output_type": "stream",
          "text": [
            "Model: \"sequential\"\n",
            "_________________________________________________________________\n",
            "Layer (type)                 Output Shape              Param #   \n",
            "=================================================================\n",
            "flatten (Flatten)            (None, 784)               0         \n",
            "_________________________________________________________________\n",
            "dense (Dense)                (None, 10)                7850      \n",
            "=================================================================\n",
            "Total params: 7,850\n",
            "Trainable params: 7,850\n",
            "Non-trainable params: 0\n",
            "_________________________________________________________________\n"
          ],
          "name": "stdout"
        }
      ]
    },
    {
      "cell_type": "markdown",
      "metadata": {
        "colab_type": "text",
        "id": "45lv-pdHSv7f"
      },
      "source": [
        "## **실습과제**"
      ]
    },
    {
      "cell_type": "markdown",
      "metadata": {
        "id": "AOmd9hOJWEcu",
        "colab_type": "text"
      },
      "source": [
        "### 과제1 여러 type으로 model을 만들어 보자\n",
        "#### -- `Sequential`의 다른 방식을 이용하여 model_2를 만들고 `name=`을 설정하여 구분하도록 해보자\n",
        "#### -- `Model`을 이용하여 model_3을 만들고 model name을 설정하여 보자"
      ]
    },
    {
      "cell_type": "code",
      "metadata": {
        "id": "GKxn03EGZ-Vy",
        "colab_type": "code",
        "outputId": "dd98b234-2808-4b4f-9155-f33c02d6a342",
        "colab": {
          "base_uri": "https://localhost:8080/",
          "height": 745
        }
      },
      "source": [
        "# 1 : Sequential\n",
        "model_1 = tf.keras.models.Sequential()\n",
        "model_1.add(tf.keras.layers.Flatten(input_shape=(28, 28)))\n",
        "model_1.add(tf.keras.layers.Dense(10, activation='softmax'))\n",
        "\n",
        "model_1.summary()\n",
        "print()\n",
        "\n",
        "# 2 : Sequential - parameter\n",
        "model_2 = tf.keras.models.Sequential([\n",
        "  tf.keras.layers.Flatten(input_shape=(28, 28)),\n",
        "  tf.keras.layers.Dense(10, activation='softmax')\n",
        "])\n",
        "\n",
        "model_2.summary()\n",
        "print()\n",
        "\n",
        "# 3\n",
        "inputs = tf.keras.Input(shape=(28, 28), name='handwritten')\n",
        "x =  tf.keras.layers.Flatten()(inputs)\n",
        "outputs = tf.keras.layers.Dense(10, activation='softmax')(x)\n",
        "model_3 = tf.keras.Model(inputs=inputs, outputs=outputs, name='hidoyi')\n",
        "\n",
        "model_3.summary()\n"
      ],
      "execution_count": 30,
      "outputs": [
        {
          "output_type": "stream",
          "text": [
            "Model: \"sequential_15\"\n",
            "_________________________________________________________________\n",
            "Layer (type)                 Output Shape              Param #   \n",
            "=================================================================\n",
            "flatten_11 (Flatten)         (None, 784)               0         \n",
            "_________________________________________________________________\n",
            "dense_11 (Dense)             (None, 10)                7850      \n",
            "=================================================================\n",
            "Total params: 7,850\n",
            "Trainable params: 7,850\n",
            "Non-trainable params: 0\n",
            "_________________________________________________________________\n",
            "\n",
            "Model: \"sequential_16\"\n",
            "_________________________________________________________________\n",
            "Layer (type)                 Output Shape              Param #   \n",
            "=================================================================\n",
            "flatten_12 (Flatten)         (None, 784)               0         \n",
            "_________________________________________________________________\n",
            "dense_12 (Dense)             (None, 10)                7850      \n",
            "=================================================================\n",
            "Total params: 7,850\n",
            "Trainable params: 7,850\n",
            "Non-trainable params: 0\n",
            "_________________________________________________________________\n",
            "\n",
            "Model: \"hidoyi\"\n",
            "_________________________________________________________________\n",
            "Layer (type)                 Output Shape              Param #   \n",
            "=================================================================\n",
            "handwritten (InputLayer)     [(None, 28, 28)]          0         \n",
            "_________________________________________________________________\n",
            "flatten_13 (Flatten)         (None, 784)               0         \n",
            "_________________________________________________________________\n",
            "dense_13 (Dense)             (None, 10)                7850      \n",
            "=================================================================\n",
            "Total params: 7,850\n",
            "Trainable params: 7,850\n",
            "Non-trainable params: 0\n",
            "_________________________________________________________________\n"
          ],
          "name": "stdout"
        }
      ]
    },
    {
      "cell_type": "markdown",
      "metadata": {
        "colab_type": "text",
        "id": "3D5psIIFqZ60"
      },
      "source": [
        "### 과제2 Reload한 모델을 사용해서 prediction 실행해 보자 \n",
        "#### -- 아래에 prediction 세번째 cell을 복사해 두었다. 다시 실행되도록 수정해 보자. \n",
        "\n",
        "#### -- 과정과 결과를 기록하자 : "
      ]
    },
    {
      "cell_type": "code",
      "metadata": {
        "colab_type": "code",
        "id": "_Hq8ppmHoPAe",
        "outputId": "07993022-2548-48db-cfd1-cf94a53280ac",
        "colab": {
          "base_uri": "https://localhost:8080/",
          "height": 264
        }
      },
      "source": [
        "n = 160\n",
        "plt.figure(figsize=(10, 2))\n",
        "for i in range(5):\n",
        "  img_idx = n+i\n",
        "  predict = model.predict(x_test[img_idx:img_idx+1, :])\n",
        "  img = x_test[img_idx]\n",
        "  plt.subplot(1,5,i+1)\n",
        "  plt.imshow(img, cmap='gray')\n",
        "  plt.title('pre: {}'.format(np.argmax(predict)))\n",
        "\n",
        "plt.show()"
      ],
      "execution_count": 0,
      "outputs": [
        {
          "output_type": "error",
          "ename": "NameError",
          "evalue": "ignored",
          "traceback": [
            "\u001b[0;31m---------------------------------------------------------------------------\u001b[0m",
            "\u001b[0;31mNameError\u001b[0m                                 Traceback (most recent call last)",
            "\u001b[0;32m<ipython-input-17-8d00a96c8a6e>\u001b[0m in \u001b[0;36m<module>\u001b[0;34m()\u001b[0m\n\u001b[1;32m      3\u001b[0m \u001b[0;32mfor\u001b[0m \u001b[0mi\u001b[0m \u001b[0;32min\u001b[0m \u001b[0mrange\u001b[0m\u001b[0;34m(\u001b[0m\u001b[0;36m5\u001b[0m\u001b[0;34m)\u001b[0m\u001b[0;34m:\u001b[0m\u001b[0;34m\u001b[0m\u001b[0;34m\u001b[0m\u001b[0m\n\u001b[1;32m      4\u001b[0m   \u001b[0mimg_idx\u001b[0m \u001b[0;34m=\u001b[0m \u001b[0mn\u001b[0m\u001b[0;34m+\u001b[0m\u001b[0mi\u001b[0m\u001b[0;34m\u001b[0m\u001b[0;34m\u001b[0m\u001b[0m\n\u001b[0;32m----> 5\u001b[0;31m   \u001b[0mpredict\u001b[0m \u001b[0;34m=\u001b[0m \u001b[0mmodel\u001b[0m\u001b[0;34m.\u001b[0m\u001b[0mpredict\u001b[0m\u001b[0;34m(\u001b[0m\u001b[0mx_test\u001b[0m\u001b[0;34m[\u001b[0m\u001b[0mimg_idx\u001b[0m\u001b[0;34m:\u001b[0m\u001b[0mimg_idx\u001b[0m\u001b[0;34m+\u001b[0m\u001b[0;36m1\u001b[0m\u001b[0;34m,\u001b[0m \u001b[0;34m:\u001b[0m\u001b[0;34m]\u001b[0m\u001b[0;34m)\u001b[0m\u001b[0;34m\u001b[0m\u001b[0;34m\u001b[0m\u001b[0m\n\u001b[0m\u001b[1;32m      6\u001b[0m   \u001b[0mimg\u001b[0m \u001b[0;34m=\u001b[0m \u001b[0mx_test\u001b[0m\u001b[0;34m[\u001b[0m\u001b[0mimg_idx\u001b[0m\u001b[0;34m]\u001b[0m\u001b[0;34m\u001b[0m\u001b[0;34m\u001b[0m\u001b[0m\n\u001b[1;32m      7\u001b[0m   \u001b[0mplt\u001b[0m\u001b[0;34m.\u001b[0m\u001b[0msubplot\u001b[0m\u001b[0;34m(\u001b[0m\u001b[0;36m1\u001b[0m\u001b[0;34m,\u001b[0m\u001b[0;36m5\u001b[0m\u001b[0;34m,\u001b[0m\u001b[0mi\u001b[0m\u001b[0;34m+\u001b[0m\u001b[0;36m1\u001b[0m\u001b[0;34m)\u001b[0m\u001b[0;34m\u001b[0m\u001b[0;34m\u001b[0m\u001b[0m\n",
            "\u001b[0;31mNameError\u001b[0m: name 'model' is not defined"
          ]
        },
        {
          "output_type": "display_data",
          "data": {
            "text/plain": [
              "<Figure size 720x144 with 0 Axes>"
            ]
          },
          "metadata": {
            "tags": []
          }
        }
      ]
    },
    {
      "cell_type": "markdown",
      "metadata": {
        "colab_type": "text",
        "id": "cNbGp6BJqwNo"
      },
      "source": [
        "### 과제3 delete된 모델을 다시 fit하고 싶다 \n",
        "#### -- 런타임을 재시작 하지 않고 하려면 어떻게 해야 하는가? \n",
        "#### -- 어느 단계부터 실행하면 문제가 없을까? \n",
        "#### -- 확인 결과를 기록하자 : "
      ]
    },
    {
      "cell_type": "code",
      "metadata": {
        "id": "fu2Df7DZX4K7",
        "colab_type": "code",
        "colab": {}
      },
      "source": [
        ""
      ],
      "execution_count": 0,
      "outputs": []
    }
  ]
}