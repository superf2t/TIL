{
  "nbformat": 4,
  "nbformat_minor": 0,
  "metadata": {
    "colab": {
      "name": "03_04_mnist_rnn_adv_hierachical_7_kyn.ipynb",
      "provenance": [],
      "collapsed_sections": [],
      "include_colab_link": true
    },
    "kernelspec": {
      "name": "python3",
      "display_name": "Python 3"
    },
    "accelerator": "GPU"
  },
  "cells": [
    {
      "cell_type": "markdown",
      "metadata": {
        "id": "view-in-github",
        "colab_type": "text"
      },
      "source": [
        "<a href=\"https://colab.research.google.com/github/KwonYN/TIL/blob/master/PYTHON/TENSORFLOW2/03_04_mnist_rnn_adv_hierachical_7_kyn.ipynb\" target=\"_parent\"><img src=\"https://colab.research.google.com/assets/colab-badge.svg\" alt=\"Open In Colab\"/></a>"
      ]
    },
    {
      "cell_type": "markdown",
      "metadata": {
        "id": "YUbrsmxWf04y",
        "colab_type": "text"
      },
      "source": [
        "# **실습 3-4 : MNIST RNN Hierachical model** \n"
      ]
    },
    {
      "cell_type": "markdown",
      "metadata": {
        "colab_type": "text",
        "id": "cXajTy5sYelD"
      },
      "source": [
        "## **Import Module**"
      ]
    },
    {
      "cell_type": "code",
      "metadata": {
        "colab_type": "code",
        "id": "0trJmd6DjqBZ",
        "outputId": "c3ea6eb8-f96c-4148-93ea-1967b556453e",
        "colab": {
          "base_uri": "https://localhost:8080/",
          "height": 35
        }
      },
      "source": [
        "%tensorflow_version 2.x \n",
        "import tensorflow as tf\n",
        "import matplotlib.pyplot as plt\n",
        "\n",
        "import tensorflow.keras as keras\n",
        "from tensorflow.keras import layers, datasets, models, utils\n",
        "\n",
        "tf.__version__"
      ],
      "execution_count": 0,
      "outputs": [
        {
          "output_type": "execute_result",
          "data": {
            "text/plain": [
              "'2.0.0'"
            ]
          },
          "metadata": {
            "tags": []
          },
          "execution_count": 9
        }
      ]
    },
    {
      "cell_type": "markdown",
      "metadata": {
        "id": "wOiaPQ3xgJQC",
        "colab_type": "text"
      },
      "source": [
        "## **DataSet**"
      ]
    },
    {
      "cell_type": "markdown",
      "metadata": {
        "id": "aD28IHuegUxp",
        "colab_type": "text"
      },
      "source": [
        "### Load"
      ]
    },
    {
      "cell_type": "code",
      "metadata": {
        "id": "cC8AS287Hz-9",
        "colab_type": "code",
        "colab": {}
      },
      "source": [
        "# The data, split between train and test sets.\n",
        "(x_train, y_train), (x_test, y_test) = datasets.mnist.load_data()"
      ],
      "execution_count": 0,
      "outputs": []
    },
    {
      "cell_type": "markdown",
      "metadata": {
        "colab_type": "text",
        "id": "zNj4kWlfWy-l"
      },
      "source": [
        "### Preprocessing"
      ]
    },
    {
      "cell_type": "code",
      "metadata": {
        "id": "ZSg9t7oxW1ww",
        "colab_type": "code",
        "outputId": "b4cf6c3e-fb4b-4178-89ba-95f217117759",
        "colab": {
          "base_uri": "https://localhost:8080/",
          "height": 35
        }
      },
      "source": [
        "# Reshapes data to 4D for Hierarchical RNN.\n",
        "x_train = x_train.reshape(x_train.shape[0], 28, 28, 1)\n",
        "x_test = x_test.reshape(x_test.shape[0], 28, 28, 1)\n",
        "\n",
        "x_train = x_train/255.\n",
        "x_test = x_test/255.\n",
        "\n",
        "print('x_train shape:', x_train.shape)"
      ],
      "execution_count": 0,
      "outputs": [
        {
          "output_type": "stream",
          "text": [
            "x_train shape: (60000, 28, 28, 1)\n"
          ],
          "name": "stdout"
        }
      ]
    },
    {
      "cell_type": "code",
      "metadata": {
        "id": "__eWKIr5W8bN",
        "colab_type": "code",
        "outputId": "b2119a1f-fea1-4797-f45d-a68edaa5f233",
        "colab": {
          "base_uri": "https://localhost:8080/",
          "height": 35
        }
      },
      "source": [
        "row, col, pixel = x_train.shape[1:] #(60000, 28, 28, 1)\n",
        "\n",
        "y_train.shape, y_test.shape, x_train.shape, row, col, pixel"
      ],
      "execution_count": 0,
      "outputs": [
        {
          "output_type": "execute_result",
          "data": {
            "text/plain": [
              "((60000,), (10000,), (60000, 28, 28, 1), 28, 28, 1)"
            ]
          },
          "metadata": {
            "tags": []
          },
          "execution_count": 12
        }
      ]
    },
    {
      "cell_type": "markdown",
      "metadata": {
        "id": "EY3zfzjlgbYj",
        "colab_type": "text"
      },
      "source": [
        "## **Model**"
      ]
    },
    {
      "cell_type": "markdown",
      "metadata": {
        "id": "PUqUyRtngdUC",
        "colab_type": "text"
      },
      "source": [
        "### Define"
      ]
    },
    {
      "cell_type": "code",
      "metadata": {
        "id": "nqAJDMjKXHgz",
        "colab_type": "code",
        "colab": {}
      },
      "source": [
        "num_classes = 10\n",
        "# Embedding dimensions.\n",
        "row_hidden = 50\n",
        "col_hidden = 30\n",
        "\n",
        "def model_function():\n",
        "  ## Functional API\n",
        "  # 4D input.\n",
        "  x = layers.Input(shape=(row, col, pixel))                   # (28,28,1)\n",
        "\n",
        "  # Encodes a row of pixels using TimeDistributed Wrapper.\n",
        "  encoded_row = layers.TimeDistributed(\n",
        "                            layers.LSTM(row_hidden))(x)       # (?,28,50)<-(?,28,28,1)\n",
        "\n",
        "  # Encodes columns of encoded rows.\n",
        "  encoded_col = layers.LSTM(col_hidden,\n",
        "                            name='encode_col')(encoded_row)   # (?,30)<-(?,28,50)\n",
        "\n",
        "  # Dense layer                                        \n",
        "  prediction = layers.Dense(num_classes, \n",
        "                            activation='softmax')(encoded_col) # (?,10)<-(?,30)\n",
        "                                                        \n",
        "  # return model\n",
        "  return models.Model(x, prediction)"
      ],
      "execution_count": 0,
      "outputs": []
    },
    {
      "cell_type": "markdown",
      "metadata": {
        "id": "n9BG8hNUgo0n",
        "colab_type": "text"
      },
      "source": [
        "### Compile"
      ]
    },
    {
      "cell_type": "code",
      "metadata": {
        "id": "owNujvBwXLjv",
        "colab_type": "code",
        "outputId": "78cdf008-f265-434b-8f6d-3582157d6109",
        "colab": {
          "base_uri": "https://localhost:8080/",
          "height": 308
        }
      },
      "source": [
        "model = model_function()\n",
        "\n",
        "model.compile(loss='sparse_categorical_crossentropy',\n",
        "              optimizer='rmsprop',\n",
        "              metrics=['accuracy'])\n",
        "\n",
        "model.summary()"
      ],
      "execution_count": 0,
      "outputs": [
        {
          "output_type": "stream",
          "text": [
            "Model: \"model_1\"\n",
            "_________________________________________________________________\n",
            "Layer (type)                 Output Shape              Param #   \n",
            "=================================================================\n",
            "input_2 (InputLayer)         [(None, 28, 28, 1)]       0         \n",
            "_________________________________________________________________\n",
            "time_distributed_1 (TimeDist (None, 28, 50)            10400     \n",
            "_________________________________________________________________\n",
            "encode_col (LSTM)            (None, 30)                9720      \n",
            "_________________________________________________________________\n",
            "dense_1 (Dense)              (None, 10)                310       \n",
            "=================================================================\n",
            "Total params: 20,430\n",
            "Trainable params: 20,430\n",
            "Non-trainable params: 0\n",
            "_________________________________________________________________\n"
          ],
          "name": "stdout"
        }
      ]
    },
    {
      "cell_type": "markdown",
      "metadata": {
        "colab_type": "text",
        "id": "fAOKfujLZo94"
      },
      "source": [
        "### Fit"
      ]
    },
    {
      "cell_type": "markdown",
      "metadata": {
        "id": "7KbIreYLd6gj",
        "colab_type": "text"
      },
      "source": [
        "Epoch 30/30  \n",
        "60000/60000 [==============================] - 4s 66us/sample - loss: 0.0553 - accuracy: 0.9831 - val_loss: 0.1301 - val_accuracy: 0.9574  \n",
        "CPU times: user 1min 22s, sys: 25.4 s, total: 1min 48s  \n",
        "Wall time: 2min 3s"
      ]
    },
    {
      "cell_type": "code",
      "metadata": {
        "id": "WeRSZVJGzd0-",
        "colab_type": "code",
        "outputId": "9ea36235-722f-4e3e-a388-d0daf1f5108e",
        "colab": {
          "base_uri": "https://localhost:8080/",
          "height": 1000
        }
      },
      "source": [
        "%%time\n",
        "epochs = 30\n",
        "batch_size = 512\n",
        "\n",
        "history = model.fit(x_train, y_train,\n",
        "                    batch_size=batch_size,     \n",
        "                    epochs=epochs,             \n",
        "                    validation_data=(x_test, y_test))"
      ],
      "execution_count": 0,
      "outputs": [
        {
          "output_type": "stream",
          "text": [
            "Train on 60000 samples, validate on 10000 samples\n",
            "Epoch 1/30\n",
            "60000/60000 [==============================] - 10s 174us/sample - loss: 1.8374 - accuracy: 0.3468 - val_loss: 1.4269 - val_accuracy: 0.4896\n",
            "Epoch 2/30\n",
            "60000/60000 [==============================] - 4s 64us/sample - loss: 1.0990 - accuracy: 0.6259 - val_loss: 0.9116 - val_accuracy: 0.6819\n",
            "Epoch 3/30\n",
            "60000/60000 [==============================] - 4s 65us/sample - loss: 0.7984 - accuracy: 0.7251 - val_loss: 0.8200 - val_accuracy: 0.7124\n",
            "Epoch 4/30\n",
            "60000/60000 [==============================] - 4s 64us/sample - loss: 0.6576 - accuracy: 0.7801 - val_loss: 0.5649 - val_accuracy: 0.8145\n",
            "Epoch 5/30\n",
            "60000/60000 [==============================] - 4s 64us/sample - loss: 0.5598 - accuracy: 0.8169 - val_loss: 0.6003 - val_accuracy: 0.7936\n",
            "Epoch 6/30\n",
            "60000/60000 [==============================] - 4s 64us/sample - loss: 0.4787 - accuracy: 0.8462 - val_loss: 0.4847 - val_accuracy: 0.8435\n",
            "Epoch 7/30\n",
            "60000/60000 [==============================] - 4s 64us/sample - loss: 0.4161 - accuracy: 0.8700 - val_loss: 0.5659 - val_accuracy: 0.8082\n",
            "Epoch 8/30\n",
            "60000/60000 [==============================] - 4s 64us/sample - loss: 0.3601 - accuracy: 0.8881 - val_loss: 0.2945 - val_accuracy: 0.9114\n",
            "Epoch 9/30\n",
            "60000/60000 [==============================] - 4s 64us/sample - loss: 0.3182 - accuracy: 0.9032 - val_loss: 0.2512 - val_accuracy: 0.9256\n",
            "Epoch 10/30\n",
            "60000/60000 [==============================] - 4s 64us/sample - loss: 0.2778 - accuracy: 0.9157 - val_loss: 0.2702 - val_accuracy: 0.9146\n",
            "Epoch 11/30\n",
            "60000/60000 [==============================] - 4s 64us/sample - loss: 0.2489 - accuracy: 0.9251 - val_loss: 0.3258 - val_accuracy: 0.9013\n",
            "Epoch 12/30\n",
            "60000/60000 [==============================] - 4s 64us/sample - loss: 0.2240 - accuracy: 0.9329 - val_loss: 0.3022 - val_accuracy: 0.9056\n",
            "Epoch 13/30\n",
            "60000/60000 [==============================] - 4s 64us/sample - loss: 0.2002 - accuracy: 0.9392 - val_loss: 0.3186 - val_accuracy: 0.8920\n",
            "Epoch 14/30\n",
            "60000/60000 [==============================] - 4s 65us/sample - loss: 0.1825 - accuracy: 0.9457 - val_loss: 0.1583 - val_accuracy: 0.9509\n",
            "Epoch 15/30\n",
            "60000/60000 [==============================] - 4s 64us/sample - loss: 0.1639 - accuracy: 0.9507 - val_loss: 0.2354 - val_accuracy: 0.9303\n",
            "Epoch 16/30\n",
            "60000/60000 [==============================] - 4s 64us/sample - loss: 0.1499 - accuracy: 0.9542 - val_loss: 0.3328 - val_accuracy: 0.8940\n",
            "Epoch 17/30\n",
            "60000/60000 [==============================] - 4s 64us/sample - loss: 0.1393 - accuracy: 0.9577 - val_loss: 0.3566 - val_accuracy: 0.8920\n",
            "Epoch 18/30\n",
            "60000/60000 [==============================] - 4s 64us/sample - loss: 0.1279 - accuracy: 0.9612 - val_loss: 0.1489 - val_accuracy: 0.9538\n",
            "Epoch 19/30\n",
            "60000/60000 [==============================] - 4s 64us/sample - loss: 0.1191 - accuracy: 0.9635 - val_loss: 0.1049 - val_accuracy: 0.9676\n",
            "Epoch 20/30\n",
            "60000/60000 [==============================] - 4s 63us/sample - loss: 0.1115 - accuracy: 0.9667 - val_loss: 0.1564 - val_accuracy: 0.9499\n",
            "Epoch 21/30\n",
            "60000/60000 [==============================] - 4s 64us/sample - loss: 0.1046 - accuracy: 0.9682 - val_loss: 0.0932 - val_accuracy: 0.9720\n",
            "Epoch 22/30\n",
            "60000/60000 [==============================] - 4s 64us/sample - loss: 0.0992 - accuracy: 0.9700 - val_loss: 0.1124 - val_accuracy: 0.9654\n",
            "Epoch 23/30\n",
            "60000/60000 [==============================] - 4s 64us/sample - loss: 0.0936 - accuracy: 0.9710 - val_loss: 0.1282 - val_accuracy: 0.9608\n",
            "Epoch 24/30\n",
            "60000/60000 [==============================] - 4s 64us/sample - loss: 0.0880 - accuracy: 0.9732 - val_loss: 0.1137 - val_accuracy: 0.9641\n",
            "Epoch 25/30\n",
            "60000/60000 [==============================] - 4s 64us/sample - loss: 0.0852 - accuracy: 0.9737 - val_loss: 0.0849 - val_accuracy: 0.9744\n",
            "Epoch 26/30\n",
            "60000/60000 [==============================] - 4s 64us/sample - loss: 0.0806 - accuracy: 0.9750 - val_loss: 0.0993 - val_accuracy: 0.9708\n",
            "Epoch 27/30\n",
            "60000/60000 [==============================] - 4s 64us/sample - loss: 0.0764 - accuracy: 0.9761 - val_loss: 0.0710 - val_accuracy: 0.9776\n",
            "Epoch 28/30\n",
            "60000/60000 [==============================] - 4s 64us/sample - loss: 0.0726 - accuracy: 0.9775 - val_loss: 0.0664 - val_accuracy: 0.9798\n",
            "Epoch 29/30\n",
            "60000/60000 [==============================] - 4s 64us/sample - loss: 0.0700 - accuracy: 0.9785 - val_loss: 0.0883 - val_accuracy: 0.9724\n",
            "Epoch 30/30\n",
            "60000/60000 [==============================] - 4s 64us/sample - loss: 0.0684 - accuracy: 0.9787 - val_loss: 0.0935 - val_accuracy: 0.9705\n",
            "CPU times: user 1min 20s, sys: 25.2 s, total: 1min 45s\n",
            "Wall time: 2min 1s\n"
          ],
          "name": "stdout"
        }
      ]
    },
    {
      "cell_type": "markdown",
      "metadata": {
        "colab_type": "text",
        "id": "0xquJJckXtu5"
      },
      "source": [
        "### Evaluate"
      ]
    },
    {
      "cell_type": "code",
      "metadata": {
        "id": "kuSVxgwR_n9x",
        "colab_type": "code",
        "outputId": "8c6e85d4-80a2-4bc9-dd23-0c7c6e1435b9",
        "colab": {
          "base_uri": "https://localhost:8080/",
          "height": 54
        }
      },
      "source": [
        "scores = model.evaluate(x_test, y_test, verbose=0)\n",
        "print('Test loss:', scores[0])\n",
        "print('Test accuracy:', scores[1])"
      ],
      "execution_count": 0,
      "outputs": [
        {
          "output_type": "stream",
          "text": [
            "Test loss: 0.09353901843577624\n",
            "Test accuracy: 0.9705\n"
          ],
          "name": "stdout"
        }
      ]
    },
    {
      "cell_type": "markdown",
      "metadata": {
        "colab_type": "text",
        "id": "zMat0-hSzeq_"
      },
      "source": [
        "## **Analysis**"
      ]
    },
    {
      "cell_type": "markdown",
      "metadata": {
        "id": "bmh73SkvAsjd",
        "colab_type": "text"
      },
      "source": [
        "### Plot"
      ]
    },
    {
      "cell_type": "code",
      "metadata": {
        "id": "EGhsQm-i_sZx",
        "colab_type": "code",
        "outputId": "5cd484df-9fee-446b-c1a3-c54f58b91a37",
        "colab": {
          "base_uri": "https://localhost:8080/"
        }
      },
      "source": [
        "losses = history.history['loss']\n",
        "val_loss = history.history['val_loss']\n",
        "\n",
        "plt.figure(figsize=(10, 4))\n",
        "plt.plot(losses, label='loss')\n",
        "plt.plot(val_loss, label='val_loss')\n",
        "plt.grid(True)\n",
        "plt.legend(loc='best')\n",
        "plt.title(\"Loss\")"
      ],
      "execution_count": 0,
      "outputs": [
        {
          "output_type": "execute_result",
          "data": {
            "text/plain": [
              "Text(0.5, 1.0, 'Loss')"
            ]
          },
          "metadata": {
            "tags": []
          },
          "execution_count": 17
        },
        {
          "output_type": "display_data",
          "data": {
            "image/png": "[encoded data removed]",
            "text/plain": [
              "<Figure size 720x288 with 1 Axes>"
            ]
          },
          "metadata": {
            "tags": []
          }
        }
      ]
    },
    {
      "cell_type": "markdown",
      "metadata": {
        "id": "GnaUZbi_hIHw",
        "colab_type": "text"
      },
      "source": [
        "## ***실습 과제***"
      ]
    },
    {
      "cell_type": "markdown",
      "metadata": {
        "colab_type": "text",
        "id": "TiG07ywhhoEm"
      },
      "source": [
        "#### 과제 1. 없음!!\n"
      ]
    }
  ]
}