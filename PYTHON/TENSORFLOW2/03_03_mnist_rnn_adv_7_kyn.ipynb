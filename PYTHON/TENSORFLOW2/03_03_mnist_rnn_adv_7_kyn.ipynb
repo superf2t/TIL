{
  "nbformat": 4,
  "nbformat_minor": 0,
  "metadata": {
    "colab": {
      "name": "03_03_mnist_rnn_adv_7_kyn.ipynb",
      "provenance": [],
      "collapsed_sections": [],
      "include_colab_link": true
    },
    "kernelspec": {
      "name": "python3",
      "display_name": "Python 3"
    },
    "accelerator": "GPU"
  },
  "cells": [
    {
      "cell_type": "markdown",
      "metadata": {
        "id": "view-in-github",
        "colab_type": "text"
      },
      "source": [
        "<a href=\"https://colab.research.google.com/github/KwonYN/TIL/blob/master/PYTHON/TENSORFLOW2/03_03_mnist_rnn_adv_7_kyn.ipynb\" target=\"_parent\"><img src=\"https://colab.research.google.com/assets/colab-badge.svg\" alt=\"Open In Colab\"/></a>"
      ]
    },
    {
      "cell_type": "markdown",
      "metadata": {
        "id": "YUbrsmxWf04y",
        "colab_type": "text"
      },
      "source": [
        "# **실습 3-3 : MNIST RNN Advanced, Bi-directional RNN** \n"
      ]
    },
    {
      "cell_type": "markdown",
      "metadata": {
        "colab_type": "text",
        "id": "Ho6uwOJ9YkfT"
      },
      "source": [
        "## **Import Module**"
      ]
    },
    {
      "cell_type": "code",
      "metadata": {
        "colab_type": "code",
        "id": "0trJmd6DjqBZ",
        "outputId": "f1ec324c-cc51-4589-d55d-2683a5e3dea9",
        "colab": {
          "base_uri": "https://localhost:8080/",
          "height": 54
        }
      },
      "source": [
        "%tensorflow_version 2.x\n",
        "import tensorflow as tf\n",
        "  \n",
        "import tensorflow.keras as keras\n",
        "\n",
        "import numpy as np\n",
        "import matplotlib.pyplot as plt\n",
        "\n",
        "tf.__version__"
      ],
      "execution_count": 0,
      "outputs": [
        {
          "output_type": "stream",
          "text": [
            "TensorFlow 2.x selected.\n"
          ],
          "name": "stdout"
        },
        {
          "output_type": "execute_result",
          "data": {
            "text/plain": [
              "'2.0.0'"
            ]
          },
          "metadata": {
            "tags": []
          },
          "execution_count": 2
        }
      ]
    },
    {
      "cell_type": "markdown",
      "metadata": {
        "id": "wOiaPQ3xgJQC",
        "colab_type": "text"
      },
      "source": [
        "## **DataSet**"
      ]
    },
    {
      "cell_type": "markdown",
      "metadata": {
        "id": "aD28IHuegUxp",
        "colab_type": "text"
      },
      "source": [
        "### Load"
      ]
    },
    {
      "cell_type": "code",
      "metadata": {
        "id": "cC8AS287Hz-9",
        "colab_type": "code",
        "colab": {}
      },
      "source": [
        "#(x_train, y_train), (x_test, y_test) = keras.datasets.mnist.load_data()\n",
        "(x_train, y_train), (x_test, y_test) = keras.datasets.fashion_mnist.load_data()\n",
        "x_train, x_test = x_train / 255.0, x_test / 255.0\n",
        "sample, sample_label = x_train[0], y_train[0]"
      ],
      "execution_count": 0,
      "outputs": []
    },
    {
      "cell_type": "markdown",
      "metadata": {
        "id": "EY3zfzjlgbYj",
        "colab_type": "text"
      },
      "source": [
        "## **Model**"
      ]
    },
    {
      "cell_type": "markdown",
      "metadata": {
        "id": "PUqUyRtngdUC",
        "colab_type": "text"
      },
      "source": [
        "### Define"
      ]
    },
    {
      "cell_type": "code",
      "metadata": {
        "id": "vCAvqXiiDI6X",
        "colab_type": "code",
        "colab": {}
      },
      "source": [
        "# Each MNIST image batch is a tensor of shape (batch_size, 28, 28).\n",
        "# Each input sequence will be of size (28, 28) (height is treated like time).\n",
        "input_dim = 28\n",
        "\n",
        "units = 16\n",
        "output_size = 10  # labels are from 0 to 9\n",
        "\n",
        "## Build the RNN model\n",
        "def model_RNN():\n",
        "  lstm_layer = keras.layers.LSTM(units,     # keras.lyaer.LSTM\n",
        "                     input_shape=(None, input_dim))\n",
        "#\n",
        "  model = keras.models.Sequential(name=\"Basic-RNN\")\n",
        "  model.add(lstm_layer)\n",
        "#  model.add(keras.layers.BatchNormalization())\n",
        "  model.add(keras.layers.Dense(output_size, activation='softmax'))\n",
        "  return model\n",
        "\n",
        "## Build the Bi-RNN model\n",
        "def model_BRNN():\n",
        "  lstm_layer = keras.layers.Bidirectional(  # keras.layers.Bidirectional\n",
        "                  keras.layers.LSTM(units), # LSTM \n",
        "                        input_shape=(None, input_dim))\n",
        "#\n",
        "  model = keras.models.Sequential(name=\"Bidirectional-RNN\")\n",
        "  model.add(lstm_layer)\n",
        "#  model.add(keras.layers.BatchNormalization())\n",
        "  model.add(keras.layers.Dense(output_size, activation='softmax'))\n",
        "  return model"
      ],
      "execution_count": 0,
      "outputs": []
    },
    {
      "cell_type": "markdown",
      "metadata": {
        "id": "n9BG8hNUgo0n",
        "colab_type": "text"
      },
      "source": [
        "### Compile"
      ]
    },
    {
      "cell_type": "code",
      "metadata": {
        "id": "EJbIBgLeZp_T",
        "colab_type": "code",
        "outputId": "79a35e16-4027-42b0-87c7-13a6498f3770",
        "colab": {
          "base_uri": "https://localhost:8080/",
          "height": 508
        }
      },
      "source": [
        "# model_R : RNN\n",
        "model_R = model_RNN()\n",
        "model_R.compile(loss='sparse_categorical_crossentropy', \n",
        "              optimizer='adam',\n",
        "              metrics=['accuracy'])\n",
        "\n",
        "# model_Bi : bi-RNN\n",
        "model_Bi = model_BRNN()\n",
        "model_Bi.compile(loss='sparse_categorical_crossentropy', \n",
        "              optimizer='adam',\n",
        "              metrics=['accuracy'])\n",
        "\n",
        "model_R.summary()\n",
        "print();print();print()\n",
        "model_Bi.summary()"
      ],
      "execution_count": 0,
      "outputs": [
        {
          "output_type": "stream",
          "text": [
            "Model: \"Basic-RNN\"\n",
            "_________________________________________________________________\n",
            "Layer (type)                 Output Shape              Param #   \n",
            "=================================================================\n",
            "lstm (LSTM)                  (None, 16)                2880      \n",
            "_________________________________________________________________\n",
            "dense (Dense)                (None, 10)                170       \n",
            "=================================================================\n",
            "Total params: 3,050\n",
            "Trainable params: 3,050\n",
            "Non-trainable params: 0\n",
            "_________________________________________________________________\n",
            "\n",
            "\n",
            "\n",
            "Model: \"Bidirectional-RNN\"\n",
            "_________________________________________________________________\n",
            "Layer (type)                 Output Shape              Param #   \n",
            "=================================================================\n",
            "bidirectional (Bidirectional (None, 32)                5760      \n",
            "_________________________________________________________________\n",
            "dense_1 (Dense)              (None, 10)                330       \n",
            "=================================================================\n",
            "Total params: 6,090\n",
            "Trainable params: 6,090\n",
            "Non-trainable params: 0\n",
            "_________________________________________________________________\n"
          ],
          "name": "stdout"
        }
      ]
    },
    {
      "cell_type": "markdown",
      "metadata": {
        "colab_type": "text",
        "id": "fAOKfujLZo94"
      },
      "source": [
        "### Fit"
      ]
    },
    {
      "cell_type": "markdown",
      "metadata": {
        "id": "wtgvcJnrAdfc",
        "colab_type": "text"
      },
      "source": [
        "Epoch 30/30\n",
        "60000/60000 [==============================] - 5s 81us/sample - loss: 0.0992 - accuracy: 0.9701 - val_loss: 0.1091 - val_accuracy: 0.9658\n",
        "CPU times: user 3min 58s, sys: 10.3 s, total: 4min 8s\n",
        "\n",
        "Wall time: 2min 28s (@Edit-Notebook Setting-GPU)"
      ]
    },
    {
      "cell_type": "code",
      "metadata": {
        "id": "kuSVxgwR_n9x",
        "colab_type": "code",
        "outputId": "2a70854a-7ddb-4c5b-ecfa-d6ff4206f5b8",
        "colab": {
          "base_uri": "https://localhost:8080/",
          "height": 1000
        }
      },
      "source": [
        "%%time\n",
        "batch_size = 64\n",
        "epochs_list = [30, 100, 150, 200]\n",
        "\n",
        "history_R = model_R.fit(x_train, y_train,\n",
        "          validation_data=(x_test, y_test),\n",
        "          batch_size=batch_size,\n",
        "          epochs=200)\n",
        "\n",
        "his_acc = history_R.history['val_accuracy']\n",
        "for i in range(4):\n",
        "  print(\"{} : {}\".format(epochs_list[i], np.max(his_acc[:epochs_list[i]+1])))\n",
        "\n"
      ],
      "execution_count": 0,
      "outputs": [
        {
          "output_type": "stream",
          "text": [
            "Train on 60000 samples, validate on 10000 samples\n",
            "Epoch 1/200\n",
            "60000/60000 [==============================] - 8s 140us/sample - loss: 0.9997 - accuracy: 0.6705 - val_loss: 0.6984 - val_accuracy: 0.7576\n",
            "Epoch 2/200\n",
            "60000/60000 [==============================] - 5s 81us/sample - loss: 0.6309 - accuracy: 0.7823 - val_loss: 0.6152 - val_accuracy: 0.7842\n",
            "Epoch 3/200\n",
            "60000/60000 [==============================] - 5s 82us/sample - loss: 0.5650 - accuracy: 0.8020 - val_loss: 0.5644 - val_accuracy: 0.7955\n",
            "Epoch 4/200\n",
            "60000/60000 [==============================] - 5s 81us/sample - loss: 0.5284 - accuracy: 0.8135 - val_loss: 0.5331 - val_accuracy: 0.8100\n",
            "Epoch 5/200\n",
            "60000/60000 [==============================] - 5s 84us/sample - loss: 0.5011 - accuracy: 0.8238 - val_loss: 0.5177 - val_accuracy: 0.8165\n",
            "Epoch 6/200\n",
            "60000/60000 [==============================] - 5s 87us/sample - loss: 0.4786 - accuracy: 0.8325 - val_loss: 0.5033 - val_accuracy: 0.8227\n",
            "Epoch 7/200\n",
            "60000/60000 [==============================] - 5s 86us/sample - loss: 0.4619 - accuracy: 0.8380 - val_loss: 0.4743 - val_accuracy: 0.8321\n",
            "Epoch 8/200\n",
            "60000/60000 [==============================] - 5s 81us/sample - loss: 0.4481 - accuracy: 0.8416 - val_loss: 0.4635 - val_accuracy: 0.8387\n",
            "Epoch 9/200\n",
            "60000/60000 [==============================] - 5s 82us/sample - loss: 0.4334 - accuracy: 0.8481 - val_loss: 0.4508 - val_accuracy: 0.8414\n",
            "Epoch 10/200\n",
            "60000/60000 [==============================] - 5s 81us/sample - loss: 0.4239 - accuracy: 0.8501 - val_loss: 0.4472 - val_accuracy: 0.8416\n",
            "Epoch 11/200\n",
            "60000/60000 [==============================] - 5s 81us/sample - loss: 0.4139 - accuracy: 0.8538 - val_loss: 0.4436 - val_accuracy: 0.8454\n",
            "Epoch 12/200\n",
            "60000/60000 [==============================] - 5s 83us/sample - loss: 0.4078 - accuracy: 0.8568 - val_loss: 0.4446 - val_accuracy: 0.8430\n",
            "Epoch 13/200\n",
            "60000/60000 [==============================] - 5s 82us/sample - loss: 0.4003 - accuracy: 0.8583 - val_loss: 0.4281 - val_accuracy: 0.8489\n",
            "Epoch 14/200\n",
            "60000/60000 [==============================] - 5s 82us/sample - loss: 0.3951 - accuracy: 0.8592 - val_loss: 0.4190 - val_accuracy: 0.8523\n",
            "Epoch 15/200\n",
            "60000/60000 [==============================] - 5s 82us/sample - loss: 0.3882 - accuracy: 0.8613 - val_loss: 0.4314 - val_accuracy: 0.8450\n",
            "Epoch 16/200\n",
            "60000/60000 [==============================] - 5s 83us/sample - loss: 0.3826 - accuracy: 0.8622 - val_loss: 0.4273 - val_accuracy: 0.8484\n",
            "Epoch 17/200\n",
            "60000/60000 [==============================] - 5s 81us/sample - loss: 0.3778 - accuracy: 0.8643 - val_loss: 0.4082 - val_accuracy: 0.8556\n",
            "Epoch 18/200\n",
            "60000/60000 [==============================] - 5s 82us/sample - loss: 0.3735 - accuracy: 0.8656 - val_loss: 0.4099 - val_accuracy: 0.8527\n",
            "Epoch 19/200\n",
            "60000/60000 [==============================] - 5s 81us/sample - loss: 0.3686 - accuracy: 0.8668 - val_loss: 0.4053 - val_accuracy: 0.8551\n",
            "Epoch 20/200\n",
            "60000/60000 [==============================] - 5s 83us/sample - loss: 0.3641 - accuracy: 0.8692 - val_loss: 0.3996 - val_accuracy: 0.8577\n",
            "Epoch 21/200\n",
            "60000/60000 [==============================] - 5s 82us/sample - loss: 0.3595 - accuracy: 0.8705 - val_loss: 0.4041 - val_accuracy: 0.8561\n",
            "Epoch 22/200\n",
            "60000/60000 [==============================] - 5s 81us/sample - loss: 0.3576 - accuracy: 0.8708 - val_loss: 0.4020 - val_accuracy: 0.8589\n",
            "Epoch 23/200\n",
            "60000/60000 [==============================] - 5s 81us/sample - loss: 0.3527 - accuracy: 0.8731 - val_loss: 0.3902 - val_accuracy: 0.8600\n",
            "Epoch 24/200\n",
            "60000/60000 [==============================] - 5s 80us/sample - loss: 0.3518 - accuracy: 0.8735 - val_loss: 0.3892 - val_accuracy: 0.8601\n",
            "Epoch 25/200\n",
            "60000/60000 [==============================] - 5s 82us/sample - loss: 0.3477 - accuracy: 0.8739 - val_loss: 0.3809 - val_accuracy: 0.8640\n",
            "Epoch 26/200\n",
            "60000/60000 [==============================] - 5s 84us/sample - loss: 0.3459 - accuracy: 0.8744 - val_loss: 0.3822 - val_accuracy: 0.8620\n",
            "Epoch 27/200\n",
            "60000/60000 [==============================] - 5s 84us/sample - loss: 0.3427 - accuracy: 0.8765 - val_loss: 0.3872 - val_accuracy: 0.8624\n",
            "Epoch 28/200\n",
            "60000/60000 [==============================] - 5s 83us/sample - loss: 0.3416 - accuracy: 0.8767 - val_loss: 0.3794 - val_accuracy: 0.8669\n",
            "Epoch 29/200\n",
            "60000/60000 [==============================] - 5s 84us/sample - loss: 0.3389 - accuracy: 0.8783 - val_loss: 0.3791 - val_accuracy: 0.8645\n",
            "Epoch 30/200\n",
            "60000/60000 [==============================] - 5s 85us/sample - loss: 0.3389 - accuracy: 0.8778 - val_loss: 0.3795 - val_accuracy: 0.8623\n",
            "Epoch 31/200\n",
            "60000/60000 [==============================] - 5s 86us/sample - loss: 0.3345 - accuracy: 0.8786 - val_loss: 0.3793 - val_accuracy: 0.8622\n",
            "Epoch 32/200\n",
            "60000/60000 [==============================] - 5s 84us/sample - loss: 0.3336 - accuracy: 0.8793 - val_loss: 0.3800 - val_accuracy: 0.8646\n",
            "Epoch 33/200\n",
            "60000/60000 [==============================] - 5s 88us/sample - loss: 0.3314 - accuracy: 0.8803 - val_loss: 0.3756 - val_accuracy: 0.8678\n",
            "Epoch 34/200\n",
            "60000/60000 [==============================] - 5s 86us/sample - loss: 0.3302 - accuracy: 0.8804 - val_loss: 0.3874 - val_accuracy: 0.8646\n",
            "Epoch 35/200\n",
            "60000/60000 [==============================] - 5s 87us/sample - loss: 0.3283 - accuracy: 0.8810 - val_loss: 0.3766 - val_accuracy: 0.8663\n",
            "Epoch 36/200\n",
            "60000/60000 [==============================] - 5s 86us/sample - loss: 0.3270 - accuracy: 0.8829 - val_loss: 0.3800 - val_accuracy: 0.8663\n",
            "Epoch 37/200\n",
            "60000/60000 [==============================] - 5s 85us/sample - loss: 0.3262 - accuracy: 0.8824 - val_loss: 0.3746 - val_accuracy: 0.8691\n",
            "Epoch 38/200\n",
            "60000/60000 [==============================] - 5s 85us/sample - loss: 0.3262 - accuracy: 0.8827 - val_loss: 0.3727 - val_accuracy: 0.8674\n",
            "Epoch 39/200\n",
            "60000/60000 [==============================] - 5s 81us/sample - loss: 0.3232 - accuracy: 0.8827 - val_loss: 0.3763 - val_accuracy: 0.8697\n",
            "Epoch 40/200\n",
            "60000/60000 [==============================] - 5s 82us/sample - loss: 0.3208 - accuracy: 0.8841 - val_loss: 0.3651 - val_accuracy: 0.8714\n",
            "Epoch 41/200\n",
            "60000/60000 [==============================] - 5s 81us/sample - loss: 0.3198 - accuracy: 0.8845 - val_loss: 0.3777 - val_accuracy: 0.8664\n",
            "Epoch 42/200\n",
            "60000/60000 [==============================] - 5s 82us/sample - loss: 0.3202 - accuracy: 0.8839 - val_loss: 0.3661 - val_accuracy: 0.8725\n",
            "Epoch 43/200\n",
            "60000/60000 [==============================] - 5s 81us/sample - loss: 0.3187 - accuracy: 0.8846 - val_loss: 0.3659 - val_accuracy: 0.8723\n",
            "Epoch 44/200\n",
            "60000/60000 [==============================] - 5s 82us/sample - loss: 0.3183 - accuracy: 0.8855 - val_loss: 0.3718 - val_accuracy: 0.8687\n",
            "Epoch 45/200\n",
            "60000/60000 [==============================] - 5s 82us/sample - loss: 0.3162 - accuracy: 0.8858 - val_loss: 0.3686 - val_accuracy: 0.8701\n",
            "Epoch 46/200\n",
            "60000/60000 [==============================] - 5s 80us/sample - loss: 0.3163 - accuracy: 0.8857 - val_loss: 0.3654 - val_accuracy: 0.8710\n",
            "Epoch 47/200\n",
            "60000/60000 [==============================] - 5s 80us/sample - loss: 0.3145 - accuracy: 0.8867 - val_loss: 0.3689 - val_accuracy: 0.8672\n",
            "Epoch 48/200\n",
            "60000/60000 [==============================] - 5s 80us/sample - loss: 0.3137 - accuracy: 0.8873 - val_loss: 0.3658 - val_accuracy: 0.8730\n",
            "Epoch 49/200\n",
            "60000/60000 [==============================] - 5s 83us/sample - loss: 0.3134 - accuracy: 0.8869 - val_loss: 0.3642 - val_accuracy: 0.8723\n",
            "Epoch 50/200\n",
            "60000/60000 [==============================] - 5s 84us/sample - loss: 0.3127 - accuracy: 0.8880 - val_loss: 0.3617 - val_accuracy: 0.8715\n",
            "Epoch 51/200\n",
            "60000/60000 [==============================] - 5s 82us/sample - loss: 0.3106 - accuracy: 0.8885 - val_loss: 0.3658 - val_accuracy: 0.8696\n",
            "Epoch 52/200\n",
            "60000/60000 [==============================] - 5s 81us/sample - loss: 0.3122 - accuracy: 0.8870 - val_loss: 0.3637 - val_accuracy: 0.8723\n",
            "Epoch 53/200\n",
            "60000/60000 [==============================] - 5s 81us/sample - loss: 0.3088 - accuracy: 0.8882 - val_loss: 0.3631 - val_accuracy: 0.8717\n",
            "Epoch 54/200\n",
            "60000/60000 [==============================] - 5s 82us/sample - loss: 0.3075 - accuracy: 0.8883 - val_loss: 0.3756 - val_accuracy: 0.8684\n",
            "Epoch 55/200\n",
            "60000/60000 [==============================] - 5s 84us/sample - loss: 0.3078 - accuracy: 0.8889 - val_loss: 0.3615 - val_accuracy: 0.8752\n",
            "Epoch 56/200\n",
            "60000/60000 [==============================] - 5s 81us/sample - loss: 0.3070 - accuracy: 0.8890 - val_loss: 0.3634 - val_accuracy: 0.8731\n",
            "Epoch 57/200\n",
            "60000/60000 [==============================] - 5s 81us/sample - loss: 0.3060 - accuracy: 0.8885 - val_loss: 0.3641 - val_accuracy: 0.8735\n",
            "Epoch 58/200\n",
            "60000/60000 [==============================] - 5s 81us/sample - loss: 0.3050 - accuracy: 0.8888 - val_loss: 0.3616 - val_accuracy: 0.8713\n",
            "Epoch 59/200\n",
            "60000/60000 [==============================] - 5s 82us/sample - loss: 0.3054 - accuracy: 0.8902 - val_loss: 0.3698 - val_accuracy: 0.8702\n",
            "Epoch 60/200\n",
            "60000/60000 [==============================] - 5s 82us/sample - loss: 0.3036 - accuracy: 0.8903 - val_loss: 0.3652 - val_accuracy: 0.8728\n",
            "Epoch 61/200\n",
            "60000/60000 [==============================] - 5s 82us/sample - loss: 0.3026 - accuracy: 0.8909 - val_loss: 0.3718 - val_accuracy: 0.8719\n",
            "Epoch 62/200\n",
            "60000/60000 [==============================] - 5s 82us/sample - loss: 0.3021 - accuracy: 0.8904 - val_loss: 0.3667 - val_accuracy: 0.8740\n",
            "Epoch 63/200\n",
            "60000/60000 [==============================] - 5s 82us/sample - loss: 0.3030 - accuracy: 0.8903 - val_loss: 0.3660 - val_accuracy: 0.8715\n",
            "Epoch 64/200\n",
            "60000/60000 [==============================] - 5s 81us/sample - loss: 0.3026 - accuracy: 0.8899 - val_loss: 0.3584 - val_accuracy: 0.8754\n",
            "Epoch 65/200\n",
            "60000/60000 [==============================] - 5s 82us/sample - loss: 0.3000 - accuracy: 0.8926 - val_loss: 0.3626 - val_accuracy: 0.8718\n",
            "Epoch 66/200\n",
            "60000/60000 [==============================] - 5s 80us/sample - loss: 0.3007 - accuracy: 0.8907 - val_loss: 0.3724 - val_accuracy: 0.8688\n",
            "Epoch 67/200\n",
            "60000/60000 [==============================] - 5s 80us/sample - loss: 0.3000 - accuracy: 0.8913 - val_loss: 0.3621 - val_accuracy: 0.8736\n",
            "Epoch 68/200\n",
            "60000/60000 [==============================] - 5s 85us/sample - loss: 0.2988 - accuracy: 0.8922 - val_loss: 0.3625 - val_accuracy: 0.8740\n",
            "Epoch 69/200\n",
            "60000/60000 [==============================] - 5s 87us/sample - loss: 0.2982 - accuracy: 0.8918 - val_loss: 0.3589 - val_accuracy: 0.8743\n",
            "Epoch 70/200\n",
            "60000/60000 [==============================] - 5s 83us/sample - loss: 0.2976 - accuracy: 0.8931 - val_loss: 0.3601 - val_accuracy: 0.8759\n",
            "Epoch 71/200\n",
            "60000/60000 [==============================] - 5s 82us/sample - loss: 0.2967 - accuracy: 0.8931 - val_loss: 0.3640 - val_accuracy: 0.8732\n",
            "Epoch 72/200\n",
            "60000/60000 [==============================] - 5s 81us/sample - loss: 0.2981 - accuracy: 0.8923 - val_loss: 0.3676 - val_accuracy: 0.8713\n",
            "Epoch 73/200\n",
            "60000/60000 [==============================] - 5s 80us/sample - loss: 0.2962 - accuracy: 0.8924 - val_loss: 0.3615 - val_accuracy: 0.8713\n",
            "Epoch 74/200\n",
            "60000/60000 [==============================] - 5s 81us/sample - loss: 0.2953 - accuracy: 0.8934 - val_loss: 0.3636 - val_accuracy: 0.8714\n",
            "Epoch 75/200\n",
            "60000/60000 [==============================] - 5s 82us/sample - loss: 0.2957 - accuracy: 0.8920 - val_loss: 0.3589 - val_accuracy: 0.8736\n",
            "Epoch 76/200\n",
            "60000/60000 [==============================] - 5s 82us/sample - loss: 0.2949 - accuracy: 0.8934 - val_loss: 0.3602 - val_accuracy: 0.8734\n",
            "Epoch 77/200\n",
            "60000/60000 [==============================] - 5s 83us/sample - loss: 0.2941 - accuracy: 0.8939 - val_loss: 0.3685 - val_accuracy: 0.8715\n",
            "Epoch 78/200\n",
            "60000/60000 [==============================] - 5s 83us/sample - loss: 0.2937 - accuracy: 0.8941 - val_loss: 0.3617 - val_accuracy: 0.8714\n",
            "Epoch 79/200\n",
            "60000/60000 [==============================] - 5s 82us/sample - loss: 0.2937 - accuracy: 0.8935 - val_loss: 0.3703 - val_accuracy: 0.8691\n",
            "Epoch 80/200\n",
            "60000/60000 [==============================] - 5s 81us/sample - loss: 0.2934 - accuracy: 0.8930 - val_loss: 0.3618 - val_accuracy: 0.8760\n",
            "Epoch 81/200\n",
            "60000/60000 [==============================] - 5s 82us/sample - loss: 0.2931 - accuracy: 0.8946 - val_loss: 0.3598 - val_accuracy: 0.8754\n",
            "Epoch 82/200\n",
            "60000/60000 [==============================] - 5s 81us/sample - loss: 0.2913 - accuracy: 0.8942 - val_loss: 0.3665 - val_accuracy: 0.8716\n",
            "Epoch 83/200\n",
            "60000/60000 [==============================] - 5s 81us/sample - loss: 0.2915 - accuracy: 0.8944 - val_loss: 0.3575 - val_accuracy: 0.8738\n",
            "Epoch 84/200\n",
            "60000/60000 [==============================] - 5s 82us/sample - loss: 0.2915 - accuracy: 0.8938 - val_loss: 0.3652 - val_accuracy: 0.8709\n",
            "Epoch 85/200\n",
            "60000/60000 [==============================] - 5s 80us/sample - loss: 0.2905 - accuracy: 0.8951 - val_loss: 0.3685 - val_accuracy: 0.8700\n",
            "Epoch 86/200\n",
            "60000/60000 [==============================] - 5s 81us/sample - loss: 0.2907 - accuracy: 0.8941 - val_loss: 0.3587 - val_accuracy: 0.8752\n",
            "Epoch 87/200\n",
            "60000/60000 [==============================] - 5s 82us/sample - loss: 0.2895 - accuracy: 0.8948 - val_loss: 0.3650 - val_accuracy: 0.8739\n",
            "Epoch 88/200\n",
            "60000/60000 [==============================] - 5s 83us/sample - loss: 0.2895 - accuracy: 0.8942 - val_loss: 0.3597 - val_accuracy: 0.8768\n",
            "Epoch 89/200\n",
            "60000/60000 [==============================] - 5s 82us/sample - loss: 0.2894 - accuracy: 0.8960 - val_loss: 0.3591 - val_accuracy: 0.8738\n",
            "Epoch 90/200\n",
            "60000/60000 [==============================] - 5s 82us/sample - loss: 0.2888 - accuracy: 0.8951 - val_loss: 0.3596 - val_accuracy: 0.8742\n",
            "Epoch 91/200\n",
            "60000/60000 [==============================] - 5s 82us/sample - loss: 0.2882 - accuracy: 0.8954 - val_loss: 0.3607 - val_accuracy: 0.8722\n",
            "Epoch 92/200\n",
            "60000/60000 [==============================] - 5s 82us/sample - loss: 0.2878 - accuracy: 0.8950 - val_loss: 0.3559 - val_accuracy: 0.8763\n",
            "Epoch 93/200\n",
            "60000/60000 [==============================] - 5s 82us/sample - loss: 0.2884 - accuracy: 0.8950 - val_loss: 0.3580 - val_accuracy: 0.8754\n",
            "Epoch 94/200\n",
            "60000/60000 [==============================] - 5s 82us/sample - loss: 0.2875 - accuracy: 0.8958 - val_loss: 0.3609 - val_accuracy: 0.8717\n",
            "Epoch 95/200\n",
            "60000/60000 [==============================] - 5s 81us/sample - loss: 0.2866 - accuracy: 0.8949 - val_loss: 0.3658 - val_accuracy: 0.8748\n",
            "Epoch 96/200\n",
            "60000/60000 [==============================] - 5s 81us/sample - loss: 0.2869 - accuracy: 0.8963 - val_loss: 0.3591 - val_accuracy: 0.8765\n",
            "Epoch 97/200\n",
            "60000/60000 [==============================] - 5s 83us/sample - loss: 0.2873 - accuracy: 0.8964 - val_loss: 0.3608 - val_accuracy: 0.8747\n",
            "Epoch 98/200\n",
            "60000/60000 [==============================] - 5s 80us/sample - loss: 0.2861 - accuracy: 0.8961 - val_loss: 0.3635 - val_accuracy: 0.8741\n",
            "Epoch 99/200\n",
            "60000/60000 [==============================] - 5s 83us/sample - loss: 0.2849 - accuracy: 0.8965 - val_loss: 0.3602 - val_accuracy: 0.8740\n",
            "Epoch 100/200\n",
            "60000/60000 [==============================] - 5s 82us/sample - loss: 0.2844 - accuracy: 0.8967 - val_loss: 0.3601 - val_accuracy: 0.8747\n",
            "Epoch 101/200\n",
            "60000/60000 [==============================] - 5s 81us/sample - loss: 0.2850 - accuracy: 0.8967 - val_loss: 0.3620 - val_accuracy: 0.8738\n",
            "Epoch 102/200\n",
            "60000/60000 [==============================] - 5s 82us/sample - loss: 0.2836 - accuracy: 0.8971 - val_loss: 0.3601 - val_accuracy: 0.8743\n",
            "Epoch 103/200\n",
            "60000/60000 [==============================] - 5s 83us/sample - loss: 0.2844 - accuracy: 0.8964 - val_loss: 0.3610 - val_accuracy: 0.8743\n",
            "Epoch 104/200\n",
            "60000/60000 [==============================] - 5s 81us/sample - loss: 0.2827 - accuracy: 0.8975 - val_loss: 0.3593 - val_accuracy: 0.8733\n",
            "Epoch 105/200\n",
            "60000/60000 [==============================] - 5s 82us/sample - loss: 0.2826 - accuracy: 0.8980 - val_loss: 0.3661 - val_accuracy: 0.8705\n",
            "Epoch 106/200\n",
            "60000/60000 [==============================] - 5s 82us/sample - loss: 0.2840 - accuracy: 0.8968 - val_loss: 0.3579 - val_accuracy: 0.8762\n",
            "Epoch 107/200\n",
            "60000/60000 [==============================] - 5s 81us/sample - loss: 0.2836 - accuracy: 0.8969 - val_loss: 0.3640 - val_accuracy: 0.8739\n",
            "Epoch 108/200\n",
            "60000/60000 [==============================] - 5s 82us/sample - loss: 0.2816 - accuracy: 0.8978 - val_loss: 0.3577 - val_accuracy: 0.8767\n",
            "Epoch 109/200\n",
            "60000/60000 [==============================] - 5s 82us/sample - loss: 0.2847 - accuracy: 0.8964 - val_loss: 0.3574 - val_accuracy: 0.8752\n",
            "Epoch 110/200\n",
            "60000/60000 [==============================] - 5s 82us/sample - loss: 0.2820 - accuracy: 0.8974 - val_loss: 0.3580 - val_accuracy: 0.8759\n",
            "Epoch 111/200\n",
            "60000/60000 [==============================] - 5s 82us/sample - loss: 0.2808 - accuracy: 0.8970 - val_loss: 0.3593 - val_accuracy: 0.8751\n",
            "Epoch 112/200\n",
            "60000/60000 [==============================] - 5s 82us/sample - loss: 0.2811 - accuracy: 0.8979 - val_loss: 0.3602 - val_accuracy: 0.8748\n",
            "Epoch 113/200\n",
            "60000/60000 [==============================] - 5s 81us/sample - loss: 0.2818 - accuracy: 0.8977 - val_loss: 0.3599 - val_accuracy: 0.8760\n",
            "Epoch 114/200\n",
            "60000/60000 [==============================] - 5s 81us/sample - loss: 0.2802 - accuracy: 0.8983 - val_loss: 0.3576 - val_accuracy: 0.8770\n",
            "Epoch 115/200\n",
            "60000/60000 [==============================] - 5s 82us/sample - loss: 0.2808 - accuracy: 0.8981 - val_loss: 0.3530 - val_accuracy: 0.8783\n",
            "Epoch 116/200\n",
            "60000/60000 [==============================] - 5s 82us/sample - loss: 0.2798 - accuracy: 0.8988 - val_loss: 0.3747 - val_accuracy: 0.8718\n",
            "Epoch 117/200\n",
            "60000/60000 [==============================] - 5s 81us/sample - loss: 0.2793 - accuracy: 0.8984 - val_loss: 0.3586 - val_accuracy: 0.8751\n",
            "Epoch 118/200\n",
            "60000/60000 [==============================] - 5s 81us/sample - loss: 0.2788 - accuracy: 0.8991 - val_loss: 0.3594 - val_accuracy: 0.8768\n",
            "Epoch 119/200\n",
            "60000/60000 [==============================] - 5s 81us/sample - loss: 0.2791 - accuracy: 0.8980 - val_loss: 0.3563 - val_accuracy: 0.8753\n",
            "Epoch 120/200\n",
            "60000/60000 [==============================] - 5s 80us/sample - loss: 0.2784 - accuracy: 0.8989 - val_loss: 0.3557 - val_accuracy: 0.8773\n",
            "Epoch 121/200\n",
            "60000/60000 [==============================] - 5s 81us/sample - loss: 0.2779 - accuracy: 0.8994 - val_loss: 0.3601 - val_accuracy: 0.8756\n",
            "Epoch 122/200\n",
            "60000/60000 [==============================] - 5s 81us/sample - loss: 0.2788 - accuracy: 0.8990 - val_loss: 0.3624 - val_accuracy: 0.8747\n",
            "Epoch 123/200\n",
            "60000/60000 [==============================] - 5s 81us/sample - loss: 0.2777 - accuracy: 0.8983 - val_loss: 0.3629 - val_accuracy: 0.8764\n",
            "Epoch 124/200\n",
            "60000/60000 [==============================] - 5s 82us/sample - loss: 0.2770 - accuracy: 0.8988 - val_loss: 0.3652 - val_accuracy: 0.8729\n",
            "Epoch 125/200\n",
            "60000/60000 [==============================] - 5s 81us/sample - loss: 0.2773 - accuracy: 0.8998 - val_loss: 0.3630 - val_accuracy: 0.8758\n",
            "Epoch 126/200\n",
            "60000/60000 [==============================] - 5s 81us/sample - loss: 0.2764 - accuracy: 0.8985 - val_loss: 0.3590 - val_accuracy: 0.8752\n",
            "Epoch 127/200\n",
            "60000/60000 [==============================] - 5s 81us/sample - loss: 0.2767 - accuracy: 0.8990 - val_loss: 0.3596 - val_accuracy: 0.8759\n",
            "Epoch 128/200\n",
            "60000/60000 [==============================] - 5s 82us/sample - loss: 0.2756 - accuracy: 0.8997 - val_loss: 0.3610 - val_accuracy: 0.8749\n",
            "Epoch 129/200\n",
            "60000/60000 [==============================] - 5s 82us/sample - loss: 0.2770 - accuracy: 0.8998 - val_loss: 0.3581 - val_accuracy: 0.8784\n",
            "Epoch 130/200\n",
            "60000/60000 [==============================] - 5s 82us/sample - loss: 0.2760 - accuracy: 0.9000 - val_loss: 0.3583 - val_accuracy: 0.8748\n",
            "Epoch 131/200\n",
            "60000/60000 [==============================] - 5s 86us/sample - loss: 0.2766 - accuracy: 0.8993 - val_loss: 0.3629 - val_accuracy: 0.8747\n",
            "Epoch 132/200\n",
            "60000/60000 [==============================] - 5s 87us/sample - loss: 0.2762 - accuracy: 0.8996 - val_loss: 0.3565 - val_accuracy: 0.8769\n",
            "Epoch 133/200\n",
            "60000/60000 [==============================] - 5s 83us/sample - loss: 0.2754 - accuracy: 0.9000 - val_loss: 0.3615 - val_accuracy: 0.8704\n",
            "Epoch 134/200\n",
            "60000/60000 [==============================] - 5s 81us/sample - loss: 0.2763 - accuracy: 0.8990 - val_loss: 0.3618 - val_accuracy: 0.8784\n",
            "Epoch 135/200\n",
            "60000/60000 [==============================] - 5s 81us/sample - loss: 0.2737 - accuracy: 0.9002 - val_loss: 0.3637 - val_accuracy: 0.8752\n",
            "Epoch 136/200\n",
            "60000/60000 [==============================] - 5s 81us/sample - loss: 0.2734 - accuracy: 0.9010 - val_loss: 0.3557 - val_accuracy: 0.8747\n",
            "Epoch 137/200\n",
            "60000/60000 [==============================] - 5s 82us/sample - loss: 0.2742 - accuracy: 0.9002 - val_loss: 0.3610 - val_accuracy: 0.8730\n",
            "Epoch 138/200\n",
            "60000/60000 [==============================] - 5s 81us/sample - loss: 0.2726 - accuracy: 0.9010 - val_loss: 0.3603 - val_accuracy: 0.8754\n",
            "Epoch 139/200\n",
            "60000/60000 [==============================] - 5s 82us/sample - loss: 0.2744 - accuracy: 0.9003 - val_loss: 0.3585 - val_accuracy: 0.8781\n",
            "Epoch 140/200\n",
            "60000/60000 [==============================] - 5s 83us/sample - loss: 0.2745 - accuracy: 0.9004 - val_loss: 0.3532 - val_accuracy: 0.8776\n",
            "Epoch 141/200\n",
            "60000/60000 [==============================] - 5s 83us/sample - loss: 0.2728 - accuracy: 0.9010 - val_loss: 0.3658 - val_accuracy: 0.8720\n",
            "Epoch 142/200\n",
            "60000/60000 [==============================] - 5s 83us/sample - loss: 0.2730 - accuracy: 0.9001 - val_loss: 0.3602 - val_accuracy: 0.8771\n",
            "Epoch 143/200\n",
            "60000/60000 [==============================] - 5s 82us/sample - loss: 0.2734 - accuracy: 0.9008 - val_loss: 0.3580 - val_accuracy: 0.8755\n",
            "Epoch 144/200\n",
            "60000/60000 [==============================] - 5s 82us/sample - loss: 0.2724 - accuracy: 0.9010 - val_loss: 0.3555 - val_accuracy: 0.8777\n",
            "Epoch 145/200\n",
            "60000/60000 [==============================] - 5s 82us/sample - loss: 0.2729 - accuracy: 0.9007 - val_loss: 0.3607 - val_accuracy: 0.8759\n",
            "Epoch 146/200\n",
            "60000/60000 [==============================] - 5s 82us/sample - loss: 0.2722 - accuracy: 0.9008 - val_loss: 0.3655 - val_accuracy: 0.8733\n",
            "Epoch 147/200\n",
            "60000/60000 [==============================] - 5s 82us/sample - loss: 0.2725 - accuracy: 0.9015 - val_loss: 0.3569 - val_accuracy: 0.8785\n",
            "Epoch 148/200\n",
            "60000/60000 [==============================] - 5s 82us/sample - loss: 0.2722 - accuracy: 0.9010 - val_loss: 0.3618 - val_accuracy: 0.8738\n",
            "Epoch 149/200\n",
            "60000/60000 [==============================] - 5s 82us/sample - loss: 0.2709 - accuracy: 0.9010 - val_loss: 0.3619 - val_accuracy: 0.8760\n",
            "Epoch 150/200\n",
            "60000/60000 [==============================] - 5s 84us/sample - loss: 0.2702 - accuracy: 0.9016 - val_loss: 0.3703 - val_accuracy: 0.8721\n",
            "Epoch 151/200\n",
            "60000/60000 [==============================] - 5s 83us/sample - loss: 0.2712 - accuracy: 0.9013 - val_loss: 0.3613 - val_accuracy: 0.8774\n",
            "Epoch 152/200\n",
            "60000/60000 [==============================] - 5s 83us/sample - loss: 0.2701 - accuracy: 0.9023 - val_loss: 0.3581 - val_accuracy: 0.8757\n",
            "Epoch 153/200\n",
            "60000/60000 [==============================] - 5s 84us/sample - loss: 0.2709 - accuracy: 0.9017 - val_loss: 0.3616 - val_accuracy: 0.8767\n",
            "Epoch 154/200\n",
            "60000/60000 [==============================] - 5s 82us/sample - loss: 0.2707 - accuracy: 0.9015 - val_loss: 0.3619 - val_accuracy: 0.8751\n",
            "Epoch 155/200\n",
            "60000/60000 [==============================] - 5s 81us/sample - loss: 0.2702 - accuracy: 0.9018 - val_loss: 0.3592 - val_accuracy: 0.8785\n",
            "Epoch 156/200\n",
            "60000/60000 [==============================] - 5s 82us/sample - loss: 0.2697 - accuracy: 0.9010 - val_loss: 0.3608 - val_accuracy: 0.8768\n",
            "Epoch 157/200\n",
            "60000/60000 [==============================] - 5s 81us/sample - loss: 0.2701 - accuracy: 0.9020 - val_loss: 0.3598 - val_accuracy: 0.8775\n",
            "Epoch 158/200\n",
            "60000/60000 [==============================] - 5s 84us/sample - loss: 0.2690 - accuracy: 0.9025 - val_loss: 0.3606 - val_accuracy: 0.8757\n",
            "Epoch 159/200\n",
            "60000/60000 [==============================] - 5s 83us/sample - loss: 0.2690 - accuracy: 0.9022 - val_loss: 0.3566 - val_accuracy: 0.8787\n",
            "Epoch 160/200\n",
            "60000/60000 [==============================] - 5s 82us/sample - loss: 0.2693 - accuracy: 0.9019 - val_loss: 0.3614 - val_accuracy: 0.8745\n",
            "Epoch 161/200\n",
            "60000/60000 [==============================] - 5s 81us/sample - loss: 0.2702 - accuracy: 0.9013 - val_loss: 0.3540 - val_accuracy: 0.8773\n",
            "Epoch 162/200\n",
            "60000/60000 [==============================] - 5s 82us/sample - loss: 0.2686 - accuracy: 0.9021 - val_loss: 0.3618 - val_accuracy: 0.8781\n",
            "Epoch 163/200\n",
            "60000/60000 [==============================] - 5s 82us/sample - loss: 0.2686 - accuracy: 0.9029 - val_loss: 0.3589 - val_accuracy: 0.8759\n",
            "Epoch 164/200\n",
            "60000/60000 [==============================] - 5s 82us/sample - loss: 0.2679 - accuracy: 0.9023 - val_loss: 0.3675 - val_accuracy: 0.8735\n",
            "Epoch 165/200\n",
            "60000/60000 [==============================] - 5s 83us/sample - loss: 0.2685 - accuracy: 0.9021 - val_loss: 0.3687 - val_accuracy: 0.8742\n",
            "Epoch 166/200\n",
            "60000/60000 [==============================] - 5s 82us/sample - loss: 0.2668 - accuracy: 0.9029 - val_loss: 0.3635 - val_accuracy: 0.8777\n",
            "Epoch 167/200\n",
            "60000/60000 [==============================] - 5s 82us/sample - loss: 0.2679 - accuracy: 0.9023 - val_loss: 0.3648 - val_accuracy: 0.8755\n",
            "Epoch 168/200\n",
            "60000/60000 [==============================] - 5s 82us/sample - loss: 0.2680 - accuracy: 0.9021 - val_loss: 0.3606 - val_accuracy: 0.8778\n",
            "Epoch 169/200\n",
            "60000/60000 [==============================] - 5s 82us/sample - loss: 0.2718 - accuracy: 0.9009 - val_loss: 0.3582 - val_accuracy: 0.8786\n",
            "Epoch 170/200\n",
            "60000/60000 [==============================] - 5s 81us/sample - loss: 0.2659 - accuracy: 0.9032 - val_loss: 0.3606 - val_accuracy: 0.8765\n",
            "Epoch 171/200\n",
            "60000/60000 [==============================] - 5s 81us/sample - loss: 0.2659 - accuracy: 0.9031 - val_loss: 0.3564 - val_accuracy: 0.8770\n",
            "Epoch 172/200\n",
            "60000/60000 [==============================] - 5s 82us/sample - loss: 0.2662 - accuracy: 0.9029 - val_loss: 0.3588 - val_accuracy: 0.8767\n",
            "Epoch 173/200\n",
            "60000/60000 [==============================] - 5s 82us/sample - loss: 0.2661 - accuracy: 0.9039 - val_loss: 0.3589 - val_accuracy: 0.8774\n",
            "Epoch 174/200\n",
            "60000/60000 [==============================] - 5s 82us/sample - loss: 0.2665 - accuracy: 0.9022 - val_loss: 0.3563 - val_accuracy: 0.8766\n",
            "Epoch 175/200\n",
            "60000/60000 [==============================] - 5s 82us/sample - loss: 0.2653 - accuracy: 0.9031 - val_loss: 0.3564 - val_accuracy: 0.8753\n",
            "Epoch 176/200\n",
            "60000/60000 [==============================] - 5s 83us/sample - loss: 0.2660 - accuracy: 0.9024 - val_loss: 0.3607 - val_accuracy: 0.8765\n",
            "Epoch 177/200\n",
            "60000/60000 [==============================] - 5s 82us/sample - loss: 0.2656 - accuracy: 0.9036 - val_loss: 0.3599 - val_accuracy: 0.8769\n",
            "Epoch 178/200\n",
            "60000/60000 [==============================] - 5s 84us/sample - loss: 0.2641 - accuracy: 0.9042 - val_loss: 0.3593 - val_accuracy: 0.8782\n",
            "Epoch 179/200\n",
            "60000/60000 [==============================] - 5s 82us/sample - loss: 0.2655 - accuracy: 0.9031 - val_loss: 0.3634 - val_accuracy: 0.8754\n",
            "Epoch 180/200\n",
            "60000/60000 [==============================] - 5s 85us/sample - loss: 0.2659 - accuracy: 0.9034 - val_loss: 0.3601 - val_accuracy: 0.8759\n",
            "Epoch 181/200\n",
            "60000/60000 [==============================] - 5s 83us/sample - loss: 0.2650 - accuracy: 0.9031 - val_loss: 0.3656 - val_accuracy: 0.8756\n",
            "Epoch 182/200\n",
            "60000/60000 [==============================] - 5s 84us/sample - loss: 0.2651 - accuracy: 0.9032 - val_loss: 0.3607 - val_accuracy: 0.8772\n",
            "Epoch 183/200\n",
            "60000/60000 [==============================] - 5s 83us/sample - loss: 0.2632 - accuracy: 0.9042 - val_loss: 0.3628 - val_accuracy: 0.8773\n",
            "Epoch 184/200\n",
            "60000/60000 [==============================] - 5s 84us/sample - loss: 0.2631 - accuracy: 0.9043 - val_loss: 0.3627 - val_accuracy: 0.8773\n",
            "Epoch 185/200\n",
            "60000/60000 [==============================] - 5s 83us/sample - loss: 0.2646 - accuracy: 0.9046 - val_loss: 0.3603 - val_accuracy: 0.8777\n",
            "Epoch 186/200\n",
            "60000/60000 [==============================] - 5s 83us/sample - loss: 0.2637 - accuracy: 0.9038 - val_loss: 0.3617 - val_accuracy: 0.8781\n",
            "Epoch 187/200\n",
            "60000/60000 [==============================] - 5s 83us/sample - loss: 0.2638 - accuracy: 0.9039 - val_loss: 0.3672 - val_accuracy: 0.8759\n",
            "Epoch 188/200\n",
            "60000/60000 [==============================] - 5s 84us/sample - loss: 0.2631 - accuracy: 0.9036 - val_loss: 0.3704 - val_accuracy: 0.8730\n",
            "Epoch 189/200\n",
            "60000/60000 [==============================] - 5s 84us/sample - loss: 0.2632 - accuracy: 0.9045 - val_loss: 0.3625 - val_accuracy: 0.8772\n",
            "Epoch 190/200\n",
            "60000/60000 [==============================] - 5s 84us/sample - loss: 0.2637 - accuracy: 0.9037 - val_loss: 0.3644 - val_accuracy: 0.8764\n",
            "Epoch 191/200\n",
            "60000/60000 [==============================] - 5s 85us/sample - loss: 0.2640 - accuracy: 0.9036 - val_loss: 0.3607 - val_accuracy: 0.8782\n",
            "Epoch 192/200\n",
            "60000/60000 [==============================] - 5s 83us/sample - loss: 0.2627 - accuracy: 0.9044 - val_loss: 0.3605 - val_accuracy: 0.8771\n",
            "Epoch 193/200\n",
            "60000/60000 [==============================] - 5s 84us/sample - loss: 0.2626 - accuracy: 0.9047 - val_loss: 0.3623 - val_accuracy: 0.8742\n",
            "Epoch 194/200\n",
            "60000/60000 [==============================] - 5s 88us/sample - loss: 0.2628 - accuracy: 0.9043 - val_loss: 0.3666 - val_accuracy: 0.8783\n",
            "Epoch 195/200\n",
            "60000/60000 [==============================] - 5s 89us/sample - loss: 0.2644 - accuracy: 0.9032 - val_loss: 0.3626 - val_accuracy: 0.8772\n",
            "Epoch 196/200\n",
            "60000/60000 [==============================] - 5s 84us/sample - loss: 0.2631 - accuracy: 0.9041 - val_loss: 0.3667 - val_accuracy: 0.8751\n",
            "Epoch 197/200\n",
            "60000/60000 [==============================] - 5s 83us/sample - loss: 0.2610 - accuracy: 0.9058 - val_loss: 0.3701 - val_accuracy: 0.8746\n",
            "Epoch 198/200\n",
            "60000/60000 [==============================] - 5s 82us/sample - loss: 0.2612 - accuracy: 0.9051 - val_loss: 0.3654 - val_accuracy: 0.8745\n",
            "Epoch 199/200\n",
            "60000/60000 [==============================] - 5s 84us/sample - loss: 0.2612 - accuracy: 0.9048 - val_loss: 0.3657 - val_accuracy: 0.8769\n",
            "Epoch 200/200\n",
            "60000/60000 [==============================] - 5s 83us/sample - loss: 0.2610 - accuracy: 0.9054 - val_loss: 0.3651 - val_accuracy: 0.8771\n",
            "30 : 0.8669000267982483\n",
            "100 : 0.876800000667572\n",
            "150 : 0.8784999847412109\n",
            "200 : 0.8787000179290771\n",
            "CPU times: user 20min 26s, sys: 1min 24s, total: 21min 50s\n",
            "Wall time: 16min 32s\n"
          ],
          "name": "stdout"
        }
      ]
    },
    {
      "cell_type": "code",
      "metadata": {
        "id": "QboR9RI8kBGP",
        "colab_type": "code",
        "outputId": "28876bf6-e2aa-4f71-bd0f-435cc93cace0",
        "colab": {
          "base_uri": "https://localhost:8080/",
          "height": 35
        }
      },
      "source": [
        "print(np.max(history_R.history['val_accuracy']))"
      ],
      "execution_count": 0,
      "outputs": [
        {
          "output_type": "stream",
          "text": [
            "0.8787\n"
          ],
          "name": "stdout"
        }
      ]
    },
    {
      "cell_type": "markdown",
      "metadata": {
        "id": "7KbIreYLd6gj",
        "colab_type": "text"
      },
      "source": [
        "[Advanced model]  \n",
        "Epoch 30/30\n",
        "60000/60000 [==============================] - 8s 131us/sample - loss: 0.0484 - accuracy: 0.9852 - val_loss: 0.0572 - val_accuracy: 0.9818\n",
        "CPU times: user 6min 54s, sys: 23.7 s, total: 7min 18s\n",
        "\n",
        "Wall time: 4min 9s (@Edit-Notebook Setting-GPU)"
      ]
    },
    {
      "cell_type": "code",
      "metadata": {
        "id": "WeRSZVJGzd0-",
        "colab_type": "code",
        "outputId": "07e92791-562a-4972-8810-e7b4e6e8039b",
        "colab": {
          "base_uri": "https://localhost:8080/",
          "height": 1000
        }
      },
      "source": [
        "%%time\n",
        "# advanced model\n",
        "history_Bi = model_Bi.fit(x_train, y_train,\n",
        "          validation_data=(x_test, y_test),\n",
        "          batch_size=batch_size,\n",
        "          epochs=30)"
      ],
      "execution_count": 0,
      "outputs": [
        {
          "output_type": "stream",
          "text": [
            "Train on 60000 samples, validate on 10000 samples\n",
            "Epoch 1/30\n",
            "60000/60000 [==============================] - 11s 181us/sample - loss: 0.8368 - accuracy: 0.7152 - val_loss: 0.5673 - val_accuracy: 0.7949\n",
            "Epoch 2/30\n",
            "60000/60000 [==============================] - 8s 126us/sample - loss: 0.4976 - accuracy: 0.8239 - val_loss: 0.4948 - val_accuracy: 0.8206\n",
            "Epoch 3/30\n",
            "60000/60000 [==============================] - 8s 126us/sample - loss: 0.4377 - accuracy: 0.8442 - val_loss: 0.4557 - val_accuracy: 0.8374\n",
            "Epoch 4/30\n",
            "60000/60000 [==============================] - 8s 127us/sample - loss: 0.4100 - accuracy: 0.8534 - val_loss: 0.4254 - val_accuracy: 0.8470\n",
            "Epoch 5/30\n",
            "60000/60000 [==============================] - 8s 129us/sample - loss: 0.3904 - accuracy: 0.8594 - val_loss: 0.4096 - val_accuracy: 0.8531\n",
            "Epoch 6/30\n",
            "60000/60000 [==============================] - 8s 127us/sample - loss: 0.3746 - accuracy: 0.8654 - val_loss: 0.3912 - val_accuracy: 0.8602\n",
            "Epoch 7/30\n",
            "60000/60000 [==============================] - 8s 129us/sample - loss: 0.3638 - accuracy: 0.8685 - val_loss: 0.3912 - val_accuracy: 0.8587\n",
            "Epoch 8/30\n",
            "60000/60000 [==============================] - 8s 126us/sample - loss: 0.3545 - accuracy: 0.8718 - val_loss: 0.3829 - val_accuracy: 0.8635\n",
            "Epoch 9/30\n",
            "60000/60000 [==============================] - 8s 126us/sample - loss: 0.3468 - accuracy: 0.8744 - val_loss: 0.3693 - val_accuracy: 0.8675\n",
            "Epoch 10/30\n",
            "60000/60000 [==============================] - 7s 124us/sample - loss: 0.3382 - accuracy: 0.8773 - val_loss: 0.3904 - val_accuracy: 0.8598\n",
            "Epoch 11/30\n",
            "60000/60000 [==============================] - 7s 124us/sample - loss: 0.3358 - accuracy: 0.8778 - val_loss: 0.3797 - val_accuracy: 0.8595\n",
            "Epoch 12/30\n",
            "60000/60000 [==============================] - 8s 127us/sample - loss: 0.3287 - accuracy: 0.8809 - val_loss: 0.3651 - val_accuracy: 0.8655\n",
            "Epoch 13/30\n",
            "60000/60000 [==============================] - 8s 127us/sample - loss: 0.3234 - accuracy: 0.8818 - val_loss: 0.3579 - val_accuracy: 0.8676\n",
            "Epoch 14/30\n",
            "60000/60000 [==============================] - 7s 125us/sample - loss: 0.3201 - accuracy: 0.8835 - val_loss: 0.3678 - val_accuracy: 0.8649\n",
            "Epoch 15/30\n",
            "60000/60000 [==============================] - 8s 127us/sample - loss: 0.3138 - accuracy: 0.8866 - val_loss: 0.3521 - val_accuracy: 0.8722\n",
            "Epoch 16/30\n",
            "60000/60000 [==============================] - 8s 125us/sample - loss: 0.3115 - accuracy: 0.8881 - val_loss: 0.3497 - val_accuracy: 0.8713\n",
            "Epoch 17/30\n",
            "60000/60000 [==============================] - 8s 126us/sample - loss: 0.3076 - accuracy: 0.8882 - val_loss: 0.3486 - val_accuracy: 0.8751\n",
            "Epoch 18/30\n",
            "60000/60000 [==============================] - 7s 124us/sample - loss: 0.3031 - accuracy: 0.8892 - val_loss: 0.3431 - val_accuracy: 0.8737\n",
            "Epoch 19/30\n",
            "60000/60000 [==============================] - 7s 124us/sample - loss: 0.3014 - accuracy: 0.8893 - val_loss: 0.3416 - val_accuracy: 0.8758\n",
            "Epoch 20/30\n",
            "60000/60000 [==============================] - 7s 124us/sample - loss: 0.2979 - accuracy: 0.8916 - val_loss: 0.3450 - val_accuracy: 0.8720\n",
            "Epoch 21/30\n",
            "60000/60000 [==============================] - 7s 124us/sample - loss: 0.2948 - accuracy: 0.8923 - val_loss: 0.3452 - val_accuracy: 0.8748\n",
            "Epoch 22/30\n",
            "60000/60000 [==============================] - 7s 124us/sample - loss: 0.2924 - accuracy: 0.8934 - val_loss: 0.3467 - val_accuracy: 0.8723\n",
            "Epoch 23/30\n",
            "60000/60000 [==============================] - 7s 124us/sample - loss: 0.2905 - accuracy: 0.8931 - val_loss: 0.3376 - val_accuracy: 0.8786\n",
            "Epoch 24/30\n",
            "60000/60000 [==============================] - 7s 124us/sample - loss: 0.2871 - accuracy: 0.8947 - val_loss: 0.3381 - val_accuracy: 0.8763\n",
            "Epoch 25/30\n",
            "60000/60000 [==============================] - 8s 127us/sample - loss: 0.2847 - accuracy: 0.8965 - val_loss: 0.3363 - val_accuracy: 0.8775\n",
            "Epoch 26/30\n",
            "60000/60000 [==============================] - 8s 128us/sample - loss: 0.2865 - accuracy: 0.8955 - val_loss: 0.3375 - val_accuracy: 0.8772\n",
            "Epoch 27/30\n",
            "60000/60000 [==============================] - 7s 125us/sample - loss: 0.2814 - accuracy: 0.8968 - val_loss: 0.3319 - val_accuracy: 0.8794\n",
            "Epoch 28/30\n",
            "60000/60000 [==============================] - 7s 124us/sample - loss: 0.2800 - accuracy: 0.8977 - val_loss: 0.3368 - val_accuracy: 0.8802\n",
            "Epoch 29/30\n",
            "60000/60000 [==============================] - 8s 125us/sample - loss: 0.2772 - accuracy: 0.8980 - val_loss: 0.3306 - val_accuracy: 0.8812\n",
            "Epoch 30/30\n",
            "60000/60000 [==============================] - 7s 125us/sample - loss: 0.2770 - accuracy: 0.8979 - val_loss: 0.3286 - val_accuracy: 0.8822\n",
            "CPU times: user 4min 48s, sys: 29.1 s, total: 5min 17s\n",
            "Wall time: 3min 49s\n"
          ],
          "name": "stdout"
        }
      ]
    },
    {
      "cell_type": "markdown",
      "metadata": {
        "colab_type": "text",
        "id": "zMat0-hSzeq_"
      },
      "source": [
        "## **Analysis**"
      ]
    },
    {
      "cell_type": "markdown",
      "metadata": {
        "id": "bmh73SkvAsjd",
        "colab_type": "text"
      },
      "source": [
        "### Plot"
      ]
    },
    {
      "cell_type": "code",
      "metadata": {
        "id": "EGhsQm-i_sZx",
        "colab_type": "code",
        "outputId": "2fc171a6-64bd-4497-d90f-92c86dfb3d7d",
        "colab": {
          "base_uri": "https://localhost:8080/",
          "height": 35
        }
      },
      "source": [
        "print(history_Bi.history.keys())"
      ],
      "execution_count": 0,
      "outputs": [
        {
          "output_type": "stream",
          "text": [
            "dict_keys(['loss', 'accuracy', 'val_loss', 'val_accuracy'])\n"
          ],
          "name": "stdout"
        }
      ]
    },
    {
      "cell_type": "code",
      "metadata": {
        "id": "-_idMKYwKVqX",
        "colab_type": "code",
        "outputId": "6e1019b8-b532-4932-a57c-90c70fe4a792",
        "colab": {
          "base_uri": "https://localhost:8080/",
          "height": 934
        }
      },
      "source": [
        "losses_Bi = history_Bi.history['loss']\n",
        "val_loss_Bi = history_Bi.history['val_loss']\n",
        "losses_R = history_R.history['loss']\n",
        "val_loss_R = history_R.history['val_loss']\n",
        "\n",
        "acc_Bi = history_Bi.history['accuracy']\n",
        "val_acc_Bi = history_Bi.history['val_accuracy']\n",
        "acc_R = history_R.history['accuracy']\n",
        "val_acc_R = history_R.history['val_accuracy']\n",
        "\n",
        "plt.figure(figsize=(10, 16))\n",
        "plt.subplot(2, 1, 1)\n",
        "plt.semilogy(losses_Bi, label='loss_Bi')\n",
        "plt.semilogy(val_loss_Bi, label='val_loss_Bi')\n",
        "plt.semilogy(losses_R, label='loss_R')\n",
        "plt.semilogy(val_loss_R, label='val_loss_R')\n",
        "plt.grid(True)\n",
        "plt.legend(loc='best')\n",
        "plt.title(\"LOSS\")\n",
        "\n",
        "plt.subplot(2, 1, 2)\n",
        "plt.semilogy(acc_Bi, label='accuracy_Bi')\n",
        "plt.semilogy(val_acc_Bi, label='val_accur_Bi')\n",
        "plt.semilogy(acc_R, label='accuracy_R')\n",
        "plt.semilogy(val_acc_R, label='val_accur_R')\n",
        "#plt.ylim(0.8,1)\n",
        "plt.grid(True)\n",
        "plt.legend(loc='best')\n",
        "plt.title(\"Accuracy\")\n",
        "plt.show()  \n"
      ],
      "execution_count": 0,
      "outputs": [
        {
          "output_type": "display_data",
          "data": {
            "image/png": "[encoded data removed]",
            "text/plain": [
              "<Figure size 720x1152 with 2 Axes>"
            ]
          },
          "metadata": {
            "tags": []
          }
        }
      ]
    },
    {
      "cell_type": "markdown",
      "metadata": {
        "id": "GnaUZbi_hIHw",
        "colab_type": "text"
      },
      "source": [
        "## **실습 과제**"
      ]
    },
    {
      "cell_type": "markdown",
      "metadata": {
        "colab_type": "text",
        "id": "k6LTcavDi72w"
      },
      "source": [
        "### 과제 1. `model_R.fit()`에서 `batch_size=`와 `epochs='값을 조정하여 최적의 값을 찾아 보자\n",
        "#### -- batch_size 를 32,128,512,1024로 바꾸면서 accuracy값을 비교해 보자 \n",
        "#### -- 최고의 결과를 낼 batch_size를 예상하고 그 이유를 적어보자 \n",
        "#### -- 실험 결과와 예상결과를 비교하고, 분석하자 : \n",
        "\n",
        "\n",
        "\n",
        " "
      ]
    },
    {
      "cell_type": "markdown",
      "metadata": {
        "id": "9Yo6WolHgNtA",
        "colab_type": "text"
      },
      "source": [
        "### 과제 2. epochs를 30,100,200등으로 바꾸어 보자 \n",
        "####-- batch_size도 같이 조정하여 최적의 조건을 찾아보자 : \n"
      ]
    },
    {
      "cell_type": "code",
      "metadata": {
        "id": "VEyZbu_hlu_P",
        "colab_type": "code",
        "outputId": "2330d9de-1d6e-45e8-d757-0e521b204c73",
        "colab": {
          "base_uri": "https://localhost:8080/",
          "height": 266
        }
      },
      "source": [
        "import matplotlib as mpl\n",
        "from mpl_toolkits.mplot3d import Axes3D\n",
        "\n",
        "mpl.rcParams['legend.fontsize'] = 10\t\n",
        "fig = plt.figure()\n",
        "ax = fig.gca(projection='3d')\t\t\t\t\t\n",
        "x = [32, 32, 32, 64, 64, 64, 128, 128, 128, 256, 256, 256, 512, 512, 512, 1024, 1024, 1024]\n",
        "y = [30, 100, 200, 30, 100, 200, 30, 100, 200, 30, 100, 200, 30, 100, 200, 30, 100, 200]\n",
        "z = [0.8684,0.8771,0.8804, 0.8669,0.8768,0.8787,0.8645,0.8796,0.8815,0.8524,0.8747,0.8819,0.8404,0.8705,0.8766,0.8347,0.8609,0.8731]\n",
        "ax.plot(x, y, z, 'o', label='parametric curve')\t"
      ],
      "execution_count": 0,
      "outputs": [
        {
          "output_type": "execute_result",
          "data": {
            "text/plain": [
              "[<mpl_toolkits.mplot3d.art3d.Line3D at 0x7f9452e0a128>]"
            ]
          },
          "metadata": {
            "tags": []
          },
          "execution_count": 4
        },
        {
          "output_type": "display_data",
          "data": {
            "image/png": "[encoded data removed]",
            "text/plain": [
              "<Figure size 432x288 with 1 Axes>"
            ]
          },
          "metadata": {
            "tags": []
          }
        }
      ]
    },
    {
      "cell_type": "code",
      "metadata": {
        "id": "yp7ZH3i1qkVi",
        "colab_type": "code",
        "colab": {}
      },
      "source": [
        ""
      ],
      "execution_count": 0,
      "outputs": []
    }
  ]
}