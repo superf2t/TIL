{
  "nbformat": 4,
  "nbformat_minor": 0,
  "metadata": {
    "colab": {
      "name": "02_01_0_SLP_layers.ipynb의 사본",
      "provenance": [],
      "collapsed_sections": [],
      "include_colab_link": true
    },
    "kernelspec": {
      "name": "python3",
      "display_name": "Python 3"
    }
  },
  "cells": [
    {
      "cell_type": "markdown",
      "metadata": {
        "id": "view-in-github",
        "colab_type": "text"
      },
      "source": [
        "<a href=\"https://colab.research.google.com/github/KwonYN/TIL/blob/master/PYTHON/TENSORFLOW2/02_01_0_SLP_layers_ipynb%EC%9D%98_%EC%82%AC%EB%B3%B8.ipynb\" target=\"_parent\"><img src=\"https://colab.research.google.com/assets/colab-badge.svg\" alt=\"Open In Colab\"/></a>"
      ]
    },
    {
      "cell_type": "markdown",
      "metadata": {
        "id": "YUbrsmxWf04y",
        "colab_type": "text"
      },
      "source": [
        "# **실습 2-1-0 :  tf.keras 모듈을 이용한 Single Layer Perceptron model 설계**\n",
        "### -- Sequential 2개 방식으로 model define (p.71, 72)\n",
        "### -- Functional 방식으로 model define (p.73)\n",
        "### 해보자\n"
      ]
    },
    {
      "cell_type": "markdown",
      "metadata": {
        "id": "ePIRWQE8uMPw",
        "colab_type": "text"
      },
      "source": [
        "## Module import"
      ]
    },
    {
      "cell_type": "code",
      "metadata": {
        "colab_type": "code",
        "outputId": "c0aadb8a-f066-458e-c873-4b0d1902258e",
        "id": "X9UcDDaRuLKd",
        "colab": {
          "base_uri": "https://localhost:8080/",
          "height": 54
        }
      },
      "source": [
        "%tensorflow_version 2.x\n",
        "\n",
        "import tensorflow as tf\n",
        "\n",
        "tf.__version__"
      ],
      "execution_count": 1,
      "outputs": [
        {
          "output_type": "stream",
          "text": [
            "TensorFlow 2.x selected.\n"
          ],
          "name": "stdout"
        },
        {
          "output_type": "execute_result",
          "data": {
            "text/plain": [
              "'2.0.0'"
            ]
          },
          "metadata": {
            "tags": []
          },
          "execution_count": 1
        }
      ]
    },
    {
      "cell_type": "markdown",
      "metadata": {
        "id": "dv7dvp2qGRrO",
        "colab_type": "text"
      },
      "source": [
        "## Sequential type 1"
      ]
    },
    {
      "cell_type": "markdown",
      "metadata": {
        "id": "qAYRxObVuVd2",
        "colab_type": "text"
      },
      "source": [
        "### 가장 기본적인 방법으로 `tf.keras.models.Sequential` API의 parameter로 layer list를 전달하는 방식\n",
        "#### -- `layers` keyword parameter\n",
        "#### -- `name` keyword parameter로 model의 이름을 설정"
      ]
    },
    {
      "cell_type": "code",
      "metadata": {
        "id": "b0DWqtVHEes_",
        "colab_type": "code",
        "colab": {}
      },
      "source": [
        "# p. 72\n",
        "slp_model1 = tf.keras.models.Sequential(\n",
        "    layers=[tf.keras.layers.Flatten(input_shape=(28,28)),\n",
        "            tf.keras.layers.Dense(10, activation='softmax')\n",
        "          ],                  # layers keyword param으로 전달\n",
        "    name='slp-model-01')      # name keyword param으로 model  이름 설정\n"
      ],
      "execution_count": 0,
      "outputs": []
    },
    {
      "cell_type": "code",
      "metadata": {
        "id": "-74ZFlciFA53",
        "colab_type": "code",
        "outputId": "a87ccb2e-9a85-4d89-fbb6-d1473c785fc8",
        "colab": {
          "base_uri": "https://localhost:8080/",
          "height": 235
        }
      },
      "source": [
        "slp_model1.summary()          # model 확인"
      ],
      "execution_count": 3,
      "outputs": [
        {
          "output_type": "stream",
          "text": [
            "Model: \"slp-model-01\"\n",
            "_________________________________________________________________\n",
            "Layer (type)                 Output Shape              Param #   \n",
            "=================================================================\n",
            "flatten (Flatten)            (None, 784)               0         \n",
            "_________________________________________________________________\n",
            "dense (Dense)                (None, 10)                7850      \n",
            "=================================================================\n",
            "Total params: 7,850\n",
            "Trainable params: 7,850\n",
            "Non-trainable params: 0\n",
            "_________________________________________________________________\n"
          ],
          "name": "stdout"
        }
      ]
    },
    {
      "cell_type": "markdown",
      "metadata": {
        "id": "oQGClXAGGXH5",
        "colab_type": "text"
      },
      "source": [
        "## Sequential type 2"
      ]
    },
    {
      "cell_type": "markdown",
      "metadata": {
        "colab_type": "text",
        "id": "DNQeQANLwUFD"
      },
      "source": [
        "### `tf.keras.models.Sequential` API로 model을 생성하고    \n",
        "### 각 layer를 add() method로 늘려가는 방식"
      ]
    },
    {
      "cell_type": "code",
      "metadata": {
        "id": "no6XC_kCFHdm",
        "colab_type": "code",
        "outputId": "4ff22099-c0ed-4e4a-d23a-3c079e6404e6",
        "colab": {
          "base_uri": "https://localhost:8080/",
          "height": 272
        }
      },
      "source": [
        "# p. 71\n",
        "slp_model2 = tf.keras.models.Sequential(name='slp-model-2')\n",
        "slp_model2.add(tf.keras.layers.Flatten(input_shape=(28,28)))\n",
        "slp_model2.add(tf.keras.layers.Dense(10, activation='softmax'))\n",
        "\n",
        "slp_model2.summary()"
      ],
      "execution_count": 5,
      "outputs": [
        {
          "output_type": "stream",
          "text": [
            "Model: \"slp-model-2\"\n",
            "_________________________________________________________________\n",
            "Layer (type)                 Output Shape              Param #   \n",
            "=================================================================\n",
            "flatten_2 (Flatten)          (None, 784)               0         \n",
            "_________________________________________________________________\n",
            "dropout (Dropout)            (None, 784)               0         \n",
            "_________________________________________________________________\n",
            "dense_2 (Dense)              (None, 10)                7850      \n",
            "=================================================================\n",
            "Total params: 7,850\n",
            "Trainable params: 7,850\n",
            "Non-trainable params: 0\n",
            "_________________________________________________________________\n"
          ],
          "name": "stdout"
        }
      ]
    },
    {
      "cell_type": "markdown",
      "metadata": {
        "colab_type": "text",
        "id": "aIzAXH88xTrl"
      },
      "source": [
        "## Functional Type"
      ]
    },
    {
      "cell_type": "markdown",
      "metadata": {
        "colab_type": "text",
        "id": "_mjGPijcxClM"
      },
      "source": [
        "### `tf.keras.Model` API로 model 생성\n",
        "#### -- 각 layer들을 `layers` API로 만든다. 이때 받아야 하는 입력 tensor를 function의 argument처럼 받는다. --> functional\n",
        "#### -- 이렇게 만들어진 layer들을 function argument로 연결한뒤 `Model` API의 `outputs=`의 param으로 연결한다. \n",
        "> #### --> output이 여러개일 경우는 list로 전달\n",
        "#### -- `inputs=` param으로 `tf.keras.Input`의 출력을 연결 --> input tensor"
      ]
    },
    {
      "cell_type": "code",
      "metadata": {
        "id": "k_eCuj8NHxhL",
        "colab_type": "code",
        "outputId": "f9e2fbb7-38b8-4060-c5a5-0480a579b262",
        "colab": {
          "base_uri": "https://localhost:8080/",
          "height": 272
        }
      },
      "source": [
        "x_i = tf.keras.layers.Input(shape=(28,28))              # input layer\n",
        "x = tf.keras.layers.Flatten()(x_i)                      # Flatten\n",
        "x = tf.keras.layers.Dense(10, activation='softmax')(x)  # Dense\n",
        "\n",
        "slp_model3 = tf.keras.Model(x_i, x, \n",
        "                            name='slp_model_f')         # model 생성\n",
        "\n",
        "slp_model3.summary()"
      ],
      "execution_count": 6,
      "outputs": [
        {
          "output_type": "stream",
          "text": [
            "Model: \"slp_model_f\"\n",
            "_________________________________________________________________\n",
            "Layer (type)                 Output Shape              Param #   \n",
            "=================================================================\n",
            "input_1 (InputLayer)         [(None, 28, 28)]          0         \n",
            "_________________________________________________________________\n",
            "flatten_3 (Flatten)          (None, 784)               0         \n",
            "_________________________________________________________________\n",
            "dense_3 (Dense)              (None, 10)                7850      \n",
            "=================================================================\n",
            "Total params: 7,850\n",
            "Trainable params: 7,850\n",
            "Non-trainable params: 0\n",
            "_________________________________________________________________\n"
          ],
          "name": "stdout"
        }
      ]
    },
    {
      "cell_type": "code",
      "metadata": {
        "id": "bDJ_zIfXJLml",
        "colab_type": "code",
        "colab": {}
      },
      "source": [
        ""
      ],
      "execution_count": 0,
      "outputs": []
    }
  ]
}