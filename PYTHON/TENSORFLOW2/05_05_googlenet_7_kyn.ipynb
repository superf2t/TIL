{
  "nbformat": 4,
  "nbformat_minor": 0,
  "metadata": {
    "colab": {
      "name": "05_05_googlenet_7_kyn.ipynb",
      "provenance": [],
      "collapsed_sections": [],
      "machine_shape": "hm",
      "include_colab_link": true
    },
    "kernelspec": {
      "name": "python3",
      "display_name": "Python 3"
    },
    "accelerator": "GPU"
  },
  "cells": [
    {
      "cell_type": "markdown",
      "metadata": {
        "id": "view-in-github",
        "colab_type": "text"
      },
      "source": [
        "<a href=\"https://colab.research.google.com/github/KwonYN/TIL/blob/master/PYTHON/TENSORFLOW2/05_05_googlenet_7_kyn.ipynb\" target=\"_parent\"><img src=\"https://colab.research.google.com/assets/colab-badge.svg\" alt=\"Open In Colab\"/></a>"
      ]
    },
    {
      "cell_type": "code",
      "metadata": {
        "id": "e9StoRGG_WCF",
        "colab_type": "code",
        "outputId": "eb139d1e-3d5f-42db-da4f-df32f906b100",
        "colab": {
          "base_uri": "https://localhost:8080/",
          "height": 34
        }
      },
      "source": [
        "%tensorflow_version 2.x"
      ],
      "execution_count": 0,
      "outputs": [
        {
          "output_type": "stream",
          "text": [
            "TensorFlow 2.x selected.\n"
          ],
          "name": "stdout"
        }
      ]
    },
    {
      "cell_type": "code",
      "metadata": {
        "id": "0mUG4IUk-9XF",
        "colab_type": "code",
        "colab": {}
      },
      "source": [
        "from tensorflow.keras import layers\n",
        "from tensorflow.keras.datasets import mnist\n",
        "from tensorflow.keras.models import Sequential, Model\n",
        "from tensorflow.keras.optimizers import Adam\n",
        "from tensorflow.keras.models import load_model\n",
        "import numpy as np\n",
        "import cv2 \n",
        "\n",
        "from tensorflow.keras.datasets import cifar10\n",
        "#from tensorflow.keras.np_utils import np_utils\n",
        "from tensorflow.keras.optimizers import SGD,Adam\n",
        "\n",
        "import matplotlib.pyplot as plt\n",
        "%matplotlib inline"
      ],
      "execution_count": 0,
      "outputs": []
    },
    {
      "cell_type": "code",
      "metadata": {
        "id": "a-Ad6drQ-yCf",
        "colab_type": "code",
        "colab": {}
      },
      "source": [
        "# Inception 모듈 정의\n",
        "def inception_module(x, x1_oc=64, x1x3_oc=64, x3_oc=128, x1x5_oc=16, x5_oc=32, mp_oc=32):\n",
        "    x_1 = layers.Conv2D(x1_oc, 1, padding='same')(x)\n",
        "    x_2 = layers.Conv2D(x1x3_oc, 1, padding='same')(x)\n",
        "    x_2 = layers.Conv2D(x3_oc, 3, padding='same')(x_2)\n",
        "    x_3 = layers.Conv2D(x1x5_oc, 1, padding='same')(x)\n",
        "    x_3 = layers.Conv2D(x5_oc, 5, padding='same')(x_3)\n",
        "    x_4 = layers.MaxPooling2D(pool_size=(3, 3), strides=1, padding='same')(x)\n",
        "    x_4 = layers.Conv2D(mp_oc, 1, padding='same')(x_4)\n",
        "    return layers.concatenate([x_1, x_2, x_3, x_4])"
      ],
      "execution_count": 0,
      "outputs": []
    },
    {
      "cell_type": "code",
      "metadata": {
        "id": "mpvjLGEWMCfB",
        "colab_type": "code",
        "colab": {}
      },
      "source": [
        "img_shape = (224, 224, 3)"
      ],
      "execution_count": 0,
      "outputs": []
    },
    {
      "cell_type": "code",
      "metadata": {
        "id": "fzusXLQt_Ff0",
        "colab_type": "code",
        "colab": {}
      },
      "source": [
        "input_ = layers.Input(shape=img_shape)\n",
        "x = layers.Conv2D(64, 7, strides=2, padding='same')(input_)\n",
        "x = layers.MaxPooling2D(pool_size=(3, 3), strides=2, padding='same')(x)\n",
        "x = layers.BatchNormalization()(x)\n",
        "x = layers.Conv2D(64, 1, strides=1)(x)\n",
        "x = layers.Conv2D(192, 3, strides=1, padding='same')(x)\n",
        "x = layers.BatchNormalization()(x)\n",
        "x = layers.MaxPooling2D(pool_size=(3, 3), strides=2, padding='same')(x)\n",
        "x = inception_module(x, x1_oc=64, x1x3_oc=64, x3_oc=128, x1x5_oc=16, x5_oc=32, mp_oc=32)\n",
        "x = inception_module(x, x1_oc=128, x1x3_oc=128, x3_oc=192, x1x5_oc=32, x5_oc=96, mp_oc=64)\n",
        "x = layers.MaxPooling2D(pool_size=(3, 3), strides=2, padding='same')(x)\n",
        "x = inception_module(x, x1_oc=192, x1x3_oc=96, x3_oc=208, x1x5_oc=16, x5_oc=48, mp_oc=64)\n",
        "x = inception_module(x, x1_oc=160, x1x3_oc=112, x3_oc=224, x1x5_oc=24, x5_oc=64, mp_oc=64)\n",
        "x = inception_module(x, x1_oc=128, x1x3_oc=128, x3_oc=256, x1x5_oc=24, x5_oc=64, mp_oc=64)\n",
        "x = inception_module(x, x1_oc=112, x1x3_oc=144, x3_oc=288, x1x5_oc=32, x5_oc=64, mp_oc=64)\n",
        "x = inception_module(x, x1_oc=256, x1x3_oc=160, x3_oc=320, x1x5_oc=32, x5_oc=128, mp_oc=128)\n",
        "x = layers.MaxPooling2D(pool_size=(3, 3), strides=2, padding='same')(x)\n",
        "x = inception_module(x, x1_oc=256, x1x3_oc=160, x3_oc=320, x1x5_oc=32, x5_oc=128, mp_oc=128)\n",
        "x = inception_module(x, x1_oc=384, x1x3_oc=192, x3_oc=384, x1x5_oc=48, x5_oc=128, mp_oc=128)\n",
        "x = layers.AveragePooling2D(pool_size=(7, 7), strides=1)(x)\n",
        "x = layers.BatchNormalization()(x)\n",
        "#x = layers.Dropout(0.4)(x)\n",
        "#x = layers.Dense(1000)(x)\n",
        "x = layers.Dense(10)(x)\n",
        "output = layers.Activation('softmax')(x)\n",
        "\n",
        "googlenet = Model(input_, output)"
      ],
      "execution_count": 0,
      "outputs": []
    },
    {
      "cell_type": "code",
      "metadata": {
        "id": "8vFzKJ_J_KD2",
        "colab_type": "code",
        "outputId": "b8598019-6ba3-4dbb-90ff-6f4e9123db33",
        "colab": {
          "base_uri": "https://localhost:8080/",
          "height": 1000
        }
      },
      "source": [
        "googlenet.summary()\n",
        "print(\"전체 파라미터 수 : {}\".format(sum([arr.flatten().shape[0] for arr in googlenet.get_weights()])))"
      ],
      "execution_count": 0,
      "outputs": [
        {
          "output_type": "stream",
          "text": [
            "Model: \"model\"\n",
            "__________________________________________________________________________________________________\n",
            "Layer (type)                    Output Shape         Param #     Connected to                     \n",
            "==================================================================================================\n",
            "input_1 (InputLayer)            [(None, 224, 224, 3) 0                                            \n",
            "__________________________________________________________________________________________________\n",
            "conv2d (Conv2D)                 (None, 112, 112, 64) 9472        input_1[0][0]                    \n",
            "__________________________________________________________________________________________________\n",
            "max_pooling2d (MaxPooling2D)    (None, 56, 56, 64)   0           conv2d[0][0]                     \n",
            "__________________________________________________________________________________________________\n",
            "batch_normalization (BatchNorma (None, 56, 56, 64)   256         max_pooling2d[0][0]              \n",
            "__________________________________________________________________________________________________\n",
            "conv2d_1 (Conv2D)               (None, 56, 56, 64)   4160        batch_normalization[0][0]        \n",
            "__________________________________________________________________________________________________\n",
            "conv2d_2 (Conv2D)               (None, 56, 56, 192)  110784      conv2d_1[0][0]                   \n",
            "__________________________________________________________________________________________________\n",
            "batch_normalization_1 (BatchNor (None, 56, 56, 192)  768         conv2d_2[0][0]                   \n",
            "__________________________________________________________________________________________________\n",
            "max_pooling2d_1 (MaxPooling2D)  (None, 28, 28, 192)  0           batch_normalization_1[0][0]      \n",
            "__________________________________________________________________________________________________\n",
            "conv2d_4 (Conv2D)               (None, 28, 28, 64)   12352       max_pooling2d_1[0][0]            \n",
            "__________________________________________________________________________________________________\n",
            "conv2d_6 (Conv2D)               (None, 28, 28, 16)   3088        max_pooling2d_1[0][0]            \n",
            "__________________________________________________________________________________________________\n",
            "max_pooling2d_2 (MaxPooling2D)  (None, 28, 28, 192)  0           max_pooling2d_1[0][0]            \n",
            "__________________________________________________________________________________________________\n",
            "conv2d_3 (Conv2D)               (None, 28, 28, 64)   12352       max_pooling2d_1[0][0]            \n",
            "__________________________________________________________________________________________________\n",
            "conv2d_5 (Conv2D)               (None, 28, 28, 128)  73856       conv2d_4[0][0]                   \n",
            "__________________________________________________________________________________________________\n",
            "conv2d_7 (Conv2D)               (None, 28, 28, 32)   12832       conv2d_6[0][0]                   \n",
            "__________________________________________________________________________________________________\n",
            "conv2d_8 (Conv2D)               (None, 28, 28, 32)   6176        max_pooling2d_2[0][0]            \n",
            "__________________________________________________________________________________________________\n",
            "concatenate (Concatenate)       (None, 28, 28, 256)  0           conv2d_3[0][0]                   \n",
            "                                                                 conv2d_5[0][0]                   \n",
            "                                                                 conv2d_7[0][0]                   \n",
            "                                                                 conv2d_8[0][0]                   \n",
            "__________________________________________________________________________________________________\n",
            "conv2d_10 (Conv2D)              (None, 28, 28, 128)  32896       concatenate[0][0]                \n",
            "__________________________________________________________________________________________________\n",
            "conv2d_12 (Conv2D)              (None, 28, 28, 32)   8224        concatenate[0][0]                \n",
            "__________________________________________________________________________________________________\n",
            "max_pooling2d_3 (MaxPooling2D)  (None, 28, 28, 256)  0           concatenate[0][0]                \n",
            "__________________________________________________________________________________________________\n",
            "conv2d_9 (Conv2D)               (None, 28, 28, 128)  32896       concatenate[0][0]                \n",
            "__________________________________________________________________________________________________\n",
            "conv2d_11 (Conv2D)              (None, 28, 28, 192)  221376      conv2d_10[0][0]                  \n",
            "__________________________________________________________________________________________________\n",
            "conv2d_13 (Conv2D)              (None, 28, 28, 96)   76896       conv2d_12[0][0]                  \n",
            "__________________________________________________________________________________________________\n",
            "conv2d_14 (Conv2D)              (None, 28, 28, 64)   16448       max_pooling2d_3[0][0]            \n",
            "__________________________________________________________________________________________________\n",
            "concatenate_1 (Concatenate)     (None, 28, 28, 480)  0           conv2d_9[0][0]                   \n",
            "                                                                 conv2d_11[0][0]                  \n",
            "                                                                 conv2d_13[0][0]                  \n",
            "                                                                 conv2d_14[0][0]                  \n",
            "__________________________________________________________________________________________________\n",
            "max_pooling2d_4 (MaxPooling2D)  (None, 14, 14, 480)  0           concatenate_1[0][0]              \n",
            "__________________________________________________________________________________________________\n",
            "conv2d_16 (Conv2D)              (None, 14, 14, 96)   46176       max_pooling2d_4[0][0]            \n",
            "__________________________________________________________________________________________________\n",
            "conv2d_18 (Conv2D)              (None, 14, 14, 16)   7696        max_pooling2d_4[0][0]            \n",
            "__________________________________________________________________________________________________\n",
            "max_pooling2d_5 (MaxPooling2D)  (None, 14, 14, 480)  0           max_pooling2d_4[0][0]            \n",
            "__________________________________________________________________________________________________\n",
            "conv2d_15 (Conv2D)              (None, 14, 14, 192)  92352       max_pooling2d_4[0][0]            \n",
            "__________________________________________________________________________________________________\n",
            "conv2d_17 (Conv2D)              (None, 14, 14, 208)  179920      conv2d_16[0][0]                  \n",
            "__________________________________________________________________________________________________\n",
            "conv2d_19 (Conv2D)              (None, 14, 14, 48)   19248       conv2d_18[0][0]                  \n",
            "__________________________________________________________________________________________________\n",
            "conv2d_20 (Conv2D)              (None, 14, 14, 64)   30784       max_pooling2d_5[0][0]            \n",
            "__________________________________________________________________________________________________\n",
            "concatenate_2 (Concatenate)     (None, 14, 14, 512)  0           conv2d_15[0][0]                  \n",
            "                                                                 conv2d_17[0][0]                  \n",
            "                                                                 conv2d_19[0][0]                  \n",
            "                                                                 conv2d_20[0][0]                  \n",
            "__________________________________________________________________________________________________\n",
            "conv2d_22 (Conv2D)              (None, 14, 14, 112)  57456       concatenate_2[0][0]              \n",
            "__________________________________________________________________________________________________\n",
            "conv2d_24 (Conv2D)              (None, 14, 14, 24)   12312       concatenate_2[0][0]              \n",
            "__________________________________________________________________________________________________\n",
            "max_pooling2d_6 (MaxPooling2D)  (None, 14, 14, 512)  0           concatenate_2[0][0]              \n",
            "__________________________________________________________________________________________________\n",
            "conv2d_21 (Conv2D)              (None, 14, 14, 160)  82080       concatenate_2[0][0]              \n",
            "__________________________________________________________________________________________________\n",
            "conv2d_23 (Conv2D)              (None, 14, 14, 224)  226016      conv2d_22[0][0]                  \n",
            "__________________________________________________________________________________________________\n",
            "conv2d_25 (Conv2D)              (None, 14, 14, 64)   38464       conv2d_24[0][0]                  \n",
            "__________________________________________________________________________________________________\n",
            "conv2d_26 (Conv2D)              (None, 14, 14, 64)   32832       max_pooling2d_6[0][0]            \n",
            "__________________________________________________________________________________________________\n",
            "concatenate_3 (Concatenate)     (None, 14, 14, 512)  0           conv2d_21[0][0]                  \n",
            "                                                                 conv2d_23[0][0]                  \n",
            "                                                                 conv2d_25[0][0]                  \n",
            "                                                                 conv2d_26[0][0]                  \n",
            "__________________________________________________________________________________________________\n",
            "conv2d_28 (Conv2D)              (None, 14, 14, 128)  65664       concatenate_3[0][0]              \n",
            "__________________________________________________________________________________________________\n",
            "conv2d_30 (Conv2D)              (None, 14, 14, 24)   12312       concatenate_3[0][0]              \n",
            "__________________________________________________________________________________________________\n",
            "max_pooling2d_7 (MaxPooling2D)  (None, 14, 14, 512)  0           concatenate_3[0][0]              \n",
            "__________________________________________________________________________________________________\n",
            "conv2d_27 (Conv2D)              (None, 14, 14, 128)  65664       concatenate_3[0][0]              \n",
            "__________________________________________________________________________________________________\n",
            "conv2d_29 (Conv2D)              (None, 14, 14, 256)  295168      conv2d_28[0][0]                  \n",
            "__________________________________________________________________________________________________\n",
            "conv2d_31 (Conv2D)              (None, 14, 14, 64)   38464       conv2d_30[0][0]                  \n",
            "__________________________________________________________________________________________________\n",
            "conv2d_32 (Conv2D)              (None, 14, 14, 64)   32832       max_pooling2d_7[0][0]            \n",
            "__________________________________________________________________________________________________\n",
            "concatenate_4 (Concatenate)     (None, 14, 14, 512)  0           conv2d_27[0][0]                  \n",
            "                                                                 conv2d_29[0][0]                  \n",
            "                                                                 conv2d_31[0][0]                  \n",
            "                                                                 conv2d_32[0][0]                  \n",
            "__________________________________________________________________________________________________\n",
            "conv2d_34 (Conv2D)              (None, 14, 14, 144)  73872       concatenate_4[0][0]              \n",
            "__________________________________________________________________________________________________\n",
            "conv2d_36 (Conv2D)              (None, 14, 14, 32)   16416       concatenate_4[0][0]              \n",
            "__________________________________________________________________________________________________\n",
            "max_pooling2d_8 (MaxPooling2D)  (None, 14, 14, 512)  0           concatenate_4[0][0]              \n",
            "__________________________________________________________________________________________________\n",
            "conv2d_33 (Conv2D)              (None, 14, 14, 112)  57456       concatenate_4[0][0]              \n",
            "__________________________________________________________________________________________________\n",
            "conv2d_35 (Conv2D)              (None, 14, 14, 288)  373536      conv2d_34[0][0]                  \n",
            "__________________________________________________________________________________________________\n",
            "conv2d_37 (Conv2D)              (None, 14, 14, 64)   51264       conv2d_36[0][0]                  \n",
            "__________________________________________________________________________________________________\n",
            "conv2d_38 (Conv2D)              (None, 14, 14, 64)   32832       max_pooling2d_8[0][0]            \n",
            "__________________________________________________________________________________________________\n",
            "concatenate_5 (Concatenate)     (None, 14, 14, 528)  0           conv2d_33[0][0]                  \n",
            "                                                                 conv2d_35[0][0]                  \n",
            "                                                                 conv2d_37[0][0]                  \n",
            "                                                                 conv2d_38[0][0]                  \n",
            "__________________________________________________________________________________________________\n",
            "conv2d_40 (Conv2D)              (None, 14, 14, 160)  84640       concatenate_5[0][0]              \n",
            "__________________________________________________________________________________________________\n",
            "conv2d_42 (Conv2D)              (None, 14, 14, 32)   16928       concatenate_5[0][0]              \n",
            "__________________________________________________________________________________________________\n",
            "max_pooling2d_9 (MaxPooling2D)  (None, 14, 14, 528)  0           concatenate_5[0][0]              \n",
            "__________________________________________________________________________________________________\n",
            "conv2d_39 (Conv2D)              (None, 14, 14, 256)  135424      concatenate_5[0][0]              \n",
            "__________________________________________________________________________________________________\n",
            "conv2d_41 (Conv2D)              (None, 14, 14, 320)  461120      conv2d_40[0][0]                  \n",
            "__________________________________________________________________________________________________\n",
            "conv2d_43 (Conv2D)              (None, 14, 14, 128)  102528      conv2d_42[0][0]                  \n",
            "__________________________________________________________________________________________________\n",
            "conv2d_44 (Conv2D)              (None, 14, 14, 128)  67712       max_pooling2d_9[0][0]            \n",
            "__________________________________________________________________________________________________\n",
            "concatenate_6 (Concatenate)     (None, 14, 14, 832)  0           conv2d_39[0][0]                  \n",
            "                                                                 conv2d_41[0][0]                  \n",
            "                                                                 conv2d_43[0][0]                  \n",
            "                                                                 conv2d_44[0][0]                  \n",
            "__________________________________________________________________________________________________\n",
            "max_pooling2d_10 (MaxPooling2D) (None, 7, 7, 832)    0           concatenate_6[0][0]              \n",
            "__________________________________________________________________________________________________\n",
            "conv2d_46 (Conv2D)              (None, 7, 7, 160)    133280      max_pooling2d_10[0][0]           \n",
            "__________________________________________________________________________________________________\n",
            "conv2d_48 (Conv2D)              (None, 7, 7, 32)     26656       max_pooling2d_10[0][0]           \n",
            "__________________________________________________________________________________________________\n",
            "max_pooling2d_11 (MaxPooling2D) (None, 7, 7, 832)    0           max_pooling2d_10[0][0]           \n",
            "__________________________________________________________________________________________________\n",
            "conv2d_45 (Conv2D)              (None, 7, 7, 256)    213248      max_pooling2d_10[0][0]           \n",
            "__________________________________________________________________________________________________\n",
            "conv2d_47 (Conv2D)              (None, 7, 7, 320)    461120      conv2d_46[0][0]                  \n",
            "__________________________________________________________________________________________________\n",
            "conv2d_49 (Conv2D)              (None, 7, 7, 128)    102528      conv2d_48[0][0]                  \n",
            "__________________________________________________________________________________________________\n",
            "conv2d_50 (Conv2D)              (None, 7, 7, 128)    106624      max_pooling2d_11[0][0]           \n",
            "__________________________________________________________________________________________________\n",
            "concatenate_7 (Concatenate)     (None, 7, 7, 832)    0           conv2d_45[0][0]                  \n",
            "                                                                 conv2d_47[0][0]                  \n",
            "                                                                 conv2d_49[0][0]                  \n",
            "                                                                 conv2d_50[0][0]                  \n",
            "__________________________________________________________________________________________________\n",
            "conv2d_52 (Conv2D)              (None, 7, 7, 192)    159936      concatenate_7[0][0]              \n",
            "__________________________________________________________________________________________________\n",
            "conv2d_54 (Conv2D)              (None, 7, 7, 48)     39984       concatenate_7[0][0]              \n",
            "__________________________________________________________________________________________________\n",
            "max_pooling2d_12 (MaxPooling2D) (None, 7, 7, 832)    0           concatenate_7[0][0]              \n",
            "__________________________________________________________________________________________________\n",
            "conv2d_51 (Conv2D)              (None, 7, 7, 384)    319872      concatenate_7[0][0]              \n",
            "__________________________________________________________________________________________________\n",
            "conv2d_53 (Conv2D)              (None, 7, 7, 384)    663936      conv2d_52[0][0]                  \n",
            "__________________________________________________________________________________________________\n",
            "conv2d_55 (Conv2D)              (None, 7, 7, 128)    153728      conv2d_54[0][0]                  \n",
            "__________________________________________________________________________________________________\n",
            "conv2d_56 (Conv2D)              (None, 7, 7, 128)    106624      max_pooling2d_12[0][0]           \n",
            "__________________________________________________________________________________________________\n",
            "concatenate_8 (Concatenate)     (None, 7, 7, 1024)   0           conv2d_51[0][0]                  \n",
            "                                                                 conv2d_53[0][0]                  \n",
            "                                                                 conv2d_55[0][0]                  \n",
            "                                                                 conv2d_56[0][0]                  \n",
            "__________________________________________________________________________________________________\n",
            "average_pooling2d (AveragePooli (None, 1, 1, 1024)   0           concatenate_8[0][0]              \n",
            "__________________________________________________________________________________________________\n",
            "batch_normalization_2 (BatchNor (None, 1, 1, 1024)   4096        average_pooling2d[0][0]          \n",
            "__________________________________________________________________________________________________\n",
            "dense (Dense)                   (None, 1, 1, 10)     10250       batch_normalization_2[0][0]      \n",
            "__________________________________________________________________________________________________\n",
            "activation (Activation)         (None, 1, 1, 10)     0           dense[0][0]                      \n",
            "==================================================================================================\n",
            "Total params: 5,945,882\n",
            "Trainable params: 5,943,322\n",
            "Non-trainable params: 2,560\n",
            "__________________________________________________________________________________________________\n",
            "전체 파라미터 수 : 5945882\n"
          ],
          "name": "stdout"
        }
      ]
    },
    {
      "cell_type": "markdown",
      "metadata": {
        "id": "hP15C4GTUNws",
        "colab_type": "text"
      },
      "source": [
        "### cv2 로 하니까 메모리에 모두 쌓여서 돌릴수가 없어 "
      ]
    },
    {
      "cell_type": "code",
      "metadata": {
        "id": "TwQNKMZJQJHq",
        "colab_type": "code",
        "colab": {}
      },
      "source": [
        "num_classes = 10\n",
        "\n",
        "def load_cifar10_data(img_rows, img_cols,n_image=100):\n",
        "\n",
        "    # Load cifar10 training and validation sets\n",
        "    (X_train, Y_train), (X_valid, Y_valid) = cifar10.load_data()\n",
        "\n",
        "    # Resize training images\n",
        "    X_train = np.array([cv2.resize(img, (img_rows,img_cols)) for img in X_train[0:n_image,:,:,:]])\n",
        "    X_valid = np.array([cv2.resize(img, (img_rows,img_cols)) for img in X_valid[0:n_image,:,:,:]])\n",
        "\n",
        "    Y_train = Y_train[0:n_image,:]\n",
        "    Y_valid = Y_valid[0:n_image,:]\n",
        "    \n",
        "    X_train = X_train.astype('float32')\n",
        "    X_valid = X_valid.astype('float32')\n",
        "\n",
        "    # preprocess data\n",
        "    X_train = X_train / 255.0\n",
        "    X_valid = X_valid / 255.0\n",
        "\n",
        "    return X_train, Y_train, X_valid, Y_valid"
      ],
      "execution_count": 0,
      "outputs": []
    },
    {
      "cell_type": "code",
      "metadata": {
        "id": "Au9PC94CQNIK",
        "colab_type": "code",
        "outputId": "8ec3597c-2f58-424e-c7d0-892e8700183b",
        "colab": {
          "base_uri": "https://localhost:8080/",
          "height": 50
        }
      },
      "source": [
        "X_train, y_train, X_test, y_test = load_cifar10_data(224, 224,n_image=5000)"
      ],
      "execution_count": 0,
      "outputs": [
        {
          "output_type": "stream",
          "text": [
            "Downloading data from https://www.cs.toronto.edu/~kriz/cifar-10-python.tar.gz\n",
            "170500096/170498071 [==============================] - 2s 0us/step\n"
          ],
          "name": "stdout"
        }
      ]
    },
    {
      "cell_type": "code",
      "metadata": {
        "id": "jhkR5WLQDvaa",
        "colab_type": "code",
        "outputId": "519145af-00f9-4a6a-cf6b-7a2947235005",
        "colab": {
          "base_uri": "https://localhost:8080/",
          "height": 890
        }
      },
      "source": [
        "epochs = 25\n",
        "#lrate = 0.01\n",
        "#decay = lrate/epochs\n",
        "#sgd = SGD(lr=lrate, momentum=0.9, decay=decay, nesterov=False)\n",
        "googlenet.compile(loss='sparse_categorical_crossentropy', optimizer='adam', metrics=['accuracy'])\n",
        "googlenet.fit(X_train, y_train, validation_data=(X_test, y_test), epochs=epochs, batch_size=64,validation_freq=5)"
      ],
      "execution_count": 0,
      "outputs": [
        {
          "output_type": "stream",
          "text": [
            "Train on 5000 samples, validate on 5000 samples\n",
            "Epoch 1/25\n",
            "5000/5000 [==============================] - 14s 3ms/sample - loss: 2.4358 - accuracy: 0.1022\n",
            "Epoch 2/25\n",
            "5000/5000 [==============================] - 10s 2ms/sample - loss: 2.2337 - accuracy: 0.1005\n",
            "Epoch 3/25\n",
            "5000/5000 [==============================] - 10s 2ms/sample - loss: 2.3763 - accuracy: 0.1010\n",
            "Epoch 4/25\n",
            "5000/5000 [==============================] - 10s 2ms/sample - loss: 2.5067 - accuracy: 0.1015\n",
            "Epoch 5/25\n",
            "5000/5000 [==============================] - 15s 3ms/sample - loss: 2.0430 - accuracy: 0.0993 - val_loss: 2.2885 - val_accuracy: 0.1012\n",
            "Epoch 6/25\n",
            "5000/5000 [==============================] - 10s 2ms/sample - loss: 2.0085 - accuracy: 0.1019\n",
            "Epoch 7/25\n",
            "5000/5000 [==============================] - 10s 2ms/sample - loss: 1.9732 - accuracy: 0.1018\n",
            "Epoch 8/25\n",
            "5000/5000 [==============================] - 10s 2ms/sample - loss: 1.7670 - accuracy: 0.1023\n",
            "Epoch 9/25\n",
            "5000/5000 [==============================] - 10s 2ms/sample - loss: 1.7760 - accuracy: 0.1017\n",
            "Epoch 10/25\n",
            "5000/5000 [==============================] - 14s 3ms/sample - loss: 1.6430 - accuracy: 0.1028 - val_loss: 2.3914 - val_accuracy: 0.1018\n",
            "Epoch 11/25\n",
            "5000/5000 [==============================] - 10s 2ms/sample - loss: 1.7025 - accuracy: 0.1023\n",
            "Epoch 12/25\n",
            "5000/5000 [==============================] - 10s 2ms/sample - loss: 1.6236 - accuracy: 0.1023\n",
            "Epoch 13/25\n",
            "5000/5000 [==============================] - 10s 2ms/sample - loss: 1.5605 - accuracy: 0.1015\n",
            "Epoch 14/25\n",
            "5000/5000 [==============================] - 10s 2ms/sample - loss: 1.4634 - accuracy: 0.1034\n",
            "Epoch 15/25\n",
            "5000/5000 [==============================] - 14s 3ms/sample - loss: 1.5273 - accuracy: 0.1034 - val_loss: 2.7076 - val_accuracy: 0.1025\n",
            "Epoch 16/25\n",
            "5000/5000 [==============================] - 10s 2ms/sample - loss: 1.3432 - accuracy: 0.1029\n",
            "Epoch 17/25\n",
            "5000/5000 [==============================] - 10s 2ms/sample - loss: 1.3422 - accuracy: 0.1032\n",
            "Epoch 18/25\n",
            "5000/5000 [==============================] - 10s 2ms/sample - loss: 1.2331 - accuracy: 0.1042\n",
            "Epoch 19/25\n",
            "5000/5000 [==============================] - 10s 2ms/sample - loss: 1.1622 - accuracy: 0.1043\n",
            "Epoch 20/25\n",
            "5000/5000 [==============================] - 14s 3ms/sample - loss: 1.0251 - accuracy: 0.1054 - val_loss: 1.3158 - val_accuracy: 0.1067\n",
            "Epoch 21/25\n",
            "5000/5000 [==============================] - 10s 2ms/sample - loss: 0.9555 - accuracy: 0.1059\n",
            "Epoch 22/25\n",
            "5000/5000 [==============================] - 10s 2ms/sample - loss: 0.9436 - accuracy: 0.1066\n",
            "Epoch 23/25\n",
            "5000/5000 [==============================] - 10s 2ms/sample - loss: 0.8224 - accuracy: 0.1069\n",
            "Epoch 24/25\n",
            "5000/5000 [==============================] - 10s 2ms/sample - loss: 0.7382 - accuracy: 0.1065\n",
            "Epoch 25/25\n",
            "5000/5000 [==============================] - 14s 3ms/sample - loss: 0.6948 - accuracy: 0.1080 - val_loss: 2.2179 - val_accuracy: 0.1037\n"
          ],
          "name": "stdout"
        },
        {
          "output_type": "execute_result",
          "data": {
            "text/plain": [
              "<tensorflow.python.keras.callbacks.History at 0x7fa5eb8c2e48>"
            ]
          },
          "metadata": {
            "tags": []
          },
          "execution_count": 11
        }
      ]
    },
    {
      "cell_type": "code",
      "metadata": {
        "id": "-0lAtcH3vFPp",
        "colab_type": "code",
        "colab": {}
      },
      "source": [
        ""
      ],
      "execution_count": 0,
      "outputs": []
    }
  ]
}