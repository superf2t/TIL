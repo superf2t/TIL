{
  "nbformat": 4,
  "nbformat_minor": 0,
  "metadata": {
    "colab": {
      "name": "03_01_rnn_stock_7_kyn.ipynb",
      "provenance": [],
      "collapsed_sections": [],
      "include_colab_link": true
    },
    "kernelspec": {
      "name": "python3",
      "display_name": "Python 3"
    },
    "accelerator": "GPU"
  },
  "cells": [
    {
      "cell_type": "markdown",
      "metadata": {
        "id": "view-in-github",
        "colab_type": "text"
      },
      "source": [
        "<a href=\"https://colab.research.google.com/github/KwonYN/TIL/blob/master/PYTHON/TENSORFLOW2/03_01_rnn_stock_7_kyn.ipynb\" target=\"_parent\"><img src=\"https://colab.research.google.com/assets/colab-badge.svg\" alt=\"Open In Colab\"/></a>"
      ]
    },
    {
      "cell_type": "markdown",
      "metadata": {
        "id": "YUbrsmxWf04y",
        "colab_type": "text"
      },
      "source": [
        "# **실습 3-1 : RNN Basic**\n"
      ]
    },
    {
      "cell_type": "markdown",
      "metadata": {
        "colab_type": "text",
        "id": "o95DL8X2YrPx"
      },
      "source": [
        "## **Import Module**"
      ]
    },
    {
      "cell_type": "code",
      "metadata": {
        "colab_type": "code",
        "id": "0trJmd6DjqBZ",
        "outputId": "55a6bbc8-976d-4ca0-f388-3e7193864e97",
        "colab": {
          "base_uri": "https://localhost:8080/",
          "height": 35
        }
      },
      "source": [
        "%tensorflow_version 2.x\n",
        "\n",
        "import numpy as np\n",
        "import tensorflow as tf\n",
        "import matplotlib.pyplot as plt\n",
        "\n",
        "\n",
        "tf.__version__"
      ],
      "execution_count": 0,
      "outputs": [
        {
          "output_type": "execute_result",
          "data": {
            "text/plain": [
              "'2.0.0'"
            ]
          },
          "metadata": {
            "tags": []
          },
          "execution_count": 3
        }
      ]
    },
    {
      "cell_type": "markdown",
      "metadata": {
        "id": "wOiaPQ3xgJQC",
        "colab_type": "text"
      },
      "source": [
        "## **DataSet**"
      ]
    },
    {
      "cell_type": "markdown",
      "metadata": {
        "id": "kOzQK9OT-Cbj",
        "colab_type": "text"
      },
      "source": [
        "### Mount"
      ]
    },
    {
      "cell_type": "code",
      "metadata": {
        "id": "kzoYXTzb-GNn",
        "colab_type": "code",
        "outputId": "13d912dd-4da5-4a8a-eb58-aba0ceadefb7",
        "colab": {
          "base_uri": "https://localhost:8080/",
          "height": 128
        }
      },
      "source": [
        "from google.colab import drive\n",
        "drive.mount('/content/drive')"
      ],
      "execution_count": 0,
      "outputs": [
        {
          "output_type": "stream",
          "text": [
            "Go to this URL in a browser: https://accounts.google.com/o/oauth2/auth?client_id=947318989803-6bn6qk8qdgf4n4g3pfee6491hc0brc4i.apps.googleusercontent.com&redirect_uri=urn%3aietf%3awg%3aoauth%3a2.0%3aoob&response_type=code&scope=email%20https%3a%2f%2fwww.googleapis.com%2fauth%2fdocs.test%20https%3a%2f%2fwww.googleapis.com%2fauth%2fdrive%20https%3a%2f%2fwww.googleapis.com%2fauth%2fdrive.photos.readonly%20https%3a%2f%2fwww.googleapis.com%2fauth%2fpeopleapi.readonly\n",
            "\n",
            "Enter your authorization code:\n",
            "··········\n",
            "Mounted at /content/drive\n"
          ],
          "name": "stdout"
        }
      ]
    },
    {
      "cell_type": "markdown",
      "metadata": {
        "id": "aD28IHuegUxp",
        "colab_type": "text"
      },
      "source": [
        "### Load"
      ]
    },
    {
      "cell_type": "code",
      "metadata": {
        "id": "cC8AS287Hz-9",
        "colab_type": "code",
        "outputId": "53ec7f60-0160-4a7e-8201-03141f7f1335",
        "colab": {
          "base_uri": "https://localhost:8080/",
          "height": 198
        }
      },
      "source": [
        "import pandas as pd\n",
        "# data file path declare\n",
        "stock_file = '/content/drive/Shared drives/scsa_2019_e/z_data/data-02-stock_daily.csv'\n",
        "# read the data file\n",
        "pd_data = pd.read_csv(stock_file)\n",
        "# 처음 몇개 자료 확인\n",
        "pd_data.head()"
      ],
      "execution_count": 0,
      "outputs": [
        {
          "output_type": "execute_result",
          "data": {
            "text/html": [
              "<div>\n",
              "<style scoped>\n",
              "    .dataframe tbody tr th:only-of-type {\n",
              "        vertical-align: middle;\n",
              "    }\n",
              "\n",
              "    .dataframe tbody tr th {\n",
              "        vertical-align: top;\n",
              "    }\n",
              "\n",
              "    .dataframe thead th {\n",
              "        text-align: right;\n",
              "    }\n",
              "</style>\n",
              "<table border=\"1\" class=\"dataframe\">\n",
              "  <thead>\n",
              "    <tr style=\"text-align: right;\">\n",
              "      <th></th>\n",
              "      <th></th>\n",
              "      <th></th>\n",
              "      <th></th>\n",
              "      <th># http://finance.yahoo.com/quote/GOOG/history?ltr=1</th>\n",
              "    </tr>\n",
              "  </thead>\n",
              "  <tbody>\n",
              "    <tr>\n",
              "      <th># Open</th>\n",
              "      <th>High</th>\n",
              "      <th>Low</th>\n",
              "      <th>Volume</th>\n",
              "      <td>Close</td>\n",
              "    </tr>\n",
              "    <tr>\n",
              "      <th>828.659973</th>\n",
              "      <th>833.450012</th>\n",
              "      <th>828.349976</th>\n",
              "      <th>1247700</th>\n",
              "      <td>831.659973</td>\n",
              "    </tr>\n",
              "    <tr>\n",
              "      <th>823.02002</th>\n",
              "      <th>828.070007</th>\n",
              "      <th>821.655029</th>\n",
              "      <th>1597800</th>\n",
              "      <td>828.070007</td>\n",
              "    </tr>\n",
              "    <tr>\n",
              "      <th>819.929993</th>\n",
              "      <th>824.400024</th>\n",
              "      <th>818.97998</th>\n",
              "      <th>1281700</th>\n",
              "      <td>824.159973</td>\n",
              "    </tr>\n",
              "    <tr>\n",
              "      <th>819.359985</th>\n",
              "      <th>823</th>\n",
              "      <th>818.469971</th>\n",
              "      <th>1304000</th>\n",
              "      <td>818.97998</td>\n",
              "    </tr>\n",
              "  </tbody>\n",
              "</table>\n",
              "</div>"
            ],
            "text/plain": [
              "                                         # http://finance.yahoo.com/quote/GOOG/history?ltr=1\n",
              "# Open     High       Low        Volume                                               Close \n",
              "828.659973 833.450012 828.349976 1247700                                         831.659973 \n",
              "823.02002  828.070007 821.655029 1597800                                         828.070007 \n",
              "819.929993 824.400024 818.97998  1281700                                         824.159973 \n",
              "819.359985 823        818.469971 1304000                                          818.97998 "
            ]
          },
          "metadata": {
            "tags": []
          },
          "execution_count": 5
        }
      ]
    },
    {
      "cell_type": "markdown",
      "metadata": {
        "id": "Api-8raYCKnz",
        "colab_type": "text"
      },
      "source": [
        "### Check dataset"
      ]
    },
    {
      "cell_type": "markdown",
      "metadata": {
        "id": "O0oDy0CggOEm",
        "colab_type": "text"
      },
      "source": [
        "### Preprocessing"
      ]
    },
    {
      "cell_type": "code",
      "metadata": {
        "id": "1LXjO9txq9nR",
        "colab_type": "code",
        "colab": {}
      },
      "source": [
        "# 최대,최소값으로 정규화 하기\n",
        "def MinMaxScaler(data):\n",
        "  numerator = data - np.min(data, 0)\n",
        "  denominator = (np.max(data, 0) - np.min(data, 0)) + 1e-7\n",
        "  return numerator/denominator"
      ],
      "execution_count": 0,
      "outputs": []
    },
    {
      "cell_type": "code",
      "metadata": {
        "id": "DGnO0NygDI6M",
        "colab_type": "code",
        "outputId": "e89c6644-6333-44bf-dd7d-cb123f6a1353",
        "colab": {
          "base_uri": "https://localhost:8080/",
          "height": 72
        }
      },
      "source": [
        "# data loading: csv file에서 숫자 데이터를 ndarray로 load\n",
        "xy = np.loadtxt(stock_file, delimiter=',')\n",
        "print(xy.shape)\n",
        "\n",
        "xy = xy[::-1]           # 과거부터로 정렬 (chronically ordered) - 역으로 순서 바꾼 것!\n",
        "xy = MinMaxScaler(xy)   # minmax 정규화\n",
        "x = xy                  # input data(Open,High,Low,Volume)\n",
        "y = xy[:, [-1]]         # 종가만 slicing -> target data  - 시작부터 끝까지(행 단위) 가장 마지막(열) 데이터만!! == 그리고 그것이 종가!\n",
        "\n",
        "# data type 확인\n",
        "print (\"SHAPE OF X IS %s\" % (x.shape,))\n",
        "print (\"SHAPE OF Y IS %s\" % (y.shape,))"
      ],
      "execution_count": 0,
      "outputs": [
        {
          "output_type": "stream",
          "text": [
            "(732, 5)\n",
            "SHAPE OF X IS (732, 5)\n",
            "SHAPE OF Y IS (732, 1)\n"
          ],
          "name": "stdout"
        }
      ]
    },
    {
      "cell_type": "code",
      "metadata": {
        "id": "AA7IGA2nZwhf",
        "colab_type": "code",
        "colab": {}
      },
      "source": [
        "# sequence generator\n",
        "## x:7일치 데이터, y:8일차 종가\n",
        "timesteps = seq_length = 7\n",
        "data_dim  = 5\n",
        "dataX = []\n",
        "dataY = []\n",
        "for i in range(0, len(y) - seq_length):\n",
        "    _x = x[i:i + seq_length] # 7일치 데이터\n",
        "    _y = y[i + seq_length]   # 다음날 종가\n",
        "    dataX.append(_x)\n",
        "    dataY.append(_y)\n",
        "\n",
        "# train data : test data = 7 : 3\n",
        "train_size = int(len(dataY) * 0.7)\n",
        "test_size  = len(dataY) - train_size\n",
        "x_train = np.array(dataX[0:train_size])\n",
        "y_train = np.array(dataY[0:train_size])\n",
        "x_test  = np.array(dataX[train_size:len(dataX)])\n",
        "y_test  = np.array(dataY[train_size:len(dataY)])"
      ],
      "execution_count": 0,
      "outputs": []
    },
    {
      "cell_type": "code",
      "metadata": {
        "id": "92YYGzQSrLdS",
        "colab_type": "code",
        "colab": {}
      },
      "source": [
        "def print_np(_name, _x):\n",
        "    print(\"TYPE  OF [%s] is [%s]\" % (_name, type(_x)))\n",
        "    print(\"SHAPE OF [%s] is %s\" % (_name, _x.shape))\n",
        "    print()"
      ],
      "execution_count": 0,
      "outputs": []
    },
    {
      "cell_type": "code",
      "metadata": {
        "id": "JRKhN24F_Jff",
        "colab_type": "code",
        "outputId": "b43cb83a-7a44-4012-da67-33fd0cfc9ebe",
        "colab": {
          "base_uri": "https://localhost:8080/",
          "height": 235
        }
      },
      "source": [
        "print_np('x_train', x_train)\n",
        "print_np('y_train', y_train)\n",
        "print_np('x_test', x_test)\n",
        "print_np('y_test', y_test)"
      ],
      "execution_count": 0,
      "outputs": [
        {
          "output_type": "stream",
          "text": [
            "TYPE  OF [x_train] is [<class 'numpy.ndarray'>]\n",
            "SHAPE OF [x_train] is (507, 7, 5)\n",
            "\n",
            "TYPE  OF [y_train] is [<class 'numpy.ndarray'>]\n",
            "SHAPE OF [y_train] is (507, 1)\n",
            "\n",
            "TYPE  OF [x_test] is [<class 'numpy.ndarray'>]\n",
            "SHAPE OF [x_test] is (218, 7, 5)\n",
            "\n",
            "TYPE  OF [y_test] is [<class 'numpy.ndarray'>]\n",
            "SHAPE OF [y_test] is (218, 1)\n",
            "\n"
          ],
          "name": "stdout"
        }
      ]
    },
    {
      "cell_type": "markdown",
      "metadata": {
        "id": "EY3zfzjlgbYj",
        "colab_type": "text"
      },
      "source": [
        "## **Model**"
      ]
    },
    {
      "cell_type": "markdown",
      "metadata": {
        "id": "PUqUyRtngdUC",
        "colab_type": "text"
      },
      "source": [
        "### Define"
      ]
    },
    {
      "cell_type": "code",
      "metadata": {
        "id": "vCAvqXiiDI6X",
        "colab_type": "code",
        "outputId": "6fbb35b3-e3e0-4bd0-a633-369052378617",
        "colab": {
          "base_uri": "https://localhost:8080/",
          "height": 526
        }
      },
      "source": [
        "hidden_dim = 10\n",
        "\n",
        "#### Basic LSTM model \n",
        "\n",
        "#basic model = LSTM + dense : Layer 2개\n",
        "model_B = tf.keras.models.Sequential(name='model_basic')  \n",
        "model_B.add(tf.keras.layers.LSTM(units = hidden_dim, \n",
        "              input_shape = (x_train.shape[1], x_train.shape[2])))\n",
        "model_B.add(tf.keras.layers.Dense(units = 1))\n",
        "\n",
        "#### Advanced model: stacked LSTM\n",
        "#Advance mode = (LSTM) * 3 + dense : Layer 4대\n",
        "# layer 1\n",
        "model_A = tf.keras.models.Sequential(name='model_advanced') \n",
        "model_A.add(tf.keras.layers.LSTM(units = hidden_dim,\n",
        "              return_sequences = True, \n",
        "              input_shape = (x_train.shape[1], x_train.shape[2])))\n",
        "# layer 2\n",
        "model_A.add(tf.keras.layers.LSTM(units = hidden_dim,return_sequences = True))\n",
        "# layer 3\n",
        "model_A.add(tf.keras.layers.LSTM(units = hidden_dim))\n",
        "# dense\n",
        "model_A.add(tf.keras.layers.Dense(units = 1))\n",
        "\n",
        "# model summary\n",
        "model_B.summary()   # basic model\n",
        "model_A.summary()   # advanced model\n",
        "\n"
      ],
      "execution_count": 0,
      "outputs": [
        {
          "output_type": "stream",
          "text": [
            "Model: \"model_basic\"\n",
            "_________________________________________________________________\n",
            "Layer (type)                 Output Shape              Param #   \n",
            "=================================================================\n",
            "lstm_8 (LSTM)                (None, 10)                640       \n",
            "_________________________________________________________________\n",
            "dense_4 (Dense)              (None, 1)                 11        \n",
            "=================================================================\n",
            "Total params: 651\n",
            "Trainable params: 651\n",
            "Non-trainable params: 0\n",
            "_________________________________________________________________\n",
            "Model: \"model_advanced\"\n",
            "_________________________________________________________________\n",
            "Layer (type)                 Output Shape              Param #   \n",
            "=================================================================\n",
            "lstm_9 (LSTM)                (None, 7, 10)             640       \n",
            "_________________________________________________________________\n",
            "lstm_10 (LSTM)               (None, 7, 10)             840       \n",
            "_________________________________________________________________\n",
            "lstm_11 (LSTM)               (None, 10)                840       \n",
            "_________________________________________________________________\n",
            "dense_5 (Dense)              (None, 1)                 11        \n",
            "=================================================================\n",
            "Total params: 2,331\n",
            "Trainable params: 2,331\n",
            "Non-trainable params: 0\n",
            "_________________________________________________________________\n"
          ],
          "name": "stdout"
        }
      ]
    },
    {
      "cell_type": "code",
      "metadata": {
        "id": "Xg6KvJjhk6Yd",
        "colab_type": "code",
        "colab": {}
      },
      "source": [
        ""
      ],
      "execution_count": 0,
      "outputs": []
    },
    {
      "cell_type": "markdown",
      "metadata": {
        "id": "n9BG8hNUgo0n",
        "colab_type": "text"
      },
      "source": [
        "### Compile and Fit"
      ]
    },
    {
      "cell_type": "markdown",
      "metadata": {
        "id": "7KbIreYLd6gj",
        "colab_type": "text"
      },
      "source": [
        "Epoch 100/100\n",
        "507/507 [==============================] - 0s 220us/sample - loss: 0.0017 - mse: 0.0017 - val_loss: 0.0019 - val_mse: 0.0019\n",
        "CPU times: user 17.2 s, sys: 910 ms, total: 18.1 s\n",
        "\n",
        "Wall time: 14.4 s (@Notebook Setting/GPU)"
      ]
    },
    {
      "cell_type": "code",
      "metadata": {
        "id": "WeRSZVJGzd0-",
        "colab_type": "code",
        "outputId": "40cf7594-e942-4f08-ab9f-1d8afca41175",
        "colab": {
          "base_uri": "https://localhost:8080/",
          "height": 1000
        }
      },
      "source": [
        "%%time\n",
        "# model compile\n",
        "model_B.compile(optimizer = 'adam', loss = 'mse', metrics=['mse'])\n",
        "\n",
        "history_B = model_B.fit(x_train, y_train, \n",
        "                      validation_data=(x_test, y_test),\n",
        "                      epochs = 100, batch_size = 32)"
      ],
      "execution_count": 0,
      "outputs": [
        {
          "output_type": "stream",
          "text": [
            "Train on 507 samples, validate on 218 samples\n",
            "Epoch 1/100\n",
            "507/507 [==============================] - 5s 10ms/sample - loss: 0.2586 - mse: 0.2586 - val_loss: 0.8511 - val_mse: 0.8511\n",
            "Epoch 2/100\n",
            "507/507 [==============================] - 0s 201us/sample - loss: 0.1380 - mse: 0.1380 - val_loss: 0.4976 - val_mse: 0.4976\n",
            "Epoch 3/100\n",
            "507/507 [==============================] - 0s 183us/sample - loss: 0.0655 - mse: 0.0655 - val_loss: 0.2446 - val_mse: 0.2446\n",
            "Epoch 4/100\n",
            "507/507 [==============================] - 0s 182us/sample - loss: 0.0295 - mse: 0.0295 - val_loss: 0.1048 - val_mse: 0.1048\n",
            "Epoch 5/100\n",
            "507/507 [==============================] - 0s 188us/sample - loss: 0.0188 - mse: 0.0188 - val_loss: 0.0506 - val_mse: 0.0506\n",
            "Epoch 6/100\n",
            "507/507 [==============================] - 0s 176us/sample - loss: 0.0135 - mse: 0.0135 - val_loss: 0.0382 - val_mse: 0.0382\n",
            "Epoch 7/100\n",
            "507/507 [==============================] - 0s 175us/sample - loss: 0.0091 - mse: 0.0091 - val_loss: 0.0278 - val_mse: 0.0278\n",
            "Epoch 8/100\n",
            "507/507 [==============================] - 0s 181us/sample - loss: 0.0061 - mse: 0.0061 - val_loss: 0.0154 - val_mse: 0.0154\n",
            "Epoch 9/100\n",
            "507/507 [==============================] - 0s 181us/sample - loss: 0.0042 - mse: 0.0042 - val_loss: 0.0081 - val_mse: 0.0081\n",
            "Epoch 10/100\n",
            "507/507 [==============================] - 0s 168us/sample - loss: 0.0032 - mse: 0.0032 - val_loss: 0.0054 - val_mse: 0.0054\n",
            "Epoch 11/100\n",
            "507/507 [==============================] - 0s 180us/sample - loss: 0.0027 - mse: 0.0027 - val_loss: 0.0037 - val_mse: 0.0037\n",
            "Epoch 12/100\n",
            "507/507 [==============================] - 0s 183us/sample - loss: 0.0026 - mse: 0.0026 - val_loss: 0.0030 - val_mse: 0.0030\n",
            "Epoch 13/100\n",
            "507/507 [==============================] - 0s 200us/sample - loss: 0.0026 - mse: 0.0026 - val_loss: 0.0030 - val_mse: 0.0030\n",
            "Epoch 14/100\n",
            "507/507 [==============================] - 0s 204us/sample - loss: 0.0026 - mse: 0.0026 - val_loss: 0.0028 - val_mse: 0.0028\n",
            "Epoch 15/100\n",
            "507/507 [==============================] - 0s 181us/sample - loss: 0.0026 - mse: 0.0026 - val_loss: 0.0029 - val_mse: 0.0029\n",
            "Epoch 16/100\n",
            "507/507 [==============================] - 0s 192us/sample - loss: 0.0026 - mse: 0.0026 - val_loss: 0.0026 - val_mse: 0.0026\n",
            "Epoch 17/100\n",
            "507/507 [==============================] - 0s 179us/sample - loss: 0.0025 - mse: 0.0025 - val_loss: 0.0028 - val_mse: 0.0028\n",
            "Epoch 18/100\n",
            "507/507 [==============================] - 0s 181us/sample - loss: 0.0025 - mse: 0.0025 - val_loss: 0.0027 - val_mse: 0.0027\n",
            "Epoch 19/100\n",
            "507/507 [==============================] - 0s 174us/sample - loss: 0.0025 - mse: 0.0025 - val_loss: 0.0030 - val_mse: 0.0030\n",
            "Epoch 20/100\n",
            "507/507 [==============================] - 0s 178us/sample - loss: 0.0025 - mse: 0.0025 - val_loss: 0.0027 - val_mse: 0.0027\n",
            "Epoch 21/100\n",
            "507/507 [==============================] - 0s 178us/sample - loss: 0.0025 - mse: 0.0025 - val_loss: 0.0028 - val_mse: 0.0028\n",
            "Epoch 22/100\n",
            "507/507 [==============================] - 0s 185us/sample - loss: 0.0025 - mse: 0.0025 - val_loss: 0.0024 - val_mse: 0.0024\n",
            "Epoch 23/100\n",
            "507/507 [==============================] - 0s 200us/sample - loss: 0.0025 - mse: 0.0025 - val_loss: 0.0026 - val_mse: 0.0026\n",
            "Epoch 24/100\n",
            "507/507 [==============================] - 0s 198us/sample - loss: 0.0025 - mse: 0.0025 - val_loss: 0.0026 - val_mse: 0.0026\n",
            "Epoch 25/100\n",
            "507/507 [==============================] - 0s 187us/sample - loss: 0.0024 - mse: 0.0024 - val_loss: 0.0027 - val_mse: 0.0027\n",
            "Epoch 26/100\n",
            "507/507 [==============================] - 0s 193us/sample - loss: 0.0024 - mse: 0.0024 - val_loss: 0.0026 - val_mse: 0.0026\n",
            "Epoch 27/100\n",
            "507/507 [==============================] - 0s 189us/sample - loss: 0.0024 - mse: 0.0024 - val_loss: 0.0025 - val_mse: 0.0025\n",
            "Epoch 28/100\n",
            "507/507 [==============================] - 0s 190us/sample - loss: 0.0024 - mse: 0.0024 - val_loss: 0.0024 - val_mse: 0.0024\n",
            "Epoch 29/100\n",
            "507/507 [==============================] - 0s 188us/sample - loss: 0.0024 - mse: 0.0024 - val_loss: 0.0026 - val_mse: 0.0026\n",
            "Epoch 30/100\n",
            "507/507 [==============================] - 0s 195us/sample - loss: 0.0024 - mse: 0.0024 - val_loss: 0.0023 - val_mse: 0.0023\n",
            "Epoch 31/100\n",
            "507/507 [==============================] - 0s 186us/sample - loss: 0.0024 - mse: 0.0024 - val_loss: 0.0024 - val_mse: 0.0024\n",
            "Epoch 32/100\n",
            "507/507 [==============================] - 0s 181us/sample - loss: 0.0024 - mse: 0.0024 - val_loss: 0.0023 - val_mse: 0.0023\n",
            "Epoch 33/100\n",
            "507/507 [==============================] - 0s 184us/sample - loss: 0.0024 - mse: 0.0024 - val_loss: 0.0027 - val_mse: 0.0027\n",
            "Epoch 34/100\n",
            "507/507 [==============================] - 0s 199us/sample - loss: 0.0023 - mse: 0.0023 - val_loss: 0.0021 - val_mse: 0.0021\n",
            "Epoch 35/100\n",
            "507/507 [==============================] - 0s 190us/sample - loss: 0.0023 - mse: 0.0023 - val_loss: 0.0025 - val_mse: 0.0025\n",
            "Epoch 36/100\n",
            "507/507 [==============================] - 0s 195us/sample - loss: 0.0023 - mse: 0.0023 - val_loss: 0.0022 - val_mse: 0.0022\n",
            "Epoch 37/100\n",
            "507/507 [==============================] - 0s 185us/sample - loss: 0.0023 - mse: 0.0023 - val_loss: 0.0022 - val_mse: 0.0022\n",
            "Epoch 38/100\n",
            "507/507 [==============================] - 0s 186us/sample - loss: 0.0023 - mse: 0.0023 - val_loss: 0.0025 - val_mse: 0.0025\n",
            "Epoch 39/100\n",
            "507/507 [==============================] - 0s 189us/sample - loss: 0.0023 - mse: 0.0023 - val_loss: 0.0021 - val_mse: 0.0021\n",
            "Epoch 40/100\n",
            "507/507 [==============================] - 0s 177us/sample - loss: 0.0023 - mse: 0.0023 - val_loss: 0.0021 - val_mse: 0.0021\n",
            "Epoch 41/100\n",
            "507/507 [==============================] - 0s 188us/sample - loss: 0.0022 - mse: 0.0022 - val_loss: 0.0020 - val_mse: 0.0020\n",
            "Epoch 42/100\n",
            "507/507 [==============================] - 0s 183us/sample - loss: 0.0022 - mse: 0.0022 - val_loss: 0.0021 - val_mse: 0.0021\n",
            "Epoch 43/100\n",
            "507/507 [==============================] - 0s 193us/sample - loss: 0.0022 - mse: 0.0022 - val_loss: 0.0021 - val_mse: 0.0021\n",
            "Epoch 44/100\n",
            "507/507 [==============================] - 0s 189us/sample - loss: 0.0022 - mse: 0.0022 - val_loss: 0.0021 - val_mse: 0.0021\n",
            "Epoch 45/100\n",
            "507/507 [==============================] - 0s 229us/sample - loss: 0.0022 - mse: 0.0022 - val_loss: 0.0020 - val_mse: 0.0020\n",
            "Epoch 46/100\n",
            "507/507 [==============================] - 0s 185us/sample - loss: 0.0022 - mse: 0.0022 - val_loss: 0.0022 - val_mse: 0.0022\n",
            "Epoch 47/100\n",
            "507/507 [==============================] - 0s 179us/sample - loss: 0.0022 - mse: 0.0022 - val_loss: 0.0018 - val_mse: 0.0018\n",
            "Epoch 48/100\n",
            "507/507 [==============================] - 0s 176us/sample - loss: 0.0022 - mse: 0.0022 - val_loss: 0.0018 - val_mse: 0.0018\n",
            "Epoch 49/100\n",
            "507/507 [==============================] - 0s 177us/sample - loss: 0.0021 - mse: 0.0021 - val_loss: 0.0021 - val_mse: 0.0021\n",
            "Epoch 50/100\n",
            "507/507 [==============================] - 0s 179us/sample - loss: 0.0021 - mse: 0.0021 - val_loss: 0.0017 - val_mse: 0.0017\n",
            "Epoch 51/100\n",
            "507/507 [==============================] - 0s 185us/sample - loss: 0.0021 - mse: 0.0021 - val_loss: 0.0020 - val_mse: 0.0020\n",
            "Epoch 52/100\n",
            "507/507 [==============================] - 0s 182us/sample - loss: 0.0021 - mse: 0.0021 - val_loss: 0.0017 - val_mse: 0.0017\n",
            "Epoch 53/100\n",
            "507/507 [==============================] - 0s 179us/sample - loss: 0.0021 - mse: 0.0021 - val_loss: 0.0021 - val_mse: 0.0021\n",
            "Epoch 54/100\n",
            "507/507 [==============================] - 0s 178us/sample - loss: 0.0021 - mse: 0.0021 - val_loss: 0.0018 - val_mse: 0.0018\n",
            "Epoch 55/100\n",
            "507/507 [==============================] - 0s 191us/sample - loss: 0.0021 - mse: 0.0021 - val_loss: 0.0019 - val_mse: 0.0019\n",
            "Epoch 56/100\n",
            "507/507 [==============================] - 0s 198us/sample - loss: 0.0020 - mse: 0.0020 - val_loss: 0.0016 - val_mse: 0.0016\n",
            "Epoch 57/100\n",
            "507/507 [==============================] - 0s 196us/sample - loss: 0.0021 - mse: 0.0021 - val_loss: 0.0017 - val_mse: 0.0017\n",
            "Epoch 58/100\n",
            "507/507 [==============================] - 0s 185us/sample - loss: 0.0020 - mse: 0.0020 - val_loss: 0.0017 - val_mse: 0.0017\n",
            "Epoch 59/100\n",
            "507/507 [==============================] - 0s 191us/sample - loss: 0.0020 - mse: 0.0020 - val_loss: 0.0018 - val_mse: 0.0018\n",
            "Epoch 60/100\n",
            "507/507 [==============================] - 0s 203us/sample - loss: 0.0020 - mse: 0.0020 - val_loss: 0.0015 - val_mse: 0.0015\n",
            "Epoch 61/100\n",
            "507/507 [==============================] - 0s 206us/sample - loss: 0.0020 - mse: 0.0020 - val_loss: 0.0016 - val_mse: 0.0016\n",
            "Epoch 62/100\n",
            "507/507 [==============================] - 0s 192us/sample - loss: 0.0020 - mse: 0.0020 - val_loss: 0.0018 - val_mse: 0.0018\n",
            "Epoch 63/100\n",
            "507/507 [==============================] - 0s 203us/sample - loss: 0.0020 - mse: 0.0020 - val_loss: 0.0014 - val_mse: 0.0014\n",
            "Epoch 64/100\n",
            "507/507 [==============================] - 0s 184us/sample - loss: 0.0020 - mse: 0.0020 - val_loss: 0.0020 - val_mse: 0.0020\n",
            "Epoch 65/100\n",
            "507/507 [==============================] - 0s 175us/sample - loss: 0.0019 - mse: 0.0019 - val_loss: 0.0014 - val_mse: 0.0014\n",
            "Epoch 66/100\n",
            "507/507 [==============================] - 0s 189us/sample - loss: 0.0019 - mse: 0.0019 - val_loss: 0.0015 - val_mse: 0.0015\n",
            "Epoch 67/100\n",
            "507/507 [==============================] - 0s 217us/sample - loss: 0.0019 - mse: 0.0019 - val_loss: 0.0015 - val_mse: 0.0015\n",
            "Epoch 68/100\n",
            "507/507 [==============================] - 0s 175us/sample - loss: 0.0019 - mse: 0.0019 - val_loss: 0.0017 - val_mse: 0.0017\n",
            "Epoch 69/100\n",
            "507/507 [==============================] - 0s 185us/sample - loss: 0.0019 - mse: 0.0019 - val_loss: 0.0014 - val_mse: 0.0014\n",
            "Epoch 70/100\n",
            "507/507 [==============================] - 0s 176us/sample - loss: 0.0019 - mse: 0.0019 - val_loss: 0.0018 - val_mse: 0.0018\n",
            "Epoch 71/100\n",
            "507/507 [==============================] - 0s 177us/sample - loss: 0.0019 - mse: 0.0019 - val_loss: 0.0014 - val_mse: 0.0014\n",
            "Epoch 72/100\n",
            "507/507 [==============================] - 0s 178us/sample - loss: 0.0019 - mse: 0.0019 - val_loss: 0.0013 - val_mse: 0.0013\n",
            "Epoch 73/100\n",
            "507/507 [==============================] - 0s 181us/sample - loss: 0.0019 - mse: 0.0019 - val_loss: 0.0015 - val_mse: 0.0015\n",
            "Epoch 74/100\n",
            "507/507 [==============================] - 0s 184us/sample - loss: 0.0019 - mse: 0.0019 - val_loss: 0.0013 - val_mse: 0.0013\n",
            "Epoch 75/100\n",
            "507/507 [==============================] - 0s 179us/sample - loss: 0.0018 - mse: 0.0018 - val_loss: 0.0015 - val_mse: 0.0015\n",
            "Epoch 76/100\n",
            "507/507 [==============================] - 0s 201us/sample - loss: 0.0018 - mse: 0.0018 - val_loss: 0.0012 - val_mse: 0.0012\n",
            "Epoch 77/100\n",
            "507/507 [==============================] - 0s 195us/sample - loss: 0.0018 - mse: 0.0018 - val_loss: 0.0014 - val_mse: 0.0014\n",
            "Epoch 78/100\n",
            "507/507 [==============================] - 0s 180us/sample - loss: 0.0018 - mse: 0.0018 - val_loss: 0.0013 - val_mse: 0.0013\n",
            "Epoch 79/100\n",
            "507/507 [==============================] - 0s 178us/sample - loss: 0.0018 - mse: 0.0018 - val_loss: 0.0014 - val_mse: 0.0014\n",
            "Epoch 80/100\n",
            "507/507 [==============================] - 0s 189us/sample - loss: 0.0018 - mse: 0.0018 - val_loss: 0.0013 - val_mse: 0.0013\n",
            "Epoch 81/100\n",
            "507/507 [==============================] - 0s 175us/sample - loss: 0.0017 - mse: 0.0017 - val_loss: 0.0012 - val_mse: 0.0012\n",
            "Epoch 82/100\n",
            "507/507 [==============================] - 0s 182us/sample - loss: 0.0017 - mse: 0.0017 - val_loss: 0.0014 - val_mse: 0.0014\n",
            "Epoch 83/100\n",
            "507/507 [==============================] - 0s 180us/sample - loss: 0.0017 - mse: 0.0017 - val_loss: 0.0013 - val_mse: 0.0013\n",
            "Epoch 84/100\n",
            "507/507 [==============================] - 0s 179us/sample - loss: 0.0017 - mse: 0.0017 - val_loss: 0.0011 - val_mse: 0.0011\n",
            "Epoch 85/100\n",
            "507/507 [==============================] - 0s 179us/sample - loss: 0.0017 - mse: 0.0017 - val_loss: 0.0014 - val_mse: 0.0014\n",
            "Epoch 86/100\n",
            "507/507 [==============================] - 0s 173us/sample - loss: 0.0017 - mse: 0.0017 - val_loss: 0.0012 - val_mse: 0.0012\n",
            "Epoch 87/100\n",
            "507/507 [==============================] - 0s 191us/sample - loss: 0.0017 - mse: 0.0017 - val_loss: 0.0014 - val_mse: 0.0014\n",
            "Epoch 88/100\n",
            "507/507 [==============================] - 0s 189us/sample - loss: 0.0017 - mse: 0.0017 - val_loss: 0.0011 - val_mse: 0.0011\n",
            "Epoch 89/100\n",
            "507/507 [==============================] - 0s 214us/sample - loss: 0.0017 - mse: 0.0017 - val_loss: 0.0011 - val_mse: 0.0011\n",
            "Epoch 90/100\n",
            "507/507 [==============================] - 0s 197us/sample - loss: 0.0016 - mse: 0.0016 - val_loss: 0.0012 - val_mse: 0.0012\n",
            "Epoch 91/100\n",
            "507/507 [==============================] - 0s 188us/sample - loss: 0.0016 - mse: 0.0016 - val_loss: 0.0011 - val_mse: 0.0011\n",
            "Epoch 92/100\n",
            "507/507 [==============================] - 0s 193us/sample - loss: 0.0016 - mse: 0.0016 - val_loss: 0.0011 - val_mse: 0.0011\n",
            "Epoch 93/100\n",
            "507/507 [==============================] - 0s 186us/sample - loss: 0.0016 - mse: 0.0016 - val_loss: 0.0011 - val_mse: 0.0011\n",
            "Epoch 94/100\n",
            "507/507 [==============================] - 0s 191us/sample - loss: 0.0016 - mse: 0.0016 - val_loss: 0.0012 - val_mse: 0.0012\n",
            "Epoch 95/100\n",
            "507/507 [==============================] - 0s 201us/sample - loss: 0.0016 - mse: 0.0016 - val_loss: 0.0011 - val_mse: 0.0011\n",
            "Epoch 96/100\n",
            "507/507 [==============================] - 0s 186us/sample - loss: 0.0016 - mse: 0.0016 - val_loss: 0.0011 - val_mse: 0.0011\n",
            "Epoch 97/100\n",
            "507/507 [==============================] - 0s 186us/sample - loss: 0.0016 - mse: 0.0016 - val_loss: 0.0010 - val_mse: 0.0010\n",
            "Epoch 98/100\n",
            "507/507 [==============================] - 0s 205us/sample - loss: 0.0016 - mse: 0.0016 - val_loss: 0.0011 - val_mse: 0.0011\n",
            "Epoch 99/100\n",
            "507/507 [==============================] - 0s 195us/sample - loss: 0.0015 - mse: 0.0015 - val_loss: 0.0012 - val_mse: 0.0012\n",
            "Epoch 100/100\n",
            "507/507 [==============================] - 0s 190us/sample - loss: 0.0015 - mse: 0.0015 - val_loss: 0.0010 - val_mse: 0.0010\n",
            "CPU times: user 14.6 s, sys: 1.47 s, total: 16 s\n",
            "Wall time: 14.8 s\n"
          ],
          "name": "stdout"
        }
      ]
    },
    {
      "cell_type": "markdown",
      "metadata": {
        "id": "wtgvcJnrAdfc",
        "colab_type": "text"
      },
      "source": [
        "Epoch 100/100\n",
        "507/507 [==============================] - 0s 563us/sample - loss: 0.0057 - mse: 0.0057 - val_loss: 0.0090 - val_mse: 0.0090\n",
        "CPU times: user 50.9 s, sys: 2.65 s, total: 53.6 s\n",
        "\n",
        "Wall time: 36.8 s"
      ]
    },
    {
      "cell_type": "code",
      "metadata": {
        "id": "kuSVxgwR_n9x",
        "colab_type": "code",
        "outputId": "40b368f9-8ff2-45ae-b741-30bead55429a",
        "colab": {
          "base_uri": "https://localhost:8080/",
          "height": 1000
        }
      },
      "source": [
        "%%time\n",
        "# model compile\n",
        "model_A.compile(optimizer = 'adam', loss = 'mean_squared_error', metrics=['mse'])\n",
        "\n",
        "history_A = model_A.fit(x_train, y_train, \n",
        "                      validation_data=(x_test, y_test),\n",
        "                      epochs = 100, batch_size = 32)\n"
      ],
      "execution_count": 0,
      "outputs": [
        {
          "output_type": "stream",
          "text": [
            "Train on 507 samples, validate on 218 samples\n",
            "Epoch 1/100\n",
            "507/507 [==============================] - 5s 9ms/sample - loss: 0.0676 - mse: 0.0676 - val_loss: 0.1546 - val_mse: 0.1546\n",
            "Epoch 2/100\n",
            "507/507 [==============================] - 0s 285us/sample - loss: 0.0210 - mse: 0.0210 - val_loss: 0.0268 - val_mse: 0.0268\n",
            "Epoch 3/100\n",
            "507/507 [==============================] - 0s 309us/sample - loss: 0.0122 - mse: 0.0122 - val_loss: 0.0256 - val_mse: 0.0256\n",
            "Epoch 4/100\n",
            "507/507 [==============================] - 0s 289us/sample - loss: 0.0049 - mse: 0.0049 - val_loss: 0.0027 - val_mse: 0.0027\n",
            "Epoch 5/100\n",
            "507/507 [==============================] - 0s 288us/sample - loss: 0.0032 - mse: 0.0032 - val_loss: 0.0024 - val_mse: 0.0024\n",
            "Epoch 6/100\n",
            "507/507 [==============================] - 0s 294us/sample - loss: 0.0033 - mse: 0.0033 - val_loss: 0.0026 - val_mse: 0.0026\n",
            "Epoch 7/100\n",
            "507/507 [==============================] - 0s 297us/sample - loss: 0.0032 - mse: 0.0032 - val_loss: 0.0024 - val_mse: 0.0024\n",
            "Epoch 8/100\n",
            "507/507 [==============================] - 0s 278us/sample - loss: 0.0032 - mse: 0.0032 - val_loss: 0.0025 - val_mse: 0.0025\n",
            "Epoch 9/100\n",
            "507/507 [==============================] - 0s 329us/sample - loss: 0.0032 - mse: 0.0032 - val_loss: 0.0027 - val_mse: 0.0027\n",
            "Epoch 10/100\n",
            "507/507 [==============================] - 0s 302us/sample - loss: 0.0032 - mse: 0.0032 - val_loss: 0.0029 - val_mse: 0.0029\n",
            "Epoch 11/100\n",
            "507/507 [==============================] - 0s 283us/sample - loss: 0.0032 - mse: 0.0032 - val_loss: 0.0027 - val_mse: 0.0027\n",
            "Epoch 12/100\n",
            "507/507 [==============================] - 0s 276us/sample - loss: 0.0032 - mse: 0.0032 - val_loss: 0.0024 - val_mse: 0.0024\n",
            "Epoch 13/100\n",
            "507/507 [==============================] - 0s 317us/sample - loss: 0.0034 - mse: 0.0034 - val_loss: 0.0028 - val_mse: 0.0028\n",
            "Epoch 14/100\n",
            "507/507 [==============================] - 0s 295us/sample - loss: 0.0032 - mse: 0.0032 - val_loss: 0.0027 - val_mse: 0.0027\n",
            "Epoch 15/100\n",
            "507/507 [==============================] - 0s 288us/sample - loss: 0.0031 - mse: 0.0031 - val_loss: 0.0029 - val_mse: 0.0029\n",
            "Epoch 16/100\n",
            "507/507 [==============================] - 0s 289us/sample - loss: 0.0032 - mse: 0.0032 - val_loss: 0.0026 - val_mse: 0.0026\n",
            "Epoch 17/100\n",
            "507/507 [==============================] - 0s 306us/sample - loss: 0.0032 - mse: 0.0032 - val_loss: 0.0024 - val_mse: 0.0024\n",
            "Epoch 18/100\n",
            "507/507 [==============================] - 0s 285us/sample - loss: 0.0031 - mse: 0.0031 - val_loss: 0.0023 - val_mse: 0.0023\n",
            "Epoch 19/100\n",
            "507/507 [==============================] - 0s 307us/sample - loss: 0.0032 - mse: 0.0032 - val_loss: 0.0027 - val_mse: 0.0027\n",
            "Epoch 20/100\n",
            "507/507 [==============================] - 0s 283us/sample - loss: 0.0032 - mse: 0.0032 - val_loss: 0.0022 - val_mse: 0.0022\n",
            "Epoch 21/100\n",
            "507/507 [==============================] - 0s 294us/sample - loss: 0.0032 - mse: 0.0032 - val_loss: 0.0022 - val_mse: 0.0022\n",
            "Epoch 22/100\n",
            "507/507 [==============================] - 0s 294us/sample - loss: 0.0031 - mse: 0.0031 - val_loss: 0.0030 - val_mse: 0.0030\n",
            "Epoch 23/100\n",
            "507/507 [==============================] - 0s 283us/sample - loss: 0.0031 - mse: 0.0031 - val_loss: 0.0029 - val_mse: 0.0029\n",
            "Epoch 24/100\n",
            "507/507 [==============================] - 0s 323us/sample - loss: 0.0031 - mse: 0.0031 - val_loss: 0.0029 - val_mse: 0.0029\n",
            "Epoch 25/100\n",
            "507/507 [==============================] - 0s 301us/sample - loss: 0.0031 - mse: 0.0031 - val_loss: 0.0023 - val_mse: 0.0023\n",
            "Epoch 26/100\n",
            "507/507 [==============================] - 0s 299us/sample - loss: 0.0030 - mse: 0.0030 - val_loss: 0.0039 - val_mse: 0.0039\n",
            "Epoch 27/100\n",
            "507/507 [==============================] - 0s 287us/sample - loss: 0.0032 - mse: 0.0032 - val_loss: 0.0028 - val_mse: 0.0028\n",
            "Epoch 28/100\n",
            "507/507 [==============================] - 0s 293us/sample - loss: 0.0031 - mse: 0.0031 - val_loss: 0.0025 - val_mse: 0.0025\n",
            "Epoch 29/100\n",
            "507/507 [==============================] - 0s 289us/sample - loss: 0.0030 - mse: 0.0030 - val_loss: 0.0024 - val_mse: 0.0024\n",
            "Epoch 30/100\n",
            "507/507 [==============================] - 0s 301us/sample - loss: 0.0030 - mse: 0.0030 - val_loss: 0.0026 - val_mse: 0.0026\n",
            "Epoch 31/100\n",
            "507/507 [==============================] - 0s 314us/sample - loss: 0.0030 - mse: 0.0030 - val_loss: 0.0022 - val_mse: 0.0022\n",
            "Epoch 32/100\n",
            "507/507 [==============================] - 0s 293us/sample - loss: 0.0030 - mse: 0.0030 - val_loss: 0.0022 - val_mse: 0.0022\n",
            "Epoch 33/100\n",
            "507/507 [==============================] - 0s 289us/sample - loss: 0.0030 - mse: 0.0030 - val_loss: 0.0024 - val_mse: 0.0024\n",
            "Epoch 34/100\n",
            "507/507 [==============================] - 0s 284us/sample - loss: 0.0031 - mse: 0.0031 - val_loss: 0.0023 - val_mse: 0.0023\n",
            "Epoch 35/100\n",
            "507/507 [==============================] - 0s 289us/sample - loss: 0.0030 - mse: 0.0030 - val_loss: 0.0022 - val_mse: 0.0022\n",
            "Epoch 36/100\n",
            "507/507 [==============================] - 0s 287us/sample - loss: 0.0029 - mse: 0.0029 - val_loss: 0.0034 - val_mse: 0.0034\n",
            "Epoch 37/100\n",
            "507/507 [==============================] - 0s 297us/sample - loss: 0.0030 - mse: 0.0030 - val_loss: 0.0022 - val_mse: 0.0022\n",
            "Epoch 38/100\n",
            "507/507 [==============================] - 0s 290us/sample - loss: 0.0029 - mse: 0.0029 - val_loss: 0.0022 - val_mse: 0.0022\n",
            "Epoch 39/100\n",
            "507/507 [==============================] - 0s 283us/sample - loss: 0.0029 - mse: 0.0029 - val_loss: 0.0035 - val_mse: 0.0035\n",
            "Epoch 40/100\n",
            "507/507 [==============================] - 0s 288us/sample - loss: 0.0029 - mse: 0.0029 - val_loss: 0.0031 - val_mse: 0.0031\n",
            "Epoch 41/100\n",
            "507/507 [==============================] - 0s 280us/sample - loss: 0.0029 - mse: 0.0029 - val_loss: 0.0029 - val_mse: 0.0029\n",
            "Epoch 42/100\n",
            "507/507 [==============================] - 0s 296us/sample - loss: 0.0028 - mse: 0.0028 - val_loss: 0.0031 - val_mse: 0.0031\n",
            "Epoch 43/100\n",
            "507/507 [==============================] - 0s 327us/sample - loss: 0.0029 - mse: 0.0029 - val_loss: 0.0038 - val_mse: 0.0038\n",
            "Epoch 44/100\n",
            "507/507 [==============================] - 0s 326us/sample - loss: 0.0029 - mse: 0.0029 - val_loss: 0.0021 - val_mse: 0.0021\n",
            "Epoch 45/100\n",
            "507/507 [==============================] - 0s 303us/sample - loss: 0.0028 - mse: 0.0028 - val_loss: 0.0024 - val_mse: 0.0024\n",
            "Epoch 46/100\n",
            "507/507 [==============================] - 0s 290us/sample - loss: 0.0028 - mse: 0.0028 - val_loss: 0.0021 - val_mse: 0.0021\n",
            "Epoch 47/100\n",
            "507/507 [==============================] - 0s 287us/sample - loss: 0.0028 - mse: 0.0028 - val_loss: 0.0021 - val_mse: 0.0021\n",
            "Epoch 48/100\n",
            "507/507 [==============================] - 0s 284us/sample - loss: 0.0027 - mse: 0.0027 - val_loss: 0.0026 - val_mse: 0.0026\n",
            "Epoch 49/100\n",
            "507/507 [==============================] - 0s 284us/sample - loss: 0.0027 - mse: 0.0027 - val_loss: 0.0030 - val_mse: 0.0030\n",
            "Epoch 50/100\n",
            "507/507 [==============================] - 0s 302us/sample - loss: 0.0027 - mse: 0.0027 - val_loss: 0.0021 - val_mse: 0.0021\n",
            "Epoch 51/100\n",
            "507/507 [==============================] - 0s 314us/sample - loss: 0.0027 - mse: 0.0027 - val_loss: 0.0041 - val_mse: 0.0041\n",
            "Epoch 52/100\n",
            "507/507 [==============================] - 0s 308us/sample - loss: 0.0027 - mse: 0.0027 - val_loss: 0.0031 - val_mse: 0.0031\n",
            "Epoch 53/100\n",
            "507/507 [==============================] - 0s 296us/sample - loss: 0.0028 - mse: 0.0028 - val_loss: 0.0025 - val_mse: 0.0025\n",
            "Epoch 54/100\n",
            "507/507 [==============================] - 0s 296us/sample - loss: 0.0027 - mse: 0.0027 - val_loss: 0.0020 - val_mse: 0.0020\n",
            "Epoch 55/100\n",
            "507/507 [==============================] - 0s 299us/sample - loss: 0.0026 - mse: 0.0026 - val_loss: 0.0024 - val_mse: 0.0024\n",
            "Epoch 56/100\n",
            "507/507 [==============================] - 0s 284us/sample - loss: 0.0026 - mse: 0.0026 - val_loss: 0.0024 - val_mse: 0.0024\n",
            "Epoch 57/100\n",
            "507/507 [==============================] - 0s 305us/sample - loss: 0.0026 - mse: 0.0026 - val_loss: 0.0023 - val_mse: 0.0023\n",
            "Epoch 58/100\n",
            "507/507 [==============================] - 0s 288us/sample - loss: 0.0026 - mse: 0.0026 - val_loss: 0.0020 - val_mse: 0.0020\n",
            "Epoch 59/100\n",
            "507/507 [==============================] - 0s 292us/sample - loss: 0.0026 - mse: 0.0026 - val_loss: 0.0025 - val_mse: 0.0025\n",
            "Epoch 60/100\n",
            "507/507 [==============================] - 0s 286us/sample - loss: 0.0025 - mse: 0.0025 - val_loss: 0.0021 - val_mse: 0.0021\n",
            "Epoch 61/100\n",
            "507/507 [==============================] - 0s 295us/sample - loss: 0.0025 - mse: 0.0025 - val_loss: 0.0019 - val_mse: 0.0019\n",
            "Epoch 62/100\n",
            "507/507 [==============================] - 0s 290us/sample - loss: 0.0025 - mse: 0.0025 - val_loss: 0.0022 - val_mse: 0.0022\n",
            "Epoch 63/100\n",
            "507/507 [==============================] - 0s 304us/sample - loss: 0.0024 - mse: 0.0024 - val_loss: 0.0022 - val_mse: 0.0022\n",
            "Epoch 64/100\n",
            "507/507 [==============================] - 0s 311us/sample - loss: 0.0024 - mse: 0.0024 - val_loss: 0.0019 - val_mse: 0.0019\n",
            "Epoch 65/100\n",
            "507/507 [==============================] - 0s 299us/sample - loss: 0.0024 - mse: 0.0024 - val_loss: 0.0021 - val_mse: 0.0021\n",
            "Epoch 66/100\n",
            "507/507 [==============================] - 0s 294us/sample - loss: 0.0025 - mse: 0.0025 - val_loss: 0.0022 - val_mse: 0.0022\n",
            "Epoch 67/100\n",
            "507/507 [==============================] - 0s 286us/sample - loss: 0.0026 - mse: 0.0026 - val_loss: 0.0023 - val_mse: 0.0023\n",
            "Epoch 68/100\n",
            "507/507 [==============================] - 0s 288us/sample - loss: 0.0026 - mse: 0.0026 - val_loss: 0.0036 - val_mse: 0.0036\n",
            "Epoch 69/100\n",
            "507/507 [==============================] - 0s 303us/sample - loss: 0.0023 - mse: 0.0023 - val_loss: 0.0019 - val_mse: 0.0019\n",
            "Epoch 70/100\n",
            "507/507 [==============================] - 0s 284us/sample - loss: 0.0023 - mse: 0.0023 - val_loss: 0.0026 - val_mse: 0.0026\n",
            "Epoch 71/100\n",
            "507/507 [==============================] - 0s 309us/sample - loss: 0.0023 - mse: 0.0023 - val_loss: 0.0020 - val_mse: 0.0020\n",
            "Epoch 72/100\n",
            "507/507 [==============================] - 0s 287us/sample - loss: 0.0023 - mse: 0.0023 - val_loss: 0.0039 - val_mse: 0.0039\n",
            "Epoch 73/100\n",
            "507/507 [==============================] - 0s 319us/sample - loss: 0.0023 - mse: 0.0023 - val_loss: 0.0019 - val_mse: 0.0019\n",
            "Epoch 74/100\n",
            "507/507 [==============================] - 0s 303us/sample - loss: 0.0024 - mse: 0.0024 - val_loss: 0.0025 - val_mse: 0.0025\n",
            "Epoch 75/100\n",
            "507/507 [==============================] - 0s 288us/sample - loss: 0.0023 - mse: 0.0023 - val_loss: 0.0027 - val_mse: 0.0027\n",
            "Epoch 76/100\n",
            "507/507 [==============================] - 0s 282us/sample - loss: 0.0024 - mse: 0.0024 - val_loss: 0.0019 - val_mse: 0.0019\n",
            "Epoch 77/100\n",
            "507/507 [==============================] - 0s 312us/sample - loss: 0.0023 - mse: 0.0023 - val_loss: 0.0021 - val_mse: 0.0021\n",
            "Epoch 78/100\n",
            "507/507 [==============================] - 0s 319us/sample - loss: 0.0024 - mse: 0.0024 - val_loss: 0.0041 - val_mse: 0.0041\n",
            "Epoch 79/100\n",
            "507/507 [==============================] - 0s 285us/sample - loss: 0.0022 - mse: 0.0022 - val_loss: 0.0028 - val_mse: 0.0028\n",
            "Epoch 80/100\n",
            "507/507 [==============================] - 0s 292us/sample - loss: 0.0021 - mse: 0.0021 - val_loss: 0.0018 - val_mse: 0.0018\n",
            "Epoch 81/100\n",
            "507/507 [==============================] - 0s 284us/sample - loss: 0.0022 - mse: 0.0022 - val_loss: 0.0024 - val_mse: 0.0024\n",
            "Epoch 82/100\n",
            "507/507 [==============================] - 0s 306us/sample - loss: 0.0022 - mse: 0.0022 - val_loss: 0.0029 - val_mse: 0.0029\n",
            "Epoch 83/100\n",
            "507/507 [==============================] - 0s 292us/sample - loss: 0.0021 - mse: 0.0021 - val_loss: 0.0023 - val_mse: 0.0023\n",
            "Epoch 84/100\n",
            "507/507 [==============================] - 0s 322us/sample - loss: 0.0021 - mse: 0.0021 - val_loss: 0.0016 - val_mse: 0.0016\n",
            "Epoch 85/100\n",
            "507/507 [==============================] - 0s 308us/sample - loss: 0.0021 - mse: 0.0021 - val_loss: 0.0020 - val_mse: 0.0020\n",
            "Epoch 86/100\n",
            "507/507 [==============================] - 0s 298us/sample - loss: 0.0022 - mse: 0.0022 - val_loss: 0.0042 - val_mse: 0.0042\n",
            "Epoch 87/100\n",
            "507/507 [==============================] - 0s 306us/sample - loss: 0.0021 - mse: 0.0021 - val_loss: 0.0016 - val_mse: 0.0016\n",
            "Epoch 88/100\n",
            "507/507 [==============================] - 0s 315us/sample - loss: 0.0020 - mse: 0.0020 - val_loss: 0.0029 - val_mse: 0.0029\n",
            "Epoch 89/100\n",
            "507/507 [==============================] - 0s 288us/sample - loss: 0.0020 - mse: 0.0020 - val_loss: 0.0016 - val_mse: 0.0016\n",
            "Epoch 90/100\n",
            "507/507 [==============================] - 0s 289us/sample - loss: 0.0020 - mse: 0.0020 - val_loss: 0.0021 - val_mse: 0.0021\n",
            "Epoch 91/100\n",
            "507/507 [==============================] - 0s 321us/sample - loss: 0.0020 - mse: 0.0020 - val_loss: 0.0026 - val_mse: 0.0026\n",
            "Epoch 92/100\n",
            "507/507 [==============================] - 0s 288us/sample - loss: 0.0021 - mse: 0.0021 - val_loss: 0.0028 - val_mse: 0.0028\n",
            "Epoch 93/100\n",
            "507/507 [==============================] - 0s 288us/sample - loss: 0.0020 - mse: 0.0020 - val_loss: 0.0036 - val_mse: 0.0036\n",
            "Epoch 94/100\n",
            "507/507 [==============================] - 0s 289us/sample - loss: 0.0021 - mse: 0.0021 - val_loss: 0.0016 - val_mse: 0.0016\n",
            "Epoch 95/100\n",
            "507/507 [==============================] - 0s 285us/sample - loss: 0.0019 - mse: 0.0019 - val_loss: 0.0014 - val_mse: 0.0014\n",
            "Epoch 96/100\n",
            "507/507 [==============================] - 0s 287us/sample - loss: 0.0019 - mse: 0.0019 - val_loss: 0.0016 - val_mse: 0.0016\n",
            "Epoch 97/100\n",
            "507/507 [==============================] - 0s 285us/sample - loss: 0.0019 - mse: 0.0019 - val_loss: 0.0026 - val_mse: 0.0026\n",
            "Epoch 98/100\n",
            "507/507 [==============================] - 0s 318us/sample - loss: 0.0019 - mse: 0.0019 - val_loss: 0.0025 - val_mse: 0.0025\n",
            "Epoch 99/100\n",
            "507/507 [==============================] - 0s 330us/sample - loss: 0.0019 - mse: 0.0019 - val_loss: 0.0017 - val_mse: 0.0017\n",
            "Epoch 100/100\n",
            "507/507 [==============================] - 0s 314us/sample - loss: 0.0019 - mse: 0.0019 - val_loss: 0.0014 - val_mse: 0.0014\n",
            "CPU times: user 23.7 s, sys: 1.41 s, total: 25.2 s\n",
            "Wall time: 19.8 s\n"
          ],
          "name": "stdout"
        }
      ]
    },
    {
      "cell_type": "markdown",
      "metadata": {
        "colab_type": "text",
        "id": "zMat0-hSzeq_"
      },
      "source": [
        "## **Analysis**"
      ]
    },
    {
      "cell_type": "markdown",
      "metadata": {
        "id": "bmh73SkvAsjd",
        "colab_type": "text"
      },
      "source": [
        "### Plot"
      ]
    },
    {
      "cell_type": "code",
      "metadata": {
        "id": "EGhsQm-i_sZx",
        "colab_type": "code",
        "outputId": "c0d02f01-3d8e-4af7-d4e7-4125447592f3",
        "colab": {
          "base_uri": "https://localhost:8080/",
          "height": 35
        }
      },
      "source": [
        "print(history_B.history.keys())   # check generated metrics"
      ],
      "execution_count": 0,
      "outputs": [
        {
          "output_type": "stream",
          "text": [
            "dict_keys(['loss', 'mse', 'val_loss', 'val_mse'])\n"
          ],
          "name": "stdout"
        }
      ]
    },
    {
      "cell_type": "code",
      "metadata": {
        "id": "-_idMKYwKVqX",
        "colab_type": "code",
        "outputId": "8562cf01-e6e2-4521-b958-4d18edea827d",
        "colab": {
          "base_uri": "https://localhost:8080/",
          "height": 281
        }
      },
      "source": [
        "losses_B = history_B.history['loss']\n",
        "val_loss_B = history_B.history['val_loss']\n",
        "losses_A = history_A.history['loss']\n",
        "val_loss_A = history_A.history['val_loss']\n",
        "plt.figure(figsize=(10, 4))\n",
        "plt.semilogy(losses_B, label='loss_B')\n",
        "plt.semilogy(val_loss_B, label='val_loss_B')\n",
        "plt.semilogy(losses_A, label='loss_A')\n",
        "plt.semilogy(val_loss_A, label='val_loss_A')\n",
        "plt.grid(True)\n",
        "plt.legend(loc='best')\n",
        "plt.title(\"LOSS\")\n",
        "plt.show()  "
      ],
      "execution_count": 0,
      "outputs": [
        {
          "output_type": "display_data",
          "data": {
            "image/png": "[encoded data removed]",
            "text/plain": [
              "<Figure size 720x288 with 1 Axes>"
            ]
          },
          "metadata": {
            "tags": []
          }
        }
      ]
    },
    {
      "cell_type": "markdown",
      "metadata": {
        "id": "v7Bf90ATg98K",
        "colab_type": "text"
      },
      "source": [
        "### Predict the stock price"
      ]
    },
    {
      "cell_type": "code",
      "metadata": {
        "id": "JWUDVoU8BoHF",
        "colab_type": "code",
        "colab": {}
      },
      "source": [
        "predicted_stock_price_B = model_B.predict(x_test)\n",
        "predicted_stock_price_A = model_A.predict(x_test)"
      ],
      "execution_count": 0,
      "outputs": []
    },
    {
      "cell_type": "markdown",
      "metadata": {
        "colab_type": "text",
        "id": "CPlJsogkBpe3"
      },
      "source": [
        "### Plot the result"
      ]
    },
    {
      "cell_type": "code",
      "metadata": {
        "id": "d9aczhVcBuIv",
        "colab_type": "code",
        "outputId": "eab61170-2234-4b98-8a47-3da84b01318f",
        "colab": {
          "base_uri": "https://localhost:8080/",
          "height": 388
        }
      },
      "source": [
        "plt.figure(figsize=(10, 6))\n",
        "plt.plot(y_test, color = 'red', label = 'Stock Price')\n",
        "plt.plot(predicted_stock_price_B, color = 'blue', label = 'Predicted Stock Price_B')\n",
        "plt.plot(predicted_stock_price_A, color = 'green', label = 'Predicted Stock Price_A')\n",
        "#plt.title('Stock Price Prediction')\n",
        "plt.xlabel('Time')\n",
        "plt.ylabel('Stock Price')\n",
        "plt.legend()\n",
        "plt.grid(True)\n",
        "plt.show()"
      ],
      "execution_count": 0,
      "outputs": [
        {
          "output_type": "display_data",
          "data": {
            "image/png": "[encoded data removed]",
            "text/plain": [
              "<Figure size 720x432 with 1 Axes>"
            ]
          },
          "metadata": {
            "tags": []
          }
        }
      ]
    },
    {
      "cell_type": "markdown",
      "metadata": {
        "id": "GnaUZbi_hIHw",
        "colab_type": "text"
      },
      "source": [
        "## **실습 과제**"
      ]
    },
    {
      "cell_type": "markdown",
      "metadata": {
        "id": "a1BOyOJioKRN",
        "colab_type": "text"
      },
      "source": [
        "### 과제 1. `timesteps = seq_length = 7`를 줄여보자 \n",
        "#### -- model_B에서 5,3,1로 줄이고 결과를 비교하자:"
      ]
    },
    {
      "cell_type": "markdown",
      "metadata": {
        "id": "07YM3eLIWxSY",
        "colab_type": "text"
      },
      "source": [
        "### 과제 2. model_A를 교재와 같이 확장시켜 model_A2를 만들어 보자\n",
        "#### -- dropout layer를 추가하고, \n",
        "#### -- LSTM layer도 추가하자\n",
        "#### -- 결과를 model_B,A,A2에 대해 비교하자:\n",
        "\n",
        "\n",
        "\n",
        "\n"
      ]
    }
  ]
}