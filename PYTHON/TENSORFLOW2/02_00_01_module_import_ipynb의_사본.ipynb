{
  "nbformat": 4,
  "nbformat_minor": 0,
  "metadata": {
    "colab": {
      "name": "02_00_01_module_import.ipynb의 사본",
      "provenance": [],
      "collapsed_sections": [],
      "include_colab_link": true
    },
    "kernelspec": {
      "name": "python3",
      "display_name": "Python 3"
    },
    "accelerator": "GPU"
  },
  "cells": [
    {
      "cell_type": "markdown",
      "metadata": {
        "id": "view-in-github",
        "colab_type": "text"
      },
      "source": [
        "<a href=\"https://colab.research.google.com/github/KwonYN/TIL/blob/master/PYTHON/TENSORFLOW2/02_00_01_module_import_ipynb%EC%9D%98_%EC%82%AC%EB%B3%B8.ipynb\" target=\"_parent\"><img src=\"https://colab.research.google.com/assets/colab-badge.svg\" alt=\"Open In Colab\"/></a>"
      ]
    },
    {
      "cell_type": "markdown",
      "metadata": {
        "colab_type": "text",
        "id": "ERQax80Nl2fY"
      },
      "source": [
        "# 실습 2-0-1. Private modeul importing"
      ]
    },
    {
      "cell_type": "markdown",
      "metadata": {
        "colab_type": "text",
        "id": "gvu8nWycl9Qp"
      },
      "source": [
        ">### AI 기초반의 `예제_19_MNIST_MLP_BN.ipynb` code를 기반으로 실습"
      ]
    },
    {
      "cell_type": "markdown",
      "metadata": {
        "colab_type": "text",
        "id": "zif4JPNOnD91"
      },
      "source": [
        "## Mount google drive"
      ]
    },
    {
      "cell_type": "code",
      "metadata": {
        "colab_type": "code",
        "id": "RBF2Y_UQY96x",
        "colab": {
          "base_uri": "https://localhost:8080/",
          "height": 128
        },
        "outputId": "04448628-8cf7-4ba0-c971-630b5a520ab6"
      },
      "source": [
        "from google.colab import drive\n",
        "drive.mount('/content/drive')"
      ],
      "execution_count": 1,
      "outputs": [
        {
          "output_type": "stream",
          "text": [
            "Go to this URL in a browser: https://accounts.google.com/o/oauth2/auth?client_id=947318989803-6bn6qk8qdgf4n4g3pfee6491hc0brc4i.apps.googleusercontent.com&redirect_uri=urn%3aietf%3awg%3aoauth%3a2.0%3aoob&response_type=code&scope=email%20https%3a%2f%2fwww.googleapis.com%2fauth%2fdocs.test%20https%3a%2f%2fwww.googleapis.com%2fauth%2fdrive%20https%3a%2f%2fwww.googleapis.com%2fauth%2fdrive.photos.readonly%20https%3a%2f%2fwww.googleapis.com%2fauth%2fpeopleapi.readonly\n",
            "\n",
            "Enter your authorization code:\n",
            "··········\n",
            "Mounted at /content/drive\n"
          ],
          "name": "stdout"
        }
      ]
    },
    {
      "cell_type": "markdown",
      "metadata": {
        "colab_type": "text",
        "id": "ijcEfzETkN6C"
      },
      "source": [
        "## Module importing"
      ]
    },
    {
      "cell_type": "markdown",
      "metadata": {
        "colab_type": "text",
        "id": "Ba-LxKfLmGVu"
      },
      "source": [
        ">### Load modules"
      ]
    },
    {
      "cell_type": "code",
      "metadata": {
        "colab_type": "code",
        "id": "gXxAYyqxlNxp",
        "colab": {
          "base_uri": "https://localhost:8080/",
          "height": 90
        },
        "outputId": "09d64587-3757-4512-a1e2-62eb48b42ded"
      },
      "source": [
        "%tensorflow_version 1.x\n",
        "\n",
        "import numpy as np\n",
        "import tensorflow as tf\n",
        "import matplotlib.pyplot as plt\n",
        "from tensorflow.keras.datasets import mnist\n",
        "\n",
        "print(\"Module Loaded.\")\n",
        "print(\"NumPy Version :{}\".format(np.__version__))\n",
        "print(\"TensorFlow Version :{}\".format(tf.__version__))\n",
        "print(\"Matplotlib Version :{}\".format(plt.matplotlib.__version__))"
      ],
      "execution_count": 2,
      "outputs": [
        {
          "output_type": "stream",
          "text": [
            "Module Loaded.\n",
            "NumPy Version :1.17.4\n",
            "TensorFlow Version :1.15.0\n",
            "Matplotlib Version :3.1.2\n"
          ],
          "name": "stdout"
        }
      ]
    },
    {
      "cell_type": "markdown",
      "metadata": {
        "colab_type": "text",
        "id": "l7cABKlvky13"
      },
      "source": [
        "> ### Private module import"
      ]
    },
    {
      "cell_type": "code",
      "metadata": {
        "colab_type": "code",
        "id": "k1zWtbmFaG9P",
        "colab": {}
      },
      "source": [
        "import sys\n",
        "sys.path.append('/content/drive/Shared drives/scsa_2019_c/07_kyn')\n",
        "\n",
        "import aidlutils as aidl"
      ],
      "execution_count": 0,
      "outputs": []
    },
    {
      "cell_type": "markdown",
      "metadata": {
        "colab_type": "text",
        "id": "9tdKm3VimauR"
      },
      "source": [
        "> ### Load MNIST Data"
      ]
    },
    {
      "cell_type": "code",
      "metadata": {
        "colab_type": "code",
        "id": "XMhaNhF0mIXK",
        "cellView": "both",
        "colab": {
          "base_uri": "https://localhost:8080/",
          "height": 54
        },
        "outputId": "a3cc548d-59dd-4b25-ba4b-dd04145d65a4"
      },
      "source": [
        "#@title\n",
        "(train_data, train_labels), (test_data, test_labels) = mnist.load_data()\n",
        "\n",
        "train_data = train_data.astype(np.float32)\n",
        "train_data = train_data / 255.0\n",
        "\n",
        "test_data = test_data.astype(np.float32)\n",
        "test_data = test_data / 255.0\n",
        "\n",
        "train_labels = train_labels.reshape((-1, 1))\n",
        "test_labels = test_labels.reshape((-1, 1))"
      ],
      "execution_count": 4,
      "outputs": [
        {
          "output_type": "stream",
          "text": [
            "Downloading data from https://storage.googleapis.com/tensorflow/tf-keras-datasets/mnist.npz\n",
            "11493376/11490434 [==============================] - 0s 0us/step\n"
          ],
          "name": "stdout"
        }
      ]
    },
    {
      "cell_type": "markdown",
      "metadata": {
        "colab_type": "text",
        "id": "mgFlDyu-mgHN"
      },
      "source": [
        "> ### Placeholder"
      ]
    },
    {
      "cell_type": "code",
      "metadata": {
        "colab_type": "code",
        "id": "Vse7W7x7mh8D",
        "cellView": "both",
        "colab": {}
      },
      "source": [
        "#@title\n",
        "x_ph = tf.placeholder(tf.float32, shape=(None, 28, 28), name = \"input\")\n",
        "labels_ph = tf.placeholder(tf.int32, shape=(None,1), name=\"labels\")"
      ],
      "execution_count": 0,
      "outputs": []
    },
    {
      "cell_type": "markdown",
      "metadata": {
        "colab_type": "text",
        "id": "M7v1V11kmrRz"
      },
      "source": [
        ">### Hypothesis, Cost, Optimizer\n"
      ]
    },
    {
      "cell_type": "code",
      "metadata": {
        "colab_type": "code",
        "id": "9gk1hqtjmhyb",
        "cellView": "both",
        "colab": {
          "base_uri": "https://localhost:8080/",
          "height": 255
        },
        "outputId": "4a306ff6-69d8-462c-ff45-fe420cfbdb57"
      },
      "source": [
        "#@title\n",
        "categories = 10\n",
        "learning_rate = 0.001\n",
        "\n",
        "x_flatten = tf.layers.flatten(x_ph)\n",
        "layer1 = tf.layers.dense(x_flatten, 256, activation=tf.nn.sigmoid, kernel_initializer=tf.glorot_uniform_initializer, bias_initializer=tf.glorot_uniform_initializer)\n",
        "layer1_bn = tf.layers.batch_normalization(layer1)\n",
        "layer2 = tf.layers.dense(layer1_bn, 256, activation=tf.nn.sigmoid, kernel_initializer=tf.glorot_uniform_initializer, bias_initializer=tf.glorot_uniform_initializer)\n",
        "layer2_bn = tf.layers.batch_normalization(layer2)\n",
        "layer3_logits = tf.layers.dense(layer2_bn, categories, kernel_initializer=tf.glorot_normal_initializer, bias_initializer=tf.glorot_normal_initializer)\n",
        "hypothesis = tf.nn.softmax(layer3_logits)\n",
        "\n",
        "labels_oh = tf.one_hot(labels_ph, categories)\n",
        "cost = tf.reduce_mean(tf.nn.softmax_cross_entropy_with_logits_v2(labels_oh, layer3_logits))\n",
        "optimizer = tf.train.GradientDescentOptimizer(learning_rate)\n",
        "train = optimizer.minimize(cost)"
      ],
      "execution_count": 6,
      "outputs": [
        {
          "output_type": "stream",
          "text": [
            "WARNING:tensorflow:From <ipython-input-6-a9f1e1e2c199>:4: flatten (from tensorflow.python.layers.core) is deprecated and will be removed in a future version.\n",
            "Instructions for updating:\n",
            "Use keras.layers.flatten instead.\n",
            "WARNING:tensorflow:From /usr/local/lib/python3.6/dist-packages/tensorflow_core/python/layers/core.py:332: Layer.apply (from tensorflow.python.keras.engine.base_layer) is deprecated and will be removed in a future version.\n",
            "Instructions for updating:\n",
            "Please use `layer.__call__` method instead.\n",
            "WARNING:tensorflow:From <ipython-input-6-a9f1e1e2c199>:5: dense (from tensorflow.python.layers.core) is deprecated and will be removed in a future version.\n",
            "Instructions for updating:\n",
            "Use keras.layers.Dense instead.\n",
            "WARNING:tensorflow:From <ipython-input-6-a9f1e1e2c199>:6: batch_normalization (from tensorflow.python.layers.normalization) is deprecated and will be removed in a future version.\n",
            "Instructions for updating:\n",
            "Use keras.layers.BatchNormalization instead.  In particular, `tf.control_dependencies(tf.GraphKeys.UPDATE_OPS)` should not be used (consult the `tf.keras.layers.batch_normalization` documentation).\n"
          ],
          "name": "stdout"
        }
      ]
    },
    {
      "cell_type": "markdown",
      "metadata": {
        "colab_type": "text",
        "id": "NXTYroJlnZzc"
      },
      "source": [
        ">### Mini-Batch 관련"
      ]
    },
    {
      "cell_type": "code",
      "metadata": {
        "colab_type": "code",
        "id": "dT7MkX6NDE9Q",
        "cellView": "both",
        "colab": {}
      },
      "source": [
        "#@title\n",
        "N_epoch = 100\n",
        "batch_size = 128\n",
        "train_data_size = train_data.shape\n",
        "batch_count = train_data_size[0] //batch_size"
      ],
      "execution_count": 0,
      "outputs": []
    },
    {
      "cell_type": "markdown",
      "metadata": {
        "colab_type": "text",
        "id": "Odw3CRkBDNmQ"
      },
      "source": [
        ">### `Accuracy`: replaced by aidl's module"
      ]
    },
    {
      "cell_type": "code",
      "metadata": {
        "colab_type": "code",
        "id": "w1mBO7zSnaVz",
        "colab": {}
      },
      "source": [
        "def _Accuracy(y:np.ndarray, t:np.ndarray)->np.float32:\n",
        "    return np.mean(np.equal(np.argmax(y, axis=1).reshape((-1, 1)),t).astype(np.float32))"
      ],
      "execution_count": 0,
      "outputs": []
    },
    {
      "cell_type": "markdown",
      "metadata": {
        "colab_type": "text",
        "id": "iYroAqw9N8ZP"
      },
      "source": [
        ">### `결과 출력을 위한 함수`: replaced by aidl's module"
      ]
    },
    {
      "cell_type": "code",
      "metadata": {
        "colab_type": "code",
        "id": "k-bIPKAdN8Mu",
        "colab": {}
      },
      "source": [
        "def _Make_Result_Plot(suptitle:str, data:np.ndarray, label:np.ndarray, y_max:np.ndarray):\n",
        "    fig_result, ax_result = plt.subplots(2,5,figsize=(18, 7))\n",
        "    fig_result.suptitle(suptitle)\n",
        "    for idx in range(10):\n",
        "        ax_result[idx//5][idx%5].imshow(data[idx].reshape((28,28)),cmap=\"binary\")\n",
        "        ax_result[idx//5][idx%5].set_title(\"test_data[{}] (label : {} / y : {})\".format(idx, label[idx], y_max[idx]))"
      ],
      "execution_count": 0,
      "outputs": []
    },
    {
      "cell_type": "markdown",
      "metadata": {
        "colab_type": "text",
        "id": "Csh_RwwRTQ1Q"
      },
      "source": [
        "> ### Training 준비: updated with aidl's modules"
      ]
    },
    {
      "cell_type": "code",
      "metadata": {
        "colab_type": "code",
        "id": "EmmynBowTQQS",
        "colab": {
          "base_uri": "https://localhost:8080/",
          "height": 499
        },
        "outputId": "4caa3ae5-33a0-46b5-b046-15e4ac3f8eba"
      },
      "source": [
        "arr_epoch = []\n",
        "arr_accu = []\n",
        "\n",
        "# 학습 (Training)\n",
        "sess = tf.Session()\n",
        "sess.run(tf.global_variables_initializer())\n",
        "\n",
        "train_data_idx = np.arange(train_data_size[0])\n",
        "\n",
        "y_out = sess.run(hypothesis, feed_dict={x_ph: test_data})\n",
        "y_max = np.argmax(y_out, axis=1).reshape((-1, 1))\n",
        "aidl.Make_Result_Plot(\"Before Training\", test_data, test_labels, y_max)\n",
        "\n",
        "accu = aidl.Accuracy(y_out,test_labels)\n",
        "arr_epoch.append(0)\n",
        "arr_accu.append(accu)"
      ],
      "execution_count": 17,
      "outputs": [
        {
          "output_type": "display_data",
          "data": {
            "image/png": "[encoded data removed]",
            "text/plain": [
              "<Figure size 1296x504 with 10 Axes>"
            ]
          },
          "metadata": {
            "tags": []
          }
        }
      ]
    },
    {
      "cell_type": "markdown",
      "metadata": {
        "colab_type": "text",
        "id": "7dhfsRZQnm-C"
      },
      "source": [
        "> ### 학습 (Training): updated aidl's modules"
      ]
    },
    {
      "cell_type": "code",
      "metadata": {
        "colab_type": "code",
        "id": "i-3I0oV_nnYc",
        "colab": {
          "base_uri": "https://localhost:8080/",
          "height": 1000
        },
        "outputId": "bee19810-31fa-4e92-8179-0d7a71947ece"
      },
      "source": [
        "%%time\n",
        "for epoch_idx in range(1, N_epoch+1):\n",
        "    np.random.shuffle(train_data_idx)\n",
        "    for batch_idx in range(batch_count):\n",
        "        batch_data = np.array([train_data[train_data_idx[idx]] for idx in range(batch_size)])\n",
        "        batch_labels = np.array([train_labels[train_data_idx[idx]] for idx in range(batch_size)])\n",
        "        sess.run(train, feed_dict={x_ph: batch_data, labels_ph: batch_labels})\n",
        "    if epoch_idx%1 == 0:\n",
        "        y_out = sess.run(hypothesis, feed_dict={x_ph: test_data})\n",
        "        accu = aidl.Accuracy(y_out,test_labels)\n",
        "        print(\"[{:>5}] accuracy = {:>10.4}\".format(epoch_idx,accu))\n",
        "        arr_epoch.append(epoch_idx)\n",
        "        arr_accu.append(accu)"
      ],
      "execution_count": 12,
      "outputs": [
        {
          "output_type": "stream",
          "text": [
            "[    1] accuracy =     0.1992\n",
            "[    2] accuracy =     0.2483\n",
            "[    3] accuracy =     0.3239\n",
            "[    4] accuracy =     0.2718\n",
            "[    5] accuracy =     0.3136\n",
            "[    6] accuracy =     0.3115\n",
            "[    7] accuracy =      0.212\n",
            "[    8] accuracy =     0.2021\n",
            "[    9] accuracy =     0.3582\n",
            "[   10] accuracy =     0.4943\n",
            "[   11] accuracy =     0.1986\n",
            "[   12] accuracy =     0.3667\n",
            "[   13] accuracy =     0.2401\n",
            "[   14] accuracy =     0.4404\n",
            "[   15] accuracy =      0.462\n",
            "[   16] accuracy =     0.4199\n",
            "[   17] accuracy =     0.5378\n",
            "[   18] accuracy =     0.4417\n",
            "[   19] accuracy =      0.367\n",
            "[   20] accuracy =      0.357\n",
            "[   21] accuracy =     0.4651\n",
            "[   22] accuracy =     0.4797\n",
            "[   23] accuracy =      0.458\n",
            "[   24] accuracy =     0.5248\n",
            "[   25] accuracy =     0.5073\n",
            "[   26] accuracy =      0.519\n",
            "[   27] accuracy =     0.3862\n",
            "[   28] accuracy =     0.4935\n",
            "[   29] accuracy =     0.6055\n",
            "[   30] accuracy =     0.5021\n",
            "[   31] accuracy =     0.5598\n",
            "[   32] accuracy =     0.5167\n",
            "[   33] accuracy =     0.6116\n",
            "[   34] accuracy =     0.5232\n",
            "[   35] accuracy =     0.6703\n",
            "[   36] accuracy =     0.5169\n",
            "[   37] accuracy =      0.521\n",
            "[   38] accuracy =     0.6125\n",
            "[   39] accuracy =     0.6297\n",
            "[   40] accuracy =     0.5862\n",
            "[   41] accuracy =     0.5603\n",
            "[   42] accuracy =     0.6216\n",
            "[   43] accuracy =     0.6866\n",
            "[   44] accuracy =     0.5972\n",
            "[   45] accuracy =     0.5634\n",
            "[   46] accuracy =     0.5822\n",
            "[   47] accuracy =     0.6854\n",
            "[   48] accuracy =     0.6289\n",
            "[   49] accuracy =     0.6464\n",
            "[   50] accuracy =     0.6427\n",
            "[   51] accuracy =     0.6376\n",
            "[   52] accuracy =     0.6185\n",
            "[   53] accuracy =      0.701\n",
            "[   54] accuracy =     0.6671\n",
            "[   55] accuracy =     0.7072\n",
            "[   56] accuracy =     0.6449\n",
            "[   57] accuracy =     0.7458\n",
            "[   58] accuracy =     0.7274\n",
            "[   59] accuracy =     0.7158\n",
            "[   60] accuracy =     0.7043\n",
            "[   61] accuracy =     0.7014\n",
            "[   62] accuracy =     0.7547\n",
            "[   63] accuracy =     0.7836\n",
            "[   64] accuracy =     0.7115\n",
            "[   65] accuracy =     0.7246\n",
            "[   66] accuracy =     0.7647\n",
            "[   67] accuracy =     0.7217\n",
            "[   68] accuracy =     0.7689\n",
            "[   69] accuracy =     0.6954\n",
            "[   70] accuracy =     0.6423\n",
            "[   71] accuracy =     0.7742\n",
            "[   72] accuracy =     0.7721\n",
            "[   73] accuracy =     0.7408\n",
            "[   74] accuracy =      0.775\n",
            "[   75] accuracy =     0.7403\n",
            "[   76] accuracy =     0.7476\n",
            "[   77] accuracy =     0.7861\n",
            "[   78] accuracy =     0.7967\n",
            "[   79] accuracy =     0.7978\n",
            "[   80] accuracy =     0.7845\n",
            "[   81] accuracy =     0.7696\n",
            "[   82] accuracy =      0.788\n",
            "[   83] accuracy =     0.7814\n",
            "[   84] accuracy =      0.772\n",
            "[   85] accuracy =     0.7897\n",
            "[   86] accuracy =     0.8032\n",
            "[   87] accuracy =     0.7976\n",
            "[   88] accuracy =       0.78\n",
            "[   89] accuracy =     0.7917\n",
            "[   90] accuracy =     0.8004\n",
            "[   91] accuracy =     0.7892\n",
            "[   92] accuracy =     0.8101\n",
            "[   93] accuracy =     0.8127\n",
            "[   94] accuracy =     0.8154\n",
            "[   95] accuracy =     0.8097\n",
            "[   96] accuracy =     0.8105\n",
            "[   97] accuracy =     0.8194\n",
            "[   98] accuracy =     0.7663\n",
            "[   99] accuracy =     0.7766\n",
            "[  100] accuracy =     0.8238\n",
            "CPU times: user 2min 22s, sys: 19 s, total: 2min 41s\n",
            "Wall time: 2min 23s\n"
          ],
          "name": "stdout"
        }
      ]
    },
    {
      "cell_type": "markdown",
      "metadata": {
        "colab_type": "text",
        "id": "QFnQH9uDgQjA"
      },
      "source": [
        "> ### Ploting : Cost/Training Count"
      ]
    },
    {
      "cell_type": "code",
      "metadata": {
        "colab_type": "code",
        "id": "iA_PjWijgQZp",
        "colab": {
          "base_uri": "https://localhost:8080/",
          "height": 299
        },
        "outputId": "349ee788-5017-457d-c55e-eeb54842eac0"
      },
      "source": [
        "# Plot : Accuracy / Epoch\n",
        "fig_accu, ax_accu = plt.subplots()\n",
        "ax_accu.plot(arr_epoch, arr_accu)\n",
        "ax_accu.set_title(\"Accuracy / Epoch (MLP, Gradient Descent Optimizer)\")\n",
        "ax_accu.grid(True)\n",
        "ax_accu.set_ylim(0,1.1)"
      ],
      "execution_count": 13,
      "outputs": [
        {
          "output_type": "execute_result",
          "data": {
            "text/plain": [
              "(0, 1.1)"
            ]
          },
          "metadata": {
            "tags": []
          },
          "execution_count": 13
        },
        {
          "output_type": "display_data",
          "data": {
            "image/png": "[encoded data removed]",
            "text/plain": [
              "<Figure size 432x288 with 1 Axes>"
            ]
          },
          "metadata": {
            "tags": []
          }
        }
      ]
    },
    {
      "cell_type": "markdown",
      "metadata": {
        "colab_type": "text",
        "id": "MGGEVBPcTyUa"
      },
      "source": [
        "> ### Training 이후: updated with aidl's modules"
      ]
    },
    {
      "cell_type": "code",
      "metadata": {
        "colab_type": "code",
        "id": "2x-EJKJhTzqe",
        "colab": {
          "base_uri": "https://localhost:8080/",
          "height": 499
        },
        "outputId": "0206b15e-9abf-4dc1-b759-b45e97fe24e9"
      },
      "source": [
        "y_out = sess.run(hypothesis, feed_dict={x_ph: test_data})\n",
        "y_max = np.argmax(y_out, axis=1).reshape((-1, 1))\n",
        "aidl.Make_Result_Plot(\"After Training\", test_data, test_labels, y_max)"
      ],
      "execution_count": 14,
      "outputs": [
        {
          "output_type": "display_data",
          "data": {
            "image/png": "[encoded data removed]",
            "text/plain": [
              "<Figure size 1296x504 with 10 Axes>"
            ]
          },
          "metadata": {
            "tags": []
          }
        }
      ]
    },
    {
      "cell_type": "markdown",
      "metadata": {
        "colab_type": "text",
        "id": "45lv-pdHSv7f"
      },
      "source": [
        "## **실습과제**"
      ]
    },
    {
      "cell_type": "markdown",
      "metadata": {
        "id": "BReIjHV9iMPj",
        "colab_type": "text"
      },
      "source": [
        "### 과제1. 자신의 module을 맏들어 import 해 보자\n",
        "#### -- \"aidlutils.py\"를 자신의 working directory로 옮기고 자신의 function을 만든뒤 import 하여 사용하여 보자.\n",
        "#### -- 어떤 경우에 필요한지 생각해 보자 "
      ]
    },
    {
      "cell_type": "code",
      "metadata": {
        "id": "-cx91PQdjNTU",
        "colab_type": "code",
        "colab": {}
      },
      "source": [
        "#import aidlutils as aidl\n",
        "# 위에 해놓았음!\n"
      ],
      "execution_count": 0,
      "outputs": []
    }
  ]
}