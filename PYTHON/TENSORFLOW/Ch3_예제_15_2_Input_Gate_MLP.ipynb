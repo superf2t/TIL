{
  "nbformat": 4,
  "nbformat_minor": 0,
  "metadata": {
    "colab": {
      "name": "Ch3_예제_15_2_Input_Gate_MLP.ipynb",
      "provenance": [],
      "collapsed_sections": [],
      "include_colab_link": true
    },
    "kernelspec": {
      "name": "python3",
      "display_name": "Python 3"
    }
  },
  "cells": [
    {
      "cell_type": "markdown",
      "metadata": {
        "id": "view-in-github",
        "colab_type": "text"
      },
      "source": [
        "<a href=\"https://colab.research.google.com/github/KwonYN/TIL/blob/master/PYTHON/TENSORFLOW/Ch3_%EC%98%88%EC%A0%9C_15_2_Input_Gate_MLP.ipynb\" target=\"_parent\"><img src=\"https://colab.research.google.com/assets/colab-badge.svg\" alt=\"Open In Colab\"/></a>"
      ]
    },
    {
      "cell_type": "markdown",
      "metadata": {
        "id": "ERQax80Nl2fY",
        "colab_type": "text"
      },
      "source": [
        "# Chapter3-5. Deep Learning 기초 : Multi Layer Perceptron (MLP)"
      ]
    },
    {
      "cell_type": "markdown",
      "metadata": {
        "id": "gvu8nWycl9Qp",
        "colab_type": "text"
      },
      "source": [
        ">## [예제3-15] 2 Input Logic Gate (Logistic Regression) - Multi Layer Perceptron"
      ]
    },
    {
      "cell_type": "markdown",
      "metadata": {
        "id": "Ba-LxKfLmGVu",
        "colab_type": "text"
      },
      "source": [
        ">### Load modules"
      ]
    },
    {
      "cell_type": "code",
      "metadata": {
        "id": "gXxAYyqxlNxp",
        "colab_type": "code",
        "colab": {
          "base_uri": "https://localhost:8080/",
          "height": 85
        },
        "outputId": "6adf18a0-b940-4721-813f-0ebbfb58e02d"
      },
      "source": [
        "%tensorflow_version 1.x\n",
        "\n",
        "import numpy as np\n",
        "import tensorflow as tf\n",
        "import matplotlib.pyplot as plt\n",
        "\n",
        "print(\"Module Loaded.\")\n",
        "print(\"NumPy Version :{}\".format(np.__version__))\n",
        "print(\"TensorFlow Version :{}\".format(tf.__version__))\n",
        "print(\"Matplotlib Version :{}\".format(plt.matplotlib.__version__))"
      ],
      "execution_count": 1,
      "outputs": [
        {
          "output_type": "stream",
          "text": [
            "Module Loaded.\n",
            "NumPy Version :1.17.4\n",
            "TensorFlow Version :1.15.0\n",
            "Matplotlib Version :3.1.1\n"
          ],
          "name": "stdout"
        }
      ]
    },
    {
      "cell_type": "markdown",
      "metadata": {
        "id": "9tdKm3VimauR",
        "colab_type": "text"
      },
      "source": [
        "> ### Input and Label"
      ]
    },
    {
      "cell_type": "code",
      "metadata": {
        "id": "XMhaNhF0mIXK",
        "colab_type": "code",
        "colab": {
          "base_uri": "https://localhost:8080/",
          "height": 153
        },
        "outputId": "bb350643-1fc1-44cf-e8b2-07f3fddf623d"
      },
      "source": [
        "# Logistic regression : Logic Gate Truth Table\n",
        "x_input = np.array([[0, 0], [0, 1], [1, 0], [1, 1]])\n",
        "print(x_input, x_input.shape)\n",
        "\n",
        "# labels = np.array([[0], [0], [0], [1]])  # Gate : AND\n",
        "# labels = np.array([[0], [1], [1], [1]])  # Gate : OR\n",
        "# labels = np.array([[1], [1], [1], [0]])  # Gate : NAND\n",
        "# labels = np.array([[1], [0], [0], [0]])  # Gate : NOR\n",
        "labels = np.array([[0], [1], [1], [0]])  # Gate : XOR\n",
        "print(labels, labels.shape)"
      ],
      "execution_count": 2,
      "outputs": [
        {
          "output_type": "stream",
          "text": [
            "[[0 0]\n",
            " [0 1]\n",
            " [1 0]\n",
            " [1 1]] (4, 2)\n",
            "[[0]\n",
            " [1]\n",
            " [1]\n",
            " [0]] (4, 1)\n"
          ],
          "name": "stdout"
        }
      ]
    },
    {
      "cell_type": "markdown",
      "metadata": {
        "id": "mgFlDyu-mgHN",
        "colab_type": "text"
      },
      "source": [
        "> ### Placeholder"
      ]
    },
    {
      "cell_type": "code",
      "metadata": {
        "id": "Vse7W7x7mh8D",
        "colab_type": "code",
        "colab": {}
      },
      "source": [
        "# placeholder\n",
        "x_ph = tf.placeholder(tf.float32, (None, 2), name=\"input\")          # 한 번의 input으로 두 개의 데이터가 들어올 것! / 그런데 몇 번 데이터를 투입시킬지 모르닠\n",
        "labels_ph = tf.placeholder(tf.float32, (None, 1), name=\"labels\")    # 결과값은 scalaar"
      ],
      "execution_count": 0,
      "outputs": []
    },
    {
      "cell_type": "markdown",
      "metadata": {
        "id": "M7v1V11kmrRz",
        "colab_type": "text"
      },
      "source": [
        ">## Hypothesis"
      ]
    },
    {
      "cell_type": "code",
      "metadata": {
        "id": "9gk1hqtjmhyb",
        "colab_type": "code",
        "colab": {}
      },
      "source": [
        "# Weight, Bias\n",
        "# in Hidden layer\n",
        "w0 = tf.Variable(tf.random_normal((2, 2), dtype=tf.float32), dtype=None, name=\"weight0\")  # shape = (투입 변수의 개수, perceptron 개수)\n",
        "b0 = tf.Variable(tf.random_normal((2,), dtype=tf.float32), dtype=None, name=\"bias0\")      # perceptron 개수\n",
        "\n",
        "# in Output layer : 각 layer별로 어떤 구조/그림인지 알기!\n",
        "w1 = tf.Variable(tf.random_normal((2, 1), dtype=tf.float32), dtype=None, name=\"weight1\")  # shape = (투입 변수의 개수, perceptron 개수)\n",
        "b1 = tf.Variable(tf.random_normal((), dtype=tf.float32), dtype=None, name=\"bias1\")        # perceptron 개수\n",
        "\n",
        "# Learning Rate\n",
        "learning_rate = 0.1\n",
        "\n",
        "# Hyoithesis, Cost, Optimizer\n",
        "hidden = tf.sigmoid(tf.matmul(x_ph, w0, name=\"mul_layer0\") + b0)  # w0와 b0, 그리고 x_ph의 shape에 유의!\n",
        "\n",
        "hypothesis = tf.sigmoid(tf.matmul(hidden, w1, name=\"mul_layer1\") + b1)  # 결국 p.188에서 했던 활동의 순서? 구조?대로!\n",
        "\n",
        "cost = tf.reduce_mean( -labels_ph * tf.log(hypothesis) - (1 - labels_ph) * tf.log(1 - hypothesis) ) # Cross Entropy Error\n",
        "\n",
        "optimizer = tf.train.GradientDescentOptimizer(learning_rate)\n",
        "train = optimizer.minimize(cost)\n"
      ],
      "execution_count": 0,
      "outputs": []
    },
    {
      "cell_type": "markdown",
      "metadata": {
        "id": "NXTYroJlnZzc",
        "colab_type": "text"
      },
      "source": [
        ">### 학습 준비 과정"
      ]
    },
    {
      "cell_type": "code",
      "metadata": {
        "id": "w1mBO7zSnaVz",
        "colab_type": "code",
        "colab": {}
      },
      "source": [
        "N_training = 100000\n",
        "training_idx = np.arange(0, N_training+1, 1)\n",
        "cost_graph = np.zeros(N_training+1)"
      ],
      "execution_count": 0,
      "outputs": []
    },
    {
      "cell_type": "markdown",
      "metadata": {
        "id": "7dhfsRZQnm-C",
        "colab_type": "text"
      },
      "source": [
        "### 학습 (Training)"
      ]
    },
    {
      "cell_type": "code",
      "metadata": {
        "id": "i-3I0oV_nnYc",
        "colab_type": "code",
        "colab": {
          "base_uri": "https://localhost:8080/",
          "height": 1000
        },
        "outputId": "2fbc7a70-5619-4c3e-d02d-2badb3d03622"
      },
      "source": [
        "# 학습 (Training)\n",
        "sess = tf.Session()\n",
        "sess.run(tf.global_variables_initializer())\n",
        "\n",
        "check = np.array([0, 1000, 8000, 20000, 40000, N_training])\n",
        "w0_trained = []\n",
        "b0_trained = []\n",
        "check_idx = 0\n",
        "\n",
        "for cnt_training in range(1, N_training+1):\n",
        "  _, cost_res, w0_res, b0_res = sess.run((train, cost, w0, b0), feed_dict={x_ph: x_input, labels_ph: labels})\n",
        "  cost_graph[cnt_training-1] = cost_res\n",
        "  if check[check_idx] == cnt_training-1:\n",
        "    w0_trained.append(w0_res)\n",
        "    b0_trained.append(b0_res)\n",
        "    check_idx += 1\n",
        "  if cnt_training % 1000 == 1:\n",
        "    print(\"[{:>5}] cost = {:>10.4}\".format(cnt_training-1, cost_graph[cnt_training-1]))\n",
        "\n",
        "cost_res, w0_res, b0_res = sess.run((cost, w0, b0), feed_dict={x_ph: x_input, labels_ph: labels})\n",
        "cost_graph[N_training] = cost_res\n",
        "print(\"[{:>5}] cost = {:>10.4}\".format(N_training, cost_graph[N_training]))\n",
        "w0_trained.append(w0_res)\n",
        "b0_trained.append(b0_res)"
      ],
      "execution_count": 6,
      "outputs": [
        {
          "output_type": "stream",
          "text": [
            "[    0] cost =     0.7225\n",
            "[ 1000] cost =     0.5906\n",
            "[ 2000] cost =     0.5311\n",
            "[ 3000] cost =     0.5078\n",
            "[ 4000] cost =     0.4957\n",
            "[ 5000] cost =     0.4842\n",
            "[ 6000] cost =     0.4399\n",
            "[ 7000] cost =     0.2435\n",
            "[ 8000] cost =     0.1202\n",
            "[ 9000] cost =    0.07533\n",
            "[10000] cost =     0.0541\n",
            "[11000] cost =    0.04198\n",
            "[12000] cost =    0.03419\n",
            "[13000] cost =     0.0288\n",
            "[14000] cost =    0.02485\n",
            "[15000] cost =    0.02184\n",
            "[16000] cost =    0.01947\n",
            "[17000] cost =    0.01756\n",
            "[18000] cost =    0.01598\n",
            "[19000] cost =    0.01466\n",
            "[20000] cost =    0.01354\n",
            "[21000] cost =    0.01258\n",
            "[22000] cost =    0.01174\n",
            "[23000] cost =    0.01101\n",
            "[24000] cost =    0.01036\n",
            "[25000] cost =   0.009785\n",
            "[26000] cost =   0.009269\n",
            "[27000] cost =   0.008804\n",
            "[28000] cost =   0.008383\n",
            "[29000] cost =   0.008001\n",
            "[30000] cost =   0.007651\n",
            "[31000] cost =    0.00733\n",
            "[32000] cost =   0.007035\n",
            "[33000] cost =   0.006763\n",
            "[34000] cost =   0.006511\n",
            "[35000] cost =   0.006277\n",
            "[36000] cost =   0.006059\n",
            "[37000] cost =   0.005855\n",
            "[38000] cost =   0.005665\n",
            "[39000] cost =   0.005487\n",
            "[40000] cost =   0.005319\n",
            "[41000] cost =   0.005162\n",
            "[42000] cost =   0.005013\n",
            "[43000] cost =   0.004872\n",
            "[44000] cost =    0.00474\n",
            "[45000] cost =   0.004614\n",
            "[46000] cost =   0.004495\n",
            "[47000] cost =   0.004381\n",
            "[48000] cost =   0.004274\n",
            "[49000] cost =   0.004171\n",
            "[50000] cost =   0.004073\n",
            "[51000] cost =    0.00398\n",
            "[52000] cost =   0.003891\n",
            "[53000] cost =   0.003805\n",
            "[54000] cost =   0.003724\n",
            "[55000] cost =   0.003645\n",
            "[56000] cost =    0.00357\n",
            "[57000] cost =   0.003499\n",
            "[58000] cost =   0.003429\n",
            "[59000] cost =   0.003363\n",
            "[60000] cost =   0.003299\n",
            "[61000] cost =   0.003237\n",
            "[62000] cost =   0.003178\n",
            "[63000] cost =   0.003121\n",
            "[64000] cost =   0.003065\n",
            "[65000] cost =   0.003012\n",
            "[66000] cost =    0.00296\n",
            "[67000] cost =   0.002911\n",
            "[68000] cost =   0.002863\n",
            "[69000] cost =   0.002816\n",
            "[70000] cost =   0.002771\n",
            "[71000] cost =   0.002727\n",
            "[72000] cost =   0.002685\n",
            "[73000] cost =   0.002644\n",
            "[74000] cost =   0.002604\n",
            "[75000] cost =   0.002566\n",
            "[76000] cost =   0.002528\n",
            "[77000] cost =   0.002492\n",
            "[78000] cost =   0.002457\n",
            "[79000] cost =   0.002422\n",
            "[80000] cost =   0.002389\n",
            "[81000] cost =   0.002356\n",
            "[82000] cost =   0.002325\n",
            "[83000] cost =   0.002294\n",
            "[84000] cost =   0.002264\n",
            "[85000] cost =   0.002235\n",
            "[86000] cost =   0.002206\n",
            "[87000] cost =   0.002178\n",
            "[88000] cost =   0.002151\n",
            "[89000] cost =   0.002124\n",
            "[90000] cost =   0.002099\n",
            "[91000] cost =   0.002074\n",
            "[92000] cost =   0.002049\n",
            "[93000] cost =   0.002025\n",
            "[94000] cost =   0.002002\n",
            "[95000] cost =   0.001979\n",
            "[96000] cost =   0.001957\n",
            "[97000] cost =   0.001935\n",
            "[98000] cost =   0.001913\n",
            "[99000] cost =   0.001892\n",
            "[100000] cost =   0.001872\n"
          ],
          "name": "stdout"
        }
      ]
    },
    {
      "cell_type": "markdown",
      "metadata": {
        "id": "jC4cFXOmnrGO",
        "colab_type": "text"
      },
      "source": [
        ">### Training Test"
      ]
    },
    {
      "cell_type": "code",
      "metadata": {
        "id": "gw6dWbzJnrXy",
        "colab_type": "code",
        "colab": {
          "base_uri": "https://localhost:8080/",
          "height": 377
        },
        "outputId": "71b44b12-7194-4f96-995f-d25a349dae69"
      },
      "source": [
        "print(w0_trained)\n",
        "print(b0_trained)\n",
        "\n",
        "print()\n",
        "# Training 상황에 대한 그래프 출력\n",
        "print(\"[Training Test]\")\n",
        "y = sess.run(hypothesis, feed_dict={x_ph:x_input})\n",
        "print(y)\n",
        "\n",
        "y = y.reshape((-1,))\n",
        "print(y)\n",
        "\n",
        "Y = [int(y_elem>0.5) for y_elem in y]\n",
        "\n",
        "print(x_input.shape, x_input.shape[0])\n",
        "for idx in range(x_input.shape[0]):\n",
        "    print(\"Input {} , Target : {} => Y :{:>2}(y:{:>5.2})\".format(x_input[idx], labels[idx], Y[idx], y[idx]))"
      ],
      "execution_count": 7,
      "outputs": [
        {
          "output_type": "stream",
          "text": [
            "[array([[ 1.0541964, -0.790852 ],\n",
            "       [ 1.9628274, -0.8521609]], dtype=float32), array([[ 3.0508287, -0.7906428],\n",
            "       [ 3.232483 , -0.8525997]], dtype=float32), array([[ 6.9650984, -3.2368183],\n",
            "       [ 6.991652 , -3.2384288]], dtype=float32), array([[ 7.933558 , -5.54556  ],\n",
            "       [ 7.9434643, -5.546534 ]], dtype=float32), array([[ 8.359377 , -6.2418523],\n",
            "       [ 8.365627 , -6.242526 ]], dtype=float32), array([[ 8.812738 , -6.9007177],\n",
            "       [ 8.816676 , -6.901159 ]], dtype=float32)]\n",
            "[array([-1.0442656, -2.1475954], dtype=float32), array([-0.5615361, -2.150346 ], dtype=float32), array([-2.785516 ,  4.7299595], dtype=float32), array([-3.6155083,  8.301661 ], dtype=float32), array([-3.8531458,  9.350652 ], dtype=float32), array([-4.0934873, 10.340487 ], dtype=float32)]\n",
            "\n",
            "[Training Test]\n",
            "[[0.00213733]\n",
            " [0.9984419 ]\n",
            " [0.9984414 ]\n",
            " [0.00222725]]\n",
            "[0.00213733 0.9984419  0.9984414  0.00222725]\n",
            "(4, 2) 4\n",
            "Input [0 0] , Target : [0] => Y : 0(y:0.0021)\n",
            "Input [0 1] , Target : [1] => Y : 1(y:  1.0)\n",
            "Input [1 0] , Target : [1] => Y : 1(y:  1.0)\n",
            "Input [1 1] , Target : [0] => Y : 0(y:0.0022)\n"
          ],
          "name": "stdout"
        }
      ]
    },
    {
      "cell_type": "markdown",
      "metadata": {
        "id": "xMe5AdBpe6OJ",
        "colab_type": "text"
      },
      "source": [
        "> ### 트레이닝 된 확인"
      ]
    },
    {
      "cell_type": "code",
      "metadata": {
        "id": "GeE3GOcpe6IB",
        "colab_type": "code",
        "colab": {
          "base_uri": "https://localhost:8080/",
          "height": 187
        },
        "outputId": "c8f3dafc-ebec-46af-e1fa-a465bd8aea05"
      },
      "source": [
        "w0_res, b0_res, w1_res, b1_res = sess.run((w0,b0,w1,b1))\n",
        "\n",
        "print(\"w0 = \")\n",
        "print(w0_res)\n",
        "print(\"b0 = \")\n",
        "print(b0_res)\n",
        "print(\"w1 = \")\n",
        "print(w1_res)\n",
        "print(\"b1 = \")\n",
        "print(b1_res)"
      ],
      "execution_count": 8,
      "outputs": [
        {
          "output_type": "stream",
          "text": [
            "w0 = \n",
            "[[ 8.812738  -6.9007177]\n",
            " [ 8.816676  -6.901159 ]]\n",
            "b0 = \n",
            "[-4.0934873 10.340487 ]\n",
            "w1 = \n",
            "[[13.365539]\n",
            " [13.516692]]\n",
            "b1 = \n",
            "-19.881605\n"
          ],
          "name": "stdout"
        }
      ]
    },
    {
      "cell_type": "markdown",
      "metadata": {
        "id": "QFnQH9uDgQjA",
        "colab_type": "text"
      },
      "source": [
        "> ### Ploting : Cost/Training Count"
      ]
    },
    {
      "cell_type": "code",
      "metadata": {
        "id": "iA_PjWijgQZp",
        "colab_type": "code",
        "colab": {
          "base_uri": "https://localhost:8080/",
          "height": 295
        },
        "outputId": "0479970c-8230-49f0-a1c6-8635a3f48c4b"
      },
      "source": [
        "fig_cost, ax_cost = plt.subplots()\n",
        "ax_cost.plot(training_idx, cost_graph)\n",
        "ax_cost.set_title(\"'Cost / Training Count' Graph\")\n",
        "ax_cost.set_xlabel(\"Train Count\")\n",
        "ax_cost.set_ylabel(\"Cost\")\n",
        "ax_cost.grid(True)"
      ],
      "execution_count": 9,
      "outputs": [
        {
          "output_type": "display_data",
          "data": {
            "image/png": "[encoded data removed]",
            "text/plain": [
              "<Figure size 432x288 with 1 Axes>"
            ]
          },
          "metadata": {
            "tags": []
          }
        }
      ]
    },
    {
      "cell_type": "markdown",
      "metadata": {
        "id": "47KsP06JYxpN",
        "colab_type": "text"
      },
      "source": [
        "> ### Decesion boundary"
      ]
    },
    {
      "cell_type": "code",
      "metadata": {
        "id": "4b2uibumYyQt",
        "colab_type": "code",
        "colab": {
          "base_uri": "https://localhost:8080/",
          "height": 739
        },
        "outputId": "a4efce29-ca4f-4fd9-dc5c-07455f95f1e2"
      },
      "source": [
        "x_hypo = np.linspace(-0.2, 1.2, 1000)\n",
        "x_col_0 = [x_input[idx][0] for idx in range(len(labels)) if labels[idx][0] == 0]\n",
        "x_row_0 = [x_input[idx][1] for idx in range(len(labels)) if labels[idx][0] == 0]\n",
        "x_col_1 = [x_input[idx][0] for idx in range(len(labels)) if labels[idx][0] == 1]\n",
        "x_row_1 = [x_input[idx][1] for idx in range(len(labels)) if labels[idx][0] == 1]\n",
        "\n",
        "fig_hypothesis, ax_hypothesis = plt.subplots(2, 3, figsize=(15, 11))\n",
        "fig_hypothesis.suptitle(\"'Hypothesis / Training Count' Graph\")\n",
        "for ax_idx in range(check.size):\n",
        "    w = w0_trained[ax_idx]\n",
        "    b = b0_trained[ax_idx]\n",
        "    y_hypo1 = -(w[0][0] * x_hypo + b[0])/w[1][0] \n",
        "    y_hypo2 = -(w[0][1] * x_hypo + b[1])/w[1][1] \n",
        "    ax_hypothesis[ax_idx // 3][ax_idx % 3].scatter(x_col_0, x_row_0, color='blue', marker=\"x\")\n",
        "    ax_hypothesis[ax_idx // 3][ax_idx % 3].scatter(x_col_1, x_row_1, color='red', marker=\"o\")\n",
        "    ax_hypothesis[ax_idx // 3][ax_idx % 3].plot(x_hypo, y_hypo1, label='hypothesis1')\n",
        "    ax_hypothesis[ax_idx // 3][ax_idx % 3].plot(x_hypo, y_hypo2, label='hypothesis2')\n",
        "    ax_hypothesis[ax_idx // 3][ax_idx % 3].set_title(\"Train Count : {}\".format(check[ax_idx]))\n",
        "    ax_hypothesis[ax_idx // 3][ax_idx % 3].set_xlim((-0.2, 1.2))\n",
        "    ax_hypothesis[ax_idx // 3][ax_idx % 3].set_ylim((-0.2, 1.2))\n",
        "    ax_hypothesis[ax_idx // 3][ax_idx % 3].set_xlabel(\"x0\")\n",
        "    ax_hypothesis[ax_idx // 3][ax_idx % 3].set_ylabel(\"x1\")\n",
        "    ax_hypothesis[ax_idx // 3][ax_idx % 3].grid(True)\n",
        "\n",
        "plt.show()"
      ],
      "execution_count": 10,
      "outputs": [
        {
          "output_type": "display_data",
          "data": {
            "image/png": "[encoded data removed]",
            "text/plain": [
              "<Figure size 1080x792 with 6 Axes>"
            ]
          },
          "metadata": {
            "tags": []
          }
        }
      ]
    },
    {
      "cell_type": "code",
      "metadata": {
        "id": "LbQWQZYtd_6C",
        "colab_type": "code",
        "colab": {}
      },
      "source": [
        ""
      ],
      "execution_count": 0,
      "outputs": []
    }
  ]
}