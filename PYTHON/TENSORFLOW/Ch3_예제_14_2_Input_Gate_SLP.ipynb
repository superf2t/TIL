{
  "nbformat": 4,
  "nbformat_minor": 0,
  "metadata": {
    "colab": {
      "name": "Ch3_예제_14_2_Input_Gate_SLP.ipynb",
      "provenance": [],
      "collapsed_sections": [],
      "include_colab_link": true
    },
    "kernelspec": {
      "name": "python3",
      "display_name": "Python 3"
    }
  },
  "cells": [
    {
      "cell_type": "markdown",
      "metadata": {
        "id": "view-in-github",
        "colab_type": "text"
      },
      "source": [
        "<a href=\"https://colab.research.google.com/github/KwonYN/TIL/blob/master/PYTHON/TENSORFLOW/Ch3_%EC%98%88%EC%A0%9C_14_2_Input_Gate_SLP.ipynb\" target=\"_parent\"><img src=\"https://colab.research.google.com/assets/colab-badge.svg\" alt=\"Open In Colab\"/></a>"
      ]
    },
    {
      "cell_type": "markdown",
      "metadata": {
        "id": "ERQax80Nl2fY",
        "colab_type": "text"
      },
      "source": [
        "# Chapter3-5. Deep Learning 기초 : Multi Layer Perceptron (MLP)"
      ]
    },
    {
      "cell_type": "markdown",
      "metadata": {
        "id": "gvu8nWycl9Qp",
        "colab_type": "text"
      },
      "source": [
        ">## [예제3-14] 2 Input Logic Gate (Logistic Regression)"
      ]
    },
    {
      "cell_type": "markdown",
      "metadata": {
        "id": "Ba-LxKfLmGVu",
        "colab_type": "text"
      },
      "source": [
        ">### Load modules"
      ]
    },
    {
      "cell_type": "code",
      "metadata": {
        "id": "gXxAYyqxlNxp",
        "colab_type": "code",
        "outputId": "d27290ef-7acb-4a29-bb3a-36a9c589967c",
        "colab": {
          "base_uri": "https://localhost:8080/",
          "height": 85
        }
      },
      "source": [
        "%tensorflow_version 1.x\n",
        "\n",
        "import numpy as np\n",
        "import tensorflow as tf\n",
        "import matplotlib.pyplot as plt\n",
        "\n",
        "print(\"Module Loaded.\")\n",
        "print(\"NumPy Version :{}\".format(np.__version__))\n",
        "print(\"TensorFlow Version :{}\".format(tf.__version__))\n",
        "print(\"Matplotlib Version :{}\".format(plt.matplotlib.__version__))"
      ],
      "execution_count": 1,
      "outputs": [
        {
          "output_type": "stream",
          "text": [
            "Module Loaded.\n",
            "NumPy Version :1.17.4\n",
            "TensorFlow Version :1.15.0\n",
            "Matplotlib Version :3.1.1\n"
          ],
          "name": "stdout"
        }
      ]
    },
    {
      "cell_type": "markdown",
      "metadata": {
        "id": "9tdKm3VimauR",
        "colab_type": "text"
      },
      "source": [
        "> ### Input and Label"
      ]
    },
    {
      "cell_type": "code",
      "metadata": {
        "id": "XMhaNhF0mIXK",
        "colab_type": "code",
        "colab": {}
      },
      "source": [
        "# Logistic regression : Logic Gate Truth Table\n",
        "x_input = np.array([[0, 0], [0, 1], [1, 0], [1, 1]])\n",
        "# labels = np.array([[0], [0], [0], [1]])  # Gate : AND\n",
        "# labels = np.array([[0], [1], [1], [1]])  # Gate : OR\n",
        "# labels = np.array([[1], [1], [1], [0]])  # Gate : NAND\n",
        "# labels = np.array([[1], [0], [0], [0]])  # Gate : NOR\n",
        "labels = np.array([[0], [1], [1], [0]])  # Gate : XOR"
      ],
      "execution_count": 0,
      "outputs": []
    },
    {
      "cell_type": "markdown",
      "metadata": {
        "id": "mgFlDyu-mgHN",
        "colab_type": "text"
      },
      "source": [
        "> ### Placeholder"
      ]
    },
    {
      "cell_type": "code",
      "metadata": {
        "id": "Vse7W7x7mh8D",
        "colab_type": "code",
        "colab": {}
      },
      "source": [
        "# placeholder\n",
        "x_ph = tf.placeholder(tf.float32, (None, 2), name=\"input\")\n",
        "labels_ph = tf.placeholder(tf.float32, (None, 1), name=\"labels\")"
      ],
      "execution_count": 0,
      "outputs": []
    },
    {
      "cell_type": "markdown",
      "metadata": {
        "id": "M7v1V11kmrRz",
        "colab_type": "text"
      },
      "source": [
        ">## Hypothesis"
      ]
    },
    {
      "cell_type": "code",
      "metadata": {
        "id": "9gk1hqtjmhyb",
        "colab_type": "code",
        "colab": {}
      },
      "source": [
        "# Weight, Bias\n",
        "w = tf.Variable(tf.random.normal((2, 1)), dtype=tf.float32, name=\"weight\")\n",
        "b = tf.Variable(tf.random.normal((1, 1)), dtype=tf.float32, name=\"bias\")\n",
        "\n",
        "learning_rate = 0.01\n",
        "\n",
        "# Hyoithesis, Cost, Optimizer\n",
        "hypothesis = tf.sigmoid(tf.matmul(x_ph ,w) + b)\n",
        "cost = -tf.reduce_mean(labels_ph * tf.log(hypothesis) + (1 - labels_ph) * tf.log(1 - hypothesis))\n",
        "optimizer = tf.train.GradientDescentOptimizer(learning_rate)\n",
        "train = optimizer.minimize(cost)\n"
      ],
      "execution_count": 0,
      "outputs": []
    },
    {
      "cell_type": "markdown",
      "metadata": {
        "id": "NXTYroJlnZzc",
        "colab_type": "text"
      },
      "source": [
        ">### 학습 준비 과정"
      ]
    },
    {
      "cell_type": "code",
      "metadata": {
        "id": "w1mBO7zSnaVz",
        "colab_type": "code",
        "colab": {}
      },
      "source": [
        "N_training = 100000\n",
        "training_idx = np.arange(0, N_training+1, 1)\n",
        "cost_graph = np.zeros(N_training+1)"
      ],
      "execution_count": 0,
      "outputs": []
    },
    {
      "cell_type": "markdown",
      "metadata": {
        "id": "7dhfsRZQnm-C",
        "colab_type": "text"
      },
      "source": [
        "### 학습 (Training)"
      ]
    },
    {
      "cell_type": "code",
      "metadata": {
        "id": "i-3I0oV_nnYc",
        "colab_type": "code",
        "outputId": "ca273a73-5b6f-4afd-8e17-f8d48befa7f9",
        "colab": {
          "base_uri": "https://localhost:8080/",
          "height": 1000
        }
      },
      "source": [
        "# 학습 (Training)\n",
        "sess = tf.Session()\n",
        "sess.run(tf.global_variables_initializer())\n",
        "\n",
        "check = np.array([0, 1000, 8000, 20000, 40000, N_training])\n",
        "w_trained = []\n",
        "b_trained = []\n",
        "check_idx = 0\n",
        "\n",
        "for cnt_training in range(1, N_training+1):\n",
        "    _, cost_res, w_res, b_res = sess.run((train, cost, w, b), feed_dict={x_ph: x_input, labels_ph: labels})\n",
        "    cost_graph[cnt_training-1] = cost_res\n",
        "    if check[check_idx] == cnt_training-1:\n",
        "        w_trained.append(w_res)\n",
        "        b_trained.append(b_res)\n",
        "        check_idx += 1\n",
        "    if cnt_training % 1000 == 1:\n",
        "        print(\"[{:>5}] cost = {:>10.4}, w = [[{:>7.4}] [{:>7.4}]], b = [[{:>7.4}]]\".format(cnt_training-1, cost_graph[cnt_training-1], w_res[0][0], w_res[1][0], b_res[0][0]))\n",
        "\n",
        "cost_res, w_res, b_res = sess.run((cost, w, b), feed_dict={x_ph: x_input, labels_ph: labels})\n",
        "cost_graph[N_training] = cost_res\n",
        "print(\"[{:>5}] cost = {:>10.4}, w = [[{:>7.4}] [{:>7.4}]], b = [[{:>7.4}]]\".format(N_training, cost_graph[N_training], w_res[0][0], w_res[1][0], b_res[0][0]))\n",
        "w_trained.append(w_res)\n",
        "b_trained.append(b_res)"
      ],
      "execution_count": 0,
      "outputs": [
        {
          "output_type": "stream",
          "text": [
            "[    0] cost =     0.9901, w = [[0.08789] [-0.9247]], b = [[ -1.149]]\n",
            "[ 1000] cost =     0.6991, w = [[ 0.3762] [-0.1948]], b = [[-0.1444]]\n",
            "[ 2000] cost =     0.6949, w = [[ 0.2228] [-0.08347]], b = [[-0.08341]]\n",
            "[ 3000] cost =     0.6937, w = [[ 0.1293] [-0.03478]], b = [[-0.05606]]\n",
            "[ 4000] cost =     0.6933, w = [[0.07582] [-0.01198]], b = [[-0.03786]]\n",
            "[ 5000] cost =     0.6932, w = [[0.04505] [-0.001937]], b = [[-0.02557]]\n",
            "[ 6000] cost =     0.6932, w = [[0.02714] [0.001988]], b = [[-0.01727]]\n",
            "[ 7000] cost =     0.6932, w = [[0.01656] [0.003106]], b = [[-0.01167]]\n",
            "[ 8000] cost =     0.6932, w = [[0.01024] [0.003042]], b = [[-0.00788]]\n",
            "[ 9000] cost =     0.6931, w = [[0.006414] [0.00256]], b = [[-0.005322]]\n",
            "[10000] cost =     0.6931, w = [[0.004062] [0.001999]], b = [[-0.003595]]\n",
            "[11000] cost =     0.6931, w = [[0.002599] [0.001495]], b = [[-0.002428]]\n",
            "[12000] cost =     0.6931, w = [[0.001678] [0.001087]], b = [[-0.00164]]\n",
            "[13000] cost =     0.6931, w = [[0.001092] [0.0007759]], b = [[-0.001108]]\n",
            "[14000] cost =     0.6931, w = [[0.0007153] [0.0005462]], b = [[-0.0007482]]\n",
            "[15000] cost =     0.6931, w = [[0.0004714] [0.0003808]], b = [[-0.0005053]]\n",
            "[16000] cost =     0.6931, w = [[0.000312] [0.0002636]], b = [[-0.0003414]]\n",
            "[17000] cost =     0.6931, w = [[0.0002073] [0.0001814]], b = [[-0.0002305]]\n",
            "[18000] cost =     0.6931, w = [[0.0001382] [0.0001243]], b = [[-0.0001557]]\n",
            "[19000] cost =     0.6931, w = [[9.237e-05] [8.495e-05]], b = [[-0.0001052]]\n",
            "[20000] cost =     0.6931, w = [[6.186e-05] [5.789e-05]], b = [[-7.103e-05]]\n",
            "[21000] cost =     0.6931, w = [[4.15e-05] [3.937e-05]], b = [[-4.798e-05]]\n",
            "[22000] cost =     0.6931, w = [[2.788e-05] [2.674e-05]], b = [[-3.24e-05]]\n",
            "[23000] cost =     0.6931, w = [[1.875e-05] [1.814e-05]], b = [[-2.188e-05]]\n",
            "[24000] cost =     0.6931, w = [[1.262e-05] [1.228e-05]], b = [[-1.478e-05]]\n",
            "[25000] cost =     0.6931, w = [[8.483e-06] [8.324e-06]], b = [[-9.988e-06]]\n",
            "[26000] cost =     0.6931, w = [[5.703e-06] [5.631e-06]], b = [[-6.757e-06]]\n",
            "[27000] cost =     0.6931, w = [[3.856e-06] [3.81e-06]], b = [[-4.544e-06]]\n",
            "[28000] cost =     0.6931, w = [[2.58e-06] [2.562e-06]], b = [[-3.107e-06]]\n",
            "[29000] cost =     0.6931, w = [[1.757e-06] [1.755e-06]], b = [[-2.053e-06]]\n",
            "[30000] cost =     0.6931, w = [[1.18e-06] [1.18e-06]], b = [[-1.409e-06]]\n",
            "[31000] cost =     0.6931, w = [[7.888e-07] [7.888e-07]], b = [[-9.679e-07]]\n",
            "[32000] cost =     0.6931, w = [[5.043e-07] [5.044e-07]], b = [[-6.813e-07]]\n",
            "[33000] cost =     0.6931, w = [[3.553e-07] [3.554e-07]], b = [[-5.194e-07]]\n",
            "[34000] cost =     0.6931, w = [[2.221e-07] [2.222e-07]], b = [[-3.546e-07]]\n",
            "[35000] cost =     0.6931, w = [[1.582e-07] [1.582e-07]], b = [[-2.27e-07]]\n",
            "[36000] cost =     0.6931, w = [[1.34e-07] [1.341e-07]], b = [[-1.787e-07]]\n",
            "[37000] cost =     0.6931, w = [[1.34e-07] [1.341e-07]], b = [[-1.787e-07]]\n",
            "[38000] cost =     0.6931, w = [[1.34e-07] [1.341e-07]], b = [[-1.787e-07]]\n",
            "[39000] cost =     0.6931, w = [[1.34e-07] [1.341e-07]], b = [[-1.787e-07]]\n",
            "[40000] cost =     0.6931, w = [[1.34e-07] [1.341e-07]], b = [[-1.787e-07]]\n",
            "[41000] cost =     0.6931, w = [[1.34e-07] [1.341e-07]], b = [[-1.787e-07]]\n",
            "[42000] cost =     0.6931, w = [[1.34e-07] [1.341e-07]], b = [[-1.787e-07]]\n",
            "[43000] cost =     0.6931, w = [[1.34e-07] [1.341e-07]], b = [[-1.787e-07]]\n",
            "[44000] cost =     0.6931, w = [[1.34e-07] [1.341e-07]], b = [[-1.787e-07]]\n",
            "[45000] cost =     0.6931, w = [[1.34e-07] [1.341e-07]], b = [[-1.787e-07]]\n",
            "[46000] cost =     0.6931, w = [[1.34e-07] [1.341e-07]], b = [[-1.787e-07]]\n",
            "[47000] cost =     0.6931, w = [[1.34e-07] [1.341e-07]], b = [[-1.787e-07]]\n",
            "[48000] cost =     0.6931, w = [[1.34e-07] [1.341e-07]], b = [[-1.787e-07]]\n",
            "[49000] cost =     0.6931, w = [[1.34e-07] [1.341e-07]], b = [[-1.787e-07]]\n",
            "[50000] cost =     0.6931, w = [[1.34e-07] [1.341e-07]], b = [[-1.787e-07]]\n",
            "[51000] cost =     0.6931, w = [[1.34e-07] [1.341e-07]], b = [[-1.787e-07]]\n",
            "[52000] cost =     0.6931, w = [[1.34e-07] [1.341e-07]], b = [[-1.787e-07]]\n",
            "[53000] cost =     0.6931, w = [[1.34e-07] [1.341e-07]], b = [[-1.787e-07]]\n",
            "[54000] cost =     0.6931, w = [[1.34e-07] [1.341e-07]], b = [[-1.787e-07]]\n",
            "[55000] cost =     0.6931, w = [[1.34e-07] [1.341e-07]], b = [[-1.787e-07]]\n",
            "[56000] cost =     0.6931, w = [[1.34e-07] [1.341e-07]], b = [[-1.787e-07]]\n",
            "[57000] cost =     0.6931, w = [[1.34e-07] [1.341e-07]], b = [[-1.787e-07]]\n",
            "[58000] cost =     0.6931, w = [[1.34e-07] [1.341e-07]], b = [[-1.787e-07]]\n",
            "[59000] cost =     0.6931, w = [[1.34e-07] [1.341e-07]], b = [[-1.787e-07]]\n",
            "[60000] cost =     0.6931, w = [[1.34e-07] [1.341e-07]], b = [[-1.787e-07]]\n",
            "[61000] cost =     0.6931, w = [[1.34e-07] [1.341e-07]], b = [[-1.787e-07]]\n",
            "[62000] cost =     0.6931, w = [[1.34e-07] [1.341e-07]], b = [[-1.787e-07]]\n",
            "[63000] cost =     0.6931, w = [[1.34e-07] [1.341e-07]], b = [[-1.787e-07]]\n",
            "[64000] cost =     0.6931, w = [[1.34e-07] [1.341e-07]], b = [[-1.787e-07]]\n",
            "[65000] cost =     0.6931, w = [[1.34e-07] [1.341e-07]], b = [[-1.787e-07]]\n",
            "[66000] cost =     0.6931, w = [[1.34e-07] [1.341e-07]], b = [[-1.787e-07]]\n",
            "[67000] cost =     0.6931, w = [[1.34e-07] [1.341e-07]], b = [[-1.787e-07]]\n",
            "[68000] cost =     0.6931, w = [[1.34e-07] [1.341e-07]], b = [[-1.787e-07]]\n",
            "[69000] cost =     0.6931, w = [[1.34e-07] [1.341e-07]], b = [[-1.787e-07]]\n",
            "[70000] cost =     0.6931, w = [[1.34e-07] [1.341e-07]], b = [[-1.787e-07]]\n",
            "[71000] cost =     0.6931, w = [[1.34e-07] [1.341e-07]], b = [[-1.787e-07]]\n",
            "[72000] cost =     0.6931, w = [[1.34e-07] [1.341e-07]], b = [[-1.787e-07]]\n",
            "[73000] cost =     0.6931, w = [[1.34e-07] [1.341e-07]], b = [[-1.787e-07]]\n",
            "[74000] cost =     0.6931, w = [[1.34e-07] [1.341e-07]], b = [[-1.787e-07]]\n",
            "[75000] cost =     0.6931, w = [[1.34e-07] [1.341e-07]], b = [[-1.787e-07]]\n",
            "[76000] cost =     0.6931, w = [[1.34e-07] [1.341e-07]], b = [[-1.787e-07]]\n",
            "[77000] cost =     0.6931, w = [[1.34e-07] [1.341e-07]], b = [[-1.787e-07]]\n",
            "[78000] cost =     0.6931, w = [[1.34e-07] [1.341e-07]], b = [[-1.787e-07]]\n",
            "[79000] cost =     0.6931, w = [[1.34e-07] [1.341e-07]], b = [[-1.787e-07]]\n",
            "[80000] cost =     0.6931, w = [[1.34e-07] [1.341e-07]], b = [[-1.787e-07]]\n",
            "[81000] cost =     0.6931, w = [[1.34e-07] [1.341e-07]], b = [[-1.787e-07]]\n",
            "[82000] cost =     0.6931, w = [[1.34e-07] [1.341e-07]], b = [[-1.787e-07]]\n",
            "[83000] cost =     0.6931, w = [[1.34e-07] [1.341e-07]], b = [[-1.787e-07]]\n",
            "[84000] cost =     0.6931, w = [[1.34e-07] [1.341e-07]], b = [[-1.787e-07]]\n",
            "[85000] cost =     0.6931, w = [[1.34e-07] [1.341e-07]], b = [[-1.787e-07]]\n",
            "[86000] cost =     0.6931, w = [[1.34e-07] [1.341e-07]], b = [[-1.787e-07]]\n",
            "[87000] cost =     0.6931, w = [[1.34e-07] [1.341e-07]], b = [[-1.787e-07]]\n",
            "[88000] cost =     0.6931, w = [[1.34e-07] [1.341e-07]], b = [[-1.787e-07]]\n",
            "[89000] cost =     0.6931, w = [[1.34e-07] [1.341e-07]], b = [[-1.787e-07]]\n",
            "[90000] cost =     0.6931, w = [[1.34e-07] [1.341e-07]], b = [[-1.787e-07]]\n",
            "[91000] cost =     0.6931, w = [[1.34e-07] [1.341e-07]], b = [[-1.787e-07]]\n",
            "[92000] cost =     0.6931, w = [[1.34e-07] [1.341e-07]], b = [[-1.787e-07]]\n",
            "[93000] cost =     0.6931, w = [[1.34e-07] [1.341e-07]], b = [[-1.787e-07]]\n",
            "[94000] cost =     0.6931, w = [[1.34e-07] [1.341e-07]], b = [[-1.787e-07]]\n",
            "[95000] cost =     0.6931, w = [[1.34e-07] [1.341e-07]], b = [[-1.787e-07]]\n",
            "[96000] cost =     0.6931, w = [[1.34e-07] [1.341e-07]], b = [[-1.787e-07]]\n",
            "[97000] cost =     0.6931, w = [[1.34e-07] [1.341e-07]], b = [[-1.787e-07]]\n",
            "[98000] cost =     0.6931, w = [[1.34e-07] [1.341e-07]], b = [[-1.787e-07]]\n",
            "[99000] cost =     0.6931, w = [[1.34e-07] [1.341e-07]], b = [[-1.787e-07]]\n",
            "[100000] cost =     0.6931, w = [[1.34e-07] [1.341e-07]], b = [[-1.787e-07]]\n"
          ],
          "name": "stdout"
        }
      ]
    },
    {
      "cell_type": "markdown",
      "metadata": {
        "id": "jC4cFXOmnrGO",
        "colab_type": "text"
      },
      "source": [
        ">### Training Test"
      ]
    },
    {
      "cell_type": "code",
      "metadata": {
        "id": "gw6dWbzJnrXy",
        "colab_type": "code",
        "outputId": "e013e3cb-3081-45d1-c9e1-3ef003188875",
        "colab": {
          "base_uri": "https://localhost:8080/",
          "height": 102
        }
      },
      "source": [
        "# Training 상황에 대한 그래프 출력\n",
        "print(\"[Training Test]\")\n",
        "y = sess.run(hypothesis, feed_dict={x_ph:x_input})\n",
        "y = y.reshape((-1,))\n",
        "Y = [int(y_elem>0.5) for y_elem in y]\n",
        "for idx in range(x_input.shape[0]):\n",
        "    print(\"Input {} , Target : {} => Y :{:>2}(y:{:>5.2})\".format(x_input[idx], labels[idx], Y[idx], y[idx]))"
      ],
      "execution_count": 0,
      "outputs": [
        {
          "output_type": "stream",
          "text": [
            "[Training Test]\n",
            "Input [0 0] , Target : [0] => Y : 0(y:  0.5)\n",
            "Input [0 1] , Target : [1] => Y : 0(y:  0.5)\n",
            "Input [1 0] , Target : [1] => Y : 0(y:  0.5)\n",
            "Input [1 1] , Target : [0] => Y : 0(y:  0.5)\n"
          ],
          "name": "stdout"
        }
      ]
    },
    {
      "cell_type": "markdown",
      "metadata": {
        "id": "QFnQH9uDgQjA",
        "colab_type": "text"
      },
      "source": [
        "> ### Ploting : Cost/Training Count"
      ]
    },
    {
      "cell_type": "code",
      "metadata": {
        "id": "iA_PjWijgQZp",
        "colab_type": "code",
        "outputId": "03bfd4c7-7e8c-42e4-8146-92fdae84398f",
        "colab": {
          "base_uri": "https://localhost:8080/",
          "height": 295
        }
      },
      "source": [
        "fig_cost, ax_cost = plt.subplots()\n",
        "ax_cost.plot(training_idx, cost_graph)\n",
        "ax_cost.set_title(\"'Cost / Training Count' Graph\")\n",
        "ax_cost.set_xlabel(\"Train Count\")\n",
        "ax_cost.set_ylabel(\"Cost\")\n",
        "ax_cost.grid(True)"
      ],
      "execution_count": 0,
      "outputs": [
        {
          "output_type": "display_data",
          "data": {
            "image/png": "[encoded data removed]",
            "text/plain": [
              "<Figure size 432x288 with 1 Axes>"
            ]
          },
          "metadata": {
            "tags": []
          }
        }
      ]
    },
    {
      "cell_type": "markdown",
      "metadata": {
        "id": "579cDSaSsbzk",
        "colab_type": "text"
      },
      "source": [
        "> ### Decesion boundary"
      ]
    },
    {
      "cell_type": "code",
      "metadata": {
        "id": "uiXBcuwcgU24",
        "colab_type": "code",
        "outputId": "d947d7b1-952a-489f-e699-2273da9ccbc8",
        "colab": {
          "base_uri": "https://localhost:8080/",
          "height": 739
        }
      },
      "source": [
        "x_hypo = np.linspace(-0.2, 1.2, 1000)\n",
        "x_col_0 = [x_input[idx][0] for idx in range(len(labels)) if labels[idx][0] == 0]\n",
        "x_row_0 = [x_input[idx][1] for idx in range(len(labels)) if labels[idx][0] == 0]\n",
        "x_col_1 = [x_input[idx][0] for idx in range(len(labels)) if labels[idx][0] == 1]\n",
        "x_row_1 = [x_input[idx][1] for idx in range(len(labels)) if labels[idx][0] == 1]\n",
        "\n",
        "fig_hypothesis, ax_hypothesis = plt.subplots(2, 3, figsize=(15, 11))\n",
        "fig_hypothesis.suptitle(\"'Hypothesis / Training Count' Graph\")\n",
        "for ax_idx in range(check.size):\n",
        "    w = w_trained[ax_idx]\n",
        "    b = b_trained[ax_idx]\n",
        "    y_hypo = -(w[0][0] * x_hypo + b[0][0])/w[1][0] \n",
        "    ax_hypothesis[ax_idx // 3][ax_idx % 3].scatter(x_col_0, x_row_0, color='blue', marker=\"x\")\n",
        "    ax_hypothesis[ax_idx // 3][ax_idx % 3].scatter(x_col_1, x_row_1, color='red', marker=\"o\")\n",
        "    ax_hypothesis[ax_idx // 3][ax_idx % 3].plot(x_hypo, y_hypo, label='hypothesis')\n",
        "    ax_hypothesis[ax_idx // 3][ax_idx % 3].set_title(\"Train Count : {}\".format(check[ax_idx]))\n",
        "    ax_hypothesis[ax_idx // 3][ax_idx % 3].set_xlim((-0.2, 1.2))\n",
        "    ax_hypothesis[ax_idx // 3][ax_idx % 3].set_ylim((-0.2, 1.2))\n",
        "    ax_hypothesis[ax_idx // 3][ax_idx % 3].set_xlabel(\"x0\")\n",
        "    ax_hypothesis[ax_idx // 3][ax_idx % 3].set_ylabel(\"x1\")\n",
        "    ax_hypothesis[ax_idx // 3][ax_idx % 3].grid(True)\n",
        "\n",
        "plt.show()"
      ],
      "execution_count": 0,
      "outputs": [
        {
          "output_type": "display_data",
          "data": {
            "image/png": "[encoded data removed]",
            "text/plain": [
              "<Figure size 1080x792 with 6 Axes>"
            ]
          },
          "metadata": {
            "tags": []
          }
        }
      ]
    }
  ]
}