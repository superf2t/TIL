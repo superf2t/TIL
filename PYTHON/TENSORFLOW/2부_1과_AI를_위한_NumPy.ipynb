{
  "nbformat": 4,
  "nbformat_minor": 0,
  "metadata": {
    "colab": {
      "name": "2부_1과_AI를_위한_NumPy.ipynb",
      "provenance": [],
      "collapsed_sections": [],
      "include_colab_link": true
    },
    "kernelspec": {
      "name": "python3",
      "display_name": "Python 3"
    },
    "accelerator": "GPU"
  },
  "cells": [
    {
      "cell_type": "markdown",
      "metadata": {
        "id": "view-in-github",
        "colab_type": "text"
      },
      "source": [
        "<a href=\"https://colab.research.google.com/github/KwonYN/TIL/blob/master/PYTHON/TENSORFLOW/2%EB%B6%80_1%EA%B3%BC_AI%EB%A5%BC_%EC%9C%84%ED%95%9C_NumPy.ipynb\" target=\"_parent\"><img src=\"https://colab.research.google.com/assets/colab-badge.svg\" alt=\"Open In Colab\"/></a>"
      ]
    },
    {
      "cell_type": "markdown",
      "metadata": {
        "id": "ERQax80Nl2fY",
        "colab_type": "text"
      },
      "source": [
        "# Chapter2-1. TensorFlow 기초 - AI를 위한 NumPy"
      ]
    },
    {
      "cell_type": "markdown",
      "metadata": {
        "id": "Ba-LxKfLmGVu",
        "colab_type": "text"
      },
      "source": [
        "## [1] Import NumPy"
      ]
    },
    {
      "cell_type": "markdown",
      "metadata": {
        "id": "KpDie0bRwzEe",
        "colab_type": "text"
      },
      "source": [
        "> ### Import NumPy"
      ]
    },
    {
      "cell_type": "code",
      "metadata": {
        "id": "gXxAYyqxlNxp",
        "colab_type": "code",
        "outputId": "197983d2-8071-4606-c629-223ca1c0326a",
        "colab": {
          "base_uri": "https://localhost:8080/",
          "height": 34
        }
      },
      "source": [
        "import numpy as np\n",
        "\n",
        "print(\"NumPy Version : {}\".format(np.__version__))"
      ],
      "execution_count": 0,
      "outputs": [
        {
          "output_type": "stream",
          "text": [
            "NumPy Version : 1.17.4\n"
          ],
          "name": "stdout"
        }
      ]
    },
    {
      "cell_type": "markdown",
      "metadata": {
        "id": "5QBtziJ2MB1e",
        "colab_type": "text"
      },
      "source": [
        "# List와 Array? 그리고 Dictionary\n",
        "\n",
        "  ● List : \n",
        "\n",
        "    - 메모리에 선형적으로 저장이 되어 있기 때문에 Random Access ( ex. Arr[2] )로 접근 가능!\n",
        "\n",
        "    - 하지만 삽입과 삭제가 많은 경우, 비효율적!\n",
        "\n",
        "    - Squence List, Array List\n",
        "\n",
        "       <-> Linked List : **삽입/삭제 시 효율적**이지만, **Random Access가 불편**함. 이를 위한 새로운 자료구조를 또 만들어야 하는 상황!\n",
        "\n",
        "\n",
        "    - 앞으로 배울 List는 이 LinkedList에서 가지고 왔다고 생각하면 됨!\n",
        "\n",
        "\n",
        "  ● Dictionary:\n",
        "\n",
        "    - a = { 'b':5, ... }\n",
        "      a['b']로 5값 찾을 수 있음. 여기에서 키값인 'b'는 Hashable.. 즉, **Hashtable**로 자료를 관리하는 것!!"
      ]
    },
    {
      "cell_type": "markdown",
      "metadata": {
        "id": "Nd1RFm8tc0Mr",
        "colab_type": "text"
      },
      "source": [
        "## [2] Python vs NumPy"
      ]
    },
    {
      "cell_type": "markdown",
      "metadata": {
        "id": "KvAO88Cpbw1-",
        "colab_type": "text"
      },
      "source": [
        "> ### Python"
      ]
    },
    {
      "cell_type": "code",
      "metadata": {
        "id": "39ZYE2K9bxCB",
        "colab_type": "code",
        "colab": {}
      },
      "source": [
        "L = range(1000) # enumerate type이라고 함!"
      ],
      "execution_count": 0,
      "outputs": []
    },
    {
      "cell_type": "code",
      "metadata": {
        "id": "IVmTm5xYcYPP",
        "colab_type": "code",
        "colab": {
          "base_uri": "https://localhost:8080/",
          "height": 34
        },
        "outputId": "38668b76-ad35-486e-bbaa-5cf1f783ae89"
      },
      "source": [
        "%timeit [i**2 for i in L] # ipynb파일에서 magic command의 일종! 연산의 시간을 재주는 모듈을 매직커맨드로!"
      ],
      "execution_count": 5,
      "outputs": [
        {
          "output_type": "stream",
          "text": [
            "1000 loops, best of 3: 247 µs per loop\n"
          ],
          "name": "stdout"
        }
      ]
    },
    {
      "cell_type": "markdown",
      "metadata": {
        "id": "s7p1Wu6PcFQf",
        "colab_type": "text"
      },
      "source": [
        ">### NumPy"
      ]
    },
    {
      "cell_type": "code",
      "metadata": {
        "id": "Y3M5RKz7cFdz",
        "colab_type": "code",
        "colab": {
          "base_uri": "https://localhost:8080/",
          "height": 986
        },
        "outputId": "32f67a27-c0f7-4830-9a19-26d4900b2c61"
      },
      "source": [
        "a = np.arange(1000) # 0 ~ 999가 저장. list로 보이겠지만, numpy.ndarray타입!!\n",
        "print(type(a), a, sep='\\n')"
      ],
      "execution_count": 10,
      "outputs": [
        {
          "output_type": "stream",
          "text": [
            "<class 'numpy.ndarray'>\n",
            "[  0   1   2   3   4   5   6   7   8   9  10  11  12  13  14  15  16  17\n",
            "  18  19  20  21  22  23  24  25  26  27  28  29  30  31  32  33  34  35\n",
            "  36  37  38  39  40  41  42  43  44  45  46  47  48  49  50  51  52  53\n",
            "  54  55  56  57  58  59  60  61  62  63  64  65  66  67  68  69  70  71\n",
            "  72  73  74  75  76  77  78  79  80  81  82  83  84  85  86  87  88  89\n",
            "  90  91  92  93  94  95  96  97  98  99 100 101 102 103 104 105 106 107\n",
            " 108 109 110 111 112 113 114 115 116 117 118 119 120 121 122 123 124 125\n",
            " 126 127 128 129 130 131 132 133 134 135 136 137 138 139 140 141 142 143\n",
            " 144 145 146 147 148 149 150 151 152 153 154 155 156 157 158 159 160 161\n",
            " 162 163 164 165 166 167 168 169 170 171 172 173 174 175 176 177 178 179\n",
            " 180 181 182 183 184 185 186 187 188 189 190 191 192 193 194 195 196 197\n",
            " 198 199 200 201 202 203 204 205 206 207 208 209 210 211 212 213 214 215\n",
            " 216 217 218 219 220 221 222 223 224 225 226 227 228 229 230 231 232 233\n",
            " 234 235 236 237 238 239 240 241 242 243 244 245 246 247 248 249 250 251\n",
            " 252 253 254 255 256 257 258 259 260 261 262 263 264 265 266 267 268 269\n",
            " 270 271 272 273 274 275 276 277 278 279 280 281 282 283 284 285 286 287\n",
            " 288 289 290 291 292 293 294 295 296 297 298 299 300 301 302 303 304 305\n",
            " 306 307 308 309 310 311 312 313 314 315 316 317 318 319 320 321 322 323\n",
            " 324 325 326 327 328 329 330 331 332 333 334 335 336 337 338 339 340 341\n",
            " 342 343 344 345 346 347 348 349 350 351 352 353 354 355 356 357 358 359\n",
            " 360 361 362 363 364 365 366 367 368 369 370 371 372 373 374 375 376 377\n",
            " 378 379 380 381 382 383 384 385 386 387 388 389 390 391 392 393 394 395\n",
            " 396 397 398 399 400 401 402 403 404 405 406 407 408 409 410 411 412 413\n",
            " 414 415 416 417 418 419 420 421 422 423 424 425 426 427 428 429 430 431\n",
            " 432 433 434 435 436 437 438 439 440 441 442 443 444 445 446 447 448 449\n",
            " 450 451 452 453 454 455 456 457 458 459 460 461 462 463 464 465 466 467\n",
            " 468 469 470 471 472 473 474 475 476 477 478 479 480 481 482 483 484 485\n",
            " 486 487 488 489 490 491 492 493 494 495 496 497 498 499 500 501 502 503\n",
            " 504 505 506 507 508 509 510 511 512 513 514 515 516 517 518 519 520 521\n",
            " 522 523 524 525 526 527 528 529 530 531 532 533 534 535 536 537 538 539\n",
            " 540 541 542 543 544 545 546 547 548 549 550 551 552 553 554 555 556 557\n",
            " 558 559 560 561 562 563 564 565 566 567 568 569 570 571 572 573 574 575\n",
            " 576 577 578 579 580 581 582 583 584 585 586 587 588 589 590 591 592 593\n",
            " 594 595 596 597 598 599 600 601 602 603 604 605 606 607 608 609 610 611\n",
            " 612 613 614 615 616 617 618 619 620 621 622 623 624 625 626 627 628 629\n",
            " 630 631 632 633 634 635 636 637 638 639 640 641 642 643 644 645 646 647\n",
            " 648 649 650 651 652 653 654 655 656 657 658 659 660 661 662 663 664 665\n",
            " 666 667 668 669 670 671 672 673 674 675 676 677 678 679 680 681 682 683\n",
            " 684 685 686 687 688 689 690 691 692 693 694 695 696 697 698 699 700 701\n",
            " 702 703 704 705 706 707 708 709 710 711 712 713 714 715 716 717 718 719\n",
            " 720 721 722 723 724 725 726 727 728 729 730 731 732 733 734 735 736 737\n",
            " 738 739 740 741 742 743 744 745 746 747 748 749 750 751 752 753 754 755\n",
            " 756 757 758 759 760 761 762 763 764 765 766 767 768 769 770 771 772 773\n",
            " 774 775 776 777 778 779 780 781 782 783 784 785 786 787 788 789 790 791\n",
            " 792 793 794 795 796 797 798 799 800 801 802 803 804 805 806 807 808 809\n",
            " 810 811 812 813 814 815 816 817 818 819 820 821 822 823 824 825 826 827\n",
            " 828 829 830 831 832 833 834 835 836 837 838 839 840 841 842 843 844 845\n",
            " 846 847 848 849 850 851 852 853 854 855 856 857 858 859 860 861 862 863\n",
            " 864 865 866 867 868 869 870 871 872 873 874 875 876 877 878 879 880 881\n",
            " 882 883 884 885 886 887 888 889 890 891 892 893 894 895 896 897 898 899\n",
            " 900 901 902 903 904 905 906 907 908 909 910 911 912 913 914 915 916 917\n",
            " 918 919 920 921 922 923 924 925 926 927 928 929 930 931 932 933 934 935\n",
            " 936 937 938 939 940 941 942 943 944 945 946 947 948 949 950 951 952 953\n",
            " 954 955 956 957 958 959 960 961 962 963 964 965 966 967 968 969 970 971\n",
            " 972 973 974 975 976 977 978 979 980 981 982 983 984 985 986 987 988 989\n",
            " 990 991 992 993 994 995 996 997 998 999]\n"
          ],
          "name": "stdout"
        }
      ]
    },
    {
      "cell_type": "code",
      "metadata": {
        "id": "GI_aXRQrcZt1",
        "colab_type": "code",
        "colab": {
          "base_uri": "https://localhost:8080/",
          "height": 51
        },
        "outputId": "b93e9de7-102a-44ea-f9a2-dc3f578e39e0"
      },
      "source": [
        "%timeit a**2"
      ],
      "execution_count": 12,
      "outputs": [
        {
          "output_type": "stream",
          "text": [
            "The slowest run took 58.24 times longer than the fastest. This could mean that an intermediate result is being cached.\n",
            "1000000 loops, best of 3: 1.27 µs per loop\n"
          ],
          "name": "stdout"
        }
      ]
    },
    {
      "cell_type": "markdown",
      "metadata": {
        "id": "ddrgrc2-lxGv",
        "colab_type": "text"
      },
      "source": [
        "## [3] np.ndarray 생성 : np.array()"
      ]
    },
    {
      "cell_type": "markdown",
      "metadata": {
        "id": "ekP6DbIYxVbc",
        "colab_type": "text"
      },
      "source": [
        "> ### 1-D Array"
      ]
    },
    {
      "cell_type": "code",
      "metadata": {
        "id": "9JRpSeLhlaxF",
        "colab_type": "code",
        "colab": {
          "base_uri": "https://localhost:8080/",
          "height": 85
        },
        "outputId": "21bb6e93-e817-45b1-d772-e7a67db16184"
      },
      "source": [
        "a = np.array([0, 1, 2, 3])\n",
        "print(a)\n",
        "print(a.ndim)\n",
        "print(a.shape)\n",
        "print(len(a))"
      ],
      "execution_count": 13,
      "outputs": [
        {
          "output_type": "stream",
          "text": [
            "[0 1 2 3]\n",
            "1\n",
            "(4,)\n",
            "4\n"
          ],
          "name": "stdout"
        }
      ]
    },
    {
      "cell_type": "markdown",
      "metadata": {
        "id": "_Cm0ZMASyCDd",
        "colab_type": "text"
      },
      "source": [
        "> ### 2-D Array"
      ]
    },
    {
      "cell_type": "code",
      "metadata": {
        "id": "wMplnM9-mTZM",
        "colab_type": "code",
        "colab": {
          "base_uri": "https://localhost:8080/",
          "height": 102
        },
        "outputId": "3eddb826-84b7-4bdc-af44-a52a2f53eb78"
      },
      "source": [
        "b = np.array([[0, 1, 2, 3], [3, 4, 5]]) # 요소의 개수(?)가 이렇게 다르면, 2차원 array로 인식하는 것이 아니라 두 개의 다른 list가 들어있는 1차원 배열로!!\n",
        "# array는 n행 m열 동일하게 요소 개수가 같아야 성립!!\n",
        "print(b)\n",
        "print(b.ndim)\n",
        "print(b.shape)\n",
        "print(len(b))\n",
        "print(len(b[0]))"
      ],
      "execution_count": 17,
      "outputs": [
        {
          "output_type": "stream",
          "text": [
            "[list([0, 1, 2, 3]) list([3, 4, 5])]\n",
            "1\n",
            "(2,)\n",
            "2\n",
            "4\n"
          ],
          "name": "stdout"
        }
      ]
    },
    {
      "cell_type": "markdown",
      "metadata": {
        "id": "EPrhts6byO8z",
        "colab_type": "text"
      },
      "source": [
        "> ### 3-D Array"
      ]
    },
    {
      "cell_type": "code",
      "metadata": {
        "id": "QqHOh_eIqOPz",
        "colab_type": "code",
        "colab": {
          "base_uri": "https://localhost:8080/",
          "height": 187
        },
        "outputId": "681fa448-6675-4340-9616-8bf1d2e1c8d0"
      },
      "source": [
        "c = np.array([[[1], [2]], [[3], [4]]])\n",
        "print(c)\n",
        "print(c.ndim)\n",
        "print(c.shape)\n",
        "print(len(c))\n",
        "print(len(c[0]))\n",
        "print(len(c[0][0]))"
      ],
      "execution_count": 19,
      "outputs": [
        {
          "output_type": "stream",
          "text": [
            "[[[1]\n",
            "  [2]]\n",
            "\n",
            " [[3]\n",
            "  [4]]]\n",
            "3\n",
            "(2, 2, 1)\n",
            "2\n",
            "2\n",
            "1\n"
          ],
          "name": "stdout"
        }
      ]
    },
    {
      "cell_type": "markdown",
      "metadata": {
        "id": "AJj-Dv86yfcb",
        "colab_type": "text"
      },
      "source": [
        "## [4] np.ndarray 생성하는 다른 함수들"
      ]
    },
    {
      "cell_type": "markdown",
      "metadata": {
        "id": "cqW5TnKEyiPa",
        "colab_type": "text"
      },
      "source": [
        "> ### np.arange()"
      ]
    },
    {
      "cell_type": "code",
      "metadata": {
        "id": "qTWO_FyhyoPK",
        "colab_type": "code",
        "colab": {
          "base_uri": "https://localhost:8080/",
          "height": 51
        },
        "outputId": "bf553b5a-3b95-4e16-fec5-b7ac970260b6"
      },
      "source": [
        "a = np.arange(10) # python의 range( start(inclusive), stop(exclusive), step(default=1) ) 와 똑같은 녀석!\n",
        "print(a)\n",
        "\n",
        "b = np.arange(1, 9, 2)  # 1 ~ 8까지 2steps 단위로 => 9미만의 홀수\n",
        "print(b)"
      ],
      "execution_count": 31,
      "outputs": [
        {
          "output_type": "stream",
          "text": [
            "[0 1 2 3 4 5 6 7 8 9]\n",
            "[1 3 5 7]\n"
          ],
          "name": "stdout"
        }
      ]
    },
    {
      "cell_type": "markdown",
      "metadata": {
        "id": "0IA3btl-yyuq",
        "colab_type": "text"
      },
      "source": [
        ">### np.linspace()"
      ]
    },
    {
      "cell_type": "code",
      "metadata": {
        "id": "2k0JqlBhyx9G",
        "colab_type": "code",
        "colab": {
          "base_uri": "https://localhost:8080/",
          "height": 51
        },
        "outputId": "d01c77b9-5b57-406d-8c7f-47e3a71f19be"
      },
      "source": [
        "c = np.linspace(0, 1, 6)\n",
        "# linearspace _ parameter/argument로 ( start(inclusive), stop(default=inclusive), step(data count), [optional : endpoint=False(endpoint exclusive)]) \n",
        "print(c)\n",
        "\n",
        "d = np.linspace(0, 1, 5, endpoint=False)\n",
        "# optional인 endpoint는 default가 True이고, 이는 즉 끝 숫자를 포함한다는 것. 빼주려면 False로 지정을 해주어야 함!\n",
        "print(d)"
      ],
      "execution_count": 21,
      "outputs": [
        {
          "output_type": "stream",
          "text": [
            "[0.  0.2 0.4 0.6 0.8 1. ]\n",
            "[0.  0.2 0.4 0.6 0.8]\n"
          ],
          "name": "stdout"
        }
      ]
    },
    {
      "cell_type": "markdown",
      "metadata": {
        "id": "0TuhsfkyzNJS",
        "colab_type": "text"
      },
      "source": [
        ">### np.ones(), np.zeros(), np.eye()"
      ]
    },
    {
      "cell_type": "code",
      "metadata": {
        "id": "qSgvuZsty2QE",
        "colab_type": "code",
        "colab": {
          "base_uri": "https://localhost:8080/",
          "height": 153
        },
        "outputId": "fcc72323-9b1e-463f-b57f-cfcd87b6b7a1"
      },
      "source": [
        "a = np.ones((3, 3))\n",
        "print(a)\n",
        "\n",
        "b = np.zeros((2, 2))\n",
        "print(b)\n",
        "\n",
        "c = np.eye(3)\n",
        "print(c)"
      ],
      "execution_count": 22,
      "outputs": [
        {
          "output_type": "stream",
          "text": [
            "[[1. 1. 1.]\n",
            " [1. 1. 1.]\n",
            " [1. 1. 1.]]\n",
            "[[0. 0.]\n",
            " [0. 0.]]\n",
            "[[1. 0. 0.]\n",
            " [0. 1. 0.]\n",
            " [0. 0. 1.]]\n"
          ],
          "name": "stdout"
        }
      ]
    },
    {
      "cell_type": "markdown",
      "metadata": {
        "id": "zOClE1Oc08BP",
        "colab_type": "text"
      },
      "source": [
        ">### np.ones_like(), np.zeros_like(), np.empty_like()"
      ]
    },
    {
      "cell_type": "code",
      "metadata": {
        "id": "W8NarQ3c1DUj",
        "colab_type": "code",
        "colab": {
          "base_uri": "https://localhost:8080/",
          "height": 102
        },
        "outputId": "b5a0ab68-89d0-4884-d25c-e65e1c36845b"
      },
      "source": [
        "a = [1,2,3,4]\n",
        "a_like = np.ones_like(a)\n",
        "print(a_like)\n",
        "\n",
        "b = [[1,2,3],[4,5,6]]\n",
        "b_like = np.zeros_like(b)\n",
        "print(b_like)\n",
        "\n",
        "c = [[1,2],[3,4]]\n",
        "c_like = np.empty_like(c)\n",
        "print(c_like)"
      ],
      "execution_count": 23,
      "outputs": [
        {
          "output_type": "stream",
          "text": [
            "[1 1 1 1]\n",
            "[[0 0 0]\n",
            " [0 0 0]]\n",
            "[[1 2]\n",
            " [3 4]]\n"
          ],
          "name": "stdout"
        }
      ]
    },
    {
      "cell_type": "markdown",
      "metadata": {
        "id": "xAj74vn6DenV",
        "colab_type": "text"
      },
      "source": [
        "## [5] Basic Data Type"
      ]
    },
    {
      "cell_type": "markdown",
      "metadata": {
        "id": "xoag_KgyDok1",
        "colab_type": "text"
      },
      "source": [
        ">### np.ndarray.dtype"
      ]
    },
    {
      "cell_type": "code",
      "metadata": {
        "id": "5uwTPRHhDtkF",
        "colab_type": "code",
        "colab": {
          "base_uri": "https://localhost:8080/",
          "height": 85
        },
        "outputId": "bf73532d-cb3d-47bf-eca4-565583844256"
      },
      "source": [
        "a = np.array([1, 2, 3])\n",
        "print(a.dtype)\n",
        "\n",
        "b = np.array([1., 2., 3.])\n",
        "print(b.dtype)\n",
        "\n",
        "c = np.array([1+2j, 3+4j, 5+6*1j])\n",
        "print(c.dtype)\n",
        "\n",
        "d = np.array([True, False, False, True])\n",
        "print(d.dtype)"
      ],
      "execution_count": 29,
      "outputs": [
        {
          "output_type": "stream",
          "text": [
            "int64\n",
            "float64\n",
            "complex128\n",
            "bool\n"
          ],
          "name": "stdout"
        }
      ]
    },
    {
      "cell_type": "markdown",
      "metadata": {
        "id": "QlPfG5ymD8hm",
        "colab_type": "text"
      },
      "source": [
        ">### array 생성 시 dtype 지정"
      ]
    },
    {
      "cell_type": "code",
      "metadata": {
        "id": "9yjD0TsJD89w",
        "colab_type": "code",
        "colab": {
          "base_uri": "https://localhost:8080/",
          "height": 85
        },
        "outputId": "6e6e6832-7636-4009-c2aa-ef8c135927d6"
      },
      "source": [
        "e = np.array([1, 2, 3], dtype=float)\n",
        "print(e)\n",
        "print(e.dtype)\n",
        "\n",
        "f = np.array([1., 2., 3.], dtype=int)\n",
        "print(f)\n",
        "print(f.dtype)"
      ],
      "execution_count": 30,
      "outputs": [
        {
          "output_type": "stream",
          "text": [
            "[1. 2. 3.]\n",
            "float64\n",
            "[1 2 3]\n",
            "int64\n"
          ],
          "name": "stdout"
        }
      ]
    },
    {
      "cell_type": "markdown",
      "metadata": {
        "id": "wgcco--E0sfE",
        "colab_type": "text"
      },
      "source": [
        "## [6] Indexing & Slicing"
      ]
    },
    {
      "cell_type": "markdown",
      "metadata": {
        "id": "YfQvGBNO0w2E",
        "colab_type": "text"
      },
      "source": [
        "> ### 기본 Indexing 방법"
      ]
    },
    {
      "cell_type": "code",
      "metadata": {
        "id": "GoCuqRIR0xok",
        "colab_type": "code",
        "colab": {
          "base_uri": "https://localhost:8080/",
          "height": 102
        },
        "outputId": "27fd33c2-d64e-48fb-f3be-34d8fe0faf46"
      },
      "source": [
        "a = np.arange(10)\n",
        "print(a)\n",
        "print(a[0])\n",
        "print(a[2])\n",
        "print(a[-1])\n",
        "\n",
        "b = np.eye(3)\n",
        "print(b[0, 1])"
      ],
      "execution_count": 38,
      "outputs": [
        {
          "output_type": "stream",
          "text": [
            "[0 1 2 3 4 5 6 7 8 9]\n",
            "0\n",
            "2\n",
            "9\n",
            "0.0\n"
          ],
          "name": "stdout"
        }
      ]
    },
    {
      "cell_type": "markdown",
      "metadata": {
        "colab_type": "text",
        "id": "TGZSw7VgFOaA"
      },
      "source": [
        ">### Multidimensional array의 Indexing"
      ]
    },
    {
      "cell_type": "code",
      "metadata": {
        "id": "rM2obqJc_yqD",
        "colab_type": "code",
        "colab": {
          "base_uri": "https://localhost:8080/",
          "height": 289
        },
        "outputId": "018b5dbd-4aaa-4023-a926-09ffea7f393b"
      },
      "source": [
        "a = np.eye(3)\n",
        "\n",
        "print(a,'\\n')\n",
        "print(a[1, 1],'\\n')\n",
        "\n",
        "a[2, 1] = 10\n",
        "print(a[2, 1],'\\n')   # third line, second column\n",
        "\n",
        "print(a,'\\n')\n",
        "print(a[1],'\\n')\n",
        "print(a[0:2])"
      ],
      "execution_count": 44,
      "outputs": [
        {
          "output_type": "stream",
          "text": [
            "[[1. 0. 0.]\n",
            " [0. 1. 0.]\n",
            " [0. 0. 1.]] \n",
            "\n",
            "1.0 \n",
            "\n",
            "10.0 \n",
            "\n",
            "[[ 1.  0.  0.]\n",
            " [ 0.  1.  0.]\n",
            " [ 0. 10.  1.]] \n",
            "\n",
            "[0. 1. 0.] \n",
            "\n",
            "[[1. 0. 0.]\n",
            " [0. 1. 0.]]\n"
          ],
          "name": "stdout"
        }
      ]
    },
    {
      "cell_type": "markdown",
      "metadata": {
        "id": "nru8Q37MF4i5",
        "colab_type": "text"
      },
      "source": [
        ">### Slicing"
      ]
    },
    {
      "cell_type": "code",
      "metadata": {
        "id": "tG05uUG8F5Ig",
        "colab_type": "code",
        "colab": {
          "base_uri": "https://localhost:8080/",
          "height": 221
        },
        "outputId": "b7ef2bea-9777-4e11-8e9e-6d348c06a3dc"
      },
      "source": [
        "a = np.arange(10)\n",
        "\n",
        "print(a,'\\n')\n",
        "\n",
        "print(a[2:9:3],'\\n') # [start:end:step]\n",
        "\n",
        "print(a[:4],'\\n')\n",
        "\n",
        "print(a[1:3],'\\n')\n",
        "\n",
        "print(a[::2],'\\n')\n",
        "\n",
        "print(a[3:],'\\n')"
      ],
      "execution_count": 45,
      "outputs": [
        {
          "output_type": "stream",
          "text": [
            "[0 1 2 3 4 5 6 7 8 9] \n",
            "\n",
            "[2 5 8] \n",
            "\n",
            "[0 1 2 3] \n",
            "\n",
            "[1 2] \n",
            "\n",
            "[0 2 4 6 8] \n",
            "\n",
            "[3 4 5 6 7 8 9] \n",
            "\n"
          ],
          "name": "stdout"
        }
      ]
    },
    {
      "cell_type": "code",
      "metadata": {
        "id": "1REgRzY7GdQl",
        "colab_type": "code",
        "colab": {
          "base_uri": "https://localhost:8080/",
          "height": 153
        },
        "outputId": "1ca04851-7f12-42d9-ac89-99e679394e64"
      },
      "source": [
        "a = np.arange(10)\n",
        "print(a,'\\n')\n",
        "a[5:] = 10\n",
        "print(a,'\\n')\n",
        "\n",
        "b = np.arange(5)\n",
        "print(b,'\\n')\n",
        "a[5:] = b[::-1]\n",
        "print(a,'\\n') # 사이즈가 맞지 않으면 브로드케스트가 안된다는 에러!!!"
      ],
      "execution_count": 55,
      "outputs": [
        {
          "output_type": "stream",
          "text": [
            "[0 1 2 3 4 5 6 7 8 9] \n",
            "\n",
            "[ 0  1  2  3  4 10 10 10 10 10] \n",
            "\n",
            "[0 1 2 3 4] \n",
            "\n",
            "[0 1 2 3 4 4 3 2 1 0] \n",
            "\n"
          ],
          "name": "stdout"
        }
      ]
    },
    {
      "cell_type": "markdown",
      "metadata": {
        "id": "Hn-_KAAB_lEX",
        "colab_type": "text"
      },
      "source": [
        "## [7] Copies and views"
      ]
    },
    {
      "cell_type": "markdown",
      "metadata": {
        "id": "f8eopdQBBF9M",
        "colab_type": "text"
      },
      "source": [
        ">### 'b'의 정체?"
      ]
    },
    {
      "cell_type": "code",
      "metadata": {
        "id": "R7iiG4qA_kTj",
        "colab_type": "code",
        "colab": {
          "base_uri": "https://localhost:8080/",
          "height": 170
        },
        "outputId": "34cbe50e-9208-4e6a-b857-dfb721923206"
      },
      "source": [
        "a = np.arange(10)\n",
        "print(a)\n",
        "b = a[::2]\n",
        "print(b)\n",
        "\n",
        "print(np.may_share_memory(a, b))\n",
        "\n",
        "b[0] = 12\n",
        "print(b)\n",
        "print(a)\n",
        "\n",
        "print(np.may_share_memory(a, b))\n",
        "\n",
        "print(b.base) # a배열의 내용이 출력됨!! ohoh~~\n",
        "\n",
        "print(a.strides)  # byte단위로 결과값이 나옴!! 8 == int64\n",
        "print(b.strides)  # a배열을 2칸 단위로 건너뛰고 있으므로 16 byte = int64 2개 단위\n"
      ],
      "execution_count": 60,
      "outputs": [
        {
          "output_type": "stream",
          "text": [
            "[0 1 2 3 4 5 6 7 8 9]\n",
            "[0 2 4 6 8]\n",
            "True\n",
            "[12  2  4  6  8]\n",
            "[12  1  2  3  4  5  6  7  8  9]\n",
            "True\n",
            "[12  1  2  3  4  5  6  7  8  9]\n",
            "(8,)\n",
            "(16,)\n"
          ],
          "name": "stdout"
        }
      ]
    },
    {
      "cell_type": "markdown",
      "metadata": {
        "id": "m8PG7iL4BGti",
        "colab_type": "text"
      },
      "source": [
        ">### 강제 Copy 만들기"
      ]
    },
    {
      "cell_type": "code",
      "metadata": {
        "id": "cPj1IGL_Awr3",
        "colab_type": "code",
        "colab": {
          "base_uri": "https://localhost:8080/",
          "height": 102
        },
        "outputId": "b6052992-247e-4fb8-d04d-62818af3d49d"
      },
      "source": [
        "a = np.arange(10)\n",
        "c = a[::2].copy()\n",
        "      # np.ndarray타입의 메서드인 copy() 메서드!!\n",
        "print(type(a))\n",
        "\n",
        "print(a)\n",
        "print(c)\n",
        "\n",
        "c[0] = 12\n",
        "print(a)\n",
        "\n",
        "print(np.may_share_memory(a, c))\n"
      ],
      "execution_count": 68,
      "outputs": [
        {
          "output_type": "stream",
          "text": [
            "<class 'numpy.ndarray'>\n",
            "[0 1 2 3 4 5 6 7 8 9]\n",
            "[0 2 4 6 8]\n",
            "[0 1 2 3 4 5 6 7 8 9]\n",
            "False\n"
          ],
          "name": "stdout"
        }
      ]
    },
    {
      "cell_type": "markdown",
      "metadata": {
        "id": "iIfcA1I7O3e2",
        "colab_type": "text"
      },
      "source": [
        "## [8] Elementwise operation"
      ]
    },
    {
      "cell_type": "markdown",
      "metadata": {
        "id": "i0WPWYWZPqw9",
        "colab_type": "text"
      },
      "source": [
        "> ### Scalar value와 Array 사이의  연산"
      ]
    },
    {
      "cell_type": "code",
      "metadata": {
        "id": "Q-w2CZR7PtU8",
        "colab_type": "code",
        "colab": {
          "base_uri": "https://localhost:8080/",
          "height": 51
        },
        "outputId": "9f390f40-8d8d-49a7-d3dc-ca971c60efea"
      },
      "source": [
        "# p.44 : a배열의 모든 요소와 스칼라값인 1이 한꺼번에 같이 연산이 됨!\n",
        "a = np.array([1, 2, 3, 4])\n",
        "print(a + 1)\n",
        "print(2 ** a)"
      ],
      "execution_count": 69,
      "outputs": [
        {
          "output_type": "stream",
          "text": [
            "[2 3 4 5]\n",
            "[ 2  4  8 16]\n"
          ],
          "name": "stdout"
        }
      ]
    },
    {
      "cell_type": "markdown",
      "metadata": {
        "id": "4Qn_iE4lQJu7",
        "colab_type": "text"
      },
      "source": [
        ">### Array와 Array 사이의 연산"
      ]
    },
    {
      "cell_type": "code",
      "metadata": {
        "id": "OlX_iXECQKRl",
        "colab_type": "code",
        "colab": {
          "base_uri": "https://localhost:8080/",
          "height": 68
        },
        "outputId": "33db1ced-62bc-4f10-b5e7-7f1e1131f77c"
      },
      "source": [
        "b = np.ones(4) + 1\n",
        "\n",
        "print(a - b)\n",
        "print(a * b)\n",
        "\n",
        "j = np.arange(5)\n",
        "print(2**(j + 1) - j)"
      ],
      "execution_count": 72,
      "outputs": [
        {
          "output_type": "stream",
          "text": [
            "[-1.  0.  1.  2.]\n",
            "[2. 4. 6. 8.]\n",
            "[ 2  3  6 13 28]\n"
          ],
          "name": "stdout"
        }
      ]
    },
    {
      "cell_type": "markdown",
      "metadata": {
        "id": "006lrsA-Q6n5",
        "colab_type": "text"
      },
      "source": [
        ">### c * c => Matrix Multiplication?"
      ]
    },
    {
      "cell_type": "code",
      "metadata": {
        "id": "cROy7HyiQ6Z2",
        "colab_type": "code",
        "colab": {
          "base_uri": "https://localhost:8080/",
          "height": 68
        },
        "outputId": "46fee098-6c02-46ba-82a9-4172f71bcfac"
      },
      "source": [
        "c = np.ones((3, 3))+1\n",
        "print(c * c)"
      ],
      "execution_count": 92,
      "outputs": [
        {
          "output_type": "stream",
          "text": [
            "[[4. 4. 4.]\n",
            " [4. 4. 4.]\n",
            " [4. 4. 4.]]\n"
          ],
          "name": "stdout"
        }
      ]
    },
    {
      "cell_type": "markdown",
      "metadata": {
        "id": "3BLpgw-7RRLu",
        "colab_type": "text"
      },
      "source": [
        ">### Matrix Multiplication : np.dot"
      ]
    },
    {
      "cell_type": "code",
      "metadata": {
        "id": "Og5vH8cERRlI",
        "colab_type": "code",
        "colab": {
          "base_uri": "https://localhost:8080/",
          "height": 68
        },
        "outputId": "016cdd99-605d-42c2-a643-a97f480c07c3"
      },
      "source": [
        "mat_mul = np.dot(c,c)\n",
        "print(mat_mul)"
      ],
      "execution_count": 80,
      "outputs": [
        {
          "output_type": "stream",
          "text": [
            "[[12. 12. 12.]\n",
            " [12. 12. 12.]\n",
            " [12. 12. 12.]]\n"
          ],
          "name": "stdout"
        }
      ]
    },
    {
      "cell_type": "markdown",
      "metadata": {
        "id": "kTGr5HMLaTcX",
        "colab_type": "text"
      },
      "source": [
        ">### Element-wise 비교"
      ]
    },
    {
      "cell_type": "code",
      "metadata": {
        "id": "7wKbGxVjaTS_",
        "colab_type": "code",
        "colab": {
          "base_uri": "https://localhost:8080/",
          "height": 68
        },
        "outputId": "970e4a48-7f73-439f-a289-90f5c558cb28"
      },
      "source": [
        "a = np.array([1, 2, 3, 4])\n",
        "b = np.array([4, 2, 2, 4])\n",
        "c = a == b\n",
        "d = (a == b)[0]\n",
        "\n",
        "print(c, d)\n",
        "print(a == b)\n",
        "print(a > b)"
      ],
      "execution_count": 85,
      "outputs": [
        {
          "output_type": "stream",
          "text": [
            "[False  True False  True] False\n",
            "[False  True False  True]\n",
            "[False False  True False]\n"
          ],
          "name": "stdout"
        }
      ]
    },
    {
      "cell_type": "markdown",
      "metadata": {
        "id": "Sih001C7al-h",
        "colab_type": "text"
      },
      "source": [
        ">### Element-wise 논리연산"
      ]
    },
    {
      "cell_type": "code",
      "metadata": {
        "id": "aMHh3DujamJ_",
        "colab_type": "code",
        "colab": {
          "base_uri": "https://localhost:8080/",
          "height": 85
        },
        "outputId": "cfac8027-5f62-482a-feb4-c7fd8d9b6adb"
      },
      "source": [
        "a = np.array([1, 1, 0, 0], dtype=bool)\n",
        "b = np.array([1, 0, 1, 0], dtype=bool)\n",
        "\n",
        "print(np.logical_or(a, b))\n",
        "print(a|b)\n",
        "\n",
        "print(np.logical_and(a, b))\n",
        "print(a&b)"
      ],
      "execution_count": 86,
      "outputs": [
        {
          "output_type": "stream",
          "text": [
            "[ True  True  True False]\n",
            "[ True  True  True False]\n",
            "[ True False False False]\n",
            "[ True False False False]\n"
          ],
          "name": "stdout"
        }
      ]
    },
    {
      "cell_type": "markdown",
      "metadata": {
        "id": "EcFVJ_DKbDGh",
        "colab_type": "text"
      },
      "source": [
        ">### Element-wise 연산에서 operand들의 shape mismatche"
      ]
    },
    {
      "cell_type": "code",
      "metadata": {
        "id": "eIekdHAebC8R",
        "colab_type": "code",
        "colab": {
          "base_uri": "https://localhost:8080/",
          "height": 214
        },
        "outputId": "d133d056-05c1-4d7a-8754-d8a364d73d02"
      },
      "source": [
        "a = np.arange(4)\n",
        "print(np.array([1, 2]))\n",
        "a + np.array([1, 2])  "
      ],
      "execution_count": 88,
      "outputs": [
        {
          "output_type": "stream",
          "text": [
            "[1 2]\n"
          ],
          "name": "stdout"
        },
        {
          "output_type": "error",
          "ename": "ValueError",
          "evalue": "ignored",
          "traceback": [
            "\u001b[0;31m---------------------------------------------------------------------------\u001b[0m",
            "\u001b[0;31mValueError\u001b[0m                                Traceback (most recent call last)",
            "\u001b[0;32m<ipython-input-88-9160548effa7>\u001b[0m in \u001b[0;36m<module>\u001b[0;34m()\u001b[0m\n\u001b[1;32m      1\u001b[0m \u001b[0ma\u001b[0m \u001b[0;34m=\u001b[0m \u001b[0mnp\u001b[0m\u001b[0;34m.\u001b[0m\u001b[0marange\u001b[0m\u001b[0;34m(\u001b[0m\u001b[0;36m4\u001b[0m\u001b[0;34m)\u001b[0m\u001b[0;34m\u001b[0m\u001b[0;34m\u001b[0m\u001b[0m\n\u001b[1;32m      2\u001b[0m \u001b[0mprint\u001b[0m\u001b[0;34m(\u001b[0m\u001b[0mnp\u001b[0m\u001b[0;34m.\u001b[0m\u001b[0marray\u001b[0m\u001b[0;34m(\u001b[0m\u001b[0;34m[\u001b[0m\u001b[0;36m1\u001b[0m\u001b[0;34m,\u001b[0m \u001b[0;36m2\u001b[0m\u001b[0;34m]\u001b[0m\u001b[0;34m)\u001b[0m\u001b[0;34m)\u001b[0m\u001b[0;34m\u001b[0m\u001b[0;34m\u001b[0m\u001b[0m\n\u001b[0;32m----> 3\u001b[0;31m \u001b[0ma\u001b[0m \u001b[0;34m+\u001b[0m \u001b[0mnp\u001b[0m\u001b[0;34m.\u001b[0m\u001b[0marray\u001b[0m\u001b[0;34m(\u001b[0m\u001b[0;34m[\u001b[0m\u001b[0;36m1\u001b[0m\u001b[0;34m,\u001b[0m \u001b[0;36m2\u001b[0m\u001b[0;34m]\u001b[0m\u001b[0;34m)\u001b[0m\u001b[0;34m\u001b[0m\u001b[0;34m\u001b[0m\u001b[0m\n\u001b[0m",
            "\u001b[0;31mValueError\u001b[0m: operands could not be broadcast together with shapes (4,) (2,) "
          ]
        }
      ]
    },
    {
      "cell_type": "markdown",
      "metadata": {
        "id": "J9abKbe-O-j9",
        "colab_type": "text"
      },
      "source": [
        "## [9] Dimension reduction 연산"
      ]
    },
    {
      "cell_type": "markdown",
      "metadata": {
        "id": "1fctlJGHcc3Y",
        "colab_type": "text"
      },
      "source": [
        ">### np.sum(), np.ndarray.sum()"
      ]
    },
    {
      "cell_type": "code",
      "metadata": {
        "id": "63O1RdWJcdfq",
        "colab_type": "code",
        "colab": {
          "base_uri": "https://localhost:8080/",
          "height": 68
        },
        "outputId": "1713c691-ce34-4662-d667-589ec3a31cd7"
      },
      "source": [
        "x = np.array([1, 2, 3, 4])\n",
        "print(type([1, 2, 3, 4]), type(x))\n",
        "\n",
        "print(np.sum(x))\n",
        "print(x.sum())  # 1차원 배열의 값을 하나의 스칼라 값으로 Dimension Reduction해준 것!"
      ],
      "execution_count": 93,
      "outputs": [
        {
          "output_type": "stream",
          "text": [
            "<class 'list'> <class 'numpy.ndarray'>\n",
            "10\n",
            "10\n"
          ],
          "name": "stdout"
        }
      ]
    },
    {
      "cell_type": "markdown",
      "metadata": {
        "id": "lSsiliW_ctAG",
        "colab_type": "text"
      },
      "source": [
        ">### 특정 축을 기준으로 합계 구하기"
      ]
    },
    {
      "cell_type": "code",
      "metadata": {
        "id": "t1TKoY2hcubF",
        "colab_type": "code",
        "colab": {
          "base_uri": "https://localhost:8080/",
          "height": 51
        },
        "outputId": "5f2384df-3702-42e5-d46f-3da5a88fb5b9"
      },
      "source": [
        "# p.47\n",
        "x = np.array([[1, 1, 5, 6, 8, 7], [2, 2, 9, 7, 0, 5]])\n",
        "\n",
        "print(x.sum(axis=0))  # axis=0은 우리가 생각하는 열 기준(같은 열의 합) -> 1열의 합, 2열의 합, 3열의 합. ...\n",
        "\n",
        "print(x.sum(axis=1))  # axis=1은 우리가 생각하는 행 기준(같은 행의 합) -> 1행의 합, 2행의 합, 3행의 합, ..."
      ],
      "execution_count": 96,
      "outputs": [
        {
          "output_type": "stream",
          "text": [
            "[ 3  3 14 13  8 12]\n",
            "[28 25]\n"
          ],
          "name": "stdout"
        }
      ]
    },
    {
      "cell_type": "markdown",
      "metadata": {
        "id": "p7iIxRLSctsE",
        "colab_type": "text"
      },
      "source": [
        ">### np.ndarray.min(), np.ndarray.max(), np.ndarray.argmin(), np.ndarray.argmax() "
      ]
    },
    {
      "cell_type": "code",
      "metadata": {
        "id": "WVX1_435f_69",
        "colab_type": "code",
        "colab": {
          "base_uri": "https://localhost:8080/",
          "height": 85
        },
        "outputId": "e5df7683-e1ec-4a39-c95b-d3b3a2daaeb0"
      },
      "source": [
        "# p.48\n",
        "x = np.array([1, 1, 1, 4, 3, 2, 4])\n",
        "\n",
        "print(x.min())\n",
        "print(x.max())\n",
        "\n",
        "print(x.argmin()) # 최소값/최대값 중 가장 앞에 있은 인덱스를 찾아서 리턴!!\n",
        "print(x.argmax())"
      ],
      "execution_count": 97,
      "outputs": [
        {
          "output_type": "stream",
          "text": [
            "1\n",
            "4\n",
            "0\n",
            "3\n"
          ],
          "name": "stdout"
        }
      ]
    },
    {
      "cell_type": "code",
      "metadata": {
        "id": "SHFjv8zlQr6N",
        "colab_type": "code",
        "colab": {
          "base_uri": "https://localhost:8080/",
          "height": 51
        },
        "outputId": "2bcee99d-bb7b-49e7-a956-9aa29130bbd9"
      },
      "source": [
        "# p.48\n",
        "x = np.array([[9,2,10,6,1],[5,7,3,4,8]])\n",
        "\n",
        "print(x.argmin(axis=0))\n",
        "print(x.argmax(axis=1))"
      ],
      "execution_count": 98,
      "outputs": [
        {
          "output_type": "stream",
          "text": [
            "[1 0 1 1 0]\n",
            "[2 4]\n"
          ],
          "name": "stdout"
        }
      ]
    },
    {
      "cell_type": "markdown",
      "metadata": {
        "id": "GnyufBHugr9N",
        "colab_type": "text"
      },
      "source": [
        ">### np.all(), np.any()"
      ]
    },
    {
      "cell_type": "code",
      "metadata": {
        "id": "XdZniBzFgsIG",
        "colab_type": "code",
        "colab": {
          "base_uri": "https://localhost:8080/",
          "height": 51
        },
        "outputId": "5c6456a3-6122-409d-ee63-1939c0658fef"
      },
      "source": [
        "# p.49\n",
        "print(np.all([True, True, False]))\n",
        "print(np.any([True, True, False]))"
      ],
      "execution_count": 99,
      "outputs": [
        {
          "output_type": "stream",
          "text": [
            "False\n",
            "True\n"
          ],
          "name": "stdout"
        }
      ]
    },
    {
      "cell_type": "markdown",
      "metadata": {
        "id": "4LzjzA5shFgW",
        "colab_type": "text"
      },
      "source": [
        ">### 통계 관련"
      ]
    },
    {
      "cell_type": "code",
      "metadata": {
        "id": "_lVHsslahFLX",
        "colab_type": "code",
        "colab": {
          "base_uri": "https://localhost:8080/",
          "height": 85
        },
        "outputId": "176013bf-57e4-4d48-8c9c-63641bb57efe"
      },
      "source": [
        "# p.49\n",
        "x = np.array([1, 2, 3, 1])\n",
        "y = np.array([[1, 2, 3], [5, 6, 1]])\n",
        "\n",
        "print(type(x.mean()), x.mean())\n",
        "\n",
        "print(np.median(x))\n",
        "print(np.median(y, axis=-1))\n",
        "\n",
        "print(x.std())"
      ],
      "execution_count": 101,
      "outputs": [
        {
          "output_type": "stream",
          "text": [
            "<class 'numpy.float64'> 1.75\n",
            "1.5\n",
            "[2. 5.]\n",
            "0.82915619758885\n"
          ],
          "name": "stdout"
        }
      ]
    },
    {
      "cell_type": "markdown",
      "metadata": {
        "id": "aYiRPBpCPUba",
        "colab_type": "text"
      },
      "source": [
        "## [10] Broadcasting"
      ]
    },
    {
      "cell_type": "markdown",
      "metadata": {
        "id": "KPW0YMajfhIs",
        "colab_type": "text"
      },
      "source": [
        ">### 결과 출력용 함수"
      ]
    },
    {
      "cell_type": "code",
      "metadata": {
        "id": "IfixCAMAfhey",
        "colab_type": "code",
        "colab": {}
      },
      "source": [
        "def Print_ABC(a, b, c):\n",
        "    print(\"{}, a.shape = {}\".format(a, a.shape))\n",
        "    print(\"{}, b.shape = {}\".format(b, b.shape))\n",
        "    print(\"{}, c.shape = {}\".format(c, c.shape))    "
      ],
      "execution_count": 0,
      "outputs": []
    },
    {
      "cell_type": "markdown",
      "metadata": {
        "id": "BNIT1Ha0foV3",
        "colab_type": "text"
      },
      "source": [
        ">### array + scalar"
      ]
    },
    {
      "cell_type": "code",
      "metadata": {
        "id": "iXwNK2lsfoCz",
        "colab_type": "code",
        "colab": {
          "base_uri": "https://localhost:8080/",
          "height": 68
        },
        "outputId": "72520c8f-5a1a-424d-d26a-dfabc73236d1"
      },
      "source": [
        "a = np.array([1, 2, 3])\n",
        "b = 2\n",
        "c = a + b\n",
        "\n",
        "Print_ABC(a, np.array(b), c)"
      ],
      "execution_count": 103,
      "outputs": [
        {
          "output_type": "stream",
          "text": [
            "[1 2 3], a.shape = (3,)\n",
            "2, b.shape = ()\n",
            "[3 4 5], c.shape = (3,)\n"
          ],
          "name": "stdout"
        }
      ]
    },
    {
      "cell_type": "markdown",
      "metadata": {
        "id": "89z1f3iHfpja",
        "colab_type": "text"
      },
      "source": [
        ">### array + array ex1"
      ]
    },
    {
      "cell_type": "code",
      "metadata": {
        "id": "ofpjPyJCfp-n",
        "colab_type": "code",
        "colab": {}
      },
      "source": [
        "a = np.array([[1, 2, 3],[4, 5, 6]])\n",
        "b = np.array([1, 2, 3])\n",
        "c = a + b\n",
        "\n",
        "Print_ABC(a, b, c)"
      ],
      "execution_count": 0,
      "outputs": []
    },
    {
      "cell_type": "markdown",
      "metadata": {
        "id": "X5FDsdcxfqRJ",
        "colab_type": "text"
      },
      "source": [
        ">### array + array ex2"
      ]
    },
    {
      "cell_type": "code",
      "metadata": {
        "id": "YqwNppPDfsCR",
        "colab_type": "code",
        "colab": {
          "base_uri": "https://localhost:8080/",
          "height": 316
        },
        "outputId": "cb0975c4-0b7b-4ccd-af90-9267cb007baa"
      },
      "source": [
        "a = np.array([1, 2, 3, 4])\n",
        "b = np.array([[1], [2]])\n",
        "c = a + b\n",
        "\n",
        "Print_ABC(a, b, c)\n",
        "\n",
        "\n",
        "# p.52\n",
        "# 하지만 이 둘은 이미 차원이 똑같기 때문에, 차원을 확장하여 연산 X\n",
        "# 사이즈를 맞추는 것에 앞서, 차원이 달라야 함!!\n",
        "# 차원이 다른 두 값 사이에서 차원을 변경하여 값을 동일하게 맞출 수 있다면, Broadcasting Rule에 의해 연산 가능!!!!\n",
        "a = np.array([1, 2, 3, 4])\n",
        "b = np.array([1, 2])\n",
        "c = a+b\n",
        "Print_ABC(a, b, c)\n"
      ],
      "execution_count": 110,
      "outputs": [
        {
          "output_type": "stream",
          "text": [
            "[1 2 3 4], a.shape = (4,)\n",
            "[[1]\n",
            " [2]], b.shape = (2, 1)\n",
            "[[2 3 4 5]\n",
            " [3 4 5 6]], c.shape = (2, 4)\n"
          ],
          "name": "stdout"
        },
        {
          "output_type": "error",
          "ename": "ValueError",
          "evalue": "ignored",
          "traceback": [
            "\u001b[0;31m---------------------------------------------------------------------------\u001b[0m",
            "\u001b[0;31mValueError\u001b[0m                                Traceback (most recent call last)",
            "\u001b[0;32m<ipython-input-110-beba7458dbcf>\u001b[0m in \u001b[0;36m<module>\u001b[0;34m()\u001b[0m\n\u001b[1;32m      8\u001b[0m \u001b[0ma\u001b[0m \u001b[0;34m=\u001b[0m \u001b[0mnp\u001b[0m\u001b[0;34m.\u001b[0m\u001b[0marray\u001b[0m\u001b[0;34m(\u001b[0m\u001b[0;34m[\u001b[0m\u001b[0;36m1\u001b[0m\u001b[0;34m,\u001b[0m \u001b[0;36m2\u001b[0m\u001b[0;34m,\u001b[0m \u001b[0;36m3\u001b[0m\u001b[0;34m,\u001b[0m \u001b[0;36m4\u001b[0m\u001b[0;34m]\u001b[0m\u001b[0;34m)\u001b[0m\u001b[0;34m\u001b[0m\u001b[0;34m\u001b[0m\u001b[0m\n\u001b[1;32m      9\u001b[0m \u001b[0mb\u001b[0m \u001b[0;34m=\u001b[0m \u001b[0mnp\u001b[0m\u001b[0;34m.\u001b[0m\u001b[0marray\u001b[0m\u001b[0;34m(\u001b[0m\u001b[0;34m[\u001b[0m\u001b[0;36m1\u001b[0m\u001b[0;34m,\u001b[0m \u001b[0;36m2\u001b[0m\u001b[0;34m]\u001b[0m\u001b[0;34m)\u001b[0m\u001b[0;34m\u001b[0m\u001b[0;34m\u001b[0m\u001b[0m\n\u001b[0;32m---> 10\u001b[0;31m \u001b[0mc\u001b[0m \u001b[0;34m=\u001b[0m \u001b[0ma\u001b[0m\u001b[0;34m+\u001b[0m\u001b[0mb\u001b[0m\u001b[0;34m\u001b[0m\u001b[0;34m\u001b[0m\u001b[0m\n\u001b[0m\u001b[1;32m     11\u001b[0m \u001b[0mPrint_ABC\u001b[0m\u001b[0;34m(\u001b[0m\u001b[0ma\u001b[0m\u001b[0;34m,\u001b[0m \u001b[0mb\u001b[0m\u001b[0;34m,\u001b[0m \u001b[0mc\u001b[0m\u001b[0;34m)\u001b[0m\u001b[0;34m\u001b[0m\u001b[0;34m\u001b[0m\u001b[0m\n\u001b[1;32m     12\u001b[0m \u001b[0mPrint_ABC\u001b[0m\u001b[0;34m(\u001b[0m\u001b[0ma\u001b[0m\u001b[0;34m,\u001b[0m \u001b[0mb\u001b[0m\u001b[0;34m,\u001b[0m \u001b[0mnp\u001b[0m\u001b[0;34m.\u001b[0m\u001b[0marray\u001b[0m\u001b[0;34m(\u001b[0m\u001b[0;34m[\u001b[0m\u001b[0;36m1\u001b[0m\u001b[0;34m,\u001b[0m \u001b[0;36m2\u001b[0m\u001b[0;34m]\u001b[0m\u001b[0;34m)\u001b[0m\u001b[0;34m)\u001b[0m\u001b[0;34m\u001b[0m\u001b[0;34m\u001b[0m\u001b[0m\n",
            "\u001b[0;31mValueError\u001b[0m: operands could not be broadcast together with shapes (4,) (2,) "
          ]
        }
      ]
    },
    {
      "cell_type": "markdown",
      "metadata": {
        "id": "izcwywyjftEX",
        "colab_type": "text"
      },
      "source": [
        ">### array + array ex3"
      ]
    },
    {
      "cell_type": "code",
      "metadata": {
        "id": "9D9W6CrcftiQ",
        "colab_type": "code",
        "colab": {
          "base_uri": "https://localhost:8080/",
          "height": 170
        },
        "outputId": "19c57a4b-13d3-4da0-f47f-cf11d97cbe25"
      },
      "source": [
        "a = np.array([[1], [2], [3], [4]])\n",
        "b = np.array([1, 2, 3])\n",
        "c = a + b\n",
        "\n",
        "Print_ABC(a, b, c)"
      ],
      "execution_count": 111,
      "outputs": [
        {
          "output_type": "stream",
          "text": [
            "[[1]\n",
            " [2]\n",
            " [3]\n",
            " [4]], a.shape = (4, 1)\n",
            "[1 2 3], b.shape = (3,)\n",
            "[[2 3 4]\n",
            " [3 4 5]\n",
            " [4 5 6]\n",
            " [5 6 7]], c.shape = (4, 3)\n"
          ],
          "name": "stdout"
        }
      ]
    },
    {
      "cell_type": "markdown",
      "metadata": {
        "id": "MaEcW4tlPcoe",
        "colab_type": "text"
      },
      "source": [
        "## [11] Array Manipulation"
      ]
    },
    {
      "cell_type": "markdown",
      "metadata": {
        "id": "2vEnp2JHhiwG",
        "colab_type": "text"
      },
      "source": [
        ">### Flattening : np.ndarry.ravel()"
      ]
    },
    {
      "cell_type": "code",
      "metadata": {
        "id": "grMWgt62hiaH",
        "colab_type": "code",
        "colab": {
          "base_uri": "https://localhost:8080/",
          "height": 34
        },
        "outputId": "4764d63d-d375-42a9-fc6a-0b71a24109d3"
      },
      "source": [
        "a = np.array([[1, 2, 3], [4, 5, 6]])\n",
        "\n",
        "print(a.ravel())"
      ],
      "execution_count": 112,
      "outputs": [
        {
          "output_type": "stream",
          "text": [
            "[1 2 3 4 5 6]\n"
          ],
          "name": "stdout"
        }
      ]
    },
    {
      "cell_type": "markdown",
      "metadata": {
        "id": "FFuG3Xzah8sA",
        "colab_type": "text"
      },
      "source": [
        ">### Reshaping : np.ndarray.reshape\n",
        "#### ndarray.reshape may return a view (cf help(np.reshape))), or copy"
      ]
    },
    {
      "cell_type": "code",
      "metadata": {
        "id": "XYZAwO6Th8c_",
        "colab_type": "code",
        "colab": {
          "base_uri": "https://localhost:8080/",
          "height": 187
        },
        "outputId": "176e9327-0f1b-45ec-803d-5d170adde4aa"
      },
      "source": [
        "a = np.array([[1, 2, 3], [4, 5, 6]])\n",
        "\n",
        "b = a.reshape((6, 1))\n",
        "print(b)\n",
        "\n",
        "c = a.reshape((3, 2))\n",
        "print(c)\n",
        "\n",
        "print(a.reshape((-1,))) # Flattening!!"
      ],
      "execution_count": 116,
      "outputs": [
        {
          "output_type": "stream",
          "text": [
            "[[1]\n",
            " [2]\n",
            " [3]\n",
            " [4]\n",
            " [5]\n",
            " [6]]\n",
            "[[1 2]\n",
            " [3 4]\n",
            " [5 6]]\n",
            "[1 3 5 1 5 5 5 9 1 5 3 1]\n"
          ],
          "name": "stdout"
        }
      ]
    },
    {
      "cell_type": "code",
      "metadata": {
        "id": "yY-ukgG9jwvv",
        "colab_type": "code",
        "colab": {
          "base_uri": "https://localhost:8080/",
          "height": 51
        },
        "outputId": "a9674ef6-f812-4990-da0c-d2a239dc3f01"
      },
      "source": [
        "a.reshape((2, -1))"
      ],
      "execution_count": 114,
      "outputs": [
        {
          "output_type": "execute_result",
          "data": {
            "text/plain": [
              "array([[1, 2, 3],\n",
              "       [4, 5, 6]])"
            ]
          },
          "metadata": {
            "tags": []
          },
          "execution_count": 114
        }
      ]
    },
    {
      "cell_type": "markdown",
      "metadata": {
        "id": "y2ujbiKObdb0",
        "colab_type": "text"
      },
      "source": [
        ">### Transpose"
      ]
    },
    {
      "cell_type": "code",
      "metadata": {
        "id": "BOg7jCRQbdnR",
        "colab_type": "code",
        "colab": {
          "base_uri": "https://localhost:8080/",
          "height": 340
        },
        "outputId": "9dca51fc-a67c-4071-e63d-fd4aef1476c4"
      },
      "source": [
        "# p.54\n",
        "a = np.array([[1,2,3],[4,5,6],[7,8,9]])\n",
        "print(a)\n",
        "print(a.transpose())  # .transpose() 라는 메서드!\n",
        "print(a)  # a의 내용이 바뀔까? Nope! 바뀌지 않음!! a.transpose()으로 인해 축 방향이 변경된 결과값이 \"리턴\"되는 것!\n",
        "print(a.T)            # 2차원 배열 입장에서 .T는 a의 transpose 결과를 가지고 있다고 생각하라...\n",
        "\n",
        "\n",
        "b = a.transpose()       # 여기에서는 View라고 나옴. 하지만 상황에 따라 달라질 수도 있다고... 근데 view라고 알고 있자!!!\n",
        "print(np.may_share_memory(a, b))\n",
        "b[2, 1] = 50\n",
        "print(a)\n",
        "print(b)"
      ],
      "execution_count": 126,
      "outputs": [
        {
          "output_type": "stream",
          "text": [
            "[[1 2 3]\n",
            " [4 5 6]\n",
            " [7 8 9]]\n",
            "[[1 4 7]\n",
            " [2 5 8]\n",
            " [3 6 9]]\n",
            "[[1 2 3]\n",
            " [4 5 6]\n",
            " [7 8 9]]\n",
            "[[1 4 7]\n",
            " [2 5 8]\n",
            " [3 6 9]]\n",
            "True\n",
            "[[ 1  2  3]\n",
            " [ 4  5 50]\n",
            " [ 7  8  9]]\n",
            "[[ 1  4  7]\n",
            " [ 2  5  8]\n",
            " [ 3 50  9]]\n"
          ],
          "name": "stdout"
        }
      ]
    },
    {
      "cell_type": "markdown",
      "metadata": {
        "id": "0KFkbpSeof7i",
        "colab_type": "text"
      },
      "source": [
        "> ### Dimension shuffling"
      ]
    },
    {
      "cell_type": "code",
      "metadata": {
        "id": "1CjP6th3ofnY",
        "colab_type": "code",
        "colab": {
          "base_uri": "https://localhost:8080/",
          "height": 493
        },
        "outputId": "f93e8264-bbac-46d7-8af6-7c51d1544137"
      },
      "source": [
        "# p. 56 : 이 부분 조금 헷갈리면서 어려움. 다시 볼 것!\n",
        "a = np.arange(4*3*2).reshape((4, 3, 2))+1\n",
        "\n",
        "print(a[0, 2, 1])\n",
        "print(a)\n",
        "print(a.shape)\n",
        "\n",
        "b = a.transpose((1, 2, 0))\n",
        "print(b.shape)\n",
        "print(b[2, 1, 0])\n",
        "print(b)\n",
        "print(b.shape)\n",
        "\n"
      ],
      "execution_count": 132,
      "outputs": [
        {
          "output_type": "stream",
          "text": [
            "6\n",
            "[[[ 1  2]\n",
            "  [ 3  4]\n",
            "  [ 5  6]]\n",
            "\n",
            " [[ 7  8]\n",
            "  [ 9 10]\n",
            "  [11 12]]\n",
            "\n",
            " [[13 14]\n",
            "  [15 16]\n",
            "  [17 18]]\n",
            "\n",
            " [[19 20]\n",
            "  [21 22]\n",
            "  [23 24]]]\n",
            "(4, 3, 2)\n",
            "(3, 2, 4)\n",
            "6\n",
            "[[[ 1  7 13 19]\n",
            "  [ 2  8 14 20]]\n",
            "\n",
            " [[ 3  9 15 21]\n",
            "  [ 4 10 16 22]]\n",
            "\n",
            " [[ 5 11 17 23]\n",
            "  [ 6 12 18 24]]]\n",
            "(3, 2, 4)\n"
          ],
          "name": "stdout"
        }
      ]
    }
  ]
}