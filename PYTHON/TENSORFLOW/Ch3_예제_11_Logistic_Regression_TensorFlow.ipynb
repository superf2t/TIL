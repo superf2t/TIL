{
  "nbformat": 4,
  "nbformat_minor": 0,
  "metadata": {
    "colab": {
      "name": "Ch3_예제_11_Logistic_Regression_TensorFlow.ipynb",
      "provenance": [],
      "collapsed_sections": [],
      "include_colab_link": true
    },
    "kernelspec": {
      "name": "python3",
      "display_name": "Python 3"
    }
  },
  "cells": [
    {
      "cell_type": "markdown",
      "metadata": {
        "id": "view-in-github",
        "colab_type": "text"
      },
      "source": [
        "<a href=\"https://colab.research.google.com/github/KwonYN/TIL/blob/master/PYTHON/TENSORFLOW/Ch3_%EC%98%88%EC%A0%9C_11_Logistic_Regression_TensorFlow.ipynb\" target=\"_parent\"><img src=\"https://colab.research.google.com/assets/colab-badge.svg\" alt=\"Open In Colab\"/></a>"
      ]
    },
    {
      "cell_type": "markdown",
      "metadata": {
        "id": "lU_43bfkBp8d",
        "colab_type": "text"
      },
      "source": [
        "# Chapter3-3. Deep Learning 기초 : Logistic Regression"
      ]
    },
    {
      "cell_type": "markdown",
      "metadata": {
        "id": "7LtGDWFIB3WC",
        "colab_type": "text"
      },
      "source": [
        ">## [예제3-11] Logistic Regression (TensorFlow)"
      ]
    },
    {
      "cell_type": "markdown",
      "metadata": {
        "id": "2cG9iy6ACIkL",
        "colab_type": "text"
      },
      "source": [
        ">### Load modules"
      ]
    },
    {
      "cell_type": "code",
      "metadata": {
        "id": "ngKELN2ABxrS",
        "colab_type": "code",
        "colab": {
          "base_uri": "https://localhost:8080/",
          "height": 85
        },
        "outputId": "8872e767-a255-4faf-8f6b-91a9736ae052"
      },
      "source": [
        "%tensorflow_version 1.x\n",
        "\n",
        "import numpy as np\n",
        "import tensorflow as tf\n",
        "import matplotlib.pyplot as plt\n",
        "\n",
        "print(\"Module Loaded.\")\n",
        "print(\"NumPy Version :{}\".format(np.__version__))\n",
        "print(\"TensorFlow Version :{}\".format(tf.__version__))\n",
        "print(\"Matplotlib Version :{}\".format(plt.matplotlib.__version__))"
      ],
      "execution_count": 2,
      "outputs": [
        {
          "output_type": "stream",
          "text": [
            "Module Loaded.\n",
            "NumPy Version :1.17.4\n",
            "TensorFlow Version :1.15.0\n",
            "Matplotlib Version :3.1.1\n"
          ],
          "name": "stdout"
        }
      ]
    },
    {
      "cell_type": "markdown",
      "metadata": {
        "id": "2Tv96WUfCORJ",
        "colab_type": "text"
      },
      "source": [
        "> ### Input and Label"
      ]
    },
    {
      "cell_type": "code",
      "metadata": {
        "id": "nC5ZpwtCCU82",
        "colab_type": "code",
        "colab": {}
      },
      "source": [
        "# Logistic regression : Binary Classification data\n",
        "x_input = np.array([[1, 1], [2, 1], [1, 2], [0.5, 4], [4, 1], [2.5, 2.3]])\n",
        "labels = np.array([[0], [0], [0], [1], [1], [1]])"
      ],
      "execution_count": 0,
      "outputs": []
    },
    {
      "cell_type": "markdown",
      "metadata": {
        "id": "yss4K-P6USLq",
        "colab_type": "text"
      },
      "source": [
        "> ### Placeholder"
      ]
    },
    {
      "cell_type": "code",
      "metadata": {
        "id": "l0OGGGldUTq3",
        "colab_type": "code",
        "colab": {}
      },
      "source": [
        "# placeholder\n",
        "x_ph = tf.placeholder(tf.float32, (None, 2), name=\"input\")\n",
        "labels_ph = tf.placeholder(tf.float32, (None, 1), name=\"target\")"
      ],
      "execution_count": 0,
      "outputs": []
    },
    {
      "cell_type": "markdown",
      "metadata": {
        "id": "JExhp2oBULvc",
        "colab_type": "text"
      },
      "source": [
        ">### Activation Function : Sigmoid Function\n",
        ">$\\sigma(x) = \\frac{1}{1+e^{-x}}$\n",
        ">### Hypothesis : Logistic Equation\n",
        ">### $H(x) = \\sigma(XW + b$)"
      ]
    },
    {
      "cell_type": "code",
      "metadata": {
        "id": "XaZx7BnOVQSL",
        "colab_type": "code",
        "colab": {}
      },
      "source": [
        "# Weight, Bias\n",
        "w = tf.Variable(tf.random.normal((2, 1)), dtype=tf.float32, name=\"weight\")\n",
        "b = tf.Variable(tf.random.normal((1, 1)), dtype=tf.float32, name=\"bias\")\n",
        "\n",
        "hypothesis = tf.sigmoid(tf.matmul(x_ph ,w) + b)"
      ],
      "execution_count": 0,
      "outputs": []
    },
    {
      "cell_type": "markdown",
      "metadata": {
        "id": "Va9ZSFkyVOr-",
        "colab_type": "text"
      },
      "source": [
        ">### Cost Function : Cross Entropy Error\n",
        ">### $cost(W,b) = \\frac{1}{m}\\sum_{i=1}^{m}t\\log{H(x_{i}})+(1-t)\\log{(1-H(x_{i}}))$"
      ]
    },
    {
      "cell_type": "code",
      "metadata": {
        "id": "ZI06iWCwThEb",
        "colab_type": "code",
        "colab": {}
      },
      "source": [
        "cost = -tf.reduce_mean(labels_ph * tf.log(hypothesis) + (1 - labels_ph) * tf.log(1 - hypothesis))"
      ],
      "execution_count": 0,
      "outputs": []
    },
    {
      "cell_type": "markdown",
      "metadata": {
        "id": "vgSuElM4Vrs4",
        "colab_type": "text"
      },
      "source": [
        ">### Optimizer : tf.train.GradientDescentOptimizer (Gradient Descent Optimizer)"
      ]
    },
    {
      "cell_type": "code",
      "metadata": {
        "id": "_8ozWcUZVli4",
        "colab_type": "code",
        "colab": {}
      },
      "source": [
        "learning_rate = 0.01\n",
        "\n",
        "optimizer = tf.train.GradientDescentOptimizer(learning_rate)\n",
        "train = optimizer.minimize(cost)"
      ],
      "execution_count": 0,
      "outputs": []
    },
    {
      "cell_type": "markdown",
      "metadata": {
        "id": "a_miUVjCV7V3",
        "colab_type": "text"
      },
      "source": [
        ">### 학습 준비 과정"
      ]
    },
    {
      "cell_type": "code",
      "metadata": {
        "id": "N0WSeXuJV3gT",
        "colab_type": "code",
        "colab": {}
      },
      "source": [
        "N_training = 100000\n",
        "training_idx = np.arange(0, N_training+1, 1)\n",
        "cost_graph = np.zeros(N_training+1)\n",
        "check = np.array([0, 1000, 8000, 20000, 40000, N_training])\n",
        "w_trained = []\n",
        "b_trained = []\n",
        "check_idx = 0"
      ],
      "execution_count": 0,
      "outputs": []
    },
    {
      "cell_type": "markdown",
      "metadata": {
        "id": "npga6D9MWmrS",
        "colab_type": "text"
      },
      "source": [
        "### 학습 (Training)"
      ]
    },
    {
      "cell_type": "code",
      "metadata": {
        "id": "KEy-cC8rWZnJ",
        "colab_type": "code",
        "colab": {
          "base_uri": "https://localhost:8080/",
          "height": 1000
        },
        "outputId": "41374131-a9f1-47f1-a6df-9d48ac28f5ce"
      },
      "source": [
        "%%time\n",
        "# 학습 (Training)\n",
        "sess = tf.Session()\n",
        "sess.run(tf.global_variables_initializer())\n",
        "for cnt_training in range(1, N_training+1):\n",
        "    _, cost_res, w_res, b_res = sess.run((train, cost, w, b), feed_dict={x_ph: x_input, labels_ph: labels})\n",
        "    cost_graph[cnt_training-1] = cost_res\n",
        "    if check[check_idx] == cnt_training-1:\n",
        "        w_trained.append(w_res)\n",
        "        b_trained.append(b_res)\n",
        "        check_idx += 1\n",
        "    if cnt_training % 1000 == 1:\n",
        "        print(\"[{:>5}] cost = {:>10.4}, w = [[{:>7.4}] [{:>7.4}]], b = [[{:>7.4}]]\".format(cnt_training-1, cost_graph[cnt_training-1], w_res[0][0], w_res[1][0], b_res[0][0]))\n",
        "\n",
        "cost_res, w_res, b_res = sess.run((cost, w, b), feed_dict={x_ph: x_input, labels_ph: labels})\n",
        "cost_graph[cnt_training-1] = cost_res\n",
        "w_trained.append(w_res)\n",
        "b_trained.append(b_res)\n",
        "print(\"[{:>5}] cost = {:>10.4}, w = [[{:>7.4}] [{:>7.4}]], b = [[{:>7.4}]]\".format(N_training, cost_graph[N_training], w_res[0][0], w_res[1][0], b_res[0][0]))\n"
      ],
      "execution_count": 13,
      "outputs": [
        {
          "output_type": "stream",
          "text": [
            "[    0] cost =      0.945, w = [[-0.004546] [-0.3537]], b = [[-0.3654]]\n",
            "[ 1000] cost =     0.5117, w = [[ 0.3933] [ 0.4767]], b = [[ -1.216]]\n",
            "[ 2000] cost =     0.4257, w = [[ 0.5987] [  0.716]], b = [[ -2.088]]\n",
            "[ 3000] cost =     0.3628, w = [[  0.777] [ 0.9187]], b = [[ -2.832]]\n",
            "[ 4000] cost =     0.3156, w = [[  0.932] [  1.095]], b = [[ -3.478]]\n",
            "[ 5000] cost =      0.279, w = [[  1.068] [  1.249]], b = [[ -4.046]]\n",
            "[ 6000] cost =     0.2499, w = [[   1.19] [  1.387]], b = [[ -4.553]]\n",
            "[ 7000] cost =     0.2262, w = [[    1.3] [  1.511]], b = [[  -5.01]]\n",
            "[ 8000] cost =     0.2066, w = [[    1.4] [  1.625]], b = [[ -5.426]]\n",
            "[ 9000] cost =     0.1901, w = [[  1.491] [  1.728]], b = [[ -5.807]]\n",
            "[10000] cost =     0.1761, w = [[  1.576] [  1.824]], b = [[  -6.16]]\n",
            "[11000] cost =     0.1639, w = [[  1.655] [  1.913]], b = [[ -6.488]]\n",
            "[12000] cost =     0.1533, w = [[  1.728] [  1.996]], b = [[ -6.793]]\n",
            "[13000] cost =      0.144, w = [[  1.797] [  2.074]], b = [[  -7.08]]\n",
            "[14000] cost =     0.1357, w = [[  1.862] [  2.147]], b = [[  -7.35]]\n",
            "[15000] cost =     0.1284, w = [[  1.923] [  2.216]], b = [[ -7.606]]\n",
            "[16000] cost =     0.1218, w = [[  1.981] [  2.282]], b = [[ -7.848]]\n",
            "[17000] cost =     0.1158, w = [[  2.036] [  2.344]], b = [[ -8.077]]\n",
            "[18000] cost =     0.1104, w = [[  2.089] [  2.404]], b = [[ -8.296]]\n",
            "[19000] cost =     0.1054, w = [[  2.139] [  2.461]], b = [[ -8.505]]\n",
            "[20000] cost =     0.1009, w = [[  2.187] [  2.515]], b = [[ -8.705]]\n",
            "[21000] cost =    0.09673, w = [[  2.233] [  2.567]], b = [[ -8.897]]\n",
            "[22000] cost =     0.0929, w = [[  2.277] [  2.617]], b = [[ -9.081]]\n",
            "[23000] cost =    0.08936, w = [[  2.319] [  2.665]], b = [[ -9.258]]\n",
            "[24000] cost =    0.08607, w = [[   2.36] [  2.711]], b = [[ -9.428]]\n",
            "[25000] cost =    0.08302, w = [[  2.399] [  2.756]], b = [[ -9.593]]\n",
            "[26000] cost =    0.08017, w = [[  2.438] [  2.799]], b = [[ -9.751]]\n",
            "[27000] cost =    0.07751, w = [[  2.474] [  2.841]], b = [[ -9.905]]\n",
            "[28000] cost =    0.07502, w = [[   2.51] [  2.881]], b = [[ -10.05]]\n",
            "[29000] cost =    0.07268, w = [[  2.544] [   2.92]], b = [[  -10.2]]\n",
            "[30000] cost =    0.07048, w = [[  2.578] [  2.958]], b = [[ -10.34]]\n",
            "[31000] cost =    0.06841, w = [[   2.61] [  2.995]], b = [[ -10.47]]\n",
            "[32000] cost =    0.06645, w = [[  2.642] [   3.03]], b = [[  -10.6]]\n",
            "[33000] cost =    0.06461, w = [[  2.672] [  3.065]], b = [[ -10.73]]\n",
            "[34000] cost =    0.06286, w = [[  2.702] [  3.099]], b = [[ -10.85]]\n",
            "[35000] cost =     0.0612, w = [[  2.731] [  3.132]], b = [[ -10.98]]\n",
            "[36000] cost =    0.05963, w = [[   2.76] [  3.164]], b = [[ -11.09]]\n",
            "[37000] cost =    0.05813, w = [[  2.787] [  3.195]], b = [[ -11.21]]\n",
            "[38000] cost =    0.05671, w = [[  2.814] [  3.226]], b = [[ -11.32]]\n",
            "[39000] cost =    0.05536, w = [[   2.84] [  3.255]], b = [[ -11.43]]\n",
            "[40000] cost =    0.05406, w = [[  2.866] [  3.285]], b = [[ -11.54]]\n",
            "[41000] cost =    0.05283, w = [[  2.891] [  3.313]], b = [[ -11.64]]\n",
            "[42000] cost =    0.05165, w = [[  2.916] [  3.341]], b = [[ -11.74]]\n",
            "[43000] cost =    0.05052, w = [[  2.939] [  3.368]], b = [[ -11.84]]\n",
            "[44000] cost =    0.04944, w = [[  2.963] [  3.394]], b = [[ -11.94]]\n",
            "[45000] cost =     0.0484, w = [[  2.986] [  3.421]], b = [[ -12.04]]\n",
            "[46000] cost =    0.04741, w = [[  3.008] [  3.446]], b = [[ -12.13]]\n",
            "[47000] cost =    0.04645, w = [[   3.03] [  3.471]], b = [[ -12.22]]\n",
            "[48000] cost =    0.04554, w = [[  3.052] [  3.495]], b = [[ -12.31]]\n",
            "[49000] cost =    0.04466, w = [[  3.073] [   3.52]], b = [[  -12.4]]\n",
            "[50000] cost =    0.04381, w = [[  3.094] [  3.543]], b = [[ -12.49]]\n",
            "[51000] cost =    0.04299, w = [[  3.114] [  3.566]], b = [[ -12.57]]\n",
            "[52000] cost =     0.0422, w = [[  3.134] [  3.589]], b = [[ -12.66]]\n",
            "[53000] cost =    0.04144, w = [[  3.154] [  3.611]], b = [[ -12.74]]\n",
            "[54000] cost =    0.04071, w = [[  3.173] [  3.633]], b = [[ -12.82]]\n",
            "[55000] cost =       0.04, w = [[  3.192] [  3.655]], b = [[  -12.9]]\n",
            "[56000] cost =    0.03932, w = [[  3.211] [  3.676]], b = [[ -12.97]]\n",
            "[57000] cost =    0.03866, w = [[  3.229] [  3.697]], b = [[ -13.05]]\n",
            "[58000] cost =    0.03802, w = [[  3.247] [  3.717]], b = [[ -13.13]]\n",
            "[59000] cost =     0.0374, w = [[  3.265] [  3.737]], b = [[  -13.2]]\n",
            "[60000] cost =     0.0368, w = [[  3.282] [  3.757]], b = [[ -13.27]]\n",
            "[61000] cost =    0.03622, w = [[    3.3] [  3.777]], b = [[ -13.34]]\n",
            "[62000] cost =    0.03566, w = [[  3.317] [  3.796]], b = [[ -13.41]]\n",
            "[63000] cost =    0.03511, w = [[  3.333] [  3.815]], b = [[ -13.48]]\n",
            "[64000] cost =    0.03459, w = [[   3.35] [  3.833]], b = [[ -13.55]]\n",
            "[65000] cost =    0.03407, w = [[  3.366] [  3.852]], b = [[ -13.62]]\n",
            "[66000] cost =    0.03357, w = [[  3.382] [   3.87]], b = [[ -13.69]]\n",
            "[67000] cost =    0.03309, w = [[  3.397] [  3.887]], b = [[ -13.75]]\n",
            "[68000] cost =    0.03262, w = [[  3.413] [  3.905]], b = [[ -13.82]]\n",
            "[69000] cost =    0.03216, w = [[  3.428] [  3.922]], b = [[ -13.88]]\n",
            "[70000] cost =    0.03172, w = [[  3.443] [   3.94]], b = [[ -13.94]]\n",
            "[71000] cost =    0.03128, w = [[  3.458] [  3.956]], b = [[  -14.0]]\n",
            "[72000] cost =    0.03086, w = [[  3.473] [  3.973]], b = [[ -14.07]]\n",
            "[73000] cost =    0.03045, w = [[  3.487] [  3.989]], b = [[ -14.13]]\n",
            "[74000] cost =    0.03005, w = [[  3.501] [  4.006]], b = [[ -14.18]]\n",
            "[75000] cost =    0.02967, w = [[  3.515] [  4.021]], b = [[ -14.24]]\n",
            "[76000] cost =    0.02929, w = [[  3.529] [  4.037]], b = [[  -14.3]]\n",
            "[77000] cost =    0.02892, w = [[  3.543] [  4.053]], b = [[ -14.36]]\n",
            "[78000] cost =    0.02856, w = [[  3.556] [  4.068]], b = [[ -14.41]]\n",
            "[79000] cost =     0.0282, w = [[   3.57] [  4.083]], b = [[ -14.47]]\n",
            "[80000] cost =    0.02786, w = [[  3.583] [  4.098]], b = [[ -14.53]]\n",
            "[81000] cost =    0.02753, w = [[  3.596] [  4.113]], b = [[ -14.58]]\n",
            "[82000] cost =     0.0272, w = [[  3.609] [  4.128]], b = [[ -14.63]]\n",
            "[83000] cost =    0.02688, w = [[  3.622] [  4.142]], b = [[ -14.69]]\n",
            "[84000] cost =    0.02657, w = [[  3.634] [  4.157]], b = [[ -14.74]]\n",
            "[85000] cost =    0.02626, w = [[  3.647] [  4.171]], b = [[ -14.79]]\n",
            "[86000] cost =    0.02596, w = [[  3.659] [  4.185]], b = [[ -14.84]]\n",
            "[87000] cost =    0.02567, w = [[  3.671] [  4.199]], b = [[ -14.89]]\n",
            "[88000] cost =    0.02539, w = [[  3.683] [  4.212]], b = [[ -14.94]]\n",
            "[89000] cost =    0.02511, w = [[  3.695] [  4.226]], b = [[ -14.99]]\n",
            "[90000] cost =    0.02484, w = [[  3.707] [  4.239]], b = [[ -15.04]]\n",
            "[91000] cost =    0.02457, w = [[  3.719] [  4.252]], b = [[ -15.09]]\n",
            "[92000] cost =    0.02431, w = [[   3.73] [  4.265]], b = [[ -15.14]]\n",
            "[93000] cost =    0.02405, w = [[  3.742] [  4.278]], b = [[ -15.19]]\n",
            "[94000] cost =     0.0238, w = [[  3.753] [  4.291]], b = [[ -15.23]]\n",
            "[95000] cost =    0.02356, w = [[  3.764] [  4.304]], b = [[ -15.28]]\n",
            "[96000] cost =    0.02332, w = [[  3.775] [  4.316]], b = [[ -15.33]]\n",
            "[97000] cost =    0.02308, w = [[  3.786] [  4.329]], b = [[ -15.37]]\n",
            "[98000] cost =    0.02285, w = [[  3.797] [  4.341]], b = [[ -15.42]]\n",
            "[99000] cost =    0.02263, w = [[  3.808] [  4.353]], b = [[ -15.46]]\n",
            "[100000] cost =        0.0, w = [[  3.818] [  4.365]], b = [[  -15.5]]\n",
            "CPU times: user 1min 5s, sys: 3.2 s, total: 1min 8s\n",
            "Wall time: 56.6 s\n"
          ],
          "name": "stdout"
        }
      ]
    },
    {
      "cell_type": "markdown",
      "metadata": {
        "id": "ZUYdtVKBZfAq",
        "colab_type": "text"
      },
      "source": [
        ">### Hypothesis Test "
      ]
    },
    {
      "cell_type": "code",
      "metadata": {
        "id": "OvumQhhrZgKV",
        "colab_type": "code",
        "colab": {
          "base_uri": "https://localhost:8080/",
          "height": 136
        },
        "outputId": "d6c16015-712c-408c-e793-bbee688a53bb"
      },
      "source": [
        "# Training 상황에 대한 그래프 출력\n",
        "print(\"[Training Test]\")\n",
        "y = sess.run(hypothesis, feed_dict={x_ph:x_input})\n",
        "y = y.reshape((-1,))\n",
        "Y = [int(y_elem>0.5) for y_elem in y]\n",
        "for idx in range(x_input.shape[0]):\n",
        "    print(\"Input {} , Target : {} => Y :{:>2}(y:{:>5.2})\".format(x_input[idx], labels[idx], Y[idx], y[idx]))"
      ],
      "execution_count": 14,
      "outputs": [
        {
          "output_type": "stream",
          "text": [
            "[Training Test]\n",
            "Input [1. 1.] , Target : [0] => Y : 0(y:0.00066)\n",
            "Input [2. 1.] , Target : [0] => Y : 0(y:0.029)\n",
            "Input [1. 2.] , Target : [0] => Y : 0(y:0.049)\n",
            "Input [0.5 4. ] , Target : [1] => Y : 1(y: 0.98)\n",
            "Input [4. 1.] , Target : [1] => Y : 1(y: 0.98)\n",
            "Input [2.5 2.3] , Target : [1] => Y : 1(y: 0.98)\n"
          ],
          "name": "stdout"
        }
      ]
    },
    {
      "cell_type": "markdown",
      "metadata": {
        "id": "Y8OzoQZZZieC",
        "colab_type": "text"
      },
      "source": [
        ">### Plotting"
      ]
    },
    {
      "cell_type": "code",
      "metadata": {
        "id": "TvAfLJjTXHgq",
        "colab_type": "code",
        "colab": {
          "base_uri": "https://localhost:8080/",
          "height": 1000
        },
        "outputId": "34305af8-25ae-4c73-917e-20ef59bc3ded"
      },
      "source": [
        "# Training 상황에 대한 그래프 출력\n",
        "# 1)Training 회수 별 Cost 값\n",
        "fig_cost, ax_cost = plt.subplots()\n",
        "ax_cost.plot(training_idx, cost_graph)\n",
        "ax_cost.set_title(\"'Cost / Training Count' Graph\")\n",
        "ax_cost.set_xlabel(\"Train Count\")\n",
        "ax_cost.set_ylabel(\"Cost\")\n",
        "ax_cost.grid(True)\n",
        "\n",
        "\n",
        "# 2) 구분선 그려넣을 계획\n",
        "x_decision = np.linspace(0, 5, 1000)\n",
        "x_col = x_input[:, 0]\n",
        "x_row = x_input[:, 1]\n",
        "fig_hypothesis, ax_hypothesis = plt.subplots(2, 3, figsize=(15, 11))\n",
        "fig_hypothesis.suptitle(\"'Hypothesis / Training Count' Graph\")\n",
        "for ax_idx in range(check.size):\n",
        "    w = w_trained[ax_idx]\n",
        "    b = b_trained[ax_idx]\n",
        "    y_decision = -(w[0][0] * x_decision + b[0][0])/w[1][0] \n",
        "    ax_hypothesis[ax_idx // 3][ax_idx % 3].scatter(x_col[:3], x_row[:3], color='blue')\n",
        "    ax_hypothesis[ax_idx // 3][ax_idx % 3].scatter(x_col[3:], x_row[3:], color='red')\n",
        "    ax_hypothesis[ax_idx // 3][ax_idx % 3].plot(x_decision, y_decision, label=' Decision Boundary', color='green')\n",
        "    ax_hypothesis[ax_idx // 3][ax_idx % 3].set_title(\"Train Count : {}\".format(check[ax_idx]))\n",
        "    ax_hypothesis[ax_idx // 3][ax_idx % 3].set_xlim((0, 5))\n",
        "    ax_hypothesis[ax_idx // 3][ax_idx % 3].set_ylim((0, 5))\n",
        "    ax_hypothesis[ax_idx // 3][ax_idx % 3].set_xlabel(\"x\")\n",
        "    ax_hypothesis[ax_idx // 3][ax_idx % 3].set_ylabel(\"y\")\n",
        "    ax_hypothesis[ax_idx // 3][ax_idx % 3].grid(True)\n",
        "    ax_hypothesis[ax_idx // 3][ax_idx % 3].legend()\n",
        "\n",
        "plt.show()"
      ],
      "execution_count": 15,
      "outputs": [
        {
          "output_type": "display_data",
          "data": {
            "image/png": "[encoded data removed]",
            "text/plain": [
              "<Figure size 432x288 with 1 Axes>"
            ]
          },
          "metadata": {
            "tags": []
          }
        },
        {
          "output_type": "display_data",
          "data": {
            "image/png": "[encoded data removed]",
            "text/plain": [
              "<Figure size 1080x792 with 6 Axes>"
            ]
          },
          "metadata": {
            "tags": []
          }
        }
      ]
    },
    {
      "cell_type": "code",
      "metadata": {
        "id": "X5u5h-4xsTEL",
        "colab_type": "code",
        "colab": {}
      },
      "source": [
        ""
      ],
      "execution_count": 0,
      "outputs": []
    }
  ]
}