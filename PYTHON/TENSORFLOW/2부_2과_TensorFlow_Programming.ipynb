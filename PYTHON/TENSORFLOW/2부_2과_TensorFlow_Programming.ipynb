{
  "nbformat": 4,
  "nbformat_minor": 0,
  "metadata": {
    "colab": {
      "name": "2부_2과_TensorFlow_Programming.ipynb",
      "provenance": [],
      "collapsed_sections": [],
      "include_colab_link": true
    },
    "kernelspec": {
      "name": "python3",
      "display_name": "Python 3"
    },
    "accelerator": "GPU"
  },
  "cells": [
    {
      "cell_type": "markdown",
      "metadata": {
        "id": "view-in-github",
        "colab_type": "text"
      },
      "source": [
        "<a href=\"https://colab.research.google.com/github/KwonYN/TIL/blob/master/PYTHON/TENSORFLOW/2%EB%B6%80_2%EA%B3%BC_TensorFlow_Programming.ipynb\" target=\"_parent\"><img src=\"https://colab.research.google.com/assets/colab-badge.svg\" alt=\"Open In Colab\"/></a>"
      ]
    },
    {
      "cell_type": "markdown",
      "metadata": {
        "id": "ERQax80Nl2fY",
        "colab_type": "text"
      },
      "source": [
        "# Chapter2. TensorFlow 기초"
      ]
    },
    {
      "cell_type": "markdown",
      "metadata": {
        "id": "sGzEW49-Ptwy",
        "colab_type": "text"
      },
      "source": [
        " ## 2-2 TensorFlow Programming"
      ]
    },
    {
      "cell_type": "markdown",
      "metadata": {
        "id": "KpDie0bRwzEe",
        "colab_type": "text"
      },
      "source": [
        "> ### Import TensorFlow"
      ]
    },
    {
      "cell_type": "code",
      "metadata": {
        "id": "gXxAYyqxlNxp",
        "colab_type": "code",
        "colab": {
          "base_uri": "https://localhost:8080/",
          "height": 51
        },
        "outputId": "5383bde5-b990-4304-d30d-504c45432908"
      },
      "source": [
        "%tensorflow_version 1.x\n",
        "\n",
        "import numpy as np\n",
        "import tensorflow as tf\n",
        "\n",
        "print(\"NumPy Version : {}\".format(np.__version__))\n",
        "print(\"TensorFlow Version : {}\".format(tf.__version__))"
      ],
      "execution_count": 1,
      "outputs": [
        {
          "output_type": "stream",
          "text": [
            "NumPy Version : 1.17.4\n",
            "TensorFlow Version : 1.15.0\n"
          ],
          "name": "stdout"
        }
      ]
    },
    {
      "cell_type": "markdown",
      "metadata": {
        "id": "WNrALKmF5-ST",
        "colab_type": "text"
      },
      "source": [
        "> ### Example TensorFlow Program "
      ]
    },
    {
      "cell_type": "code",
      "metadata": {
        "id": "njxkAbETnKjh",
        "colab_type": "code",
        "colab": {
          "base_uri": "https://localhost:8080/",
          "height": 85
        },
        "outputId": "9a829d17-5cfa-4ade-9f98-fbf239ca1eb0"
      },
      "source": [
        "out_add = tf.add(3,4)\n",
        "out_multiply = tf.multiply(out_add, 10)\n",
        "\n",
        "print(\"out_add = {}\".format(out_add))\n",
        "print(\"out_multiply = {}\\n\".format(out_multiply))\n",
        "\n",
        "with tf.Session() as sess:\n",
        "  res = sess.run(out_multiply)\n",
        "\n",
        "print(\"res = {}\".format(res))"
      ],
      "execution_count": 2,
      "outputs": [
        {
          "output_type": "stream",
          "text": [
            "out_add = Tensor(\"Add:0\", shape=(), dtype=int32)\n",
            "out_multiply = Tensor(\"Mul:0\", shape=(), dtype=int32)\n",
            "\n",
            "res = 70\n"
          ],
          "name": "stdout"
        }
      ]
    },
    {
      "cell_type": "code",
      "metadata": {
        "id": "kDZCgBfbNGKj",
        "colab_type": "code",
        "colab": {}
      },
      "source": [
        ""
      ],
      "execution_count": 0,
      "outputs": []
    }
  ]
}