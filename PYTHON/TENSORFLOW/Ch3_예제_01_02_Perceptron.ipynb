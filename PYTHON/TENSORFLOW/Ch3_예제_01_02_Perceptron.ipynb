{
  "nbformat": 4,
  "nbformat_minor": 0,
  "metadata": {
    "colab": {
      "name": "Ch3_예제_01_02_Perceptron.ipynb",
      "provenance": [],
      "collapsed_sections": [],
      "include_colab_link": true
    },
    "kernelspec": {
      "name": "python3",
      "display_name": "Python 3"
    }
  },
  "cells": [
    {
      "cell_type": "markdown",
      "metadata": {
        "id": "view-in-github",
        "colab_type": "text"
      },
      "source": [
        "<a href=\"https://colab.research.google.com/github/KwonYN/TIL/blob/master/PYTHON/TENSORFLOW/Ch3_%EC%98%88%EC%A0%9C_01_02_Perceptron.ipynb\" target=\"_parent\"><img src=\"https://colab.research.google.com/assets/colab-badge.svg\" alt=\"Open In Colab\"/></a>"
      ]
    },
    {
      "cell_type": "markdown",
      "metadata": {
        "id": "UAoMXYfT9Cxu",
        "colab_type": "text"
      },
      "source": [
        "# Chapter3-1. Deep Learning 기초 : Perceptron"
      ]
    },
    {
      "cell_type": "markdown",
      "metadata": {
        "id": "GERwLqAKt9zH",
        "colab_type": "text"
      },
      "source": [
        "## Perceptron 수식 : $y = \\sigma(\\displaystyle\\sum_{i=1}^{3} w_{i}t_{i} + b)$"
      ]
    },
    {
      "cell_type": "markdown",
      "metadata": {
        "id": "mlGXXowZrBe0",
        "colab_type": "text"
      },
      "source": [
        "## Load modules\n",
        "\n"
      ]
    },
    {
      "cell_type": "code",
      "metadata": {
        "id": "45fKARJCmvkA",
        "colab_type": "code",
        "colab": {
          "base_uri": "https://localhost:8080/",
          "height": 51
        },
        "outputId": "5168ccb4-eeed-46c0-93f7-4e6a4a60a762"
      },
      "source": [
        "import numpy as np\n",
        "\n",
        "print(\"Module Loaded.\")\n",
        "print(\"NumPy Version :{}\".format(np.__version__))"
      ],
      "execution_count": 1,
      "outputs": [
        {
          "output_type": "stream",
          "text": [
            "Module Loaded.\n",
            "NumPy Version :1.17.4\n"
          ],
          "name": "stdout"
        }
      ]
    },
    {
      "cell_type": "markdown",
      "metadata": {
        "id": "XD_v84rZrzK4",
        "colab_type": "text"
      },
      "source": [
        "##[예제 3-1] Perceptron 구현 case #1\n"
      ]
    },
    {
      "cell_type": "markdown",
      "metadata": {
        "id": "l7X53XY3r_7T",
        "colab_type": "text"
      },
      "source": [
        "> ### Input, Weight, Bias\n",
        "\n"
      ]
    },
    {
      "cell_type": "code",
      "metadata": {
        "id": "ax1Gp-KSqnco",
        "colab_type": "code",
        "colab": {
          "base_uri": "https://localhost:8080/",
          "height": 51
        },
        "outputId": "0fd87615-bf74-45bd-f583-4904f23b0f63"
      },
      "source": [
        "# 1> Input, Weight, Bias\n",
        "X1 = np.array([1,2,3])  # input\n",
        "W1 = np.array([4,5,6])  # weight\n",
        "b1 = 10                 # bias\n",
        "\n",
        "print(\"Shape of X1 : {}\".format(X1.shape))  # input이 3개니까 weight도 3개여야 함. 사이즈뿐만 아니라 shape도 같아야!\n",
        "print(\"Shape of W1 : {}\".format(W1.shape))"
      ],
      "execution_count": 2,
      "outputs": [
        {
          "output_type": "stream",
          "text": [
            "Shape of X1 : (3,)\n",
            "Shape of W1 : (3,)\n"
          ],
          "name": "stdout"
        }
      ]
    },
    {
      "cell_type": "markdown",
      "metadata": {
        "id": "YNqOfOGBubMx",
        "colab_type": "text"
      },
      "source": [
        ">### Perceptron 연산 : 연산자 '*' 이용"
      ]
    },
    {
      "cell_type": "code",
      "metadata": {
        "id": "OYS54SF2GqhC",
        "colab_type": "code",
        "colab": {
          "base_uri": "https://localhost:8080/",
          "height": 119
        },
        "outputId": "27d2eeb8-a5cc-4955-ad48-647fc98e8165"
      },
      "source": [
        "# 2> 연산\n",
        "# Element-wise multiply : Numpy Broadcasting Rule\n",
        "mul1 = W1 * X1 \n",
        "print(\"mul1 = W1 * X1 : {}\".format(mul1))\n",
        "print(\"Shape of mul1 : {}\\n\".format(mul1.shape))\n",
        "\n",
        "# Summation array and Add bias \n",
        "s1 = np.sum(mul1) + b1 \n",
        "print(\"s1 = np.sum(mul1) + b1 : {}\".format(s1))\n",
        "print(\"Shape of s1 : {}\\n\".format(s1.shape))"
      ],
      "execution_count": 3,
      "outputs": [
        {
          "output_type": "stream",
          "text": [
            "mul1 = W1 * X1 : [ 4 10 18]\n",
            "Shape of mul1 : (3,)\n",
            "\n",
            "s1 = np.sum(mul1) + b1 : 42\n",
            "Shape of s1 : ()\n",
            "\n"
          ],
          "name": "stdout"
        }
      ]
    },
    {
      "cell_type": "code",
      "metadata": {
        "id": "xo6jrR0Pq1ak",
        "colab_type": "code",
        "colab": {
          "base_uri": "https://localhost:8080/",
          "height": 68
        },
        "outputId": "59dcfe23-5057-428e-cd4b-e65059eede20"
      },
      "source": [
        "# 3> Activation Function : Step Fuction\n",
        "y1 = np.float32(s1 > 0)             # == np.float32( True ) == np.float32( 1.0 (or 1) ) == 1.0 !!!\n",
        "print(\"y1 = np.float32(y1>0) : {}\".format(y1))\n",
        "print(\"Shape of y1 : {}\\n\".format(y1.shape))"
      ],
      "execution_count": 4,
      "outputs": [
        {
          "output_type": "stream",
          "text": [
            "y1 = np.float32(y1>0) : 1.0\n",
            "Shape of y1 : ()\n",
            "\n"
          ],
          "name": "stdout"
        }
      ]
    },
    {
      "cell_type": "markdown",
      "metadata": {
        "id": "pda8fwQYvMA2",
        "colab_type": "text"
      },
      "source": [
        "##[예제 3-2] Perceptron 구현 case #2"
      ]
    },
    {
      "cell_type": "markdown",
      "metadata": {
        "id": "VjRJaJBOvSSb",
        "colab_type": "text"
      },
      "source": [
        ">### Input, Weight, Bias\n",
        "\n"
      ]
    },
    {
      "cell_type": "code",
      "metadata": {
        "id": "fbNmU7dovKGb",
        "colab_type": "code",
        "colab": {}
      },
      "source": [
        "# Input, Weight, Bias\n",
        "X2 = np.array([1,2,3])\n",
        "W2 = np.array([4,5,6])\n",
        "b2 = 10"
      ],
      "execution_count": 0,
      "outputs": []
    },
    {
      "cell_type": "markdown",
      "metadata": {
        "id": "fyAH2pMKzc-A",
        "colab_type": "text"
      },
      "source": [
        ">### Perceptron 연산 : np.dot() 이용, Transpose 사용\n",
        "> * s2 = np.dot(X2, W2.T) + b2\n",
        ">> $S_{2}=X_2\\cdot W_2^T + b_{2}= \\begin{bmatrix}x_{1}&x_{2}&x_{3}\\end{bmatrix}\\begin{bmatrix}w_{1}\\\\w_{2}\\\\w_{3}\\end{bmatrix} + b_{2} = x_{1}w_{1} + x_{2}w_{2} + x_{3}w_{3} + b_{2} $"
      ]
    },
    {
      "cell_type": "code",
      "metadata": {
        "id": "-uqAPQGPwHnE",
        "colab_type": "code",
        "colab": {
          "base_uri": "https://localhost:8080/",
          "height": 119
        },
        "outputId": "f4121c92-e54c-4b81-dac9-67b69563fda1"
      },
      "source": [
        "# Matrix dot product with X2 and transpose of W2, Add bias B2\n",
        "s2 = np.dot(X2, W2.T) + b2 \n",
        "print(\"s2 = np.dot(X2, W2.T) + b2 : {}\".format(s2))\n",
        "print(\"Shape of s2 : {}\\n\".format(s2.shape))\n",
        "\n",
        "# Dot Product \n",
        "y2 = np.float32(s2>0) \n",
        "print(\"y2 = np.float32(s2>0) : {}\".format(y2))\n",
        "print(\"Shape of y2 : {}\\n\".format(y2.shape))"
      ],
      "execution_count": 8,
      "outputs": [
        {
          "output_type": "stream",
          "text": [
            "s2 = np.dot(X2, W2.T) + b2 : 42\n",
            "Shape of s2 : ()\n",
            "\n",
            "y2 = np.float32(s2>0) : 1.0\n",
            "Shape of y2 : ()\n",
            "\n"
          ],
          "name": "stdout"
        }
      ]
    },
    {
      "cell_type": "markdown",
      "metadata": {
        "id": "8UumLgFFckgu",
        "colab_type": "text"
      },
      "source": [
        ">### Perceptron 연산 : np.dot() 이용, Transpose 미사용"
      ]
    },
    {
      "cell_type": "code",
      "metadata": {
        "id": "-Bl1gYsFzl1u",
        "colab_type": "code",
        "colab": {
          "base_uri": "https://localhost:8080/",
          "height": 119
        },
        "outputId": "a70a62f5-e4f2-4944-9963-e9a674c41ed7"
      },
      "source": [
        "# Matrix dot product with X2 and transpose of W2, Add bias B2\n",
        "s2 = np.dot(X2, W2) + b2 \n",
        "print(\"s2 = np.dot(X2, W2) + b2 : {}\".format(s2))\n",
        "print(\"Shape of s2 : {}\\n\".format(s2.shape))\n",
        "\n",
        "# Dot Product \n",
        "y2 = np.float32(s2>0) \n",
        "print(\"y2 = np.float32(s2>0) : {}\".format(y2))\n",
        "print(\"Shape of y2 : {}\\n\".format(y2.shape))"
      ],
      "execution_count": 9,
      "outputs": [
        {
          "output_type": "stream",
          "text": [
            "s2 = np.dot(X2, W2) + b2 : 42\n",
            "Shape of s2 : ()\n",
            "\n",
            "y2 = np.float32(s2>0) : 1.0\n",
            "Shape of y2 : ()\n",
            "\n"
          ],
          "name": "stdout"
        }
      ]
    },
    {
      "cell_type": "markdown",
      "metadata": {
        "id": "zPir3m34vzX5",
        "colab_type": "text"
      },
      "source": [
        ">### W2.shape vs W2.T.shape"
      ]
    },
    {
      "cell_type": "code",
      "metadata": {
        "id": "v2QDndjZvx6K",
        "colab_type": "code",
        "colab": {
          "base_uri": "https://localhost:8080/",
          "height": 51
        },
        "outputId": "3cad34ef-24af-485c-ded1-8104a1a01887"
      },
      "source": [
        "# W2.shape vs W2.T.shape : 1차 배열의 Transpose는 원본의 결과와 똑같다!\n",
        "                          # 1행 3열과 3행 1열이라는 말은 없음!! 그냥 요소가 3개인 1차비열일 뿐!!!\n",
        "print(\"Shape of W2 : {}\".format(W2.shape))\n",
        "print(\"Shape of W2.T : {}\".format(W2.T.shape))"
      ],
      "execution_count": 10,
      "outputs": [
        {
          "output_type": "stream",
          "text": [
            "Shape of W2 : (3,)\n",
            "Shape of W2.T : (3,)\n"
          ],
          "name": "stdout"
        }
      ]
    },
    {
      "cell_type": "code",
      "metadata": {
        "id": "PJoo6hYPJOic",
        "colab_type": "code",
        "colab": {}
      },
      "source": [
        ""
      ],
      "execution_count": 0,
      "outputs": []
    }
  ]
}