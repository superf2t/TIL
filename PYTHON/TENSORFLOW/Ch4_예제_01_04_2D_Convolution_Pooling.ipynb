{
  "nbformat": 4,
  "nbformat_minor": 0,
  "metadata": {
    "colab": {
      "name": "Ch4_예제_01_04_2D_Convolution_Pooling.ipynb",
      "provenance": [],
      "collapsed_sections": [],
      "include_colab_link": true
    },
    "kernelspec": {
      "name": "python3",
      "display_name": "Python 3"
    },
    "accelerator": "TPU"
  },
  "cells": [
    {
      "cell_type": "markdown",
      "metadata": {
        "id": "view-in-github",
        "colab_type": "text"
      },
      "source": [
        "<a href=\"https://colab.research.google.com/github/KwonYN/TIL/blob/master/PYTHON/TENSORFLOW/Ch4_%EC%98%88%EC%A0%9C_01_04_2D_Convolution_Pooling.ipynb\" target=\"_parent\"><img src=\"https://colab.research.google.com/assets/colab-badge.svg\" alt=\"Open In Colab\"/></a>"
      ]
    },
    {
      "cell_type": "markdown",
      "metadata": {
        "id": "UAoMXYfT9Cxu",
        "colab_type": "text"
      },
      "source": [
        "# Chapter4-2. CNN 기본연산"
      ]
    },
    {
      "cell_type": "markdown",
      "metadata": {
        "id": "gHtZSFJeJ3Ps",
        "colab_type": "text"
      },
      "source": [
        "> ### Load Module"
      ]
    },
    {
      "cell_type": "code",
      "metadata": {
        "id": "gXxAYyqxlNxp",
        "colab_type": "code",
        "outputId": "d138143b-f096-4cf2-cb14-7cec50a8e556",
        "colab": {
          "base_uri": "https://localhost:8080/",
          "height": 85
        }
      },
      "source": [
        "%tensorflow_version 1.x\n",
        "\n",
        "import numpy as np\n",
        "import tensorflow as tf\n",
        "import matplotlib.pyplot as plt\n",
        "\n",
        "print(\"Module Loaded.\")\n",
        "print(\"NumPy Version :{}\".format(np.__version__))\n",
        "print(\"TensorFlow Version :{}\".format(tf.__version__))\n",
        "print(\"Matplotlib Version :{}\".format(plt.matplotlib.__version__))"
      ],
      "execution_count": 1,
      "outputs": [
        {
          "output_type": "stream",
          "text": [
            "Module Loaded.\n",
            "NumPy Version :1.17.4\n",
            "TensorFlow Version :1.15.0\n",
            "Matplotlib Version :3.1.2\n"
          ],
          "name": "stdout"
        }
      ]
    },
    {
      "cell_type": "code",
      "metadata": {
        "id": "YnHrtyVaTlP6",
        "colab_type": "code",
        "colab": {
          "base_uri": "https://localhost:8080/",
          "height": 34
        },
        "outputId": "568b7e8d-2e96-4e4d-8148-b8bfbfd5b27d"
      },
      "source": [
        "def Print_Array(np_array:np.ndarray, title:str)->None:\n",
        "  print(\"Shape of {} : {}\".format(title,np_array.shape))\n",
        "  print(np_array)\n"
      ],
      "execution_count": 29,
      "outputs": [
        {
          "output_type": "stream",
          "text": [
            "6272\n"
          ],
          "name": "stdout"
        }
      ]
    },
    {
      "cell_type": "markdown",
      "metadata": {
        "id": "3H6wAye32EMx",
        "colab_type": "text"
      },
      "source": [
        "## [예제1] 2D Convolution"
      ]
    },
    {
      "cell_type": "markdown",
      "metadata": {
        "id": "jWt-RmncOY5G",
        "colab_type": "text"
      },
      "source": [
        "> ### [ Shape 정보 ]\n",
        "> ### Input, Output Shape => NHWC format\n",
        "> ### Filter Shape => [filter_height, filter_width, in_channels, out_channels]"
      ]
    },
    {
      "cell_type": "markdown",
      "metadata": {
        "id": "HNjOqMdmOGEY",
        "colab_type": "text"
      },
      "source": [
        "> ### [Conv Exam1] Input shape = (1,5,5,1), Filter = (2,2,1,1)`"
      ]
    },
    {
      "cell_type": "code",
      "metadata": {
        "id": "rPHfi-7BJ-J9",
        "colab_type": "code",
        "outputId": "2a6edb66-0b92-4b74-d915-69a1a5e43a6b",
        "colab": {
          "base_uri": "https://localhost:8080/",
          "height": 1000
        }
      },
      "source": [
        "print(\"[Conv Exam1] Input shape(NHWC) = (1,5,5,1), Filter = (2,2,1,1)\")\n",
        "\n",
        "#          np.arange(start, stop, step, dtype순!!)\n",
        "np_input = np.arange(1,26,1,dtype=np.float32).reshape((1,5,5,1))\n",
        "# 1, 2, 3, ..., 25 -> reshape to=( batch=1, height=5, width=5, channel=1 )\n",
        "\n",
        "np_filter = np.array([1,1,1,1],dtype=np.float32).reshape((2,2,1,1))\n",
        "# [1, 1, 1, 1]인 1차원 list를 shape( filter_height=2, width=2, input_channel_cnt=1, filter_cnt=1 )\n",
        "\n",
        "input_constant = tf.constant(np_input)\n",
        "filter_constant = tf.constant(np_filter)\n",
        "print(\"input_constant = {}, filter_constant = {}\".format(input_constant, filter_constant))\n",
        "\n",
        "print('------------------------------------------------------------------------------------')\n",
        "# conv의 타입은 input인 np_input과 동일한 data_format Tensor일 것! =? input이 NHWC라면, conv 또한 NHWC\n",
        "conv = tf.nn.conv2d(input_constant, filter=filter_constant, padding=\"VALID\")\n",
        "print(np_input.shape, conv.shape)\n",
        "\n",
        "with tf.Session() as sess:\n",
        "  out = sess.run(conv)\n",
        "\n",
        "Print_Array(out, \"Output\")\n",
        "Print_Array(np_input, \"Input\")\n",
        "Print_Array(np_filter, \"Filter\")"
      ],
      "execution_count": 12,
      "outputs": [
        {
          "output_type": "stream",
          "text": [
            "[Conv Exam1] Input shape(NHWC) = (1,5,5,1), Filter = (2,2,1,1)\n",
            "input_constant = Tensor(\"Const_16:0\", shape=(1, 5, 5, 1), dtype=float32), filter_constant = Tensor(\"Const_17:0\", shape=(2, 2, 1, 1), dtype=float32)\n",
            "------------------------------------------------------------------------------------\n",
            "(1, 5, 5, 1) (1, 4, 4, 1)\n",
            "Shape of Output : (1, 4, 4, 1)\n",
            "[[[[16.]\n",
            "   [20.]\n",
            "   [24.]\n",
            "   [28.]]\n",
            "\n",
            "  [[36.]\n",
            "   [40.]\n",
            "   [44.]\n",
            "   [48.]]\n",
            "\n",
            "  [[56.]\n",
            "   [60.]\n",
            "   [64.]\n",
            "   [68.]]\n",
            "\n",
            "  [[76.]\n",
            "   [80.]\n",
            "   [84.]\n",
            "   [88.]]]]\n",
            "Shape of Input : (1, 5, 5, 1)\n",
            "[[[[ 1.]\n",
            "   [ 2.]\n",
            "   [ 3.]\n",
            "   [ 4.]\n",
            "   [ 5.]]\n",
            "\n",
            "  [[ 6.]\n",
            "   [ 7.]\n",
            "   [ 8.]\n",
            "   [ 9.]\n",
            "   [10.]]\n",
            "\n",
            "  [[11.]\n",
            "   [12.]\n",
            "   [13.]\n",
            "   [14.]\n",
            "   [15.]]\n",
            "\n",
            "  [[16.]\n",
            "   [17.]\n",
            "   [18.]\n",
            "   [19.]\n",
            "   [20.]]\n",
            "\n",
            "  [[21.]\n",
            "   [22.]\n",
            "   [23.]\n",
            "   [24.]\n",
            "   [25.]]]]\n",
            "Shape of Filter : (2, 2, 1, 1)\n",
            "[[[[1.]]\n",
            "\n",
            "  [[1.]]]\n",
            "\n",
            "\n",
            " [[[1.]]\n",
            "\n",
            "  [[1.]]]]\n"
          ],
          "name": "stdout"
        }
      ]
    },
    {
      "cell_type": "markdown",
      "metadata": {
        "id": "FLDCQ0MTr4X0",
        "colab_type": "text"
      },
      "source": [
        "> ### [Conv Exam2] Input shape = (1,5,5,3), Filter = (2,2,3,1)"
      ]
    },
    {
      "cell_type": "code",
      "metadata": {
        "id": "yG2mhHLKL5Gr",
        "colab_type": "code",
        "outputId": "e1f839b4-4773-4047-e1e2-f7d241b32880",
        "colab": {
          "base_uri": "https://localhost:8080/",
          "height": 1000
        }
      },
      "source": [
        "print(\"[Conv Exam2] Input shape = (1,5,5,3), Filter = (2,2,3,1)\")\n",
        "\n",
        "np_input = np.arange(1,76,1,dtype=np.float32).reshape((1,5,5,3))\n",
        "np_filter = np.array([1]*12,dtype=np.float32).reshape((2,2,3,1))\n",
        "\n",
        "input_constant = tf.constant(np_input)\n",
        "filter_constant = tf.constant(np_filter)\n",
        "\n",
        "print('------------------------------------------------------------------------')\n",
        "conv = tf.nn.conv2d(input_constant, filter=filter_constant, padding=\"VALID\")\n",
        "print(conv.shape)\n",
        "\n",
        "sess = tf.Session()\n",
        "with tf.Session() as sess:\n",
        "  out = sess.run(conv)\n",
        "\n",
        "Print_Array(np_input, \"Input\")\n",
        "Print_Array(np_filter, \"Filter\")\n",
        "Print_Array(out, \"Output\")"
      ],
      "execution_count": 17,
      "outputs": [
        {
          "output_type": "stream",
          "text": [
            "[Conv Exam2] Input shape = (1,5,5,3), Filter = (2,2,3,1)\n",
            "------------------------------------------------------------------------\n",
            "(1, 4, 4, 1)\n",
            "Shape of Input : (1, 5, 5, 3)\n",
            "[[[[ 1.  2.  3.]\n",
            "   [ 4.  5.  6.]\n",
            "   [ 7.  8.  9.]\n",
            "   [10. 11. 12.]\n",
            "   [13. 14. 15.]]\n",
            "\n",
            "  [[16. 17. 18.]\n",
            "   [19. 20. 21.]\n",
            "   [22. 23. 24.]\n",
            "   [25. 26. 27.]\n",
            "   [28. 29. 30.]]\n",
            "\n",
            "  [[31. 32. 33.]\n",
            "   [34. 35. 36.]\n",
            "   [37. 38. 39.]\n",
            "   [40. 41. 42.]\n",
            "   [43. 44. 45.]]\n",
            "\n",
            "  [[46. 47. 48.]\n",
            "   [49. 50. 51.]\n",
            "   [52. 53. 54.]\n",
            "   [55. 56. 57.]\n",
            "   [58. 59. 60.]]\n",
            "\n",
            "  [[61. 62. 63.]\n",
            "   [64. 65. 66.]\n",
            "   [67. 68. 69.]\n",
            "   [70. 71. 72.]\n",
            "   [73. 74. 75.]]]]\n",
            "Shape of Filter : (2, 2, 3, 1)\n",
            "[[[[1.]\n",
            "   [1.]\n",
            "   [1.]]\n",
            "\n",
            "  [[1.]\n",
            "   [1.]\n",
            "   [1.]]]\n",
            "\n",
            "\n",
            " [[[1.]\n",
            "   [1.]\n",
            "   [1.]]\n",
            "\n",
            "  [[1.]\n",
            "   [1.]\n",
            "   [1.]]]]\n",
            "Shape of Output : (1, 4, 4, 1)\n",
            "[[[[132.]\n",
            "   [168.]\n",
            "   [204.]\n",
            "   [240.]]\n",
            "\n",
            "  [[312.]\n",
            "   [348.]\n",
            "   [384.]\n",
            "   [420.]]\n",
            "\n",
            "  [[492.]\n",
            "   [528.]\n",
            "   [564.]\n",
            "   [600.]]\n",
            "\n",
            "  [[672.]\n",
            "   [708.]\n",
            "   [744.]\n",
            "   [780.]]]]\n"
          ],
          "name": "stdout"
        }
      ]
    },
    {
      "cell_type": "markdown",
      "metadata": {
        "colab_type": "text",
        "id": "NqR_BAtXvX18"
      },
      "source": [
        "> ### [Conv Exam3] Input shape = (1,5,5,3), Filter = (2,2,3,6)"
      ]
    },
    {
      "cell_type": "code",
      "metadata": {
        "id": "bk2Y6y_UsHVb",
        "colab_type": "code",
        "outputId": "3a100f5d-2737-4ac8-f5d9-1526daa52bed",
        "colab": {
          "base_uri": "https://localhost:8080/",
          "height": 1000
        }
      },
      "source": [
        "print(\"[Conv Exam3] Input shape = (1,5,5,3), Filter = (2,2,3,6)\")\n",
        "\n",
        "np_input = np.arange(1,76,1,dtype=np.float32).reshape((1,5,5,3))\n",
        "                                            # shape = \"NWHC\" format = (batch=1, height=5, width=5, channel=3)\n",
        "np_filter = np.array([1]*2*2*3*6,dtype=np.float32).reshape((2,2,3,6))\n",
        "# 1 channel 당 2by2 배열 * 3 channel * 6개 filter   # filter shape = (height=2, width=2, input channel=3, output channel=6)\n",
        "\n",
        "input_constant = tf.constant(np_input)\n",
        "filter_constant = tf.constant(np_filter)\n",
        "print(input_constant, np_filter, sep='\\n')\n",
        "\n",
        "print('------------------------------------------------------------------------')\n",
        "conv = tf.nn.conv2d(input_constant, filter=filter_constant, padding=\"VALID\")\n",
        "print(conv.shape)\n",
        "\n",
        "sess = tf.Session()\n",
        "with tf.Session() as sess:\n",
        "  out = sess.run(conv)\n",
        "\n",
        "Print_Array(np_input, \"Input\")\n",
        "Print_Array(np_filter, \"Filter\")\n",
        "Print_Array(out, \"Output\")"
      ],
      "execution_count": 16,
      "outputs": [
        {
          "output_type": "stream",
          "text": [
            "[Conv Exam3] Input shape = (1,5,5,3), Filter = (2,2,3,6)\n",
            "Tensor(\"Const_24:0\", shape=(1, 5, 5, 3), dtype=float32)\n",
            "[[[[1. 1. 1. 1. 1. 1.]\n",
            "   [1. 1. 1. 1. 1. 1.]\n",
            "   [1. 1. 1. 1. 1. 1.]]\n",
            "\n",
            "  [[1. 1. 1. 1. 1. 1.]\n",
            "   [1. 1. 1. 1. 1. 1.]\n",
            "   [1. 1. 1. 1. 1. 1.]]]\n",
            "\n",
            "\n",
            " [[[1. 1. 1. 1. 1. 1.]\n",
            "   [1. 1. 1. 1. 1. 1.]\n",
            "   [1. 1. 1. 1. 1. 1.]]\n",
            "\n",
            "  [[1. 1. 1. 1. 1. 1.]\n",
            "   [1. 1. 1. 1. 1. 1.]\n",
            "   [1. 1. 1. 1. 1. 1.]]]]\n",
            "------------------------------------------------------------------------\n",
            "(1, 4, 4, 6)\n",
            "Shape of Input : (1, 5, 5, 3)\n",
            "[[[[ 1.  2.  3.]\n",
            "   [ 4.  5.  6.]\n",
            "   [ 7.  8.  9.]\n",
            "   [10. 11. 12.]\n",
            "   [13. 14. 15.]]\n",
            "\n",
            "  [[16. 17. 18.]\n",
            "   [19. 20. 21.]\n",
            "   [22. 23. 24.]\n",
            "   [25. 26. 27.]\n",
            "   [28. 29. 30.]]\n",
            "\n",
            "  [[31. 32. 33.]\n",
            "   [34. 35. 36.]\n",
            "   [37. 38. 39.]\n",
            "   [40. 41. 42.]\n",
            "   [43. 44. 45.]]\n",
            "\n",
            "  [[46. 47. 48.]\n",
            "   [49. 50. 51.]\n",
            "   [52. 53. 54.]\n",
            "   [55. 56. 57.]\n",
            "   [58. 59. 60.]]\n",
            "\n",
            "  [[61. 62. 63.]\n",
            "   [64. 65. 66.]\n",
            "   [67. 68. 69.]\n",
            "   [70. 71. 72.]\n",
            "   [73. 74. 75.]]]]\n",
            "Shape of Filter : (2, 2, 3, 6)\n",
            "[[[[1. 1. 1. 1. 1. 1.]\n",
            "   [1. 1. 1. 1. 1. 1.]\n",
            "   [1. 1. 1. 1. 1. 1.]]\n",
            "\n",
            "  [[1. 1. 1. 1. 1. 1.]\n",
            "   [1. 1. 1. 1. 1. 1.]\n",
            "   [1. 1. 1. 1. 1. 1.]]]\n",
            "\n",
            "\n",
            " [[[1. 1. 1. 1. 1. 1.]\n",
            "   [1. 1. 1. 1. 1. 1.]\n",
            "   [1. 1. 1. 1. 1. 1.]]\n",
            "\n",
            "  [[1. 1. 1. 1. 1. 1.]\n",
            "   [1. 1. 1. 1. 1. 1.]\n",
            "   [1. 1. 1. 1. 1. 1.]]]]\n",
            "Shape of Output : (1, 4, 4, 6)\n",
            "[[[[132. 132. 132. 132. 132. 132.]\n",
            "   [168. 168. 168. 168. 168. 168.]\n",
            "   [204. 204. 204. 204. 204. 204.]\n",
            "   [240. 240. 240. 240. 240. 240.]]\n",
            "\n",
            "  [[312. 312. 312. 312. 312. 312.]\n",
            "   [348. 348. 348. 348. 348. 348.]\n",
            "   [384. 384. 384. 384. 384. 384.]\n",
            "   [420. 420. 420. 420. 420. 420.]]\n",
            "\n",
            "  [[492. 492. 492. 492. 492. 492.]\n",
            "   [528. 528. 528. 528. 528. 528.]\n",
            "   [564. 564. 564. 564. 564. 564.]\n",
            "   [600. 600. 600. 600. 600. 600.]]\n",
            "\n",
            "  [[672. 672. 672. 672. 672. 672.]\n",
            "   [708. 708. 708. 708. 708. 708.]\n",
            "   [744. 744. 744. 744. 744. 744.]\n",
            "   [780. 780. 780. 780. 780. 780.]]]]\n"
          ],
          "name": "stdout"
        }
      ]
    },
    {
      "cell_type": "markdown",
      "metadata": {
        "id": "fzhjBDeqdbpc",
        "colab_type": "text"
      },
      "source": [
        "## [예제2] 2D Convolution : Padding"
      ]
    },
    {
      "cell_type": "markdown",
      "metadata": {
        "id": "SCysRk3fk0gm",
        "colab_type": "text"
      },
      "source": [
        ">### [Conv-Padding Exam] Input shape(NHWC) = (1,5,5,1), Filter = (3,3,1,1)"
      ]
    },
    {
      "cell_type": "code",
      "metadata": {
        "id": "vf93OsuZdnF-",
        "colab_type": "code",
        "outputId": "a0752f83-8e6b-404f-9b6d-13452de8ece6",
        "colab": {
          "base_uri": "https://localhost:8080/",
          "height": 1000
        }
      },
      "source": [
        "print(\"[Conv-Padding Exam] Input shape(NHWC) = (1,5,5,1), Filter = (3,3,1,1)\")\n",
        "\n",
        "np_input = np.arange(1,26,1,dtype=np.float32).reshape((1,5,5,1))\n",
        "np_filter = np.array([1]*9,dtype=np.float32).reshape((3,3,1,1))\n",
        "\n",
        "input_constant = tf.constant(np_input)\n",
        "filter_constant = tf.constant(np_filter)\n",
        "\n",
        "print(\"-------------------------------------------------------------------------------\")\n",
        "conv = tf.nn.conv2d(input_constant, filter=filter_constant, padding=\"VALID\")\n",
        "conv_padding = tf.nn.conv2d(input_constant, filter=filter_constant, padding=\"SAME\")\n",
        "print(\"conv.shape = {}, conv_padding.shape = {}\".format(conv.shape, conv_padding.shape))\n",
        "\n",
        "with tf.Session() as sess:\n",
        "  out,out_padding = sess.run((conv, conv_padding))\n",
        "\n",
        "Print_Array(np_input, \"Input\")\n",
        "Print_Array(np_filter, \"Filter\")\n",
        "Print_Array(out, \"Output\")\n",
        "Print_Array(out_padding, \"Output with Zero Padding\")"
      ],
      "execution_count": 22,
      "outputs": [
        {
          "output_type": "stream",
          "text": [
            "[Conv-Padding Exam] Input shape(NHWC) = (1,5,5,1), Filter = (3,3,1,1)\n",
            "-------------------------------------------------------------------------------\n",
            "conv.shape = (1, 3, 3, 1), conv_padding.shape = (1, 5, 5, 1)\n",
            "Shape of Input : (1, 5, 5, 1)\n",
            "[[[[ 1.]\n",
            "   [ 2.]\n",
            "   [ 3.]\n",
            "   [ 4.]\n",
            "   [ 5.]]\n",
            "\n",
            "  [[ 6.]\n",
            "   [ 7.]\n",
            "   [ 8.]\n",
            "   [ 9.]\n",
            "   [10.]]\n",
            "\n",
            "  [[11.]\n",
            "   [12.]\n",
            "   [13.]\n",
            "   [14.]\n",
            "   [15.]]\n",
            "\n",
            "  [[16.]\n",
            "   [17.]\n",
            "   [18.]\n",
            "   [19.]\n",
            "   [20.]]\n",
            "\n",
            "  [[21.]\n",
            "   [22.]\n",
            "   [23.]\n",
            "   [24.]\n",
            "   [25.]]]]\n",
            "Shape of Filter : (3, 3, 1, 1)\n",
            "[[[[1.]]\n",
            "\n",
            "  [[1.]]\n",
            "\n",
            "  [[1.]]]\n",
            "\n",
            "\n",
            " [[[1.]]\n",
            "\n",
            "  [[1.]]\n",
            "\n",
            "  [[1.]]]\n",
            "\n",
            "\n",
            " [[[1.]]\n",
            "\n",
            "  [[1.]]\n",
            "\n",
            "  [[1.]]]]\n",
            "Shape of Output : (1, 3, 3, 1)\n",
            "[[[[ 63.]\n",
            "   [ 72.]\n",
            "   [ 81.]]\n",
            "\n",
            "  [[108.]\n",
            "   [117.]\n",
            "   [126.]]\n",
            "\n",
            "  [[153.]\n",
            "   [162.]\n",
            "   [171.]]]]\n",
            "Shape of Output with Zero Padding : (1, 5, 5, 1)\n",
            "[[[[ 16.]\n",
            "   [ 27.]\n",
            "   [ 33.]\n",
            "   [ 39.]\n",
            "   [ 28.]]\n",
            "\n",
            "  [[ 39.]\n",
            "   [ 63.]\n",
            "   [ 72.]\n",
            "   [ 81.]\n",
            "   [ 57.]]\n",
            "\n",
            "  [[ 69.]\n",
            "   [108.]\n",
            "   [117.]\n",
            "   [126.]\n",
            "   [ 87.]]\n",
            "\n",
            "  [[ 99.]\n",
            "   [153.]\n",
            "   [162.]\n",
            "   [171.]\n",
            "   [117.]]\n",
            "\n",
            "  [[ 76.]\n",
            "   [117.]\n",
            "   [123.]\n",
            "   [129.]\n",
            "   [ 88.]]]]\n"
          ],
          "name": "stdout"
        }
      ]
    },
    {
      "cell_type": "markdown",
      "metadata": {
        "id": "hiKsqUjD6dbL",
        "colab_type": "text"
      },
      "source": [
        "## [예제3] 2D Convolution : Stride"
      ]
    },
    {
      "cell_type": "markdown",
      "metadata": {
        "id": "A8JQwUWB6wGM",
        "colab_type": "text"
      },
      "source": [
        ">### [Conv - Stride  Exam] Input shape(NHWC) = (1,5,5,1), Filter = (2,2,1,1), stride 1"
      ]
    },
    {
      "cell_type": "code",
      "metadata": {
        "id": "BV0RoY4T6nN4",
        "colab_type": "code",
        "outputId": "c4d2df32-0c10-44ae-81e2-0fa95b19acc9",
        "colab": {
          "base_uri": "https://localhost:8080/",
          "height": 1000
        }
      },
      "source": [
        "print(\"[Conv - Stride  Exam] Input shape(NHWC) = (1,5,5,1), Filter = (2,2,1,1)\")\n",
        "\n",
        "np_input = np.arange(1,26,1,dtype=np.float32).reshape((1,5,5,1))\n",
        "np_filter = np.array([1,1,1,1],dtype=np.float32).reshape((2,2,1,1))\n",
        "\n",
        "input_constant = tf.constant(np_input)\n",
        "filter_constant = tf.constant(np_filter)\n",
        "\n",
        "conv = tf.nn.conv2d(input_constant, filter=filter_constant, padding=\"VALID\")\n",
        "conv_stride_2 = tf.nn.conv2d(input_constant, filter=filter_constant, strides=2,padding=\"VALID\")\n",
        "\n",
        "with tf.Session() as sess:\n",
        "  out, out_stride2 = sess.run((conv,conv_stride_2))\n",
        "\n",
        "Print_Array(np_input, \"Input\")\n",
        "Print_Array(np_filter, \"Filter\")\n",
        "Print_Array(out, \"Output with Stride = None\")\n",
        "Print_Array(out_stride2, \"Output with Stride = 2\")"
      ],
      "execution_count": 23,
      "outputs": [
        {
          "output_type": "stream",
          "text": [
            "[Conv - Stride  Exam] Input shape(NHWC) = (1,5,5,1), Filter = (2,2,1,1)\n",
            "Shape of Input : (1, 5, 5, 1)\n",
            "[[[[ 1.]\n",
            "   [ 2.]\n",
            "   [ 3.]\n",
            "   [ 4.]\n",
            "   [ 5.]]\n",
            "\n",
            "  [[ 6.]\n",
            "   [ 7.]\n",
            "   [ 8.]\n",
            "   [ 9.]\n",
            "   [10.]]\n",
            "\n",
            "  [[11.]\n",
            "   [12.]\n",
            "   [13.]\n",
            "   [14.]\n",
            "   [15.]]\n",
            "\n",
            "  [[16.]\n",
            "   [17.]\n",
            "   [18.]\n",
            "   [19.]\n",
            "   [20.]]\n",
            "\n",
            "  [[21.]\n",
            "   [22.]\n",
            "   [23.]\n",
            "   [24.]\n",
            "   [25.]]]]\n",
            "Shape of Filter : (2, 2, 1, 1)\n",
            "[[[[1.]]\n",
            "\n",
            "  [[1.]]]\n",
            "\n",
            "\n",
            " [[[1.]]\n",
            "\n",
            "  [[1.]]]]\n",
            "Shape of Output with Stride = None : (1, 4, 4, 1)\n",
            "[[[[16.]\n",
            "   [20.]\n",
            "   [24.]\n",
            "   [28.]]\n",
            "\n",
            "  [[36.]\n",
            "   [40.]\n",
            "   [44.]\n",
            "   [48.]]\n",
            "\n",
            "  [[56.]\n",
            "   [60.]\n",
            "   [64.]\n",
            "   [68.]]\n",
            "\n",
            "  [[76.]\n",
            "   [80.]\n",
            "   [84.]\n",
            "   [88.]]]]\n",
            "Shape of Output with Stride = 2 : (1, 2, 2, 1)\n",
            "[[[[16.]\n",
            "   [24.]]\n",
            "\n",
            "  [[56.]\n",
            "   [64.]]]]\n"
          ],
          "name": "stdout"
        }
      ]
    },
    {
      "cell_type": "markdown",
      "metadata": {
        "colab_type": "text",
        "id": "F5cCw1ew5GMC"
      },
      "source": [
        "## [예제4] Pooling : Max Pooling"
      ]
    },
    {
      "cell_type": "markdown",
      "metadata": {
        "colab_type": "text",
        "id": "l9uG5f0p5GMM"
      },
      "source": [
        "> ### [Pooling Exam1] Input shape(NHWC) = (1,4,4,1), ksize = 2, strides = 2"
      ]
    },
    {
      "cell_type": "code",
      "metadata": {
        "colab_type": "code",
        "outputId": "6d1c653a-8cc8-4b8a-c51f-867867e0e0a0",
        "id": "hJc09wob5GMP",
        "colab": {
          "base_uri": "https://localhost:8080/",
          "height": 646
        }
      },
      "source": [
        "print(\"[Pooling Exam1] Input shape(NHWC) = (1,4,4,1), ksize = 2, strides = 2\")\n",
        "\n",
        "np_input = np.array([[1,5,6,2,9],[3,2,3,1,7],[15,0,4,1,6],[3,2,3,5,3],[3,3,5,5,3]],dtype=np.float32).reshape(1,5,5,1)\n",
        "\n",
        "input_constant = tf.constant(np_input)\n",
        "\n",
        "pool = tf.nn.max_pool2d(input_constant,ksize=2,strides=3,padding=\"VALID\")\n",
        "\n",
        "with tf.Session() as sess:\n",
        "  out = sess.run(pool)\n",
        "\n",
        "Print_Array(np_input, \"Input\")\n",
        "Print_Array(out, \"Output\")"
      ],
      "execution_count": 28,
      "outputs": [
        {
          "output_type": "stream",
          "text": [
            "[Pooling Exam1] Input shape(NHWC) = (1,4,4,1), ksize = 2, strides = 2\n",
            "Shape of Input : (1, 5, 5, 1)\n",
            "[[[[ 1.]\n",
            "   [ 5.]\n",
            "   [ 6.]\n",
            "   [ 2.]\n",
            "   [ 9.]]\n",
            "\n",
            "  [[ 3.]\n",
            "   [ 2.]\n",
            "   [ 3.]\n",
            "   [ 1.]\n",
            "   [ 7.]]\n",
            "\n",
            "  [[15.]\n",
            "   [ 0.]\n",
            "   [ 4.]\n",
            "   [ 1.]\n",
            "   [ 6.]]\n",
            "\n",
            "  [[ 3.]\n",
            "   [ 2.]\n",
            "   [ 3.]\n",
            "   [ 5.]\n",
            "   [ 3.]]\n",
            "\n",
            "  [[ 3.]\n",
            "   [ 3.]\n",
            "   [ 5.]\n",
            "   [ 5.]\n",
            "   [ 3.]]]]\n",
            "Shape of Output : (1, 2, 2, 1)\n",
            "[[[[5.]\n",
            "   [9.]]\n",
            "\n",
            "  [[3.]\n",
            "   [5.]]]]\n"
          ],
          "name": "stdout"
        }
      ]
    },
    {
      "cell_type": "markdown",
      "metadata": {
        "colab_type": "text",
        "id": "RPSb9iTw2m7I"
      },
      "source": [
        "> ### [Pooling Exam2] Input shape(NHWC) = (1,5,5,1), ksize,strides = 3  or ksize,strides = 2"
      ]
    },
    {
      "cell_type": "code",
      "metadata": {
        "colab_type": "code",
        "outputId": "173b88e8-ee86-4786-e67c-c890c32662b3",
        "id": "xxsl2SM92m7K",
        "colab": {
          "base_uri": "https://localhost:8080/",
          "height": 680
        }
      },
      "source": [
        "print(\"[Pooling Exam2] Input shape(NHWC) = (1,5,5,1), ksize,strides = 3  or ksize,strides = 2\")\n",
        "\n",
        "np_input = np.arange(1,26,1,dtype=np.float32).reshape(1,5,5,1)\n",
        "\n",
        "Print_Array(np_input, \"Input\")\n",
        "\n",
        "input_constant = tf.constant(np_input)\n",
        "\n",
        "pool_3 = tf.nn.max_pool2d(input_constant,ksize=3,strides=3,padding=\"VALID\")\n",
        "pool_2 = tf.nn.max_pool2d(input_constant,ksize=2,strides=2,padding=\"VALID\")\n",
        "\n",
        "with tf.Session() as sess:\n",
        "  out_3,out_2 = sess.run((pool_3, pool_2))\n",
        "  Print_Array(out_3, \"Output : ksize = 3, strides = 3\")\n",
        "  Print_Array(out_2, \"Output : ksize = 2, strides = 2\")"
      ],
      "execution_count": 9,
      "outputs": [
        {
          "output_type": "stream",
          "text": [
            "[Pooling Exam2] Input shape(NHWC) = (1,5,5,1), ksize,strides = 3  or ksize,strides = 2\n",
            "Shape of Input : (1, 5, 5, 1)\n",
            "[[[[ 1.]\n",
            "   [ 2.]\n",
            "   [ 3.]\n",
            "   [ 4.]\n",
            "   [ 5.]]\n",
            "\n",
            "  [[ 6.]\n",
            "   [ 7.]\n",
            "   [ 8.]\n",
            "   [ 9.]\n",
            "   [10.]]\n",
            "\n",
            "  [[11.]\n",
            "   [12.]\n",
            "   [13.]\n",
            "   [14.]\n",
            "   [15.]]\n",
            "\n",
            "  [[16.]\n",
            "   [17.]\n",
            "   [18.]\n",
            "   [19.]\n",
            "   [20.]]\n",
            "\n",
            "  [[21.]\n",
            "   [22.]\n",
            "   [23.]\n",
            "   [24.]\n",
            "   [25.]]]]\n",
            "Shape of Output : ksize = 3, strides = 3 : (1, 1, 1, 1)\n",
            "[[[[13.]]]]\n",
            "Shape of Output : ksize = 2, strides = 2 : (1, 2, 2, 1)\n",
            "[[[[ 7.]\n",
            "   [ 9.]]\n",
            "\n",
            "  [[17.]\n",
            "   [19.]]]]\n"
          ],
          "name": "stdout"
        }
      ]
    }
  ]
}