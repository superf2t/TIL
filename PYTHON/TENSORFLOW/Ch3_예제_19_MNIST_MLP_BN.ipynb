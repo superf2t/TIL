{
  "nbformat": 4,
  "nbformat_minor": 0,
  "metadata": {
    "colab": {
      "name": "Ch3_예제_19_MNIST_MLP_BN.ipynb",
      "provenance": [],
      "collapsed_sections": [],
      "include_colab_link": true
    },
    "kernelspec": {
      "name": "python3",
      "display_name": "Python 3"
    },
    "accelerator": "GPU"
  },
  "cells": [
    {
      "cell_type": "markdown",
      "metadata": {
        "id": "view-in-github",
        "colab_type": "text"
      },
      "source": [
        "<a href=\"https://colab.research.google.com/github/KwonYN/TIL/blob/master/PYTHON/TENSORFLOW/Ch3_%EC%98%88%EC%A0%9C_19_MNIST_MLP_BN.ipynb\" target=\"_parent\"><img src=\"https://colab.research.google.com/assets/colab-badge.svg\" alt=\"Open In Colab\"/></a>"
      ]
    },
    {
      "cell_type": "markdown",
      "metadata": {
        "id": "ERQax80Nl2fY",
        "colab_type": "text"
      },
      "source": [
        "# Chapter3-5. Deep Learning 기초 : Multi Layer Perceptron (MLP)"
      ]
    },
    {
      "cell_type": "markdown",
      "metadata": {
        "id": "gvu8nWycl9Qp",
        "colab_type": "text"
      },
      "source": [
        ">## [예제3-19] MNIST Classification : MLP-Batch_Normalization"
      ]
    },
    {
      "cell_type": "markdown",
      "metadata": {
        "id": "Ba-LxKfLmGVu",
        "colab_type": "text"
      },
      "source": [
        ">### Load modules"
      ]
    },
    {
      "cell_type": "code",
      "metadata": {
        "id": "gXxAYyqxlNxp",
        "colab_type": "code",
        "colab": {
          "base_uri": "https://localhost:8080/",
          "height": 85
        },
        "outputId": "ce1b1281-0019-45ec-bc88-8b95d45ad174"
      },
      "source": [
        "%tensorflow_version 1.x\n",
        "\n",
        "import numpy as np\n",
        "import tensorflow as tf\n",
        "import matplotlib.pyplot as plt\n",
        "from tensorflow.keras.datasets import mnist\n",
        "\n",
        "print(\"Module Loaded.\")\n",
        "print(\"NumPy Version :{}\".format(np.__version__))\n",
        "print(\"TensorFlow Version :{}\".format(tf.__version__))\n",
        "print(\"Matplotlib Version :{}\".format(plt.matplotlib.__version__))"
      ],
      "execution_count": 25,
      "outputs": [
        {
          "output_type": "stream",
          "text": [
            "Module Loaded.\n",
            "NumPy Version :1.17.4\n",
            "TensorFlow Version :1.15.0\n",
            "Matplotlib Version :3.1.1\n"
          ],
          "name": "stdout"
        }
      ]
    },
    {
      "cell_type": "markdown",
      "metadata": {
        "id": "9tdKm3VimauR",
        "colab_type": "text"
      },
      "source": [
        "> ### Load MNIST Data"
      ]
    },
    {
      "cell_type": "code",
      "metadata": {
        "id": "XMhaNhF0mIXK",
        "colab_type": "code",
        "colab": {}
      },
      "source": [
        "(train_data, train_labels), (test_data, test_labels) = mnist.load_data()\n",
        "\n",
        "train_data = train_data.astype(np.float32)\n",
        "train_data = train_data / 255.0\n",
        "\n",
        "test_data = test_data.astype(np.float32)\n",
        "test_data = test_data / 255.0\n",
        "\n",
        "# 이 코드가 사라졌을 것임. tensorflow.layers.flatten으로 한 번에 가능.\n",
        "#train_data = train_data.reshape((-1, 784))    # 28 * 28이었던 녀석을 Flattening한 것! :★( 행은 알아서 결정해주고!(batch size겠지!?), 열은 784로 해줘! )\n",
        "#test_data = test_data.reshape((-1, 784))\n",
        "\n",
        "train_labels = train_labels.reshape((-1, 1))\n",
        "test_labels = test_labels.reshape((-1, 1))"
      ],
      "execution_count": 0,
      "outputs": []
    },
    {
      "cell_type": "markdown",
      "metadata": {
        "id": "mgFlDyu-mgHN",
        "colab_type": "text"
      },
      "source": [
        "> ### Placeholder"
      ]
    },
    {
      "cell_type": "code",
      "metadata": {
        "id": "Vse7W7x7mh8D",
        "colab_type": "code",
        "colab": {}
      },
      "source": [
        "x_ph = tf.placeholder(tf.float32, shape=(None, 28, 28), name = \"input\")\n",
        "labels_ph = tf.placeholder(tf.int32, shape=(None,1), name=\"labels\")"
      ],
      "execution_count": 0,
      "outputs": []
    },
    {
      "cell_type": "markdown",
      "metadata": {
        "id": "M7v1V11kmrRz",
        "colab_type": "text"
      },
      "source": [
        ">### Hypothesis, Cost, Optimizer\n"
      ]
    },
    {
      "cell_type": "code",
      "metadata": {
        "id": "9gk1hqtjmhyb",
        "colab_type": "code",
        "colab": {}
      },
      "source": [
        "categories = 10\n",
        "learning_rate = 0.001\n",
        "\n",
        "# activation=~~ : 파라미터로 이렇게 선언을 해줌으로써 w와 b가 생기게 되고,\n",
        "#                 이 변수들에 대한 초기값이 필요하기 때문에 'kernel_initializer=~~~, bias_initializer=~~'와 같이 추가해줘야 함!\n",
        "\n",
        "# input layer -> hidden layer\n",
        "x_flatten = tf.layers.flatten(x_ph) # 최상위 dimension은 제외하고(batch size에 대해서는 바뀌지 않음) 그 하위 dimension을 1차원으로 flattening 시키는 것! \n",
        "layer1 = tf.layers.dense(x_flatten, 256, activation=tf.nn.sigmoid, kernel_initializer=tf.glorot_uniform_initializer, bias_initializer=tf.glorot_uniform_initializer)\n",
        "layer1_bn = tf.layers.batch_normalization(layer1)\n",
        "# => layer1의 shape = (batch size, 256)\n",
        "\n",
        "# hidden layer -> output layer\n",
        "layer2 = tf.layers.dense(layer1_bn, 256, activation=tf.nn.sigmoid, kernel_initializer=tf.glorot_uniform_initializer, bias_initializer=tf.glorot_uniform_initializer)\n",
        "layer2_bn = tf.layers.batch_normalization(layer2)\n",
        "# => layer2의 shape = (batch size, 256)\n",
        "\n",
        "# for softmax\n",
        "layer3_logits = tf.layers.dense(layer2_bn, categories, kernel_initializer=tf.glorot_normal_initializer, bias_initializer=tf.glorot_normal_initializer)\n",
        "hypothesis = tf.nn.softmax(layer3_logits) # 즉, 10개의 클래스/카테고리에 대해서 그 카테고리인지 아닌지에 대한 Decision Boundary를 그려줄 것! (10번)\n",
        "# => hypothesis의 shape = (batch size, 카테고리 수=10)\n",
        "\n",
        "labels_oh = tf.one_hot(labels_ph, categories)\n",
        "cost = tf.reduce_mean(tf.nn.softmax_cross_entropy_with_logits_v2(labels_oh, layer3_logits))\n",
        "optimizer = tf.train.GradientDescentOptimizer(learning_rate)\n",
        "train = optimizer.minimize(cost)\n"
      ],
      "execution_count": 0,
      "outputs": []
    },
    {
      "cell_type": "markdown",
      "metadata": {
        "id": "NXTYroJlnZzc",
        "colab_type": "text"
      },
      "source": [
        ">### Mini-Batch 관련"
      ]
    },
    {
      "cell_type": "code",
      "metadata": {
        "id": "dT7MkX6NDE9Q",
        "colab_type": "code",
        "colab": {}
      },
      "source": [
        "N_epoch = 1000\n",
        "batch_size = 128\n",
        "train_data_size = train_data.shape\n",
        "batch_count = train_data_size[0] //batch_size"
      ],
      "execution_count": 0,
      "outputs": []
    },
    {
      "cell_type": "markdown",
      "metadata": {
        "id": "Odw3CRkBDNmQ",
        "colab_type": "text"
      },
      "source": [
        ">### Accuracy"
      ]
    },
    {
      "cell_type": "code",
      "metadata": {
        "id": "w1mBO7zSnaVz",
        "colab_type": "code",
        "colab": {}
      },
      "source": [
        "def Accuracy(y:np.ndarray, t:np.ndarray)->np.float32:\n",
        "    return np.mean(np.equal(np.argmax(y, axis=1).reshape((-1, 1)),t).astype(np.float32))"
      ],
      "execution_count": 0,
      "outputs": []
    },
    {
      "cell_type": "markdown",
      "metadata": {
        "id": "iYroAqw9N8ZP",
        "colab_type": "text"
      },
      "source": [
        ">### 결과 출력을 위한 함수"
      ]
    },
    {
      "cell_type": "code",
      "metadata": {
        "id": "k-bIPKAdN8Mu",
        "colab_type": "code",
        "colab": {}
      },
      "source": [
        "def Make_Result_Plot(suptitle:str, data:np.ndarray, label:np.ndarray, y_max:np.ndarray):\n",
        "    fig_result, ax_result = plt.subplots(2,5,figsize=(18, 7))\n",
        "    fig_result.suptitle(suptitle)\n",
        "    for idx in range(10):\n",
        "        ax_result[idx//5][idx%5].imshow(data[idx].reshape((28,28)),cmap=\"binary\")\n",
        "        ax_result[idx//5][idx%5].set_title(\"test_data[{}] (label : {} / y : {})\".format(idx, label[idx], y_max[idx]))"
      ],
      "execution_count": 0,
      "outputs": []
    },
    {
      "cell_type": "markdown",
      "metadata": {
        "id": "Csh_RwwRTQ1Q",
        "colab_type": "text"
      },
      "source": [
        "> ### Training 준비"
      ]
    },
    {
      "cell_type": "code",
      "metadata": {
        "id": "EmmynBowTQQS",
        "colab_type": "code",
        "colab": {
          "base_uri": "https://localhost:8080/",
          "height": 479
        },
        "outputId": "0998c73e-e052-421b-c7d2-a7969e4d4951"
      },
      "source": [
        "arr_epoch = []\n",
        "arr_accu = []\n",
        "\n",
        "# 학습 (Training)\n",
        "sess = tf.Session()\n",
        "sess.run(tf.global_variables_initializer())\n",
        "\n",
        "train_data_idx = np.arange(train_data_size[0])\n",
        "\n",
        "y_out = sess.run(hypothesis, feed_dict={x_ph: test_data})\n",
        "y_max = np.argmax(y_out, axis=1).reshape((-1, 1))\n",
        "Make_Result_Plot(\"Before Training\", test_data, test_labels, y_max)\n",
        "\n",
        "accu = Accuracy(y_out,test_labels)\n",
        "arr_epoch.append(0)\n",
        "arr_accu.append(accu)"
      ],
      "execution_count": 32,
      "outputs": [
        {
          "output_type": "display_data",
          "data": {
            "image/png": "[encoded data removed]",
            "text/plain": [
              "<Figure size 1296x504 with 10 Axes>"
            ]
          },
          "metadata": {
            "tags": []
          }
        }
      ]
    },
    {
      "cell_type": "markdown",
      "metadata": {
        "id": "7dhfsRZQnm-C",
        "colab_type": "text"
      },
      "source": [
        "> ### 학습 (Training)"
      ]
    },
    {
      "cell_type": "code",
      "metadata": {
        "id": "i-3I0oV_nnYc",
        "colab_type": "code",
        "colab": {
          "base_uri": "https://localhost:8080/",
          "height": 717
        },
        "outputId": "94df9632-7dd8-4cba-9d40-b449f2df146b"
      },
      "source": [
        "%%time\n",
        "for epoch_idx in range(1, N_epoch+1):\n",
        "    np.random.shuffle(train_data_idx)\n",
        "    for batch_idx in range(batch_count):\n",
        "\n",
        "        batch_data = np.array([train_data[train_data_idx[batch_idx * batch_size + idx]] for idx in range(batch_size)])\n",
        "        batch_labels = np.array([train_labels[train_data_idx[batch_idx * batch_size + idx]] for idx in range(batch_size)])\n",
        "        \n",
        "        sess.run(train, feed_dict={x_ph: batch_data, labels_ph: batch_labels})\n",
        "    if epoch_idx%1 == 0:\n",
        "        y_out = sess.run(hypothesis, feed_dict={x_ph: test_data})\n",
        "        accu = Accuracy(y_out,test_labels)\n",
        "        print(\"[{:>5}] accuracy = {:>10.4}\".format(epoch_idx,accu))\n",
        "        arr_epoch.append(epoch_idx)\n",
        "        arr_accu.append(accu)"
      ],
      "execution_count": 33,
      "outputs": [
        {
          "output_type": "stream",
          "text": [
            "[    1] accuracy =      0.928\n",
            "[    2] accuracy =     0.9462\n",
            "[    3] accuracy =      0.956\n",
            "[    4] accuracy =     0.9653\n",
            "[    5] accuracy =     0.9713\n",
            "[    6] accuracy =     0.9705\n",
            "[    7] accuracy =     0.9755\n",
            "[    8] accuracy =     0.9776\n",
            "[    9] accuracy =     0.9795\n",
            "[   10] accuracy =     0.9787\n",
            "[   11] accuracy =     0.9767\n",
            "[   12] accuracy =     0.9807\n",
            "[   13] accuracy =     0.9806\n",
            "[   14] accuracy =     0.9801\n",
            "[   15] accuracy =      0.981\n",
            "[   16] accuracy =     0.9804\n",
            "[   17] accuracy =     0.9807\n",
            "[   18] accuracy =     0.9811\n",
            "[   19] accuracy =     0.9796\n"
          ],
          "name": "stdout"
        },
        {
          "output_type": "error",
          "ename": "KeyboardInterrupt",
          "evalue": "ignored",
          "traceback": [
            "\u001b[0;31m---------------------------------------------------------------------------\u001b[0m",
            "\u001b[0;31mKeyboardInterrupt\u001b[0m                         Traceback (most recent call last)",
            "\u001b[0;32m<ipython-input-33-c48b2126e06d>\u001b[0m in \u001b[0;36m<module>\u001b[0;34m()\u001b[0m\n\u001b[0;32m----> 1\u001b[0;31m \u001b[0mget_ipython\u001b[0m\u001b[0;34m(\u001b[0m\u001b[0;34m)\u001b[0m\u001b[0;34m.\u001b[0m\u001b[0mrun_cell_magic\u001b[0m\u001b[0;34m(\u001b[0m\u001b[0;34m'time'\u001b[0m\u001b[0;34m,\u001b[0m \u001b[0;34m''\u001b[0m\u001b[0;34m,\u001b[0m \u001b[0;34m'for epoch_idx in range(1, N_epoch+1):\\n    np.random.shuffle(train_data_idx)\\n    for batch_idx in range(batch_count):\\n\\n        batch_data = np.array([train_data[train_data_idx[batch_idx * batch_size + idx]] for idx in range(batch_size)])\\n        batch_labels = np.array([train_labels[train_data_idx[batch_idx * batch_size + idx]] for idx in range(batch_size)])\\n        \\n        sess.run(train, feed_dict={x_ph: batch_data, labels_ph: batch_labels})\\n    if epoch_idx%1 == 0:\\n        y_out = sess.run(hypothesis, feed_dict={x_ph: test_data})\\n        accu = Accuracy(y_out,test_labels)\\n        print(\"[{:>5}] accuracy = {:>10.4}\".format(epoch_idx,accu))\\n        arr_epoch.append(epoch_idx)\\n        arr_accu.append(accu)'\u001b[0m\u001b[0;34m)\u001b[0m\u001b[0;34m\u001b[0m\u001b[0;34m\u001b[0m\u001b[0m\n\u001b[0m",
            "\u001b[0;32m/usr/local/lib/python3.6/dist-packages/IPython/core/interactiveshell.py\u001b[0m in \u001b[0;36mrun_cell_magic\u001b[0;34m(self, magic_name, line, cell)\u001b[0m\n\u001b[1;32m   2115\u001b[0m             \u001b[0mmagic_arg_s\u001b[0m \u001b[0;34m=\u001b[0m \u001b[0mself\u001b[0m\u001b[0;34m.\u001b[0m\u001b[0mvar_expand\u001b[0m\u001b[0;34m(\u001b[0m\u001b[0mline\u001b[0m\u001b[0;34m,\u001b[0m \u001b[0mstack_depth\u001b[0m\u001b[0;34m)\u001b[0m\u001b[0;34m\u001b[0m\u001b[0;34m\u001b[0m\u001b[0m\n\u001b[1;32m   2116\u001b[0m             \u001b[0;32mwith\u001b[0m \u001b[0mself\u001b[0m\u001b[0;34m.\u001b[0m\u001b[0mbuiltin_trap\u001b[0m\u001b[0;34m:\u001b[0m\u001b[0;34m\u001b[0m\u001b[0;34m\u001b[0m\u001b[0m\n\u001b[0;32m-> 2117\u001b[0;31m                 \u001b[0mresult\u001b[0m \u001b[0;34m=\u001b[0m \u001b[0mfn\u001b[0m\u001b[0;34m(\u001b[0m\u001b[0mmagic_arg_s\u001b[0m\u001b[0;34m,\u001b[0m \u001b[0mcell\u001b[0m\u001b[0;34m)\u001b[0m\u001b[0;34m\u001b[0m\u001b[0;34m\u001b[0m\u001b[0m\n\u001b[0m\u001b[1;32m   2118\u001b[0m             \u001b[0;32mreturn\u001b[0m \u001b[0mresult\u001b[0m\u001b[0;34m\u001b[0m\u001b[0;34m\u001b[0m\u001b[0m\n\u001b[1;32m   2119\u001b[0m \u001b[0;34m\u001b[0m\u001b[0m\n",
            "\u001b[0;32m</usr/local/lib/python3.6/dist-packages/decorator.py:decorator-gen-60>\u001b[0m in \u001b[0;36mtime\u001b[0;34m(self, line, cell, local_ns)\u001b[0m\n",
            "\u001b[0;32m/usr/local/lib/python3.6/dist-packages/IPython/core/magic.py\u001b[0m in \u001b[0;36m<lambda>\u001b[0;34m(f, *a, **k)\u001b[0m\n\u001b[1;32m    186\u001b[0m     \u001b[0;31m# but it's overkill for just that one bit of state.\u001b[0m\u001b[0;34m\u001b[0m\u001b[0;34m\u001b[0m\u001b[0;34m\u001b[0m\u001b[0m\n\u001b[1;32m    187\u001b[0m     \u001b[0;32mdef\u001b[0m \u001b[0mmagic_deco\u001b[0m\u001b[0;34m(\u001b[0m\u001b[0marg\u001b[0m\u001b[0;34m)\u001b[0m\u001b[0;34m:\u001b[0m\u001b[0;34m\u001b[0m\u001b[0;34m\u001b[0m\u001b[0m\n\u001b[0;32m--> 188\u001b[0;31m         \u001b[0mcall\u001b[0m \u001b[0;34m=\u001b[0m \u001b[0;32mlambda\u001b[0m \u001b[0mf\u001b[0m\u001b[0;34m,\u001b[0m \u001b[0;34m*\u001b[0m\u001b[0ma\u001b[0m\u001b[0;34m,\u001b[0m \u001b[0;34m**\u001b[0m\u001b[0mk\u001b[0m\u001b[0;34m:\u001b[0m \u001b[0mf\u001b[0m\u001b[0;34m(\u001b[0m\u001b[0;34m*\u001b[0m\u001b[0ma\u001b[0m\u001b[0;34m,\u001b[0m \u001b[0;34m**\u001b[0m\u001b[0mk\u001b[0m\u001b[0;34m)\u001b[0m\u001b[0;34m\u001b[0m\u001b[0;34m\u001b[0m\u001b[0m\n\u001b[0m\u001b[1;32m    189\u001b[0m \u001b[0;34m\u001b[0m\u001b[0m\n\u001b[1;32m    190\u001b[0m         \u001b[0;32mif\u001b[0m \u001b[0mcallable\u001b[0m\u001b[0;34m(\u001b[0m\u001b[0marg\u001b[0m\u001b[0;34m)\u001b[0m\u001b[0;34m:\u001b[0m\u001b[0;34m\u001b[0m\u001b[0;34m\u001b[0m\u001b[0m\n",
            "\u001b[0;32m/usr/local/lib/python3.6/dist-packages/IPython/core/magics/execution.py\u001b[0m in \u001b[0;36mtime\u001b[0;34m(self, line, cell, local_ns)\u001b[0m\n\u001b[1;32m   1191\u001b[0m         \u001b[0;32melse\u001b[0m\u001b[0;34m:\u001b[0m\u001b[0;34m\u001b[0m\u001b[0;34m\u001b[0m\u001b[0m\n\u001b[1;32m   1192\u001b[0m             \u001b[0mst\u001b[0m \u001b[0;34m=\u001b[0m \u001b[0mclock2\u001b[0m\u001b[0;34m(\u001b[0m\u001b[0;34m)\u001b[0m\u001b[0;34m\u001b[0m\u001b[0;34m\u001b[0m\u001b[0m\n\u001b[0;32m-> 1193\u001b[0;31m             \u001b[0mexec\u001b[0m\u001b[0;34m(\u001b[0m\u001b[0mcode\u001b[0m\u001b[0;34m,\u001b[0m \u001b[0mglob\u001b[0m\u001b[0;34m,\u001b[0m \u001b[0mlocal_ns\u001b[0m\u001b[0;34m)\u001b[0m\u001b[0;34m\u001b[0m\u001b[0;34m\u001b[0m\u001b[0m\n\u001b[0m\u001b[1;32m   1194\u001b[0m             \u001b[0mend\u001b[0m \u001b[0;34m=\u001b[0m \u001b[0mclock2\u001b[0m\u001b[0;34m(\u001b[0m\u001b[0;34m)\u001b[0m\u001b[0;34m\u001b[0m\u001b[0;34m\u001b[0m\u001b[0m\n\u001b[1;32m   1195\u001b[0m             \u001b[0mout\u001b[0m \u001b[0;34m=\u001b[0m \u001b[0;32mNone\u001b[0m\u001b[0;34m\u001b[0m\u001b[0;34m\u001b[0m\u001b[0m\n",
            "\u001b[0;32m<timed exec>\u001b[0m in \u001b[0;36m<module>\u001b[0;34m()\u001b[0m\n",
            "\u001b[0;32m/usr/local/lib/python3.6/dist-packages/tensorflow_core/python/client/session.py\u001b[0m in \u001b[0;36mrun\u001b[0;34m(self, fetches, feed_dict, options, run_metadata)\u001b[0m\n\u001b[1;32m    954\u001b[0m     \u001b[0;32mtry\u001b[0m\u001b[0;34m:\u001b[0m\u001b[0;34m\u001b[0m\u001b[0;34m\u001b[0m\u001b[0m\n\u001b[1;32m    955\u001b[0m       result = self._run(None, fetches, feed_dict, options_ptr,\n\u001b[0;32m--> 956\u001b[0;31m                          run_metadata_ptr)\n\u001b[0m\u001b[1;32m    957\u001b[0m       \u001b[0;32mif\u001b[0m \u001b[0mrun_metadata\u001b[0m\u001b[0;34m:\u001b[0m\u001b[0;34m\u001b[0m\u001b[0;34m\u001b[0m\u001b[0m\n\u001b[1;32m    958\u001b[0m         \u001b[0mproto_data\u001b[0m \u001b[0;34m=\u001b[0m \u001b[0mtf_session\u001b[0m\u001b[0;34m.\u001b[0m\u001b[0mTF_GetBuffer\u001b[0m\u001b[0;34m(\u001b[0m\u001b[0mrun_metadata_ptr\u001b[0m\u001b[0;34m)\u001b[0m\u001b[0;34m\u001b[0m\u001b[0;34m\u001b[0m\u001b[0m\n",
            "\u001b[0;32m/usr/local/lib/python3.6/dist-packages/tensorflow_core/python/client/session.py\u001b[0m in \u001b[0;36m_run\u001b[0;34m(self, handle, fetches, feed_dict, options, run_metadata)\u001b[0m\n\u001b[1;32m   1178\u001b[0m     \u001b[0;32mif\u001b[0m \u001b[0mfinal_fetches\u001b[0m \u001b[0;32mor\u001b[0m \u001b[0mfinal_targets\u001b[0m \u001b[0;32mor\u001b[0m \u001b[0;34m(\u001b[0m\u001b[0mhandle\u001b[0m \u001b[0;32mand\u001b[0m \u001b[0mfeed_dict_tensor\u001b[0m\u001b[0;34m)\u001b[0m\u001b[0;34m:\u001b[0m\u001b[0;34m\u001b[0m\u001b[0;34m\u001b[0m\u001b[0m\n\u001b[1;32m   1179\u001b[0m       results = self._do_run(handle, final_targets, final_fetches,\n\u001b[0;32m-> 1180\u001b[0;31m                              feed_dict_tensor, options, run_metadata)\n\u001b[0m\u001b[1;32m   1181\u001b[0m     \u001b[0;32melse\u001b[0m\u001b[0;34m:\u001b[0m\u001b[0;34m\u001b[0m\u001b[0;34m\u001b[0m\u001b[0m\n\u001b[1;32m   1182\u001b[0m       \u001b[0mresults\u001b[0m \u001b[0;34m=\u001b[0m \u001b[0;34m[\u001b[0m\u001b[0;34m]\u001b[0m\u001b[0;34m\u001b[0m\u001b[0;34m\u001b[0m\u001b[0m\n",
            "\u001b[0;32m/usr/local/lib/python3.6/dist-packages/tensorflow_core/python/client/session.py\u001b[0m in \u001b[0;36m_do_run\u001b[0;34m(self, handle, target_list, fetch_list, feed_dict, options, run_metadata)\u001b[0m\n\u001b[1;32m   1357\u001b[0m     \u001b[0;32mif\u001b[0m \u001b[0mhandle\u001b[0m \u001b[0;32mis\u001b[0m \u001b[0;32mNone\u001b[0m\u001b[0;34m:\u001b[0m\u001b[0;34m\u001b[0m\u001b[0;34m\u001b[0m\u001b[0m\n\u001b[1;32m   1358\u001b[0m       return self._do_call(_run_fn, feeds, fetches, targets, options,\n\u001b[0;32m-> 1359\u001b[0;31m                            run_metadata)\n\u001b[0m\u001b[1;32m   1360\u001b[0m     \u001b[0;32melse\u001b[0m\u001b[0;34m:\u001b[0m\u001b[0;34m\u001b[0m\u001b[0;34m\u001b[0m\u001b[0m\n\u001b[1;32m   1361\u001b[0m       \u001b[0;32mreturn\u001b[0m \u001b[0mself\u001b[0m\u001b[0;34m.\u001b[0m\u001b[0m_do_call\u001b[0m\u001b[0;34m(\u001b[0m\u001b[0m_prun_fn\u001b[0m\u001b[0;34m,\u001b[0m \u001b[0mhandle\u001b[0m\u001b[0;34m,\u001b[0m \u001b[0mfeeds\u001b[0m\u001b[0;34m,\u001b[0m \u001b[0mfetches\u001b[0m\u001b[0;34m)\u001b[0m\u001b[0;34m\u001b[0m\u001b[0;34m\u001b[0m\u001b[0m\n",
            "\u001b[0;32m/usr/local/lib/python3.6/dist-packages/tensorflow_core/python/client/session.py\u001b[0m in \u001b[0;36m_do_call\u001b[0;34m(self, fn, *args)\u001b[0m\n\u001b[1;32m   1363\u001b[0m   \u001b[0;32mdef\u001b[0m \u001b[0m_do_call\u001b[0m\u001b[0;34m(\u001b[0m\u001b[0mself\u001b[0m\u001b[0;34m,\u001b[0m \u001b[0mfn\u001b[0m\u001b[0;34m,\u001b[0m \u001b[0;34m*\u001b[0m\u001b[0margs\u001b[0m\u001b[0;34m)\u001b[0m\u001b[0;34m:\u001b[0m\u001b[0;34m\u001b[0m\u001b[0;34m\u001b[0m\u001b[0m\n\u001b[1;32m   1364\u001b[0m     \u001b[0;32mtry\u001b[0m\u001b[0;34m:\u001b[0m\u001b[0;34m\u001b[0m\u001b[0;34m\u001b[0m\u001b[0m\n\u001b[0;32m-> 1365\u001b[0;31m       \u001b[0;32mreturn\u001b[0m \u001b[0mfn\u001b[0m\u001b[0;34m(\u001b[0m\u001b[0;34m*\u001b[0m\u001b[0margs\u001b[0m\u001b[0;34m)\u001b[0m\u001b[0;34m\u001b[0m\u001b[0;34m\u001b[0m\u001b[0m\n\u001b[0m\u001b[1;32m   1366\u001b[0m     \u001b[0;32mexcept\u001b[0m \u001b[0merrors\u001b[0m\u001b[0;34m.\u001b[0m\u001b[0mOpError\u001b[0m \u001b[0;32mas\u001b[0m \u001b[0me\u001b[0m\u001b[0;34m:\u001b[0m\u001b[0;34m\u001b[0m\u001b[0;34m\u001b[0m\u001b[0m\n\u001b[1;32m   1367\u001b[0m       \u001b[0mmessage\u001b[0m \u001b[0;34m=\u001b[0m \u001b[0mcompat\u001b[0m\u001b[0;34m.\u001b[0m\u001b[0mas_text\u001b[0m\u001b[0;34m(\u001b[0m\u001b[0me\u001b[0m\u001b[0;34m.\u001b[0m\u001b[0mmessage\u001b[0m\u001b[0;34m)\u001b[0m\u001b[0;34m\u001b[0m\u001b[0;34m\u001b[0m\u001b[0m\n",
            "\u001b[0;32m/usr/local/lib/python3.6/dist-packages/tensorflow_core/python/client/session.py\u001b[0m in \u001b[0;36m_run_fn\u001b[0;34m(feed_dict, fetch_list, target_list, options, run_metadata)\u001b[0m\n\u001b[1;32m   1348\u001b[0m       \u001b[0mself\u001b[0m\u001b[0;34m.\u001b[0m\u001b[0m_extend_graph\u001b[0m\u001b[0;34m(\u001b[0m\u001b[0;34m)\u001b[0m\u001b[0;34m\u001b[0m\u001b[0;34m\u001b[0m\u001b[0m\n\u001b[1;32m   1349\u001b[0m       return self._call_tf_sessionrun(options, feed_dict, fetch_list,\n\u001b[0;32m-> 1350\u001b[0;31m                                       target_list, run_metadata)\n\u001b[0m\u001b[1;32m   1351\u001b[0m \u001b[0;34m\u001b[0m\u001b[0m\n\u001b[1;32m   1352\u001b[0m     \u001b[0;32mdef\u001b[0m \u001b[0m_prun_fn\u001b[0m\u001b[0;34m(\u001b[0m\u001b[0mhandle\u001b[0m\u001b[0;34m,\u001b[0m \u001b[0mfeed_dict\u001b[0m\u001b[0;34m,\u001b[0m \u001b[0mfetch_list\u001b[0m\u001b[0;34m)\u001b[0m\u001b[0;34m:\u001b[0m\u001b[0;34m\u001b[0m\u001b[0;34m\u001b[0m\u001b[0m\n",
            "\u001b[0;32m/usr/local/lib/python3.6/dist-packages/tensorflow_core/python/client/session.py\u001b[0m in \u001b[0;36m_call_tf_sessionrun\u001b[0;34m(self, options, feed_dict, fetch_list, target_list, run_metadata)\u001b[0m\n\u001b[1;32m   1441\u001b[0m     return tf_session.TF_SessionRun_wrapper(self._session, options, feed_dict,\n\u001b[1;32m   1442\u001b[0m                                             \u001b[0mfetch_list\u001b[0m\u001b[0;34m,\u001b[0m \u001b[0mtarget_list\u001b[0m\u001b[0;34m,\u001b[0m\u001b[0;34m\u001b[0m\u001b[0;34m\u001b[0m\u001b[0m\n\u001b[0;32m-> 1443\u001b[0;31m                                             run_metadata)\n\u001b[0m\u001b[1;32m   1444\u001b[0m \u001b[0;34m\u001b[0m\u001b[0m\n\u001b[1;32m   1445\u001b[0m   \u001b[0;32mdef\u001b[0m \u001b[0m_call_tf_sessionprun\u001b[0m\u001b[0;34m(\u001b[0m\u001b[0mself\u001b[0m\u001b[0;34m,\u001b[0m \u001b[0mhandle\u001b[0m\u001b[0;34m,\u001b[0m \u001b[0mfeed_dict\u001b[0m\u001b[0;34m,\u001b[0m \u001b[0mfetch_list\u001b[0m\u001b[0;34m)\u001b[0m\u001b[0;34m:\u001b[0m\u001b[0;34m\u001b[0m\u001b[0;34m\u001b[0m\u001b[0m\n",
            "\u001b[0;31mKeyboardInterrupt\u001b[0m: "
          ]
        }
      ]
    },
    {
      "cell_type": "markdown",
      "metadata": {
        "id": "QFnQH9uDgQjA",
        "colab_type": "text"
      },
      "source": [
        "> ### Ploting : Cost/Training Count"
      ]
    },
    {
      "cell_type": "code",
      "metadata": {
        "id": "iA_PjWijgQZp",
        "colab_type": "code",
        "colab": {}
      },
      "source": [
        "# Plot : Accuracy / Epoch\n",
        "fig_accu, ax_accu = plt.subplots()\n",
        "ax_accu.plot(arr_epoch, arr_accu)\n",
        "ax_accu.set_title(\"Accuracy / Epoch (MLP, Gradient Descent Optimizer)\")\n",
        "ax_accu.grid(True)\n",
        "ax_accu.set_ylim(0,1.1)"
      ],
      "execution_count": 0,
      "outputs": []
    },
    {
      "cell_type": "markdown",
      "metadata": {
        "id": "MGGEVBPcTyUa",
        "colab_type": "text"
      },
      "source": [
        "> ### Training 이후"
      ]
    },
    {
      "cell_type": "code",
      "metadata": {
        "id": "2x-EJKJhTzqe",
        "colab_type": "code",
        "colab": {}
      },
      "source": [
        "y_out = sess.run(hypothesis, feed_dict={x_ph: test_data})\n",
        "y_max = np.argmax(y_out, axis=1).reshape((-1, 1))\n",
        "Make_Result_Plot(\"After Training\", test_data, test_labels, y_max)"
      ],
      "execution_count": 0,
      "outputs": []
    },
    {
      "cell_type": "code",
      "metadata": {
        "id": "eGheYT3bv91S",
        "colab_type": "code",
        "colab": {}
      },
      "source": [
        ""
      ],
      "execution_count": 0,
      "outputs": []
    }
  ]
}