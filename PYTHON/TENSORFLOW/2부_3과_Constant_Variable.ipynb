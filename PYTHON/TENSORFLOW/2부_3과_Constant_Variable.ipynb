{
  "nbformat": 4,
  "nbformat_minor": 0,
  "metadata": {
    "colab": {
      "name": "2부_3과_Constant_Variable.ipynb",
      "provenance": [],
      "collapsed_sections": [
        "BQpXKN50SWS7",
        "_AJmx37AR0y5",
        "9XnmZmg6UaDL",
        "Fg-1LxZBU087",
        "A6Yzbk5pVgct",
        "oCzJ2-gGVsW9",
        "U6DxtnIgWzRC",
        "TH_9tAH2XgEn",
        "h6jnKol3YYO_",
        "o9LYNvTpY-sv",
        "C8pUtiIAv1dA",
        "SGRaIo2-0H0y",
        "htuqLiSf0HfT"
      ],
      "include_colab_link": true
    },
    "kernelspec": {
      "name": "python3",
      "display_name": "Python 3"
    },
    "accelerator": "GPU"
  },
  "cells": [
    {
      "cell_type": "markdown",
      "metadata": {
        "id": "view-in-github",
        "colab_type": "text"
      },
      "source": [
        "<a href=\"https://colab.research.google.com/github/KwonYN/TIL/blob/master/PYTHON/TENSORFLOW/2%EB%B6%80_3%EA%B3%BC_Constant_Variable.ipynb\" target=\"_parent\"><img src=\"https://colab.research.google.com/assets/colab-badge.svg\" alt=\"Open In Colab\"/></a>"
      ]
    },
    {
      "cell_type": "markdown",
      "metadata": {
        "id": "ERQax80Nl2fY",
        "colab_type": "text"
      },
      "source": [
        "# Chapter2. TensorFlow 기초"
      ]
    },
    {
      "cell_type": "markdown",
      "metadata": {
        "id": "sGzEW49-Ptwy",
        "colab_type": "text"
      },
      "source": [
        " ## 2-3 Constant, Variable"
      ]
    },
    {
      "cell_type": "markdown",
      "metadata": {
        "id": "BQpXKN50SWS7",
        "colab_type": "text"
      },
      "source": [
        "> ### Import TensorFlow"
      ]
    },
    {
      "cell_type": "code",
      "metadata": {
        "id": "DuypY8tDSXK8",
        "colab_type": "code",
        "colab": {
          "base_uri": "https://localhost:8080/",
          "height": 51
        },
        "outputId": "9280db47-02ee-453f-98b6-95ef00c1b0e6"
      },
      "source": [
        "%tensorflow_version 1.x\n",
        "\n",
        "import numpy as np\n",
        "import tensorflow as tf\n",
        "\n",
        "print(\"NumPy Version : {}\".format(np.__version__))\n",
        "print(\"TensorFlow Version : {}\".format(tf.__version__))"
      ],
      "execution_count": 1,
      "outputs": [
        {
          "output_type": "stream",
          "text": [
            "NumPy Version : 1.17.4\n",
            "TensorFlow Version : 1.15.0\n"
          ],
          "name": "stdout"
        }
      ]
    },
    {
      "cell_type": "markdown",
      "metadata": {
        "id": "_AJmx37AR0y5",
        "colab_type": "text"
      },
      "source": [
        "> ### [예제 1] tf.constant()로 Tensor 생성"
      ]
    },
    {
      "cell_type": "code",
      "metadata": {
        "id": "CfFNVgk1qSOy",
        "colab_type": "code",
        "colab": {
          "base_uri": "https://localhost:8080/",
          "height": 85
        },
        "outputId": "1003d762-4f02-4164-e77d-ab8d6b395dfc"
      },
      "source": [
        "c_int = tf.constant(3)\n",
        "c_float1 = tf.constant(1.239)\n",
        "c_float2 = tf.constant(3, dtype= tf.float32 )\n",
        "c_str = tf.constant(\"Hello, TensorFlow\", name= 'Const_String')\n",
        "# c_float3 = tf.constant(1.239, dtype= tf.int32) # TypeError\n",
        "\n",
        "list_constant = [c_int, c_float1, c_float2, c_str]\n",
        "\n",
        "with tf.Session() as sess:\n",
        "  for tensor in list_constant:\n",
        "    result = sess.run(tensor)\n",
        "    print(tensor,\"value = {}\".format(result))"
      ],
      "execution_count": 5,
      "outputs": [
        {
          "output_type": "stream",
          "text": [
            "Tensor(\"Const_9:0\", shape=(), dtype=int32) value = 3\n",
            "Tensor(\"Const_10:0\", shape=(), dtype=float32) value = 1.2389999628067017\n",
            "Tensor(\"Const_11:0\", shape=(), dtype=float32) value = 3.0\n",
            "Tensor(\"Const_String_3:0\", shape=(), dtype=string) value = b'Hello, TensorFlow'\n"
          ],
          "name": "stdout"
        }
      ]
    },
    {
      "cell_type": "markdown",
      "metadata": {
        "id": "9XnmZmg6UaDL",
        "colab_type": "text"
      },
      "source": [
        "> ### [예제 2] 각 type별 표현 범위"
      ]
    },
    {
      "cell_type": "code",
      "metadata": {
        "id": "odXPCjWSqcZv",
        "colab_type": "code",
        "colab": {}
      },
      "source": [
        "def Print_TF_Type(title, list_types):\n",
        "  print(\"< {} >\".format(title))\n",
        "  [print(\"{:10} : {} ~ {}\".format(t.name, t.min , t.max)) for t in list_types]\n",
        "\n",
        "list_types_float = [tf.float16, tf.float32, tf.float64]\n",
        "list_types_bfloat = [tf.bfloat16]\n",
        "list_types_int = [tf.int8, tf.int16, tf.int32, tf.int64]\n",
        "list_types_uint = [tf.uint8, tf.uint16, tf.uint32, tf.uint64]\n",
        "\n",
        "Print_TF_Type(\"Min,Max of tf.float[16,32,64]\",list_types_float)\n",
        "Print_TF_Type(\"Min,Max of tf.bfloat16\",list_types_bfloat)\n",
        "Print_TF_Type(\"Min,Max of tf.int[8,16,32,64]\",list_types_int)\n",
        "Print_TF_Type(\"Min,Max of tf.uint[8,16,32,64]\",list_types_uint)"
      ],
      "execution_count": 0,
      "outputs": []
    },
    {
      "cell_type": "markdown",
      "metadata": {
        "id": "Fg-1LxZBU087",
        "colab_type": "text"
      },
      "source": [
        "> ### [예제 3] Rank 0 : Scalar, Magnitude"
      ]
    },
    {
      "cell_type": "code",
      "metadata": {
        "id": "mUaa9igpqx-R",
        "colab_type": "code",
        "colab": {}
      },
      "source": [
        "SC_int = tf.constant(451, dtype= tf.int16, name= 'Const1')\n",
        "SC_float = tf.constant(3.14159265359, name= 'Const2')\n",
        "SC_string = tf.constant(\"Elephant\", name= 'Const3')\n",
        "\n",
        "list_SC = [SC_int, SC_float, SC_string]\n",
        "\n",
        "print(\"SC_int.shape = {}\".format(SC_int.shape))\n",
        "\n",
        "with tf.Session() as sess:\n",
        "  for tensor in list_SC:\n",
        "    rank, result = sess.run([tf.rank(tensor), tensor])\n",
        "    print(\"Rank = {}, {}, Result = {}\".format(rank, tensor, result))"
      ],
      "execution_count": 0,
      "outputs": []
    },
    {
      "cell_type": "markdown",
      "metadata": {
        "id": "A6Yzbk5pVgct",
        "colab_type": "text"
      },
      "source": [
        "> ### [예제 4] Rank 1 : Vector"
      ]
    },
    {
      "cell_type": "code",
      "metadata": {
        "id": "h_A3lGeTq5y-",
        "colab_type": "code",
        "colab": {}
      },
      "source": [
        "VT_int1 = tf.constant([10, 3], name= 'Const1')\n",
        "VT_int2 = tf.constant([1], name= 'Const2')\n",
        "VT_floats = tf.constant([3.1415, 10.23], name= 'Const3')\n",
        "VT_strings = tf.constant([\"Elephant\", \"Rabbit\", \"Turtle\"], name= 'Const4')\n",
        "\n",
        "list_VT = [VT_int1, VT_int2, VT_floats, VT_strings]\n",
        "\n",
        "with tf.Session() as sess:\n",
        "  for tensor in list_VT:\n",
        "    rank, result = sess.run([tf.rank(tensor), tensor])\n",
        "    print(\"Rank = {}, {}, Result = {}\".format(rank, tensor, result))"
      ],
      "execution_count": 0,
      "outputs": []
    },
    {
      "cell_type": "markdown",
      "metadata": {
        "id": "oCzJ2-gGVsW9",
        "colab_type": "text"
      },
      "source": [
        "> ### [예제 5] Rank 2 : Matrix"
      ]
    },
    {
      "cell_type": "code",
      "metadata": {
        "id": "cbFmBFyLq_K3",
        "colab_type": "code",
        "colab": {}
      },
      "source": [
        "MT_int1 = tf.constant([[10, 3], [4, 5]], name= 'Const1')\n",
        "MT_int2 = tf.constant([[1]], name= 'Const2')\n",
        "MT_floats = tf.constant([[3.1415, 10.23, 9.], [2.3, 11, 15.0]], name= 'Const3')\n",
        "\n",
        "list_MT = [MT_int1, MT_int2, MT_floats]\n",
        "\n",
        "with tf.Session() as sess:\n",
        "  for tensor in list_MT:\n",
        "    rank, result = sess.run([tf.rank(tensor), tensor])\n",
        "    print(\"Rank = {}, {},\\n{}\".format(rank, tensor, result))"
      ],
      "execution_count": 0,
      "outputs": []
    },
    {
      "cell_type": "markdown",
      "metadata": {
        "id": "U6DxtnIgWzRC",
        "colab_type": "text"
      },
      "source": [
        "> ### 아래 코드의 결과는?"
      ]
    },
    {
      "cell_type": "code",
      "metadata": {
        "id": "3nb5TxrBrEyG",
        "colab_type": "code",
        "colab": {}
      },
      "source": [
        "MT_int2 = tf.constant([[1, 2], [4, 5]], shape= (4, 3), verify_shape= True)"
      ],
      "execution_count": 0,
      "outputs": []
    },
    {
      "cell_type": "markdown",
      "metadata": {
        "id": "TH_9tAH2XgEn",
        "colab_type": "text"
      },
      "source": [
        "> ### [예제 6] Rank 3 : Cube"
      ]
    },
    {
      "cell_type": "code",
      "metadata": {
        "id": "TKdVwMaMrS4v",
        "colab_type": "code",
        "colab": {}
      },
      "source": [
        "CB_int1 = tf.constant([[[1, 2], [3, 4]],[[5, 6], [7, 8]]], name= 'Const1')\n",
        "CB_int2 = tf.constant([[[100]]], name= 'Const2')\n",
        "CB_floats = tf.constant([[[3.1415, 10.23, 9.], [2.3, 11, 15.0]]], name= 'Const3')\n",
        "\n",
        "list_CB = [CB_int1, CB_int2, CB_floats]\n",
        "\n",
        "with tf.Session() as sess:\n",
        "  for tensor in list_CB:\n",
        "    rank, result = sess.run([tf.rank(tensor), tensor])\n",
        "    print(\"Rank = {}, {}, \\nResult : \\n{}\".format(rank, tensor, result))"
      ],
      "execution_count": 0,
      "outputs": []
    },
    {
      "cell_type": "markdown",
      "metadata": {
        "id": "h6jnKol3YYO_",
        "colab_type": "text"
      },
      "source": [
        "> ### [예제 7] Higher rank of Tensor"
      ]
    },
    {
      "cell_type": "code",
      "metadata": {
        "id": "QrpymstQrY3d",
        "colab_type": "code",
        "colab": {}
      },
      "source": [
        "batch_images = tf.constant(0 , shape =(10, 240, 320, 3))\n",
        "\n",
        "with tf.Session() as sess:\n",
        "    rank = sess.run(tf.rank(batch_images))\n",
        "    print(\"Rank = {}, {}\".format(rank, batch_images))"
      ],
      "execution_count": 0,
      "outputs": []
    },
    {
      "cell_type": "markdown",
      "metadata": {
        "id": "o9LYNvTpY-sv",
        "colab_type": "text"
      },
      "source": [
        "> ### [예제 8] Create Variable and Variable Initializer"
      ]
    },
    {
      "cell_type": "code",
      "metadata": {
        "id": "hLK_LFzzrdJH",
        "colab_type": "code",
        "colab": {}
      },
      "source": [
        "# 예제 2-3-9\n",
        "# Variable (Initializer 실행)\n",
        "\n",
        "# Error\n",
        "v1 = tf.Variable(10)\n",
        "\n",
        "with tf.Session() as sess:\n",
        "    print(\"v1 = {}\".format(v1))\n",
        "    result = sess.run(v1)\n",
        "    print(\"value = {}\".format(result))"
      ],
      "execution_count": 0,
      "outputs": []
    },
    {
      "cell_type": "code",
      "metadata": {
        "id": "fq6iAQa1rmav",
        "colab_type": "code",
        "colab": {}
      },
      "source": [
        "  # 정상동작 \n",
        "  v1 = tf.Variable(10)\n",
        "\n",
        "  with tf.Session() as sess:\n",
        "      sess.run(tf.global_variables_initializer()) # Variable Initializer\n",
        "      print(\"v1 = {}\".format(v1))\n",
        "      result = sess.run(v1)\n",
        "      print(\"value = {}\".format(result))"
      ],
      "execution_count": 0,
      "outputs": []
    },
    {
      "cell_type": "markdown",
      "metadata": {
        "id": "C8pUtiIAv1dA",
        "colab_type": "text"
      },
      "source": [
        "> ### [예제 9] 상수 초기값을 가진 변수"
      ]
    },
    {
      "cell_type": "code",
      "metadata": {
        "id": "3dKAGSG4rrUf",
        "colab_type": "code",
        "colab": {}
      },
      "source": [
        "var_1 = tf.Variable(10)\n",
        "var_2 = tf.Variable(20, dtype= tf.float64)\n",
        "var_3 = tf.Variable(30, name= 'VAR_Weight')\n",
        "\n",
        "initializer = tf.global_variables_initializer()\n",
        "list_var = [var_1, var_2, var_3]\n",
        "\n",
        "with tf.Session() as sess:\n",
        "  sess.run(initializer)\n",
        "  for var in list_var:\n",
        "    result = sess.run(var)\n",
        "    print(\"Var = {}\".format(var))\n",
        "    print(\"Value = {}\".format(result))"
      ],
      "execution_count": 0,
      "outputs": []
    },
    {
      "cell_type": "markdown",
      "metadata": {
        "id": "SGRaIo2-0H0y",
        "colab_type": "text"
      },
      "source": [
        "> ### [예제 10] 특정 함수에 의해 만들어진 초기값을 사용하는 변수"
      ]
    },
    {
      "cell_type": "code",
      "metadata": {
        "id": "b5MjB7R50Hrf",
        "colab_type": "code",
        "colab": {}
      },
      "source": [
        "var_1 = tf.Variable(tf.zeros((2,3)))\n",
        "var_2 = tf.Variable(tf.ones((1,5)))\n",
        "var_3 = tf.Variable(tf.eye(2,2), name= 'VAR_Weight')\n",
        "\n",
        "initializer = tf.global_variables_initializer()\n",
        "list_var = [var_1, var_2, var_3]\n",
        "\n",
        "with tf.Session() as sess:\n",
        "  sess.run(initializer)\n",
        "  for var in list_var:\n",
        "    result = sess.run(var)\n",
        "    print(\"Var = {}\".format(var))\n",
        "    print(\"Value =\\n{}\".format(result))"
      ],
      "execution_count": 0,
      "outputs": []
    },
    {
      "cell_type": "markdown",
      "metadata": {
        "id": "htuqLiSf0HfT",
        "colab_type": "text"
      },
      "source": [
        "> ### [예제 11] Random 함수에 의해 만들어진 초기값을 사용하는 변수"
      ]
    },
    {
      "cell_type": "code",
      "metadata": {
        "id": "ZlzOklB10HIF",
        "colab_type": "code",
        "colab": {}
      },
      "source": [
        "var_1 = tf.Variable(tf.random_normal((1,1)))\n",
        "var_2 = tf.Variable(tf.truncated_normal((1,5), mean = 10, stddev = 0.1))\n",
        "var_3 = tf.Variable(tf.random_uniform((2,2), minval=6, maxval=10))\n",
        "\n",
        "initializer = tf.global_variables_initializer()\n",
        "list_var = [var_1, var_2, var_3]\n",
        "\n",
        "with tf.Session() as sess:\n",
        "  sess.run(initializer)\n",
        "  for var in list_var:\n",
        "    result = sess.run(var)\n",
        "    print(\"Var = {}\".format(var))\n",
        "    print(\"Value =\\n{}\".format(result))    "
      ],
      "execution_count": 0,
      "outputs": []
    }
  ]
}