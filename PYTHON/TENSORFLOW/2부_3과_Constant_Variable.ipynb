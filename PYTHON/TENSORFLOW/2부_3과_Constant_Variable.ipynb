{
  "nbformat": 4,
  "nbformat_minor": 0,
  "metadata": {
    "colab": {
      "name": "2부_3과_Constant_Variable.ipynb",
      "provenance": [],
      "collapsed_sections": [],
      "include_colab_link": true
    },
    "kernelspec": {
      "name": "python3",
      "display_name": "Python 3"
    },
    "accelerator": "GPU"
  },
  "cells": [
    {
      "cell_type": "markdown",
      "metadata": {
        "id": "view-in-github",
        "colab_type": "text"
      },
      "source": [
        "<a href=\"https://colab.research.google.com/github/KwonYN/TIL/blob/master/PYTHON/TENSORFLOW/2%EB%B6%80_3%EA%B3%BC_Constant_Variable.ipynb\" target=\"_parent\"><img src=\"https://colab.research.google.com/assets/colab-badge.svg\" alt=\"Open In Colab\"/></a>"
      ]
    },
    {
      "cell_type": "markdown",
      "metadata": {
        "id": "ERQax80Nl2fY",
        "colab_type": "text"
      },
      "source": [
        "# Chapter2. TensorFlow 기초"
      ]
    },
    {
      "cell_type": "markdown",
      "metadata": {
        "id": "sGzEW49-Ptwy",
        "colab_type": "text"
      },
      "source": [
        " ## 2-3 Constant, Variable"
      ]
    },
    {
      "cell_type": "markdown",
      "metadata": {
        "id": "BQpXKN50SWS7",
        "colab_type": "text"
      },
      "source": [
        "> ### Import TensorFlow"
      ]
    },
    {
      "cell_type": "code",
      "metadata": {
        "id": "DuypY8tDSXK8",
        "colab_type": "code",
        "colab": {
          "base_uri": "https://localhost:8080/",
          "height": 51
        },
        "outputId": "9280db47-02ee-453f-98b6-95ef00c1b0e6"
      },
      "source": [
        "%tensorflow_version 1.x\n",
        "\n",
        "import numpy as np\n",
        "import tensorflow as tf\n",
        "\n",
        "print(\"NumPy Version : {}\".format(np.__version__))\n",
        "print(\"TensorFlow Version : {}\".format(tf.__version__))"
      ],
      "execution_count": 1,
      "outputs": [
        {
          "output_type": "stream",
          "text": [
            "NumPy Version : 1.17.4\n",
            "TensorFlow Version : 1.15.0\n"
          ],
          "name": "stdout"
        }
      ]
    },
    {
      "cell_type": "markdown",
      "metadata": {
        "id": "_AJmx37AR0y5",
        "colab_type": "text"
      },
      "source": [
        "> ### [예제 1] tf.constant()로 Tensor 생성"
      ]
    },
    {
      "cell_type": "code",
      "metadata": {
        "id": "CfFNVgk1qSOy",
        "colab_type": "code",
        "colab": {
          "base_uri": "https://localhost:8080/",
          "height": 102
        },
        "outputId": "25911f3c-b9e1-4ebd-b674-181b9b3542b2"
      },
      "source": [
        "c_int = tf.constant(3)\n",
        "c_float1 = tf.constant(1.239)\n",
        "c_float2 = tf.constant(3, dtype= tf.float32 )\n",
        "c_str = tf.constant(\"Hello, TensorFlow\", name= 'Const_String')\n",
        "c_str1 = tf.constant(\"Hello, TensorFlow\", name= 'Const_String')\n",
        "# c_float3 = tf.constant(1.239, dtype= tf.int32) # TypeError\n",
        "\n",
        "list_constant = [c_int, c_float1, c_float2, c_str, c_str1]\n",
        "\n",
        "with tf.Session() as sess:\n",
        "  for tensor in list_constant:\n",
        "    result = sess.run(tensor)\n",
        "    print(tensor,\"value = {}\".format(result))"
      ],
      "execution_count": 13,
      "outputs": [
        {
          "output_type": "stream",
          "text": [
            "Tensor(\"Const_33:0\", shape=(), dtype=int32) value = 3\n",
            "Tensor(\"Const_34:0\", shape=(), dtype=float32) value = 1.2389999628067017\n",
            "Tensor(\"Const_35:0\", shape=(), dtype=float32) value = 3.0\n",
            "Tensor(\"Const_String_18:0\", shape=(), dtype=string) value = b'Hello, TensorFlow'\n",
            "Tensor(\"Const_String_19:0\", shape=(), dtype=string) value = b'Hello, TensorFlow'\n"
          ],
          "name": "stdout"
        }
      ]
    },
    {
      "cell_type": "markdown",
      "metadata": {
        "id": "9XnmZmg6UaDL",
        "colab_type": "text"
      },
      "source": [
        "> ### [예제 2] 각 type별 표현 범위"
      ]
    },
    {
      "cell_type": "code",
      "metadata": {
        "id": "odXPCjWSqcZv",
        "colab_type": "code",
        "colab": {
          "base_uri": "https://localhost:8080/",
          "height": 357
        },
        "outputId": "72299590-3144-463b-85dd-d0b15920f69f"
      },
      "source": [
        "def Print_TF_Type(title, list_types):\n",
        "  print(\"< {} >\".format(title))\n",
        "  [print(\"{:10} : {} ~ {}\".format(t.name, t.min , t.max)) for t in list_types]\n",
        "  print()\n",
        "\n",
        "list_types_float = [tf.float16, tf.float32, tf.float64]\n",
        "list_types_bfloat = [tf.bfloat16]\n",
        "list_types_int = [tf.int8, tf.int16, tf.int32, tf.int64]\n",
        "list_types_uint = [tf.uint8, tf.uint16, tf.uint32, tf.uint64]\n",
        "\n",
        "Print_TF_Type(\"Min,Max of tf.float[16,32,64]\",list_types_float)\n",
        "Print_TF_Type(\"Min,Max of tf.bfloat16\",list_types_bfloat)\n",
        "Print_TF_Type(\"Min,Max of tf.int[8,16,32,64]\",list_types_int)\n",
        "Print_TF_Type(\"Min,Max of tf.uint[8,16,32,64]\",list_types_uint)"
      ],
      "execution_count": 15,
      "outputs": [
        {
          "output_type": "stream",
          "text": [
            "< Min,Max of tf.float[16,32,64] >\n",
            "float16    : -65504.0 ~ 65504.0\n",
            "float32    : -3.4028234663852886e+38 ~ 3.4028234663852886e+38\n",
            "float64    : -1.7976931348623157e+308 ~ 1.7976931348623157e+308\n",
            "\n",
            "< Min,Max of tf.bfloat16 >\n",
            "bfloat16   : -3.38953139e+38 ~ 3.38953139e+38\n",
            "\n",
            "< Min,Max of tf.int[8,16,32,64] >\n",
            "int8       : -128 ~ 127\n",
            "int16      : -32768 ~ 32767\n",
            "int32      : -2147483648 ~ 2147483647\n",
            "int64      : -9223372036854775808 ~ 9223372036854775807\n",
            "\n",
            "< Min,Max of tf.uint[8,16,32,64] >\n",
            "uint8      : 0 ~ 255\n",
            "uint16     : 0 ~ 65535\n",
            "uint32     : 0 ~ 4294967295\n",
            "uint64     : 0 ~ 18446744073709551615\n",
            "\n"
          ],
          "name": "stdout"
        }
      ]
    },
    {
      "cell_type": "markdown",
      "metadata": {
        "id": "Fg-1LxZBU087",
        "colab_type": "text"
      },
      "source": [
        "> ### [예제 3] Rank 0 : Scalar, Magnitude"
      ]
    },
    {
      "cell_type": "code",
      "metadata": {
        "id": "mUaa9igpqx-R",
        "colab_type": "code",
        "colab": {
          "base_uri": "https://localhost:8080/",
          "height": 85
        },
        "outputId": "0ed9d228-2ff7-4b63-d27c-c8637a3fb7ce"
      },
      "source": [
        "SC_int = tf.constant(451, dtype= tf.int16, name= 'Const1')\n",
        "SC_float = tf.constant(3.14159265359, name= 'Const2')\n",
        "SC_string = tf.constant(\"Elephant\", name= 'Const3')\n",
        "\n",
        "list_SC = [SC_int, SC_float, SC_string]\n",
        "\n",
        "print(\"SC_int.shape = {}\".format(SC_int.shape))\n",
        "\n",
        "with tf.Session() as sess:\n",
        "  for tensor in list_SC:\n",
        "    rank, result = sess.run([tf.rank(tensor), tensor])\n",
        "    print(\"Rank = {}, {}, Result = {}\".format(rank, tensor, result))"
      ],
      "execution_count": 16,
      "outputs": [
        {
          "output_type": "stream",
          "text": [
            "SC_int.shape = ()\n",
            "Rank = 0, Tensor(\"Const1:0\", shape=(), dtype=int16), Result = 451\n",
            "Rank = 0, Tensor(\"Const2:0\", shape=(), dtype=float32), Result = 3.1415927410125732\n",
            "Rank = 0, Tensor(\"Const3:0\", shape=(), dtype=string), Result = b'Elephant'\n"
          ],
          "name": "stdout"
        }
      ]
    },
    {
      "cell_type": "markdown",
      "metadata": {
        "id": "A6Yzbk5pVgct",
        "colab_type": "text"
      },
      "source": [
        "> ### [예제 4] Rank 1 : Vector"
      ]
    },
    {
      "cell_type": "code",
      "metadata": {
        "id": "h_A3lGeTq5y-",
        "colab_type": "code",
        "colab": {
          "base_uri": "https://localhost:8080/",
          "height": 85
        },
        "outputId": "a86c88d9-bdae-4ed3-a0b8-001216a6bfc3"
      },
      "source": [
        "VT_int1 = tf.constant([10, 3], name= 'Const1')\n",
        "VT_int2 = tf.constant([1], name= 'Const2')\n",
        "VT_floats = tf.constant([3.1415, 10.23], name= 'Const3')\n",
        "VT_strings = tf.constant([\"Elephant\", \"Rabbit\", \"Turtle\"], name= 'Const4')\n",
        "\n",
        "list_VT = [VT_int1, VT_int2, VT_floats, VT_strings]\n",
        "\n",
        "with tf.Session() as sess:\n",
        "  for tensor in list_VT:\n",
        "    rank, result = sess.run([tf.rank(tensor), tensor])\n",
        "    print(\"Rank = {}, {}, Result = {}\".format(rank, tensor, result))"
      ],
      "execution_count": 17,
      "outputs": [
        {
          "output_type": "stream",
          "text": [
            "Rank = 1, Tensor(\"Const1_1:0\", shape=(2,), dtype=int32), Result = [10  3]\n",
            "Rank = 1, Tensor(\"Const2_1:0\", shape=(1,), dtype=int32), Result = [1]\n",
            "Rank = 1, Tensor(\"Const3_1:0\", shape=(2,), dtype=float32), Result = [ 3.1415 10.23  ]\n",
            "Rank = 1, Tensor(\"Const4:0\", shape=(3,), dtype=string), Result = [b'Elephant' b'Rabbit' b'Turtle']\n"
          ],
          "name": "stdout"
        }
      ]
    },
    {
      "cell_type": "markdown",
      "metadata": {
        "id": "oCzJ2-gGVsW9",
        "colab_type": "text"
      },
      "source": [
        "> ### [예제 5] Rank 2 : Matrix"
      ]
    },
    {
      "cell_type": "code",
      "metadata": {
        "id": "cbFmBFyLq_K3",
        "colab_type": "code",
        "colab": {
          "base_uri": "https://localhost:8080/",
          "height": 153
        },
        "outputId": "3e29570e-526e-4e47-a1ad-f09463c2712b"
      },
      "source": [
        "MT_int1 = tf.constant([[10, 3], [4, 5]], name= 'Const1')\n",
        "MT_int2 = tf.constant([[1]], name= 'Const2')\n",
        "MT_floats = tf.constant([[3.1415, 10.23, 9.], [2.3, 11, 15.0]], name= 'Const3')\n",
        "\n",
        "list_MT = [MT_int1, MT_int2, MT_floats]\n",
        "\n",
        "with tf.Session() as sess:\n",
        "  for tensor in list_MT:\n",
        "    rank, result = sess.run([tf.rank(tensor), tensor])\n",
        "    print(\"Rank = {}, {},\\n{}\".format(rank, tensor, result))"
      ],
      "execution_count": 18,
      "outputs": [
        {
          "output_type": "stream",
          "text": [
            "Rank = 2, Tensor(\"Const1_2:0\", shape=(2, 2), dtype=int32),\n",
            "[[10  3]\n",
            " [ 4  5]]\n",
            "Rank = 2, Tensor(\"Const2_2:0\", shape=(1, 1), dtype=int32),\n",
            "[[1]]\n",
            "Rank = 2, Tensor(\"Const3_2:0\", shape=(2, 3), dtype=float32),\n",
            "[[ 3.1415 10.23    9.    ]\n",
            " [ 2.3    11.     15.    ]]\n"
          ],
          "name": "stdout"
        }
      ]
    },
    {
      "cell_type": "markdown",
      "metadata": {
        "id": "U6DxtnIgWzRC",
        "colab_type": "text"
      },
      "source": [
        "> ### 아래 코드의 결과는?"
      ]
    },
    {
      "cell_type": "code",
      "metadata": {
        "id": "3nb5TxrBrEyG",
        "colab_type": "code",
        "colab": {
          "base_uri": "https://localhost:8080/",
          "height": 187
        },
        "outputId": "3e6c7800-5ce4-45a8-cd39-ea921f4f8240"
      },
      "source": [
        "# value ( shape가 (2, 2)인 )와 shape이 다름 => 그런데 verify_shape=True이므로 'TypeError' 메시지가 뜰 것!\n",
        "MT_int2 = tf.constant([[1, 2], [4, 5]], shape= (4, 3), verify_shape= True)  # 실행 시, False로 바꾸거나 주석 처리\n",
        "\n",
        "# 딱히 문제로 삼지를 않네...? 그리고 찍어봐됴 shape이 (4, 3)이라고 나옴..\n",
        "MT_int3 = tf.constant([[1, 2], [4, 5]], shape= (4, 3), verify_shape= False)\n",
        "\n",
        "list_MT = [MT_int2, MT_int3]\n",
        "\n",
        "with tf.Session() as sess:\n",
        "  for tensor in list_MT:\n",
        "    rank, result = sess.run([tf.rank(tensor), tensor])\n",
        "    print(\"Rank = {}, {},\\n{}\".format(rank, tensor, result))\n",
        "\n",
        "## 프린트해보면, 가장 마지막 값으로 쭈우우우욱 설정된 것을 볼 수 있음 -> shape는 일반적으로 딱히 건들지는 않는다고 함...\n",
        "## 하지만 과정에서 내가 실수했을 수도 있으니 디버깅 차원에서 shape를 직접 값으로 주고, verify_shape=True를 해줌으로써 실수 줄일 수 있다고 함!!"
      ],
      "execution_count": 31,
      "outputs": [
        {
          "output_type": "stream",
          "text": [
            "Rank = 2, Tensor(\"Const_44:0\", shape=(4, 3), dtype=int32),\n",
            "[[1 2 4]\n",
            " [5 5 5]\n",
            " [5 5 5]\n",
            " [5 5 5]]\n",
            "Rank = 2, Tensor(\"Const_45:0\", shape=(4, 3), dtype=int32),\n",
            "[[1 2 4]\n",
            " [5 5 5]\n",
            " [5 5 5]\n",
            " [5 5 5]]\n"
          ],
          "name": "stdout"
        }
      ]
    },
    {
      "cell_type": "markdown",
      "metadata": {
        "id": "TH_9tAH2XgEn",
        "colab_type": "text"
      },
      "source": [
        "> ### [예제 6] Rank 3 : Cube"
      ]
    },
    {
      "cell_type": "code",
      "metadata": {
        "id": "TKdVwMaMrS4v",
        "colab_type": "code",
        "colab": {
          "base_uri": "https://localhost:8080/",
          "height": 255
        },
        "outputId": "a1fa11b8-f2d2-4642-bb60-abbc52defdff"
      },
      "source": [
        "CB_int1 = tf.constant([[[1, 2], [3, 4]],[[5, 6], [7, 8]]], name= 'Const1')\n",
        "CB_int2 = tf.constant([[[100]]], name= 'Const2')\n",
        "CB_floats = tf.constant([[[3.1415, 10.23, 9.], [2.3, 11, 15.0]]], name= 'Const3')\n",
        "\n",
        "list_CB = [CB_int1, CB_int2, CB_floats]\n",
        "\n",
        "with tf.Session() as sess:\n",
        "  for tensor in list_CB:\n",
        "    rank, result = sess.run([tf.rank(tensor), tensor])\n",
        "    print(\"Rank = {}, {}, \\nResult : \\n{}\".format(rank, tensor, result))"
      ],
      "execution_count": 32,
      "outputs": [
        {
          "output_type": "stream",
          "text": [
            "Rank = 3, Tensor(\"Const1_3:0\", shape=(2, 2, 2), dtype=int32), \n",
            "Result : \n",
            "[[[1 2]\n",
            "  [3 4]]\n",
            "\n",
            " [[5 6]\n",
            "  [7 8]]]\n",
            "Rank = 3, Tensor(\"Const2_3:0\", shape=(1, 1, 1), dtype=int32), \n",
            "Result : \n",
            "[[[100]]]\n",
            "Rank = 3, Tensor(\"Const3_3:0\", shape=(1, 2, 3), dtype=float32), \n",
            "Result : \n",
            "[[[ 3.1415 10.23    9.    ]\n",
            "  [ 2.3    11.     15.    ]]]\n"
          ],
          "name": "stdout"
        }
      ]
    },
    {
      "cell_type": "markdown",
      "metadata": {
        "id": "h6jnKol3YYO_",
        "colab_type": "text"
      },
      "source": [
        "> ### [예제 7] Higher rank of Tensor"
      ]
    },
    {
      "cell_type": "code",
      "metadata": {
        "id": "QrpymstQrY3d",
        "colab_type": "code",
        "colab": {
          "base_uri": "https://localhost:8080/",
          "height": 34
        },
        "outputId": "fb787700-432d-4043-d8c6-e39479d7caa7"
      },
      "source": [
        "batch_images = tf.constant(0 , shape =(10, 240, 320, 3))\n",
        "\n",
        "with tf.Session() as sess:\n",
        "    rank = sess.run(tf.rank(batch_images))\n",
        "    print(\"Rank = {}, {}\".format(rank, batch_images))"
      ],
      "execution_count": 33,
      "outputs": [
        {
          "output_type": "stream",
          "text": [
            "Rank = 4, Tensor(\"Const_46:0\", shape=(10, 240, 320, 3), dtype=int32)\n"
          ],
          "name": "stdout"
        }
      ]
    },
    {
      "cell_type": "markdown",
      "metadata": {
        "id": "o9LYNvTpY-sv",
        "colab_type": "text"
      },
      "source": [
        "> ### [예제 8] Create Variable and Variable Initializer"
      ]
    },
    {
      "cell_type": "code",
      "metadata": {
        "id": "hLK_LFzzrdJH",
        "colab_type": "code",
        "colab": {
          "base_uri": "https://localhost:8080/",
          "height": 476
        },
        "outputId": "51c09f9e-b3ac-45a4-af72-a09a205579cb"
      },
      "source": [
        "# 예제 2-3-9\n",
        "# Variable (Initializer 실행)\n",
        "\n",
        "# Error : p.78\n",
        "v1 = tf.Variable(10)  # 근데 이렇게 하면 초기화 되는 것 아님...?\n",
        "# 그런데 Runtime에도 v1은 10이라는 값과 타입을 가지고 있는 상황이 아니라고 하는데..!!\n",
        "# => Runtime에 지정해준 값을 사용하게끔 하고 싶다면? 처음에 \"initialize\"를 의무적으로 해야 한다고 함!! 그래야 그 값들을 사용해서 연산에 사용하든 할 수 있다고!!\n",
        "\n",
        "with tf.Session() as sess:\n",
        "    #sess.run(tf.global_variables_initializer()) # ~ Initializer : 변수에 실제 값을 매칭(?)시켜주는 역할을 한다고 함! 이래야 변수가 값을 가질 수 있음!!\n",
        "    print(\"v1 = {}\".format(v1))\n",
        "    result = sess.run(v1)\n",
        "    print(\"value = {}\".format(result))"
      ],
      "execution_count": 38,
      "outputs": [
        {
          "output_type": "stream",
          "text": [
            "v1 = <tf.Variable 'Variable_4:0' shape=() dtype=int32_ref>\n"
          ],
          "name": "stdout"
        },
        {
          "output_type": "error",
          "ename": "FailedPreconditionError",
          "evalue": "ignored",
          "traceback": [
            "\u001b[0;31m---------------------------------------------------------------------------\u001b[0m",
            "\u001b[0;31mFailedPreconditionError\u001b[0m                   Traceback (most recent call last)",
            "\u001b[0;32m/usr/local/lib/python3.6/dist-packages/tensorflow_core/python/client/session.py\u001b[0m in \u001b[0;36m_do_call\u001b[0;34m(self, fn, *args)\u001b[0m\n\u001b[1;32m   1364\u001b[0m     \u001b[0;32mtry\u001b[0m\u001b[0;34m:\u001b[0m\u001b[0;34m\u001b[0m\u001b[0;34m\u001b[0m\u001b[0m\n\u001b[0;32m-> 1365\u001b[0;31m       \u001b[0;32mreturn\u001b[0m \u001b[0mfn\u001b[0m\u001b[0;34m(\u001b[0m\u001b[0;34m*\u001b[0m\u001b[0margs\u001b[0m\u001b[0;34m)\u001b[0m\u001b[0;34m\u001b[0m\u001b[0;34m\u001b[0m\u001b[0m\n\u001b[0m\u001b[1;32m   1366\u001b[0m     \u001b[0;32mexcept\u001b[0m \u001b[0merrors\u001b[0m\u001b[0;34m.\u001b[0m\u001b[0mOpError\u001b[0m \u001b[0;32mas\u001b[0m \u001b[0me\u001b[0m\u001b[0;34m:\u001b[0m\u001b[0;34m\u001b[0m\u001b[0;34m\u001b[0m\u001b[0m\n",
            "\u001b[0;32m/usr/local/lib/python3.6/dist-packages/tensorflow_core/python/client/session.py\u001b[0m in \u001b[0;36m_run_fn\u001b[0;34m(feed_dict, fetch_list, target_list, options, run_metadata)\u001b[0m\n\u001b[1;32m   1349\u001b[0m       return self._call_tf_sessionrun(options, feed_dict, fetch_list,\n\u001b[0;32m-> 1350\u001b[0;31m                                       target_list, run_metadata)\n\u001b[0m\u001b[1;32m   1351\u001b[0m \u001b[0;34m\u001b[0m\u001b[0m\n",
            "\u001b[0;32m/usr/local/lib/python3.6/dist-packages/tensorflow_core/python/client/session.py\u001b[0m in \u001b[0;36m_call_tf_sessionrun\u001b[0;34m(self, options, feed_dict, fetch_list, target_list, run_metadata)\u001b[0m\n\u001b[1;32m   1442\u001b[0m                                             \u001b[0mfetch_list\u001b[0m\u001b[0;34m,\u001b[0m \u001b[0mtarget_list\u001b[0m\u001b[0;34m,\u001b[0m\u001b[0;34m\u001b[0m\u001b[0;34m\u001b[0m\u001b[0m\n\u001b[0;32m-> 1443\u001b[0;31m                                             run_metadata)\n\u001b[0m\u001b[1;32m   1444\u001b[0m \u001b[0;34m\u001b[0m\u001b[0m\n",
            "\u001b[0;31mFailedPreconditionError\u001b[0m: Attempting to use uninitialized value Variable_4\n\t [[{{node _retval_Variable_4_0_0}}]]",
            "\nDuring handling of the above exception, another exception occurred:\n",
            "\u001b[0;31mFailedPreconditionError\u001b[0m                   Traceback (most recent call last)",
            "\u001b[0;32m<ipython-input-38-f8879b1c4345>\u001b[0m in \u001b[0;36m<module>\u001b[0;34m()\u001b[0m\n\u001b[1;32m      6\u001b[0m     \u001b[0;31m#sess.run(tf.global_variables_initializer()) # ~ Initializer : 변수에 실제 값을 매칭(?)시켜주는 역할을 한다고 함! 이래야 변수가 값을 가질 수 있음!!\u001b[0m\u001b[0;34m\u001b[0m\u001b[0;34m\u001b[0m\u001b[0;34m\u001b[0m\u001b[0m\n\u001b[1;32m      7\u001b[0m     \u001b[0mprint\u001b[0m\u001b[0;34m(\u001b[0m\u001b[0;34m\"v1 = {}\"\u001b[0m\u001b[0;34m.\u001b[0m\u001b[0mformat\u001b[0m\u001b[0;34m(\u001b[0m\u001b[0mv1\u001b[0m\u001b[0;34m)\u001b[0m\u001b[0;34m)\u001b[0m\u001b[0;34m\u001b[0m\u001b[0;34m\u001b[0m\u001b[0m\n\u001b[0;32m----> 8\u001b[0;31m     \u001b[0mresult\u001b[0m \u001b[0;34m=\u001b[0m \u001b[0msess\u001b[0m\u001b[0;34m.\u001b[0m\u001b[0mrun\u001b[0m\u001b[0;34m(\u001b[0m\u001b[0mv1\u001b[0m\u001b[0;34m)\u001b[0m\u001b[0;34m\u001b[0m\u001b[0;34m\u001b[0m\u001b[0m\n\u001b[0m\u001b[1;32m      9\u001b[0m     \u001b[0mprint\u001b[0m\u001b[0;34m(\u001b[0m\u001b[0;34m\"value = {}\"\u001b[0m\u001b[0;34m.\u001b[0m\u001b[0mformat\u001b[0m\u001b[0;34m(\u001b[0m\u001b[0mresult\u001b[0m\u001b[0;34m)\u001b[0m\u001b[0;34m)\u001b[0m\u001b[0;34m\u001b[0m\u001b[0;34m\u001b[0m\u001b[0m\n",
            "\u001b[0;32m/usr/local/lib/python3.6/dist-packages/tensorflow_core/python/client/session.py\u001b[0m in \u001b[0;36mrun\u001b[0;34m(self, fetches, feed_dict, options, run_metadata)\u001b[0m\n\u001b[1;32m    954\u001b[0m     \u001b[0;32mtry\u001b[0m\u001b[0;34m:\u001b[0m\u001b[0;34m\u001b[0m\u001b[0;34m\u001b[0m\u001b[0m\n\u001b[1;32m    955\u001b[0m       result = self._run(None, fetches, feed_dict, options_ptr,\n\u001b[0;32m--> 956\u001b[0;31m                          run_metadata_ptr)\n\u001b[0m\u001b[1;32m    957\u001b[0m       \u001b[0;32mif\u001b[0m \u001b[0mrun_metadata\u001b[0m\u001b[0;34m:\u001b[0m\u001b[0;34m\u001b[0m\u001b[0;34m\u001b[0m\u001b[0m\n\u001b[1;32m    958\u001b[0m         \u001b[0mproto_data\u001b[0m \u001b[0;34m=\u001b[0m \u001b[0mtf_session\u001b[0m\u001b[0;34m.\u001b[0m\u001b[0mTF_GetBuffer\u001b[0m\u001b[0;34m(\u001b[0m\u001b[0mrun_metadata_ptr\u001b[0m\u001b[0;34m)\u001b[0m\u001b[0;34m\u001b[0m\u001b[0;34m\u001b[0m\u001b[0m\n",
            "\u001b[0;32m/usr/local/lib/python3.6/dist-packages/tensorflow_core/python/client/session.py\u001b[0m in \u001b[0;36m_run\u001b[0;34m(self, handle, fetches, feed_dict, options, run_metadata)\u001b[0m\n\u001b[1;32m   1178\u001b[0m     \u001b[0;32mif\u001b[0m \u001b[0mfinal_fetches\u001b[0m \u001b[0;32mor\u001b[0m \u001b[0mfinal_targets\u001b[0m \u001b[0;32mor\u001b[0m \u001b[0;34m(\u001b[0m\u001b[0mhandle\u001b[0m \u001b[0;32mand\u001b[0m \u001b[0mfeed_dict_tensor\u001b[0m\u001b[0;34m)\u001b[0m\u001b[0;34m:\u001b[0m\u001b[0;34m\u001b[0m\u001b[0;34m\u001b[0m\u001b[0m\n\u001b[1;32m   1179\u001b[0m       results = self._do_run(handle, final_targets, final_fetches,\n\u001b[0;32m-> 1180\u001b[0;31m                              feed_dict_tensor, options, run_metadata)\n\u001b[0m\u001b[1;32m   1181\u001b[0m     \u001b[0;32melse\u001b[0m\u001b[0;34m:\u001b[0m\u001b[0;34m\u001b[0m\u001b[0;34m\u001b[0m\u001b[0m\n\u001b[1;32m   1182\u001b[0m       \u001b[0mresults\u001b[0m \u001b[0;34m=\u001b[0m \u001b[0;34m[\u001b[0m\u001b[0;34m]\u001b[0m\u001b[0;34m\u001b[0m\u001b[0;34m\u001b[0m\u001b[0m\n",
            "\u001b[0;32m/usr/local/lib/python3.6/dist-packages/tensorflow_core/python/client/session.py\u001b[0m in \u001b[0;36m_do_run\u001b[0;34m(self, handle, target_list, fetch_list, feed_dict, options, run_metadata)\u001b[0m\n\u001b[1;32m   1357\u001b[0m     \u001b[0;32mif\u001b[0m \u001b[0mhandle\u001b[0m \u001b[0;32mis\u001b[0m \u001b[0;32mNone\u001b[0m\u001b[0;34m:\u001b[0m\u001b[0;34m\u001b[0m\u001b[0;34m\u001b[0m\u001b[0m\n\u001b[1;32m   1358\u001b[0m       return self._do_call(_run_fn, feeds, fetches, targets, options,\n\u001b[0;32m-> 1359\u001b[0;31m                            run_metadata)\n\u001b[0m\u001b[1;32m   1360\u001b[0m     \u001b[0;32melse\u001b[0m\u001b[0;34m:\u001b[0m\u001b[0;34m\u001b[0m\u001b[0;34m\u001b[0m\u001b[0m\n\u001b[1;32m   1361\u001b[0m       \u001b[0;32mreturn\u001b[0m \u001b[0mself\u001b[0m\u001b[0;34m.\u001b[0m\u001b[0m_do_call\u001b[0m\u001b[0;34m(\u001b[0m\u001b[0m_prun_fn\u001b[0m\u001b[0;34m,\u001b[0m \u001b[0mhandle\u001b[0m\u001b[0;34m,\u001b[0m \u001b[0mfeeds\u001b[0m\u001b[0;34m,\u001b[0m \u001b[0mfetches\u001b[0m\u001b[0;34m)\u001b[0m\u001b[0;34m\u001b[0m\u001b[0;34m\u001b[0m\u001b[0m\n",
            "\u001b[0;32m/usr/local/lib/python3.6/dist-packages/tensorflow_core/python/client/session.py\u001b[0m in \u001b[0;36m_do_call\u001b[0;34m(self, fn, *args)\u001b[0m\n\u001b[1;32m   1382\u001b[0m                     \u001b[0;34m'\\nsession_config.graph_options.rewrite_options.'\u001b[0m\u001b[0;34m\u001b[0m\u001b[0;34m\u001b[0m\u001b[0m\n\u001b[1;32m   1383\u001b[0m                     'disable_meta_optimizer = True')\n\u001b[0;32m-> 1384\u001b[0;31m       \u001b[0;32mraise\u001b[0m \u001b[0mtype\u001b[0m\u001b[0;34m(\u001b[0m\u001b[0me\u001b[0m\u001b[0;34m)\u001b[0m\u001b[0;34m(\u001b[0m\u001b[0mnode_def\u001b[0m\u001b[0;34m,\u001b[0m \u001b[0mop\u001b[0m\u001b[0;34m,\u001b[0m \u001b[0mmessage\u001b[0m\u001b[0;34m)\u001b[0m\u001b[0;34m\u001b[0m\u001b[0;34m\u001b[0m\u001b[0m\n\u001b[0m\u001b[1;32m   1385\u001b[0m \u001b[0;34m\u001b[0m\u001b[0m\n\u001b[1;32m   1386\u001b[0m   \u001b[0;32mdef\u001b[0m \u001b[0m_extend_graph\u001b[0m\u001b[0;34m(\u001b[0m\u001b[0mself\u001b[0m\u001b[0;34m)\u001b[0m\u001b[0;34m:\u001b[0m\u001b[0;34m\u001b[0m\u001b[0;34m\u001b[0m\u001b[0m\n",
            "\u001b[0;31mFailedPreconditionError\u001b[0m: Attempting to use uninitialized value Variable_4\n\t [[{{node _retval_Variable_4_0_0}}]]"
          ]
        }
      ]
    },
    {
      "cell_type": "code",
      "metadata": {
        "id": "fq6iAQa1rmav",
        "colab_type": "code",
        "colab": {
          "base_uri": "https://localhost:8080/",
          "height": 51
        },
        "outputId": "f4acbd5e-6c13-4593-d21a-7a8489b2d0d9"
      },
      "source": [
        "  # 정상동작 : p.78\n",
        "  v1 = tf.Variable(10)\n",
        "  global_init = tf.global_variables_initializer() # tf.global_variables_initializer()의 리턴은 '텐서!!'\n",
        "\n",
        "  with tf.Session() as sess:\n",
        "      sess.run(global_init) # Variable Initializer\n",
        "      print(\"v1 = {}\".format(v1))\n",
        "      result = sess.run(v1)\n",
        "      print(\"value = {}\".format(result))"
      ],
      "execution_count": 36,
      "outputs": [
        {
          "output_type": "stream",
          "text": [
            "v1 = <tf.Variable 'Variable_2:0' shape=() dtype=int32_ref>\n",
            "value = 10\n"
          ],
          "name": "stdout"
        }
      ]
    },
    {
      "cell_type": "markdown",
      "metadata": {
        "id": "C8pUtiIAv1dA",
        "colab_type": "text"
      },
      "source": [
        "> ### [예제 9] 상수 초기값을 가진 변수"
      ]
    },
    {
      "cell_type": "code",
      "metadata": {
        "id": "3dKAGSG4rrUf",
        "colab_type": "code",
        "colab": {
          "base_uri": "https://localhost:8080/",
          "height": 119
        },
        "outputId": "aea96c9f-09c8-4e0f-9baa-797a5db2a3b9"
      },
      "source": [
        "var_1 = tf.Variable(10)\n",
        "var_2 = tf.Variable(20, dtype= tf.float64)\n",
        "var_3 = tf.Variable(30, name= 'VAR_Weight')\n",
        "\n",
        "initializer = tf.global_variables_initializer()\n",
        "list_var = [var_1, var_2, var_3]\n",
        "\n",
        "with tf.Session() as sess:\n",
        "  sess.run(initializer)\n",
        "  for var in list_var:\n",
        "    result = sess.run(var)\n",
        "    print(\"Var = {}\".format(var))\n",
        "    print(\"Value = {}\".format(result))"
      ],
      "execution_count": 39,
      "outputs": [
        {
          "output_type": "stream",
          "text": [
            "Var = <tf.Variable 'Variable_5:0' shape=() dtype=int32_ref>\n",
            "Value = 10\n",
            "Var = <tf.Variable 'Variable_6:0' shape=() dtype=float64_ref>\n",
            "Value = 20.0\n",
            "Var = <tf.Variable 'VAR_Weight:0' shape=() dtype=int32_ref>\n",
            "Value = 30\n"
          ],
          "name": "stdout"
        }
      ]
    },
    {
      "cell_type": "markdown",
      "metadata": {
        "id": "SGRaIo2-0H0y",
        "colab_type": "text"
      },
      "source": [
        "> ### [예제 10] 특정 함수에 의해 만들어진 초기값을 사용하는 변수"
      ]
    },
    {
      "cell_type": "code",
      "metadata": {
        "id": "b5MjB7R50Hrf",
        "colab_type": "code",
        "colab": {
          "base_uri": "https://localhost:8080/",
          "height": 204
        },
        "outputId": "43a58215-e092-4626-a889-56c0d28e9421"
      },
      "source": [
        "var_1 = tf.Variable(tf.zeros((2,3)))\n",
        "var_2 = tf.Variable(tf.ones((1,5)))\n",
        "var_3 = tf.Variable(tf.eye(2,2), name= 'VAR_Weight')\n",
        "\n",
        "initializer = tf.global_variables_initializer()\n",
        "list_var = [var_1, var_2, var_3]\n",
        "\n",
        "with tf.Session() as sess:\n",
        "  sess.run(initializer)\n",
        "  for var in list_var:\n",
        "    result = sess.run(var)\n",
        "    print(\"Var = {}\".format(var))\n",
        "    print(\"Value =\\n{}\".format(result))"
      ],
      "execution_count": 40,
      "outputs": [
        {
          "output_type": "stream",
          "text": [
            "Var = <tf.Variable 'Variable_7:0' shape=(2, 3) dtype=float32_ref>\n",
            "Value =\n",
            "[[0. 0. 0.]\n",
            " [0. 0. 0.]]\n",
            "Var = <tf.Variable 'Variable_8:0' shape=(1, 5) dtype=float32_ref>\n",
            "Value =\n",
            "[[1. 1. 1. 1. 1.]]\n",
            "Var = <tf.Variable 'VAR_Weight_1:0' shape=(2, 2) dtype=float32_ref>\n",
            "Value =\n",
            "[[1. 0.]\n",
            " [0. 1.]]\n"
          ],
          "name": "stdout"
        }
      ]
    },
    {
      "cell_type": "markdown",
      "metadata": {
        "id": "htuqLiSf0HfT",
        "colab_type": "text"
      },
      "source": [
        "> ### [예제 11] Random 함수에 의해 만들어진 초기값을 사용하는 변수"
      ]
    },
    {
      "cell_type": "code",
      "metadata": {
        "id": "ZlzOklB10HIF",
        "colab_type": "code",
        "colab": {
          "base_uri": "https://localhost:8080/",
          "height": 187
        },
        "outputId": "4e9512e8-1202-4b16-bcd4-a266ad290530"
      },
      "source": [
        "var_1 = tf.Variable(tf.random_normal((1,1)))\n",
        "var_2 = tf.Variable(tf.truncated_normal((1,5), mean = 10, stddev = 0.1))\n",
        "var_3 = tf.Variable(tf.random_uniform((2,2), minval=6, maxval=10))\n",
        "\n",
        "initializer = tf.global_variables_initializer()\n",
        "list_var = [var_1, var_2, var_3]\n",
        "\n",
        "with tf.Session() as sess:\n",
        "  sess.run(initializer)\n",
        "  for var in list_var:\n",
        "    result = sess.run(var)\n",
        "    print(\"Var = {}\".format(var))\n",
        "    print(\"Value =\\n{}\".format(result))    "
      ],
      "execution_count": 41,
      "outputs": [
        {
          "output_type": "stream",
          "text": [
            "Var = <tf.Variable 'Variable_9:0' shape=(1, 1) dtype=float32_ref>\n",
            "Value =\n",
            "[[-0.8811088]]\n",
            "Var = <tf.Variable 'Variable_10:0' shape=(1, 5) dtype=float32_ref>\n",
            "Value =\n",
            "[[10.097735  9.957455  9.818626  9.885069  9.958148]]\n",
            "Var = <tf.Variable 'Variable_11:0' shape=(2, 2) dtype=float32_ref>\n",
            "Value =\n",
            "[[8.646751 8.48964 ]\n",
            " [9.437837 7.602503]]\n"
          ],
          "name": "stdout"
        }
      ]
    },
    {
      "cell_type": "code",
      "metadata": {
        "id": "vgorhEM2hvdC",
        "colab_type": "code",
        "colab": {}
      },
      "source": [
        ""
      ],
      "execution_count": 0,
      "outputs": []
    }
  ]
}