{
  "nbformat": 4,
  "nbformat_minor": 0,
  "metadata": {
    "colab": {
      "name": "Ch5_예제_01_Basic_RNN.ipynb",
      "provenance": [],
      "collapsed_sections": [],
      "include_colab_link": true
    },
    "kernelspec": {
      "name": "python3",
      "display_name": "Python 3"
    },
    "accelerator": "TPU"
  },
  "cells": [
    {
      "cell_type": "markdown",
      "metadata": {
        "id": "view-in-github",
        "colab_type": "text"
      },
      "source": [
        "<a href=\"https://colab.research.google.com/github/KwonYN/TIL/blob/master/PYTHON/TENSORFLOW/Ch5_%EC%98%88%EC%A0%9C_01_Basic_RNN.ipynb\" target=\"_parent\"><img src=\"https://colab.research.google.com/assets/colab-badge.svg\" alt=\"Open In Colab\"/></a>"
      ]
    },
    {
      "cell_type": "markdown",
      "metadata": {
        "id": "UAoMXYfT9Cxu",
        "colab_type": "text"
      },
      "source": [
        "# Chapter5-2. Basic RNN"
      ]
    },
    {
      "cell_type": "markdown",
      "metadata": {
        "id": "IO_EhabDIqm3",
        "colab_type": "text"
      },
      "source": [
        "### [예제1] Basic RNN"
      ]
    },
    {
      "cell_type": "markdown",
      "metadata": {
        "id": "gHtZSFJeJ3Ps",
        "colab_type": "text"
      },
      "source": [
        "> ### Load Module"
      ]
    },
    {
      "cell_type": "code",
      "metadata": {
        "id": "gXxAYyqxlNxp",
        "colab_type": "code",
        "outputId": "f1399895-3671-462a-e997-bdb2575bba6c",
        "colab": {
          "base_uri": "https://localhost:8080/",
          "height": 68
        }
      },
      "source": [
        "%tensorflow_version 1.x\n",
        "\n",
        "import numpy as np\n",
        "import tensorflow as tf\n",
        "\n",
        "print(\"Module Loaded.\")\n",
        "print(\"NumPy Version :{}\".format(np.__version__))\n",
        "print(\"TensorFlow Version :{}\".format(tf.__version__))\n",
        "\n",
        "tf.VariableScope.reuse = tf.AUTO_REUSE"
      ],
      "execution_count": 1,
      "outputs": [
        {
          "output_type": "stream",
          "text": [
            "Module Loaded.\n",
            "NumPy Version :1.17.4\n",
            "TensorFlow Version :1.15.0\n"
          ],
          "name": "stdout"
        }
      ]
    },
    {
      "cell_type": "markdown",
      "metadata": {
        "id": "v5Gfsjx7QRde",
        "colab_type": "text"
      },
      "source": [
        "> ### One to One\n",
        "> #### Input dim = 4 -> hidden_size = 3"
      ]
    },
    {
      "cell_type": "code",
      "metadata": {
        "id": "KxAsW6-5Qd99",
        "colab_type": "code",
        "outputId": "dd0a5d61-2733-4412-abb2-f7ff69c4f7fa",
        "colab": {
          "base_uri": "https://localhost:8080/",
          "height": 51
        }
      },
      "source": [
        "hidden_size = 3\n",
        "input_dim = 4\n",
        "\n",
        "x_data = np.array([[[1,0,0,0]]], dtype=np.float32)\n",
        "x_ph = tf.placeholder(dtype=tf.float32, shape=(None,1,input_dim))\n",
        "\n",
        "cell_1 = tf.nn.rnn_cell.BasicRNNCell(num_units = hidden_size)\n",
        "output_1, _states_1 = tf.nn.dynamic_rnn(cell_1, x_ph, dtype=tf.float32)\n",
        "with tf.Session() as sess:\n",
        "  sess.run(tf.global_variables_initializer())\n",
        "  out = sess.run(output_1, feed_dict = {x_ph:x_data})\n",
        "\n",
        "print(\"Shape of out : {}\".format(out.shape))\n",
        "print(out)"
      ],
      "execution_count": 3,
      "outputs": [
        {
          "output_type": "stream",
          "text": [
            "Shape of out : (1, 1, 3)\n",
            "[[[0.4713394  0.47270626 0.29054242]]]\n"
          ],
          "name": "stdout"
        }
      ]
    },
    {
      "cell_type": "markdown",
      "metadata": {
        "colab_type": "text",
        "id": "nmXOHvsQUdB3"
      },
      "source": [
        "> ### Multi to Multi\n",
        "> #### Input dim = 4 -> hidden_size = 2, sequence_length = 5"
      ]
    },
    {
      "cell_type": "code",
      "metadata": {
        "id": "oIjUd0PhUCvt",
        "colab_type": "code",
        "outputId": "7df62a8f-3b40-48b8-fdc3-cbac23837207",
        "colab": {
          "base_uri": "https://localhost:8080/",
          "height": 136
        }
      },
      "source": [
        "hidden_size = 3\n",
        "input_dim = 4\n",
        "sequence_length = 5\n",
        "\n",
        "x_data = np.array([[[1,0,0,0],[0,1,0,0],[0,0,1,0],[0,0,1,0],[0,0,0,1]]], dtype=np.float32)\n",
        "print(\"Shape of input :\", x_data.shape)\n",
        "x_ph = tf.placeholder(dtype=tf.float32, shape=(None, sequence_length, input_dim))\n",
        "\n",
        "cell_2 = tf.nn.rnn_cell.BasicRNNCell(num_units = hidden_size)\n",
        "output_2, _states_2 = tf.nn.dynamic_rnn(cell_2, x_ph, dtype=tf.float32)\n",
        "with tf.Session() as sess:\n",
        "  sess.run(tf.global_variables_initializer())\n",
        "  out = sess.run(output_2, feed_dict = {x_ph:x_data})\n",
        "\n",
        "print(\"Shape of out : {}\".format(out.shape))\n",
        "print(out)"
      ],
      "execution_count": 5,
      "outputs": [
        {
          "output_type": "stream",
          "text": [
            "Shape of input : (1, 5, 4)\n",
            "Shape of out : (1, 5, 3)\n",
            "[[[ 0.63723516  0.17438263 -0.5689401 ]\n",
            "  [ 0.60229737  0.6790457  -0.42140174]\n",
            "  [-0.25152624  0.25003612  0.05267095]\n",
            "  [-0.38596103 -0.5442432  -0.38445002]\n",
            "  [ 0.35177314 -0.54134905 -0.52894247]]]\n"
          ],
          "name": "stdout"
        }
      ]
    },
    {
      "cell_type": "markdown",
      "metadata": {
        "colab_type": "text",
        "id": "HN1QljdfhZC_"
      },
      "source": [
        "> ### Batch Multi to Multi\n",
        "> #### Input dim = 4 -> hidden_size = 2, sequence_length = 5"
      ]
    },
    {
      "cell_type": "code",
      "metadata": {
        "id": "4jW1D1xpVYQ2",
        "colab_type": "code",
        "outputId": "0402e1bb-6e44-4ed7-a71a-a568f18e0edd",
        "colab": {
          "base_uri": "https://localhost:8080/",
          "height": 357
        }
      },
      "source": [
        "hidden_size = 3\n",
        "input_dim = 4\n",
        "sequence_length = 5\n",
        "\n",
        "hot_encoding = {'h':[1,0,0,0],'e':[0,1,0,0],'l':[0,0,1,0],'o':[0,0,0,1]}\n",
        "x_data = np.array([['h','e','l','l','o'],['h','e','l','l','o'],['h','e','l','l','o']])\n",
        "x_shape = x_data.shape\n",
        "print(\"x_shape :\", x_shape)\n",
        "\n",
        "x_data = x_data.reshape((-1))\n",
        "print(\"x_data :\", x_data)\n",
        "x_data_onehot = np.array([hot_encoding[x_elem] for x_elem in x_data]).reshape((*x_shape,4))\n",
        "\n",
        "x_ph = tf.placeholder(dtype=tf.float32, shape=(None, sequence_length, input_dim))\n",
        "\n",
        "cell_3 = tf.nn.rnn_cell.BasicRNNCell(num_units = hidden_size)\n",
        "output_3, _states_3 = tf.nn.dynamic_rnn(cell_3, x_ph, dtype=tf.float32)\n",
        "\n",
        "with tf.Session() as sess:\n",
        "  sess.run(tf.global_variables_initializer())\n",
        "  out = sess.run(output_3, feed_dict = {x_ph:x_data_onehot})\n",
        "\n",
        "print(\"Shape of out : {}\".format(out.shape))\n",
        "print(out)"
      ],
      "execution_count": 6,
      "outputs": [
        {
          "output_type": "stream",
          "text": [
            "x_shape : (3, 5)\n",
            "x_data : ['h' 'e' 'l' 'l' 'o' 'h' 'e' 'l' 'l' 'o' 'h' 'e' 'l' 'l' 'o']\n",
            "Shape of out : (3, 5, 3)\n",
            "[[[ 0.6392374   0.11481747  0.17014639]\n",
            "  [-0.36236352 -0.5240643   0.45575127]\n",
            "  [-0.75681484 -0.63229764  0.6236449 ]\n",
            "  [-0.8349091  -0.60795265  0.6816566 ]\n",
            "  [-0.29483363 -0.40633473  0.7558709 ]]\n",
            "\n",
            " [[ 0.6392374   0.11481747  0.17014639]\n",
            "  [-0.36236352 -0.5240643   0.45575127]\n",
            "  [-0.75681484 -0.63229764  0.6236449 ]\n",
            "  [-0.8349091  -0.60795265  0.6816566 ]\n",
            "  [-0.29483363 -0.40633473  0.7558709 ]]\n",
            "\n",
            " [[ 0.6392374   0.11481747  0.17014639]\n",
            "  [-0.36236352 -0.5240643   0.45575127]\n",
            "  [-0.75681484 -0.63229764  0.6236449 ]\n",
            "  [-0.8349091  -0.60795265  0.6816566 ]\n",
            "  [-0.29483363 -0.40633473  0.7558709 ]]]\n"
          ],
          "name": "stdout"
        }
      ]
    },
    {
      "cell_type": "code",
      "metadata": {
        "id": "YJyjngMt6o4H",
        "colab_type": "code",
        "colab": {}
      },
      "source": [
        ""
      ],
      "execution_count": 0,
      "outputs": []
    }
  ]
}