{
  "nbformat": 4,
  "nbformat_minor": 0,
  "metadata": {
    "colab": {
      "name": "2부_4과_Session_placeholder.ipynb",
      "provenance": [],
      "collapsed_sections": [],
      "include_colab_link": true
    },
    "kernelspec": {
      "name": "python3",
      "display_name": "Python 3"
    },
    "accelerator": "GPU"
  },
  "cells": [
    {
      "cell_type": "markdown",
      "metadata": {
        "id": "view-in-github",
        "colab_type": "text"
      },
      "source": [
        "<a href=\"https://colab.research.google.com/github/KwonYN/TIL/blob/master/PYTHON/TENSORFLOW/2%EB%B6%80_4%EA%B3%BC_Session_placeholder.ipynb\" target=\"_parent\"><img src=\"https://colab.research.google.com/assets/colab-badge.svg\" alt=\"Open In Colab\"/></a>"
      ]
    },
    {
      "cell_type": "markdown",
      "metadata": {
        "id": "ERQax80Nl2fY",
        "colab_type": "text"
      },
      "source": [
        "# Chapter2. TensorFlow 기초"
      ]
    },
    {
      "cell_type": "markdown",
      "metadata": {
        "id": "sGzEW49-Ptwy",
        "colab_type": "text"
      },
      "source": [
        " ## 2-4 Session, Placeholder "
      ]
    },
    {
      "cell_type": "markdown",
      "metadata": {
        "id": "BQpXKN50SWS7",
        "colab_type": "text"
      },
      "source": [
        "> ### Import TensorFlow"
      ]
    },
    {
      "cell_type": "code",
      "metadata": {
        "id": "DuypY8tDSXK8",
        "colab_type": "code",
        "colab": {
          "base_uri": "https://localhost:8080/",
          "height": 51
        },
        "outputId": "62a0060d-456e-4922-85a2-2e4ce332ae9d"
      },
      "source": [
        "%tensorflow_version 1.x\n",
        "\n",
        "import numpy as np\n",
        "import tensorflow as tf\n",
        "\n",
        "print(\"NumPy Version : {}\".format(np.__version__))\n",
        "print(\"TensorFlow Version : {}\".format(tf.__version__))"
      ],
      "execution_count": 2,
      "outputs": [
        {
          "output_type": "stream",
          "text": [
            "NumPy Version : 1.17.4\n",
            "TensorFlow Version : 1.15.0\n"
          ],
          "name": "stdout"
        }
      ]
    },
    {
      "cell_type": "markdown",
      "metadata": {
        "id": "YZ2EdVn5D3gk",
        "colab_type": "text"
      },
      "source": [
        ">### [예제 1] TensorFlow runtime 통한 그래프 실행과정"
      ]
    },
    {
      "cell_type": "code",
      "metadata": {
        "id": "BQ90Uml4oCfq",
        "colab_type": "code",
        "colab": {
          "base_uri": "https://localhost:8080/",
          "height": 85
        },
        "outputId": "c537db5c-a354-4bdc-acc2-7b5f122ffed2"
      },
      "source": [
        "out_add = tf.add(3,4)\n",
        "out_multiply = tf.multiply(out_add, 10)\n",
        "\n",
        "print(\"out_add = {}\".format(out_add))\n",
        "print(\"out_multiply = {}\\n\".format(out_multiply))\n",
        "\n",
        "\n",
        "sess = tf.Session()\n",
        "\n",
        "res = sess.run(out_multiply)\n",
        "print(\"res = {}\".format(res))\n",
        "\n",
        "sess.close()\n",
        "\n",
        "# with ~ as를 사용해서 close를 자동적으로 할 수 있도록!!\n",
        "\n",
        "#with tf.Session() as sess:\n",
        "#  res = sess.run(out_multiply)\n",
        "#  print(\"res = {}\".format(res))"
      ],
      "execution_count": 11,
      "outputs": [
        {
          "output_type": "stream",
          "text": [
            "out_add = Tensor(\"Add_8:0\", shape=(), dtype=int32)\n",
            "out_multiply = Tensor(\"Mul_8:0\", shape=(), dtype=int32)\n",
            "\n",
            "res = 70\n"
          ],
          "name": "stdout"
        }
      ]
    },
    {
      "cell_type": "markdown",
      "metadata": {
        "id": "dPTcDaq9IT8Y",
        "colab_type": "text"
      },
      "source": [
        ">### [예제 2] Placeholder의 사용 예제"
      ]
    },
    {
      "cell_type": "code",
      "metadata": {
        "id": "3dZD61VWr8JW",
        "colab_type": "code",
        "colab": {
          "base_uri": "https://localhost:8080/",
          "height": 85
        },
        "outputId": "d69b678c-2677-45d9-c9fa-b8c75e330a31"
      },
      "source": [
        "# 예제 2-4-15\n",
        "\n",
        "x_data = 7; y_data = 12; z_data = 10\n",
        "\n",
        "x = tf.placeholder(tf.int32, shape= (), name= 'x_in')\n",
        "y = tf.placeholder(tf.int32, shape= (), name= 'y_in')\n",
        "z = tf.placeholder(tf.int32, shape= (), name= 'z_in')\n",
        "\n",
        "print(\"x = {}\".format(x))\n",
        "print(\"y = {}\".format(y))\n",
        "print(\"z = {}\".format(z))\n",
        "\n",
        "out_add = tf.add(x, y)\n",
        "out_multiply = tf.multiply(out_add, z)\n",
        "\n",
        "with tf.Session() as sess:\n",
        "  res = sess.run(out_multiply, feed_dict = {x: x_data, y: y_data, z: z_data})\n",
        "\n",
        "print(\"res = {}\".format(res))"
      ],
      "execution_count": 13,
      "outputs": [
        {
          "output_type": "stream",
          "text": [
            "x = Tensor(\"x_in_8:0\", shape=(), dtype=int32)\n",
            "y = Tensor(\"y_in_8:0\", shape=(), dtype=int32)\n",
            "z = Tensor(\"z_in_8:0\", shape=(), dtype=int32)\n",
            "res = 190\n"
          ],
          "name": "stdout"
        }
      ]
    },
    {
      "cell_type": "markdown",
      "metadata": {
        "id": "SuEdEMQBJf7R",
        "colab_type": "text"
      },
      "source": [
        ">### [예제 3] 여러 개의 data를 일괄처리 하는 Batch 연산의 예"
      ]
    },
    {
      "cell_type": "code",
      "metadata": {
        "id": "CsfvQv6XsCiE",
        "colab_type": "code",
        "colab": {
          "base_uri": "https://localhost:8080/",
          "height": 34
        },
        "outputId": "d1f941cc-9506-4d27-c51a-f1c25c5f05fd"
      },
      "source": [
        "x_batch = [5,9]; y_batch = [7,2]; z_batch = [10,3]\n",
        "\n",
        "x = tf.placeholder(tf.int32, shape= (2,), name= 'x_in')\n",
        "y = tf.placeholder(tf.int32, shape= (2,), name= 'y_in')\n",
        "z = tf.placeholder(tf.int32, shape= (2,), name= 'z_in')\n",
        "\n",
        "out_add = tf.add(x, y)\n",
        "out_multiply = tf.multiply(out_add, z)\n",
        "\n",
        "with tf.Session() as sess:\n",
        "  res = sess.run(out_multiply, feed_dict = {x: x_batch, y: y_batch, z: z_batch})\n",
        "\n",
        "print(\"res = {}\".format(res))"
      ],
      "execution_count": 8,
      "outputs": [
        {
          "output_type": "stream",
          "text": [
            "res = [120  33]\n"
          ],
          "name": "stdout"
        }
      ]
    },
    {
      "cell_type": "markdown",
      "metadata": {
        "id": "CjuCuMYRJSsT",
        "colab_type": "text"
      },
      "source": [
        ">### [예제 4] 여러 형태의 입력을 받을 수 있는 placeholder의 정의"
      ]
    },
    {
      "cell_type": "code",
      "metadata": {
        "id": "cLDb9pS1sG_F",
        "colab_type": "code",
        "colab": {
          "base_uri": "https://localhost:8080/",
          "height": 51
        },
        "outputId": "a94454a2-7c50-42d9-a995-5043bb5dff22"
      },
      "source": [
        "x_batch_2 = [3,1]; y_batch_2 = [4,2]; z_batch_2 = [10,3]\n",
        "x_batch_3 = [1,2,3]; y_batch_3 = [4,5,6]; z_batch_3 = [7,8,9]\n",
        "\n",
        "x = tf.placeholder(tf.int32, shape= (2,), name= 'x_in')\n",
        "y = tf.placeholder(tf.int32, shape= (2,), name= 'y_in')\n",
        "z = tf.placeholder(tf.int32, shape= (2,), name= 'z_in')\n",
        "\n",
        "out_add = tf.add(x, y)\n",
        "out_multiply = tf.multiply(out_add, z)\n",
        "\n",
        "with tf.Session() as sess:\n",
        "  res_2 = sess.run(out_multiply, feed_dict = {x: x_batch_2, y: y_batch_2, z: z_batch_2})\n",
        "  print(\"res = {}\".format(res_2))\n",
        "# Tensor의 shape가 (2,), 즉 요소가 2개인 1차원 배열(?)이기에 두 개의 값을 한 꺼번에 처리 가능!!!\n",
        "\n",
        "# 하지만 아래의 경우에는, shape가 (3,)임!! shape과 dtype을 지정해주는 것은, \"내가 지금 값을 상수로 정의해주지는 않을 건데, 그래도 나중에 실행할 때,\n",
        "#                                                         그것에 맞는 타입과 shape은 꼭 넣어줄게!!\"라는 의미이므로 맞는 타입과 shape을 넘겨주어야 함!!\n",
        "x = tf.placeholder(tf.int32, shape= (3,), name= 'x_in')\n",
        "y = tf.placeholder(tf.int32, shape= (3,), name= 'y_in')\n",
        "z = tf.placeholder(tf.int32, shape= (3,), name= 'z_in')\n",
        "\n",
        "out_add = tf.add(x, y)\n",
        "out_multiply = tf.multiply(out_add, z)\n",
        "  \n",
        "with tf.Session() as sess:\n",
        "  res_3 = sess.run(out_multiply, feed_dict = {x: x_batch_3, y: y_batch_3, z: z_batch_3})\n",
        "  print(\"res = {}\".format(res_3))\n"
      ],
      "execution_count": 17,
      "outputs": [
        {
          "output_type": "stream",
          "text": [
            "res = [70  9]\n",
            "res = [35 56 81]\n"
          ],
          "name": "stdout"
        }
      ]
    },
    {
      "cell_type": "code",
      "metadata": {
        "colab_type": "code",
        "id": "FF-tR9AcOFxc",
        "colab": {
          "base_uri": "https://localhost:8080/",
          "height": 51
        },
        "outputId": "5a5101f0-229a-41dd-e39b-219f2f170286"
      },
      "source": [
        "x_batch_2 = [3,1]; y_batch_2 = [4,2]; z_batch_2 = [10,3]\n",
        "x_batch_3 = [1,2,3]; y_batch_3 = [4,5,6]; z_batch_3 = [7,8,9]\n",
        "\n",
        "x = tf.placeholder(tf.int32, shape= (None,), name= 'x_in')\n",
        "y = tf.placeholder(tf.int32, shape= (None,), name= 'y_in')\n",
        "z = tf.placeholder(tf.int32, shape= (None,), name= 'z_in')\n",
        "\n",
        "out_add = tf.add(x, y)\n",
        "out_multiply = tf.multiply(out_add, z)\n",
        "\n",
        "with tf.Session() as sess:\n",
        "  res_2 = sess.run(out_multiply, feed_dict = {x: x_batch_2, y: y_batch_2, z: z_batch_2})\n",
        "  print(\"res = {}\".format(res_2))\n",
        "  res_3 = sess.run(out_multiply, feed_dict = {x: x_batch_3, y: y_batch_3, z: z_batch_3})\n",
        "  print(\"res = {}\".format(res_3))\n"
      ],
      "execution_count": 10,
      "outputs": [
        {
          "output_type": "stream",
          "text": [
            "res = [70  9]\n",
            "res = [35 56 81]\n"
          ],
          "name": "stdout"
        }
      ]
    },
    {
      "cell_type": "code",
      "metadata": {
        "id": "O4yLD9Nnl0lF",
        "colab_type": "code",
        "colab": {}
      },
      "source": [
        ""
      ],
      "execution_count": 0,
      "outputs": []
    }
  ]
}