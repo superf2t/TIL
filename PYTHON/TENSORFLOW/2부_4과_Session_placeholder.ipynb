{
  "nbformat": 4,
  "nbformat_minor": 0,
  "metadata": {
    "colab": {
      "name": "2부_4과_Session_placeholder.ipynb",
      "provenance": [],
      "collapsed_sections": [],
      "include_colab_link": true
    },
    "kernelspec": {
      "name": "python3",
      "display_name": "Python 3"
    },
    "accelerator": "GPU"
  },
  "cells": [
    {
      "cell_type": "markdown",
      "metadata": {
        "id": "view-in-github",
        "colab_type": "text"
      },
      "source": [
        "<a href=\"https://colab.research.google.com/github/KwonYN/TIL/blob/master/PYTHON/TENSORFLOW/2%EB%B6%80_4%EA%B3%BC_Session_placeholder.ipynb\" target=\"_parent\"><img src=\"https://colab.research.google.com/assets/colab-badge.svg\" alt=\"Open In Colab\"/></a>"
      ]
    },
    {
      "cell_type": "markdown",
      "metadata": {
        "id": "ERQax80Nl2fY",
        "colab_type": "text"
      },
      "source": [
        "# Chapter2. TensorFlow 기초"
      ]
    },
    {
      "cell_type": "markdown",
      "metadata": {
        "id": "sGzEW49-Ptwy",
        "colab_type": "text"
      },
      "source": [
        " ## 2-4 Session, Placeholder "
      ]
    },
    {
      "cell_type": "markdown",
      "metadata": {
        "id": "BQpXKN50SWS7",
        "colab_type": "text"
      },
      "source": [
        "> ### Import TensorFlow"
      ]
    },
    {
      "cell_type": "code",
      "metadata": {
        "id": "DuypY8tDSXK8",
        "colab_type": "code",
        "colab": {
          "base_uri": "https://localhost:8080/",
          "height": 51
        },
        "outputId": "62a0060d-456e-4922-85a2-2e4ce332ae9d"
      },
      "source": [
        "%tensorflow_version 1.x\n",
        "\n",
        "import numpy as np\n",
        "import tensorflow as tf\n",
        "\n",
        "print(\"NumPy Version : {}\".format(np.__version__))\n",
        "print(\"TensorFlow Version : {}\".format(tf.__version__))"
      ],
      "execution_count": 2,
      "outputs": [
        {
          "output_type": "stream",
          "text": [
            "NumPy Version : 1.17.4\n",
            "TensorFlow Version : 1.15.0\n"
          ],
          "name": "stdout"
        }
      ]
    },
    {
      "cell_type": "markdown",
      "metadata": {
        "id": "YZ2EdVn5D3gk",
        "colab_type": "text"
      },
      "source": [
        ">### [예제 1] TensorFlow runtime 통한 그래프 실행과정"
      ]
    },
    {
      "cell_type": "code",
      "metadata": {
        "id": "BQ90Uml4oCfq",
        "colab_type": "code",
        "colab": {
          "base_uri": "https://localhost:8080/",
          "height": 85
        },
        "outputId": "b7aa106e-2ca8-4858-a0c5-49772d6cadfa"
      },
      "source": [
        "out_add = tf.add(3,4)\n",
        "out_multiply = tf.multiply(out_add, 10)\n",
        "\n",
        "print(\"out_add = {}\".format(out_add))\n",
        "print(\"out_multiply = {}\\n\".format(out_multiply))\n",
        "\n",
        "sess = tf.Session()\n",
        "\n",
        "res = sess.run(out_multiply)\n",
        "print(\"res = {}\".format(res))\n",
        "\n",
        "sess.close()"
      ],
      "execution_count": 3,
      "outputs": [
        {
          "output_type": "stream",
          "text": [
            "out_add = Tensor(\"Add:0\", shape=(), dtype=int32)\n",
            "out_multiply = Tensor(\"Mul:0\", shape=(), dtype=int32)\n",
            "\n",
            "res = 70\n"
          ],
          "name": "stdout"
        }
      ]
    },
    {
      "cell_type": "markdown",
      "metadata": {
        "id": "dPTcDaq9IT8Y",
        "colab_type": "text"
      },
      "source": [
        ">### [예제 2] Placeholder의 사용 예제"
      ]
    },
    {
      "cell_type": "code",
      "metadata": {
        "id": "3dZD61VWr8JW",
        "colab_type": "code",
        "colab": {
          "base_uri": "https://localhost:8080/",
          "height": 85
        },
        "outputId": "d3c6615c-a368-41d1-b077-3432e05d26a5"
      },
      "source": [
        "# 예제 2-4-15\n",
        "\n",
        "x_data = 7; y_data = 12; z_data = 10\n",
        "\n",
        "x = tf.placeholder(tf.int32, shape= (), name= 'x_in')\n",
        "y = tf.placeholder(tf.int32, shape= (), name= 'y_in')\n",
        "z = tf.placeholder(tf.int32, shape= (), name= 'z_in')\n",
        "\n",
        "print(\"x = {}\".format(x))\n",
        "print(\"y = {}\".format(y))\n",
        "print(\"z = {}\".format(z))\n",
        "\n",
        "out_add = tf.add(x, y)\n",
        "out_multiply = tf.multiply(out_add, z)\n",
        "\n",
        "with tf.Session() as sess:\n",
        "  res = sess.run(out_multiply, feed_dict = {x: x_data, y: y_data, z: z_data})\n",
        "\n",
        "print(\"res = {}\".format(res))"
      ],
      "execution_count": 7,
      "outputs": [
        {
          "output_type": "stream",
          "text": [
            "x = Tensor(\"x_in_3:0\", shape=(), dtype=int32)\n",
            "y = Tensor(\"y_in_3:0\", shape=(), dtype=int32)\n",
            "z = Tensor(\"z_in_3:0\", shape=(), dtype=int32)\n",
            "res = 190\n"
          ],
          "name": "stdout"
        }
      ]
    },
    {
      "cell_type": "markdown",
      "metadata": {
        "id": "SuEdEMQBJf7R",
        "colab_type": "text"
      },
      "source": [
        ">### [예제 3] 여러 개의 data를 일괄처리 하는 Batch 연산의 예"
      ]
    },
    {
      "cell_type": "code",
      "metadata": {
        "id": "CsfvQv6XsCiE",
        "colab_type": "code",
        "colab": {
          "base_uri": "https://localhost:8080/",
          "height": 34
        },
        "outputId": "d1f941cc-9506-4d27-c51a-f1c25c5f05fd"
      },
      "source": [
        "x_batch = [5,9]; y_batch = [7,2]; z_batch = [10,3]\n",
        "\n",
        "x = tf.placeholder(tf.int32, shape= (2,), name= 'x_in')\n",
        "y = tf.placeholder(tf.int32, shape= (2,), name= 'y_in')\n",
        "z = tf.placeholder(tf.int32, shape= (2,), name= 'z_in')\n",
        "\n",
        "out_add = tf.add(x, y)\n",
        "out_multiply = tf.multiply(out_add, z)\n",
        "\n",
        "with tf.Session() as sess:\n",
        "  res = sess.run(out_multiply, feed_dict = {x: x_batch, y: y_batch, z: z_batch})\n",
        "\n",
        "print(\"res = {}\".format(res))"
      ],
      "execution_count": 8,
      "outputs": [
        {
          "output_type": "stream",
          "text": [
            "res = [120  33]\n"
          ],
          "name": "stdout"
        }
      ]
    },
    {
      "cell_type": "markdown",
      "metadata": {
        "id": "CjuCuMYRJSsT",
        "colab_type": "text"
      },
      "source": [
        ">### [예제 4] 여러 형태의 입력을 받을 수 있는 placeholder의 정의"
      ]
    },
    {
      "cell_type": "code",
      "metadata": {
        "id": "cLDb9pS1sG_F",
        "colab_type": "code",
        "colab": {
          "base_uri": "https://localhost:8080/",
          "height": 374
        },
        "outputId": "70033484-a43a-4938-bb11-665b33f609c1"
      },
      "source": [
        "x_batch_2 = [3,1]; y_batch_2 = [4,2]; z_batch_2 = [10,3]\n",
        "x_batch_3 = [1,2,3]; y_batch_3 = [4,5,6]; z_batch_3 = [7,8,9]\n",
        "\n",
        "x = tf.placeholder(tf.int32, shape= (2,), name= 'x_in')\n",
        "y = tf.placeholder(tf.int32, shape= (2,), name= 'y_in')\n",
        "z = tf.placeholder(tf.int32, shape= (2,), name= 'z_in')\n",
        "\n",
        "out_add = tf.add(x, y)\n",
        "out_multiply = tf.multiply(out_add, z)\n",
        "\n",
        "with tf.Session() as sess:\n",
        "  res_2 = sess.run(out_multiply, feed_dict = {x: x_batch_2, y: y_batch_2, z: z_batch_2})\n",
        "  print(\"res = {}\".format(res_2))\n",
        "  res_3 = sess.run(out_multiply, feed_dict = {x: x_batch_3, y: y_batch_3, z: z_batch_3})\n",
        "  print(\"res = {}\".format(res_3))\n"
      ],
      "execution_count": 9,
      "outputs": [
        {
          "output_type": "stream",
          "text": [
            "res = [70  9]\n"
          ],
          "name": "stdout"
        },
        {
          "output_type": "error",
          "ename": "ValueError",
          "evalue": "ignored",
          "traceback": [
            "\u001b[0;31m---------------------------------------------------------------------------\u001b[0m",
            "\u001b[0;31mValueError\u001b[0m                                Traceback (most recent call last)",
            "\u001b[0;32m<ipython-input-9-5c39ea967140>\u001b[0m in \u001b[0;36m<module>\u001b[0;34m()\u001b[0m\n\u001b[1;32m     12\u001b[0m   \u001b[0mres_2\u001b[0m \u001b[0;34m=\u001b[0m \u001b[0msess\u001b[0m\u001b[0;34m.\u001b[0m\u001b[0mrun\u001b[0m\u001b[0;34m(\u001b[0m\u001b[0mout_multiply\u001b[0m\u001b[0;34m,\u001b[0m \u001b[0mfeed_dict\u001b[0m \u001b[0;34m=\u001b[0m \u001b[0;34m{\u001b[0m\u001b[0mx\u001b[0m\u001b[0;34m:\u001b[0m \u001b[0mx_batch_2\u001b[0m\u001b[0;34m,\u001b[0m \u001b[0my\u001b[0m\u001b[0;34m:\u001b[0m \u001b[0my_batch_2\u001b[0m\u001b[0;34m,\u001b[0m \u001b[0mz\u001b[0m\u001b[0;34m:\u001b[0m \u001b[0mz_batch_2\u001b[0m\u001b[0;34m}\u001b[0m\u001b[0;34m)\u001b[0m\u001b[0;34m\u001b[0m\u001b[0;34m\u001b[0m\u001b[0m\n\u001b[1;32m     13\u001b[0m   \u001b[0mprint\u001b[0m\u001b[0;34m(\u001b[0m\u001b[0;34m\"res = {}\"\u001b[0m\u001b[0;34m.\u001b[0m\u001b[0mformat\u001b[0m\u001b[0;34m(\u001b[0m\u001b[0mres_2\u001b[0m\u001b[0;34m)\u001b[0m\u001b[0;34m)\u001b[0m\u001b[0;34m\u001b[0m\u001b[0;34m\u001b[0m\u001b[0m\n\u001b[0;32m---> 14\u001b[0;31m   \u001b[0mres_3\u001b[0m \u001b[0;34m=\u001b[0m \u001b[0msess\u001b[0m\u001b[0;34m.\u001b[0m\u001b[0mrun\u001b[0m\u001b[0;34m(\u001b[0m\u001b[0mout_multiply\u001b[0m\u001b[0;34m,\u001b[0m \u001b[0mfeed_dict\u001b[0m \u001b[0;34m=\u001b[0m \u001b[0;34m{\u001b[0m\u001b[0mx\u001b[0m\u001b[0;34m:\u001b[0m \u001b[0mx_batch_3\u001b[0m\u001b[0;34m,\u001b[0m \u001b[0my\u001b[0m\u001b[0;34m:\u001b[0m \u001b[0my_batch_3\u001b[0m\u001b[0;34m,\u001b[0m \u001b[0mz\u001b[0m\u001b[0;34m:\u001b[0m \u001b[0mz_batch_3\u001b[0m\u001b[0;34m}\u001b[0m\u001b[0;34m)\u001b[0m\u001b[0;34m\u001b[0m\u001b[0;34m\u001b[0m\u001b[0m\n\u001b[0m\u001b[1;32m     15\u001b[0m   \u001b[0mprint\u001b[0m\u001b[0;34m(\u001b[0m\u001b[0;34m\"res = {}\"\u001b[0m\u001b[0;34m.\u001b[0m\u001b[0mformat\u001b[0m\u001b[0;34m(\u001b[0m\u001b[0mres_3\u001b[0m\u001b[0;34m)\u001b[0m\u001b[0;34m)\u001b[0m\u001b[0;34m\u001b[0m\u001b[0;34m\u001b[0m\u001b[0m\n",
            "\u001b[0;32m/usr/local/lib/python3.6/dist-packages/tensorflow_core/python/client/session.py\u001b[0m in \u001b[0;36mrun\u001b[0;34m(self, fetches, feed_dict, options, run_metadata)\u001b[0m\n\u001b[1;32m    954\u001b[0m     \u001b[0;32mtry\u001b[0m\u001b[0;34m:\u001b[0m\u001b[0;34m\u001b[0m\u001b[0;34m\u001b[0m\u001b[0m\n\u001b[1;32m    955\u001b[0m       result = self._run(None, fetches, feed_dict, options_ptr,\n\u001b[0;32m--> 956\u001b[0;31m                          run_metadata_ptr)\n\u001b[0m\u001b[1;32m    957\u001b[0m       \u001b[0;32mif\u001b[0m \u001b[0mrun_metadata\u001b[0m\u001b[0;34m:\u001b[0m\u001b[0;34m\u001b[0m\u001b[0;34m\u001b[0m\u001b[0m\n\u001b[1;32m    958\u001b[0m         \u001b[0mproto_data\u001b[0m \u001b[0;34m=\u001b[0m \u001b[0mtf_session\u001b[0m\u001b[0;34m.\u001b[0m\u001b[0mTF_GetBuffer\u001b[0m\u001b[0;34m(\u001b[0m\u001b[0mrun_metadata_ptr\u001b[0m\u001b[0;34m)\u001b[0m\u001b[0;34m\u001b[0m\u001b[0;34m\u001b[0m\u001b[0m\n",
            "\u001b[0;32m/usr/local/lib/python3.6/dist-packages/tensorflow_core/python/client/session.py\u001b[0m in \u001b[0;36m_run\u001b[0;34m(self, handle, fetches, feed_dict, options, run_metadata)\u001b[0m\n\u001b[1;32m   1154\u001b[0m                 \u001b[0;34m'Cannot feed value of shape %r for Tensor %r, '\u001b[0m\u001b[0;34m\u001b[0m\u001b[0;34m\u001b[0m\u001b[0m\n\u001b[1;32m   1155\u001b[0m                 \u001b[0;34m'which has shape %r'\u001b[0m \u001b[0;34m%\u001b[0m\u001b[0;34m\u001b[0m\u001b[0;34m\u001b[0m\u001b[0m\n\u001b[0;32m-> 1156\u001b[0;31m                 (np_val.shape, subfeed_t.name, str(subfeed_t.get_shape())))\n\u001b[0m\u001b[1;32m   1157\u001b[0m           \u001b[0;32mif\u001b[0m \u001b[0;32mnot\u001b[0m \u001b[0mself\u001b[0m\u001b[0;34m.\u001b[0m\u001b[0mgraph\u001b[0m\u001b[0;34m.\u001b[0m\u001b[0mis_feedable\u001b[0m\u001b[0;34m(\u001b[0m\u001b[0msubfeed_t\u001b[0m\u001b[0;34m)\u001b[0m\u001b[0;34m:\u001b[0m\u001b[0;34m\u001b[0m\u001b[0;34m\u001b[0m\u001b[0m\n\u001b[1;32m   1158\u001b[0m             \u001b[0;32mraise\u001b[0m \u001b[0mValueError\u001b[0m\u001b[0;34m(\u001b[0m\u001b[0;34m'Tensor %s may not be fed.'\u001b[0m \u001b[0;34m%\u001b[0m \u001b[0msubfeed_t\u001b[0m\u001b[0;34m)\u001b[0m\u001b[0;34m\u001b[0m\u001b[0;34m\u001b[0m\u001b[0m\n",
            "\u001b[0;31mValueError\u001b[0m: Cannot feed value of shape (3,) for Tensor 'x_in_5:0', which has shape '(2,)'"
          ]
        }
      ]
    },
    {
      "cell_type": "code",
      "metadata": {
        "colab_type": "code",
        "id": "FF-tR9AcOFxc",
        "colab": {
          "base_uri": "https://localhost:8080/",
          "height": 51
        },
        "outputId": "5a5101f0-229a-41dd-e39b-219f2f170286"
      },
      "source": [
        "x_batch_2 = [3,1]; y_batch_2 = [4,2]; z_batch_2 = [10,3]\n",
        "x_batch_3 = [1,2,3]; y_batch_3 = [4,5,6]; z_batch_3 = [7,8,9]\n",
        "\n",
        "x = tf.placeholder(tf.int32, shape= (None,), name= 'x_in')\n",
        "y = tf.placeholder(tf.int32, shape= (None,), name= 'y_in')\n",
        "z = tf.placeholder(tf.int32, shape= (None,), name= 'z_in')\n",
        "\n",
        "out_add = tf.add(x, y)\n",
        "out_multiply = tf.multiply(out_add, z)\n",
        "\n",
        "with tf.Session() as sess:\n",
        "  res_2 = sess.run(out_multiply, feed_dict = {x: x_batch_2, y: y_batch_2, z: z_batch_2})\n",
        "  print(\"res = {}\".format(res_2))\n",
        "  res_3 = sess.run(out_multiply, feed_dict = {x: x_batch_3, y: y_batch_3, z: z_batch_3})\n",
        "  print(\"res = {}\".format(res_3))\n"
      ],
      "execution_count": 10,
      "outputs": [
        {
          "output_type": "stream",
          "text": [
            "res = [70  9]\n",
            "res = [35 56 81]\n"
          ],
          "name": "stdout"
        }
      ]
    },
    {
      "cell_type": "code",
      "metadata": {
        "id": "O4yLD9Nnl0lF",
        "colab_type": "code",
        "colab": {}
      },
      "source": [
        ""
      ],
      "execution_count": 0,
      "outputs": []
    }
  ]
}