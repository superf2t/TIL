{
  "nbformat": 4,
  "nbformat_minor": 0,
  "metadata": {
    "colab": {
      "name": "Ch3_예제_12_Softmax_Classification_NumPy.ipynb",
      "provenance": [],
      "collapsed_sections": [],
      "include_colab_link": true
    },
    "kernelspec": {
      "name": "python3",
      "display_name": "Python 3"
    }
  },
  "cells": [
    {
      "cell_type": "markdown",
      "metadata": {
        "id": "view-in-github",
        "colab_type": "text"
      },
      "source": [
        "<a href=\"https://colab.research.google.com/github/KwonYN/TIL/blob/master/PYTHON/TENSORFLOW/Ch3_%EC%98%88%EC%A0%9C_12_Softmax_Classification_NumPy.ipynb\" target=\"_parent\"><img src=\"https://colab.research.google.com/assets/colab-badge.svg\" alt=\"Open In Colab\"/></a>"
      ]
    },
    {
      "cell_type": "markdown",
      "metadata": {
        "id": "M1qdcIH5hD8T",
        "colab_type": "text"
      },
      "source": [
        "# Chapter3-4. Deep Learning 기초 : Softmax Classification"
      ]
    },
    {
      "cell_type": "markdown",
      "metadata": {
        "id": "4jtCR3YxhOdM",
        "colab_type": "text"
      },
      "source": [
        ">## [예제3-12] Softmax Classification (Python)"
      ]
    },
    {
      "cell_type": "markdown",
      "metadata": {
        "id": "1A_LlSkehcbI",
        "colab_type": "text"
      },
      "source": [
        ">### Load modules"
      ]
    },
    {
      "cell_type": "code",
      "metadata": {
        "id": "OJWxIPrVg1Q7",
        "colab_type": "code",
        "colab": {
          "base_uri": "https://localhost:8080/",
          "height": 68
        },
        "outputId": "338ab80e-4efe-4ba1-93c6-9300874bc529"
      },
      "source": [
        "import numpy as np\n",
        "import matplotlib.pyplot as plt\n",
        "\n",
        "print(\"Module Loaded.\")\n",
        "print(\"NumPy Version :{}\".format(np.__version__))\n",
        "print(\"Matplotlib Version :{}\".format(plt.matplotlib.__version__))"
      ],
      "execution_count": 34,
      "outputs": [
        {
          "output_type": "stream",
          "text": [
            "Module Loaded.\n",
            "NumPy Version :1.17.4\n",
            "Matplotlib Version :3.1.1\n"
          ],
          "name": "stdout"
        }
      ]
    },
    {
      "cell_type": "markdown",
      "metadata": {
        "id": "bypsRBWbhgYJ",
        "colab_type": "text"
      },
      "source": [
        "> ### Input and Label"
      ]
    },
    {
      "cell_type": "code",
      "metadata": {
        "id": "5NnanrW5heqE",
        "colab_type": "code",
        "colab": {}
      },
      "source": [
        "x_input = np.array([  [1, 1],  [2, 2.5], [2.5, 1.3], [4.3, 9.5], [5.5, 7.0], [6, 8.2],   [7, 5],     [8, 6],   [9, 4.5] ], dtype=np.float)\n",
        "if 0:\n",
        "  labels = np.array([ [1, 0, 0], [1, 0, 0], [1, 0, 0], [0, 1, 0],  [0, 1, 0],  [0, 1, 0], [0, 0, 1], [0, 0, 1], [0, 0, 1] ], dtype=np.float)\n",
        "else:\n",
        "  labels_tmp = np.array( [0, 0, 0, 1, 1, 1, 2, 2, 2] )  # 실제 마지막에 np.argmax( ? )의 결과로 나와야 하는 것들이 이렇게 배열로 주어졌다면?\n",
        "  labels = np.eye(3)[labels_tmp]  # one-hot encoding의 형태로 만들어줌!\n",
        "\n",
        "#print(x_input)\n",
        "#print(x_input.reshape(-1, 1))\n"
      ],
      "execution_count": 0,
      "outputs": []
    },
    {
      "cell_type": "markdown",
      "metadata": {
        "id": "vVaDdfQAhv6H",
        "colab_type": "text"
      },
      "source": [
        ">### Activation Function : Softmax Function\n",
        ">$S(y_{i}) = \\frac{e^{y_{i}}}{\\sum_{j=0}^{m-1}e^{y_{j}}}$"
      ]
    },
    {
      "cell_type": "code",
      "metadata": {
        "id": "3A5xDDTHiZLm",
        "colab_type": "code",
        "colab": {}
      },
      "source": [
        "def Softmax(z: np.ndarray)->np.ndarray: # 위의 수식인 거\n",
        "    c = np.max(z, axis=1) # 한 행에서의 최대값\n",
        "    c = c.reshape((-1, 1))# n행 1열로 만들어줌!!\n",
        "                          # 그리고 바로 밑의 행에서 z - c를 해줄 때, z의 사이즈와 shape에 맞추어 스트레치될 것임!! ( n행 3열로! )\n",
        "\n",
        "    exp_z = np.exp(z - c) # np.exp(0) = 1.0 - 지수가 커지게 되면, 그 값이 exponentially 증가할 수 있음.\n",
        "                          # 그래서 최대값으로 빼주고, e^0을 해줌으로써 1로 만들어주는 것! 즉, Overflow의 가능성을 확 줄여주기 위함!\n",
        "\n",
        "    sum_exp_z = np.sum(exp_z, axis=1)\n",
        "    sum_exp_z = sum_exp_z.reshape((-1, 1))\n",
        "    y = exp_z / sum_exp_z\n",
        "    return y"
      ],
      "execution_count": 0,
      "outputs": []
    },
    {
      "cell_type": "markdown",
      "metadata": {
        "id": "QMCRwn60iZuA",
        "colab_type": "text"
      },
      "source": [
        ">## Hypothesis\n",
        ">## $H(X) = S(XW+B)$"
      ]
    },
    {
      "cell_type": "code",
      "metadata": {
        "id": "HTGXWI41hkDb",
        "colab_type": "code",
        "colab": {}
      },
      "source": [
        "n_var = 2\n",
        "n_class = 3\n",
        "\n",
        "w = np.random.normal(size=(n_var, n_class))\n",
        "b = np.random.normal(size=(n_class,))\n",
        "\n",
        "def Hypothesis(x: np.ndarray) -> np.ndarray:\n",
        "    logits = np.matmul(x, w) + b\n",
        "    return Softmax(logits)"
      ],
      "execution_count": 0,
      "outputs": []
    },
    {
      "cell_type": "markdown",
      "metadata": {
        "id": "WnPxYOxUizpI",
        "colab_type": "text"
      },
      "source": [
        ">## Cost Function : Cross Entropy Error\n",
        ">## $cost(W,b) = -\\sum_{i=1}^{m}p_{i}\\log_{2}q_{i}$"
      ]
    },
    {
      "cell_type": "code",
      "metadata": {
        "id": "DReN23b8itqg",
        "colab_type": "code",
        "colab": {}
      },
      "source": [
        "def Cost(x: np.ndarray, t: np.ndarray):  # Cross Entropy Error : 이전의 logistic regression(0이냐 1이냐 classify)와 다르게...\n",
        "                                         #                      ?\n",
        "    return np.mean(-np.sum(t * np.log(Hypothesis(x))))\n"
      ],
      "execution_count": 0,
      "outputs": []
    },
    {
      "cell_type": "markdown",
      "metadata": {
        "id": "jh_7Y4J4jfKM",
        "colab_type": "text"
      },
      "source": [
        ">### Gradient\n",
        ">### $\\frac{d}{dx}f(x) = \\lim_{\\delta = 0} \\frac{f(x+\\delta) - f(x-\\delta)}{2\\delta}$"
      ]
    },
    {
      "cell_type": "code",
      "metadata": {
        "id": "cWFxHR5Djfp7",
        "colab_type": "code",
        "colab": {
          "base_uri": "https://localhost:8080/",
          "height": 34
        },
        "outputId": "3187e90a-8c0b-4e37-e183-cc35eb476fa1"
      },
      "source": [
        "# 기울기(Gradient) : 수치 미분\n",
        "print(w.shape[0])\n",
        "\n",
        "def Gradient(x: int or np.ndarray, t: int or np.ndarray)->tuple:\n",
        "    global w, b\n",
        "    pres_w = w.copy()\n",
        "    grad_w = np.zeros_like(w)\n",
        "    delta = 1e-7\n",
        "    for idx_r in range(w.shape[0]):\n",
        "        for idx_c in range(w.shape[1]):\n",
        "            w[idx_r, idx_c] = pres_w[idx_r, idx_c] + delta\n",
        "            cost_p = Cost(x, t)\n",
        "            w[idx_r, idx_c] = pres_w[idx_r, idx_c] - delta\n",
        "            cost_m = Cost(x, t)\n",
        "            grad_w[idx_r, idx_c] = (cost_p-cost_m)/(2*delta)\n",
        "            w[idx_r, idx_c] = pres_w[idx_r, idx_c]\n",
        "\n",
        "    pres_b = b.copy()\n",
        "    grad_b = np.zeros_like(b)\n",
        "    for idx in range(b.size):\n",
        "        b[idx] = pres_b[idx] + delta\n",
        "        cost_p = Cost(x, t)\n",
        "        b[idx] = pres_b[idx] - delta\n",
        "        cost_m = Cost(x, t)\n",
        "        grad_b[idx] = (cost_p-cost_m)/(2*delta)\n",
        "        b[idx] = pres_b[idx]\n",
        "\n",
        "    return grad_w, grad_b"
      ],
      "execution_count": 39,
      "outputs": [
        {
          "output_type": "stream",
          "text": [
            "2\n"
          ],
          "name": "stdout"
        }
      ]
    },
    {
      "cell_type": "markdown",
      "metadata": {
        "id": "1CKEPUgrjtiD",
        "colab_type": "text"
      },
      "source": [
        ">## Training 준비"
      ]
    },
    {
      "cell_type": "code",
      "metadata": {
        "id": "aQ0q8BMLjtGX",
        "colab_type": "code",
        "colab": {
          "base_uri": "https://localhost:8080/",
          "height": 34
        },
        "outputId": "fbdfb646-02a6-42f4-e593-58b6307543fd"
      },
      "source": [
        "N_training = 1000000\n",
        "training_idx = np.arange(0, N_training+1, 1)\n",
        "cost_graph = np.zeros(N_training+1)\n",
        "\n",
        "cost_graph[0] = Cost(x_input, labels)\n",
        "print(\"[{:>5}] cost = {:>10.4}\".format(0, cost_graph[0]))"
      ],
      "execution_count": 40,
      "outputs": [
        {
          "output_type": "stream",
          "text": [
            "[    0] cost =      28.56\n"
          ],
          "name": "stdout"
        }
      ]
    },
    {
      "cell_type": "markdown",
      "metadata": {
        "id": "3tTZWVJ2kOqp",
        "colab_type": "text"
      },
      "source": [
        ">## Training"
      ]
    },
    {
      "cell_type": "code",
      "metadata": {
        "id": "PE77IEJLjouY",
        "colab_type": "code",
        "colab": {
          "base_uri": "https://localhost:8080/",
          "height": 204
        },
        "outputId": "d9f46eaf-af78-4fe4-fab0-5c29f1913910"
      },
      "source": [
        "# 학습 (Training)\n",
        "learning_rate = 0.01\n",
        "for cnt_training in range(1, N_training+1):\n",
        "    cost_graph[cnt_training] = Cost(x_input, labels)\n",
        "    grad_w, grad_b = Gradient(x_input, labels)\n",
        "    w -= learning_rate * grad_w\n",
        "    b -= learning_rate * grad_b\n",
        "    if cnt_training % 1000 == 0:\n",
        "        print(\"[{:>5}] cost = {:>10.4}\".format(cnt_training, cost_graph[cnt_training]))\n"
      ],
      "execution_count": 41,
      "outputs": [
        {
          "output_type": "stream",
          "text": [
            "[ 1000] cost =     0.3152\n",
            "[ 2000] cost =     0.1566\n",
            "[ 3000] cost =     0.1047\n",
            "[ 4000] cost =    0.07876\n",
            "[ 5000] cost =    0.06322\n",
            "[ 6000] cost =    0.05284\n",
            "[ 7000] cost =    0.04542\n",
            "[ 8000] cost =    0.03984\n",
            "[ 9000] cost =    0.03549\n",
            "[10000] cost =    0.03201\n",
            "[0 0 0 1 1 1 2 2 2]\n"
          ],
          "name": "stdout"
        }
      ]
    },
    {
      "cell_type": "markdown",
      "metadata": {
        "id": "0SdfjjqHkN6u",
        "colab_type": "text"
      },
      "source": [
        ">## Plotting"
      ]
    },
    {
      "cell_type": "code",
      "metadata": {
        "id": "Im_PaXBtkOHQ",
        "colab_type": "code",
        "colab": {
          "base_uri": "https://localhost:8080/",
          "height": 363
        },
        "outputId": "617256b3-151c-419b-d8c8-e147cdb601d4"
      },
      "source": [
        "print(np.argmax(Hypothesis(x_input), axis=1))\n",
        "\n",
        "\n",
        "# Training 상황에 대한 그래프 출력\n",
        "# 1)Training 회수 별 Cost 값\n",
        "fig_cost, ax_cost = plt.subplots()\n",
        "ax_cost.plot(training_idx, cost_graph)\n",
        "ax_cost.set_title(\"'Cost / Training Count' Graph\")\n",
        "ax_cost.set_xlabel(\"Train Count\")\n",
        "ax_cost.set_ylabel(\"Cost\")\n",
        "ax_cost.grid(True)\n",
        "\n",
        "plt.show()\n",
        "\n",
        "# 학습 잘 되었는지 볼까?\n",
        "print(np.argmax(Hypothesis([[0.1, 3.1]]), axis=1))\n",
        "print(np.argmax(Hypothesis([[4.7, 10.0]]), axis=1))\n",
        "print(np.argmax(Hypothesis([[9, 3.1]]), axis=1))"
      ],
      "execution_count": 45,
      "outputs": [
        {
          "output_type": "stream",
          "text": [
            "[0 0 0 1 1 1 2 2 2]\n"
          ],
          "name": "stdout"
        },
        {
          "output_type": "display_data",
          "data": {
            "image/png": "[encoded data removed]",
            "text/plain": [
              "<Figure size 432x288 with 1 Axes>"
            ]
          },
          "metadata": {
            "tags": []
          }
        },
        {
          "output_type": "stream",
          "text": [
            "[0]\n",
            "[1]\n",
            "[2]\n"
          ],
          "name": "stdout"
        }
      ]
    },
    {
      "cell_type": "code",
      "metadata": {
        "id": "1NwHRclUchzS",
        "colab_type": "code",
        "colab": {}
      },
      "source": [
        ""
      ],
      "execution_count": 0,
      "outputs": []
    }
  ]
}