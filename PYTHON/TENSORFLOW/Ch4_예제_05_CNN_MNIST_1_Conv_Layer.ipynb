{
  "nbformat": 4,
  "nbformat_minor": 0,
  "metadata": {
    "colab": {
      "name": "Ch4_예제_05_CNN_MNIST_1_Conv_Layer.ipynb",
      "provenance": [],
      "collapsed_sections": [],
      "include_colab_link": true
    },
    "kernelspec": {
      "name": "python3",
      "display_name": "Python 3"
    },
    "accelerator": "GPU"
  },
  "cells": [
    {
      "cell_type": "markdown",
      "metadata": {
        "id": "view-in-github",
        "colab_type": "text"
      },
      "source": [
        "<a href=\"https://colab.research.google.com/github/KwonYN/TIL/blob/master/PYTHON/TENSORFLOW/Ch4_%EC%98%88%EC%A0%9C_05_CNN_MNIST_1_Conv_Layer.ipynb\" target=\"_parent\"><img src=\"https://colab.research.google.com/assets/colab-badge.svg\" alt=\"Open In Colab\"/></a>"
      ]
    },
    {
      "cell_type": "markdown",
      "metadata": {
        "id": "UAoMXYfT9Cxu",
        "colab_type": "text"
      },
      "source": [
        "# Chapter4-2. CNN 기본연산"
      ]
    },
    {
      "cell_type": "markdown",
      "metadata": {
        "id": "AbA83XbncTaD",
        "colab_type": "text"
      },
      "source": [
        "## [예제5] MNIST Handwrite - Classifier by CNN : 단일 Convolution Layer"
      ]
    },
    {
      "cell_type": "markdown",
      "metadata": {
        "id": "gHtZSFJeJ3Ps",
        "colab_type": "text"
      },
      "source": [
        "> ### Load Module"
      ]
    },
    {
      "cell_type": "code",
      "metadata": {
        "id": "gXxAYyqxlNxp",
        "colab_type": "code",
        "colab": {
          "base_uri": "https://localhost:8080/",
          "height": 85
        },
        "outputId": "24e472f0-1595-4a0a-eef9-9e2509e01091"
      },
      "source": [
        "%tensorflow_version 1.x\n",
        "\n",
        "import numpy as np\n",
        "import tensorflow as tf\n",
        "import matplotlib.pyplot as plt\n",
        "\n",
        "from tensorflow.keras.datasets import mnist\n",
        "\n",
        "print(\"Module Loaded.\")\n",
        "print(\"NumPy Version :{}\".format(np.__version__))\n",
        "print(\"TensorFlow Version :{}\".format(tf.__version__))\n",
        "print(\"Matplotlib Version :{}\".format(plt.matplotlib.__version__))"
      ],
      "execution_count": 30,
      "outputs": [
        {
          "output_type": "stream",
          "text": [
            "Module Loaded.\n",
            "NumPy Version :1.17.4\n",
            "TensorFlow Version :1.15.0\n",
            "Matplotlib Version :3.1.2\n"
          ],
          "name": "stdout"
        }
      ]
    },
    {
      "cell_type": "markdown",
      "metadata": {
        "id": "9RxFbwSGc6Jy",
        "colab_type": "text"
      },
      "source": [
        "> ### Load MNIST "
      ]
    },
    {
      "cell_type": "code",
      "metadata": {
        "id": "Ywa5P3w8c37H",
        "colab_type": "code",
        "colab": {
          "base_uri": "https://localhost:8080/",
          "height": 68
        },
        "outputId": "4ea6f026-da82-4d24-ee6e-e97d1e9c5720"
      },
      "source": [
        "categories = 10 # 숫자 0 ~ 9이니까 10개의 카테고리\n",
        "\n",
        "(train_data, train_labels), (test_data, test_labels) = mnist.load_data()\n",
        "train_data_size = train_data.shape\n",
        "print(train_data.shape, test_data.shape)\n",
        "\n",
        "train_data = train_data.astype(np.float32)\n",
        "train_data = np.expand_dims(train_data, axis = 3)  # 3차원에서 Channel까지 추가하여 4차원으로 늘었넹 : axis=-1은 가장 낮은 Dimension에 추가하라는 뜻\n",
        "                                                   # 그럼 왜 해주나? : Convolution Layer의 input으로 shape=(batch, height, width, channel)을 넘겨주어야 하기 때문에\n",
        "                                                   #                  (60000, 28, 28)애서 (60000, 28, 28, 1)으로 차원을 확장해주는 것임!!!\n",
        "train_data = train_data / 255.0\n",
        "print(train_data.shape)\n",
        "\n",
        "test_data = test_data.astype(np.float32)\n",
        "test_data = np.expand_dims(test_data, axis = -1)\n",
        "test_data = test_data / 255.0\n",
        "print(test_data.shape)\n",
        "\n",
        "train_labels = train_labels.reshape((-1, 1))\n",
        "test_labels = test_labels.reshape((-1, 1))"
      ],
      "execution_count": 31,
      "outputs": [
        {
          "output_type": "stream",
          "text": [
            "(60000, 28, 28) (10000, 28, 28)\n",
            "(60000, 28, 28, 1)\n",
            "(10000, 28, 28, 1)\n"
          ],
          "name": "stdout"
        }
      ]
    },
    {
      "cell_type": "markdown",
      "metadata": {
        "id": "8zqkxBV9cotf",
        "colab_type": "text"
      },
      "source": [
        "> ### Hyper parameter"
      ]
    },
    {
      "cell_type": "code",
      "metadata": {
        "id": "VNeP-6MXcpA3",
        "colab_type": "code",
        "colab": {
          "base_uri": "https://localhost:8080/",
          "height": 34
        },
        "outputId": "1be65c46-1088-4758-a21b-ceab39369388"
      },
      "source": [
        "learning_rate = 0.001\n",
        "\n",
        "N_epoch = 100\n",
        "batch_size = 100\n",
        "batch_count = train_data_size[0]//batch_size\n",
        "print(batch_count)"
      ],
      "execution_count": 32,
      "outputs": [
        {
          "output_type": "stream",
          "text": [
            "600\n"
          ],
          "name": "stdout"
        }
      ]
    },
    {
      "cell_type": "markdown",
      "metadata": {
        "id": "YUVmbK0lddc5",
        "colab_type": "text"
      },
      "source": [
        "> ### Placeholder"
      ]
    },
    {
      "cell_type": "code",
      "metadata": {
        "id": "5XlqaSIAdSfF",
        "colab_type": "code",
        "colab": {}
      },
      "source": [
        "x_ph = tf.placeholder(tf.float32, shape=(None, 28, 28, 1), name=\"input\")\n",
        "labels_ph = tf.placeholder(tf.int32, shape=(None, 1), name=\"labels\")"
      ],
      "execution_count": 0,
      "outputs": []
    },
    {
      "cell_type": "markdown",
      "metadata": {
        "id": "9FC_wQyWdo_3",
        "colab_type": "text"
      },
      "source": [
        "> ### Define Network as function"
      ]
    },
    {
      "cell_type": "code",
      "metadata": {
        "id": "BZxy1bMzdiA9",
        "colab_type": "code",
        "colab": {}
      },
      "source": [
        "def network(x):\n",
        "\n",
        "    print(x.shape)\n",
        "    conv1 = tf.layers.conv2d(x, filters=32, kernel_size=3, padding='SAME', activation=tf.nn.sigmoid)  # Convolution 연산\n",
        "    print(conv1.shape)\n",
        "\n",
        "    pool1 = tf.layers.max_pooling2d(conv1, pool_size=2, strides=2)                                    # 위의 결과를 Pooling -> Subsampling (1/4크기로)\n",
        "    \n",
        "    flatten = tf.layers.flatten(pool1)\n",
        "    logits = tf.layers.dense(flatten, 10) # single layer이니까 한 번의 layer연산(Convolution + Pooling)의 결과를 softmax 돌려서 확률 구할 것임!!\n",
        "                                          # fully-connected layer\n",
        "    hypothesis = tf.nn.softmax(logits)    # softmax 함수를 통해 0 ~ 9, 10개의 클래스에 대한 확률이 나올 것임!\n",
        "    \n",
        "    print(\"conv1 = \",conv1)\n",
        "    print(\"pool1 = \",pool1)\n",
        "    print(\"Flatten = \", flatten)\n",
        "    print(\"logits = \", logits)\n",
        "    print(\"hypothesis = \", hypothesis)\n",
        "\n",
        "    return logits, hypothesis"
      ],
      "execution_count": 0,
      "outputs": []
    },
    {
      "cell_type": "markdown",
      "metadata": {
        "id": "ziSl-u1Vd4o1",
        "colab_type": "text"
      },
      "source": [
        "> ### Hypothesis, Cost, Optimizer"
      ]
    },
    {
      "cell_type": "code",
      "metadata": {
        "id": "HSQ43FTyd5Qx",
        "colab_type": "code",
        "colab": {
          "base_uri": "https://localhost:8080/",
          "height": 170
        },
        "outputId": "f1c535a6-3dac-45c1-fd92-871c067991db"
      },
      "source": [
        "print(\"labels_ph.shape =\", labels_ph.shape)\n",
        "\n",
        "# network의 결과로 나온 결과들에 대한 shape 주의하기!!\n",
        "logits, hypothesis = network(x_ph)\n",
        "labels_oh = tf.one_hot(labels_ph, categories) # cost를 계산하기 위하여!!\n",
        "print(\"labels_oh.shape =\",labels_oh.shape)\n",
        "\n",
        "cost = tf.reduce_mean(tf.nn.softmax_cross_entropy_with_logits_v2(labels_oh, logits))\n",
        "\n",
        "optimizer = tf.train.AdamOptimizer(learning_rate)\n",
        "train = optimizer.minimize(cost)"
      ],
      "execution_count": 42,
      "outputs": [
        {
          "output_type": "stream",
          "text": [
            "labels_ph.shape = (?, 1)\n",
            "(?, 28, 28, 1)\n",
            "(?, 28, 28, 32)\n",
            "conv1 =  Tensor(\"conv2d_5/Sigmoid:0\", shape=(?, 28, 28, 32), dtype=float32)\n",
            "pool1 =  Tensor(\"max_pooling2d_5/MaxPool:0\", shape=(?, 14, 14, 32), dtype=float32)\n",
            "Flatten =  Tensor(\"flatten_5/Reshape:0\", shape=(?, 6272), dtype=float32)\n",
            "logits =  Tensor(\"dense_5/BiasAdd:0\", shape=(?, 10), dtype=float32)\n",
            "hypothesis =  Tensor(\"Softmax_5:0\", shape=(?, 10), dtype=float32)\n",
            "labels_oh.shape = (?, 1, 10)\n"
          ],
          "name": "stdout"
        }
      ]
    },
    {
      "cell_type": "markdown",
      "metadata": {
        "id": "jsNGDxhWeeZJ",
        "colab_type": "text"
      },
      "source": [
        "> ### Accuracy, Plotting"
      ]
    },
    {
      "cell_type": "code",
      "metadata": {
        "id": "PpyGFwMTee1c",
        "colab_type": "code",
        "colab": {}
      },
      "source": [
        "def Accuracy(y:np.ndarray, t:np.ndarray)->np.float32:\n",
        "    return np.mean(np.equal(np.argmax(y, axis=1).reshape((-1, 1)),t).astype(np.float32))\n",
        "\n",
        "\n",
        "def Make_Result_Plot(suptitle:str, data:np.ndarray, label:np.ndarray, y_max:np.ndarray):\n",
        "    fig_result, ax_result = plt.subplots(2,5,figsize=(20,8))\n",
        "    fig_result.suptitle(suptitle)\n",
        "    for idx in range(10):\n",
        "        ax_result[idx//5][idx%5].imshow(data[idx].reshape(28, 28),cmap=\"binary\")\n",
        "        ax_result[idx//5][idx%5].set_title(\"test_data[{}] (label : {} / y : {})\".format(idx, label[idx], y_max[idx]))"
      ],
      "execution_count": 0,
      "outputs": []
    },
    {
      "cell_type": "markdown",
      "metadata": {
        "id": "SOhQbKNK2FhY",
        "colab_type": "text"
      },
      "source": [
        "> ### Training 준비"
      ]
    },
    {
      "cell_type": "code",
      "metadata": {
        "id": "Fv13bBvZ2F7f",
        "colab_type": "code",
        "colab": {
          "base_uri": "https://localhost:8080/",
          "height": 558
        },
        "outputId": "1525148b-8c7e-434b-8fe5-c83528d7557b"
      },
      "source": [
        "arr_epoch = []\n",
        "arr_accu = []\n",
        "\n",
        "# 학습 (Training)\n",
        "sess = tf.Session()\n",
        "sess.run(tf.global_variables_initializer())\n",
        "\n",
        "train_data_idx = np.arange(train_data_size[0])\n",
        "\n",
        "y_out = sess.run(hypothesis, feed_dict={x_ph: test_data})\n",
        "y_max = np.argmax(y_out, axis=1).reshape((-1, 1))\n",
        "Make_Result_Plot(\"Before Training\", test_data, test_labels, y_max)\n",
        "accu = Accuracy(y_out,test_labels)\n",
        "arr_epoch.append(0)\n",
        "arr_accu.append(accu)"
      ],
      "execution_count": 37,
      "outputs": [
        {
          "output_type": "display_data",
          "data": {
            "image/png": "[encoded data removed]",
            "text/plain": [
              "<Figure size 1440x576 with 10 Axes>"
            ]
          },
          "metadata": {
            "tags": []
          }
        }
      ]
    },
    {
      "cell_type": "markdown",
      "metadata": {
        "id": "eclUlI_WfFFK",
        "colab_type": "text"
      },
      "source": [
        "> ### Training"
      ]
    },
    {
      "cell_type": "code",
      "metadata": {
        "id": "MmLFPlVofDrv",
        "colab_type": "code",
        "colab": {
          "base_uri": "https://localhost:8080/",
          "height": 1000
        },
        "outputId": "3a99995b-d101-47dc-cb7b-697434373a83"
      },
      "source": [
        "%%time\n",
        "\n",
        "for epoch_idx in range(1, N_epoch+1):\n",
        "    np.random.shuffle(train_data_idx)\n",
        "    for batch_idx in range(batch_count):\n",
        "        batch_data = np.array([train_data[train_data_idx[batch_idx*batch_size+idx]] for idx in range(batch_size)])\n",
        "        batch_labels = np.array([train_labels[train_data_idx[batch_idx*batch_size+idx]] for idx in range(batch_size)])\n",
        "        sess.run(train, feed_dict={x_ph: batch_data, labels_ph: batch_labels})\n",
        "    if epoch_idx%1 == 0:\n",
        "        y_out = sess.run(hypothesis, feed_dict={x_ph: test_data})\n",
        "        accu = Accuracy(y_out,test_labels)\n",
        "        print(\"[{:>5}] accuracy = {:>10.4}\".format(epoch_idx,accu))\n",
        "        arr_epoch.append(epoch_idx)\n",
        "        arr_accu.append(accu)"
      ],
      "execution_count": 38,
      "outputs": [
        {
          "output_type": "stream",
          "text": [
            "[    1] accuracy =     0.8781\n",
            "[    2] accuracy =     0.9014\n",
            "[    3] accuracy =     0.8925\n",
            "[    4] accuracy =     0.9045\n",
            "[    5] accuracy =     0.9241\n",
            "[    6] accuracy =     0.9137\n",
            "[    7] accuracy =     0.9414\n",
            "[    8] accuracy =     0.9398\n",
            "[    9] accuracy =     0.9515\n",
            "[   10] accuracy =     0.9553\n",
            "[   11] accuracy =     0.9616\n",
            "[   12] accuracy =     0.9538\n",
            "[   13] accuracy =     0.9651\n",
            "[   14] accuracy =      0.969\n",
            "[   15] accuracy =     0.9653\n",
            "[   16] accuracy =     0.9664\n",
            "[   17] accuracy =     0.9724\n",
            "[   18] accuracy =     0.9697\n",
            "[   19] accuracy =     0.9761\n",
            "[   20] accuracy =     0.9736\n",
            "[   21] accuracy =     0.9769\n",
            "[   22] accuracy =      0.974\n",
            "[   23] accuracy =     0.9783\n",
            "[   24] accuracy =     0.9782\n",
            "[   25] accuracy =     0.9752\n",
            "[   26] accuracy =     0.9768\n",
            "[   27] accuracy =     0.9779\n",
            "[   28] accuracy =     0.9774\n",
            "[   29] accuracy =     0.9786\n",
            "[   30] accuracy =     0.9764\n",
            "[   31] accuracy =     0.9778\n",
            "[   32] accuracy =     0.9787\n",
            "[   33] accuracy =     0.9791\n",
            "[   34] accuracy =     0.9797\n",
            "[   35] accuracy =     0.9819\n",
            "[   36] accuracy =     0.9772\n",
            "[   37] accuracy =     0.9803\n",
            "[   38] accuracy =     0.9822\n",
            "[   39] accuracy =     0.9786\n",
            "[   40] accuracy =     0.9771\n",
            "[   41] accuracy =     0.9802\n",
            "[   42] accuracy =     0.9781\n",
            "[   43] accuracy =     0.9742\n",
            "[   44] accuracy =     0.9801\n",
            "[   45] accuracy =     0.9807\n",
            "[   46] accuracy =     0.9802\n",
            "[   47] accuracy =     0.9805\n",
            "[   48] accuracy =     0.9808\n",
            "[   49] accuracy =     0.9806\n",
            "[   50] accuracy =     0.9817\n",
            "[   51] accuracy =     0.9793\n",
            "[   52] accuracy =     0.9802\n",
            "[   53] accuracy =     0.9807\n",
            "[   54] accuracy =     0.9812\n",
            "[   55] accuracy =     0.9795\n",
            "[   56] accuracy =     0.9813\n",
            "[   57] accuracy =     0.9818\n",
            "[   58] accuracy =     0.9822\n",
            "[   59] accuracy =     0.9791\n",
            "[   60] accuracy =     0.9817\n",
            "[   61] accuracy =     0.9806\n",
            "[   62] accuracy =     0.9816\n",
            "[   63] accuracy =     0.9816\n",
            "[   64] accuracy =     0.9795\n",
            "[   65] accuracy =     0.9795\n",
            "[   66] accuracy =     0.9812\n",
            "[   67] accuracy =     0.9791\n",
            "[   68] accuracy =      0.981\n",
            "[   69] accuracy =     0.9786\n",
            "[   70] accuracy =     0.9796\n",
            "[   71] accuracy =     0.9789\n",
            "[   72] accuracy =     0.9822\n",
            "[   73] accuracy =     0.9817\n",
            "[   74] accuracy =     0.9801\n",
            "[   75] accuracy =     0.9814\n",
            "[   76] accuracy =     0.9802\n",
            "[   77] accuracy =     0.9812\n",
            "[   78] accuracy =      0.981\n",
            "[   79] accuracy =     0.9808\n",
            "[   80] accuracy =     0.9812\n",
            "[   81] accuracy =     0.9799\n",
            "[   82] accuracy =     0.9801\n",
            "[   83] accuracy =     0.9824\n",
            "[   84] accuracy =     0.9814\n",
            "[   85] accuracy =     0.9816\n",
            "[   86] accuracy =     0.9817\n",
            "[   87] accuracy =     0.9802\n",
            "[   88] accuracy =     0.9826\n",
            "[   89] accuracy =     0.9802\n",
            "[   90] accuracy =     0.9804\n",
            "[   91] accuracy =     0.9785\n",
            "[   92] accuracy =     0.9822\n",
            "[   93] accuracy =     0.9787\n",
            "[   94] accuracy =     0.9818\n",
            "[   95] accuracy =     0.9825\n",
            "[   96] accuracy =       0.98\n",
            "[   97] accuracy =     0.9818\n",
            "[   98] accuracy =     0.9816\n",
            "[   99] accuracy =     0.9827\n",
            "[  100] accuracy =     0.9802\n",
            "CPU times: user 2min 25s, sys: 17.8 s, total: 2min 43s\n",
            "Wall time: 2min 15s\n"
          ],
          "name": "stdout"
        }
      ]
    },
    {
      "cell_type": "code",
      "metadata": {
        "id": "inPix04YfNKM",
        "colab_type": "code",
        "colab": {
          "base_uri": "https://localhost:8080/",
          "height": 822
        },
        "outputId": "07b44ed3-a10f-4508-e514-627b1afd8ff5"
      },
      "source": [
        "# Plot : Accuracy / Epoch\n",
        "fig_cost, ax_cost = plt.subplots()\n",
        "ax_cost.plot(arr_epoch, arr_accu)\n",
        "ax_cost.set_title(\"Accuracy / Epoch (1 Convolution Layer)\")\n",
        "ax_cost.grid(True)\n",
        "ax_cost.set_ylim(0,1.1)\n",
        "\n",
        "y_out = sess.run(hypothesis, feed_dict={x_ph: test_data})\n",
        "y_max = np.argmax(y_out, axis=1).reshape((-1, 1))\n",
        "Make_Result_Plot(\"After Training\", test_data, test_labels, y_max)\n",
        "\n",
        "plt.show()"
      ],
      "execution_count": 39,
      "outputs": [
        {
          "output_type": "display_data",
          "data": {
            "image/png": "[encoded data removed]",
            "text/plain": [
              "<Figure size 432x288 with 1 Axes>"
            ]
          },
          "metadata": {
            "tags": []
          }
        },
        {
          "output_type": "display_data",
          "data": {
            "image/png": "[encoded data removed]",
            "text/plain": [
              "<Figure size 1440x576 with 10 Axes>"
            ]
          },
          "metadata": {
            "tags": []
          }
        }
      ]
    }
  ]
}