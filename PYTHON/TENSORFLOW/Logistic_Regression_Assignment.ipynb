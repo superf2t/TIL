{
  "nbformat": 4,
  "nbformat_minor": 0,
  "metadata": {
    "colab": {
      "name": "Logistic_Regression_Assignment.ipynb",
      "provenance": [],
      "collapsed_sections": [],
      "include_colab_link": true
    },
    "kernelspec": {
      "name": "python3",
      "display_name": "Python 3"
    }
  },
  "cells": [
    {
      "cell_type": "markdown",
      "metadata": {
        "id": "view-in-github",
        "colab_type": "text"
      },
      "source": [
        "<a href=\"https://colab.research.google.com/github/KwonYN/TIL/blob/master/PYTHON/TENSORFLOW/Logistic_Regression_Assignment.ipynb\" target=\"_parent\"><img src=\"https://colab.research.google.com/assets/colab-badge.svg\" alt=\"Open In Colab\"/></a>"
      ]
    },
    {
      "cell_type": "code",
      "metadata": {
        "id": "IZlCfUI1Bv44",
        "colab_type": "code",
        "colab": {
          "base_uri": "https://localhost:8080/",
          "height": 85
        },
        "outputId": "501b6e23-667e-41fe-8b53-4f75ef0aee3b"
      },
      "source": [
        "%tensorflow_version 1.x\n",
        "\n",
        "import numpy as np\n",
        "import tensorflow as tf\n",
        "import matplotlib.pyplot as plt\n",
        "\n",
        "print(\"Module Loaded.\")\n",
        "print(\"NumPy Version :{}\".format(np.__version__))\n",
        "print(\"TensorFlow Version :{}\".format(tf.__version__))\n",
        "print(\"Matplotlib Version :{}\".format(plt.matplotlib.__version__))"
      ],
      "execution_count": 52,
      "outputs": [
        {
          "output_type": "stream",
          "text": [
            "Module Loaded.\n",
            "NumPy Version :1.17.4\n",
            "TensorFlow Version :1.15.0\n",
            "Matplotlib Version :3.1.1\n"
          ],
          "name": "stdout"
        }
      ]
    },
    {
      "cell_type": "code",
      "metadata": {
        "id": "vVZxGFF6Faog",
        "colab_type": "code",
        "colab": {
          "base_uri": "https://localhost:8080/",
          "height": 51
        },
        "outputId": "11e77f40-3625-4fdf-97e7-dc8dce8fcae0"
      },
      "source": [
        "# Logistic regression : Binary Classification data\n",
        "x_input = np.array([ [0, 0], [0, 1], [1, 0], [1, 1] ])\n",
        "print(x_input.shape)\n",
        "\n",
        "# labels = np.array([ [0], [0], [0], [1] ])   # and\n",
        "# labels = np.array([ [0], [1], [1], [1] ])   # or\n",
        "# labels = np.array([ [1], [1], [1], [0] ])   # nand\n",
        "# labels = np.array([ [1], [0], [0], [0] ])   # nor\n",
        "labels = np.array([ [0], [1], [1], [0] ])   # xor\n",
        "print(labels.shape)"
      ],
      "execution_count": 53,
      "outputs": [
        {
          "output_type": "stream",
          "text": [
            "(4, 2)\n",
            "(4, 1)\n"
          ],
          "name": "stdout"
        }
      ]
    },
    {
      "cell_type": "code",
      "metadata": {
        "id": "rwinUOrnFohj",
        "colab_type": "code",
        "colab": {}
      },
      "source": [
        "# placeholder\n",
        "x_ph = tf.placeholder(tf.float32, (None, 2), name=\"input\")\n",
        "labels_ph = tf.placeholder(tf.float32, (None, 1), name=\"target\")"
      ],
      "execution_count": 0,
      "outputs": []
    },
    {
      "cell_type": "code",
      "metadata": {
        "id": "yzOu5lMrGIs8",
        "colab_type": "code",
        "colab": {}
      },
      "source": [
        "# Weight, Bias\n",
        "w = tf.Variable(tf.random.normal((2, 1)), dtype=tf.float32, name=\"weight\")\n",
        "b = tf.Variable(tf.random.normal((1, 1)), dtype=tf.float32, name=\"bias\")\n"
      ],
      "execution_count": 0,
      "outputs": []
    },
    {
      "cell_type": "code",
      "metadata": {
        "id": "5XOyIvEmGO5m",
        "colab_type": "code",
        "colab": {}
      },
      "source": [
        "# Hypothesis, Cost\n",
        "hypothesis = tf.sigmoid(tf.matmul(x_ph ,w) + b)\n",
        "cost = -tf.reduce_mean(labels_ph * tf.log(hypothesis) + (1 - labels_ph) * tf.log(1 - hypothesis))"
      ],
      "execution_count": 0,
      "outputs": []
    },
    {
      "cell_type": "code",
      "metadata": {
        "id": "znkCTDCsGZs1",
        "colab_type": "code",
        "colab": {}
      },
      "source": [
        "learning_rate = 0.01\n",
        "\n",
        "optimizer = tf.train.GradientDescentOptimizer(learning_rate)\n",
        "train = optimizer.minimize(cost)"
      ],
      "execution_count": 0,
      "outputs": []
    },
    {
      "cell_type": "code",
      "metadata": {
        "id": "VUgPSmrCGdj-",
        "colab_type": "code",
        "colab": {}
      },
      "source": [
        "N_training = 100000\n",
        "training_idx = np.arange(0, N_training+1, 1)\n",
        "cost_graph = np.zeros(N_training+1)\n",
        "check = np.array([0, 1000, 8000, 20000, 40000, N_training])\n",
        "w_trained = []\n",
        "b_trained = []\n",
        "check_idx = 0"
      ],
      "execution_count": 0,
      "outputs": []
    },
    {
      "cell_type": "code",
      "metadata": {
        "id": "6zXnN12EGv7z",
        "colab_type": "code",
        "colab": {
          "base_uri": "https://localhost:8080/",
          "height": 1000
        },
        "outputId": "0ebaac15-b704-4d0c-ac3b-e5c7376c2dca"
      },
      "source": [
        "%%time\n",
        "# 학습 (Training)\n",
        "sess = tf.Session()\n",
        "sess.run(tf.global_variables_initializer())\n",
        "for cnt_training in range(1, N_training+1):\n",
        "    _, cost_res, w_res, b_res = sess.run((train, cost, w, b), feed_dict={x_ph: x_input, labels_ph: labels})\n",
        "    cost_graph[cnt_training-1] = cost_res\n",
        "    if check[check_idx] == cnt_training-1:\n",
        "        w_trained.append(w_res)\n",
        "        b_trained.append(b_res)\n",
        "        check_idx += 1\n",
        "    if cnt_training % 1000 == 1:\n",
        "        print(\"[{:>5}] cost = {:>10.4}, w = [[{:>7.4}] [{:>7.4}]], b = [[{:>7.4}]]\".format(cnt_training-1, cost_graph[cnt_training-1], w_res[0][0], w_res[1][0], b_res[0][0]))\n",
        "\n",
        "cost_res, w_res, b_res = sess.run((cost, w, b), feed_dict={x_ph: x_input, labels_ph: labels})\n",
        "cost_graph[cnt_training-1] = cost_res\n",
        "w_trained.append(w_res)\n",
        "b_trained.append(b_res)\n",
        "print(\"[{:>5}] cost = {:>10.4}, w = [[{:>7.4}] [{:>7.4}]], b = [[{:>7.4}]]\".format(N_training, cost_graph[N_training], w_res[0][0], w_res[1][0], b_res[0][0]))\n"
      ],
      "execution_count": 59,
      "outputs": [
        {
          "output_type": "stream",
          "text": [
            "[    0] cost =     0.9348, w = [[ 0.5498] [-0.8915]], b = [[ -1.199]]\n",
            "[ 1000] cost =     0.7066, w = [[ 0.6115] [-0.1994]], b = [[-0.2781]]\n",
            "[ 2000] cost =     0.6976, w = [[ 0.3651] [-0.07108]], b = [[-0.1753]]\n",
            "[ 3000] cost =     0.6947, w = [[ 0.2164] [-0.01733]], b = [[-0.1182]]\n",
            "[ 4000] cost =     0.6937, w = [[ 0.1299] [0.004692]], b = [[-0.07981]]\n",
            "[ 5000] cost =     0.6934, w = [[0.07894] [0.01195]], b = [[-0.05391]]\n",
            "[ 6000] cost =     0.6932, w = [[0.04862] [0.01277]], b = [[-0.03641]]\n",
            "[ 7000] cost =     0.6932, w = [[0.03033] [0.01114]], b = [[-0.02459]]\n",
            "[ 8000] cost =     0.6932, w = [[0.01914] [0.008871]], b = [[-0.01661]]\n",
            "[ 9000] cost =     0.6932, w = [[0.01221] [0.006712]], b = [[-0.01122]]\n",
            "[10000] cost =     0.6932, w = [[0.00786] [0.004919]], b = [[-0.007579]]\n",
            "[11000] cost =     0.6931, w = [[0.005102] [0.003529]], b = [[-0.005119]]\n",
            "[12000] cost =     0.6931, w = [[0.003336] [0.002494]], b = [[-0.003457]]\n",
            "[13000] cost =     0.6931, w = [[0.002194] [0.001743]], b = [[-0.002335]]\n",
            "[14000] cost =     0.6931, w = [[0.00145] [0.001209]], b = [[-0.001577]]\n",
            "[15000] cost =     0.6931, w = [[0.0009627] [0.0008337]], b = [[-0.001065]]\n",
            "[16000] cost =     0.6931, w = [[0.0006411] [0.0005721]], b = [[-0.0007196]]\n",
            "[17000] cost =     0.6931, w = [[0.0004283] [0.0003913]], b = [[-0.000486]]\n",
            "[18000] cost =     0.6931, w = [[0.0002867] [0.0002669]], b = [[-0.0003283]]\n",
            "[19000] cost =     0.6931, w = [[0.0001922] [0.0001816]], b = [[-0.0002217]]\n",
            "[20000] cost =     0.6931, w = [[0.0001291] [0.0001234]], b = [[-0.0001498]]\n",
            "[21000] cost =     0.6931, w = [[8.678e-05] [8.375e-05]], b = [[-0.0001011]]\n",
            "[22000] cost =     0.6931, w = [[5.84e-05] [5.678e-05]], b = [[-6.832e-05]]\n",
            "[23000] cost =     0.6931, w = [[3.933e-05] [3.846e-05]], b = [[-4.614e-05]]\n",
            "[24000] cost =     0.6931, w = [[2.649e-05] [2.603e-05]], b = [[-3.116e-05]]\n",
            "[25000] cost =     0.6931, w = [[1.786e-05] [1.761e-05]], b = [[-2.105e-05]]\n",
            "[26000] cost =     0.6931, w = [[1.205e-05] [1.191e-05]], b = [[-1.421e-05]]\n",
            "[27000] cost =     0.6931, w = [[8.107e-06] [8.045e-06]], b = [[-9.615e-06]]\n",
            "[28000] cost =     0.6931, w = [[5.458e-06] [5.428e-06]], b = [[-6.508e-06]]\n",
            "[29000] cost =     0.6931, w = [[3.693e-06] [3.675e-06]], b = [[-4.378e-06]]\n",
            "[30000] cost =     0.6931, w = [[2.478e-06] [2.474e-06]], b = [[-2.988e-06]]\n",
            "[31000] cost =     0.6931, w = [[1.687e-06] [1.686e-06]], b = [[-1.985e-06]]\n",
            "[32000] cost =     0.6931, w = [[1.136e-06] [1.136e-06]], b = [[-1.349e-06]]\n",
            "[33000] cost =     0.6931, w = [[7.545e-07] [7.544e-07]], b = [[-9.332e-07]]\n",
            "[34000] cost =     0.6931, w = [[4.897e-07] [4.896e-07]], b = [[-6.537e-07]]\n",
            "[35000] cost =     0.6931, w = [[3.407e-07] [3.406e-07]], b = [[-5.047e-07]]\n",
            "[36000] cost =     0.6931, w = [[2.123e-07] [2.121e-07]], b = [[-3.351e-07]]\n",
            "[37000] cost =     0.6931, w = [[1.533e-07] [1.531e-07]], b = [[-2.172e-07]]\n",
            "[38000] cost =     0.6931, w = [[1.34e-07] [1.339e-07]], b = [[-1.788e-07]]\n",
            "[39000] cost =     0.6931, w = [[1.34e-07] [1.339e-07]], b = [[-1.788e-07]]\n",
            "[40000] cost =     0.6931, w = [[1.34e-07] [1.339e-07]], b = [[-1.788e-07]]\n",
            "[41000] cost =     0.6931, w = [[1.34e-07] [1.339e-07]], b = [[-1.788e-07]]\n",
            "[42000] cost =     0.6931, w = [[1.34e-07] [1.339e-07]], b = [[-1.788e-07]]\n",
            "[43000] cost =     0.6931, w = [[1.34e-07] [1.339e-07]], b = [[-1.788e-07]]\n",
            "[44000] cost =     0.6931, w = [[1.34e-07] [1.339e-07]], b = [[-1.788e-07]]\n",
            "[45000] cost =     0.6931, w = [[1.34e-07] [1.339e-07]], b = [[-1.788e-07]]\n",
            "[46000] cost =     0.6931, w = [[1.34e-07] [1.339e-07]], b = [[-1.788e-07]]\n",
            "[47000] cost =     0.6931, w = [[1.34e-07] [1.339e-07]], b = [[-1.788e-07]]\n",
            "[48000] cost =     0.6931, w = [[1.34e-07] [1.339e-07]], b = [[-1.788e-07]]\n",
            "[49000] cost =     0.6931, w = [[1.34e-07] [1.339e-07]], b = [[-1.788e-07]]\n",
            "[50000] cost =     0.6931, w = [[1.34e-07] [1.339e-07]], b = [[-1.788e-07]]\n",
            "[51000] cost =     0.6931, w = [[1.34e-07] [1.339e-07]], b = [[-1.788e-07]]\n",
            "[52000] cost =     0.6931, w = [[1.34e-07] [1.339e-07]], b = [[-1.788e-07]]\n",
            "[53000] cost =     0.6931, w = [[1.34e-07] [1.339e-07]], b = [[-1.788e-07]]\n",
            "[54000] cost =     0.6931, w = [[1.34e-07] [1.339e-07]], b = [[-1.788e-07]]\n",
            "[55000] cost =     0.6931, w = [[1.34e-07] [1.339e-07]], b = [[-1.788e-07]]\n",
            "[56000] cost =     0.6931, w = [[1.34e-07] [1.339e-07]], b = [[-1.788e-07]]\n",
            "[57000] cost =     0.6931, w = [[1.34e-07] [1.339e-07]], b = [[-1.788e-07]]\n",
            "[58000] cost =     0.6931, w = [[1.34e-07] [1.339e-07]], b = [[-1.788e-07]]\n",
            "[59000] cost =     0.6931, w = [[1.34e-07] [1.339e-07]], b = [[-1.788e-07]]\n",
            "[60000] cost =     0.6931, w = [[1.34e-07] [1.339e-07]], b = [[-1.788e-07]]\n",
            "[61000] cost =     0.6931, w = [[1.34e-07] [1.339e-07]], b = [[-1.788e-07]]\n",
            "[62000] cost =     0.6931, w = [[1.34e-07] [1.339e-07]], b = [[-1.788e-07]]\n",
            "[63000] cost =     0.6931, w = [[1.34e-07] [1.339e-07]], b = [[-1.788e-07]]\n",
            "[64000] cost =     0.6931, w = [[1.34e-07] [1.339e-07]], b = [[-1.788e-07]]\n",
            "[65000] cost =     0.6931, w = [[1.34e-07] [1.339e-07]], b = [[-1.788e-07]]\n",
            "[66000] cost =     0.6931, w = [[1.34e-07] [1.339e-07]], b = [[-1.788e-07]]\n",
            "[67000] cost =     0.6931, w = [[1.34e-07] [1.339e-07]], b = [[-1.788e-07]]\n",
            "[68000] cost =     0.6931, w = [[1.34e-07] [1.339e-07]], b = [[-1.788e-07]]\n",
            "[69000] cost =     0.6931, w = [[1.34e-07] [1.339e-07]], b = [[-1.788e-07]]\n",
            "[70000] cost =     0.6931, w = [[1.34e-07] [1.339e-07]], b = [[-1.788e-07]]\n",
            "[71000] cost =     0.6931, w = [[1.34e-07] [1.339e-07]], b = [[-1.788e-07]]\n",
            "[72000] cost =     0.6931, w = [[1.34e-07] [1.339e-07]], b = [[-1.788e-07]]\n",
            "[73000] cost =     0.6931, w = [[1.34e-07] [1.339e-07]], b = [[-1.788e-07]]\n",
            "[74000] cost =     0.6931, w = [[1.34e-07] [1.339e-07]], b = [[-1.788e-07]]\n",
            "[75000] cost =     0.6931, w = [[1.34e-07] [1.339e-07]], b = [[-1.788e-07]]\n",
            "[76000] cost =     0.6931, w = [[1.34e-07] [1.339e-07]], b = [[-1.788e-07]]\n",
            "[77000] cost =     0.6931, w = [[1.34e-07] [1.339e-07]], b = [[-1.788e-07]]\n",
            "[78000] cost =     0.6931, w = [[1.34e-07] [1.339e-07]], b = [[-1.788e-07]]\n",
            "[79000] cost =     0.6931, w = [[1.34e-07] [1.339e-07]], b = [[-1.788e-07]]\n",
            "[80000] cost =     0.6931, w = [[1.34e-07] [1.339e-07]], b = [[-1.788e-07]]\n",
            "[81000] cost =     0.6931, w = [[1.34e-07] [1.339e-07]], b = [[-1.788e-07]]\n",
            "[82000] cost =     0.6931, w = [[1.34e-07] [1.339e-07]], b = [[-1.788e-07]]\n",
            "[83000] cost =     0.6931, w = [[1.34e-07] [1.339e-07]], b = [[-1.788e-07]]\n",
            "[84000] cost =     0.6931, w = [[1.34e-07] [1.339e-07]], b = [[-1.788e-07]]\n",
            "[85000] cost =     0.6931, w = [[1.34e-07] [1.339e-07]], b = [[-1.788e-07]]\n",
            "[86000] cost =     0.6931, w = [[1.34e-07] [1.339e-07]], b = [[-1.788e-07]]\n",
            "[87000] cost =     0.6931, w = [[1.34e-07] [1.339e-07]], b = [[-1.788e-07]]\n",
            "[88000] cost =     0.6931, w = [[1.34e-07] [1.339e-07]], b = [[-1.788e-07]]\n",
            "[89000] cost =     0.6931, w = [[1.34e-07] [1.339e-07]], b = [[-1.788e-07]]\n",
            "[90000] cost =     0.6931, w = [[1.34e-07] [1.339e-07]], b = [[-1.788e-07]]\n",
            "[91000] cost =     0.6931, w = [[1.34e-07] [1.339e-07]], b = [[-1.788e-07]]\n",
            "[92000] cost =     0.6931, w = [[1.34e-07] [1.339e-07]], b = [[-1.788e-07]]\n",
            "[93000] cost =     0.6931, w = [[1.34e-07] [1.339e-07]], b = [[-1.788e-07]]\n",
            "[94000] cost =     0.6931, w = [[1.34e-07] [1.339e-07]], b = [[-1.788e-07]]\n",
            "[95000] cost =     0.6931, w = [[1.34e-07] [1.339e-07]], b = [[-1.788e-07]]\n",
            "[96000] cost =     0.6931, w = [[1.34e-07] [1.339e-07]], b = [[-1.788e-07]]\n",
            "[97000] cost =     0.6931, w = [[1.34e-07] [1.339e-07]], b = [[-1.788e-07]]\n",
            "[98000] cost =     0.6931, w = [[1.34e-07] [1.339e-07]], b = [[-1.788e-07]]\n",
            "[99000] cost =     0.6931, w = [[1.34e-07] [1.339e-07]], b = [[-1.788e-07]]\n",
            "[100000] cost =        0.0, w = [[1.34e-07] [1.339e-07]], b = [[-1.788e-07]]\n",
            "CPU times: user 1min 7s, sys: 2.93 s, total: 1min 10s\n",
            "Wall time: 57.9 s\n"
          ],
          "name": "stdout"
        }
      ]
    },
    {
      "cell_type": "code",
      "metadata": {
        "id": "y4AuY7EqG1Vz",
        "colab_type": "code",
        "colab": {
          "base_uri": "https://localhost:8080/",
          "height": 102
        },
        "outputId": "f84503ff-6c37-42be-bac5-2140c3e869fd"
      },
      "source": [
        "# Training 상황에 대한 그래프 출력\n",
        "print(\"[Training Test]\")\n",
        "y = sess.run(hypothesis, feed_dict={x_ph:x_input})\n",
        "y = y.reshape((-1,))\n",
        "Y = [int(y_elem>0.5) for y_elem in y]\n",
        "for idx in range(x_input.shape[0]):\n",
        "    print(\"Input {} , Target : {} => Y :{:>2}(y:{:>5.2})\".format(x_input[idx], labels[idx], Y[idx], y[idx]))"
      ],
      "execution_count": 60,
      "outputs": [
        {
          "output_type": "stream",
          "text": [
            "[Training Test]\n",
            "Input [0 0] , Target : [0] => Y : 0(y:  0.5)\n",
            "Input [0 1] , Target : [1] => Y : 0(y:  0.5)\n",
            "Input [1 0] , Target : [1] => Y : 0(y:  0.5)\n",
            "Input [1 1] , Target : [0] => Y : 0(y:  0.5)\n"
          ],
          "name": "stdout"
        }
      ]
    },
    {
      "cell_type": "code",
      "metadata": {
        "id": "QxDJRc5lHEPb",
        "colab_type": "code",
        "colab": {
          "base_uri": "https://localhost:8080/",
          "height": 1000
        },
        "outputId": "17a1b0ca-bd50-4cc8-85e2-df33275a1223"
      },
      "source": [
        "# Training 상황에 대한 그래프 출력\n",
        "# 1)Training 회수 별 Cost 값\n",
        "fig_cost, ax_cost = plt.subplots()\n",
        "ax_cost.plot(training_idx, cost_graph)\n",
        "ax_cost.set_title(\"'Cost / Training Count' Graph\")\n",
        "ax_cost.set_xlabel(\"Train Count\")\n",
        "ax_cost.set_ylabel(\"Cost\")\n",
        "ax_cost.grid(True)\n",
        "\n",
        "\n",
        "# 2) 구분선 그려넣을 계획\n",
        "x_decision = np.linspace(0, 5, 1000)\n",
        "x_col = x_input[:, 0]\n",
        "x_row = x_input[:, 1]\n",
        "fig_hypothesis, ax_hypothesis = plt.subplots(2, 3, figsize=(15, 11))\n",
        "fig_hypothesis.suptitle(\"'Hypothesis / Training Count' Graph\")\n",
        "for ax_idx in range(check.size):\n",
        "    w = w_trained[ax_idx]\n",
        "    b = b_trained[ax_idx]\n",
        "    y_decision = -(w[0][0] * x_decision + b[0][0])/w[1][0] \n",
        "    ax_hypothesis[ax_idx // 3][ax_idx % 3].scatter(x_col[:3], x_row[:3], color='blue')\n",
        "    ax_hypothesis[ax_idx // 3][ax_idx % 3].scatter(x_col[3:], x_row[3:], color='red')\n",
        "    ax_hypothesis[ax_idx // 3][ax_idx % 3].plot(x_decision, y_decision, label=' Decision Boundary', color='green')\n",
        "    ax_hypothesis[ax_idx // 3][ax_idx % 3].set_title(\"Train Count : {}\".format(check[ax_idx]))\n",
        "    ax_hypothesis[ax_idx // 3][ax_idx % 3].set_xlim((0, 5))\n",
        "    ax_hypothesis[ax_idx // 3][ax_idx % 3].set_ylim((0, 5))\n",
        "    ax_hypothesis[ax_idx // 3][ax_idx % 3].set_xlabel(\"x\")\n",
        "    ax_hypothesis[ax_idx // 3][ax_idx % 3].set_ylabel(\"y\")\n",
        "    ax_hypothesis[ax_idx // 3][ax_idx % 3].grid(True)\n",
        "    ax_hypothesis[ax_idx // 3][ax_idx % 3].legend()\n",
        "\n",
        "plt.show()"
      ],
      "execution_count": 61,
      "outputs": [
        {
          "output_type": "display_data",
          "data": {
            "image/png": "[encoded data removed]",
            "text/plain": [
              "<Figure size 432x288 with 1 Axes>"
            ]
          },
          "metadata": {
            "tags": []
          }
        },
        {
          "output_type": "display_data",
          "data": {
            "image/png": "[encoded data removed]",
            "text/plain": [
              "<Figure size 1080x792 with 6 Axes>"
            ]
          },
          "metadata": {
            "tags": []
          }
        }
      ]
    },
    {
      "cell_type": "code",
      "metadata": {
        "id": "icybbxj3HFMm",
        "colab_type": "code",
        "colab": {}
      },
      "source": [
        ""
      ],
      "execution_count": 0,
      "outputs": []
    }
  ]
}