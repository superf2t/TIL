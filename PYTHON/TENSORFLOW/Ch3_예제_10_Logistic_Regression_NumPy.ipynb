{
  "nbformat": 4,
  "nbformat_minor": 0,
  "metadata": {
    "colab": {
      "name": "Ch3_예제_10_Logistic_Regression_NumPy.ipynb",
      "provenance": [],
      "collapsed_sections": [],
      "include_colab_link": true
    },
    "kernelspec": {
      "name": "python3",
      "display_name": "Python 3"
    }
  },
  "cells": [
    {
      "cell_type": "markdown",
      "metadata": {
        "id": "view-in-github",
        "colab_type": "text"
      },
      "source": [
        "<a href=\"https://colab.research.google.com/github/KwonYN/TIL/blob/master/PYTHON/TENSORFLOW/Ch3_%EC%98%88%EC%A0%9C_10_Logistic_Regression_NumPy.ipynb\" target=\"_parent\"><img src=\"https://colab.research.google.com/assets/colab-badge.svg\" alt=\"Open In Colab\"/></a>"
      ]
    },
    {
      "cell_type": "markdown",
      "metadata": {
        "id": "VMkx3AlxTYCJ",
        "colab_type": "text"
      },
      "source": [
        "# Chapter3-3. Deep Learning 기초 : Logistic Regression"
      ]
    },
    {
      "cell_type": "markdown",
      "metadata": {
        "id": "Zxg_MEg_TXB1",
        "colab_type": "text"
      },
      "source": [
        ">## [예제3-10] Logostic Regression (Python)"
      ]
    },
    {
      "cell_type": "markdown",
      "metadata": {
        "id": "BpEbIgePWepb",
        "colab_type": "text"
      },
      "source": [
        ">### Load modules"
      ]
    },
    {
      "cell_type": "code",
      "metadata": {
        "id": "UsmhYOAqOTDi",
        "colab_type": "code",
        "colab": {
          "base_uri": "https://localhost:8080/",
          "height": 68
        },
        "outputId": "8f024011-5bed-4194-b0ad-6bb314515f86"
      },
      "source": [
        "import numpy as np\n",
        "import matplotlib.pyplot as plt\n",
        "\n",
        "print(\"Module Loaded.\")\n",
        "print(\"NumPy Version :{}\".format(np.__version__))\n",
        "print(\"Matplotlib Version :{}\".format(plt.matplotlib.__version__))"
      ],
      "execution_count": 2,
      "outputs": [
        {
          "output_type": "stream",
          "text": [
            "Module Loaded.\n",
            "NumPy Version :1.17.4\n",
            "Matplotlib Version :3.1.1\n"
          ],
          "name": "stdout"
        }
      ]
    },
    {
      "cell_type": "markdown",
      "metadata": {
        "id": "3QweHtPWX0KL",
        "colab_type": "text"
      },
      "source": [
        "> ### Input and Label"
      ]
    },
    {
      "cell_type": "code",
      "metadata": {
        "id": "s4wnqsiMWgum",
        "colab_type": "code",
        "colab": {}
      },
      "source": [
        "# Logistic regression : Binary Classification data  (p.158)\n",
        "x_input = np.array([[1, 1], [2, 1], [1, 2], [0.5, 4], [4, 1], [2.5, 2.3]])\n",
        "labels = np.array([0, 0, 0, 1, 1, 1])"
      ],
      "execution_count": 0,
      "outputs": []
    },
    {
      "cell_type": "markdown",
      "metadata": {
        "id": "oHSGMnipYRVp",
        "colab_type": "text"
      },
      "source": [
        ">### Activation Function : Sigmoid Function\n",
        ">$\\sigma(x) = \\frac{1}{1+e^{-x}}$\n",
        ">### Hypothesis : Logistic Equation\n",
        ">### $H(x) = \\sigma(XW + b$)"
      ]
    },
    {
      "cell_type": "code",
      "metadata": {
        "id": "_xdTNxoeXyc4",
        "colab_type": "code",
        "colab": {
          "base_uri": "https://localhost:8080/",
          "height": 34
        },
        "outputId": "508dcb3f-6cd2-48a9-dd34-2fc1e4f71fa9"
      },
      "source": [
        "# Weight, Bias\n",
        "w = np.random.normal(size=(2,))\n",
        "b = np.random.normal()\n",
        "\n",
        "# 활성 함수(Activate Function) : Sigmoid Function\n",
        "def Sigmoid(x: float or np.ndarray)->float or np.ndarray:\n",
        "    return 1 / (1+np.exp(-x))\n",
        "\n",
        "\n",
        "# 가설(Hypothesis)\n",
        "def Hypothesis(x: float or np.ndarray)->float or np.ndarray:\n",
        "    return Sigmoid(np.matmul(x, w) + b)\n",
        "\n",
        "\n",
        "print(Hypothesis(x_input).shape)  # input을 가설에 넣었을 때 결과의 shape이 궁금해서.."
      ],
      "execution_count": 13,
      "outputs": [
        {
          "output_type": "stream",
          "text": [
            "(6,)\n"
          ],
          "name": "stdout"
        }
      ]
    },
    {
      "cell_type": "markdown",
      "metadata": {
        "id": "5i3dk_umZ69J",
        "colab_type": "text"
      },
      "source": [
        ">### Cost Function : Cross Entropy Error\n",
        ">### $cost(W,b) = \\frac{1}{m}\\sum_{i=1}^{m}t\\log{H(x_{i}})+(1-t)\\log{(1-H(x_{i}}))$"
      ]
    },
    {
      "cell_type": "code",
      "metadata": {
        "id": "M6MA4wO8aI1x",
        "colab_type": "code",
        "colab": {
          "base_uri": "https://localhost:8080/",
          "height": 34
        },
        "outputId": "fb4f3239-53b0-4baa-b1a0-c521ee211b14"
      },
      "source": [
        "# Cost Function : Cross Entropy Error - 실제 결과와 가설이 계산한 확률이 얼마나 차이가 나는지!\n",
        "def Cost(x: float or np.ndarray, t: float or np.ndarray)->float:\n",
        "    h = Hypothesis(x)\n",
        "    return -np.mean( t * np.log(h) + (1-t) * np.log(1-h) )\n",
        "\n",
        "\n",
        "print( Cost(x_input, labels).shape )  # 결과값은 스칼라 값"
      ],
      "execution_count": 17,
      "outputs": [
        {
          "output_type": "stream",
          "text": [
            "()\n"
          ],
          "name": "stdout"
        }
      ]
    },
    {
      "cell_type": "markdown",
      "metadata": {
        "id": "PvirP6LYbVnL",
        "colab_type": "text"
      },
      "source": [
        ">### Gradient\n",
        ">### $\\frac{d}{dx}f(x) = \\lim_{\\delta = 0} \\frac{f(x+\\delta) - f(x-\\delta)}{2\\delta}$"
      ]
    },
    {
      "cell_type": "code",
      "metadata": {
        "id": "QJ9p34fGYQX8",
        "colab_type": "code",
        "colab": {}
      },
      "source": [
        "def Gradient(x: float or np.ndarray, t: float or np.ndarray)->tuple:\n",
        "    global w, b\n",
        "    pres_w = w.copy()\n",
        "    grad_w = np.zeros_like(w)\n",
        "    delta = 1e-7\n",
        "\n",
        "    for idx in range(w.size):\n",
        "        w[idx] = pres_w[idx] + delta\n",
        "        cost_p = Cost(x, t)\n",
        "        w[idx] = pres_w[idx] - delta\n",
        "        cost_m = Cost(x, t)\n",
        "        grad_w[idx] = (cost_p-cost_m)/(2*delta)\n",
        "        w[idx] = pres_w[idx]\n",
        "\n",
        "\n",
        "    pres_b = b\n",
        "\n",
        "    b = pres_b + delta\n",
        "    cost_p = Cost(x, t)\n",
        "    b = pres_b - delta\n",
        "    cost_m = Cost(x, t)\n",
        "    grad_b = (cost_p-cost_m)/(2*delta)\n",
        "    \n",
        "    b = pres_b\n",
        "\n",
        "    return grad_w, grad_b"
      ],
      "execution_count": 0,
      "outputs": []
    },
    {
      "cell_type": "markdown",
      "metadata": {
        "id": "7IialSicb6hY",
        "colab_type": "text"
      },
      "source": [
        ">### 학습 준비 과정"
      ]
    },
    {
      "cell_type": "code",
      "metadata": {
        "id": "sYeOqUv0b66f",
        "colab_type": "code",
        "colab": {
          "base_uri": "https://localhost:8080/",
          "height": 34
        },
        "outputId": "de62cb80-5c51-489c-9fbd-df1273e376a9"
      },
      "source": [
        "N_training = 100000\n",
        "training_idx = np.arange(0, N_training+1, 1)\n",
        "cost_graph = np.zeros(N_training+1)\n",
        "\n",
        "cost_graph[0] = Cost(x_input, labels)\n",
        "print(\"[{:>5}] cost = {:>10.4}, w = [{:>7.4} {:>7.4}], b = {:>7.4}\".format(0, cost_graph[0], w[0], w[1], b))\n",
        "\n",
        "check = np.array([0, 1000, 8000, 20000, 40000, N_training])\n",
        "w_trained = []\n",
        "b_trained = []\n",
        "w_trained.append(w)\n",
        "b_trained.append(b)\n",
        "check_idx = 1"
      ],
      "execution_count": 10,
      "outputs": [
        {
          "output_type": "stream",
          "text": [
            "[    0] cost =      1.104, w = [ -0.778   1.662], b =  0.1733\n"
          ],
          "name": "stdout"
        }
      ]
    },
    {
      "cell_type": "markdown",
      "metadata": {
        "id": "zx855BsIcJD2",
        "colab_type": "text"
      },
      "source": [
        ">### Training\n",
        ">### $\\mu$ : Learning rate\n",
        ">### $W = W - \\mu\\frac{\\partial}{\\partial W}cost(W, b)$\n",
        ">### $b = b - \\mu\\frac{\\partial}{\\partial b}cost(W, b)$"
      ]
    },
    {
      "cell_type": "code",
      "metadata": {
        "id": "KwCfEkImcJWX",
        "colab_type": "code",
        "colab": {
          "base_uri": "https://localhost:8080/",
          "height": 1000
        },
        "outputId": "f9b7b471-98cb-48e9-ec58-496580edcd2d"
      },
      "source": [
        "# 학습 (Training)\n",
        "learning_rate = 0.01\n",
        "for cnt_training in range(1, N_training+1):\n",
        "    cost_graph[cnt_training] = Cost(x_input, labels)\n",
        "    grad_w, grad_b = Gradient(x_input, labels)\n",
        "    w -= learning_rate * grad_w\n",
        "    b -= learning_rate * grad_b\n",
        "    if check[check_idx] == cnt_training:\n",
        "        w_trained.append(w)\n",
        "        b_trained.append(b)\n",
        "        check_idx += 1\n",
        "    if cnt_training % 1000 == 0:\n",
        "        print(\"[{:>5}] cost = {:>10.4}, w = [{:>7.4} {:>7.4}], b = {:>7.4}\".format(cnt_training, cost_graph[cnt_training], w[0], w[1], b))\n"
      ],
      "execution_count": 11,
      "outputs": [
        {
          "output_type": "stream",
          "text": [
            "[ 1000] cost =     0.5223, w = [ 0.3335  0.4899], b =  -1.122\n",
            "[ 2000] cost =     0.4329, w = [ 0.5792  0.6953], b =  -2.009\n",
            "[ 3000] cost =     0.3682, w = [ 0.7608  0.9003], b =  -2.764\n",
            "[ 4000] cost =     0.3196, w = [ 0.9178   1.079], b =  -3.419\n",
            "[ 5000] cost =     0.2822, w = [  1.056   1.235], b =  -3.994\n",
            "[ 6000] cost =     0.2524, w = [  1.179   1.375], b =  -4.506\n",
            "[ 7000] cost =     0.2283, w = [   1.29     1.5], b =  -4.967\n",
            "[ 8000] cost =     0.2084, w = [  1.391   1.614], b =  -5.387\n",
            "[ 9000] cost =     0.1916, w = [  1.483   1.719], b =  -5.772\n",
            "[10000] cost =     0.1773, w = [  1.568   1.815], b =  -6.127\n",
            "[11000] cost =      0.165, w = [  1.647   1.905], b =  -6.457\n",
            "[12000] cost =     0.1543, w = [  1.721   1.988], b =  -6.765\n",
            "[13000] cost =     0.1448, w = [   1.79   2.067], b =  -7.054\n",
            "[14000] cost =     0.1365, w = [  1.856    2.14], b =  -7.326\n",
            "[15000] cost =      0.129, w = [  1.917    2.21], b =  -7.582\n",
            "[16000] cost =     0.1224, w = [  1.976   2.276], b =  -7.825\n",
            "[17000] cost =     0.1163, w = [  2.031   2.339], b =  -8.056\n",
            "[18000] cost =     0.1108, w = [  2.084   2.398], b =  -8.276\n",
            "[19000] cost =     0.1059, w = [  2.134   2.455], b =  -8.486\n",
            "[20000] cost =     0.1013, w = [  2.182    2.51], b =  -8.687\n",
            "[21000] cost =     0.0971, w = [  2.228   2.562], b =   -8.88\n",
            "[22000] cost =    0.09324, w = [  2.273   2.612], b =  -9.065\n",
            "[23000] cost =    0.08967, w = [  2.315   2.661], b =  -9.242\n",
            "[24000] cost =    0.08636, w = [  2.356   2.707], b =  -9.413\n",
            "[25000] cost =    0.08328, w = [  2.396   2.752], b =  -9.578\n",
            "[26000] cost =    0.08042, w = [  2.434   2.795], b =  -9.737\n",
            "[27000] cost =    0.07774, w = [  2.471   2.837], b =  -9.891\n",
            "[28000] cost =    0.07523, w = [  2.507   2.878], b =  -10.04\n",
            "[29000] cost =    0.07287, w = [  2.541   2.917], b =  -10.18\n",
            "[30000] cost =    0.07066, w = [  2.575   2.955], b =  -10.32\n",
            "[31000] cost =    0.06858, w = [  2.608   2.992], b =  -10.46\n",
            "[32000] cost =    0.06661, w = [  2.639   3.027], b =  -10.59\n",
            "[33000] cost =    0.06476, w = [   2.67   3.062], b =  -10.72\n",
            "[34000] cost =      0.063, w = [    2.7   3.096], b =  -10.84\n",
            "[35000] cost =    0.06133, w = [  2.729   3.129], b =  -10.97\n",
            "[36000] cost =    0.05975, w = [  2.757   3.161], b =  -11.08\n",
            "[37000] cost =    0.05825, w = [  2.785   3.193], b =   -11.2\n",
            "[38000] cost =    0.05682, w = [  2.812   3.223], b =  -11.31\n",
            "[39000] cost =    0.05546, w = [  2.838   3.253], b =  -11.42\n",
            "[40000] cost =    0.05416, w = [  2.864   3.282], b =  -11.53\n",
            "[41000] cost =    0.05292, w = [  2.889   3.311], b =  -11.63\n",
            "[42000] cost =    0.05174, w = [  2.914   3.339], b =  -11.74\n",
            "[43000] cost =     0.0506, w = [  2.938   3.366], b =  -11.84\n",
            "[44000] cost =    0.04952, w = [  2.961   3.393], b =  -11.93\n",
            "[45000] cost =    0.04848, w = [  2.984   3.419], b =  -12.03\n",
            "[46000] cost =    0.04748, w = [  3.007   3.444], b =  -12.12\n",
            "[47000] cost =    0.04652, w = [  3.029   3.469], b =  -12.22\n",
            "[48000] cost =     0.0456, w = [  3.051   3.494], b =  -12.31\n",
            "[49000] cost =    0.04471, w = [  3.072   3.518], b =  -12.39\n",
            "[50000] cost =    0.04386, w = [  3.093   3.542], b =  -12.48\n",
            "[51000] cost =    0.04304, w = [  3.113   3.565], b =  -12.57\n",
            "[52000] cost =    0.04225, w = [  3.133   3.588], b =  -12.65\n",
            "[53000] cost =    0.04149, w = [  3.153    3.61], b =  -12.73\n",
            "[54000] cost =    0.04075, w = [  3.172   3.632], b =  -12.81\n",
            "[55000] cost =    0.04004, w = [  3.191   3.653], b =  -12.89\n",
            "[56000] cost =    0.03936, w = [   3.21   3.675], b =  -12.97\n",
            "[57000] cost =    0.03869, w = [  3.228   3.696], b =  -13.05\n",
            "[58000] cost =    0.03805, w = [  3.246   3.716], b =  -13.12\n",
            "[59000] cost =    0.03743, w = [  3.264   3.736], b =   -13.2\n",
            "[60000] cost =    0.03683, w = [  3.282   3.756], b =  -13.27\n",
            "[61000] cost =    0.03625, w = [  3.299   3.776], b =  -13.34\n",
            "[62000] cost =    0.03569, w = [  3.316   3.795], b =  -13.41\n",
            "[63000] cost =    0.03514, w = [  3.332   3.814], b =  -13.48\n",
            "[64000] cost =    0.03461, w = [  3.349   3.832], b =  -13.55\n",
            "[65000] cost =    0.03409, w = [  3.365   3.851], b =  -13.62\n",
            "[66000] cost =    0.03359, w = [  3.381   3.869], b =  -13.68\n",
            "[67000] cost =    0.03311, w = [  3.397   3.887], b =  -13.75\n",
            "[68000] cost =    0.03264, w = [  3.412   3.904], b =  -13.81\n",
            "[69000] cost =    0.03218, w = [  3.428   3.922], b =  -13.88\n",
            "[70000] cost =    0.03173, w = [  3.443   3.939], b =  -13.94\n",
            "[71000] cost =     0.0313, w = [  3.458   3.956], b =   -14.0\n",
            "[72000] cost =    0.03088, w = [  3.472   3.972], b =  -14.06\n",
            "[73000] cost =    0.03046, w = [  3.487   3.989], b =  -14.12\n",
            "[74000] cost =    0.03006, w = [  3.501   4.005], b =  -14.18\n",
            "[75000] cost =    0.02967, w = [  3.515   4.021], b =  -14.24\n",
            "[76000] cost =    0.02929, w = [  3.529   4.037], b =   -14.3\n",
            "[77000] cost =    0.02892, w = [  3.543   4.053], b =  -14.36\n",
            "[78000] cost =    0.02856, w = [  3.556   4.068], b =  -14.41\n",
            "[79000] cost =    0.02821, w = [   3.57   4.083], b =  -14.47\n",
            "[80000] cost =    0.02787, w = [  3.583   4.098], b =  -14.52\n",
            "[81000] cost =    0.02753, w = [  3.596   4.113], b =  -14.58\n",
            "[82000] cost =     0.0272, w = [  3.609   4.128], b =  -14.63\n",
            "[83000] cost =    0.02688, w = [  3.622   4.142], b =  -14.69\n",
            "[84000] cost =    0.02657, w = [  3.634   4.157], b =  -14.74\n",
            "[85000] cost =    0.02626, w = [  3.647   4.171], b =  -14.79\n",
            "[86000] cost =    0.02596, w = [  3.659   4.185], b =  -14.84\n",
            "[87000] cost =    0.02567, w = [  3.671   4.199], b =  -14.89\n",
            "[88000] cost =    0.02539, w = [  3.683   4.212], b =  -14.94\n",
            "[89000] cost =    0.02511, w = [  3.695   4.226], b =  -14.99\n",
            "[90000] cost =    0.02483, w = [  3.707   4.239], b =  -15.04\n",
            "[91000] cost =    0.02457, w = [  3.719   4.253], b =  -15.09\n",
            "[92000] cost =     0.0243, w = [   3.73   4.266], b =  -15.14\n",
            "[93000] cost =    0.02405, w = [  3.742   4.279], b =  -15.19\n",
            "[94000] cost =     0.0238, w = [  3.753   4.292], b =  -15.23\n",
            "[95000] cost =    0.02355, w = [  3.764   4.304], b =  -15.28\n",
            "[96000] cost =    0.02331, w = [  3.775   4.317], b =  -15.33\n",
            "[97000] cost =    0.02307, w = [  3.786   4.329], b =  -15.37\n",
            "[98000] cost =    0.02284, w = [  3.797   4.342], b =  -15.42\n",
            "[99000] cost =    0.02262, w = [  3.808   4.354], b =  -15.46\n",
            "[100000] cost =    0.02239, w = [  3.819   4.366], b =  -15.51\n"
          ],
          "name": "stdout"
        }
      ]
    },
    {
      "cell_type": "markdown",
      "metadata": {
        "id": "THJGNbT7chCV",
        "colab_type": "text"
      },
      "source": [
        ">### Plotting"
      ]
    },
    {
      "cell_type": "code",
      "metadata": {
        "id": "6CDSx44nb9mh",
        "colab_type": "code",
        "colab": {
          "base_uri": "https://localhost:8080/",
          "height": 1000
        },
        "outputId": "a5ac8bff-cfee-4597-95ef-0a1c52e55fcd"
      },
      "source": [
        "# Training 상황에 대한 그래프 출력\n",
        "print(\"[Training Test]\")\n",
        "y = Hypothesis(x_input)\n",
        "Y = [int(y_elem>0.5) for y_elem in y] # list comprehension\n",
        "for idx in range(x_input.shape[0]):\n",
        "    print(\"Input {} , Target : {} => Y :{:>2} (y:{:>5.2})\".format(x_input[idx], labels[idx], Y[idx], y[idx]))\n",
        "\n",
        "\n",
        "# Training 상황에 대한 그래프 출력 - 1개\n",
        "# 1)Training 회수 별 Cost 값  : 트레이닝 횟수가 증가할 수록 Cost값도 점점 감소 ( 초반에는 가파르게 감소하다가, 이후에는 아주 완만 )\n",
        "fig_cost, ax_cost = plt.subplots()\n",
        "ax_cost.plot(training_idx, cost_graph)\n",
        "ax_cost.set_title(\"'Cost / Training Count' Graph\")\n",
        "ax_cost.set_xlabel(\"Train Count\")\n",
        "ax_cost.set_ylabel(\"Cost\")\n",
        "ax_cost.grid(True)\n",
        "\n",
        "\n",
        "# 2) 구분선 그려넣을 계획 - 6개\n",
        "x_decision = np.linspace(0, 5, 1000)\n",
        "x_col = x_input[:, 0]\n",
        "x_row = x_input[:, 1]\n",
        "fig_hypothesis, ax_hypothesis = plt.subplots(2, 3, figsize=(15, 11))\n",
        "fig_hypothesis.suptitle(\"'Hypothesis / Training Count' Graph\")\n",
        "for ax_idx in range(check.size):\n",
        "    w = w_trained[ax_idx]\n",
        "    b = b_trained[ax_idx]\n",
        "    y_decision = -(w[0] * x_decision + b)/w[1] \n",
        "    ax_hypothesis[ax_idx // 3][ax_idx % 3].scatter(x_col[:3], x_row[:3], color='blue')\n",
        "    ax_hypothesis[ax_idx // 3][ax_idx % 3].scatter(x_col[3:], x_row[3:], color='red')\n",
        "    ax_hypothesis[ax_idx // 3][ax_idx % 3].plot(x_decision, y_decision, label=' Decision Boundary', color='green')\n",
        "\n",
        "    ax_hypothesis[ax_idx // 3][ax_idx % 3].set_title(\"Train Count : {}\".format(check[ax_idx]))\n",
        "    ax_hypothesis[ax_idx // 3][ax_idx % 3].set_xlim((0, 5))\n",
        "    ax_hypothesis[ax_idx // 3][ax_idx % 3].set_ylim((0, 5))\n",
        "    ax_hypothesis[ax_idx // 3][ax_idx % 3].set_xlabel(\"x\")\n",
        "    ax_hypothesis[ax_idx // 3][ax_idx % 3].set_ylabel(\"y\")\n",
        "    ax_hypothesis[ax_idx // 3][ax_idx % 3].grid(True)\n",
        "    ax_hypothesis[ax_idx // 3][ax_idx % 3].legend()\n",
        "\n",
        "plt.show()"
      ],
      "execution_count": 19,
      "outputs": [
        {
          "output_type": "stream",
          "text": [
            "[Training Test]\n",
            "Input [1. 1.] , Target : 0 => Y : 0 (y:0.00066)\n",
            "Input [2. 1.] , Target : 0 => Y : 0 (y:0.029)\n",
            "Input [1. 2.] , Target : 0 => Y : 0 (y:0.049)\n",
            "Input [0.5 4. ] , Target : 1 => Y : 1 (y: 0.98)\n",
            "Input [4. 1.] , Target : 1 => Y : 1 (y: 0.98)\n",
            "Input [2.5 2.3] , Target : 1 => Y : 1 (y: 0.98)\n"
          ],
          "name": "stdout"
        },
        {
          "output_type": "display_data",
          "data": {
            "image/png": "[encoded data removed]",
            "text/plain": [
              "<Figure size 432x288 with 1 Axes>"
            ]
          },
          "metadata": {
            "tags": []
          }
        },
        {
          "output_type": "display_data",
          "data": {
            "image/png": "[encoded data removed]",
            "text/plain": [
              "<Figure size 1080x792 with 6 Axes>"
            ]
          },
          "metadata": {
            "tags": []
          }
        }
      ]
    },
    {
      "cell_type": "code",
      "metadata": {
        "id": "FZo8jW85koo2",
        "colab_type": "code",
        "colab": {}
      },
      "source": [
        ""
      ],
      "execution_count": 0,
      "outputs": []
    }
  ]
}