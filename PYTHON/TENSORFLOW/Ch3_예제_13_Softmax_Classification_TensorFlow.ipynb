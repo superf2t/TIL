{
  "nbformat": 4,
  "nbformat_minor": 0,
  "metadata": {
    "colab": {
      "name": "Ch3_예제_13_Softmax_Classification_TensorFlow.ipynb",
      "provenance": [],
      "collapsed_sections": [],
      "include_colab_link": true
    },
    "kernelspec": {
      "name": "python3",
      "display_name": "Python 3"
    }
  },
  "cells": [
    {
      "cell_type": "markdown",
      "metadata": {
        "id": "view-in-github",
        "colab_type": "text"
      },
      "source": [
        "<a href=\"https://colab.research.google.com/github/KwonYN/TIL/blob/master/PYTHON/TENSORFLOW/Ch3_%EC%98%88%EC%A0%9C_13_Softmax_Classification_TensorFlow.ipynb\" target=\"_parent\"><img src=\"https://colab.research.google.com/assets/colab-badge.svg\" alt=\"Open In Colab\"/></a>"
      ]
    },
    {
      "cell_type": "markdown",
      "metadata": {
        "id": "ERQax80Nl2fY",
        "colab_type": "text"
      },
      "source": [
        "# Chapter3-4. Deep Learning 기초 : Softmax Classification"
      ]
    },
    {
      "cell_type": "markdown",
      "metadata": {
        "id": "gvu8nWycl9Qp",
        "colab_type": "text"
      },
      "source": [
        ">## [예제3-13] Softmax Classification (TensorFlow)"
      ]
    },
    {
      "cell_type": "markdown",
      "metadata": {
        "id": "Ba-LxKfLmGVu",
        "colab_type": "text"
      },
      "source": [
        ">### Load modules"
      ]
    },
    {
      "cell_type": "code",
      "metadata": {
        "id": "gXxAYyqxlNxp",
        "colab_type": "code",
        "colab": {
          "base_uri": "https://localhost:8080/",
          "height": 85
        },
        "outputId": "80c23abd-b555-4c80-d7f7-36e803c721b4"
      },
      "source": [
        "%tensorflow_version 1.x\n",
        "\n",
        "import numpy as np\n",
        "import tensorflow as tf\n",
        "import matplotlib.pyplot as plt\n",
        "\n",
        "print(\"Module Loaded.\")\n",
        "print(\"NumPy Version :{}\".format(np.__version__))\n",
        "print(\"TensorFlow Version :{}\".format(tf.__version__))\n",
        "print(\"Matplotlib Version :{}\".format(plt.matplotlib.__version__))"
      ],
      "execution_count": 1,
      "outputs": [
        {
          "output_type": "stream",
          "text": [
            "Module Loaded.\n",
            "NumPy Version :1.17.4\n",
            "TensorFlow Version :1.15.0\n",
            "Matplotlib Version :3.1.1\n"
          ],
          "name": "stdout"
        }
      ]
    },
    {
      "cell_type": "markdown",
      "metadata": {
        "id": "9tdKm3VimauR",
        "colab_type": "text"
      },
      "source": [
        "> ### Input and Label"
      ]
    },
    {
      "cell_type": "code",
      "metadata": {
        "id": "XMhaNhF0mIXK",
        "colab_type": "code",
        "colab": {}
      },
      "source": [
        "x_input = np.array([ [1, 1],  [2, 2.5],  [2.5, 1.3],  [4.3, 9.5],  [5.5, 7.0], [6, 8.2],   [7, 5],    [8, 6],   [9, 4.5]], dtype=np.float)\n",
        "if 1:\n",
        "  labels = np.array([[1, 0, 0], [1, 0, 0], [1, 0, 0],   [0, 1, 0],   [0, 1, 0],  [0, 1, 0], [0, 0, 1], [0, 0, 1], [0, 0, 1]], dtype=np.float)\n",
        "else: # 다시..\n",
        "  labels_tmp = np.array( [0, 0, 0, 1, 1, 1, 2, 2, 2] )\n",
        "  labels = tf.one_hot(labels_tmp, depth=3, on_value=True, off_value=False, dtype=float32).eval()\n",
        "  print(labels)"
      ],
      "execution_count": 0,
      "outputs": []
    },
    {
      "cell_type": "markdown",
      "metadata": {
        "id": "mgFlDyu-mgHN",
        "colab_type": "text"
      },
      "source": [
        "> ### Placeholder"
      ]
    },
    {
      "cell_type": "code",
      "metadata": {
        "id": "Vse7W7x7mh8D",
        "colab_type": "code",
        "colab": {}
      },
      "source": [
        "n_var = 2\n",
        "n_class = 3\n",
        "\n",
        "x_ph = tf.placeholder(tf.float32, (None, n_var), name=\"input\")\n",
        "labels_ph = tf.placeholder(tf.float32, (None, n_class), name=\"labels\")"
      ],
      "execution_count": 0,
      "outputs": []
    },
    {
      "cell_type": "markdown",
      "metadata": {
        "id": "M7v1V11kmrRz",
        "colab_type": "text"
      },
      "source": [
        ">### Activation Function : Softmax Function\n",
        ">$S(y_{i}) = \\frac{e^{y_{i}}}{\\sum_{j=0}^{m-1}e^{y_{j}}}$\n",
        ">## Hypothesis\n",
        ">## $H(X) = S(XW+B)$"
      ]
    },
    {
      "cell_type": "code",
      "metadata": {
        "id": "9gk1hqtjmhyb",
        "colab_type": "code",
        "colab": {}
      },
      "source": [
        "W = tf.Variable(tf.random.normal((n_var, n_class)), dtype=tf.float32, name=\"weight\")\n",
        "B = tf.Variable(tf.random.normal((1, n_class)), dtype=tf.float32, name=\"bias\")\n",
        "\n",
        "logits = tf.matmul(x_ph, W) + B\n",
        "hypothesis = tf.nn.softmax(logits)"
      ],
      "execution_count": 0,
      "outputs": []
    },
    {
      "cell_type": "markdown",
      "metadata": {
        "id": "seBAAuk9nHMR",
        "colab_type": "text"
      },
      "source": [
        ">## Cost Function : Cross Entropy Error\n",
        ">## $cost(W,b) = -\\sum_{i=1}^{m}p_{i}\\log_{2}q_{i}$"
      ]
    },
    {
      "cell_type": "code",
      "metadata": {
        "id": "hHC4LL4unD6A",
        "colab_type": "code",
        "colab": {}
      },
      "source": [
        "#cost = tf.reduce_mean(-tf.reduce_sum(labels_ph * tf.log(hypothesis), axis=1)) \n",
        "cost = tf.reduce_mean(tf.nn.softmax_cross_entropy_with_logits_v2(logits=logits, labels=labels_ph))"
      ],
      "execution_count": 0,
      "outputs": []
    },
    {
      "cell_type": "markdown",
      "metadata": {
        "id": "gXzJJ2QbnMjI",
        "colab_type": "text"
      },
      "source": [
        ">### Optimizer : tf.train.GradientDescentOptimizer (Gradient Descent Optimizer)"
      ]
    },
    {
      "cell_type": "code",
      "metadata": {
        "id": "BNI3OBVCnM_D",
        "colab_type": "code",
        "colab": {}
      },
      "source": [
        "learning_rate = 0.01\n",
        "\n",
        "optimizer = tf.train.GradientDescentOptimizer(learning_rate)\n",
        "train = optimizer.minimize(cost)"
      ],
      "execution_count": 0,
      "outputs": []
    },
    {
      "cell_type": "markdown",
      "metadata": {
        "id": "NXTYroJlnZzc",
        "colab_type": "text"
      },
      "source": [
        ">### 학습 준비 과정"
      ]
    },
    {
      "cell_type": "code",
      "metadata": {
        "id": "w1mBO7zSnaVz",
        "colab_type": "code",
        "colab": {}
      },
      "source": [
        "N_training = 100000\n",
        "training_idx = np.arange(0, N_training+1, 1)\n",
        "cost_graph = np.zeros(N_training+1)"
      ],
      "execution_count": 0,
      "outputs": []
    },
    {
      "cell_type": "markdown",
      "metadata": {
        "id": "7dhfsRZQnm-C",
        "colab_type": "text"
      },
      "source": [
        "### 학습 (Training)"
      ]
    },
    {
      "cell_type": "code",
      "metadata": {
        "id": "i-3I0oV_nnYc",
        "colab_type": "code",
        "colab": {
          "base_uri": "https://localhost:8080/",
          "height": 1000
        },
        "outputId": "77f4477f-3d38-4d81-9560-6ae466d9c12b"
      },
      "source": [
        "# 학습 (Training)\n",
        "sess = tf.Session()\n",
        "sess.run(tf.global_variables_initializer())\n",
        "cost_graph[0] = sess.run((cost), feed_dict={x_ph: x_input, labels_ph: labels})\n",
        "print(\"[{:>5}] cost = {:>10.4}\".format(0, cost_graph[0]))\n",
        "for cnt_training in range(1, N_training+1):\n",
        "    cost_res, _ = sess.run((cost, train), feed_dict={x_ph: x_input, labels_ph: labels})\n",
        "    cost_graph[cnt_training] = cost_res\n",
        "    if cnt_training % 1000 == 0:\n",
        "        print(\"[{:>5}] cost = {:>10.4}\".format(cnt_training, cost_graph[cnt_training]))\n",
        "\n",
        "\n",
        "\n",
        "print(np.argmax(sess.run(hypothesis, feed_dict={x_ph:x_input}), axis=1))\n",
        "\n",
        "x_test = np.array([[5.5, 5], [4.7, 10.0], [9, 3.1]])\n",
        "print(np.argmax(sess.run(hypothesis, feed_dict={x_ph:x_test}), axis=1))"
      ],
      "execution_count": 10,
      "outputs": [
        {
          "output_type": "stream",
          "text": [
            "[    0] cost =      9.663\n",
            "[ 1000] cost =     0.3549\n",
            "[ 2000] cost =     0.1778\n",
            "[ 3000] cost =     0.1145\n",
            "[ 4000] cost =    0.08381\n",
            "[ 5000] cost =    0.06595\n",
            "[ 6000] cost =    0.05433\n",
            "[ 7000] cost =    0.04619\n",
            "[ 8000] cost =    0.04017\n",
            "[ 9000] cost =    0.03555\n",
            "[10000] cost =    0.03188\n",
            "[11000] cost =    0.02891\n",
            "[12000] cost =    0.02644\n",
            "[13000] cost =    0.02437\n",
            "[14000] cost =     0.0226\n",
            "[15000] cost =    0.02107\n",
            "[16000] cost =    0.01974\n",
            "[17000] cost =    0.01857\n",
            "[18000] cost =    0.01753\n",
            "[19000] cost =     0.0166\n",
            "[20000] cost =    0.01577\n",
            "[21000] cost =    0.01502\n",
            "[22000] cost =    0.01433\n",
            "[23000] cost =    0.01371\n",
            "[24000] cost =    0.01314\n",
            "[25000] cost =    0.01262\n",
            "[26000] cost =    0.01213\n",
            "[27000] cost =    0.01168\n",
            "[28000] cost =    0.01127\n",
            "[29000] cost =    0.01088\n",
            "[30000] cost =    0.01052\n",
            "[31000] cost =    0.01019\n",
            "[32000] cost =   0.009869\n",
            "[33000] cost =   0.009573\n",
            "[34000] cost =   0.009293\n",
            "[35000] cost =    0.00903\n",
            "[36000] cost =   0.008782\n",
            "[37000] cost =   0.008547\n",
            "[38000] cost =   0.008324\n",
            "[39000] cost =   0.008113\n",
            "[40000] cost =   0.007913\n",
            "[41000] cost =   0.007722\n",
            "[42000] cost =    0.00754\n",
            "[43000] cost =   0.007367\n",
            "[44000] cost =   0.007202\n",
            "[45000] cost =   0.007044\n",
            "[46000] cost =   0.006893\n",
            "[47000] cost =   0.006748\n",
            "[48000] cost =   0.006609\n",
            "[49000] cost =   0.006476\n",
            "[50000] cost =   0.006349\n",
            "[51000] cost =   0.006226\n",
            "[52000] cost =   0.006108\n",
            "[53000] cost =   0.005994\n",
            "[54000] cost =   0.005885\n",
            "[55000] cost =    0.00578\n",
            "[56000] cost =   0.005678\n",
            "[57000] cost =    0.00558\n",
            "[58000] cost =   0.005485\n",
            "[59000] cost =   0.005394\n",
            "[60000] cost =   0.005305\n",
            "[61000] cost =    0.00522\n",
            "[62000] cost =   0.005137\n",
            "[63000] cost =   0.005057\n",
            "[64000] cost =   0.004979\n",
            "[65000] cost =   0.004904\n",
            "[66000] cost =   0.004831\n",
            "[67000] cost =    0.00476\n",
            "[68000] cost =   0.004691\n",
            "[69000] cost =   0.004624\n",
            "[70000] cost =   0.004559\n",
            "[71000] cost =   0.004496\n",
            "[72000] cost =   0.004435\n",
            "[73000] cost =   0.004375\n",
            "[74000] cost =   0.004317\n",
            "[75000] cost =    0.00426\n",
            "[76000] cost =   0.004205\n",
            "[77000] cost =   0.004151\n",
            "[78000] cost =   0.004099\n",
            "[79000] cost =   0.004048\n",
            "[80000] cost =   0.003999\n",
            "[81000] cost =    0.00395\n",
            "[82000] cost =   0.003903\n",
            "[83000] cost =   0.003857\n",
            "[84000] cost =   0.003812\n",
            "[85000] cost =   0.003768\n",
            "[86000] cost =   0.003724\n",
            "[87000] cost =   0.003683\n",
            "[88000] cost =   0.003642\n",
            "[89000] cost =   0.003601\n",
            "[90000] cost =   0.003562\n",
            "[91000] cost =   0.003524\n",
            "[92000] cost =   0.003486\n",
            "[93000] cost =   0.003449\n",
            "[94000] cost =   0.003413\n",
            "[95000] cost =   0.003378\n",
            "[96000] cost =   0.003344\n",
            "[97000] cost =    0.00331\n",
            "[98000] cost =   0.003276\n",
            "[99000] cost =   0.003244\n",
            "[100000] cost =   0.003212\n",
            "[0 0 0 1 1 1 2 2 2]\n",
            "[2 1 2]\n"
          ],
          "name": "stdout"
        }
      ]
    },
    {
      "cell_type": "markdown",
      "metadata": {
        "id": "jC4cFXOmnrGO",
        "colab_type": "text"
      },
      "source": [
        ">### Plotting"
      ]
    },
    {
      "cell_type": "code",
      "metadata": {
        "id": "gw6dWbzJnrXy",
        "colab_type": "code",
        "colab": {
          "base_uri": "https://localhost:8080/",
          "height": 295
        },
        "outputId": "6838ac6c-43de-478d-e96e-b0fc1004d474"
      },
      "source": [
        "# Training 상황에 대한 그래프 출력\n",
        "# 1)Training 회수 별 Cost 값\n",
        "fig_cost, ax_cost = plt.subplots()\n",
        "ax_cost.plot(training_idx, cost_graph)\n",
        "ax_cost.set_title(\"'Cost / Training Count' Graph\")\n",
        "ax_cost.set_xlabel(\"Train Count\")\n",
        "ax_cost.set_ylabel(\"Cost\")\n",
        "ax_cost.grid(True)\n",
        "\n",
        "plt.show()"
      ],
      "execution_count": 9,
      "outputs": [
        {
          "output_type": "display_data",
          "data": {
            "image/png": "[encoded data removed]",
            "text/plain": [
              "<Figure size 432x288 with 1 Axes>"
            ]
          },
          "metadata": {
            "tags": []
          }
        }
      ]
    },
    {
      "cell_type": "code",
      "metadata": {
        "id": "OANItE0Aj9xi",
        "colab_type": "code",
        "colab": {}
      },
      "source": [
        ""
      ],
      "execution_count": 0,
      "outputs": []
    }
  ]
}