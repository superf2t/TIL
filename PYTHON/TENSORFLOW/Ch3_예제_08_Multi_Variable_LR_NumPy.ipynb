{
  "nbformat": 4,
  "nbformat_minor": 0,
  "metadata": {
    "colab": {
      "name": "Ch3_예제_08_Multi_Variable_LR_NumPy.ipynb",
      "provenance": [],
      "collapsed_sections": [],
      "include_colab_link": true
    },
    "kernelspec": {
      "name": "python3",
      "display_name": "Python 3"
    },
    "accelerator": "GPU"
  },
  "cells": [
    {
      "cell_type": "markdown",
      "metadata": {
        "id": "view-in-github",
        "colab_type": "text"
      },
      "source": [
        "<a href=\"https://colab.research.google.com/github/KwonYN/TIL/blob/master/PYTHON/TENSORFLOW/Ch3_%EC%98%88%EC%A0%9C_08_Multi_Variable_LR_NumPy.ipynb\" target=\"_parent\"><img src=\"https://colab.research.google.com/assets/colab-badge.svg\" alt=\"Open In Colab\"/></a>"
      ]
    },
    {
      "cell_type": "markdown",
      "metadata": {
        "id": "D9k7wggIGAAg",
        "colab_type": "text"
      },
      "source": [
        "# Chapter3-2. Deep Learning 기초 : Linear Regression"
      ]
    },
    {
      "cell_type": "markdown",
      "metadata": {
        "id": "DGs0O-36GCbv",
        "colab_type": "text"
      },
      "source": [
        ">## [예제3-8] Multi Variable Linear Regression (NumPy)"
      ]
    },
    {
      "cell_type": "markdown",
      "metadata": {
        "id": "3yuA5REJG2EP",
        "colab_type": "text"
      },
      "source": [
        ">### Load modules"
      ]
    },
    {
      "cell_type": "code",
      "metadata": {
        "id": "wV37V0ugF6VI",
        "colab_type": "code",
        "colab": {
          "base_uri": "https://localhost:8080/",
          "height": 68
        },
        "outputId": "dbb36177-057b-4ed8-e872-6c850dffc3bf"
      },
      "source": [
        "import numpy as np\n",
        "import matplotlib.pyplot as plt\n",
        "\n",
        "print(\"Module Loaded.\")\n",
        "print(\"NumPy Version :{}\".format(np.__version__))\n",
        "print(\"Matplotlib Version :{}\".format(plt.matplotlib.__version__))"
      ],
      "execution_count": 8,
      "outputs": [
        {
          "output_type": "stream",
          "text": [
            "Module Loaded.\n",
            "NumPy Version :1.17.4\n",
            "Matplotlib Version :3.1.1\n"
          ],
          "name": "stdout"
        }
      ]
    },
    {
      "cell_type": "markdown",
      "metadata": {
        "id": "e_dUEZY0G6xQ",
        "colab_type": "text"
      },
      "source": [
        "> ### Input and Label"
      ]
    },
    {
      "cell_type": "code",
      "metadata": {
        "id": "rtBf0ENWGA1X",
        "colab_type": "code",
        "colab": {}
      },
      "source": [
        "# Weight, Height, Smoking vs Life-span\n",
        "x_input = np.array([[60., 167.64, 1.], [65., 152.4, 0.], [55., 182.88, 1.] ]) #, [85, 183.4, 1.]])\n",
        "labels = np.array([[66], [74], [78] ]) #, [72]])"
      ],
      "execution_count": 0,
      "outputs": []
    },
    {
      "cell_type": "markdown",
      "metadata": {
        "id": "6zsvH8foHCFj",
        "colab_type": "text"
      },
      "source": [
        ">### Hypothesis : Linear Equation (Multi-Variable)\n",
        ">### $X = \\begin{bmatrix} x_{11} & x_{12} & x_{13} \\\\ x_{21} & x_{22} & x_{23} \\\\ x_{31} & x_{32} & x_{33} \\\\ x_{41} & x_{42} & x_{43}\\end{bmatrix}$,  $W = \\begin{bmatrix} w_{1} \\\\ w_{2} \\\\w_{3}\\end{bmatrix}$\n",
        ">### $H(x) = XW + b$"
      ]
    },
    {
      "cell_type": "code",
      "metadata": {
        "id": "O97LZjLUHflt",
        "colab_type": "code",
        "colab": {}
      },
      "source": [
        "# Weight, Bias\n",
        "W = np.random.normal(size=(3, 1))\n",
        "b = np.random.normal()\n",
        "\n",
        "# Hypothesis\n",
        "def Hypothesis(X: float or np.ndarray)->float:\n",
        "    return np.matmul(X, W) + b\n",
        "    # return np.dot(X, W) + b   # 동일한 결과가 나옴!"
      ],
      "execution_count": 0,
      "outputs": []
    },
    {
      "cell_type": "markdown",
      "metadata": {
        "id": "1S-GdYr9JNXh",
        "colab_type": "text"
      },
      "source": [
        ">### Cost Function : Mean Squared Error (MSE)\n",
        ">### $cost(W,b) = \\sum_{i=1}^{n}(h(x_{i})-y_{i})^{2}$"
      ]
    },
    {
      "cell_type": "code",
      "metadata": {
        "id": "WXhLS4dDJhko",
        "colab_type": "code",
        "colab": {}
      },
      "source": [
        "# Cost function\n",
        "def Cost(x: float or np.ndarray, t: float or np.ndarray)->float:\n",
        "    # return np.mean((Hypothesis(x) - t)**2)\n",
        "    return np.mean(np.square(Hypothesis(x) - t))"
      ],
      "execution_count": 0,
      "outputs": []
    },
    {
      "cell_type": "markdown",
      "metadata": {
        "id": "gBdsFzVGJhQU",
        "colab_type": "text"
      },
      "source": [
        ">### Gradient\n",
        ">### $\\frac{d}{dx}f(x) = \\lim_{\\delta \\to 0} \\frac{f(x+\\delta) - f(x-\\delta)}{2\\delta}$"
      ]
    },
    {
      "cell_type": "code",
      "metadata": {
        "id": "l8zBdIyGJNk_",
        "colab_type": "code",
        "colab": {}
      },
      "source": [
        "# Gradient\n",
        "def Gradient(x: float or np.ndarray, t: float or np.ndarray)->tuple:\n",
        "    global W, b\n",
        "    pres_W = W.copy()\n",
        "    grad_W = np.zeros_like(W)\n",
        "    delta = 1e-7\n",
        "\n",
        "    for idx in range(W.size):     # x, 즉 입력하는 값들이 여러 개니까 w 또한 그 개수만큼!! 그래서 for문 돌리면서 기울기 구해주는 것! 각 변수에 대해 편미분!\n",
        "        W[idx,0] = pres_W[idx,0] + delta\n",
        "        cost_p = Cost(x, t)\n",
        "        W[idx,0] = pres_W[idx,0] - delta\n",
        "        cost_m = Cost(x, t)\n",
        "        grad_W[idx,0] = (cost_p-cost_m)/(2*delta)\n",
        "        W[idx,0] = pres_W[idx,0]\n",
        "\n",
        "    pres_b = b                   # 하지만 bias는 여전히 하나이기 때문에 이전 코드들과 동일!\n",
        "    b = pres_b + delta\n",
        "    cost_p = Cost(x, t)\n",
        "    b = pres_b - delta\n",
        "    cost_m = Cost(x, t)\n",
        "    grad_b = (cost_p-cost_m)/(2*delta)\n",
        "\n",
        "    return grad_W, grad_b"
      ],
      "execution_count": 0,
      "outputs": []
    },
    {
      "cell_type": "markdown",
      "metadata": {
        "id": "XyusRNVDJyaT",
        "colab_type": "text"
      },
      "source": [
        ">### 학습 준비 과정"
      ]
    },
    {
      "cell_type": "code",
      "metadata": {
        "id": "IY5btVVGG_Za",
        "colab_type": "code",
        "colab": {
          "base_uri": "https://localhost:8080/",
          "height": 34
        },
        "outputId": "fe4ef0da-e41f-43e7-e76e-e77b1962e3d1"
      },
      "source": [
        "N_training = 1000000\n",
        "training_idx = np.arange(0, N_training+1, 1)\n",
        "cost_graph = np.zeros(N_training+1)\n",
        "\n",
        "cost_graph[0] = Cost(x_input, labels)\n",
        "print(\"[{:>5}] cost = {:>10.4}, W = [[{:>7.4}] [{:>7.4}] [{:>7.4}]], b = {:>7.4}\".format(0, cost_graph[0], W[0,0], W[1,0], W[2,0], b))"
      ],
      "execution_count": 24,
      "outputs": [
        {
          "output_type": "stream",
          "text": [
            "[    0] cost =  2.862e+04, W = [[0.06111] [-0.6009] [ 0.6478]], b =  0.4474\n"
          ],
          "name": "stdout"
        }
      ]
    },
    {
      "cell_type": "markdown",
      "metadata": {
        "id": "0rPELaJVKJfM",
        "colab_type": "text"
      },
      "source": [
        ">### Training\n",
        ">### $\\mu$ : Learning rate\n",
        ">### $W = W - \\mu\\frac{\\partial}{\\partial W}cost(W, b)$\n",
        ">### $b = b - \\mu\\frac{\\partial}{\\partial b}cost(W, b)$"
      ]
    },
    {
      "cell_type": "code",
      "metadata": {
        "id": "btm6fmLkKJza",
        "colab_type": "code",
        "colab": {
          "base_uri": "https://localhost:8080/",
          "height": 1000
        },
        "outputId": "9c3b8cf5-6297-4572-b468-6b96328c38db"
      },
      "source": [
        "# 학습 (Training)\n",
        "learning_rate = 0.00003\n",
        "for cnt_training in range(1, N_training+1):\n",
        "    grad_W, grad_b = Gradient(x_input, labels)\n",
        "    cost_graph[cnt_training] = Cost(x_input, labels)\n",
        "    W -= learning_rate * grad_W\n",
        "    b -= learning_rate * grad_b\n",
        "    if cnt_training % 1000 == 0:\n",
        "        print(\"[{:>5}] cost = {:>10.4}, W = [[{:>7.4}] [{:>7.4}] [{:>7.4}]], b = {:>7.4}\".format(cnt_training, cost_graph[cnt_training], W[0,0], W[1,0], W[2,0], b))"
      ],
      "execution_count": 25,
      "outputs": [
        {
          "output_type": "stream",
          "text": [
            "[ 1000] cost =      23.53, W = [[ 0.4599] [ 0.2638] [ 0.5788]], b =  0.4533\n",
            "[ 2000] cost =      23.37, W = [[ 0.4588] [ 0.2645] [ 0.5104]], b =  0.4531\n",
            "[ 3000] cost =      23.22, W = [[  0.456] [ 0.2658] [ 0.4423]], b =   0.453\n",
            "[ 4000] cost =      23.06, W = [[ 0.4531] [ 0.2671] [ 0.3744]], b =  0.4529\n",
            "[ 5000] cost =      22.91, W = [[ 0.4503] [ 0.2684] [ 0.3067]], b =  0.4528\n",
            "[ 6000] cost =      22.76, W = [[ 0.4475] [ 0.2697] [ 0.2393]], b =  0.4527\n",
            "[ 7000] cost =      22.61, W = [[ 0.4446] [ 0.2709] [ 0.1721]], b =  0.4525\n",
            "[ 8000] cost =      22.46, W = [[ 0.4418] [ 0.2722] [ 0.1051]], b =  0.4524\n",
            "[ 9000] cost =      22.31, W = [[  0.439] [ 0.2735] [0.03834]], b =  0.4523\n",
            "[10000] cost =      22.16, W = [[ 0.4362] [ 0.2748] [-0.0282]], b =  0.4522\n",
            "[11000] cost =      22.01, W = [[ 0.4334] [  0.276] [-0.09452]], b =  0.4521\n",
            "[12000] cost =      21.87, W = [[ 0.4306] [ 0.2773] [-0.1606]], b =  0.4519\n",
            "[13000] cost =      21.72, W = [[ 0.4279] [ 0.2785] [-0.2265]], b =  0.4518\n",
            "[14000] cost =      21.58, W = [[ 0.4251] [ 0.2798] [-0.2922]], b =  0.4517\n",
            "[15000] cost =      21.43, W = [[ 0.4224] [  0.281] [-0.3576]], b =  0.4516\n",
            "[16000] cost =      21.29, W = [[ 0.4196] [ 0.2823] [-0.4228]], b =  0.4515\n",
            "[17000] cost =      21.15, W = [[ 0.4169] [ 0.2835] [-0.4879]], b =  0.4513\n",
            "[18000] cost =      21.01, W = [[ 0.4142] [ 0.2847] [-0.5526]], b =  0.4512\n",
            "[19000] cost =      20.87, W = [[ 0.4114] [  0.286] [-0.6172]], b =  0.4511\n",
            "[20000] cost =      20.73, W = [[ 0.4087] [ 0.2872] [-0.6816]], b =   0.451\n",
            "[21000] cost =       20.6, W = [[  0.406] [ 0.2884] [-0.7457]], b =  0.4509\n",
            "[22000] cost =      20.46, W = [[ 0.4033] [ 0.2896] [-0.8097]], b =  0.4507\n",
            "[23000] cost =      20.32, W = [[ 0.4007] [ 0.2909] [-0.8734]], b =  0.4506\n",
            "[24000] cost =      20.19, W = [[  0.398] [ 0.2921] [-0.9369]], b =  0.4505\n",
            "[25000] cost =      20.06, W = [[ 0.3953] [ 0.2933] [   -1.0]], b =  0.4504\n",
            "[26000] cost =      19.92, W = [[ 0.3927] [ 0.2945] [ -1.063]], b =  0.4503\n",
            "[27000] cost =      19.79, W = [[   0.39] [ 0.2957] [ -1.126]], b =  0.4501\n",
            "[28000] cost =      19.66, W = [[ 0.3874] [ 0.2969] [ -1.189]], b =    0.45\n",
            "[29000] cost =      19.53, W = [[ 0.3848] [  0.298] [ -1.251]], b =  0.4499\n",
            "[30000] cost =       19.4, W = [[ 0.3822] [ 0.2992] [ -1.314]], b =  0.4498\n",
            "[31000] cost =      19.27, W = [[ 0.3795] [ 0.3004] [ -1.376]], b =  0.4497\n",
            "[32000] cost =      19.14, W = [[ 0.3769] [ 0.3016] [ -1.437]], b =  0.4495\n",
            "[33000] cost =      19.02, W = [[ 0.3744] [ 0.3028] [ -1.499]], b =  0.4494\n",
            "[34000] cost =      18.89, W = [[ 0.3718] [ 0.3039] [ -1.561]], b =  0.4493\n",
            "[35000] cost =      18.76, W = [[ 0.3692] [ 0.3051] [ -1.622]], b =  0.4492\n",
            "[36000] cost =      18.64, W = [[ 0.3666] [ 0.3063] [ -1.683]], b =  0.4491\n",
            "[37000] cost =      18.52, W = [[ 0.3641] [ 0.3074] [ -1.744]], b =  0.4489\n",
            "[38000] cost =      18.39, W = [[ 0.3615] [ 0.3086] [ -1.804]], b =  0.4488\n",
            "[39000] cost =      18.27, W = [[  0.359] [ 0.3097] [ -1.865]], b =  0.4487\n",
            "[40000] cost =      18.15, W = [[ 0.3565] [ 0.3109] [ -1.925]], b =  0.4486\n",
            "[41000] cost =      18.03, W = [[ 0.3539] [  0.312] [ -1.985]], b =  0.4485\n",
            "[42000] cost =      17.91, W = [[ 0.3514] [ 0.3132] [ -2.045]], b =  0.4484\n",
            "[43000] cost =      17.79, W = [[ 0.3489] [ 0.3143] [ -2.104]], b =  0.4482\n",
            "[44000] cost =      17.67, W = [[ 0.3464] [ 0.3154] [ -2.164]], b =  0.4481\n"
          ],
          "name": "stdout"
        },
        {
          "output_type": "error",
          "ename": "KeyboardInterrupt",
          "evalue": "ignored",
          "traceback": [
            "\u001b[0;31m---------------------------------------------------------------------------\u001b[0m",
            "\u001b[0;31mKeyboardInterrupt\u001b[0m                         Traceback (most recent call last)",
            "\u001b[0;32m<ipython-input-25-e5982eae9689>\u001b[0m in \u001b[0;36m<module>\u001b[0;34m()\u001b[0m\n\u001b[1;32m      1\u001b[0m \u001b[0mlearning_rate\u001b[0m \u001b[0;34m=\u001b[0m \u001b[0;36m0.00003\u001b[0m\u001b[0;34m\u001b[0m\u001b[0;34m\u001b[0m\u001b[0m\n\u001b[1;32m      2\u001b[0m \u001b[0;32mfor\u001b[0m \u001b[0mcnt_training\u001b[0m \u001b[0;32min\u001b[0m \u001b[0mrange\u001b[0m\u001b[0;34m(\u001b[0m\u001b[0;36m1\u001b[0m\u001b[0;34m,\u001b[0m \u001b[0mN_training\u001b[0m\u001b[0;34m+\u001b[0m\u001b[0;36m1\u001b[0m\u001b[0;34m)\u001b[0m\u001b[0;34m:\u001b[0m\u001b[0;34m\u001b[0m\u001b[0;34m\u001b[0m\u001b[0m\n\u001b[0;32m----> 3\u001b[0;31m     \u001b[0mgrad_W\u001b[0m\u001b[0;34m,\u001b[0m \u001b[0mgrad_b\u001b[0m \u001b[0;34m=\u001b[0m \u001b[0mGradient\u001b[0m\u001b[0;34m(\u001b[0m\u001b[0mx_input\u001b[0m\u001b[0;34m,\u001b[0m \u001b[0mlabels\u001b[0m\u001b[0;34m)\u001b[0m\u001b[0;34m\u001b[0m\u001b[0;34m\u001b[0m\u001b[0m\n\u001b[0m\u001b[1;32m      4\u001b[0m     \u001b[0mcost_graph\u001b[0m\u001b[0;34m[\u001b[0m\u001b[0mcnt_training\u001b[0m\u001b[0;34m]\u001b[0m \u001b[0;34m=\u001b[0m \u001b[0mCost\u001b[0m\u001b[0;34m(\u001b[0m\u001b[0mx_input\u001b[0m\u001b[0;34m,\u001b[0m \u001b[0mlabels\u001b[0m\u001b[0;34m)\u001b[0m\u001b[0;34m\u001b[0m\u001b[0;34m\u001b[0m\u001b[0m\n\u001b[1;32m      5\u001b[0m     \u001b[0mW\u001b[0m \u001b[0;34m-=\u001b[0m \u001b[0mlearning_rate\u001b[0m \u001b[0;34m*\u001b[0m \u001b[0mgrad_W\u001b[0m\u001b[0;34m\u001b[0m\u001b[0;34m\u001b[0m\u001b[0m\n",
            "\u001b[0;32m<ipython-input-23-49d101fd2f76>\u001b[0m in \u001b[0;36mGradient\u001b[0;34m(x, t)\u001b[0m\n\u001b[1;32m      9\u001b[0m         \u001b[0mcost_p\u001b[0m \u001b[0;34m=\u001b[0m \u001b[0mCost\u001b[0m\u001b[0;34m(\u001b[0m\u001b[0mx\u001b[0m\u001b[0;34m,\u001b[0m \u001b[0mt\u001b[0m\u001b[0;34m)\u001b[0m\u001b[0;34m\u001b[0m\u001b[0;34m\u001b[0m\u001b[0m\n\u001b[1;32m     10\u001b[0m         \u001b[0mW\u001b[0m\u001b[0;34m[\u001b[0m\u001b[0midx\u001b[0m\u001b[0;34m,\u001b[0m\u001b[0;36m0\u001b[0m\u001b[0;34m]\u001b[0m \u001b[0;34m=\u001b[0m \u001b[0mpres_W\u001b[0m\u001b[0;34m[\u001b[0m\u001b[0midx\u001b[0m\u001b[0;34m,\u001b[0m\u001b[0;36m0\u001b[0m\u001b[0;34m]\u001b[0m \u001b[0;34m-\u001b[0m \u001b[0mdelta\u001b[0m\u001b[0;34m\u001b[0m\u001b[0;34m\u001b[0m\u001b[0m\n\u001b[0;32m---> 11\u001b[0;31m         \u001b[0mcost_m\u001b[0m \u001b[0;34m=\u001b[0m \u001b[0mCost\u001b[0m\u001b[0;34m(\u001b[0m\u001b[0mx\u001b[0m\u001b[0;34m,\u001b[0m \u001b[0mt\u001b[0m\u001b[0;34m)\u001b[0m\u001b[0;34m\u001b[0m\u001b[0;34m\u001b[0m\u001b[0m\n\u001b[0m\u001b[1;32m     12\u001b[0m         \u001b[0mgrad_W\u001b[0m\u001b[0;34m[\u001b[0m\u001b[0midx\u001b[0m\u001b[0;34m,\u001b[0m\u001b[0;36m0\u001b[0m\u001b[0;34m]\u001b[0m \u001b[0;34m=\u001b[0m \u001b[0;34m(\u001b[0m\u001b[0mcost_p\u001b[0m\u001b[0;34m-\u001b[0m\u001b[0mcost_m\u001b[0m\u001b[0;34m)\u001b[0m\u001b[0;34m/\u001b[0m\u001b[0;34m(\u001b[0m\u001b[0;36m2\u001b[0m\u001b[0;34m*\u001b[0m\u001b[0mdelta\u001b[0m\u001b[0;34m)\u001b[0m\u001b[0;34m\u001b[0m\u001b[0;34m\u001b[0m\u001b[0m\n\u001b[1;32m     13\u001b[0m         \u001b[0mW\u001b[0m\u001b[0;34m[\u001b[0m\u001b[0midx\u001b[0m\u001b[0;34m,\u001b[0m\u001b[0;36m0\u001b[0m\u001b[0;34m]\u001b[0m \u001b[0;34m=\u001b[0m \u001b[0mpres_W\u001b[0m\u001b[0;34m[\u001b[0m\u001b[0midx\u001b[0m\u001b[0;34m,\u001b[0m\u001b[0;36m0\u001b[0m\u001b[0;34m]\u001b[0m\u001b[0;34m\u001b[0m\u001b[0;34m\u001b[0m\u001b[0m\n",
            "\u001b[0;32m<ipython-input-22-1c3966441812>\u001b[0m in \u001b[0;36mCost\u001b[0;34m(x, t)\u001b[0m\n\u001b[1;32m      1\u001b[0m \u001b[0;32mdef\u001b[0m \u001b[0mCost\u001b[0m\u001b[0;34m(\u001b[0m\u001b[0mx\u001b[0m\u001b[0;34m:\u001b[0m \u001b[0mfloat\u001b[0m \u001b[0;32mor\u001b[0m \u001b[0mnp\u001b[0m\u001b[0;34m.\u001b[0m\u001b[0mndarray\u001b[0m\u001b[0;34m,\u001b[0m \u001b[0mt\u001b[0m\u001b[0;34m:\u001b[0m \u001b[0mfloat\u001b[0m \u001b[0;32mor\u001b[0m \u001b[0mnp\u001b[0m\u001b[0;34m.\u001b[0m\u001b[0mndarray\u001b[0m\u001b[0;34m)\u001b[0m\u001b[0;34m->\u001b[0m\u001b[0mfloat\u001b[0m\u001b[0;34m:\u001b[0m\u001b[0;34m\u001b[0m\u001b[0;34m\u001b[0m\u001b[0m\n\u001b[1;32m      2\u001b[0m     \u001b[0;31m# return np.mean((Hypothesis(x) - t)**2)\u001b[0m\u001b[0;34m\u001b[0m\u001b[0;34m\u001b[0m\u001b[0;34m\u001b[0m\u001b[0m\n\u001b[0;32m----> 3\u001b[0;31m     \u001b[0;32mreturn\u001b[0m \u001b[0mnp\u001b[0m\u001b[0;34m.\u001b[0m\u001b[0mmean\u001b[0m\u001b[0;34m(\u001b[0m\u001b[0mnp\u001b[0m\u001b[0;34m.\u001b[0m\u001b[0msquare\u001b[0m\u001b[0;34m(\u001b[0m\u001b[0mHypothesis\u001b[0m\u001b[0;34m(\u001b[0m\u001b[0mx\u001b[0m\u001b[0;34m)\u001b[0m \u001b[0;34m-\u001b[0m \u001b[0mt\u001b[0m\u001b[0;34m)\u001b[0m\u001b[0;34m)\u001b[0m\u001b[0;34m\u001b[0m\u001b[0;34m\u001b[0m\u001b[0m\n\u001b[0m",
            "\u001b[0;32m<__array_function__ internals>\u001b[0m in \u001b[0;36mmean\u001b[0;34m(*args, **kwargs)\u001b[0m\n",
            "\u001b[0;32m/usr/local/lib/python3.6/dist-packages/numpy/core/fromnumeric.py\u001b[0m in \u001b[0;36mmean\u001b[0;34m(a, axis, dtype, out, keepdims)\u001b[0m\n\u001b[1;32m   3255\u001b[0m \u001b[0;34m\u001b[0m\u001b[0m\n\u001b[1;32m   3256\u001b[0m     return _methods._mean(a, axis=axis, dtype=dtype,\n\u001b[0;32m-> 3257\u001b[0;31m                           out=out, **kwargs)\n\u001b[0m\u001b[1;32m   3258\u001b[0m \u001b[0;34m\u001b[0m\u001b[0m\n\u001b[1;32m   3259\u001b[0m \u001b[0;34m\u001b[0m\u001b[0m\n",
            "\u001b[0;31mKeyboardInterrupt\u001b[0m: "
          ]
        }
      ]
    },
    {
      "cell_type": "markdown",
      "metadata": {
        "id": "oW_z2m29K4Av",
        "colab_type": "text"
      },
      "source": [
        ">### Hypothesis Test "
      ]
    },
    {
      "cell_type": "code",
      "metadata": {
        "id": "X_UwcVCzK4KD",
        "colab_type": "code",
        "colab": {
          "base_uri": "https://localhost:8080/",
          "height": 136
        },
        "outputId": "bec206bb-feca-4d52-97b4-c9a8e8585248"
      },
      "source": [
        "yes_or_no = [\"No\", \"Yes\"]\n",
        "\n",
        "print(\"[ Hypothesis test ]\")\n",
        "\n",
        "H_x = Hypothesis(x_input)\n",
        "for x,h,l in zip(x_input, H_x, labels):\n",
        "    print(\"Weight : {}, Height : {}, Smoking : {} => life-span : {} [label => {}]\".format(x[0],x[1],yes_or_no[int(x[2])],h,l[0]))\n",
        "\n",
        "x_test = [86, 183.4, 1.]\n",
        "H_x = Hypothesis(x_test)\n",
        "print(\"\\n[ Hypothesis test by another data ]\")\n",
        "print(\"Weight : {}, Height : {}, Smoking : {} => life-span : {}\".format(x_test[0],x_test[1],yes_or_no[int(x_test[2])],H_x))"
      ],
      "execution_count": 26,
      "outputs": [
        {
          "output_type": "stream",
          "text": [
            "[ Hypothesis test ]\n",
            "Weight : 60.0, Height : 167.64, Smoking : Yes => life-span : [71.93599811] [label => 66]\n",
            "Weight : 65.0, Height : 152.4, Smoking : No => life-span : [71.03935923] [label => 74]\n",
            "Weight : 55.0, Height : 182.88, Smoking : Yes => life-span : [75.02551437] [label => 78]\n",
            "\n",
            "[ Hypothesis test by another data ]\n",
            "Weight : 86, Height : 183.4, Smoking : Yes => life-span : [85.89051863]\n"
          ],
          "name": "stdout"
        }
      ]
    },
    {
      "cell_type": "markdown",
      "metadata": {
        "id": "U0pdyAxHKZDE",
        "colab_type": "text"
      },
      "source": [
        ">### Plotting"
      ]
    },
    {
      "cell_type": "code",
      "metadata": {
        "id": "s4ZTUgp9J3Tn",
        "colab_type": "code",
        "colab": {
          "base_uri": "https://localhost:8080/",
          "height": 295
        },
        "outputId": "509ab9eb-f042-4d9b-92eb-e414f8822ab8"
      },
      "source": [
        "# Training 상황에 대한 그래프 출력\n",
        "fig_cost, ax_cost = plt.subplots()\n",
        "ax_cost.plot(training_idx, cost_graph)\n",
        "ax_cost.set_title(\"'Cost / Training Count' Graph\")\n",
        "ax_cost.set_xlim(0, 400)\n",
        "ax_cost.set_xlabel(\"Train Count\")\n",
        "ax_cost.set_ylabel(\"Cost\")\n",
        "ax_cost.grid(True)"
      ],
      "execution_count": 15,
      "outputs": [
        {
          "output_type": "display_data",
          "data": {
            "image/png": "[encoded data removed]",
            "text/plain": [
              "<Figure size 432x288 with 1 Axes>"
            ]
          },
          "metadata": {
            "tags": []
          }
        }
      ]
    },
    {
      "cell_type": "code",
      "metadata": {
        "id": "YTLmjIDKZSja",
        "colab_type": "code",
        "colab": {}
      },
      "source": [
        ""
      ],
      "execution_count": 0,
      "outputs": []
    }
  ]
}