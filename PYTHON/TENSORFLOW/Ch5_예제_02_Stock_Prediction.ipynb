{
  "nbformat": 4,
  "nbformat_minor": 0,
  "metadata": {
    "colab": {
      "name": "Ch5_예제_02_Stock_Prediction.ipynb",
      "provenance": [],
      "collapsed_sections": [],
      "include_colab_link": true
    },
    "kernelspec": {
      "name": "python3",
      "display_name": "Python 3"
    },
    "accelerator": "TPU"
  },
  "cells": [
    {
      "cell_type": "markdown",
      "metadata": {
        "id": "view-in-github",
        "colab_type": "text"
      },
      "source": [
        "<a href=\"https://colab.research.google.com/github/KwonYN/TIL/blob/master/PYTHON/TENSORFLOW/Ch5_%EC%98%88%EC%A0%9C_02_Stock_Prediction.ipynb\" target=\"_parent\"><img src=\"https://colab.research.google.com/assets/colab-badge.svg\" alt=\"Open In Colab\"/></a>"
      ]
    },
    {
      "cell_type": "markdown",
      "metadata": {
        "id": "UAoMXYfT9Cxu",
        "colab_type": "text"
      },
      "source": [
        "# Chapter5-3. RNN Example\n",
        "## [예제2] Stock Prediction"
      ]
    },
    {
      "cell_type": "markdown",
      "metadata": {
        "id": "uBmDGucNaxQT",
        "colab_type": "text"
      },
      "source": [
        "## Mount Drive \n",
        "> ### 아래 코드를 실행하고 인증과정 수행"
      ]
    },
    {
      "cell_type": "code",
      "metadata": {
        "id": "lwrb3y80at5n",
        "colab_type": "code",
        "colab": {
          "base_uri": "https://localhost:8080/",
          "height": 122
        },
        "outputId": "7914f1d3-92db-4d69-e5b1-aab1fb2035c5"
      },
      "source": [
        "from google.colab import drive\n",
        "drive.mount('/content/drive') # 나의 드라이브에 마운트 시킨 것!"
      ],
      "execution_count": 1,
      "outputs": [
        {
          "output_type": "stream",
          "text": [
            "Go to this URL in a browser: https://accounts.google.com/o/oauth2/auth?client_id=947318989803-6bn6qk8qdgf4n4g3pfee6491hc0brc4i.apps.googleusercontent.com&redirect_uri=urn%3aietf%3awg%3aoauth%3a2.0%3aoob&response_type=code&scope=email%20https%3a%2f%2fwww.googleapis.com%2fauth%2fdocs.test%20https%3a%2f%2fwww.googleapis.com%2fauth%2fdrive%20https%3a%2f%2fwww.googleapis.com%2fauth%2fdrive.photos.readonly%20https%3a%2f%2fwww.googleapis.com%2fauth%2fpeopleapi.readonly\n",
            "\n",
            "Enter your authorization code:\n",
            "··········\n",
            "Mounted at /content/drive\n"
          ],
          "name": "stdout"
        }
      ]
    },
    {
      "cell_type": "markdown",
      "metadata": {
        "id": "Lm49sE1Jy0tv",
        "colab_type": "text"
      },
      "source": [
        "## PWD 변경 \n",
        "> ### data-02-stock_daily.csv 파일이 있는 위치로 이동"
      ]
    },
    {
      "cell_type": "code",
      "metadata": {
        "id": "ftD7LRo8bFQM",
        "colab_type": "code",
        "colab": {
          "base_uri": "https://localhost:8080/",
          "height": 68
        },
        "outputId": "a37b2bda-67da-4c06-ad37-bf6da26d9d2d"
      },
      "source": [
        "# 아래 cd 명령 우측에 'data-02-stock_daily.csv' 파일이 있는 디렉토리의 주소를 기록 후 아래 코드 실행!\n",
        "# ls 명령의 결과로 'data-02-stock_daily.csv' 파일의 존재여부 확인 후 계속 진행\n",
        "#/data-02-stock_daily.csv\n",
        "% cd /content/drive/My Drive/AI_BASIC_TENSORFLOW/Chapter5\n",
        "% ls"
      ],
      "execution_count": 3,
      "outputs": [
        {
          "output_type": "stream",
          "text": [
            "/content/drive/My Drive/AI_BASIC_TENSORFLOW/Chapter5\n",
            "Ch5_예제_01_Basic_RNN.ipynb         data-02-stock_daily.csv\n",
            "Ch5_예제_02_Stock_Prediction.ipynb\n"
          ],
          "name": "stdout"
        }
      ]
    },
    {
      "cell_type": "markdown",
      "metadata": {
        "id": "DPLrAAyxYtR1",
        "colab_type": "text"
      },
      "source": [
        "> ### Load Module"
      ]
    },
    {
      "cell_type": "code",
      "metadata": {
        "id": "iOaqY7a-WivJ",
        "colab_type": "code",
        "colab": {
          "base_uri": "https://localhost:8080/",
          "height": 68
        },
        "outputId": "2db2f48f-a606-4e85-f0f2-e1eeabbb05fd"
      },
      "source": [
        "%tensorflow_version 1.x\n",
        "\n",
        "import numpy as np\n",
        "import tensorflow as tf\n",
        "import os\n",
        "import matplotlib.pyplot as plt\n",
        "\n",
        "print(\"Module Loaded.\")\n",
        "print(\"NumPy Version :{}\".format(np.__version__))\n",
        "print(\"TensorFlow Version :{}\".format(tf.__version__))\n",
        "\n",
        "tf.VariableScope.reuse = tf.AUTO_REUSE\n",
        "\n",
        "tf.set_random_seed(777)  # reproducibility"
      ],
      "execution_count": 4,
      "outputs": [
        {
          "output_type": "stream",
          "text": [
            "Module Loaded.\n",
            "NumPy Version :1.17.4\n",
            "TensorFlow Version :1.15.0\n"
          ],
          "name": "stdout"
        }
      ]
    },
    {
      "cell_type": "markdown",
      "metadata": {
        "id": "nH4KrXOcb15H",
        "colab_type": "text"
      },
      "source": [
        "> ### MinMaxScaler"
      ]
    },
    {
      "cell_type": "code",
      "metadata": {
        "id": "V6IU0Kgdb2aY",
        "colab_type": "code",
        "colab": {}
      },
      "source": [
        "def MinMaxScaler(data):\n",
        "    numerator = data - np.min(data, 0)\n",
        "    denominator = np.max(data, 0) - np.min(data, 0)\n",
        "    return numerator/ (denominator + 1e-7)"
      ],
      "execution_count": 0,
      "outputs": []
    },
    {
      "cell_type": "markdown",
      "metadata": {
        "id": "Ob7AlNK-bmhD",
        "colab_type": "text"
      },
      "source": [
        "> ### Load data"
      ]
    },
    {
      "cell_type": "code",
      "metadata": {
        "id": "c9Yd-g9Gbmu9",
        "colab_type": "code",
        "colab": {
          "base_uri": "https://localhost:8080/",
          "height": 68
        },
        "outputId": "a4dbf27f-cac7-4728-e718-518fe19abb15"
      },
      "source": [
        "xy = np.loadtxt('./data-02-stock_daily.csv', delimiter = ',')\n",
        "print(type(xy), xy.shape)\n",
        "xy = xy[::-1] # csv 데이터가 위->아래 순서로 최근->과거로 배치되어 있으므로, 거꾸로 reverse해주는 것!\n",
        "xy = MinMaxScaler(xy) # like Normalization\n",
        "x = xy\n",
        "y = xy[:,[-1]]  # 전체 행에 대해서 가장 마지막 값만! 즉, Close 가격만 가짐\n",
        "print(\"Shape of X is %s\" % (x.shape,))  # Open, High, Low, Volume, Close\n",
        "print(\"Shape of Y is %s\" % (y.shape,))  # Close"
      ],
      "execution_count": 6,
      "outputs": [
        {
          "output_type": "stream",
          "text": [
            "<class 'numpy.ndarray'> (732, 5)\n",
            "Shape of X is (732, 5)\n",
            "Shape of Y is (732, 1)\n"
          ],
          "name": "stdout"
        }
      ]
    },
    {
      "cell_type": "markdown",
      "metadata": {
        "id": "yiCcgrKTXgQe",
        "colab_type": "text"
      },
      "source": [
        "> ### Training Data 준비"
      ]
    },
    {
      "cell_type": "code",
      "metadata": {
        "id": "_IOdPg8eWjGL",
        "colab_type": "code",
        "colab": {}
      },
      "source": [
        "timesteps = seq_length = 7\n",
        "data_dim = 5\n",
        "dataX = []\n",
        "dataY = []\n",
        "\n",
        "for i in range(0, len(y)-seq_length):\n",
        "    _x = x[i:i + seq_length]\n",
        "    _y = y[i + seq_length]\n",
        "    dataX.append(_x)\n",
        "    dataY.append(_y)\n",
        "\n",
        "train_size = int(len(dataY) * 0.7)\n",
        "test_size = len(dataY) - train_size\n",
        "\n",
        "trainX = np.array(dataX[0:train_size])\n",
        "trainY = np.array(dataY[0:train_size])\n",
        "testX = np.array(dataX[train_size:])\n",
        "testY = np.array(dataY[train_size:])"
      ],
      "execution_count": 0,
      "outputs": []
    },
    {
      "cell_type": "code",
      "metadata": {
        "id": "9MC6zuHMckWj",
        "colab_type": "code",
        "colab": {}
      },
      "source": [
        "hidden_dim = 10\n",
        "output_dim = 1\n",
        "learning_rate = 0.01\n",
        "iterations = 500"
      ],
      "execution_count": 0,
      "outputs": []
    },
    {
      "cell_type": "markdown",
      "metadata": {
        "id": "pMPRCiUnYwDF",
        "colab_type": "text"
      },
      "source": [
        "> ### Placeholder"
      ]
    },
    {
      "cell_type": "code",
      "metadata": {
        "id": "C_8Cfi38WjhZ",
        "colab_type": "code",
        "colab": {}
      },
      "source": [
        "X = tf.placeholder(tf.float32, (None, seq_length, data_dim))  # (?, 7일, 5개 데이터(Open, High, Low, Volume, Close))\n",
        "Y = tf.placeholder(tf.float32, (None, 1))                     # 결과 비교할 것은 8일 째의 Close 가격만! == 1개"
      ],
      "execution_count": 0,
      "outputs": []
    },
    {
      "cell_type": "markdown",
      "metadata": {
        "id": "UXg4aveLY09B",
        "colab_type": "text"
      },
      "source": [
        "> ### Network, Cost, Optimize"
      ]
    },
    {
      "cell_type": "code",
      "metadata": {
        "id": "CtRR1OkuWj8R",
        "colab_type": "code",
        "colab": {
          "base_uri": "https://localhost:8080/",
          "height": 51
        },
        "outputId": "6af87b10-2cca-4279-b9a9-52f4bda9c85c"
      },
      "source": [
        "cell = tf.contrib.rnn.BasicRNNCell(num_units=hidden_dim, activation=tf.tanh)  # hidden_dim==10이므로 Hidden Layer에서 결과로 10개가 나옴. Activation Function은 tf.tanh\n",
        "# cell = tf.contrib.rnn.BasicLSTMCell(num_units=hidden_dim, state_is_tuple=True, activation=tf.tanh)\n",
        "\n",
        "outputs, _states = tf.nn.dynamic_rnn(cell, X, dtype=tf.float32) # cell = Hidden의 결과, X = input의 placeholder\n",
        "print(\"OUTPUT=\",outputs)\n",
        "print(outputs[:,-1].shape)  # 두 번째 dim의 마지막을 가져 오겠다는 것! => (?, 1, 10)\n",
        "Y_pred = tf.layers.dense(outputs[:, -1], output_dim)  # output data의 두 번째 dim의 마지막, 즉 Close자료들 -> 1개의 결과 ( output_dim == 1 )\n",
        "\n",
        "cost = tf.reduce_mean(tf.square(Y_pred - Y))  # cost function으로 mean squared error사용! 실수값을 계산하기 위하여!\n",
        "optm = tf.train.AdamOptimizer(learning_rate).minimize(cost)\n",
        "\n",
        "\n",
        "\n",
        "targets = tf.placeholder(tf.float32, [None, 1])\n",
        "predictions = tf.placeholder(tf.float32, [None, 1])\n",
        "rmse = tf.sqrt(tf.reduce_mean(tf.square(targets-predictions)))  # root(error^2) : 제곱으로 인한 뻥튀기를 비교적 Linear하도록 조정"
      ],
      "execution_count": 13,
      "outputs": [
        {
          "output_type": "stream",
          "text": [
            "OUTPUT= Tensor(\"rnn_3/transpose_1:0\", shape=(?, 7, 10), dtype=float32)\n",
            "(?, 10)\n"
          ],
          "name": "stdout"
        }
      ]
    },
    {
      "cell_type": "markdown",
      "metadata": {
        "id": "g9k1-lhwZM7r",
        "colab_type": "text"
      },
      "source": [
        "> ### Training"
      ]
    },
    {
      "cell_type": "code",
      "metadata": {
        "id": "WXFczUQLYSWz",
        "colab_type": "code",
        "colab": {
          "base_uri": "https://localhost:8080/",
          "height": 867
        },
        "outputId": "19ceb976-efcb-43ee-b216-bdc6d3b2d116"
      },
      "source": [
        "sess = tf.Session()\n",
        "init = tf.global_variables_initializer()\n",
        "sess.run(init)\n",
        "\n",
        "costs = []\n",
        "for i in range(iterations):\n",
        "    _, costval = sess.run((optm, cost), feed_dict = {X: trainX, Y: trainY})\n",
        "    costs.append(costval)\n",
        "    if i % 10 == 0:\n",
        "        print(\"[%d/%d] costval : %.4f\" % (i, iterations, costval))"
      ],
      "execution_count": 15,
      "outputs": [
        {
          "output_type": "stream",
          "text": [
            "[0/500] costval : 0.0801\n",
            "[10/500] costval : 0.0044\n",
            "[20/500] costval : 0.0031\n",
            "[30/500] costval : 0.0027\n",
            "[40/500] costval : 0.0019\n",
            "[50/500] costval : 0.0017\n",
            "[60/500] costval : 0.0016\n",
            "[70/500] costval : 0.0014\n",
            "[80/500] costval : 0.0013\n",
            "[90/500] costval : 0.0013\n",
            "[100/500] costval : 0.0012\n",
            "[110/500] costval : 0.0012\n",
            "[120/500] costval : 0.0011\n",
            "[130/500] costval : 0.0011\n",
            "[140/500] costval : 0.0011\n",
            "[150/500] costval : 0.0010\n",
            "[160/500] costval : 0.0010\n",
            "[170/500] costval : 0.0010\n",
            "[180/500] costval : 0.0010\n",
            "[190/500] costval : 0.0010\n",
            "[200/500] costval : 0.0010\n",
            "[210/500] costval : 0.0010\n",
            "[220/500] costval : 0.0010\n",
            "[230/500] costval : 0.0010\n",
            "[240/500] costval : 0.0009\n",
            "[250/500] costval : 0.0009\n",
            "[260/500] costval : 0.0009\n",
            "[270/500] costval : 0.0009\n",
            "[280/500] costval : 0.0009\n",
            "[290/500] costval : 0.0009\n",
            "[300/500] costval : 0.0009\n",
            "[310/500] costval : 0.0009\n",
            "[320/500] costval : 0.0009\n",
            "[330/500] costval : 0.0009\n",
            "[340/500] costval : 0.0009\n",
            "[350/500] costval : 0.0009\n",
            "[360/500] costval : 0.0009\n",
            "[370/500] costval : 0.0009\n",
            "[380/500] costval : 0.0009\n",
            "[390/500] costval : 0.0009\n",
            "[400/500] costval : 0.0009\n",
            "[410/500] costval : 0.0009\n",
            "[420/500] costval : 0.0009\n",
            "[430/500] costval : 0.0008\n",
            "[440/500] costval : 0.0008\n",
            "[450/500] costval : 0.0008\n",
            "[460/500] costval : 0.0008\n",
            "[470/500] costval : 0.0008\n",
            "[480/500] costval : 0.0008\n",
            "[490/500] costval : 0.0008\n"
          ],
          "name": "stdout"
        }
      ]
    },
    {
      "cell_type": "code",
      "metadata": {
        "id": "_oXENz7YYWND",
        "colab_type": "code",
        "colab": {
          "base_uri": "https://localhost:8080/",
          "height": 281
        },
        "outputId": "2ecdf7d6-9db0-44d4-cbc2-2990faddeab8"
      },
      "source": [
        "plt.figure(figsize=(10, 4))\n",
        "plt.semilogy(costs, label='With BN')\n",
        "plt.grid(True)\n",
        "plt.legend(loc='best')\n",
        "plt.title(\"Cost\")\n",
        "plt.show()"
      ],
      "execution_count": 16,
      "outputs": [
        {
          "output_type": "display_data",
          "data": {
            "image/png": "[encoded data removed]",
            "text/plain": [
              "<Figure size 720x288 with 1 Axes>"
            ]
          },
          "metadata": {
            "tags": []
          }
        }
      ]
    },
    {
      "cell_type": "markdown",
      "metadata": {
        "id": "-BkXGd7D1Iv2",
        "colab_type": "text"
      },
      "source": [
        "> ### Test"
      ]
    },
    {
      "cell_type": "code",
      "metadata": {
        "id": "G2mErxUdc55q",
        "colab_type": "code",
        "colab": {
          "base_uri": "https://localhost:8080/",
          "height": 34
        },
        "outputId": "f5729a62-aa91-4cf1-f617-d6372daa8b9c"
      },
      "source": [
        "test_predict = sess.run(Y_pred, feed_dict ={X: testX})\n",
        "rmse = sess.run(rmse, feed_dict = {targets: testY, predictions: test_predict})\n",
        "print(\"RMSE = {}\".format(rmse))"
      ],
      "execution_count": 17,
      "outputs": [
        {
          "output_type": "stream",
          "text": [
            "RMSE = 0.02500324323773384\n"
          ],
          "name": "stdout"
        }
      ]
    },
    {
      "cell_type": "code",
      "metadata": {
        "id": "Zx6P_2-vdAZR",
        "colab_type": "code",
        "colab": {
          "base_uri": "https://localhost:8080/",
          "height": 279
        },
        "outputId": "157f2570-04ac-4388-f826-30f5188ac6e0"
      },
      "source": [
        "plt.plot(testY)\n",
        "plt.plot(test_predict)\n",
        "plt.xlabel(\"Time Period\")\n",
        "plt.ylabel(\"Stock Price\")\n",
        "plt.grid(True)\n",
        "plt.show()  # 파란색: 결과 / 주황색: 예측\n",
        "            # ==> 내가 예측했던 결과들을 가지고 그것들을 입력 받아 결과치를 예측한 것이 아니라,\n",
        "            #     그거 무시하고 그 다음 날에는 그 날을 기준으로 7일 전까지의 데이터(실제)를 가지고 만들었다.\n",
        "            #     그렇기에 정답과 굉장히 유사한 결과를 예측한 것처럼 보이는 것이다!\n",
        "            #     즉, Test 방법 자체가 잘못됐다고 볼 수 있음! ㅋ RNN(현재의 입력 + 과거의 예측을 통해 미래 예측)으로 했다면, 계속 틀렸고, 그 차이가 더 커졌을 것!\n"
      ],
      "execution_count": 18,
      "outputs": [
        {
          "output_type": "display_data",
          "data": {
            "image/png": "[encoded data removed]",
            "text/plain": [
              "<Figure size 432x288 with 1 Axes>"
            ]
          },
          "metadata": {
            "tags": []
          }
        }
      ]
    },
    {
      "cell_type": "code",
      "metadata": {
        "id": "SH4qLgmB161P",
        "colab_type": "code",
        "colab": {}
      },
      "source": [
        ""
      ],
      "execution_count": 0,
      "outputs": []
    }
  ]
}