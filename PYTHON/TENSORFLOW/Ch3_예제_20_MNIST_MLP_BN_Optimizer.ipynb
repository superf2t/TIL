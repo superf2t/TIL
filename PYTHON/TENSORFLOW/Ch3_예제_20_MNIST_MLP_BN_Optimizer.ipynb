{
  "nbformat": 4,
  "nbformat_minor": 0,
  "metadata": {
    "colab": {
      "name": "Ch3_예제_20_MNIST_MLP_BN_Optimizer.ipynb",
      "provenance": [],
      "collapsed_sections": [],
      "include_colab_link": true
    },
    "kernelspec": {
      "name": "python3",
      "display_name": "Python 3"
    },
    "accelerator": "GPU"
  },
  "cells": [
    {
      "cell_type": "markdown",
      "metadata": {
        "id": "view-in-github",
        "colab_type": "text"
      },
      "source": [
        "<a href=\"https://colab.research.google.com/github/KwonYN/TIL/blob/master/PYTHON/TENSORFLOW/Ch3_%EC%98%88%EC%A0%9C_20_MNIST_MLP_BN_Optimizer.ipynb\" target=\"_parent\"><img src=\"https://colab.research.google.com/assets/colab-badge.svg\" alt=\"Open In Colab\"/></a>"
      ]
    },
    {
      "cell_type": "markdown",
      "metadata": {
        "id": "ERQax80Nl2fY",
        "colab_type": "text"
      },
      "source": [
        "# Chapter3-5. Deep Learning 기초 : Multi Layer Perceptron (MLP)"
      ]
    },
    {
      "cell_type": "markdown",
      "metadata": {
        "id": "gvu8nWycl9Qp",
        "colab_type": "text"
      },
      "source": [
        ">## [예제3-20] MNIST Classification : MLP-Batch_Normalization - Adam Optimizer"
      ]
    },
    {
      "cell_type": "markdown",
      "metadata": {
        "id": "Ba-LxKfLmGVu",
        "colab_type": "text"
      },
      "source": [
        ">### Load modules"
      ]
    },
    {
      "cell_type": "code",
      "metadata": {
        "id": "gXxAYyqxlNxp",
        "colab_type": "code",
        "colab": {
          "base_uri": "https://localhost:8080/",
          "height": 85
        },
        "outputId": "419bfc86-6228-4414-a948-b322533cef49"
      },
      "source": [
        "%tensorflow_version 1.x\n",
        "\n",
        "import numpy as np\n",
        "import tensorflow as tf\n",
        "import matplotlib.pyplot as plt\n",
        "from tensorflow.keras.datasets import mnist\n",
        "\n",
        "print(\"Module Loaded.\")\n",
        "print(\"NumPy Version :{}\".format(np.__version__))\n",
        "print(\"TensorFlow Version :{}\".format(tf.__version__))\n",
        "print(\"Matplotlib Version :{}\".format(plt.matplotlib.__version__))"
      ],
      "execution_count": 1,
      "outputs": [
        {
          "output_type": "stream",
          "text": [
            "Module Loaded.\n",
            "NumPy Version :1.17.4\n",
            "TensorFlow Version :1.15.0\n",
            "Matplotlib Version :3.1.1\n"
          ],
          "name": "stdout"
        }
      ]
    },
    {
      "cell_type": "markdown",
      "metadata": {
        "id": "9tdKm3VimauR",
        "colab_type": "text"
      },
      "source": [
        "> ### Load MNIST Data"
      ]
    },
    {
      "cell_type": "code",
      "metadata": {
        "id": "XMhaNhF0mIXK",
        "colab_type": "code",
        "colab": {
          "base_uri": "https://localhost:8080/",
          "height": 51
        },
        "outputId": "4542bfa8-ad0b-412c-979d-23e296d68699"
      },
      "source": [
        "(train_data, train_labels), (test_data, test_labels) = mnist.load_data()\n",
        "\n",
        "train_data = train_data.astype(np.float32)\n",
        "train_data = train_data / 255.0\n",
        "\n",
        "test_data = test_data.astype(np.float32)\n",
        "test_data = test_data / 255.0\n",
        "\n",
        "train_labels = train_labels.reshape((-1, 1))\n",
        "test_labels = test_labels.reshape((-1, 1))"
      ],
      "execution_count": 2,
      "outputs": [
        {
          "output_type": "stream",
          "text": [
            "Downloading data from https://storage.googleapis.com/tensorflow/tf-keras-datasets/mnist.npz\n",
            "11493376/11490434 [==============================] - 0s 0us/step\n"
          ],
          "name": "stdout"
        }
      ]
    },
    {
      "cell_type": "markdown",
      "metadata": {
        "id": "mgFlDyu-mgHN",
        "colab_type": "text"
      },
      "source": [
        "> ### Placeholder"
      ]
    },
    {
      "cell_type": "code",
      "metadata": {
        "id": "Vse7W7x7mh8D",
        "colab_type": "code",
        "colab": {}
      },
      "source": [
        "x_ph = tf.placeholder(tf.float32, shape=(None, 28, 28), name = \"input\")\n",
        "labels_ph = tf.placeholder(tf.int32, shape=(None,1), name=\"labels\")"
      ],
      "execution_count": 0,
      "outputs": []
    },
    {
      "cell_type": "markdown",
      "metadata": {
        "id": "M7v1V11kmrRz",
        "colab_type": "text"
      },
      "source": [
        ">### Hypothesis, Cost, Optimizer\n"
      ]
    },
    {
      "cell_type": "code",
      "metadata": {
        "id": "9gk1hqtjmhyb",
        "colab_type": "code",
        "colab": {
          "base_uri": "https://localhost:8080/",
          "height": 241
        },
        "outputId": "17e22934-e5e3-4162-b567-de6c0cd9a4d9"
      },
      "source": [
        "categories = 10\n",
        "learning_rate = 0.001\n",
        "\n",
        "x_flatten = tf.layers.flatten(x_ph)\n",
        "layer1 = tf.layers.dense(x_flatten, 256, activation=tf.nn.sigmoid, kernel_initializer=tf.glorot_uniform_initializer, bias_initializer=tf.glorot_uniform_initializer)\n",
        "layer1_bn = tf.layers.batch_normalization(layer1)\n",
        "layer2 = tf.layers.dense(layer1_bn, 256, activation=tf.nn.sigmoid, kernel_initializer=tf.glorot_uniform_initializer, bias_initializer=tf.glorot_uniform_initializer)\n",
        "layer2_bn = tf.layers.batch_normalization(layer2)\n",
        "layer3_logits = tf.layers.dense(layer2_bn, categories, kernel_initializer=tf.glorot_uniform_initializer, bias_initializer=tf.glorot_uniform_initializer)\n",
        "hypothesis = tf.nn.softmax(layer3_logits)\n",
        "\n",
        "labels_oh = tf.one_hot(labels_ph, categories)\n",
        "cost = tf.reduce_mean(tf.nn.softmax_cross_entropy_with_logits_v2(labels_oh, layer3_logits))\n",
        "optimizer = tf.train.AdamOptimizer(learning_rate)\n",
        "train = optimizer.minimize(cost)"
      ],
      "execution_count": 4,
      "outputs": [
        {
          "output_type": "stream",
          "text": [
            "WARNING:tensorflow:From <ipython-input-4-db242d941b77>:4: flatten (from tensorflow.python.layers.core) is deprecated and will be removed in a future version.\n",
            "Instructions for updating:\n",
            "Use keras.layers.flatten instead.\n",
            "WARNING:tensorflow:From /usr/local/lib/python3.6/dist-packages/tensorflow_core/python/layers/core.py:332: Layer.apply (from tensorflow.python.keras.engine.base_layer) is deprecated and will be removed in a future version.\n",
            "Instructions for updating:\n",
            "Please use `layer.__call__` method instead.\n",
            "WARNING:tensorflow:From <ipython-input-4-db242d941b77>:5: dense (from tensorflow.python.layers.core) is deprecated and will be removed in a future version.\n",
            "Instructions for updating:\n",
            "Use keras.layers.Dense instead.\n",
            "WARNING:tensorflow:From <ipython-input-4-db242d941b77>:6: batch_normalization (from tensorflow.python.layers.normalization) is deprecated and will be removed in a future version.\n",
            "Instructions for updating:\n",
            "Use keras.layers.BatchNormalization instead.  In particular, `tf.control_dependencies(tf.GraphKeys.UPDATE_OPS)` should not be used (consult the `tf.keras.layers.batch_normalization` documentation).\n"
          ],
          "name": "stdout"
        }
      ]
    },
    {
      "cell_type": "markdown",
      "metadata": {
        "id": "NXTYroJlnZzc",
        "colab_type": "text"
      },
      "source": [
        ">### Mini-Batch 관련"
      ]
    },
    {
      "cell_type": "code",
      "metadata": {
        "id": "dT7MkX6NDE9Q",
        "colab_type": "code",
        "colab": {}
      },
      "source": [
        "N_epoch = 100\n",
        "batch_size = 100\n",
        "train_data_size = train_data.shape\n",
        "batch_count = train_data_size[0] //batch_size"
      ],
      "execution_count": 0,
      "outputs": []
    },
    {
      "cell_type": "markdown",
      "metadata": {
        "id": "Odw3CRkBDNmQ",
        "colab_type": "text"
      },
      "source": [
        ">### Accuracy"
      ]
    },
    {
      "cell_type": "code",
      "metadata": {
        "id": "w1mBO7zSnaVz",
        "colab_type": "code",
        "colab": {}
      },
      "source": [
        "def Accuracy(y:np.ndarray, t:np.ndarray)->np.float32:\n",
        "    return np.mean(np.equal(np.argmax(y, axis=1).reshape((-1, 1)),t).astype(np.float32))"
      ],
      "execution_count": 0,
      "outputs": []
    },
    {
      "cell_type": "markdown",
      "metadata": {
        "id": "iYroAqw9N8ZP",
        "colab_type": "text"
      },
      "source": [
        ">### 결과 출력을 위한 함수"
      ]
    },
    {
      "cell_type": "code",
      "metadata": {
        "id": "k-bIPKAdN8Mu",
        "colab_type": "code",
        "colab": {}
      },
      "source": [
        "def Make_Result_Plot(suptitle:str, data:np.ndarray, label:np.ndarray, y_max:np.ndarray):\n",
        "    fig_result, ax_result = plt.subplots(2,5,figsize=(18, 7))\n",
        "    fig_result.suptitle(suptitle)\n",
        "    for idx in range(10):\n",
        "        ax_result[idx//5][idx%5].imshow(data[idx].reshape((28,28)),cmap=\"binary\")\n",
        "        ax_result[idx//5][idx%5].set_title(\"test_data[{}] (label : {} / y : {})\".format(idx, label[idx], y_max[idx]))"
      ],
      "execution_count": 0,
      "outputs": []
    },
    {
      "cell_type": "markdown",
      "metadata": {
        "id": "Csh_RwwRTQ1Q",
        "colab_type": "text"
      },
      "source": [
        "> ### Training 준비"
      ]
    },
    {
      "cell_type": "code",
      "metadata": {
        "id": "EmmynBowTQQS",
        "colab_type": "code",
        "colab": {
          "base_uri": "https://localhost:8080/",
          "height": 479
        },
        "outputId": "b49ebecd-e379-49ee-c11a-868a583bd919"
      },
      "source": [
        "arr_epoch = []\n",
        "arr_accu = []\n",
        "\n",
        "# 학습 (Training)\n",
        "sess = tf.Session()\n",
        "sess.run(tf.global_variables_initializer())\n",
        "\n",
        "train_data_idx = np.arange(train_data_size[0])\n",
        "\n",
        "y_out = sess.run(hypothesis, feed_dict={x_ph: test_data})\n",
        "y_max = np.argmax(y_out, axis=1).reshape((-1, 1))\n",
        "Make_Result_Plot(\"Before Training\", test_data, test_labels, y_max)\n",
        "\n",
        "accu = Accuracy(y_out,test_labels)\n",
        "arr_epoch.append(0)\n",
        "arr_accu.append(accu)"
      ],
      "execution_count": 8,
      "outputs": [
        {
          "output_type": "display_data",
          "data": {
            "image/png": "[encoded data removed]",
            "text/plain": [
              "<Figure size 1296x504 with 10 Axes>"
            ]
          },
          "metadata": {
            "tags": []
          }
        }
      ]
    },
    {
      "cell_type": "markdown",
      "metadata": {
        "id": "7dhfsRZQnm-C",
        "colab_type": "text"
      },
      "source": [
        "> ### 학습 (Training)"
      ]
    },
    {
      "cell_type": "code",
      "metadata": {
        "id": "i-3I0oV_nnYc",
        "colab_type": "code",
        "colab": {
          "base_uri": "https://localhost:8080/",
          "height": 1000
        },
        "outputId": "9b9ba75c-df88-4d1a-cac9-e7822b30f267"
      },
      "source": [
        "%%time\n",
        "for epoch_idx in range(1, N_epoch+1):\n",
        "    np.random.shuffle(train_data_idx)\n",
        "    for batch_idx in range(batch_count):\n",
        "        batch_data = np.array([train_data[train_data_idx[batch_idx * batch_size + idx]] for idx in range(batch_size)])\n",
        "        batch_labels = np.array([train_labels[train_data_idx[batch_idx * batch_size + idx]] for idx in range(batch_size)])\n",
        "        sess.run(train, feed_dict={x_ph: batch_data, labels_ph: batch_labels})\n",
        "    if epoch_idx%1 == 0:\n",
        "        y_out = sess.run(hypothesis, feed_dict={x_ph: test_data})\n",
        "        accu = Accuracy(y_out,test_labels)\n",
        "        print(\"[{:>5}] accuracy = {:>10.4}\".format(epoch_idx,accu))\n",
        "        arr_epoch.append(epoch_idx)\n",
        "        arr_accu.append(accu)"
      ],
      "execution_count": 9,
      "outputs": [
        {
          "output_type": "stream",
          "text": [
            "[    1] accuracy =     0.9272\n",
            "[    2] accuracy =     0.9458\n",
            "[    3] accuracy =     0.9628\n",
            "[    4] accuracy =     0.9647\n",
            "[    5] accuracy =     0.9721\n",
            "[    6] accuracy =     0.9747\n",
            "[    7] accuracy =      0.975\n",
            "[    8] accuracy =     0.9768\n",
            "[    9] accuracy =     0.9763\n",
            "[   10] accuracy =     0.9768\n",
            "[   11] accuracy =      0.978\n",
            "[   12] accuracy =     0.9784\n",
            "[   13] accuracy =     0.9789\n",
            "[   14] accuracy =     0.9788\n",
            "[   15] accuracy =     0.9751\n",
            "[   16] accuracy =     0.9759\n",
            "[   17] accuracy =     0.9802\n",
            "[   18] accuracy =     0.9802\n",
            "[   19] accuracy =     0.9805\n",
            "[   20] accuracy =     0.9796\n",
            "[   21] accuracy =     0.9793\n",
            "[   22] accuracy =     0.9778\n",
            "[   23] accuracy =     0.9788\n",
            "[   24] accuracy =     0.9808\n",
            "[   25] accuracy =     0.9801\n",
            "[   26] accuracy =     0.9755\n",
            "[   27] accuracy =     0.9799\n",
            "[   28] accuracy =     0.9819\n",
            "[   29] accuracy =     0.9771\n",
            "[   30] accuracy =     0.9788\n",
            "[   31] accuracy =     0.9797\n",
            "[   32] accuracy =     0.9822\n",
            "[   33] accuracy =     0.9832\n",
            "[   34] accuracy =     0.9826\n",
            "[   35] accuracy =     0.9825\n",
            "[   36] accuracy =     0.9829\n",
            "[   37] accuracy =     0.9831\n",
            "[   38] accuracy =     0.9827\n",
            "[   39] accuracy =     0.9827\n",
            "[   40] accuracy =     0.9779\n",
            "[   41] accuracy =     0.9812\n",
            "[   42] accuracy =     0.9832\n",
            "[   43] accuracy =     0.9836\n",
            "[   44] accuracy =     0.9838\n",
            "[   45] accuracy =     0.9841\n",
            "[   46] accuracy =     0.9842\n",
            "[   47] accuracy =     0.9839\n",
            "[   48] accuracy =     0.9837\n",
            "[   49] accuracy =     0.9837\n",
            "[   50] accuracy =      0.984\n",
            "[   51] accuracy =     0.9839\n",
            "[   52] accuracy =     0.9842\n",
            "[   53] accuracy =      0.984\n",
            "[   54] accuracy =     0.9833\n",
            "[   55] accuracy =     0.9787\n",
            "[   56] accuracy =     0.9808\n",
            "[   57] accuracy =     0.9824\n",
            "[   58] accuracy =      0.983\n",
            "[   59] accuracy =     0.9832\n",
            "[   60] accuracy =     0.9834\n",
            "[   61] accuracy =      0.983\n",
            "[   62] accuracy =     0.9838\n",
            "[   63] accuracy =     0.9831\n",
            "[   64] accuracy =     0.9834\n",
            "[   65] accuracy =     0.9835\n",
            "[   66] accuracy =     0.9833\n",
            "[   67] accuracy =     0.9834\n",
            "[   68] accuracy =     0.9832\n",
            "[   69] accuracy =     0.9829\n",
            "[   70] accuracy =      0.983\n",
            "[   71] accuracy =     0.9832\n",
            "[   72] accuracy =     0.9829\n",
            "[   73] accuracy =     0.9834\n",
            "[   74] accuracy =     0.9831\n",
            "[   75] accuracy =     0.9828\n",
            "[   76] accuracy =      0.983\n",
            "[   77] accuracy =     0.9829\n",
            "[   78] accuracy =      0.983\n",
            "[   79] accuracy =     0.9831\n",
            "[   80] accuracy =     0.9829\n",
            "[   81] accuracy =     0.9831\n",
            "[   82] accuracy =     0.9826\n",
            "[   83] accuracy =     0.9829\n",
            "[   84] accuracy =     0.9827\n",
            "[   85] accuracy =     0.9826\n",
            "[   86] accuracy =      0.983\n",
            "[   87] accuracy =     0.9829\n",
            "[   88] accuracy =     0.9829\n",
            "[   89] accuracy =     0.9824\n",
            "[   90] accuracy =     0.9826\n",
            "[   91] accuracy =      0.983\n",
            "[   92] accuracy =     0.9829\n",
            "[   93] accuracy =     0.9832\n",
            "[   94] accuracy =     0.9831\n",
            "[   95] accuracy =     0.9829\n",
            "[   96] accuracy =      0.983\n",
            "[   97] accuracy =     0.9829\n",
            "[   98] accuracy =     0.9829\n",
            "[   99] accuracy =     0.9827\n",
            "[  100] accuracy =     0.9829\n",
            "CPU times: user 2min 23s, sys: 11.2 s, total: 2min 34s\n",
            "Wall time: 2min 6s\n"
          ],
          "name": "stdout"
        }
      ]
    },
    {
      "cell_type": "markdown",
      "metadata": {
        "id": "QFnQH9uDgQjA",
        "colab_type": "text"
      },
      "source": [
        "> ### Ploting : Cost/Training Count"
      ]
    },
    {
      "cell_type": "code",
      "metadata": {
        "id": "iA_PjWijgQZp",
        "colab_type": "code",
        "colab": {
          "base_uri": "https://localhost:8080/",
          "height": 298
        },
        "outputId": "4b2c7f18-86b9-4aac-db99-838008f2de3f"
      },
      "source": [
        "# Plot : Accuracy / Epoch\n",
        "fig_accu, ax_accu = plt.subplots()\n",
        "ax_accu.plot(arr_epoch, arr_accu)\n",
        "ax_accu.set_title(\"Accuracy / Epoch (MLP, Adam Optimizer)\")\n",
        "ax_accu.grid(True)\n",
        "ax_accu.set_ylim(0,1.1)"
      ],
      "execution_count": 10,
      "outputs": [
        {
          "output_type": "execute_result",
          "data": {
            "text/plain": [
              "(0, 1.1)"
            ]
          },
          "metadata": {
            "tags": []
          },
          "execution_count": 10
        },
        {
          "output_type": "display_data",
          "data": {
            "image/png": "[encoded data removed]",
            "text/plain": [
              "<Figure size 432x288 with 1 Axes>"
            ]
          },
          "metadata": {
            "tags": []
          }
        }
      ]
    },
    {
      "cell_type": "markdown",
      "metadata": {
        "id": "MGGEVBPcTyUa",
        "colab_type": "text"
      },
      "source": [
        "> ### Training 이후"
      ]
    },
    {
      "cell_type": "code",
      "metadata": {
        "id": "2x-EJKJhTzqe",
        "colab_type": "code",
        "colab": {
          "base_uri": "https://localhost:8080/",
          "height": 479
        },
        "outputId": "f652bc59-e655-4897-e402-bb2542518c43"
      },
      "source": [
        "y_out = sess.run(hypothesis, feed_dict={x_ph: test_data})\n",
        "y_max = np.argmax(y_out, axis=1).reshape((-1, 1))\n",
        "Make_Result_Plot(\"After Training\", test_data, test_labels, y_max)"
      ],
      "execution_count": 11,
      "outputs": [
        {
          "output_type": "display_data",
          "data": {
            "image/png": "[encoded data removed]",
            "text/plain": [
              "<Figure size 1296x504 with 10 Axes>"
            ]
          },
          "metadata": {
            "tags": []
          }
        }
      ]
    }
  ]
}